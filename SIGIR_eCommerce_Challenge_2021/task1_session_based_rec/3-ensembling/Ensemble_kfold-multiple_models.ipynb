{
 "cells": [
  {
   "cell_type": "code",
   "execution_count": null,
   "id": "ebb5a73b",
   "metadata": {},
   "outputs": [],
   "source": [
    "#\n",
    "# The MIT License (MIT)\n",
    "\n",
    "# Copyright (c) 2021, NVIDIA CORPORATION\n",
    "\n",
    "# Permission is hereby granted, free of charge, to any person obtaining a copy of\n",
    "# this software and associated documentation files (the \"Software\"), to deal in\n",
    "# the Software without restriction, including without limitation the rights to\n",
    "# use, copy, modify, merge, publish, distribute, sublicense, and/or sell copies of\n",
    "# the Software, and to permit persons to whom the Software is furnished to do so,\n",
    "# subject to the following conditions:\n",
    "\n",
    "# The above copyright notice and this permission notice shall be included in all\n",
    "# copies or substantial portions of the Software.\n",
    "\n",
    "# THE SOFTWARE IS PROVIDED \"AS IS\", WITHOUT WARRANTY OF ANY KIND, EXPRESS OR\n",
    "# IMPLIED, INCLUDING BUT NOT LIMITED TO THE WARRANTIES OF MERCHANTABILITY, FITNESS\n",
    "# FOR A PARTICULAR PURPOSE AND NONINFRINGEMENT. IN NO EVENT SHALL THE AUTHORS OR\n",
    "# COPYRIGHT HOLDERS BE LIABLE FOR ANY CLAIM, DAMAGES OR OTHER LIABILITY, WHETHER\n",
    "# IN AN ACTION OF CONTRACT, TORT OR OTHERWISE, ARISING FROM, OUT OF OR IN\n",
    "# CONNECTION WITH THE SOFTWARE OR THE USE OR OTHER DEALINGS IN THE SOFTWARE.\n",
    "#"
   ]
  },
  {
   "cell_type": "code",
   "execution_count": 1,
   "id": "4929008e",
   "metadata": {},
   "outputs": [],
   "source": [
    "import os\n",
    "import pandas as pd\n",
    "import json\n",
    "from tqdm import tqdm\n",
    "import time\n",
    "import numpy as np\n",
    "import glob\n",
    "import gc\n",
    "import cudf"
   ]
  },
  {
   "cell_type": "code",
   "execution_count": 2,
   "id": "b13a456a",
   "metadata": {},
   "outputs": [],
   "source": [
    "from dask.distributed import Client, wait\n",
    "from dask_cuda import LocalCUDACluster\n",
    "import dask as dask, dask_cudf\n",
    "import rmm\n",
    "from numba import cuda\n",
    "import shutil"
   ]
  },
  {
   "cell_type": "code",
   "execution_count": 3,
   "id": "e06fa1fa",
   "metadata": {},
   "outputs": [],
   "source": [
    "DATA_PATH = '/workspace'\n",
    "PREDS_DOWNLOAD_PATH = \"/workspace/models_predictions/\""
   ]
  },
  {
   "cell_type": "markdown",
   "id": "afe72f25",
   "metadata": {},
   "source": [
    "### Auxiliary functions"
   ]
  },
  {
   "cell_type": "code",
   "execution_count": 4,
   "id": "61907519",
   "metadata": {},
   "outputs": [],
   "source": [
    "def softmax(x):\n",
    "    \"\"\"Compute softmax values for each sets of scores in x.\"\"\"\n",
    "    e_x = np.exp(x - np.max(x))\n",
    "    return e_x / e_x.sum()"
   ]
  },
  {
   "cell_type": "code",
   "execution_count": 5,
   "id": "8b876e39",
   "metadata": {},
   "outputs": [],
   "source": [
    "def save_exploded_predictions(base_path, preds_fname, output_folder):\n",
    "    pred_files_paths = sorted(list(set([f.replace(base_path, '') for f in glob.iglob(base_path + '**/**', recursive=True) if f.endswith(preds_fname)])))\n",
    "    print('Files to process:')\n",
    "    for f in pred_files_paths:\n",
    "        print(f)\n",
    "        \n",
    "    print()    \n",
    "    print('Start processing files...')\n",
    "    \n",
    "    \n",
    "    for path in pred_files_paths:  \n",
    "\n",
    "        print('Processing: ', path)\n",
    "        algo, jobid, bag, fold, _ = path.split('/')\n",
    "        df = pd.read_parquet(os.path.join(base_path, path), \n",
    "                             columns=['session_id_hash', 'pred_item_ids', 'pred_item_logits'])\n",
    "        print('Sessions', len(df))\n",
    "\n",
    "        print('Min preds length: ', df['pred_item_logits'].apply(len).min())        \n",
    "        #Fixing cases where predictions length is 0 with a dummy prediction with 0 weight\n",
    "        df['pred_item_ids'] = df['pred_item_ids'].apply(lambda x: x if len(x) > 0 else [0])\n",
    "        #Apply softmax and weight by the log2(seq_len), as the softmax for shorter list of predictions is much higher\n",
    "        df['pred_item_probs'] = df['pred_item_logits'].apply(lambda x: softmax(x)*np.log2(len(x)) if len(x) > 0 else [0.])        \n",
    "        \n",
    "        #Exploding session predictions\n",
    "        df = (df.set_index('session_id_hash')[['pred_item_ids', 'pred_item_probs']] \n",
    "                  .apply(lambda x: x.apply(pd.Series).stack())\n",
    "                  .reset_index()\n",
    "                  .drop('level_1', 1))\n",
    "\n",
    "        df['algorithm'] = algo\n",
    "        df['jobid'] = jobid\n",
    "        bag = int(bag.split('_')[1])\n",
    "        df['bag'] = bag\n",
    "        fold = int(fold.split('_')[1])\n",
    "        df['fold'] = fold\n",
    "\n",
    "        print('Predictions', len(df))        \n",
    "        output_file_path = os.path.join(output_folder, f'preds_exploded_{algo}_bag-{bag}_fold-{fold}.parquet')\n",
    "        print('Saving to', output_file_path)\n",
    "        df.to_parquet(output_file_path, row_group_size=10000)\n",
    "        print()"
   ]
  },
  {
   "cell_type": "code",
   "execution_count": 6,
   "id": "47ac063e",
   "metadata": {},
   "outputs": [],
   "source": [
    "def ensemble_preds(df, alg_weights_df, group_by_fold):\n",
    "    group_cols = ['session_id_hash', 'pred_item_ids']\n",
    "    if group_by_fold:\n",
    "        group_cols.append('fold')\n",
    "    merged_df = df.merge(alg_weights_df, on='algorithm')\n",
    "    merged_df['pred_item_scores_weighted'] = merged_df['pred_item_probs'] * merged_df['alg_weight']\n",
    "    pred_scores_summed_df = merged_df \\\n",
    "        .groupby(group_cols)['pred_item_scores_weighted'].sum().reset_index()     \n",
    "    return pred_scores_summed_df"
   ]
  },
  {
   "cell_type": "code",
   "execution_count": 7,
   "id": "847b2ede",
   "metadata": {},
   "outputs": [],
   "source": [
    "def group_ensembled_session_preds(df, group_by_fold):\n",
    "    group_cols = ['session_id_hash']\n",
    "    if group_by_fold:\n",
    "        group_cols.append('fold')\n",
    "    df = df.sort_values(['session_id_hash', 'pred_item_scores_weighted'], ascending=False)\n",
    "    df = df.groupby(group_cols) \\\n",
    "            .agg({'pred_item_ids': list, 'pred_item_scores_weighted': list}).reset_index()\n",
    "    return df"
   ]
  },
  {
   "cell_type": "code",
   "execution_count": 8,
   "id": "68b9fb4f",
   "metadata": {},
   "outputs": [
    {
     "data": {
      "text/html": [
       "<div>\n",
       "<style scoped>\n",
       "    .dataframe tbody tr th:only-of-type {\n",
       "        vertical-align: middle;\n",
       "    }\n",
       "\n",
       "    .dataframe tbody tr th {\n",
       "        vertical-align: top;\n",
       "    }\n",
       "\n",
       "    .dataframe thead th {\n",
       "        text-align: right;\n",
       "    }\n",
       "</style>\n",
       "<table border=\"1\" class=\"dataframe\">\n",
       "  <thead>\n",
       "    <tr style=\"text-align: right;\">\n",
       "      <th></th>\n",
       "      <th>algorithm</th>\n",
       "      <th>alg_weight</th>\n",
       "    </tr>\n",
       "  </thead>\n",
       "  <tbody>\n",
       "    <tr>\n",
       "      <th>0</th>\n",
       "      <td>xlnet</td>\n",
       "      <td>0.60</td>\n",
       "    </tr>\n",
       "    <tr>\n",
       "      <th>1</th>\n",
       "      <td>xlnet_freqcap</td>\n",
       "      <td>0.55</td>\n",
       "    </tr>\n",
       "    <tr>\n",
       "      <th>2</th>\n",
       "      <td>xlnet_search</td>\n",
       "      <td>0.50</td>\n",
       "    </tr>\n",
       "    <tr>\n",
       "      <th>3</th>\n",
       "      <td>transfoxl</td>\n",
       "      <td>0.25</td>\n",
       "    </tr>\n",
       "    <tr>\n",
       "      <th>4</th>\n",
       "      <td>xlnet_freqcap_m2</td>\n",
       "      <td>0.85</td>\n",
       "    </tr>\n",
       "    <tr>\n",
       "      <th>5</th>\n",
       "      <td>xlnet_freqcap_m3</td>\n",
       "      <td>0.65</td>\n",
       "    </tr>\n",
       "    <tr>\n",
       "      <th>6</th>\n",
       "      <td>xlnet_m2</td>\n",
       "      <td>0.95</td>\n",
       "    </tr>\n",
       "    <tr>\n",
       "      <th>7</th>\n",
       "      <td>xlnet_m3</td>\n",
       "      <td>0.80</td>\n",
       "    </tr>\n",
       "    <tr>\n",
       "      <th>8</th>\n",
       "      <td>xlnet_search_m2</td>\n",
       "      <td>1.00</td>\n",
       "    </tr>\n",
       "    <tr>\n",
       "      <th>9</th>\n",
       "      <td>xlnet_search_m3</td>\n",
       "      <td>0.75</td>\n",
       "    </tr>\n",
       "    <tr>\n",
       "      <th>10</th>\n",
       "      <td>transfoxl_m2</td>\n",
       "      <td>0.35</td>\n",
       "    </tr>\n",
       "    <tr>\n",
       "      <th>11</th>\n",
       "      <td>transfoxl_m3</td>\n",
       "      <td>0.30</td>\n",
       "    </tr>\n",
       "  </tbody>\n",
       "</table>\n",
       "</div>"
      ],
      "text/plain": [
       "           algorithm  alg_weight\n",
       "0              xlnet        0.60\n",
       "1      xlnet_freqcap        0.55\n",
       "2       xlnet_search        0.50\n",
       "3          transfoxl        0.25\n",
       "4   xlnet_freqcap_m2        0.85\n",
       "5   xlnet_freqcap_m3        0.65\n",
       "6           xlnet_m2        0.95\n",
       "7           xlnet_m3        0.80\n",
       "8    xlnet_search_m2        1.00\n",
       "9    xlnet_search_m3        0.75\n",
       "10      transfoxl_m2        0.35\n",
       "11      transfoxl_m3        0.30"
      ]
     },
     "execution_count": 8,
     "metadata": {},
     "output_type": "execute_result"
    }
   ],
   "source": [
    "WEIGHT_ALGORITHMS = [\n",
    "    #Ensembling v1\n",
    "    ('xlnet', 0.6),\n",
    "    ('xlnet_freqcap', 0.55),\n",
    "    ('xlnet_search', 0.50),\n",
    "    ('transfoxl', 0.25),\n",
    "    #Ensembling v2\n",
    "    ('xlnet_freqcap_m2', 0.85),\n",
    "    ('xlnet_freqcap_m3', 0.65),\n",
    "    ('xlnet_m2', 0.95),\n",
    "    ('xlnet_m3', 0.80),\n",
    "    ('xlnet_search_m2', 1.0),\n",
    "    ('xlnet_search_m3', 0.75),\n",
    "    ('transfoxl_m2', 0.35),\n",
    "    ('transfoxl_m3', 0.30),\n",
    "]\n",
    "alg_weights_df = cudf.DataFrame(WEIGHT_ALGORITHMS, columns=['algorithm', 'alg_weight'])\n",
    "alg_weights_df"
   ]
  },
  {
   "cell_type": "markdown",
   "id": "6cf75641",
   "metadata": {},
   "source": [
    "## Setup GPUs"
   ]
  },
  {
   "cell_type": "code",
   "execution_count": 9,
   "id": "54736f78",
   "metadata": {},
   "outputs": [],
   "source": [
    "CUDA_VISIBLE_DEVICES=\"0,1\"\n",
    "# Max percentage of GPU memory usage. You may want to reduce this limit to a more conservative percentage if you have issues\n",
    "CUDA_SPILL_LIMIT_PERC = 0.6 "
   ]
  },
  {
   "cell_type": "code",
   "execution_count": 10,
   "id": "808b6b73",
   "metadata": {},
   "outputs": [],
   "source": [
    "os.environ[\"CUDA_VISIBLE_DEVICES\"]=CUDA_VISIBLE_DEVICES"
   ]
  },
  {
   "cell_type": "code",
   "execution_count": 11,
   "id": "c70bcf08",
   "metadata": {},
   "outputs": [
    {
     "name": "stdout",
     "output_type": "stream",
     "text": [
      "Dask dir: /tmp/dask-workdir\n"
     ]
    }
   ],
   "source": [
    "#Uses a RAID folder if it is available (DGX), if not it uses the /tmp folder for DASK workspace\n",
    "if os.path.exists('/raid'):\n",
    "    local_directory = '/raid'\n",
    "else:    \n",
    "    local_directory = '/tmp'\n",
    "    \n",
    "dask_workdir = os.path.join(local_directory, 'dask-workdir')    \n",
    "print('Dask dir:', dask_workdir)"
   ]
  },
  {
   "cell_type": "code",
   "execution_count": 12,
   "id": "ad8cc3a1",
   "metadata": {},
   "outputs": [],
   "source": [
    "# Make sure we have a clean worker space for Dask\n",
    "if os.path.isdir(dask_workdir):\n",
    "    shutil.rmtree(dask_workdir)\n",
    "os.mkdir(dask_workdir)"
   ]
  },
  {
   "cell_type": "code",
   "execution_count": 13,
   "id": "f5a84093",
   "metadata": {},
   "outputs": [
    {
     "data": {
      "text/plain": [
       "20447074713.6"
      ]
     },
     "execution_count": 13,
     "metadata": {},
     "output_type": "execute_result"
    }
   ],
   "source": [
    "def _pynvml_mem_size(kind=\"total\", index=0):\n",
    "    import pynvml\n",
    "\n",
    "    pynvml.nvmlInit()\n",
    "    size = None\n",
    "    if kind == \"free\":\n",
    "        size = int(pynvml.nvmlDeviceGetMemoryInfo(pynvml.nvmlDeviceGetHandleByIndex(index)).free)\n",
    "    elif kind == \"total\":\n",
    "        size = int(pynvml.nvmlDeviceGetMemoryInfo(pynvml.nvmlDeviceGetHandleByIndex(index)).total)\n",
    "    else:\n",
    "        raise ValueError(\"{0} not a supported option for device_mem_size.\".format(kind))\n",
    "    pynvml.nvmlShutdown()\n",
    "    return size\n",
    "\n",
    "\n",
    "def device_mem_size(kind=\"total\"):\n",
    "    if kind not in [\"free\", \"total\"]:\n",
    "        raise ValueError(\"{0} not a supported option for device_mem_size.\".format(kind))\n",
    "    try:\n",
    "        if kind == \"free\":\n",
    "            return int(cuda.current_context().get_memory_info()[0])\n",
    "        else:\n",
    "            return int(cuda.current_context().get_memory_info()[1])\n",
    "    except NotImplementedError:\n",
    "        if kind == \"free\":\n",
    "            # Not using NVML \"free\" memory, because it will not include RMM-managed memory\n",
    "            warnings.warn(\"get_memory_info is not supported. Using total device memory from NVML.\")\n",
    "        size = _pynvml_mem_size(kind=\"total\", index=0)\n",
    "    return size\n",
    "\n",
    "\n",
    "def get_rmm_size(size):\n",
    "    return (size // 256) * 256\n",
    "\n",
    "spill_limit = device_mem_size(kind=\"total\") * CUDA_SPILL_LIMIT_PERC # Spill device mem to host at this limit\n",
    "spill_limit"
   ]
  },
  {
   "cell_type": "code",
   "execution_count": 14,
   "id": "cd286bcb",
   "metadata": {},
   "outputs": [],
   "source": [
    "cluster = LocalCUDACluster(dashboard_address=':7000',\n",
    "                           local_directory = dask_workdir,\n",
    "                           device_memory_limit = spill_limit)\n",
    "client = Client(cluster)"
   ]
  },
  {
   "cell_type": "code",
   "execution_count": 15,
   "id": "bae43721",
   "metadata": {},
   "outputs": [
    {
     "data": {
      "text/html": [
       "<table style=\"border: 2px solid white;\">\n",
       "<tr>\n",
       "<td style=\"vertical-align: top; border: 0px solid white\">\n",
       "<h3 style=\"text-align: left;\">Client</h3>\n",
       "<ul style=\"text-align: left; list-style: none; margin: 0; padding: 0;\">\n",
       "  <li><b>Scheduler: </b>tcp://127.0.0.1:44737</li>\n",
       "  <li><b>Dashboard: </b><a href='http://127.0.0.1:7000/status' target='_blank'>http://127.0.0.1:7000/status</a></li>\n",
       "</ul>\n",
       "</td>\n",
       "<td style=\"vertical-align: top; border: 0px solid white\">\n",
       "<h3 style=\"text-align: left;\">Cluster</h3>\n",
       "<ul style=\"text-align: left; list-style:none; margin: 0; padding: 0;\">\n",
       "  <li><b>Workers: </b>2</li>\n",
       "  <li><b>Cores: </b>2</li>\n",
       "  <li><b>Memory: </b>45.79 GiB</li>\n",
       "</ul>\n",
       "</td>\n",
       "</tr>\n",
       "</table>"
      ],
      "text/plain": [
       "<Client: 'tcp://127.0.0.1:44737' processes=2 threads=2, memory=45.79 GiB>"
      ]
     },
     "execution_count": 15,
     "metadata": {},
     "output_type": "execute_result"
    }
   ],
   "source": [
    "# Initialize RMM pool on ALL workers\n",
    "def _rmm_pool():\n",
    "    rmm.reinitialize(\n",
    "        pool_allocator=True,\n",
    "        initial_pool_size=None, # Use default size\n",
    "    )\n",
    "client.run(_rmm_pool)\n",
    "client"
   ]
  },
  {
   "cell_type": "markdown",
   "id": "d52cb322",
   "metadata": {},
   "source": [
    "# Ensemble Evaluation"
   ]
  },
  {
   "cell_type": "code",
   "execution_count": null,
   "id": "2fb4350a",
   "metadata": {},
   "outputs": [],
   "source": [
    "VALID_FILENAME = 'valid_eval_predictions.parquet'\n",
    "FOR_EVAL_FOLDER = os.path.join(PREDS_DOWNLOAD_PATH, 'for_eval/tuned/')\n",
    "FOR_EVAL_FOLDER"
   ]
  },
  {
   "cell_type": "code",
   "execution_count": null,
   "id": "0b83b450",
   "metadata": {},
   "outputs": [],
   "source": [
    "FOR_EVAL_OUTPUT_FOLDER = os.path.join(FOR_EVAL_FOLDER, '_ensemble_outputs')\n",
    "FOR_EVAL_OUTPUT_FOLDER"
   ]
  },
  {
   "cell_type": "code",
   "execution_count": null,
   "id": "b524a672",
   "metadata": {},
   "outputs": [],
   "source": [
    "EVAL_PREDS_EXPLODED = os.path.join(FOR_EVAL_OUTPUT_FOLDER, 'session_preds_exploded')\n",
    "os.makedirs(EVAL_PREDS_EXPLODED, exist_ok=True)\n",
    "EVAL_PREDS_EXPLODED"
   ]
  },
  {
   "cell_type": "code",
   "execution_count": null,
   "id": "ae1f26a3",
   "metadata": {},
   "outputs": [],
   "source": [
    "EVAL_PREDS_SCORED = os.path.join(FOR_EVAL_OUTPUT_FOLDER, 'session_pred_scored')\n",
    "EVAL_PREDS_SCORED"
   ]
  },
  {
   "cell_type": "code",
   "execution_count": 61,
   "id": "57adf1c2",
   "metadata": {},
   "outputs": [
    {
     "name": "stdout",
     "output_type": "stream",
     "text": [
      "Files to process:\n",
      "transfoxl_m2/2062991/bag_1/fold_1/valid_eval_predictions.parquet\n",
      "transfoxl_m2/2063004/bag_1/fold_4/valid_eval_predictions.parquet\n",
      "transfoxl_m2/2063007/bag_1/fold_5/valid_eval_predictions.parquet\n",
      "transfoxl_m2/2064363/bag_1/fold_2/valid_eval_predictions.parquet\n",
      "transfoxl_m2/2064365/bag_1/fold_3/valid_eval_predictions.parquet\n",
      "transfoxl_m3/2063009/bag_1/fold_1/valid_eval_predictions.parquet\n",
      "transfoxl_m3/2063011/bag_1/fold_2/valid_eval_predictions.parquet\n",
      "transfoxl_m3/2063018/bag_1/fold_4/valid_eval_predictions.parquet\n",
      "transfoxl_m3/2064368/bag_1/fold_3/valid_eval_predictions.parquet\n",
      "transfoxl_m3/2064371/bag_1/fold_5/valid_eval_predictions.parquet\n",
      "xlnet_freqcap_m2/2062442/bag_1/fold_3/valid_eval_predictions.parquet\n",
      "xlnet_freqcap_m2/2062910/bag_1/fold_1/valid_eval_predictions.parquet\n",
      "xlnet_freqcap_m2/2062915/bag_1/fold_2/valid_eval_predictions.parquet\n",
      "xlnet_freqcap_m2/2064338/bag_1/fold_4/valid_eval_predictions.parquet\n",
      "xlnet_freqcap_m2/2064339/bag_1/fold_5/valid_eval_predictions.parquet\n",
      "xlnet_freqcap_m3/2062453/bag_1/fold_3/valid_eval_predictions.parquet\n",
      "xlnet_freqcap_m3/2062925/bag_1/fold_1/valid_eval_predictions.parquet\n",
      "xlnet_freqcap_m3/2062928/bag_1/fold_2/valid_eval_predictions.parquet\n",
      "xlnet_freqcap_m3/2062933/bag_1/fold_5/valid_eval_predictions.parquet\n",
      "xlnet_freqcap_m3/2064343/bag_1/fold_4/valid_eval_predictions.parquet\n",
      "xlnet_m2/2062459/bag_1/fold_3/valid_eval_predictions.parquet\n",
      "xlnet_m2/2062935/bag_1/fold_1/valid_eval_predictions.parquet\n",
      "xlnet_m2/2062937/bag_1/fold_2/valid_eval_predictions.parquet\n",
      "xlnet_m2/2062941/bag_1/fold_5/valid_eval_predictions.parquet\n",
      "xlnet_m2/2064346/bag_1/fold_4/valid_eval_predictions.parquet\n",
      "xlnet_m3/2062463/bag_1/fold_3/valid_eval_predictions.parquet\n",
      "xlnet_m3/2062944/bag_1/fold_1/valid_eval_predictions.parquet\n",
      "xlnet_m3/2062955/bag_1/fold_2/valid_eval_predictions.parquet\n",
      "xlnet_m3/2062959/bag_1/fold_4/valid_eval_predictions.parquet\n",
      "xlnet_m3/2062962/bag_1/fold_5/valid_eval_predictions.parquet\n",
      "xlnet_search_m2/2062551/bag_1/fold_3/valid_eval_predictions.parquet\n",
      "xlnet_search_m2/2062964/bag_1/fold_1/valid_eval_predictions.parquet\n",
      "xlnet_search_m2/2062973/bag_1/fold_4/valid_eval_predictions.parquet\n",
      "xlnet_search_m2/2064351/bag_1/fold_2/valid_eval_predictions.parquet\n",
      "xlnet_search_m2/2064354/bag_1/fold_5/valid_eval_predictions.parquet\n",
      "xlnet_search_m3/2062470/bag_1/fold_3/valid_eval_predictions.parquet\n",
      "xlnet_search_m3/2062983/bag_1/fold_2/valid_eval_predictions.parquet\n",
      "xlnet_search_m3/2064357/bag_1/fold_1/valid_eval_predictions.parquet\n",
      "xlnet_search_m3/2064362/bag_1/fold_5/valid_eval_predictions.parquet\n",
      "xlnet_search_m3/2064444/bag_1/fold_4/valid_eval_predictions.parquet\n",
      "\n",
      "Start processing files...\n",
      "Processing:  xlnet_search_m2/2064351/bag_1/fold_2/valid_eval_predictions.parquet\n",
      "Sessions 61377\n",
      "Min preds length:  42\n",
      "Predictions 5232858\n",
      "Saving to /home/gmoreira/dataset/sigir_coveo_ecom_datachallenge/SIGIR-ecom-data-challenge/ensembles/ensemble_V2/for_eval/tuned/_ensemble_outputs/session_preds_exploded/preds_exploded_xlnet_search_m2_bag-1_fold-2.parquet\n",
      "\n",
      "CPU times: user 19.1 s, sys: 2.3 s, total: 21.4 s\n",
      "Wall time: 19.3 s\n"
     ]
    }
   ],
   "source": [
    "%%time\n",
    "save_exploded_predictions(FOR_EVAL_FOLDER, VALID_FILENAME, EVAL_PREDS_EXPLODED)"
   ]
  },
  {
   "cell_type": "markdown",
   "id": "e453df19",
   "metadata": {},
   "source": [
    "### Weighting algorithms"
   ]
  },
  {
   "cell_type": "code",
   "execution_count": 20,
   "id": "012247b1",
   "metadata": {},
   "outputs": [],
   "source": [
    "eval_results_merged_df = dask_cudf.read_parquet(EVAL_PREDS_EXPLODED)"
   ]
  },
  {
   "cell_type": "code",
   "execution_count": 21,
   "id": "aa41ae6f",
   "metadata": {},
   "outputs": [
    {
     "data": {
      "text/plain": [
       "\"\\neval_results_merged_df_copy = eval_results_merged_df\\nALG_SELECTED = 'transfoxl'\\neval_results_merged_df = eval_results_merged_df_copy[eval_results_merged_df_copy['algorithm'] == ALG_SELECTED]\\n\""
      ]
     },
     "execution_count": 21,
     "metadata": {},
     "output_type": "execute_result"
    }
   ],
   "source": [
    "'''\n",
    "eval_results_merged_df_copy = eval_results_merged_df\n",
    "ALG_SELECTED = 'transfoxl'\n",
    "eval_results_merged_df = eval_results_merged_df_copy[eval_results_merged_df_copy['algorithm'] == ALG_SELECTED]\n",
    "'''"
   ]
  },
  {
   "cell_type": "code",
   "execution_count": 23,
   "id": "fc52db8e",
   "metadata": {},
   "outputs": [],
   "source": [
    "eval_pred_scores_summed_df = ensemble_preds(eval_results_merged_df, alg_weights_df, group_by_fold=True)"
   ]
  },
  {
   "cell_type": "code",
   "execution_count": 24,
   "id": "d0c79f42",
   "metadata": {},
   "outputs": [],
   "source": [
    "eval_pred_scores_summed_df.to_parquet(EVAL_PREDS_SCORED)"
   ]
  },
  {
   "cell_type": "code",
   "execution_count": 25,
   "id": "1e59064e",
   "metadata": {},
   "outputs": [],
   "source": [
    "#del eval_pred_scores_summed_df\n",
    "#gc.collect()"
   ]
  },
  {
   "cell_type": "markdown",
   "id": "062ab55c",
   "metadata": {},
   "source": [
    "### Group top preds into sessions"
   ]
  },
  {
   "cell_type": "code",
   "execution_count": 21,
   "id": "b2db8bda",
   "metadata": {},
   "outputs": [
    {
     "data": {
      "text/html": [
       "<div>\n",
       "<style scoped>\n",
       "    .dataframe tbody tr th:only-of-type {\n",
       "        vertical-align: middle;\n",
       "    }\n",
       "\n",
       "    .dataframe tbody tr th {\n",
       "        vertical-align: top;\n",
       "    }\n",
       "\n",
       "    .dataframe thead th {\n",
       "        text-align: right;\n",
       "    }\n",
       "</style>\n",
       "<table border=\"1\" class=\"dataframe\">\n",
       "  <thead>\n",
       "    <tr style=\"text-align: right;\">\n",
       "      <th></th>\n",
       "      <th>session_id_hash</th>\n",
       "      <th>pred_item_ids</th>\n",
       "      <th>fold</th>\n",
       "      <th>pred_item_scores_weighted</th>\n",
       "    </tr>\n",
       "    <tr>\n",
       "      <th>__null_dask_index__</th>\n",
       "      <th></th>\n",
       "      <th></th>\n",
       "      <th></th>\n",
       "      <th></th>\n",
       "    </tr>\n",
       "  </thead>\n",
       "  <tbody>\n",
       "    <tr>\n",
       "      <th>0</th>\n",
       "      <td>192933</td>\n",
       "      <td>71219.0</td>\n",
       "      <td>3</td>\n",
       "      <td>0.003542</td>\n",
       "    </tr>\n",
       "    <tr>\n",
       "      <th>1</th>\n",
       "      <td>4595181</td>\n",
       "      <td>206835.0</td>\n",
       "      <td>5</td>\n",
       "      <td>0.017974</td>\n",
       "    </tr>\n",
       "    <tr>\n",
       "      <th>2</th>\n",
       "      <td>4208503</td>\n",
       "      <td>403030.0</td>\n",
       "      <td>5</td>\n",
       "      <td>0.000181</td>\n",
       "    </tr>\n",
       "    <tr>\n",
       "      <th>3</th>\n",
       "      <td>1924050</td>\n",
       "      <td>138930.0</td>\n",
       "      <td>2</td>\n",
       "      <td>0.008736</td>\n",
       "    </tr>\n",
       "    <tr>\n",
       "      <th>4</th>\n",
       "      <td>4813141</td>\n",
       "      <td>87889.0</td>\n",
       "      <td>3</td>\n",
       "      <td>0.000450</td>\n",
       "    </tr>\n",
       "    <tr>\n",
       "      <th>...</th>\n",
       "      <td>...</td>\n",
       "      <td>...</td>\n",
       "      <td>...</td>\n",
       "      <td>...</td>\n",
       "    </tr>\n",
       "    <tr>\n",
       "      <th>110956592</th>\n",
       "      <td>3442333</td>\n",
       "      <td>388954.0</td>\n",
       "      <td>1</td>\n",
       "      <td>0.033866</td>\n",
       "    </tr>\n",
       "    <tr>\n",
       "      <th>110956593</th>\n",
       "      <td>4228459</td>\n",
       "      <td>330512.0</td>\n",
       "      <td>3</td>\n",
       "      <td>0.008260</td>\n",
       "    </tr>\n",
       "    <tr>\n",
       "      <th>110956594</th>\n",
       "      <td>2570110</td>\n",
       "      <td>53064.0</td>\n",
       "      <td>3</td>\n",
       "      <td>0.114907</td>\n",
       "    </tr>\n",
       "    <tr>\n",
       "      <th>110956595</th>\n",
       "      <td>3713002</td>\n",
       "      <td>160175.0</td>\n",
       "      <td>5</td>\n",
       "      <td>0.013244</td>\n",
       "    </tr>\n",
       "    <tr>\n",
       "      <th>110956596</th>\n",
       "      <td>432155</td>\n",
       "      <td>269579.0</td>\n",
       "      <td>4</td>\n",
       "      <td>0.061263</td>\n",
       "    </tr>\n",
       "  </tbody>\n",
       "</table>\n",
       "<p>110956597 rows × 4 columns</p>\n",
       "</div>"
      ],
      "text/plain": [
       "                     session_id_hash  pred_item_ids  fold  \\\n",
       "__null_dask_index__                                         \n",
       "0                             192933        71219.0     3   \n",
       "1                            4595181       206835.0     5   \n",
       "2                            4208503       403030.0     5   \n",
       "3                            1924050       138930.0     2   \n",
       "4                            4813141        87889.0     3   \n",
       "...                              ...            ...   ...   \n",
       "110956592                    3442333       388954.0     1   \n",
       "110956593                    4228459       330512.0     3   \n",
       "110956594                    2570110        53064.0     3   \n",
       "110956595                    3713002       160175.0     5   \n",
       "110956596                     432155       269579.0     4   \n",
       "\n",
       "                     pred_item_scores_weighted  \n",
       "__null_dask_index__                             \n",
       "0                                     0.003542  \n",
       "1                                     0.017974  \n",
       "2                                     0.000181  \n",
       "3                                     0.008736  \n",
       "4                                     0.000450  \n",
       "...                                        ...  \n",
       "110956592                             0.033866  \n",
       "110956593                             0.008260  \n",
       "110956594                             0.114907  \n",
       "110956595                             0.013244  \n",
       "110956596                             0.061263  \n",
       "\n",
       "[110956597 rows x 4 columns]"
      ]
     },
     "execution_count": 21,
     "metadata": {},
     "output_type": "execute_result"
    }
   ],
   "source": [
    "eval_pred_scores_summed_cdf = cudf.read_parquet(EVAL_PREDS_SCORED)\n",
    "eval_pred_scores_summed_cdf"
   ]
  },
  {
   "cell_type": "code",
   "execution_count": 22,
   "id": "14d69d1c",
   "metadata": {},
   "outputs": [
    {
     "data": {
      "text/html": [
       "<div>\n",
       "<style scoped>\n",
       "    .dataframe tbody tr th:only-of-type {\n",
       "        vertical-align: middle;\n",
       "    }\n",
       "\n",
       "    .dataframe tbody tr th {\n",
       "        vertical-align: top;\n",
       "    }\n",
       "\n",
       "    .dataframe thead th {\n",
       "        text-align: right;\n",
       "    }\n",
       "</style>\n",
       "<table border=\"1\" class=\"dataframe\">\n",
       "  <thead>\n",
       "    <tr style=\"text-align: right;\">\n",
       "      <th></th>\n",
       "      <th>session_id_hash</th>\n",
       "      <th>fold</th>\n",
       "      <th>pred_item_ids</th>\n",
       "      <th>pred_item_scores_weighted</th>\n",
       "    </tr>\n",
       "  </thead>\n",
       "  <tbody>\n",
       "    <tr>\n",
       "      <th>0</th>\n",
       "      <td>7</td>\n",
       "      <td>5</td>\n",
       "      <td>[497554.0, 392637.0, 119568.0, 133480.0, 45045...</td>\n",
       "      <td>[29.82871984773356, 1.3419541580848537, 0.7943...</td>\n",
       "    </tr>\n",
       "    <tr>\n",
       "      <th>1</th>\n",
       "      <td>21</td>\n",
       "      <td>2</td>\n",
       "      <td>[29868.0, 143840.0, 363279.0, 417261.0, 382222...</td>\n",
       "      <td>[4.144845788822275, 2.5119240772712192, 2.1139...</td>\n",
       "    </tr>\n",
       "    <tr>\n",
       "      <th>2</th>\n",
       "      <td>40</td>\n",
       "      <td>2</td>\n",
       "      <td>[138467.0, 430380.0, 272674.0, 351998.0, 12525...</td>\n",
       "      <td>[27.980479154624362, 2.089725645239099, 1.9551...</td>\n",
       "    </tr>\n",
       "    <tr>\n",
       "      <th>3</th>\n",
       "      <td>64</td>\n",
       "      <td>4</td>\n",
       "      <td>[116165.0, 419963.0, 97619.0, 375353.0, 221531...</td>\n",
       "      <td>[26.808105501991488, 4.29676654519713, 3.93853...</td>\n",
       "    </tr>\n",
       "    <tr>\n",
       "      <th>4</th>\n",
       "      <td>74</td>\n",
       "      <td>1</td>\n",
       "      <td>[3127.0, 118937.0, 119155.0, 388720.0, 342958....</td>\n",
       "      <td>[12.404190627400428, 4.77101212225182, 3.15984...</td>\n",
       "    </tr>\n",
       "    <tr>\n",
       "      <th>...</th>\n",
       "      <td>...</td>\n",
       "      <td>...</td>\n",
       "      <td>...</td>\n",
       "      <td>...</td>\n",
       "    </tr>\n",
       "    <tr>\n",
       "      <th>307079</th>\n",
       "      <td>5266931</td>\n",
       "      <td>4</td>\n",
       "      <td>[386891.0, 2504.0, 50446.0, 64131.0, 473767.0,...</td>\n",
       "      <td>[24.379723152042143, 5.067942533872458, 3.0765...</td>\n",
       "    </tr>\n",
       "    <tr>\n",
       "      <th>307080</th>\n",
       "      <td>5266937</td>\n",
       "      <td>5</td>\n",
       "      <td>[150474.0, 111037.0, 110034.0, 227358.0, 47639...</td>\n",
       "      <td>[17.213528395968556, 3.849043307720547, 2.3674...</td>\n",
       "    </tr>\n",
       "    <tr>\n",
       "      <th>307081</th>\n",
       "      <td>5266950</td>\n",
       "      <td>2</td>\n",
       "      <td>[221452.0, 255478.0, 411082.0, 4830.0, 262699....</td>\n",
       "      <td>[33.10651101213773, 0.851345949847232, 0.43872...</td>\n",
       "    </tr>\n",
       "    <tr>\n",
       "      <th>307082</th>\n",
       "      <td>5266963</td>\n",
       "      <td>1</td>\n",
       "      <td>[15926.0, 439258.0, 40872.0, 261482.0, 445615....</td>\n",
       "      <td>[15.420459061156977, 6.117983856351116, 5.6842...</td>\n",
       "    </tr>\n",
       "    <tr>\n",
       "      <th>307083</th>\n",
       "      <td>5266967</td>\n",
       "      <td>2</td>\n",
       "      <td>[138899.0, 21981.0, 162202.0, 279216.0, 209851...</td>\n",
       "      <td>[16.08568539581718, 3.656394238311312, 3.61610...</td>\n",
       "    </tr>\n",
       "  </tbody>\n",
       "</table>\n",
       "<p>307084 rows × 4 columns</p>\n",
       "</div>"
      ],
      "text/plain": [
       "        session_id_hash  fold  \\\n",
       "0                     7     5   \n",
       "1                    21     2   \n",
       "2                    40     2   \n",
       "3                    64     4   \n",
       "4                    74     1   \n",
       "...                 ...   ...   \n",
       "307079          5266931     4   \n",
       "307080          5266937     5   \n",
       "307081          5266950     2   \n",
       "307082          5266963     1   \n",
       "307083          5266967     2   \n",
       "\n",
       "                                            pred_item_ids  \\\n",
       "0       [497554.0, 392637.0, 119568.0, 133480.0, 45045...   \n",
       "1       [29868.0, 143840.0, 363279.0, 417261.0, 382222...   \n",
       "2       [138467.0, 430380.0, 272674.0, 351998.0, 12525...   \n",
       "3       [116165.0, 419963.0, 97619.0, 375353.0, 221531...   \n",
       "4       [3127.0, 118937.0, 119155.0, 388720.0, 342958....   \n",
       "...                                                   ...   \n",
       "307079  [386891.0, 2504.0, 50446.0, 64131.0, 473767.0,...   \n",
       "307080  [150474.0, 111037.0, 110034.0, 227358.0, 47639...   \n",
       "307081  [221452.0, 255478.0, 411082.0, 4830.0, 262699....   \n",
       "307082  [15926.0, 439258.0, 40872.0, 261482.0, 445615....   \n",
       "307083  [138899.0, 21981.0, 162202.0, 279216.0, 209851...   \n",
       "\n",
       "                                pred_item_scores_weighted  \n",
       "0       [29.82871984773356, 1.3419541580848537, 0.7943...  \n",
       "1       [4.144845788822275, 2.5119240772712192, 2.1139...  \n",
       "2       [27.980479154624362, 2.089725645239099, 1.9551...  \n",
       "3       [26.808105501991488, 4.29676654519713, 3.93853...  \n",
       "4       [12.404190627400428, 4.77101212225182, 3.15984...  \n",
       "...                                                   ...  \n",
       "307079  [24.379723152042143, 5.067942533872458, 3.0765...  \n",
       "307080  [17.213528395968556, 3.849043307720547, 2.3674...  \n",
       "307081  [33.10651101213773, 0.851345949847232, 0.43872...  \n",
       "307082  [15.420459061156977, 6.117983856351116, 5.6842...  \n",
       "307083  [16.08568539581718, 3.656394238311312, 3.61610...  \n",
       "\n",
       "[307084 rows x 4 columns]"
      ]
     },
     "execution_count": 22,
     "metadata": {},
     "output_type": "execute_result"
    }
   ],
   "source": [
    "eval_results_ensembled_preds_cdf = group_ensembled_session_preds(eval_pred_scores_summed_cdf, group_by_fold=True)\n",
    "eval_results_ensembled_preds_cdf"
   ]
  },
  {
   "cell_type": "code",
   "execution_count": 23,
   "id": "8310069e",
   "metadata": {},
   "outputs": [],
   "source": [
    "eval_results_ensembled_preds_df = eval_results_ensembled_preds_cdf.to_pandas()"
   ]
  },
  {
   "cell_type": "code",
   "execution_count": 24,
   "id": "6e892a94",
   "metadata": {},
   "outputs": [
    {
     "data": {
      "text/plain": [
       "count    307084.000000\n",
       "mean        361.323276\n",
       "std         126.423442\n",
       "min         115.000000\n",
       "25%         270.000000\n",
       "50%         338.000000\n",
       "75%         424.000000\n",
       "max        1016.000000\n",
       "Name: pred_item_ids, dtype: float64"
      ]
     },
     "execution_count": 24,
     "metadata": {},
     "output_type": "execute_result"
    }
   ],
   "source": [
    "eval_results_ensembled_preds_df['pred_item_ids'].apply(len).describe()"
   ]
  },
  {
   "cell_type": "code",
   "execution_count": 25,
   "id": "1911b67e",
   "metadata": {},
   "outputs": [
    {
     "data": {
      "text/plain": [
       "count    307084.000000\n",
       "mean        361.323276\n",
       "std         126.423442\n",
       "min         115.000000\n",
       "25%         270.000000\n",
       "50%         338.000000\n",
       "75%         424.000000\n",
       "max        1016.000000\n",
       "Name: pred_item_ids, dtype: float64"
      ]
     },
     "execution_count": 25,
     "metadata": {},
     "output_type": "execute_result"
    }
   ],
   "source": [
    "eval_results_ensembled_preds_df['pred_item_ids'].apply(len).describe()"
   ]
  },
  {
   "cell_type": "code",
   "execution_count": 26,
   "id": "a41e0c8d",
   "metadata": {},
   "outputs": [],
   "source": [
    "eval_results_ensembled_preds_df['pred_item_ids'] = \\\n",
    "        eval_results_ensembled_preds_df['pred_item_ids'].apply(lambda x: list([int(y) for y in x])[:100])\n",
    "eval_results_ensembled_preds_df['pred_item_scores_weighted'] = \\\n",
    "        eval_results_ensembled_preds_df['pred_item_scores_weighted'].apply(lambda x: x[:100])"
   ]
  },
  {
   "cell_type": "code",
   "execution_count": 27,
   "id": "80ddeae6",
   "metadata": {},
   "outputs": [
    {
     "data": {
      "text/html": [
       "<div>\n",
       "<style scoped>\n",
       "    .dataframe tbody tr th:only-of-type {\n",
       "        vertical-align: middle;\n",
       "    }\n",
       "\n",
       "    .dataframe tbody tr th {\n",
       "        vertical-align: top;\n",
       "    }\n",
       "\n",
       "    .dataframe thead th {\n",
       "        text-align: right;\n",
       "    }\n",
       "</style>\n",
       "<table border=\"1\" class=\"dataframe\">\n",
       "  <thead>\n",
       "    <tr style=\"text-align: right;\">\n",
       "      <th></th>\n",
       "      <th>session_id_hash</th>\n",
       "      <th>fold</th>\n",
       "      <th>pred_item_ids</th>\n",
       "      <th>pred_item_scores_weighted</th>\n",
       "    </tr>\n",
       "  </thead>\n",
       "  <tbody>\n",
       "    <tr>\n",
       "      <th>0</th>\n",
       "      <td>7</td>\n",
       "      <td>5</td>\n",
       "      <td>[497554, 392637, 119568, 133480, 450454, 36089...</td>\n",
       "      <td>[29.82871984773356, 1.3419541580848537, 0.7943...</td>\n",
       "    </tr>\n",
       "    <tr>\n",
       "      <th>1</th>\n",
       "      <td>21</td>\n",
       "      <td>2</td>\n",
       "      <td>[29868, 143840, 363279, 417261, 382222, 34133,...</td>\n",
       "      <td>[4.144845788822275, 2.5119240772712192, 2.1139...</td>\n",
       "    </tr>\n",
       "    <tr>\n",
       "      <th>2</th>\n",
       "      <td>40</td>\n",
       "      <td>2</td>\n",
       "      <td>[138467, 430380, 272674, 351998, 12525, 261734...</td>\n",
       "      <td>[27.980479154624362, 2.089725645239099, 1.9551...</td>\n",
       "    </tr>\n",
       "    <tr>\n",
       "      <th>3</th>\n",
       "      <td>64</td>\n",
       "      <td>4</td>\n",
       "      <td>[116165, 419963, 97619, 375353, 221531, 37459,...</td>\n",
       "      <td>[26.808105501991488, 4.29676654519713, 3.93853...</td>\n",
       "    </tr>\n",
       "    <tr>\n",
       "      <th>4</th>\n",
       "      <td>74</td>\n",
       "      <td>1</td>\n",
       "      <td>[3127, 118937, 119155, 388720, 342958, 178251,...</td>\n",
       "      <td>[12.404190627400428, 4.77101212225182, 3.15984...</td>\n",
       "    </tr>\n",
       "    <tr>\n",
       "      <th>...</th>\n",
       "      <td>...</td>\n",
       "      <td>...</td>\n",
       "      <td>...</td>\n",
       "      <td>...</td>\n",
       "    </tr>\n",
       "    <tr>\n",
       "      <th>307079</th>\n",
       "      <td>5266931</td>\n",
       "      <td>4</td>\n",
       "      <td>[386891, 2504, 50446, 64131, 473767, 414401, 9...</td>\n",
       "      <td>[24.379723152042143, 5.067942533872458, 3.0765...</td>\n",
       "    </tr>\n",
       "    <tr>\n",
       "      <th>307080</th>\n",
       "      <td>5266937</td>\n",
       "      <td>5</td>\n",
       "      <td>[150474, 111037, 110034, 227358, 476396, 21393...</td>\n",
       "      <td>[17.213528395968556, 3.849043307720547, 2.3674...</td>\n",
       "    </tr>\n",
       "    <tr>\n",
       "      <th>307081</th>\n",
       "      <td>5266950</td>\n",
       "      <td>2</td>\n",
       "      <td>[221452, 255478, 411082, 4830, 262699, 17661, ...</td>\n",
       "      <td>[33.10651101213773, 0.851345949847232, 0.43872...</td>\n",
       "    </tr>\n",
       "    <tr>\n",
       "      <th>307082</th>\n",
       "      <td>5266963</td>\n",
       "      <td>1</td>\n",
       "      <td>[15926, 439258, 40872, 261482, 445615, 430913,...</td>\n",
       "      <td>[15.420459061156977, 6.117983856351116, 5.6842...</td>\n",
       "    </tr>\n",
       "    <tr>\n",
       "      <th>307083</th>\n",
       "      <td>5266967</td>\n",
       "      <td>2</td>\n",
       "      <td>[138899, 21981, 162202, 279216, 209851, 396440...</td>\n",
       "      <td>[16.08568539581718, 3.656394238311312, 3.61610...</td>\n",
       "    </tr>\n",
       "  </tbody>\n",
       "</table>\n",
       "<p>307084 rows × 4 columns</p>\n",
       "</div>"
      ],
      "text/plain": [
       "        session_id_hash  fold  \\\n",
       "0                     7     5   \n",
       "1                    21     2   \n",
       "2                    40     2   \n",
       "3                    64     4   \n",
       "4                    74     1   \n",
       "...                 ...   ...   \n",
       "307079          5266931     4   \n",
       "307080          5266937     5   \n",
       "307081          5266950     2   \n",
       "307082          5266963     1   \n",
       "307083          5266967     2   \n",
       "\n",
       "                                            pred_item_ids  \\\n",
       "0       [497554, 392637, 119568, 133480, 450454, 36089...   \n",
       "1       [29868, 143840, 363279, 417261, 382222, 34133,...   \n",
       "2       [138467, 430380, 272674, 351998, 12525, 261734...   \n",
       "3       [116165, 419963, 97619, 375353, 221531, 37459,...   \n",
       "4       [3127, 118937, 119155, 388720, 342958, 178251,...   \n",
       "...                                                   ...   \n",
       "307079  [386891, 2504, 50446, 64131, 473767, 414401, 9...   \n",
       "307080  [150474, 111037, 110034, 227358, 476396, 21393...   \n",
       "307081  [221452, 255478, 411082, 4830, 262699, 17661, ...   \n",
       "307082  [15926, 439258, 40872, 261482, 445615, 430913,...   \n",
       "307083  [138899, 21981, 162202, 279216, 209851, 396440...   \n",
       "\n",
       "                                pred_item_scores_weighted  \n",
       "0       [29.82871984773356, 1.3419541580848537, 0.7943...  \n",
       "1       [4.144845788822275, 2.5119240772712192, 2.1139...  \n",
       "2       [27.980479154624362, 2.089725645239099, 1.9551...  \n",
       "3       [26.808105501991488, 4.29676654519713, 3.93853...  \n",
       "4       [12.404190627400428, 4.77101212225182, 3.15984...  \n",
       "...                                                   ...  \n",
       "307079  [24.379723152042143, 5.067942533872458, 3.0765...  \n",
       "307080  [17.213528395968556, 3.849043307720547, 2.3674...  \n",
       "307081  [33.10651101213773, 0.851345949847232, 0.43872...  \n",
       "307082  [15.420459061156977, 6.117983856351116, 5.6842...  \n",
       "307083  [16.08568539581718, 3.656394238311312, 3.61610...  \n",
       "\n",
       "[307084 rows x 4 columns]"
      ]
     },
     "execution_count": 27,
     "metadata": {},
     "output_type": "execute_result"
    }
   ],
   "source": [
    "eval_results_ensembled_preds_df"
   ]
  },
  {
   "cell_type": "markdown",
   "id": "458ee601",
   "metadata": {},
   "source": [
    "### Merging predictions with validation set"
   ]
  },
  {
   "cell_type": "code",
   "execution_count": 28,
   "id": "56f9107f",
   "metadata": {},
   "outputs": [
    {
     "name": "stdout",
     "output_type": "stream",
     "text": [
      "61219\n",
      "61377\n",
      "61509\n",
      "61520\n",
      "61459\n"
     ]
    }
   ],
   "source": [
    "valid_folds_dfs = []\n",
    "for fold in range(1,6):\n",
    "    valid_fold_df = pd.read_parquet(os.path.join(DATA_PATH, f'valid-eval-{fold}.parquet'))\n",
    "    print(len(valid_fold_df))\n",
    "    valid_labels_fold_df = pd.read_parquet(os.path.join(DATA_PATH, f'valid-eval-labels-{fold}.parquet'))\n",
    "    valid_fold_df['labels'] = valid_labels_fold_df['labels']   \n",
    "    valid_folds_dfs.append(valid_fold_df)\n",
    "valid_folds_merged_df = pd.concat(valid_folds_dfs)    "
   ]
  },
  {
   "cell_type": "code",
   "execution_count": 29,
   "id": "4ebfbf74",
   "metadata": {},
   "outputs": [
    {
     "data": {
      "text/plain": [
       "307084"
      ]
     },
     "execution_count": 29,
     "metadata": {},
     "output_type": "execute_result"
    }
   ],
   "source": [
    "eval_results_with_labels_df = eval_results_ensembled_preds_df.merge(valid_folds_merged_df, on='session_id_hash',)\n",
    "len(eval_results_with_labels_df)"
   ]
  },
  {
   "cell_type": "code",
   "execution_count": 30,
   "id": "4d2b98c2",
   "metadata": {},
   "outputs": [],
   "source": [
    "eval_results_with_labels_df.to_parquet(os.path.join(FOR_EVAL_OUTPUT_FOLDER, 'eval_preds_ensembled_with_labels.parquet'))"
   ]
  },
  {
   "cell_type": "code",
   "execution_count": 31,
   "id": "94e92e08",
   "metadata": {},
   "outputs": [
    {
     "data": {
      "text/plain": [
       "307084"
      ]
     },
     "execution_count": 31,
     "metadata": {},
     "output_type": "execute_result"
    }
   ],
   "source": [
    "len(valid_folds_merged_df)"
   ]
  },
  {
   "cell_type": "code",
   "execution_count": 32,
   "id": "5a459b34",
   "metadata": {},
   "outputs": [],
   "source": [
    "assert eval_results_ensembled_preds_df['session_id_hash'].nunique() == len(valid_folds_merged_df)"
   ]
  },
  {
   "cell_type": "code",
   "execution_count": 33,
   "id": "02c1eb85",
   "metadata": {},
   "outputs": [],
   "source": [
    "assert valid_folds_merged_df['session_id_hash'].nunique() == len(valid_folds_merged_df)"
   ]
  },
  {
   "cell_type": "code",
   "execution_count": 34,
   "id": "72e1f749",
   "metadata": {},
   "outputs": [],
   "source": [
    "assert len(eval_results_ensembled_preds_df) == len(eval_results_with_labels_df)"
   ]
  },
  {
   "cell_type": "code",
   "execution_count": 35,
   "id": "5f1afd1d",
   "metadata": {},
   "outputs": [],
   "source": [
    "assert eval_results_with_labels_df['pred_item_ids'].isna().sum() == 0"
   ]
  },
  {
   "cell_type": "code",
   "execution_count": 36,
   "id": "46f85009",
   "metadata": {},
   "outputs": [],
   "source": [
    "assert eval_results_with_labels_df['labels'].isna().sum() == 0"
   ]
  },
  {
   "cell_type": "markdown",
   "id": "6f4ccea2",
   "metadata": {},
   "source": [
    "### Evaluation"
   ]
  },
  {
   "cell_type": "code",
   "execution_count": 37,
   "id": "aed7ff83",
   "metadata": {},
   "outputs": [],
   "source": [
    "import random\n",
    "from collections import defaultdict\n",
    "from random import randint\n",
    "\n",
    "\n",
    "def convert_list_to_top_K(items_list: list, topK: int):\n",
    "    \"\"\"\n",
    "    Extract top_K items\n",
    "    It is assumed that the list of items are sorted in descending order of importance/weight/relevance\n",
    "\n",
    "    :param items_list: list where element is a list of items\n",
    "    :param topK: top K limit\n",
    "    :return: list of items shortened with top K\n",
    "    \"\"\"\n",
    "    return [list(items[:topK]) for items in items_list]\n",
    "\n",
    "\n",
    "def mrr_at_k(preds: list, labels: list, topK: int):\n",
    "    assert len(labels) > 0\n",
    "    assert len(preds) == len(labels)\n",
    "\n",
    "    # get top K predictions\n",
    "    converted_preds = convert_list_to_top_K(items_list=preds, topK=topK)\n",
    "    rr = []\n",
    "    for p, l in zip(converted_preds, labels):\n",
    "        if len(l) == 0:\n",
    "            rr.append(0.0)\n",
    "        else:\n",
    "            # get next_item from labels\n",
    "            next_item = l[0]\n",
    "            # add 0.0 explicitly if not there (for transparency)\n",
    "            if next_item not in p:\n",
    "                rr.append(0.0)\n",
    "            # else, take the reciprocal of prediction rank\n",
    "            else:\n",
    "                rr.append(1.0 / (p.index(next_item) + 1))\n",
    "\n",
    "    # return the mean reciprocal rank\n",
    "    return sum(rr) / len(labels)\n",
    "\n",
    "\n",
    "def f1_at_k(preds: list, labels: list, topK: int):\n",
    "    assert len(labels) > 0\n",
    "    assert len(preds) == len(labels)\n",
    "\n",
    "    # get top K predictions\n",
    "    converted_preds = convert_list_to_top_K(items_list=preds, topK=topK)\n",
    "    all_precision = []\n",
    "    all_recall = []\n",
    "    all_f1 = []\n",
    "\n",
    "    # for each recommendation prediction, calculate the f1 based on ground truth\n",
    "    for p, l in zip(converted_preds, labels):\n",
    "        nb_hits = len(set(p).intersection(set(l)))\n",
    "        precision = nb_hits / topK\n",
    "        recall = nb_hits / len(set(l)) if len(l) > 0 else 0.0\n",
    "        f1 = (\n",
    "            (2 * precision * recall) / (precision + recall)\n",
    "            if (precision + recall) > 0\n",
    "            else 0.0\n",
    "        )\n",
    "        all_precision.append(precision)\n",
    "        all_recall.append(recall)\n",
    "        all_f1.append(f1)\n",
    "\n",
    "    # get average f1 across all predictions\n",
    "    avg_f1 = sum(all_f1) / len(labels)\n",
    "    return avg_f1"
   ]
  },
  {
   "cell_type": "code",
   "execution_count": 38,
   "id": "013775b2",
   "metadata": {},
   "outputs": [],
   "source": [
    "eval_mrr = mrr_at_k(eval_results_with_labels_df['pred_item_ids'].values, \n",
    "                    eval_results_with_labels_df['labels'].values, topK=20)"
   ]
  },
  {
   "cell_type": "code",
   "execution_count": 39,
   "id": "5f521204",
   "metadata": {},
   "outputs": [],
   "source": [
    "eval_f1 = f1_at_k(eval_results_with_labels_df['pred_item_ids'].values, \n",
    "                    eval_results_with_labels_df['labels'].values, topK=20)"
   ]
  },
  {
   "cell_type": "code",
   "execution_count": null,
   "id": "b49f75c5",
   "metadata": {},
   "outputs": [],
   "source": [
    "print(WEIGHT_ALGORITHMS)\n",
    "#print(ALG_SELECTED)\n",
    "print('MRR', eval_mrr)\n",
    "print('F1 ', eval_f1)"
   ]
  },
  {
   "cell_type": "markdown",
   "id": "305201b6",
   "metadata": {},
   "source": [
    "# Ensemble Test Set"
   ]
  },
  {
   "cell_type": "markdown",
   "id": "02af863f",
   "metadata": {},
   "source": [
    "### Saving exploded predictions"
   ]
  },
  {
   "cell_type": "code",
   "execution_count": null,
   "id": "8a559b03",
   "metadata": {},
   "outputs": [],
   "source": [
    "TEST_FILENAME = 'test_predictions.parquet'\n",
    "FOR_SUBMISSION_FOLDER = os.path.join(PREDS_DOWNLOAD_PATH, 'for_submission/tuned/')\n",
    "FOR_SUBMISSION_FOLDER"
   ]
  },
  {
   "cell_type": "code",
   "execution_count": null,
   "id": "5826294b",
   "metadata": {},
   "outputs": [],
   "source": [
    "FOR_SUBMISSION_OUTPUT_FOLDER = os.path.join(FOR_SUBMISSION_FOLDER, '_ensemble_outputs')\n",
    "FOR_SUBMISSION_OUTPUT_FOLDER"
   ]
  },
  {
   "cell_type": "code",
   "execution_count": null,
   "id": "9b9d560f",
   "metadata": {},
   "outputs": [],
   "source": [
    "TEST_PREDS_EXPLODED = os.path.join(FOR_SUBMISSION_OUTPUT_FOLDER, 'session_preds_exploded')\n",
    "os.makedirs(TEST_PREDS_EXPLODED, exist_ok=True)\n",
    "TEST_PREDS_EXPLODED"
   ]
  },
  {
   "cell_type": "code",
   "execution_count": null,
   "id": "84d58733",
   "metadata": {},
   "outputs": [],
   "source": [
    "TEST_PREDS_SCORED = os.path.join(FOR_SUBMISSION_OUTPUT_FOLDER, 'session_pred_scored')\n",
    "TEST_PREDS_SCORED"
   ]
  },
  {
   "cell_type": "code",
   "execution_count": 22,
   "id": "49e09019",
   "metadata": {},
   "outputs": [
    {
     "name": "stdout",
     "output_type": "stream",
     "text": [
      "Files to process:\n",
      "transfoxl_m2/2064516/bag_1/fold_1/test_predictions.parquet\n",
      "transfoxl_m2/2064517/bag_1/fold_2/test_predictions.parquet\n",
      "transfoxl_m2/2064518/bag_1/fold_3/test_predictions.parquet\n",
      "transfoxl_m2/2064520/bag_1/fold_4/test_predictions.parquet\n",
      "transfoxl_m2/2064521/bag_1/fold_5/test_predictions.parquet\n",
      "transfoxl_m3/2064524/bag_1/fold_1/test_predictions.parquet\n",
      "transfoxl_m3/2064525/bag_1/fold_2/test_predictions.parquet\n",
      "transfoxl_m3/2064527/bag_1/fold_3/test_predictions.parquet\n",
      "transfoxl_m3/2064528/bag_1/fold_4/test_predictions.parquet\n",
      "transfoxl_m3/2064529/bag_1/fold_5/test_predictions.parquet\n",
      "xlnet_freqcap_m2/2064468/bag_1/fold_1/test_predictions.parquet\n",
      "xlnet_freqcap_m2/2064474/bag_1/fold_2/test_predictions.parquet\n",
      "xlnet_freqcap_m2/2064476/bag_1/fold_3/test_predictions.parquet\n",
      "xlnet_freqcap_m2/2064479/bag_1/fold_4/test_predictions.parquet\n",
      "xlnet_freqcap_m2/2064480/bag_1/fold_5/test_predictions.parquet\n",
      "xlnet_freqcap_m3/2064481/bag_1/fold_1/test_predictions.parquet\n",
      "xlnet_freqcap_m3/2064482/bag_1/fold_2/test_predictions.parquet\n",
      "xlnet_freqcap_m3/2064483/bag_1/fold_3/test_predictions.parquet\n",
      "xlnet_freqcap_m3/2064484/bag_1/fold_4/test_predictions.parquet\n",
      "xlnet_freqcap_m3/2064485/bag_1/fold_5/test_predictions.parquet\n",
      "xlnet_m2/2064487/bag_1/fold_1/test_predictions.parquet\n",
      "xlnet_m2/2064488/bag_1/fold_2/test_predictions.parquet\n",
      "xlnet_m2/2064489/bag_1/fold_3/test_predictions.parquet\n",
      "xlnet_m2/2064490/bag_1/fold_4/test_predictions.parquet\n",
      "xlnet_m2/2064491/bag_1/fold_5/test_predictions.parquet\n",
      "xlnet_m3/2064492/bag_1/fold_1/test_predictions.parquet\n",
      "xlnet_m3/2064493/bag_1/fold_2/test_predictions.parquet\n",
      "xlnet_m3/2064495/bag_1/fold_3/test_predictions.parquet\n",
      "xlnet_m3/2064496/bag_1/fold_4/test_predictions.parquet\n",
      "xlnet_m3/2064500/bag_1/fold_5/test_predictions.parquet\n",
      "xlnet_search_m2/2064501/bag_1/fold_1/test_predictions.parquet\n",
      "xlnet_search_m2/2064504/bag_1/fold_2/test_predictions.parquet\n",
      "xlnet_search_m2/2064505/bag_1/fold_3/test_predictions.parquet\n",
      "xlnet_search_m2/2064509/bag_1/fold_4/test_predictions.parquet\n",
      "xlnet_search_m2/2064510/bag_1/fold_5/test_predictions.parquet\n",
      "xlnet_search_m3/2064511/bag_1/fold_1/test_predictions.parquet\n",
      "xlnet_search_m3/2064512/bag_1/fold_2/test_predictions.parquet\n",
      "xlnet_search_m3/2064513/bag_1/fold_3/test_predictions.parquet\n",
      "xlnet_search_m3/2064514/bag_1/fold_4/test_predictions.parquet\n",
      "xlnet_search_m3/2064515/bag_1/fold_5/test_predictions.parquet\n",
      "\n",
      "Start processing files...\n",
      "Processing:  xlnet_m3/2064492/bag_1/fold_1/test_predictions.parquet\n",
      "Sessions 332247\n",
      "Min preds length:  34\n",
      "Predictions 28155224\n",
      "Saving to /home/gmoreira/dataset/sigir_coveo_ecom_datachallenge/SIGIR-ecom-data-challenge/ensembles/ensemble_V2/for_submission/tuned/_ensemble_outputs/session_preds_exploded/preds_exploded_xlnet_m3_bag-1_fold-1.parquet\n",
      "\n",
      "CPU times: user 1min 35s, sys: 13 s, total: 1min 48s\n",
      "Wall time: 1min 36s\n"
     ]
    }
   ],
   "source": [
    "%%time\n",
    "save_exploded_predictions(FOR_SUBMISSION_FOLDER, TEST_FILENAME, TEST_PREDS_EXPLODED)"
   ]
  },
  {
   "cell_type": "markdown",
   "id": "0b77cafc",
   "metadata": {},
   "source": [
    "### Weighting algorithms"
   ]
  },
  {
   "cell_type": "code",
   "execution_count": 48,
   "id": "5dc5975b",
   "metadata": {},
   "outputs": [],
   "source": [
    "FOLD = 'fold-5'"
   ]
  },
  {
   "cell_type": "code",
   "execution_count": 49,
   "id": "ad83b7ee",
   "metadata": {},
   "outputs": [],
   "source": [
    "sub_fold_files = [n for n in list(glob.iglob(TEST_PREDS_EXPLODED + '**/**', recursive=True)) if FOLD in n]"
   ]
  },
  {
   "cell_type": "code",
   "execution_count": 51,
   "id": "725c80fa",
   "metadata": {},
   "outputs": [],
   "source": [
    "#test_results_merged_df = dask_cudf.read_parquet(TEST_PREDS_EXPLODED)\n",
    "test_results_merged_df = dask_cudf.read_parquet(sub_fold_files)"
   ]
  },
  {
   "cell_type": "code",
   "execution_count": 52,
   "id": "2e5bc748",
   "metadata": {},
   "outputs": [],
   "source": [
    "pred_scores_summed_df = ensemble_preds(test_results_merged_df, alg_weights_df, group_by_fold=False)"
   ]
  },
  {
   "cell_type": "code",
   "execution_count": 53,
   "id": "9cc96183",
   "metadata": {},
   "outputs": [],
   "source": [
    "pred_scores_summed_df.to_parquet(TEST_PREDS_SCORED+\"_\"+FOLD)"
   ]
  },
  {
   "cell_type": "code",
   "execution_count": 29,
   "id": "303efe79",
   "metadata": {},
   "outputs": [
    {
     "data": {
      "text/plain": [
       "473"
      ]
     },
     "execution_count": 29,
     "metadata": {},
     "output_type": "execute_result"
    }
   ],
   "source": [
    "del pred_scores_summed_df\n",
    "gc.collect()"
   ]
  },
  {
   "cell_type": "markdown",
   "id": "98a0e94b",
   "metadata": {},
   "source": [
    "## Averaging the item scores per fold (for sub)"
   ]
  },
  {
   "cell_type": "code",
   "execution_count": 58,
   "id": "646e01fc",
   "metadata": {},
   "outputs": [],
   "source": [
    "fold_files = []\n",
    "for fold in range(3,6):\n",
    "    fold_files.append(TEST_PREDS_SCORED+f\"_fold-{fold}/part.0.parquet\")"
   ]
  },
  {
   "cell_type": "code",
   "execution_count": 59,
   "id": "722cbdae",
   "metadata": {},
   "outputs": [
    {
     "data": {
      "text/html": [
       "<div><strong>Dask DataFrame Structure:</strong></div>\n",
       "<div>\n",
       "<style scoped>\n",
       "    .dataframe tbody tr th:only-of-type {\n",
       "        vertical-align: middle;\n",
       "    }\n",
       "\n",
       "    .dataframe tbody tr th {\n",
       "        vertical-align: top;\n",
       "    }\n",
       "\n",
       "    .dataframe thead th {\n",
       "        text-align: right;\n",
       "    }\n",
       "</style>\n",
       "<table border=\"1\" class=\"dataframe\">\n",
       "  <thead>\n",
       "    <tr style=\"text-align: right;\">\n",
       "      <th></th>\n",
       "      <th>session_id_hash</th>\n",
       "      <th>pred_item_ids</th>\n",
       "      <th>pred_item_scores_weighted</th>\n",
       "    </tr>\n",
       "    <tr>\n",
       "      <th>npartitions=3</th>\n",
       "      <th></th>\n",
       "      <th></th>\n",
       "      <th></th>\n",
       "    </tr>\n",
       "  </thead>\n",
       "  <tbody>\n",
       "    <tr>\n",
       "      <th></th>\n",
       "      <td>int64</td>\n",
       "      <td>float64</td>\n",
       "      <td>float64</td>\n",
       "    </tr>\n",
       "    <tr>\n",
       "      <th></th>\n",
       "      <td>...</td>\n",
       "      <td>...</td>\n",
       "      <td>...</td>\n",
       "    </tr>\n",
       "    <tr>\n",
       "      <th></th>\n",
       "      <td>...</td>\n",
       "      <td>...</td>\n",
       "      <td>...</td>\n",
       "    </tr>\n",
       "    <tr>\n",
       "      <th></th>\n",
       "      <td>...</td>\n",
       "      <td>...</td>\n",
       "      <td>...</td>\n",
       "    </tr>\n",
       "  </tbody>\n",
       "</table>\n",
       "</div>\n",
       "<div>Dask Name: read-parquet, 3 tasks</div>"
      ],
      "text/plain": [
       "<dask_cudf.DataFrame | 3 tasks | 3 npartitions>"
      ]
     },
     "execution_count": 59,
     "metadata": {},
     "output_type": "execute_result"
    }
   ],
   "source": [
    "test_results_merged_folds_df = dask_cudf.read_parquet(fold_files)\n",
    "test_results_merged_folds_df"
   ]
  },
  {
   "cell_type": "code",
   "execution_count": 60,
   "id": "152af0cd",
   "metadata": {},
   "outputs": [
    {
     "data": {
      "text/html": [
       "<div><strong>Dask DataFrame Structure:</strong></div>\n",
       "<div>\n",
       "<style scoped>\n",
       "    .dataframe tbody tr th:only-of-type {\n",
       "        vertical-align: middle;\n",
       "    }\n",
       "\n",
       "    .dataframe tbody tr th {\n",
       "        vertical-align: top;\n",
       "    }\n",
       "\n",
       "    .dataframe thead th {\n",
       "        text-align: right;\n",
       "    }\n",
       "</style>\n",
       "<table border=\"1\" class=\"dataframe\">\n",
       "  <thead>\n",
       "    <tr style=\"text-align: right;\">\n",
       "      <th></th>\n",
       "      <th>session_id_hash</th>\n",
       "      <th>pred_item_ids</th>\n",
       "      <th>pred_item_scores_weighted</th>\n",
       "    </tr>\n",
       "    <tr>\n",
       "      <th>npartitions=1</th>\n",
       "      <th></th>\n",
       "      <th></th>\n",
       "      <th></th>\n",
       "    </tr>\n",
       "  </thead>\n",
       "  <tbody>\n",
       "    <tr>\n",
       "      <th></th>\n",
       "      <td>int64</td>\n",
       "      <td>float64</td>\n",
       "      <td>float64</td>\n",
       "    </tr>\n",
       "    <tr>\n",
       "      <th></th>\n",
       "      <td>...</td>\n",
       "      <td>...</td>\n",
       "      <td>...</td>\n",
       "    </tr>\n",
       "  </tbody>\n",
       "</table>\n",
       "</div>\n",
       "<div>Dask Name: reset_index, 8 tasks</div>"
      ],
      "text/plain": [
       "<dask_cudf.DataFrame | 8 tasks | 1 npartitions>"
      ]
     },
     "execution_count": 60,
     "metadata": {},
     "output_type": "execute_result"
    }
   ],
   "source": [
    "test_results_merged_folds_grouped_df = test_results_merged_folds_df.groupby(['session_id_hash', 'pred_item_ids'])['pred_item_scores_weighted'].sum().reset_index()\n",
    "test_results_merged_folds_grouped_df"
   ]
  },
  {
   "cell_type": "code",
   "execution_count": 61,
   "id": "b17a919a",
   "metadata": {},
   "outputs": [],
   "source": [
    "test_results_merged_folds_grouped_df.to_parquet(TEST_PREDS_SCORED+\"_3-4-5\")"
   ]
  },
  {
   "cell_type": "markdown",
   "id": "a98aab8a",
   "metadata": {},
   "source": [
    "### Another level of aggregation (for sub)"
   ]
  },
  {
   "cell_type": "code",
   "execution_count": null,
   "id": "097540f9",
   "metadata": {},
   "outputs": [],
   "source": [
    "aggregated_sum_files = [TEST_PREDS_SCORED+\"_1-2/part.0.parquet\" , TEST_PREDS_SCORED+\"_3-4-5/part.0.parquet\"] \n",
    "aggregated_sum_files"
   ]
  },
  {
   "cell_type": "code",
   "execution_count": 17,
   "id": "bd214bdc",
   "metadata": {},
   "outputs": [
    {
     "data": {
      "text/html": [
       "<div><strong>Dask DataFrame Structure:</strong></div>\n",
       "<div>\n",
       "<style scoped>\n",
       "    .dataframe tbody tr th:only-of-type {\n",
       "        vertical-align: middle;\n",
       "    }\n",
       "\n",
       "    .dataframe tbody tr th {\n",
       "        vertical-align: top;\n",
       "    }\n",
       "\n",
       "    .dataframe thead th {\n",
       "        text-align: right;\n",
       "    }\n",
       "</style>\n",
       "<table border=\"1\" class=\"dataframe\">\n",
       "  <thead>\n",
       "    <tr style=\"text-align: right;\">\n",
       "      <th></th>\n",
       "      <th>session_id_hash</th>\n",
       "      <th>pred_item_ids</th>\n",
       "      <th>pred_item_scores_weighted</th>\n",
       "    </tr>\n",
       "    <tr>\n",
       "      <th>npartitions=2</th>\n",
       "      <th></th>\n",
       "      <th></th>\n",
       "      <th></th>\n",
       "    </tr>\n",
       "  </thead>\n",
       "  <tbody>\n",
       "    <tr>\n",
       "      <th></th>\n",
       "      <td>int64</td>\n",
       "      <td>float64</td>\n",
       "      <td>float64</td>\n",
       "    </tr>\n",
       "    <tr>\n",
       "      <th></th>\n",
       "      <td>...</td>\n",
       "      <td>...</td>\n",
       "      <td>...</td>\n",
       "    </tr>\n",
       "    <tr>\n",
       "      <th></th>\n",
       "      <td>...</td>\n",
       "      <td>...</td>\n",
       "      <td>...</td>\n",
       "    </tr>\n",
       "  </tbody>\n",
       "</table>\n",
       "</div>\n",
       "<div>Dask Name: read-parquet, 2 tasks</div>"
      ],
      "text/plain": [
       "<dask_cudf.DataFrame | 2 tasks | 2 npartitions>"
      ]
     },
     "execution_count": 17,
     "metadata": {},
     "output_type": "execute_result"
    }
   ],
   "source": [
    "test_results_merged_folds_df = dask_cudf.read_parquet(aggregated_sum_files)\n",
    "test_results_merged_folds_df"
   ]
  },
  {
   "cell_type": "code",
   "execution_count": 18,
   "id": "48e42675",
   "metadata": {},
   "outputs": [
    {
     "data": {
      "text/html": [
       "<div><strong>Dask DataFrame Structure:</strong></div>\n",
       "<div>\n",
       "<style scoped>\n",
       "    .dataframe tbody tr th:only-of-type {\n",
       "        vertical-align: middle;\n",
       "    }\n",
       "\n",
       "    .dataframe tbody tr th {\n",
       "        vertical-align: top;\n",
       "    }\n",
       "\n",
       "    .dataframe thead th {\n",
       "        text-align: right;\n",
       "    }\n",
       "</style>\n",
       "<table border=\"1\" class=\"dataframe\">\n",
       "  <thead>\n",
       "    <tr style=\"text-align: right;\">\n",
       "      <th></th>\n",
       "      <th>session_id_hash</th>\n",
       "      <th>pred_item_ids</th>\n",
       "      <th>pred_item_scores_weighted</th>\n",
       "    </tr>\n",
       "    <tr>\n",
       "      <th>npartitions=1</th>\n",
       "      <th></th>\n",
       "      <th></th>\n",
       "      <th></th>\n",
       "    </tr>\n",
       "  </thead>\n",
       "  <tbody>\n",
       "    <tr>\n",
       "      <th></th>\n",
       "      <td>int64</td>\n",
       "      <td>float64</td>\n",
       "      <td>float64</td>\n",
       "    </tr>\n",
       "    <tr>\n",
       "      <th></th>\n",
       "      <td>...</td>\n",
       "      <td>...</td>\n",
       "      <td>...</td>\n",
       "    </tr>\n",
       "  </tbody>\n",
       "</table>\n",
       "</div>\n",
       "<div>Dask Name: reset_index, 6 tasks</div>"
      ],
      "text/plain": [
       "<dask_cudf.DataFrame | 6 tasks | 1 npartitions>"
      ]
     },
     "execution_count": 18,
     "metadata": {},
     "output_type": "execute_result"
    }
   ],
   "source": [
    "test_results_merged_folds_grouped_df = test_results_merged_folds_df.groupby(['session_id_hash', 'pred_item_ids'])['pred_item_scores_weighted'].sum().reset_index()\n",
    "test_results_merged_folds_grouped_df"
   ]
  },
  {
   "cell_type": "code",
   "execution_count": 19,
   "id": "2cf58e5d",
   "metadata": {},
   "outputs": [],
   "source": [
    "test_results_merged_folds_grouped_df.to_parquet(TEST_PREDS_SCORED+\"_final\")"
   ]
  },
  {
   "cell_type": "markdown",
   "id": "9ed73def",
   "metadata": {},
   "source": [
    "### Group top preds into sessions"
   ]
  },
  {
   "cell_type": "code",
   "execution_count": 14,
   "id": "df3d563f",
   "metadata": {},
   "outputs": [],
   "source": [
    "test_pred_scores_summed_cdf = cudf.read_parquet(TEST_PREDS_SCORED)"
   ]
  },
  {
   "cell_type": "code",
   "execution_count": 15,
   "id": "ae6be28c",
   "metadata": {},
   "outputs": [
    {
     "data": {
      "text/html": [
       "<div>\n",
       "<style scoped>\n",
       "    .dataframe tbody tr th:only-of-type {\n",
       "        vertical-align: middle;\n",
       "    }\n",
       "\n",
       "    .dataframe tbody tr th {\n",
       "        vertical-align: top;\n",
       "    }\n",
       "\n",
       "    .dataframe thead th {\n",
       "        text-align: right;\n",
       "    }\n",
       "</style>\n",
       "<table border=\"1\" class=\"dataframe\">\n",
       "  <thead>\n",
       "    <tr style=\"text-align: right;\">\n",
       "      <th></th>\n",
       "      <th>session_id_hash</th>\n",
       "      <th>pred_item_ids</th>\n",
       "      <th>pred_item_scores_weighted</th>\n",
       "    </tr>\n",
       "    <tr>\n",
       "      <th>__null_dask_index__</th>\n",
       "      <th></th>\n",
       "      <th></th>\n",
       "      <th></th>\n",
       "    </tr>\n",
       "  </thead>\n",
       "  <tbody>\n",
       "    <tr>\n",
       "      <th>0</th>\n",
       "      <td>3863181</td>\n",
       "      <td>496370.0</td>\n",
       "      <td>0.032411</td>\n",
       "    </tr>\n",
       "    <tr>\n",
       "      <th>1</th>\n",
       "      <td>4065529</td>\n",
       "      <td>115673.0</td>\n",
       "      <td>0.045172</td>\n",
       "    </tr>\n",
       "    <tr>\n",
       "      <th>2</th>\n",
       "      <td>3224889</td>\n",
       "      <td>182927.0</td>\n",
       "      <td>0.003851</td>\n",
       "    </tr>\n",
       "    <tr>\n",
       "      <th>3</th>\n",
       "      <td>994989</td>\n",
       "      <td>22475.0</td>\n",
       "      <td>0.004814</td>\n",
       "    </tr>\n",
       "    <tr>\n",
       "      <th>4</th>\n",
       "      <td>769441</td>\n",
       "      <td>301606.0</td>\n",
       "      <td>0.001168</td>\n",
       "    </tr>\n",
       "    <tr>\n",
       "      <th>...</th>\n",
       "      <td>...</td>\n",
       "      <td>...</td>\n",
       "      <td>...</td>\n",
       "    </tr>\n",
       "    <tr>\n",
       "      <th>180722896</th>\n",
       "      <td>4622781</td>\n",
       "      <td>93602.0</td>\n",
       "      <td>18.983492</td>\n",
       "    </tr>\n",
       "    <tr>\n",
       "      <th>180722897</th>\n",
       "      <td>3883096</td>\n",
       "      <td>502762.0</td>\n",
       "      <td>0.004093</td>\n",
       "    </tr>\n",
       "    <tr>\n",
       "      <th>180722898</th>\n",
       "      <td>2392399</td>\n",
       "      <td>397213.0</td>\n",
       "      <td>0.004097</td>\n",
       "    </tr>\n",
       "    <tr>\n",
       "      <th>180722899</th>\n",
       "      <td>1189921</td>\n",
       "      <td>215467.0</td>\n",
       "      <td>0.016455</td>\n",
       "    </tr>\n",
       "    <tr>\n",
       "      <th>180722900</th>\n",
       "      <td>1929173</td>\n",
       "      <td>252928.0</td>\n",
       "      <td>4.453222</td>\n",
       "    </tr>\n",
       "  </tbody>\n",
       "</table>\n",
       "<p>180722901 rows × 3 columns</p>\n",
       "</div>"
      ],
      "text/plain": [
       "                     session_id_hash  pred_item_ids  pred_item_scores_weighted\n",
       "__null_dask_index__                                                           \n",
       "0                            3863181       496370.0                   0.032411\n",
       "1                            4065529       115673.0                   0.045172\n",
       "2                            3224889       182927.0                   0.003851\n",
       "3                             994989        22475.0                   0.004814\n",
       "4                             769441       301606.0                   0.001168\n",
       "...                              ...            ...                        ...\n",
       "180722896                    4622781        93602.0                  18.983492\n",
       "180722897                    3883096       502762.0                   0.004093\n",
       "180722898                    2392399       397213.0                   0.004097\n",
       "180722899                    1189921       215467.0                   0.016455\n",
       "180722900                    1929173       252928.0                   4.453222\n",
       "\n",
       "[180722901 rows x 3 columns]"
      ]
     },
     "execution_count": 15,
     "metadata": {},
     "output_type": "execute_result"
    }
   ],
   "source": [
    "test_pred_scores_summed_cdf"
   ]
  },
  {
   "cell_type": "code",
   "execution_count": 16,
   "id": "78cfbd60",
   "metadata": {
    "scrolled": true
   },
   "outputs": [
    {
     "data": {
      "text/html": [
       "<div>\n",
       "<style scoped>\n",
       "    .dataframe tbody tr th:only-of-type {\n",
       "        vertical-align: middle;\n",
       "    }\n",
       "\n",
       "    .dataframe tbody tr th {\n",
       "        vertical-align: top;\n",
       "    }\n",
       "\n",
       "    .dataframe thead th {\n",
       "        text-align: right;\n",
       "    }\n",
       "</style>\n",
       "<table border=\"1\" class=\"dataframe\">\n",
       "  <thead>\n",
       "    <tr style=\"text-align: right;\">\n",
       "      <th></th>\n",
       "      <th>session_id_hash</th>\n",
       "      <th>pred_item_ids</th>\n",
       "      <th>pred_item_scores_weighted</th>\n",
       "    </tr>\n",
       "  </thead>\n",
       "  <tbody>\n",
       "    <tr>\n",
       "      <th>0</th>\n",
       "      <td>2</td>\n",
       "      <td>[221531.0, 105170.0, 330512.0, 8303.0, 213290....</td>\n",
       "      <td>[88.35344502508332, 35.55022974899035, 18.6937...</td>\n",
       "    </tr>\n",
       "    <tr>\n",
       "      <th>1</th>\n",
       "      <td>33</td>\n",
       "      <td>[278092.0, 376278.0, 128760.0, 351866.0, 79562...</td>\n",
       "      <td>[104.39880671402057, 12.235515430993477, 11.66...</td>\n",
       "    </tr>\n",
       "    <tr>\n",
       "      <th>2</th>\n",
       "      <td>54</td>\n",
       "      <td>[199137.0, 34047.0, 200341.0, 33193.0, 318976....</td>\n",
       "      <td>[9.008235012540148, 8.13507718646635, 7.598052...</td>\n",
       "    </tr>\n",
       "    <tr>\n",
       "      <th>3</th>\n",
       "      <td>55</td>\n",
       "      <td>[226466.0, 88631.0, 215086.0, 384756.0, 280317...</td>\n",
       "      <td>[39.57287559171993, 10.541324842056408, 10.186...</td>\n",
       "    </tr>\n",
       "    <tr>\n",
       "      <th>4</th>\n",
       "      <td>63</td>\n",
       "      <td>[79562.0, 74071.0, 351866.0, 448530.0, 372935....</td>\n",
       "      <td>[65.9833019778118, 64.49488849112365, 4.170873...</td>\n",
       "    </tr>\n",
       "    <tr>\n",
       "      <th>...</th>\n",
       "      <td>...</td>\n",
       "      <td>...</td>\n",
       "      <td>...</td>\n",
       "    </tr>\n",
       "    <tr>\n",
       "      <th>332242</th>\n",
       "      <td>5266853</td>\n",
       "      <td>[75016.0, 255406.0, 236069.0, 234711.0, 75213....</td>\n",
       "      <td>[93.76059495323233, 9.820606105132505, 9.31971...</td>\n",
       "    </tr>\n",
       "    <tr>\n",
       "      <th>332243</th>\n",
       "      <td>5266889</td>\n",
       "      <td>[474449.0, 91025.0, 8870.0, 298579.0, 474033.0...</td>\n",
       "      <td>[80.56800175254035, 25.245654223340853, 16.914...</td>\n",
       "    </tr>\n",
       "    <tr>\n",
       "      <th>332244</th>\n",
       "      <td>5266910</td>\n",
       "      <td>[155497.0, 403054.0, 398822.0, 347755.0, 32021...</td>\n",
       "      <td>[62.749846468035074, 36.790424820437295, 29.52...</td>\n",
       "    </tr>\n",
       "    <tr>\n",
       "      <th>332245</th>\n",
       "      <td>5266915</td>\n",
       "      <td>[357458.0, 298925.0, 194814.0, 428232.0, 24584...</td>\n",
       "      <td>[62.709502916084325, 34.50058238086534, 10.788...</td>\n",
       "    </tr>\n",
       "    <tr>\n",
       "      <th>332246</th>\n",
       "      <td>5266957</td>\n",
       "      <td>[190576.0, 489209.0, 363493.0, 318545.0, 28990...</td>\n",
       "      <td>[35.843385423384106, 30.33254682198326, 11.012...</td>\n",
       "    </tr>\n",
       "  </tbody>\n",
       "</table>\n",
       "<p>332247 rows × 3 columns</p>\n",
       "</div>"
      ],
      "text/plain": [
       "        session_id_hash                                      pred_item_ids  \\\n",
       "0                     2  [221531.0, 105170.0, 330512.0, 8303.0, 213290....   \n",
       "1                    33  [278092.0, 376278.0, 128760.0, 351866.0, 79562...   \n",
       "2                    54  [199137.0, 34047.0, 200341.0, 33193.0, 318976....   \n",
       "3                    55  [226466.0, 88631.0, 215086.0, 384756.0, 280317...   \n",
       "4                    63  [79562.0, 74071.0, 351866.0, 448530.0, 372935....   \n",
       "...                 ...                                                ...   \n",
       "332242          5266853  [75016.0, 255406.0, 236069.0, 234711.0, 75213....   \n",
       "332243          5266889  [474449.0, 91025.0, 8870.0, 298579.0, 474033.0...   \n",
       "332244          5266910  [155497.0, 403054.0, 398822.0, 347755.0, 32021...   \n",
       "332245          5266915  [357458.0, 298925.0, 194814.0, 428232.0, 24584...   \n",
       "332246          5266957  [190576.0, 489209.0, 363493.0, 318545.0, 28990...   \n",
       "\n",
       "                                pred_item_scores_weighted  \n",
       "0       [88.35344502508332, 35.55022974899035, 18.6937...  \n",
       "1       [104.39880671402057, 12.235515430993477, 11.66...  \n",
       "2       [9.008235012540148, 8.13507718646635, 7.598052...  \n",
       "3       [39.57287559171993, 10.541324842056408, 10.186...  \n",
       "4       [65.9833019778118, 64.49488849112365, 4.170873...  \n",
       "...                                                   ...  \n",
       "332242  [93.76059495323233, 9.820606105132505, 9.31971...  \n",
       "332243  [80.56800175254035, 25.245654223340853, 16.914...  \n",
       "332244  [62.749846468035074, 36.790424820437295, 29.52...  \n",
       "332245  [62.709502916084325, 34.50058238086534, 10.788...  \n",
       "332246  [35.843385423384106, 30.33254682198326, 11.012...  \n",
       "\n",
       "[332247 rows x 3 columns]"
      ]
     },
     "execution_count": 16,
     "metadata": {},
     "output_type": "execute_result"
    }
   ],
   "source": [
    "test_results_ensembled_preds_cdf = group_ensembled_session_preds(test_pred_scores_summed_cdf, group_by_fold=False)\n",
    "test_results_ensembled_preds_cdf"
   ]
  },
  {
   "cell_type": "code",
   "execution_count": 17,
   "id": "fb822fda",
   "metadata": {},
   "outputs": [],
   "source": [
    "test_results_ensembled_preds_df = test_results_ensembled_preds_cdf.to_pandas()"
   ]
  },
  {
   "cell_type": "code",
   "execution_count": 18,
   "id": "f49be37e",
   "metadata": {},
   "outputs": [
    {
     "data": {
      "text/plain": [
       "count    332247.000000\n",
       "mean        543.941408\n",
       "std         265.417406\n",
       "min         138.000000\n",
       "25%         365.000000\n",
       "50%         477.000000\n",
       "75%         641.000000\n",
       "max        2720.000000\n",
       "Name: pred_item_ids, dtype: float64"
      ]
     },
     "execution_count": 18,
     "metadata": {},
     "output_type": "execute_result"
    }
   ],
   "source": [
    "test_results_ensembled_preds_df['pred_item_ids'].apply(len).describe()"
   ]
  },
  {
   "cell_type": "code",
   "execution_count": 19,
   "id": "55d7b5bd",
   "metadata": {},
   "outputs": [],
   "source": [
    "test_results_ensembled_preds_df['pred_item_ids'] = \\\n",
    "        test_results_ensembled_preds_df['pred_item_ids'].apply(lambda x: list([int(y) for y in x])[:100])\n",
    "test_results_ensembled_preds_df['pred_item_scores_weighted'] = \\\n",
    "        test_results_ensembled_preds_df['pred_item_scores_weighted'].apply(lambda x: x[:100])"
   ]
  },
  {
   "cell_type": "code",
   "execution_count": 20,
   "id": "3496bad8",
   "metadata": {},
   "outputs": [
    {
     "data": {
      "text/html": [
       "<div>\n",
       "<style scoped>\n",
       "    .dataframe tbody tr th:only-of-type {\n",
       "        vertical-align: middle;\n",
       "    }\n",
       "\n",
       "    .dataframe tbody tr th {\n",
       "        vertical-align: top;\n",
       "    }\n",
       "\n",
       "    .dataframe thead th {\n",
       "        text-align: right;\n",
       "    }\n",
       "</style>\n",
       "<table border=\"1\" class=\"dataframe\">\n",
       "  <thead>\n",
       "    <tr style=\"text-align: right;\">\n",
       "      <th></th>\n",
       "      <th>session_id_hash</th>\n",
       "      <th>pred_item_ids</th>\n",
       "      <th>pred_item_scores_weighted</th>\n",
       "    </tr>\n",
       "  </thead>\n",
       "  <tbody>\n",
       "    <tr>\n",
       "      <th>0</th>\n",
       "      <td>2</td>\n",
       "      <td>[221531, 105170, 330512, 8303, 213290, 489691,...</td>\n",
       "      <td>[88.35344502508332, 35.55022974899035, 18.6937...</td>\n",
       "    </tr>\n",
       "    <tr>\n",
       "      <th>1</th>\n",
       "      <td>33</td>\n",
       "      <td>[278092, 376278, 128760, 351866, 79562, 74071,...</td>\n",
       "      <td>[104.39880671402057, 12.235515430993477, 11.66...</td>\n",
       "    </tr>\n",
       "    <tr>\n",
       "      <th>2</th>\n",
       "      <td>54</td>\n",
       "      <td>[199137, 34047, 200341, 33193, 318976, 45328, ...</td>\n",
       "      <td>[9.008235012540148, 8.13507718646635, 7.598052...</td>\n",
       "    </tr>\n",
       "    <tr>\n",
       "      <th>3</th>\n",
       "      <td>55</td>\n",
       "      <td>[226466, 88631, 215086, 384756, 280317, 130221...</td>\n",
       "      <td>[39.57287559171993, 10.541324842056408, 10.186...</td>\n",
       "    </tr>\n",
       "    <tr>\n",
       "      <th>4</th>\n",
       "      <td>63</td>\n",
       "      <td>[79562, 74071, 351866, 448530, 372935, 508117,...</td>\n",
       "      <td>[65.9833019778118, 64.49488849112365, 4.170873...</td>\n",
       "    </tr>\n",
       "    <tr>\n",
       "      <th>...</th>\n",
       "      <td>...</td>\n",
       "      <td>...</td>\n",
       "      <td>...</td>\n",
       "    </tr>\n",
       "    <tr>\n",
       "      <th>332242</th>\n",
       "      <td>5266853</td>\n",
       "      <td>[75016, 255406, 236069, 234711, 75213, 154692,...</td>\n",
       "      <td>[93.76059495323233, 9.820606105132505, 9.31971...</td>\n",
       "    </tr>\n",
       "    <tr>\n",
       "      <th>332243</th>\n",
       "      <td>5266889</td>\n",
       "      <td>[474449, 91025, 8870, 298579, 474033, 402263, ...</td>\n",
       "      <td>[80.56800175254035, 25.245654223340853, 16.914...</td>\n",
       "    </tr>\n",
       "    <tr>\n",
       "      <th>332244</th>\n",
       "      <td>5266910</td>\n",
       "      <td>[155497, 403054, 398822, 347755, 320210, 77268...</td>\n",
       "      <td>[62.749846468035074, 36.790424820437295, 29.52...</td>\n",
       "    </tr>\n",
       "    <tr>\n",
       "      <th>332245</th>\n",
       "      <td>5266915</td>\n",
       "      <td>[357458, 298925, 194814, 428232, 245849, 10760...</td>\n",
       "      <td>[62.709502916084325, 34.50058238086534, 10.788...</td>\n",
       "    </tr>\n",
       "    <tr>\n",
       "      <th>332246</th>\n",
       "      <td>5266957</td>\n",
       "      <td>[190576, 489209, 363493, 318545, 28990, 306171...</td>\n",
       "      <td>[35.843385423384106, 30.33254682198326, 11.012...</td>\n",
       "    </tr>\n",
       "  </tbody>\n",
       "</table>\n",
       "<p>332247 rows × 3 columns</p>\n",
       "</div>"
      ],
      "text/plain": [
       "        session_id_hash                                      pred_item_ids  \\\n",
       "0                     2  [221531, 105170, 330512, 8303, 213290, 489691,...   \n",
       "1                    33  [278092, 376278, 128760, 351866, 79562, 74071,...   \n",
       "2                    54  [199137, 34047, 200341, 33193, 318976, 45328, ...   \n",
       "3                    55  [226466, 88631, 215086, 384756, 280317, 130221...   \n",
       "4                    63  [79562, 74071, 351866, 448530, 372935, 508117,...   \n",
       "...                 ...                                                ...   \n",
       "332242          5266853  [75016, 255406, 236069, 234711, 75213, 154692,...   \n",
       "332243          5266889  [474449, 91025, 8870, 298579, 474033, 402263, ...   \n",
       "332244          5266910  [155497, 403054, 398822, 347755, 320210, 77268...   \n",
       "332245          5266915  [357458, 298925, 194814, 428232, 245849, 10760...   \n",
       "332246          5266957  [190576, 489209, 363493, 318545, 28990, 306171...   \n",
       "\n",
       "                                pred_item_scores_weighted  \n",
       "0       [88.35344502508332, 35.55022974899035, 18.6937...  \n",
       "1       [104.39880671402057, 12.235515430993477, 11.66...  \n",
       "2       [9.008235012540148, 8.13507718646635, 7.598052...  \n",
       "3       [39.57287559171993, 10.541324842056408, 10.186...  \n",
       "4       [65.9833019778118, 64.49488849112365, 4.170873...  \n",
       "...                                                   ...  \n",
       "332242  [93.76059495323233, 9.820606105132505, 9.31971...  \n",
       "332243  [80.56800175254035, 25.245654223340853, 16.914...  \n",
       "332244  [62.749846468035074, 36.790424820437295, 29.52...  \n",
       "332245  [62.709502916084325, 34.50058238086534, 10.788...  \n",
       "332246  [35.843385423384106, 30.33254682198326, 11.012...  \n",
       "\n",
       "[332247 rows x 3 columns]"
      ]
     },
     "execution_count": 20,
     "metadata": {},
     "output_type": "execute_result"
    }
   ],
   "source": [
    "test_results_ensembled_preds_df"
   ]
  },
  {
   "cell_type": "code",
   "execution_count": null,
   "id": "37b63674",
   "metadata": {},
   "outputs": [],
   "source": [
    "FOR_SUBMISSION_OUTPUT_FOLDER"
   ]
  },
  {
   "cell_type": "code",
   "execution_count": 22,
   "id": "92e253fc",
   "metadata": {},
   "outputs": [],
   "source": [
    "test_results_ensembled_preds_df.to_parquet(os.path.join(FOR_SUBMISSION_OUTPUT_FOLDER, 'test_preds_ensembled_5folds.parquet'))"
   ]
  },
  {
   "cell_type": "markdown",
   "id": "996da6d6",
   "metadata": {},
   "source": [
    "## Submission"
   ]
  },
  {
   "cell_type": "code",
   "execution_count": 23,
   "id": "5ddcc76a",
   "metadata": {},
   "outputs": [],
   "source": [
    "OUTPUT_ENSEMBLE_PATH = FOR_SUBMISSION_OUTPUT_FOLDER\n",
    "os.makedirs(OUTPUT_ENSEMBLE_PATH, exist_ok=True)\n",
    "\n",
    "EMAIL_SUBMISSION = 'EMAIL@DOMAIN.COM'"
   ]
  },
  {
   "cell_type": "code",
   "execution_count": 24,
   "id": "18915b8d",
   "metadata": {},
   "outputs": [],
   "source": [
    "mapping_product_sku_without_urls_df = pd.read_parquet(\n",
    "        os.path.join(\n",
    "            DATA_PATH, \"categories/mapping_product_sku_without_urls.parquet\"\n",
    "        )\n",
    "    )\n",
    "item_id_mapping = dict(\n",
    "    zip(\n",
    "        mapping_product_sku_without_urls_df[\"encoded_product_sku\"].values,\n",
    "        mapping_product_sku_without_urls_df[\"original_product_sku\"].values,\n",
    "    )\n",
    ")"
   ]
  },
  {
   "cell_type": "code",
   "execution_count": 25,
   "id": "f810a916",
   "metadata": {},
   "outputs": [
    {
     "data": {
      "text/html": [
       "<div>\n",
       "<style scoped>\n",
       "    .dataframe tbody tr th:only-of-type {\n",
       "        vertical-align: middle;\n",
       "    }\n",
       "\n",
       "    .dataframe tbody tr th {\n",
       "        vertical-align: top;\n",
       "    }\n",
       "\n",
       "    .dataframe thead th {\n",
       "        text-align: right;\n",
       "    }\n",
       "</style>\n",
       "<table border=\"1\" class=\"dataframe\">\n",
       "  <thead>\n",
       "    <tr style=\"text-align: right;\">\n",
       "      <th></th>\n",
       "      <th>session_id_hash</th>\n",
       "      <th>original_session_id_hash</th>\n",
       "    </tr>\n",
       "  </thead>\n",
       "  <tbody>\n",
       "    <tr>\n",
       "      <th>0</th>\n",
       "      <td>0</td>\n",
       "      <td>None</td>\n",
       "    </tr>\n",
       "    <tr>\n",
       "      <th>1</th>\n",
       "      <td>1</td>\n",
       "      <td>00000114e1075962f022114fcfc17f2d874e694ac5d201...</td>\n",
       "    </tr>\n",
       "    <tr>\n",
       "      <th>2</th>\n",
       "      <td>2</td>\n",
       "      <td>000001cc2b6d024f5c1d93536c2f22e7adb3f390ff0212...</td>\n",
       "    </tr>\n",
       "    <tr>\n",
       "      <th>3</th>\n",
       "      <td>3</td>\n",
       "      <td>00000277639fc5c6f816654b78bf3654ece7fd53a7338f...</td>\n",
       "    </tr>\n",
       "    <tr>\n",
       "      <th>4</th>\n",
       "      <td>4</td>\n",
       "      <td>000009f36a40de1d557afc083dbb3fc03eef2473337bad...</td>\n",
       "    </tr>\n",
       "    <tr>\n",
       "      <th>...</th>\n",
       "      <td>...</td>\n",
       "      <td>...</td>\n",
       "    </tr>\n",
       "    <tr>\n",
       "      <th>5266968</th>\n",
       "      <td>5266968</td>\n",
       "      <td>ffffed918e1086333206d96f1fae684de5774866848bb3...</td>\n",
       "    </tr>\n",
       "    <tr>\n",
       "      <th>5266969</th>\n",
       "      <td>5266969</td>\n",
       "      <td>fffff2183ad2daa1db3bc4cd320e7248b2f5a6ef9709c4...</td>\n",
       "    </tr>\n",
       "    <tr>\n",
       "      <th>5266970</th>\n",
       "      <td>5266970</td>\n",
       "      <td>fffff429d16c1f43796e2c7ccad8a34f8a37b59927b5b4...</td>\n",
       "    </tr>\n",
       "    <tr>\n",
       "      <th>5266971</th>\n",
       "      <td>5266971</td>\n",
       "      <td>fffff68e9f346ad171103ae6125899a72c0d77d2d0637c...</td>\n",
       "    </tr>\n",
       "    <tr>\n",
       "      <th>5266972</th>\n",
       "      <td>5266972</td>\n",
       "      <td>fffffc128ba14ec4d4b2a230b4352453843b3bb59becf5...</td>\n",
       "    </tr>\n",
       "  </tbody>\n",
       "</table>\n",
       "<p>5266973 rows × 2 columns</p>\n",
       "</div>"
      ],
      "text/plain": [
       "         session_id_hash                           original_session_id_hash\n",
       "0                      0                                               None\n",
       "1                      1  00000114e1075962f022114fcfc17f2d874e694ac5d201...\n",
       "2                      2  000001cc2b6d024f5c1d93536c2f22e7adb3f390ff0212...\n",
       "3                      3  00000277639fc5c6f816654b78bf3654ece7fd53a7338f...\n",
       "4                      4  000009f36a40de1d557afc083dbb3fc03eef2473337bad...\n",
       "...                  ...                                                ...\n",
       "5266968          5266968  ffffed918e1086333206d96f1fae684de5774866848bb3...\n",
       "5266969          5266969  fffff2183ad2daa1db3bc4cd320e7248b2f5a6ef9709c4...\n",
       "5266970          5266970  fffff429d16c1f43796e2c7ccad8a34f8a37b59927b5b4...\n",
       "5266971          5266971  fffff68e9f346ad171103ae6125899a72c0d77d2d0637c...\n",
       "5266972          5266972  fffffc128ba14ec4d4b2a230b4352453843b3bb59becf5...\n",
       "\n",
       "[5266973 rows x 2 columns]"
      ]
     },
     "execution_count": 25,
     "metadata": {},
     "output_type": "execute_result"
    }
   ],
   "source": [
    "# Loading session id mapping to encode session ids used for prediction\n",
    "session_id_mapping_df = pd.read_parquet(\n",
    "        os.path.join(\n",
    "            DATA_PATH, \"categories/unique.session_id_hash.parquet\"\n",
    "        )\n",
    "    ).reset_index()\n",
    "session_id_mapping_df.columns = ['session_id_hash', 'original_session_id_hash']\n",
    "session_id_mapping_df"
   ]
  },
  {
   "cell_type": "code",
   "execution_count": 26,
   "id": "16c76493",
   "metadata": {},
   "outputs": [
    {
     "data": {
      "text/html": [
       "<div>\n",
       "<style scoped>\n",
       "    .dataframe tbody tr th:only-of-type {\n",
       "        vertical-align: middle;\n",
       "    }\n",
       "\n",
       "    .dataframe tbody tr th {\n",
       "        vertical-align: top;\n",
       "    }\n",
       "\n",
       "    .dataframe thead th {\n",
       "        text-align: right;\n",
       "    }\n",
       "</style>\n",
       "<table border=\"1\" class=\"dataframe\">\n",
       "  <thead>\n",
       "    <tr style=\"text-align: right;\">\n",
       "      <th></th>\n",
       "      <th>session_id_hash</th>\n",
       "      <th>pred_item_ids</th>\n",
       "      <th>pred_item_scores_weighted</th>\n",
       "    </tr>\n",
       "    <tr>\n",
       "      <th>original_session_id_hash</th>\n",
       "      <th></th>\n",
       "      <th></th>\n",
       "      <th></th>\n",
       "    </tr>\n",
       "  </thead>\n",
       "  <tbody>\n",
       "    <tr>\n",
       "      <th>000001cc2b6d024f5c1d93536c2f22e7adb3f390ff0212207d4f5532fab1b9d9</th>\n",
       "      <td>2</td>\n",
       "      <td>[221531, 105170, 330512, 8303, 213290, 489691,...</td>\n",
       "      <td>[88.35344502508332, 35.55022974899035, 18.6937...</td>\n",
       "    </tr>\n",
       "    <tr>\n",
       "      <th>000064267054198e2f5744100c27111c0d0d585dd73e7e3be246f5d853f32183</th>\n",
       "      <td>33</td>\n",
       "      <td>[278092, 376278, 128760, 351866, 79562, 74071,...</td>\n",
       "      <td>[104.39880671402057, 12.235515430993477, 11.66...</td>\n",
       "    </tr>\n",
       "    <tr>\n",
       "      <th>0000976bb88afb92b355acdad71a8951472b1c611d31c4ce1d16d9cde7a609c2</th>\n",
       "      <td>54</td>\n",
       "      <td>[199137, 34047, 200341, 33193, 318976, 45328, ...</td>\n",
       "      <td>[9.008235012540148, 8.13507718646635, 7.598052...</td>\n",
       "    </tr>\n",
       "    <tr>\n",
       "      <th>00009b888f49f538ee3efe2a897e96ce98003b8a9f9f7012535ea5402b56eaed</th>\n",
       "      <td>55</td>\n",
       "      <td>[226466, 88631, 215086, 384756, 280317, 130221...</td>\n",
       "      <td>[39.57287559171993, 10.541324842056408, 10.186...</td>\n",
       "    </tr>\n",
       "    <tr>\n",
       "      <th>0000b30a047691fe5754ff7371fa94df09bf39b8745f94f5458748151e9379a1</th>\n",
       "      <td>63</td>\n",
       "      <td>[79562, 74071, 351866, 448530, 372935, 508117,...</td>\n",
       "      <td>[65.9833019778118, 64.49488849112365, 4.170873...</td>\n",
       "    </tr>\n",
       "    <tr>\n",
       "      <th>...</th>\n",
       "      <td>...</td>\n",
       "      <td>...</td>\n",
       "      <td>...</td>\n",
       "    </tr>\n",
       "    <tr>\n",
       "      <th>fffe99171c38b4615075b5f1bcff7c32e1f2a7411e7f6f5e55ea219d051bad4c</th>\n",
       "      <td>5266853</td>\n",
       "      <td>[75016, 255406, 236069, 234711, 75213, 154692,...</td>\n",
       "      <td>[93.76059495323233, 9.820606105132505, 9.31971...</td>\n",
       "    </tr>\n",
       "    <tr>\n",
       "      <th>fffee976db6c288556a3e817eb0cf176430e9265fd34013549b3c30f6459fc70</th>\n",
       "      <td>5266889</td>\n",
       "      <td>[474449, 91025, 8870, 298579, 474033, 402263, ...</td>\n",
       "      <td>[80.56800175254035, 25.245654223340853, 16.914...</td>\n",
       "    </tr>\n",
       "    <tr>\n",
       "      <th>ffff3eb9d3965596ebed08310c300877e70809c47bfd59f19869b62efed1d7b3</th>\n",
       "      <td>5266910</td>\n",
       "      <td>[155497, 403054, 398822, 347755, 320210, 77268...</td>\n",
       "      <td>[62.749846468035074, 36.790424820437295, 29.52...</td>\n",
       "    </tr>\n",
       "    <tr>\n",
       "      <th>ffff4ebcfe1a162ae0ee4d33c573fd373ffd09e3595295786bb17105f8ba0109</th>\n",
       "      <td>5266915</td>\n",
       "      <td>[357458, 298925, 194814, 428232, 245849, 10760...</td>\n",
       "      <td>[62.709502916084325, 34.50058238086534, 10.788...</td>\n",
       "    </tr>\n",
       "    <tr>\n",
       "      <th>ffffd984fd4393b2bd95dd812ab6f98af4cef5e99919b865bf9df12123986239</th>\n",
       "      <td>5266957</td>\n",
       "      <td>[190576, 489209, 363493, 318545, 28990, 306171...</td>\n",
       "      <td>[35.843385423384106, 30.33254682198326, 11.012...</td>\n",
       "    </tr>\n",
       "  </tbody>\n",
       "</table>\n",
       "<p>332247 rows × 3 columns</p>\n",
       "</div>"
      ],
      "text/plain": [
       "                                                    session_id_hash  \\\n",
       "original_session_id_hash                                              \n",
       "000001cc2b6d024f5c1d93536c2f22e7adb3f390ff02122...                2   \n",
       "000064267054198e2f5744100c27111c0d0d585dd73e7e3...               33   \n",
       "0000976bb88afb92b355acdad71a8951472b1c611d31c4c...               54   \n",
       "00009b888f49f538ee3efe2a897e96ce98003b8a9f9f701...               55   \n",
       "0000b30a047691fe5754ff7371fa94df09bf39b8745f94f...               63   \n",
       "...                                                             ...   \n",
       "fffe99171c38b4615075b5f1bcff7c32e1f2a7411e7f6f5...          5266853   \n",
       "fffee976db6c288556a3e817eb0cf176430e9265fd34013...          5266889   \n",
       "ffff3eb9d3965596ebed08310c300877e70809c47bfd59f...          5266910   \n",
       "ffff4ebcfe1a162ae0ee4d33c573fd373ffd09e35952957...          5266915   \n",
       "ffffd984fd4393b2bd95dd812ab6f98af4cef5e99919b86...          5266957   \n",
       "\n",
       "                                                                                        pred_item_ids  \\\n",
       "original_session_id_hash                                                                                \n",
       "000001cc2b6d024f5c1d93536c2f22e7adb3f390ff02122...  [221531, 105170, 330512, 8303, 213290, 489691,...   \n",
       "000064267054198e2f5744100c27111c0d0d585dd73e7e3...  [278092, 376278, 128760, 351866, 79562, 74071,...   \n",
       "0000976bb88afb92b355acdad71a8951472b1c611d31c4c...  [199137, 34047, 200341, 33193, 318976, 45328, ...   \n",
       "00009b888f49f538ee3efe2a897e96ce98003b8a9f9f701...  [226466, 88631, 215086, 384756, 280317, 130221...   \n",
       "0000b30a047691fe5754ff7371fa94df09bf39b8745f94f...  [79562, 74071, 351866, 448530, 372935, 508117,...   \n",
       "...                                                                                               ...   \n",
       "fffe99171c38b4615075b5f1bcff7c32e1f2a7411e7f6f5...  [75016, 255406, 236069, 234711, 75213, 154692,...   \n",
       "fffee976db6c288556a3e817eb0cf176430e9265fd34013...  [474449, 91025, 8870, 298579, 474033, 402263, ...   \n",
       "ffff3eb9d3965596ebed08310c300877e70809c47bfd59f...  [155497, 403054, 398822, 347755, 320210, 77268...   \n",
       "ffff4ebcfe1a162ae0ee4d33c573fd373ffd09e35952957...  [357458, 298925, 194814, 428232, 245849, 10760...   \n",
       "ffffd984fd4393b2bd95dd812ab6f98af4cef5e99919b86...  [190576, 489209, 363493, 318545, 28990, 306171...   \n",
       "\n",
       "                                                                            pred_item_scores_weighted  \n",
       "original_session_id_hash                                                                               \n",
       "000001cc2b6d024f5c1d93536c2f22e7adb3f390ff02122...  [88.35344502508332, 35.55022974899035, 18.6937...  \n",
       "000064267054198e2f5744100c27111c0d0d585dd73e7e3...  [104.39880671402057, 12.235515430993477, 11.66...  \n",
       "0000976bb88afb92b355acdad71a8951472b1c611d31c4c...  [9.008235012540148, 8.13507718646635, 7.598052...  \n",
       "00009b888f49f538ee3efe2a897e96ce98003b8a9f9f701...  [39.57287559171993, 10.541324842056408, 10.186...  \n",
       "0000b30a047691fe5754ff7371fa94df09bf39b8745f94f...  [65.9833019778118, 64.49488849112365, 4.170873...  \n",
       "...                                                                                               ...  \n",
       "fffe99171c38b4615075b5f1bcff7c32e1f2a7411e7f6f5...  [93.76059495323233, 9.820606105132505, 9.31971...  \n",
       "fffee976db6c288556a3e817eb0cf176430e9265fd34013...  [80.56800175254035, 25.245654223340853, 16.914...  \n",
       "ffff3eb9d3965596ebed08310c300877e70809c47bfd59f...  [62.749846468035074, 36.790424820437295, 29.52...  \n",
       "ffff4ebcfe1a162ae0ee4d33c573fd373ffd09e35952957...  [62.709502916084325, 34.50058238086534, 10.788...  \n",
       "ffffd984fd4393b2bd95dd812ab6f98af4cef5e99919b86...  [35.843385423384106, 30.33254682198326, 11.012...  \n",
       "\n",
       "[332247 rows x 3 columns]"
      ]
     },
     "execution_count": 26,
     "metadata": {},
     "output_type": "execute_result"
    }
   ],
   "source": [
    "test_results_ensembled_preds_sub = test_results_ensembled_preds_df.merge(session_id_mapping_df, on='session_id_hash') \\\n",
    "                    .set_index('original_session_id_hash')\n",
    "test_results_ensembled_preds_sub"
   ]
  },
  {
   "cell_type": "markdown",
   "id": "633c18eb",
   "metadata": {},
   "source": [
    "## Generating submission file"
   ]
  },
  {
   "cell_type": "code",
   "execution_count": 27,
   "id": "566e024b",
   "metadata": {},
   "outputs": [],
   "source": [
    "def generate_submission_file(\n",
    "    test_predictions_df, item_id_mapping, data_path, email_submission, output_folder\n",
    "):\n",
    "    with open(os.path.join(data_path, \"rec_test_phase_2.json\")) as json_file:\n",
    "        test_queries = json.load(json_file)\n",
    "\n",
    "    assert len(test_predictions_df) == len(test_queries)\n",
    "\n",
    "    sessions_not_found = 0\n",
    "    preds_with_length_less_than_20 = 0\n",
    "    count = 0\n",
    "    sessions_lengths_list = []\n",
    "    for session in tqdm(test_queries):\n",
    "        session_id_hash = session[\"query\"][0][\"session_id_hash\"]\n",
    "\n",
    "        session_product_interacted = set(\n",
    "            list(\n",
    "                [\n",
    "                    interaction[\"product_sku_hash\"]\n",
    "                    for interaction in session[\"query\"]\n",
    "                    if interaction[\"product_sku_hash\"] is not None\n",
    "                ]\n",
    "            )\n",
    "        )\n",
    "\n",
    "        if session_id_hash in test_predictions_df.index:\n",
    "            predictions = test_predictions_df.loc[session_id_hash][\"pred_item_ids\"]\n",
    "\n",
    "            # Converting to the original product sku\n",
    "            predictions = list(\n",
    "                [\n",
    "                    item_id_mapping[pred_item]\n",
    "                    for pred_item in predictions\n",
    "                    if item_id_mapping[pred_item] != \"missing\"\n",
    "                ]\n",
    "            )\n",
    "\n",
    "            # assert len(set(predictions).intersection(session_product_interacted)) == 0\n",
    "\n",
    "            # Removing from predictions any item that was already interacted within the session\n",
    "            predictions = [\n",
    "                p for p in predictions if p not in session_product_interacted\n",
    "            ]\n",
    "\n",
    "            if len(predictions) < 20:\n",
    "                preds_with_length_less_than_20 += 1\n",
    "\n",
    "        else:\n",
    "            raise Exception(\n",
    "                \"Session {} not found in the preprocessed test set\".format(session)\n",
    "            )            \n",
    "\n",
    "        sessions_lengths_list.append(len(predictions))\n",
    "\n",
    "        count += 1\n",
    "        session[\"label\"] = predictions[:20]\n",
    "\n",
    "    total_sessions = len(test_queries)\n",
    "    print(\n",
    "        f\"# Total sessions: {total_sessions} - # Sessions not found: {sessions_not_found} - # Sessions with length < 20: {preds_with_length_less_than_20} - avg length: \"\n",
    "        + str(sum(sessions_lengths_list) / len(sessions_lengths_list))\n",
    "    )\n",
    "\n",
    "    local_prediction_file = \"{}_{}.json\".format(\n",
    "        email_submission.replace(\"@\", \"_\"), round(time.time() * 1000)\n",
    "    )\n",
    "    local_prediction_file_path = os.path.join(output_folder, local_prediction_file)\n",
    "    print(\"Generating JSON file with predictions\")\n",
    "    with open(local_prediction_file_path, \"w\") as fp:\n",
    "        json.dump(test_queries, fp, indent=2)\n",
    "\n",
    "    return local_prediction_file_path"
   ]
  },
  {
   "cell_type": "code",
   "execution_count": 28,
   "id": "0701248c",
   "metadata": {},
   "outputs": [
    {
     "name": "stderr",
     "output_type": "stream",
     "text": [
      "100%|██████████| 332247/332247 [00:45<00:00, 7314.71it/s]\n"
     ]
    },
    {
     "name": "stdout",
     "output_type": "stream",
     "text": [
      "# Total sessions: 332247 - # Sessions not found: 0 - # Sessions with length < 20: 0 - avg length: 99.9966561022372\n",
      "Generating JSON file with predictions\n"
     ]
    }
   ],
   "source": [
    "local_prediction_file_path = generate_submission_file(\n",
    "    test_results_ensembled_preds_sub, item_id_mapping, DATA_PATH, EMAIL_SUBMISSION, OUTPUT_ENSEMBLE_PATH\n",
    ")"
   ]
  },
  {
   "cell_type": "code",
   "execution_count": null,
   "id": "43db5930",
   "metadata": {},
   "outputs": [],
   "source": [
    "!ls $local_prediction_file_path"
   ]
  },
  {
   "cell_type": "markdown",
   "id": "2806f04c",
   "metadata": {},
   "source": [
    "## Submission"
   ]
  },
  {
   "cell_type": "code",
   "execution_count": 5,
   "id": "6e832f3e",
   "metadata": {},
   "outputs": [],
   "source": [
    "from datetime import datetime\n",
    "\n",
    "import boto3\n",
    "from dotenv import load_dotenv\n",
    "\n",
    "# load envs from env file\n",
    "load_dotenv(\n",
    "    verbose=True,\n",
    "    dotenv_path=\"../transformers/sigir_ecom_challenge_code/submission/upload.env\",\n",
    ")\n",
    "\n",
    "# env info should be in your env file\n",
    "BUCKET_NAME = os.getenv(\"BUCKET_NAME\")  # you received it in your e-mail\n",
    "EMAIL = os.getenv(\"EMAIL\")  # the e-mail you used to sign up\n",
    "PARTICIPANT_ID = os.getenv(\"PARTICIPANT_ID\")  # you received it in your e-mail\n",
    "AWS_ACCESS_KEY = os.getenv(\"AWS_ACCESS_KEY\")  # you received it in your e-mail\n",
    "AWS_SECRET_KEY = os.getenv(\"AWS_SECRET_KEY\")  # you received it in your e-mail\n",
    "\n",
    "\n",
    "def upload_submission(local_file: str, task: str):\n",
    "\n",
    "    print(\"Starting submission at {}...\\n\".format(datetime.utcnow()))\n",
    "    # instantiate boto3 client\n",
    "    s3_client = boto3.client(\n",
    "        \"s3\",\n",
    "        aws_access_key_id=AWS_ACCESS_KEY,\n",
    "        aws_secret_access_key=AWS_SECRET_KEY,\n",
    "        region_name=\"us-west-2\",\n",
    "    )\n",
    "    s3_file_name = os.path.basename(local_file)\n",
    "    # prepare s3 path according to the spec\n",
    "    s3_file_path = \"{}/{}/{}\".format(\n",
    "        task, PARTICIPANT_ID, s3_file_name\n",
    "    )  # it needs to be like e.g. \"rec/id/*.json\"\n",
    "    # upload file\n",
    "    s3_client.upload_file(local_file, BUCKET_NAME, s3_file_path)\n",
    "    # say bye\n",
    "    print(\"\\nAll done at {}: see you, space cowboy!\".format(datetime.utcnow()))\n",
    "\n",
    "    return"
   ]
  },
  {
   "cell_type": "code",
   "execution_count": 6,
   "id": "dcf76fbc",
   "metadata": {},
   "outputs": [
    {
     "name": "stdout",
     "output_type": "stream",
     "text": [
      "Starting submission at 2021-06-18 13:46:39.478654...\n",
      "\n",
      "\n",
      "All done at 2021-06-18 13:50:17.383293: see you, space cowboy!\n"
     ]
    }
   ],
   "source": [
    "TASK = \"rec\"\n",
    "upload_submission(local_file=local_prediction_file_path, task=TASK)"
   ]
  },
  {
   "cell_type": "code",
   "execution_count": null,
   "id": "be7494ca",
   "metadata": {},
   "outputs": [],
   "source": []
  }
 ],
 "metadata": {
  "kernelspec": {
   "display_name": "Python 3",
   "language": "python",
   "name": "python3"
  },
  "language_info": {
   "codemirror_mode": {
    "name": "ipython",
    "version": 3
   },
   "file_extension": ".py",
   "mimetype": "text/x-python",
   "name": "python",
   "nbconvert_exporter": "python",
   "pygments_lexer": "ipython3",
   "version": "3.7.9"
  }
 },
 "nbformat": 4,
 "nbformat_minor": 5
}
