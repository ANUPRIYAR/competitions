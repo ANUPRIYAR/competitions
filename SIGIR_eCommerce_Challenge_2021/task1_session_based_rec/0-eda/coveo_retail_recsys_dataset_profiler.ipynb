{
 "cells": [
  {
   "cell_type": "code",
   "execution_count": null,
   "metadata": {},
   "outputs": [],
   "source": [
    "#\n",
    "# The MIT License (MIT)\n",
    "\n",
    "# Copyright (c) 2021, NVIDIA CORPORATION\n",
    "\n",
    "# Permission is hereby granted, free of charge, to any person obtaining a copy of\n",
    "# this software and associated documentation files (the \"Software\"), to deal in\n",
    "# the Software without restriction, including without limitation the rights to\n",
    "# use, copy, modify, merge, publish, distribute, sublicense, and/or sell copies of\n",
    "# the Software, and to permit persons to whom the Software is furnished to do so,\n",
    "# subject to the following conditions:\n",
    "\n",
    "# The above copyright notice and this permission notice shall be included in all\n",
    "# copies or substantial portions of the Software.\n",
    "\n",
    "# THE SOFTWARE IS PROVIDED \"AS IS\", WITHOUT WARRANTY OF ANY KIND, EXPRESS OR\n",
    "# IMPLIED, INCLUDING BUT NOT LIMITED TO THE WARRANTIES OF MERCHANTABILITY, FITNESS\n",
    "# FOR A PARTICULAR PURPOSE AND NONINFRINGEMENT. IN NO EVENT SHALL THE AUTHORS OR\n",
    "# COPYRIGHT HOLDERS BE LIABLE FOR ANY CLAIM, DAMAGES OR OTHER LIABILITY, WHETHER\n",
    "# IN AN ACTION OF CONTRACT, TORT OR OTHERWISE, ARISING FROM, OUT OF OR IN\n",
    "# CONNECTION WITH THE SOFTWARE OR THE USE OR OTHER DEALINGS IN THE SOFTWARE.\n",
    "#"
   ]
  },
  {
   "cell_type": "markdown",
   "metadata": {},
   "source": [
    "# General statistics of the SIGIR eCommerce Data Challenge dataset, by Coveo\n",
    "## Based on NVIDIA RecSys Dataset Profiler - v1.0"
   ]
  },
  {
   "cell_type": "markdown",
   "metadata": {},
   "source": [
    "### Context\n",
    "\n",
    "This notebook makes it straightforward to assess datasets for recommender systems.\n",
    "It generates some useful statistics and plots from user interactions datasets, that are useful to decide important aspects of recommender systems like:\n",
    "\n",
    "- May Collaborative Filtering algorithms (e.g., Matrix Factorization (MF), Neural Collaborative Filtering (NCF)) be suitable for this dataset (e.g. based on the user-item matrix sparsity and on items and users long-tail distribution)?\n",
    "- Should the recommender system care about recommending items that users have already interacted in the past (like in domains like e-commerce, music)?\n",
    "- How fast the items loose its relevance for users? That answer is important to define how often we should make fresh items recommendable (e.g., retrain the model)\n",
    "- Would the session-based / session-aware recommendation task be relevant for this dataset, to deal with item / user cold start problems? How long are the user sessions? How many sessions per user and what time between his sessions?\n",
    "\n",
    "### How to use\n",
    "You just need to set some variables from the **Config** section and run the full notebook :)\n",
    "\n",
    "### Requirements\n",
    "This notebook uses RAPIDS for GPU-accelerated data analysis. It supports RAPIDS 0.16 or newer.  \n",
    "You can install RAPIDS with ```conda``` following the examples [here](https://rapids.ai/))\n",
    "\n",
    "#### Additional dependencies with pip\n",
    "```\n",
    "dask-cuda>=0.16.0  \n",
    "dask-cudf>=0.16.0  \n",
    "pandas>=1.1.4  \n",
    "matplotlib>=3.3.4  \n",
    "```\n",
    "\n",
    "\n",
    "### Change log\n",
    "- 2021-02-02 - v1.0 - Initial version - Gabriel Moreira\n",
    "\n",
    "### Credits\n",
    "This notebook was created the NVIDIA Merlin team"
   ]
  },
  {
   "cell_type": "markdown",
   "metadata": {},
   "source": [
    "## Imports"
   ]
  },
  {
   "cell_type": "code",
   "execution_count": 1,
   "metadata": {},
   "outputs": [],
   "source": [
    "import os\n",
    "import shutil"
   ]
  },
  {
   "cell_type": "code",
   "execution_count": 2,
   "metadata": {},
   "outputs": [],
   "source": [
    "import cudf\n",
    "import pandas as pd\n",
    "import numpy as np\n",
    "import cupy as cp\n",
    "from collections import OrderedDict\n",
    "from IPython.display import display"
   ]
  },
  {
   "cell_type": "code",
   "execution_count": 3,
   "metadata": {},
   "outputs": [],
   "source": [
    "import matplotlib.pyplot as plt"
   ]
  },
  {
   "cell_type": "code",
   "execution_count": 4,
   "metadata": {},
   "outputs": [],
   "source": [
    "from dask.distributed import Client, wait\n",
    "from dask_cuda import LocalCUDACluster\n",
    "import dask as dask, dask_cudf\n",
    "import rmm\n",
    "from numba import cuda"
   ]
  },
  {
   "cell_type": "markdown",
   "metadata": {},
   "source": [
    "# Config"
   ]
  },
  {
   "cell_type": "markdown",
   "metadata": {},
   "source": [
    "## Dataset metadata"
   ]
  },
  {
   "cell_type": "code",
   "execution_count": 5,
   "metadata": {},
   "outputs": [],
   "source": [
    "#If you change the order of the creation of new keys in the \"dataset_info\" OrderedDict, \n",
    "#the order of the final CSV columns with the dataset profile will change accordingly\n",
    "dataset_info = OrderedDict()\n",
    "dataset_info['name'] = 'coveo'\n",
    "dataset_info['domain'] = 'ecommerce'\n",
    "dataset_info['description'] = 'Data released for the Coveo Data Challenge (browsing_train.csv)'\n",
    "dataset_info['source'] = 'https://github.com/coveooss/SIGIR-ecom-data-challenge'\n",
    "dataset_info['event_types'] = 'clicks and Cart-abandonment.'"
   ]
  },
  {
   "cell_type": "markdown",
   "metadata": {},
   "source": [
    "## Data format and path"
   ]
  },
  {
   "cell_type": "code",
   "execution_count": 6,
   "metadata": {},
   "outputs": [],
   "source": [
    "#Accepted data formats are: csv | tsv | parquet\n",
    "DATA_FORMAT = 'csv' \n",
    "#List of columns names to be used for CSV / TSV files without the header line\n",
    "HEADLESS_CSV_COLUMN_NAMES = None"
   ]
  },
  {
   "cell_type": "code",
   "execution_count": 7,
   "metadata": {},
   "outputs": [
    {
     "name": "stdout",
     "output_type": "stream",
     "text": [
      "./data/coveo_dataset/train/browsing_train.csv\n"
     ]
    }
   ],
   "source": [
    "DATA_FOLDER = \"./data/coveo_dataset/train/\"\n",
    "FILENAME_PATTERN = 'browsing_train.csv'\n",
    "DATA_PATH = os.path.join(DATA_FOLDER, FILENAME_PATTERN)\n",
    "\n",
    "!ls $DATA_PATH"
   ]
  },
  {
   "cell_type": "markdown",
   "metadata": {},
   "source": [
    "## Dataset columns"
   ]
  },
  {
   "cell_type": "code",
   "execution_count": 8,
   "metadata": {},
   "outputs": [],
   "source": [
    "HAS_TIMESTAMP = True\n",
    "HAS_SESSION_ID = True\n",
    "HAS_USER = False\n",
    "\n",
    "# Set these column names from your input dataset\n",
    "COL_ITEM_ID = 'product_sku_hash'\n",
    "COL_USER_ID = None #Can be None if HAS_USER=False\n",
    "COL_DATETIME = 'server_timestamp_epoch_ms' #Can be None if HAS_TIMESTAMP=False\n",
    "COL_SESSION_ID = 'session_id_hash'    #Can be None if HAS_SESSION_ID=False"
   ]
  },
  {
   "cell_type": "code",
   "execution_count": 9,
   "metadata": {},
   "outputs": [],
   "source": [
    "#Do not change\n",
    "cols_origin = [COL_ITEM_ID]\n",
    "if HAS_USER:\n",
    "    cols_origin.append(COL_USER_ID)\n",
    "if HAS_TIMESTAMP:\n",
    "    cols_origin.append(COL_DATETIME)\n",
    "if HAS_SESSION_ID:\n",
    "    cols_origin.append(COL_SESSION_ID)\n",
    "    \n",
    "dataset_info['has_timestamp'] = HAS_TIMESTAMP\n",
    "dataset_info['has_session_id'] = HAS_SESSION_ID"
   ]
  },
  {
   "cell_type": "markdown",
   "metadata": {},
   "source": [
    "## Dates config"
   ]
  },
  {
   "cell_type": "markdown",
   "metadata": {},
   "source": [
    "### Datetime / timestamp conversion"
   ]
  },
  {
   "cell_type": "code",
   "execution_count": 10,
   "metadata": {},
   "outputs": [],
   "source": [
    "#The rest of the notebook expects the Time column to be in 'datetime64' dtype\n",
    "#Possible values:\n",
    "# - None - For a datetime column in a parquet file, keep datetimes as they are (no conversion required)\n",
    "# - 's' - For timestamp in seconds or general date represented as string like: '2016-04-09' or '2019-10-01 02:15:47 UTC'\n",
    "# - 'ms' - For timestamp in miliseconds\n",
    "DATETIME_CONVERTION = 'ms'"
   ]
  },
  {
   "cell_type": "markdown",
   "metadata": {},
   "source": [
    "### Dates filtering"
   ]
  },
  {
   "cell_type": "code",
   "execution_count": 11,
   "metadata": {},
   "outputs": [],
   "source": [
    "#Whether to filter the dataset by date times (inclusive)\n",
    "MIN_DATETIME = None   #pd.Timestamp(2017, 10, 01)\n",
    "MAX_DATETIME = None #pd.Timestamp(2017, 10, 16, 23, 59, 59) #Including hour"
   ]
  },
  {
   "cell_type": "markdown",
   "metadata": {},
   "source": [
    "### Outputs"
   ]
  },
  {
   "cell_type": "code",
   "execution_count": 12,
   "metadata": {},
   "outputs": [],
   "source": [
    "OUTPUT_PATH = 'dataset_profiles_output/'\n",
    "#Wheather to save the dataset info profile to CSV\n",
    "SAVE_DATASET_INFO_CSV = True\n",
    "#Whether to save the item and user frequency cumulative distributions (e.g. for later plotting of multiple datasets distributions in the same chart)\n",
    "SAVE_USERS_ITEMS_CUM_FREQ_DISTR = True"
   ]
  },
  {
   "cell_type": "markdown",
   "metadata": {},
   "source": [
    "## GPU config"
   ]
  },
  {
   "cell_type": "code",
   "execution_count": 13,
   "metadata": {},
   "outputs": [],
   "source": [
    "#The list of GPU devices to be used by Dask-cuDF. Should be comma-separated, e.g., \"0,1,2,3\"\n",
    "CUDA_VISIBLE_DEVICES = \"0\""
   ]
  },
  {
   "cell_type": "code",
   "execution_count": 14,
   "metadata": {},
   "outputs": [],
   "source": [
    "# Caches the dataset into GPU memory. Disable this if you have a dataset larger than GPU memory and you start getting CUDA OOM erros\n",
    "CACHE_DATASET_ON_GPU = True\n",
    "# Max percentage of GPU memory usage. You may want to reduce this limit to a more conservative percentage if you have issues\n",
    "CUDA_SPILL_LIMIT_PERC = 0.8 "
   ]
  },
  {
   "cell_type": "markdown",
   "metadata": {},
   "source": [
    "### Listing the available GPUs"
   ]
  },
  {
   "cell_type": "code",
   "execution_count": 15,
   "metadata": {},
   "outputs": [
    {
     "name": "stdout",
     "output_type": "stream",
     "text": [
      "Thu May 13 21:14:32 2021       \n",
      "+-----------------------------------------------------------------------------+\n",
      "| NVIDIA-SMI 460.32.03    Driver Version: 460.32.03    CUDA Version: 11.2     |\n",
      "|-------------------------------+----------------------+----------------------+\n",
      "| GPU  Name        Persistence-M| Bus-Id        Disp.A | Volatile Uncorr. ECC |\n",
      "| Fan  Temp  Perf  Pwr:Usage/Cap|         Memory-Usage | GPU-Util  Compute M. |\n",
      "|                               |                      |               MIG M. |\n",
      "|===============================+======================+======================|\n",
      "|   0  Tesla V100-SXM2...  Off  | 00000000:61:00.0 Off |                    0 |\n",
      "| N/A   38C    P0    42W / 300W |      3MiB / 32510MiB |      0%      Default |\n",
      "|                               |                      |                  N/A |\n",
      "+-------------------------------+----------------------+----------------------+\n",
      "|   1  Tesla V100-SXM2...  Off  | 00000000:62:00.0 Off |                    0 |\n",
      "| N/A   35C    P0    43W / 300W |      3MiB / 32510MiB |      0%      Default |\n",
      "|                               |                      |                  N/A |\n",
      "+-------------------------------+----------------------+----------------------+\n",
      "|   2  Tesla V100-SXM2...  Off  | 00000000:89:00.0 Off |                    0 |\n",
      "| N/A   36C    P0    42W / 300W |      3MiB / 32510MiB |      0%      Default |\n",
      "|                               |                      |                  N/A |\n",
      "+-------------------------------+----------------------+----------------------+\n",
      "|   3  Tesla V100-SXM2...  Off  | 00000000:8A:00.0 Off |                    0 |\n",
      "| N/A   36C    P0    55W / 300W |      3MiB / 32510MiB |      0%      Default |\n",
      "|                               |                      |                  N/A |\n",
      "+-------------------------------+----------------------+----------------------+\n",
      "                                                                               \n",
      "+-----------------------------------------------------------------------------+\n",
      "| Processes:                                                                  |\n",
      "|  GPU   GI   CI        PID   Type   Process name                  GPU Memory |\n",
      "|        ID   ID                                                   Usage      |\n",
      "|=============================================================================|\n",
      "|  No running processes found                                                 |\n",
      "+-----------------------------------------------------------------------------+\n"
     ]
    }
   ],
   "source": [
    "!nvidia-smi"
   ]
  },
  {
   "cell_type": "markdown",
   "metadata": {},
   "source": [
    "# Setup Dask CUDA cluster"
   ]
  },
  {
   "cell_type": "code",
   "execution_count": 16,
   "metadata": {},
   "outputs": [],
   "source": [
    "os.environ[\"CUDA_VISIBLE_DEVICES\"]=CUDA_VISIBLE_DEVICES"
   ]
  },
  {
   "cell_type": "code",
   "execution_count": 17,
   "metadata": {},
   "outputs": [
    {
     "name": "stdout",
     "output_type": "stream",
     "text": [
      "Dask dir: /tmp/dask-workdir\n"
     ]
    }
   ],
   "source": [
    "#Uses a RAID folder if it is available (DGX), if not it uses the /tmp folder for DASK workspace\n",
    "if os.path.exists('/raid'):\n",
    "    local_directory = '/raid'\n",
    "else:    \n",
    "    local_directory = '/tmp'\n",
    "    \n",
    "dask_workdir = os.path.join(local_directory, 'dask-workdir')    \n",
    "print('Dask dir:', dask_workdir)"
   ]
  },
  {
   "cell_type": "code",
   "execution_count": 18,
   "metadata": {},
   "outputs": [],
   "source": [
    "# Make sure we have a clean worker space for Dask\n",
    "if os.path.isdir(dask_workdir):\n",
    "    shutil.rmtree(dask_workdir)\n",
    "os.mkdir(dask_workdir)"
   ]
  },
  {
   "cell_type": "code",
   "execution_count": 19,
   "metadata": {},
   "outputs": [
    {
     "data": {
      "text/plain": [
       "27271784038.4"
      ]
     },
     "execution_count": 19,
     "metadata": {},
     "output_type": "execute_result"
    }
   ],
   "source": [
    "def _pynvml_mem_size(kind=\"total\", index=0):\n",
    "    import pynvml\n",
    "\n",
    "    pynvml.nvmlInit()\n",
    "    size = None\n",
    "    if kind == \"free\":\n",
    "        size = int(pynvml.nvmlDeviceGetMemoryInfo(pynvml.nvmlDeviceGetHandleByIndex(index)).free)\n",
    "    elif kind == \"total\":\n",
    "        size = int(pynvml.nvmlDeviceGetMemoryInfo(pynvml.nvmlDeviceGetHandleByIndex(index)).total)\n",
    "    else:\n",
    "        raise ValueError(\"{0} not a supported option for device_mem_size.\".format(kind))\n",
    "    pynvml.nvmlShutdown()\n",
    "    return size\n",
    "\n",
    "\n",
    "def device_mem_size(kind=\"total\"):\n",
    "    if kind not in [\"free\", \"total\"]:\n",
    "        raise ValueError(\"{0} not a supported option for device_mem_size.\".format(kind))\n",
    "    try:\n",
    "        if kind == \"free\":\n",
    "            return int(cuda.current_context().get_memory_info()[0])\n",
    "        else:\n",
    "            return int(cuda.current_context().get_memory_info()[1])\n",
    "    except NotImplementedError:\n",
    "        if kind == \"free\":\n",
    "            # Not using NVML \"free\" memory, because it will not include RMM-managed memory\n",
    "            warnings.warn(\"get_memory_info is not supported. Using total device memory from NVML.\")\n",
    "        size = _pynvml_mem_size(kind=\"total\", index=0)\n",
    "    return size\n",
    "\n",
    "\n",
    "def get_rmm_size(size):\n",
    "    return (size // 256) * 256\n",
    "\n",
    "spill_limit = device_mem_size(kind=\"total\") * CUDA_SPILL_LIMIT_PERC # Spill device mem to host at this limit\n",
    "spill_limit"
   ]
  },
  {
   "cell_type": "code",
   "execution_count": 20,
   "metadata": {},
   "outputs": [],
   "source": [
    "cluster = LocalCUDACluster(dashboard_address=':7000',\n",
    "                           local_directory = dask_workdir,\n",
    "                           device_memory_limit = spill_limit)\n",
    "client = Client(cluster)"
   ]
  },
  {
   "cell_type": "code",
   "execution_count": 21,
   "metadata": {},
   "outputs": [
    {
     "data": {
      "text/html": [
       "<table style=\"border: 2px solid white;\">\n",
       "<tr>\n",
       "<td style=\"vertical-align: top; border: 0px solid white\">\n",
       "<h3 style=\"text-align: left;\">Client</h3>\n",
       "<ul style=\"text-align: left; list-style: none; margin: 0; padding: 0;\">\n",
       "  <li><b>Scheduler: </b>tcp://127.0.0.1:34075</li>\n",
       "  <li><b>Dashboard: </b><a href='http://127.0.0.1:7000/status' target='_blank'>http://127.0.0.1:7000/status</a></li>\n",
       "</ul>\n",
       "</td>\n",
       "<td style=\"vertical-align: top; border: 0px solid white\">\n",
       "<h3 style=\"text-align: left;\">Cluster</h3>\n",
       "<ul style=\"text-align: left; list-style:none; margin: 0; padding: 0;\">\n",
       "  <li><b>Workers: </b>1</li>\n",
       "  <li><b>Cores: </b>1</li>\n",
       "  <li><b>Memory: </b>134.84 GB</li>\n",
       "</ul>\n",
       "</td>\n",
       "</tr>\n",
       "</table>"
      ],
      "text/plain": [
       "<Client: 'tcp://127.0.0.1:34075' processes=1 threads=1, memory=134.84 GB>"
      ]
     },
     "execution_count": 21,
     "metadata": {},
     "output_type": "execute_result"
    }
   ],
   "source": [
    "# Initialize RMM pool on ALL workers\n",
    "def _rmm_pool():\n",
    "    rmm.reinitialize(\n",
    "        pool_allocator=True,\n",
    "        initial_pool_size=None, # Use default size\n",
    "    )\n",
    "client.run(_rmm_pool)\n",
    "client"
   ]
  },
  {
   "cell_type": "markdown",
   "metadata": {},
   "source": [
    "# Data loading & preproc"
   ]
  },
  {
   "cell_type": "code",
   "execution_count": 22,
   "metadata": {},
   "outputs": [],
   "source": [
    "#Do not change the dest column names\n",
    "cols_dest = ['ItemId']\n",
    "if HAS_USER:\n",
    "    cols_dest.append('UserId')\n",
    "if HAS_TIMESTAMP:\n",
    "    cols_dest.append('Time')\n",
    "if HAS_SESSION_ID:\n",
    "    cols_dest.append('SessionId')"
   ]
  },
  {
   "cell_type": "code",
   "execution_count": 23,
   "metadata": {},
   "outputs": [],
   "source": [
    "if DATA_FORMAT == 'parquet':\n",
    "    ddf = dask_cudf.read_parquet(DATA_PATH)\n",
    "    \n",
    "elif DATA_FORMAT in ['csv', 'tsv']:\n",
    "    ddf = dask_cudf.read_csv(DATA_PATH,                              \n",
    "                             sep='\\t' if DATA_FORMAT == 'tsv' else ',',\n",
    "                             names=HEADLESS_CSV_COLUMN_NAMES\n",
    "                            )\n",
    "else:\n",
    "    ValueError('Acceptable data formats are: parquet | csv | tsv')"
   ]
  },
  {
   "cell_type": "code",
   "execution_count": 24,
   "metadata": {},
   "outputs": [
    {
     "name": "stdout",
     "output_type": "stream",
     "text": [
      "session_id_hash              object\n",
      "event_type                   object\n",
      "product_action               object\n",
      "product_sku_hash             object\n",
      "server_timestamp_epoch_ms     int64\n",
      "hashed_url                   object\n",
      "dtype: object\n"
     ]
    }
   ],
   "source": [
    "print(ddf.dtypes)"
   ]
  },
  {
   "cell_type": "code",
   "execution_count": 25,
   "metadata": {},
   "outputs": [
    {
     "data": {
      "text/plain": [
       "'session_id_hash,event_type,product_action,product_sku_hash,server_timestamp_epoch_ms,hashed_url'"
      ]
     },
     "execution_count": 25,
     "metadata": {},
     "output_type": "execute_result"
    }
   ],
   "source": [
    "dataset_info['columns'] = ','.join(list(ddf.columns))\n",
    "dataset_info['columns']"
   ]
  },
  {
   "cell_type": "code",
   "execution_count": 26,
   "metadata": {},
   "outputs": [],
   "source": [
    "#Keep only the required columns and renaming to fixed names\n",
    "ddf = ddf[cols_origin]\n",
    "ddf.columns = cols_dest"
   ]
  },
  {
   "cell_type": "code",
   "execution_count": 27,
   "metadata": {},
   "outputs": [
    {
     "data": {
      "text/plain": [
       "ItemId       object\n",
       "Time          int64\n",
       "SessionId    object\n",
       "dtype: object"
      ]
     },
     "execution_count": 27,
     "metadata": {},
     "output_type": "execute_result"
    }
   ],
   "source": [
    "ddf.dtypes"
   ]
  },
  {
   "cell_type": "markdown",
   "metadata": {},
   "source": [
    "## Datetime processing"
   ]
  },
  {
   "cell_type": "code",
   "execution_count": 28,
   "metadata": {},
   "outputs": [
    {
     "data": {
      "text/plain": [
       "0    1550885210881\n",
       "1    1550885213307\n",
       "2    1550885213307\n",
       "3    1550885215484\n",
       "4    1550885215484\n",
       "Name: Time, dtype: int64"
      ]
     },
     "metadata": {},
     "output_type": "display_data"
    }
   ],
   "source": [
    "if HAS_TIMESTAMP:\n",
    "    display(ddf['Time'].head())"
   ]
  },
  {
   "cell_type": "code",
   "execution_count": 29,
   "metadata": {},
   "outputs": [],
   "source": [
    "if HAS_TIMESTAMP:\n",
    "    #Converts date time if configured to do so\n",
    "    if DATETIME_CONVERTION is not None:\n",
    "        ddf['Time'] = ddf['Time'].astype(f'datetime64[{DATETIME_CONVERTION}]')"
   ]
  },
  {
   "cell_type": "code",
   "execution_count": 30,
   "metadata": {},
   "outputs": [
    {
     "data": {
      "text/plain": [
       "0   2019-02-23 01:26:50.881\n",
       "1   2019-02-23 01:26:53.307\n",
       "2   2019-02-23 01:26:53.307\n",
       "3   2019-02-23 01:26:55.484\n",
       "4   2019-02-23 01:26:55.484\n",
       "Name: Time, dtype: datetime64[ms]"
      ]
     },
     "metadata": {},
     "output_type": "display_data"
    }
   ],
   "source": [
    "if HAS_TIMESTAMP:\n",
    "    display(ddf['Time'].head())"
   ]
  },
  {
   "cell_type": "code",
   "execution_count": 31,
   "metadata": {},
   "outputs": [],
   "source": [
    "if HAS_TIMESTAMP:\n",
    "    #Creates a string representation of the dates\n",
    "    ddf['DateStr'] = ddf['Time'].dt.strftime(\"%Y-%m-%d\")"
   ]
  },
  {
   "cell_type": "code",
   "execution_count": 32,
   "metadata": {},
   "outputs": [],
   "source": [
    "if HAS_TIMESTAMP:\n",
    "    #Filtering the dataset based on minimum and maximum datetimes (inclusive)\n",
    "    if MIN_DATETIME is not None:\n",
    "        ddf = ddf[ddf['Time'] >= MIN_DATETIME]\n",
    "\n",
    "    if MAX_DATETIME is not None:\n",
    "        ddf = ddf[ddf['Time'] <= MAX_DATETIME]    "
   ]
  },
  {
   "cell_type": "markdown",
   "metadata": {},
   "source": [
    "## Dataset caching"
   ]
  },
  {
   "cell_type": "code",
   "execution_count": 33,
   "metadata": {},
   "outputs": [],
   "source": [
    "#Caches the dataset into GPU memory (if it fits). This is a lazy op, so caching will happen in the next compute() op\n",
    "if CACHE_DATASET_ON_GPU:\n",
    "    ddf, = dask.persist(ddf)"
   ]
  },
  {
   "cell_type": "markdown",
   "metadata": {},
   "source": [
    "## Extracting columns from date"
   ]
  },
  {
   "cell_type": "code",
   "execution_count": 34,
   "metadata": {},
   "outputs": [
    {
     "name": "stdout",
     "output_type": "stream",
     "text": [
      "2019-01-15\n",
      "CPU times: user 389 ms, sys: 46.3 ms, total: 435 ms\n",
      "Wall time: 4.29 s\n"
     ]
    }
   ],
   "source": [
    "%%time\n",
    "if HAS_TIMESTAMP:\n",
    "    min_date = ddf['Time'].min().compute().date()\n",
    "    dataset_info['first_date'] = min_date.strftime('%Y-%m-%d')\n",
    "    print(min_date)\n",
    "else:\n",
    "    dataset_info['first_date'] = None"
   ]
  },
  {
   "cell_type": "code",
   "execution_count": 35,
   "metadata": {},
   "outputs": [
    {
     "name": "stdout",
     "output_type": "stream",
     "text": [
      "2019-04-15\n",
      "CPU times: user 71.1 ms, sys: 3.14 ms, total: 74.2 ms\n",
      "Wall time: 125 ms\n"
     ]
    }
   ],
   "source": [
    "%%time\n",
    "if HAS_TIMESTAMP:\n",
    "    max_date = ddf['Time'].max().compute().date()\n",
    "    dataset_info['last_date'] = max_date.strftime('%Y-%m-%d')\n",
    "    print(max_date)\n",
    "else:\n",
    "    dataset_info['last_date'] = None"
   ]
  },
  {
   "cell_type": "code",
   "execution_count": 36,
   "metadata": {},
   "outputs": [
    {
     "name": "stdout",
     "output_type": "stream",
     "text": [
      "91\n"
     ]
    }
   ],
   "source": [
    "if HAS_TIMESTAMP:\n",
    "    dataset_info['num_days'] = (max_date - min_date).days + 1\n",
    "    print(dataset_info['num_days'])\n",
    "else:\n",
    "    dataset_info['num_days'] = None"
   ]
  },
  {
   "cell_type": "code",
   "execution_count": 37,
   "metadata": {},
   "outputs": [
    {
     "name": "stderr",
     "output_type": "stream",
     "text": [
      "/home/rabhi/miniconda3/envs/hf4rec/lib/python3.7/site-packages/ipykernel_launcher.py:4: FutureWarning: Series.dt.weekofyear and Series.dt.week have been deprecated.  Please use Series.dt.isocalendar().week instead.\n",
      "  after removing the cwd from sys.path.\n"
     ]
    },
    {
     "data": {
      "text/html": [
       "<div>\n",
       "<style scoped>\n",
       "    .dataframe tbody tr th:only-of-type {\n",
       "        vertical-align: middle;\n",
       "    }\n",
       "\n",
       "    .dataframe tbody tr th {\n",
       "        vertical-align: top;\n",
       "    }\n",
       "\n",
       "    .dataframe thead th {\n",
       "        text-align: right;\n",
       "    }\n",
       "</style>\n",
       "<table border=\"1\" class=\"dataframe\">\n",
       "  <thead>\n",
       "    <tr style=\"text-align: right;\">\n",
       "      <th></th>\n",
       "      <th>year-week</th>\n",
       "      <th>year-month</th>\n",
       "    </tr>\n",
       "    <tr>\n",
       "      <th>DateStr</th>\n",
       "      <th></th>\n",
       "      <th></th>\n",
       "    </tr>\n",
       "  </thead>\n",
       "  <tbody>\n",
       "    <tr>\n",
       "      <th>2019-01-15</th>\n",
       "      <td>2019-w03</td>\n",
       "      <td>2019-01</td>\n",
       "    </tr>\n",
       "    <tr>\n",
       "      <th>2019-01-16</th>\n",
       "      <td>2019-w03</td>\n",
       "      <td>2019-01</td>\n",
       "    </tr>\n",
       "    <tr>\n",
       "      <th>2019-01-17</th>\n",
       "      <td>2019-w03</td>\n",
       "      <td>2019-01</td>\n",
       "    </tr>\n",
       "    <tr>\n",
       "      <th>2019-01-18</th>\n",
       "      <td>2019-w03</td>\n",
       "      <td>2019-01</td>\n",
       "    </tr>\n",
       "    <tr>\n",
       "      <th>2019-01-19</th>\n",
       "      <td>2019-w03</td>\n",
       "      <td>2019-01</td>\n",
       "    </tr>\n",
       "  </tbody>\n",
       "</table>\n",
       "</div>"
      ],
      "text/plain": [
       "           year-week year-month\n",
       "DateStr                        \n",
       "2019-01-15  2019-w03    2019-01\n",
       "2019-01-16  2019-w03    2019-01\n",
       "2019-01-17  2019-w03    2019-01\n",
       "2019-01-18  2019-w03    2019-01\n",
       "2019-01-19  2019-w03    2019-01"
      ]
     },
     "metadata": {},
     "output_type": "display_data"
    },
    {
     "name": "stdout",
     "output_type": "stream",
     "text": [
      "CPU times: user 47.2 ms, sys: 8.5 ms, total: 55.7 ms\n",
      "Wall time: 51.7 ms\n"
     ]
    }
   ],
   "source": [
    "%%time\n",
    "if HAS_TIMESTAMP:\n",
    "    #Creating an auxiliary table with Pandas to extract weekofyear, because it is not available yet on cudf (at 0.17 version)\n",
    "    dates_df = pd.DataFrame(pd.date_range(start=min_date, end=max_date), columns=['date'])\n",
    "    dates_df['weekofyear'] = dates_df['date'].dt.weekofyear\n",
    "    dates_df['month'] = dates_df['date'].dt.month\n",
    "    dates_df['year'] = dates_df['date'].dt.year\n",
    "    dates_df['year-week'] = dates_df['year'].astype('str') + \"-w\" + \\\n",
    "                            dates_df['weekofyear'].apply(lambda x: \"{:02d}\".format(x))\n",
    "    dates_df['year-month'] = dates_df['year'].astype('str') +\"-\" +  \\\n",
    "                             dates_df['month'].apply(lambda x: \"{:02d}\".format(x))\n",
    "    dates_df['DateStr'] = dates_df['date'].dt.strftime(\"%Y-%m-%d\")\n",
    "    del dates_df['weekofyear'], dates_df['month'], dates_df['year'], dates_df['date']\n",
    "    dates_df.set_index('DateStr', inplace=True)\n",
    "    dates_df = cudf.from_pandas(dates_df)\n",
    "    display(dates_df.head())"
   ]
  },
  {
   "cell_type": "code",
   "execution_count": 38,
   "metadata": {},
   "outputs": [
    {
     "data": {
      "text/html": [
       "<div>\n",
       "<style scoped>\n",
       "    .dataframe tbody tr th:only-of-type {\n",
       "        vertical-align: middle;\n",
       "    }\n",
       "\n",
       "    .dataframe tbody tr th {\n",
       "        vertical-align: top;\n",
       "    }\n",
       "\n",
       "    .dataframe thead th {\n",
       "        text-align: right;\n",
       "    }\n",
       "</style>\n",
       "<table border=\"1\" class=\"dataframe\">\n",
       "  <thead>\n",
       "    <tr style=\"text-align: right;\">\n",
       "      <th></th>\n",
       "      <th>ItemId</th>\n",
       "      <th>Time</th>\n",
       "      <th>SessionId</th>\n",
       "      <th>DateStr</th>\n",
       "      <th>year-week</th>\n",
       "      <th>year-month</th>\n",
       "    </tr>\n",
       "  </thead>\n",
       "  <tbody>\n",
       "    <tr>\n",
       "      <th>4800</th>\n",
       "      <td>eb2dd0152dcc9bb71d49613bd407ad1785cca554f72430...</td>\n",
       "      <td>2019-02-28 20:21:02.769</td>\n",
       "      <td>8d2cfb21a1ecaca7ae06beec175169e659c77258a0c875...</td>\n",
       "      <td>2019-02-28</td>\n",
       "      <td>2019-w09</td>\n",
       "      <td>2019-02</td>\n",
       "    </tr>\n",
       "    <tr>\n",
       "      <th>4801</th>\n",
       "      <td>1dc29f1c06f77aba46b4c20091fdecc04bfcbdd44de5c1...</td>\n",
       "      <td>2019-02-28 20:21:18.642</td>\n",
       "      <td>8d2cfb21a1ecaca7ae06beec175169e659c77258a0c875...</td>\n",
       "      <td>2019-02-28</td>\n",
       "      <td>2019-w09</td>\n",
       "      <td>2019-02</td>\n",
       "    </tr>\n",
       "    <tr>\n",
       "      <th>4802</th>\n",
       "      <td>&lt;NA&gt;</td>\n",
       "      <td>2019-02-28 20:21:18.642</td>\n",
       "      <td>8d2cfb21a1ecaca7ae06beec175169e659c77258a0c875...</td>\n",
       "      <td>2019-02-28</td>\n",
       "      <td>2019-w09</td>\n",
       "      <td>2019-02</td>\n",
       "    </tr>\n",
       "    <tr>\n",
       "      <th>4803</th>\n",
       "      <td>&lt;NA&gt;</td>\n",
       "      <td>2019-02-28 20:21:28.749</td>\n",
       "      <td>8d2cfb21a1ecaca7ae06beec175169e659c77258a0c875...</td>\n",
       "      <td>2019-02-28</td>\n",
       "      <td>2019-w09</td>\n",
       "      <td>2019-02</td>\n",
       "    </tr>\n",
       "    <tr>\n",
       "      <th>4804</th>\n",
       "      <td>&lt;NA&gt;</td>\n",
       "      <td>2019-02-28 20:27:44.944</td>\n",
       "      <td>8d2cfb21a1ecaca7ae06beec175169e659c77258a0c875...</td>\n",
       "      <td>2019-02-28</td>\n",
       "      <td>2019-w09</td>\n",
       "      <td>2019-02</td>\n",
       "    </tr>\n",
       "    <tr>\n",
       "      <th>4805</th>\n",
       "      <td>&lt;NA&gt;</td>\n",
       "      <td>2019-02-14 18:54:01.573</td>\n",
       "      <td>18f7af0261c57acfab4368e1290baeb04a071a955c061f...</td>\n",
       "      <td>2019-02-14</td>\n",
       "      <td>2019-w07</td>\n",
       "      <td>2019-02</td>\n",
       "    </tr>\n",
       "    <tr>\n",
       "      <th>4806</th>\n",
       "      <td>&lt;NA&gt;</td>\n",
       "      <td>2019-02-14 18:54:56.951</td>\n",
       "      <td>18f7af0261c57acfab4368e1290baeb04a071a955c061f...</td>\n",
       "      <td>2019-02-14</td>\n",
       "      <td>2019-w07</td>\n",
       "      <td>2019-02</td>\n",
       "    </tr>\n",
       "    <tr>\n",
       "      <th>4807</th>\n",
       "      <td>&lt;NA&gt;</td>\n",
       "      <td>2019-02-14 18:55:07.708</td>\n",
       "      <td>18f7af0261c57acfab4368e1290baeb04a071a955c061f...</td>\n",
       "      <td>2019-02-14</td>\n",
       "      <td>2019-w07</td>\n",
       "      <td>2019-02</td>\n",
       "    </tr>\n",
       "    <tr>\n",
       "      <th>4808</th>\n",
       "      <td>&lt;NA&gt;</td>\n",
       "      <td>2019-02-14 18:55:18.222</td>\n",
       "      <td>18f7af0261c57acfab4368e1290baeb04a071a955c061f...</td>\n",
       "      <td>2019-02-14</td>\n",
       "      <td>2019-w07</td>\n",
       "      <td>2019-02</td>\n",
       "    </tr>\n",
       "    <tr>\n",
       "      <th>4809</th>\n",
       "      <td>&lt;NA&gt;</td>\n",
       "      <td>2019-02-14 18:55:35.123</td>\n",
       "      <td>18f7af0261c57acfab4368e1290baeb04a071a955c061f...</td>\n",
       "      <td>2019-02-14</td>\n",
       "      <td>2019-w07</td>\n",
       "      <td>2019-02</td>\n",
       "    </tr>\n",
       "  </tbody>\n",
       "</table>\n",
       "</div>"
      ],
      "text/plain": [
       "                                                 ItemId  \\\n",
       "4800  eb2dd0152dcc9bb71d49613bd407ad1785cca554f72430...   \n",
       "4801  1dc29f1c06f77aba46b4c20091fdecc04bfcbdd44de5c1...   \n",
       "4802                                               <NA>   \n",
       "4803                                               <NA>   \n",
       "4804                                               <NA>   \n",
       "4805                                               <NA>   \n",
       "4806                                               <NA>   \n",
       "4807                                               <NA>   \n",
       "4808                                               <NA>   \n",
       "4809                                               <NA>   \n",
       "\n",
       "                        Time  \\\n",
       "4800 2019-02-28 20:21:02.769   \n",
       "4801 2019-02-28 20:21:18.642   \n",
       "4802 2019-02-28 20:21:18.642   \n",
       "4803 2019-02-28 20:21:28.749   \n",
       "4804 2019-02-28 20:27:44.944   \n",
       "4805 2019-02-14 18:54:01.573   \n",
       "4806 2019-02-14 18:54:56.951   \n",
       "4807 2019-02-14 18:55:07.708   \n",
       "4808 2019-02-14 18:55:18.222   \n",
       "4809 2019-02-14 18:55:35.123   \n",
       "\n",
       "                                              SessionId     DateStr year-week  \\\n",
       "4800  8d2cfb21a1ecaca7ae06beec175169e659c77258a0c875...  2019-02-28  2019-w09   \n",
       "4801  8d2cfb21a1ecaca7ae06beec175169e659c77258a0c875...  2019-02-28  2019-w09   \n",
       "4802  8d2cfb21a1ecaca7ae06beec175169e659c77258a0c875...  2019-02-28  2019-w09   \n",
       "4803  8d2cfb21a1ecaca7ae06beec175169e659c77258a0c875...  2019-02-28  2019-w09   \n",
       "4804  8d2cfb21a1ecaca7ae06beec175169e659c77258a0c875...  2019-02-28  2019-w09   \n",
       "4805  18f7af0261c57acfab4368e1290baeb04a071a955c061f...  2019-02-14  2019-w07   \n",
       "4806  18f7af0261c57acfab4368e1290baeb04a071a955c061f...  2019-02-14  2019-w07   \n",
       "4807  18f7af0261c57acfab4368e1290baeb04a071a955c061f...  2019-02-14  2019-w07   \n",
       "4808  18f7af0261c57acfab4368e1290baeb04a071a955c061f...  2019-02-14  2019-w07   \n",
       "4809  18f7af0261c57acfab4368e1290baeb04a071a955c061f...  2019-02-14  2019-w07   \n",
       "\n",
       "     year-month  \n",
       "4800    2019-02  \n",
       "4801    2019-02  \n",
       "4802    2019-02  \n",
       "4803    2019-02  \n",
       "4804    2019-02  \n",
       "4805    2019-02  \n",
       "4806    2019-02  \n",
       "4807    2019-02  \n",
       "4808    2019-02  \n",
       "4809    2019-02  "
      ]
     },
     "metadata": {},
     "output_type": "display_data"
    }
   ],
   "source": [
    "# Includes year-week and year-month into the main dataframe\n",
    "if HAS_TIMESTAMP:\n",
    "    ddf = ddf.merge(dates_df,  left_on='DateStr', right_index=True)\n",
    "    display(ddf.head(10))"
   ]
  },
  {
   "cell_type": "markdown",
   "metadata": {},
   "source": [
    "# Basic stats"
   ]
  },
  {
   "cell_type": "markdown",
   "metadata": {},
   "source": [
    "## Counts"
   ]
  },
  {
   "cell_type": "markdown",
   "metadata": {},
   "source": [
    "#### Number of interactions"
   ]
  },
  {
   "cell_type": "code",
   "execution_count": 39,
   "metadata": {},
   "outputs": [
    {
     "name": "stdout",
     "output_type": "stream",
     "text": [
      "36079307\n",
      "CPU times: user 143 ms, sys: 10.3 ms, total: 154 ms\n",
      "Wall time: 620 ms\n"
     ]
    }
   ],
   "source": [
    "%%time\n",
    "nrows = len(ddf)\n",
    "dataset_info['num_interactions'] = nrows\n",
    "print(nrows)"
   ]
  },
  {
   "cell_type": "markdown",
   "metadata": {},
   "source": [
    "#### Number of items"
   ]
  },
  {
   "cell_type": "code",
   "execution_count": 40,
   "metadata": {},
   "outputs": [
    {
     "name": "stdout",
     "output_type": "stream",
     "text": [
      "CPU times: user 144 ms, sys: 43.4 ms, total: 188 ms\n",
      "Wall time: 1.37 s\n"
     ]
    },
    {
     "data": {
      "text/plain": [
       "57483"
      ]
     },
     "execution_count": 40,
     "metadata": {},
     "output_type": "execute_result"
    }
   ],
   "source": [
    "%%time\n",
    "n_items = ddf['ItemId'].nunique().compute()\n",
    "dataset_info['num_items'] = n_items\n",
    "n_items"
   ]
  },
  {
   "cell_type": "markdown",
   "metadata": {},
   "source": [
    "#### Number of users"
   ]
  },
  {
   "cell_type": "code",
   "execution_count": 41,
   "metadata": {},
   "outputs": [
    {
     "name": "stdout",
     "output_type": "stream",
     "text": [
      "CPU times: user 44 µs, sys: 0 ns, total: 44 µs\n",
      "Wall time: 50.8 µs\n"
     ]
    },
    {
     "data": {
      "text/plain": [
       "0"
      ]
     },
     "execution_count": 41,
     "metadata": {},
     "output_type": "execute_result"
    }
   ],
   "source": [
    "%%time\n",
    "if HAS_USER:\n",
    "    n_users = ddf['UserId'].nunique().compute()\n",
    "else:\n",
    "    n_users = 0\n",
    "dataset_info['num_users'] = n_users\n",
    "n_users"
   ]
  },
  {
   "cell_type": "code",
   "execution_count": 42,
   "metadata": {},
   "outputs": [
    {
     "name": "stdout",
     "output_type": "stream",
     "text": [
      "CPU times: user 236 ms, sys: 62.7 ms, total: 299 ms\n",
      "Wall time: 4.54 s\n"
     ]
    },
    {
     "data": {
      "text/plain": [
       "4934699"
      ]
     },
     "execution_count": 42,
     "metadata": {},
     "output_type": "execute_result"
    }
   ],
   "source": [
    "%%time\n",
    "if HAS_SESSION_ID:\n",
    "    n_sessions = ddf['SessionId'].nunique().compute()\n",
    "else:\n",
    "    n_sessions = 0\n",
    "dataset_info['num_sessions'] = n_sessions\n",
    "n_sessions"
   ]
  },
  {
   "cell_type": "markdown",
   "metadata": {},
   "source": [
    "#### User-Item Matrix Sparcity"
   ]
  },
  {
   "cell_type": "code",
   "execution_count": 43,
   "metadata": {},
   "outputs": [
    {
     "name": "stdout",
     "output_type": "stream",
     "text": [
      "CPU times: user 13 µs, sys: 21 µs, total: 34 µs\n",
      "Wall time: 38.9 µs\n"
     ]
    },
    {
     "data": {
      "text/plain": [
       "0"
      ]
     },
     "execution_count": 43,
     "metadata": {},
     "output_type": "execute_result"
    }
   ],
   "source": [
    "%%time\n",
    "if HAS_USER:\n",
    "    n_unique_user_item_pairs = len(ddf[['UserId', 'ItemId']].drop_duplicates())\n",
    "else:\n",
    "    n_unique_user_item_pairs = 0\n",
    "n_unique_user_item_pairs"
   ]
  },
  {
   "cell_type": "code",
   "execution_count": 44,
   "metadata": {},
   "outputs": [],
   "source": [
    "if HAS_USER:\n",
    "    sparsity = 1.0 - (n_unique_user_item_pairs / (n_items * n_users))\n",
    "else:\n",
    "    sparsity = None\n",
    "dataset_info['sparsity_user_item_matrix'] = sparsity\n",
    "sparsity"
   ]
  },
  {
   "cell_type": "markdown",
   "metadata": {},
   "source": [
    "## Distributions"
   ]
  },
  {
   "cell_type": "code",
   "execution_count": 45,
   "metadata": {},
   "outputs": [],
   "source": [
    "def gini_index_cupy(array):\n",
    "    \"\"\"Calculate the Gini coefficient of a numpy array.\"\"\"\n",
    "    # based on bottom eq:\n",
    "    # http://www.statsdirect.com/help/generatedimages/equations/equation154.svg\n",
    "    # from:\n",
    "    # http://www.statsdirect.com/help/default.htm#nonparametric_methods/gini.htm\n",
    "    # All values are treated equally, arrays must be 1d:\n",
    "    array = array.flatten()\n",
    "    if cp.amin(array) < 0:\n",
    "        # Values cannot be negative:\n",
    "        array -= cp.amin(array)\n",
    "    # Values cannot be 0:\n",
    "    array += 0.0000001\n",
    "    # Values must be sorted:\n",
    "    array = cp.sort(array)\n",
    "    # Index per array element:\n",
    "    index = cp.arange(1,array.shape[0]+1)\n",
    "    # Number of array elements:\n",
    "    n = array.shape[0]\n",
    "    # Gini coefficient:\n",
    "    return float(((cp.sum((2 * index - n  - 1) * array)) / (n * cp.sum(array))))"
   ]
  },
  {
   "cell_type": "code",
   "execution_count": 46,
   "metadata": {},
   "outputs": [],
   "source": [
    "def set_distr_percentiles(data, dataset_info, prefix, dtype='int'):\n",
    "    if data is None:\n",
    "        #If the dataframe with stats is not available, fill columns with None\n",
    "        dataset_info[f\"min_{prefix}\"] = None\n",
    "        dataset_info[f\"p25_{prefix}\"] = None\n",
    "        dataset_info[f\"p50_{prefix}\"] = None\n",
    "        dataset_info[f\"p75_{prefix}\"] = None\n",
    "        dataset_info[f\"p90_{prefix}\"] = None\n",
    "        dataset_info[f\"p95_{prefix}\"] = None\n",
    "        dataset_info[f\"p99_{prefix}\"] = None\n",
    "        dataset_info[f\"max_{prefix}\"] = None\n",
    "    else: \n",
    "        dataset_info[f\"min_{prefix}\"] = data['min'].astype(dtype)\n",
    "        dataset_info[f\"p25_{prefix}\"] = data['25%'].astype(dtype)\n",
    "        dataset_info[f\"p50_{prefix}\"] = data['50%'].astype(dtype)\n",
    "        dataset_info[f\"p75_{prefix}\"] = data['75%'].astype(dtype)\n",
    "        dataset_info[f\"p90_{prefix}\"] = data['90%'].astype(dtype)\n",
    "        dataset_info[f\"p95_{prefix}\"] = data['95%'].astype(dtype)\n",
    "        dataset_info[f\"p99_{prefix}\"] = data['99%'].astype(dtype)\n",
    "        dataset_info[f\"max_{prefix}\"] = data['max'].astype(dtype)"
   ]
  },
  {
   "cell_type": "code",
   "execution_count": 47,
   "metadata": {},
   "outputs": [
    {
     "data": {
      "text/plain": [
       "array([0.  , 0.1 , 0.2 , 0.3 , 0.4 , 0.5 , 0.6 , 0.7 , 0.8 , 0.9 , 1.  ,\n",
       "       0.25, 0.75, 0.95, 0.99])"
      ]
     },
     "execution_count": 47,
     "metadata": {},
     "output_type": "execute_result"
    }
   ],
   "source": [
    "#The percentiles that will be extracted for all distributions\n",
    "PERCENTILES=np.concatenate([np.arange(0.0, 1.1, 0.1), np.array([0.25, 0.75, 0.95, 0.99])])\n",
    "PERCENTILES"
   ]
  },
  {
   "cell_type": "markdown",
   "metadata": {},
   "source": [
    "### # Interactions per Item distribution"
   ]
  },
  {
   "cell_type": "code",
   "execution_count": 48,
   "metadata": {},
   "outputs": [
    {
     "name": "stdout",
     "output_type": "stream",
     "text": [
      "CPU times: user 208 ms, sys: 20.2 ms, total: 228 ms\n",
      "Wall time: 1.11 s\n"
     ]
    },
    {
     "data": {
      "text/html": [
       "<div>\n",
       "<style scoped>\n",
       "    .dataframe tbody tr th:only-of-type {\n",
       "        vertical-align: middle;\n",
       "    }\n",
       "\n",
       "    .dataframe tbody tr th {\n",
       "        vertical-align: top;\n",
       "    }\n",
       "\n",
       "    .dataframe thead th {\n",
       "        text-align: right;\n",
       "    }\n",
       "</style>\n",
       "<table border=\"1\" class=\"dataframe\">\n",
       "  <thead>\n",
       "    <tr style=\"text-align: right;\">\n",
       "      <th></th>\n",
       "      <th>freq</th>\n",
       "    </tr>\n",
       "    <tr>\n",
       "      <th>ItemId</th>\n",
       "      <th></th>\n",
       "    </tr>\n",
       "  </thead>\n",
       "  <tbody>\n",
       "    <tr>\n",
       "      <th>1789f1cf10bb9203718ad8ccf139fbf041ee9fbe97e710eed0282f52b8c38ac3</th>\n",
       "      <td>180031</td>\n",
       "    </tr>\n",
       "    <tr>\n",
       "      <th>08f175f7f1f450ae5dd4d98f70a7242a940f4873e7e3498cef2de8aae367e881</th>\n",
       "      <td>44318</td>\n",
       "    </tr>\n",
       "    <tr>\n",
       "      <th>093f87a220846c0c454de3ccb752bfe4ba00f94dfad925f0f1c5b56ca6033891</th>\n",
       "      <td>38264</td>\n",
       "    </tr>\n",
       "    <tr>\n",
       "      <th>308d4a723466c68a87b151c8dd85533882595da0d5ffb26fcdd16535ff97dbee</th>\n",
       "      <td>36256</td>\n",
       "    </tr>\n",
       "    <tr>\n",
       "      <th>a75d7600dd3aaa2adc3d881eeb5e6a75f508d5cd432780e1282c196df3fd587e</th>\n",
       "      <td>34209</td>\n",
       "    </tr>\n",
       "    <tr>\n",
       "      <th>1f9f0d4e51cefeff2de650cadf1f7b15a6081576b6405d7c73ec7235e7a21b2a</th>\n",
       "      <td>27693</td>\n",
       "    </tr>\n",
       "    <tr>\n",
       "      <th>312882833ec43db8aacc896311529f81bf962227029a2366bc5179fa57a8c8fb</th>\n",
       "      <td>20965</td>\n",
       "    </tr>\n",
       "    <tr>\n",
       "      <th>99c131c0d5565a6f2c6b04187150f1c949ec73cdf99d3b26cbcf275fb598f6ae</th>\n",
       "      <td>20470</td>\n",
       "    </tr>\n",
       "    <tr>\n",
       "      <th>06d9ffde0f43aa4f5f1b17cfb6acfac59f46b25ef018e4efdcd859ae71775f04</th>\n",
       "      <td>20136</td>\n",
       "    </tr>\n",
       "    <tr>\n",
       "      <th>62b0b638712cd4acef5f9810684cd9aefbae2503bc9a0379bd334a0fbac5837c</th>\n",
       "      <td>19965</td>\n",
       "    </tr>\n",
       "  </tbody>\n",
       "</table>\n",
       "</div>"
      ],
      "text/plain": [
       "                                                      freq\n",
       "ItemId                                                    \n",
       "1789f1cf10bb9203718ad8ccf139fbf041ee9fbe97e710e...  180031\n",
       "08f175f7f1f450ae5dd4d98f70a7242a940f4873e7e3498...   44318\n",
       "093f87a220846c0c454de3ccb752bfe4ba00f94dfad925f...   38264\n",
       "308d4a723466c68a87b151c8dd85533882595da0d5ffb26...   36256\n",
       "a75d7600dd3aaa2adc3d881eeb5e6a75f508d5cd432780e...   34209\n",
       "1f9f0d4e51cefeff2de650cadf1f7b15a6081576b6405d7...   27693\n",
       "312882833ec43db8aacc896311529f81bf962227029a236...   20965\n",
       "99c131c0d5565a6f2c6b04187150f1c949ec73cdf99d3b2...   20470\n",
       "06d9ffde0f43aa4f5f1b17cfb6acfac59f46b25ef018e4e...   20136\n",
       "62b0b638712cd4acef5f9810684cd9aefbae2503bc9a037...   19965"
      ]
     },
     "execution_count": 48,
     "metadata": {},
     "output_type": "execute_result"
    }
   ],
   "source": [
    "%%time\n",
    "items_freq_df = ddf.groupby('ItemId').size().to_frame('freq').compute().sort_values('freq', ascending=False)\n",
    "items_freq_df.head(10)"
   ]
  },
  {
   "cell_type": "code",
   "execution_count": 49,
   "metadata": {},
   "outputs": [],
   "source": [
    "items_freq_gini_index = gini_index_cupy(items_freq_df['freq'].values.astype('float'))\n",
    "dataset_info['items_freq_gini_index'] = items_freq_gini_index"
   ]
  },
  {
   "cell_type": "code",
   "execution_count": 50,
   "metadata": {},
   "outputs": [
    {
     "name": "stdout",
     "output_type": "stream",
     "text": [
      "CPU times: user 2.34 s, sys: 6.31 s, total: 8.65 s\n",
      "Wall time: 608 ms\n"
     ]
    },
    {
     "data": {
      "text/html": [
       "<div>\n",
       "<style scoped>\n",
       "    .dataframe tbody tr th:only-of-type {\n",
       "        vertical-align: middle;\n",
       "    }\n",
       "\n",
       "    .dataframe tbody tr th {\n",
       "        vertical-align: top;\n",
       "    }\n",
       "\n",
       "    .dataframe thead th {\n",
       "        text-align: right;\n",
       "    }\n",
       "</style>\n",
       "<table border=\"1\" class=\"dataframe\">\n",
       "  <thead>\n",
       "    <tr style=\"text-align: right;\">\n",
       "      <th></th>\n",
       "      <th>cum_interactions_by_item_freq</th>\n",
       "      <th>cum_perc_items</th>\n",
       "    </tr>\n",
       "    <tr>\n",
       "      <th>ItemId</th>\n",
       "      <th></th>\n",
       "      <th></th>\n",
       "    </tr>\n",
       "  </thead>\n",
       "  <tbody>\n",
       "    <tr>\n",
       "      <th>1789f1cf10bb9203718ad8ccf139fbf041ee9fbe97e710eed0282f52b8c38ac3</th>\n",
       "      <td>0.017258</td>\n",
       "      <td>0.000017</td>\n",
       "    </tr>\n",
       "    <tr>\n",
       "      <th>08f175f7f1f450ae5dd4d98f70a7242a940f4873e7e3498cef2de8aae367e881</th>\n",
       "      <td>0.021507</td>\n",
       "      <td>0.000035</td>\n",
       "    </tr>\n",
       "    <tr>\n",
       "      <th>093f87a220846c0c454de3ccb752bfe4ba00f94dfad925f0f1c5b56ca6033891</th>\n",
       "      <td>0.025175</td>\n",
       "      <td>0.000052</td>\n",
       "    </tr>\n",
       "    <tr>\n",
       "      <th>308d4a723466c68a87b151c8dd85533882595da0d5ffb26fcdd16535ff97dbee</th>\n",
       "      <td>0.028650</td>\n",
       "      <td>0.000070</td>\n",
       "    </tr>\n",
       "    <tr>\n",
       "      <th>a75d7600dd3aaa2adc3d881eeb5e6a75f508d5cd432780e1282c196df3fd587e</th>\n",
       "      <td>0.031930</td>\n",
       "      <td>0.000087</td>\n",
       "    </tr>\n",
       "    <tr>\n",
       "      <th>...</th>\n",
       "      <td>...</td>\n",
       "      <td>...</td>\n",
       "    </tr>\n",
       "    <tr>\n",
       "      <th>62e152c4be2c834850c9c387b585bcfeb6a07ec1ccbd0937da785547f40500b1</th>\n",
       "      <td>1.000000</td>\n",
       "      <td>0.999930</td>\n",
       "    </tr>\n",
       "    <tr>\n",
       "      <th>37bd5a82ea8894bac849295f0eb2376004534ddd34573007111ca96af3b5d907</th>\n",
       "      <td>1.000000</td>\n",
       "      <td>0.999948</td>\n",
       "    </tr>\n",
       "    <tr>\n",
       "      <th>037c0cc41bdf1eddef8b45fde5804b6dc7688b2a73b9f2c0abdf1e3bb3f86c7f</th>\n",
       "      <td>1.000000</td>\n",
       "      <td>0.999965</td>\n",
       "    </tr>\n",
       "    <tr>\n",
       "      <th>2d30a569e62dc64cb5cefd32d0844b2ce7abe3c973337a28edc2ceb59791f449</th>\n",
       "      <td>1.000000</td>\n",
       "      <td>0.999983</td>\n",
       "    </tr>\n",
       "    <tr>\n",
       "      <th>6f31209f81066de5cac21bdff854474651ff597d919b34eff249bb3925f7db39</th>\n",
       "      <td>1.000000</td>\n",
       "      <td>1.000000</td>\n",
       "    </tr>\n",
       "  </tbody>\n",
       "</table>\n",
       "<p>57483 rows × 2 columns</p>\n",
       "</div>"
      ],
      "text/plain": [
       "                                                    cum_interactions_by_item_freq  \\\n",
       "ItemId                                                                              \n",
       "1789f1cf10bb9203718ad8ccf139fbf041ee9fbe97e710e...                       0.017258   \n",
       "08f175f7f1f450ae5dd4d98f70a7242a940f4873e7e3498...                       0.021507   \n",
       "093f87a220846c0c454de3ccb752bfe4ba00f94dfad925f...                       0.025175   \n",
       "308d4a723466c68a87b151c8dd85533882595da0d5ffb26...                       0.028650   \n",
       "a75d7600dd3aaa2adc3d881eeb5e6a75f508d5cd432780e...                       0.031930   \n",
       "...                                                                           ...   \n",
       "62e152c4be2c834850c9c387b585bcfeb6a07ec1ccbd093...                       1.000000   \n",
       "37bd5a82ea8894bac849295f0eb2376004534ddd3457300...                       1.000000   \n",
       "037c0cc41bdf1eddef8b45fde5804b6dc7688b2a73b9f2c...                       1.000000   \n",
       "2d30a569e62dc64cb5cefd32d0844b2ce7abe3c973337a2...                       1.000000   \n",
       "6f31209f81066de5cac21bdff854474651ff597d919b34e...                       1.000000   \n",
       "\n",
       "                                                    cum_perc_items  \n",
       "ItemId                                                              \n",
       "1789f1cf10bb9203718ad8ccf139fbf041ee9fbe97e710e...        0.000017  \n",
       "08f175f7f1f450ae5dd4d98f70a7242a940f4873e7e3498...        0.000035  \n",
       "093f87a220846c0c454de3ccb752bfe4ba00f94dfad925f...        0.000052  \n",
       "308d4a723466c68a87b151c8dd85533882595da0d5ffb26...        0.000070  \n",
       "a75d7600dd3aaa2adc3d881eeb5e6a75f508d5cd432780e...        0.000087  \n",
       "...                                                            ...  \n",
       "62e152c4be2c834850c9c387b585bcfeb6a07ec1ccbd093...        0.999930  \n",
       "37bd5a82ea8894bac849295f0eb2376004534ddd3457300...        0.999948  \n",
       "037c0cc41bdf1eddef8b45fde5804b6dc7688b2a73b9f2c...        0.999965  \n",
       "2d30a569e62dc64cb5cefd32d0844b2ce7abe3c973337a2...        0.999983  \n",
       "6f31209f81066de5cac21bdff854474651ff597d919b34e...        1.000000  \n",
       "\n",
       "[57483 rows x 2 columns]"
      ]
     },
     "execution_count": 50,
     "metadata": {},
     "output_type": "execute_result"
    }
   ],
   "source": [
    "%%time\n",
    "items_freq_cum_perc = (items_freq_df['freq'].cumsum() / items_freq_df['freq'].sum()).to_frame('cum_interactions_by_item_freq')\n",
    "items_freq_cum_perc['dummy'] = 1\n",
    "items_freq_cum_perc['cum_perc_items'] = items_freq_cum_perc['dummy'].cumsum() / items_freq_cum_perc['dummy'].sum()\n",
    "del items_freq_cum_perc['dummy']\n",
    "items_freq_cum_perc"
   ]
  },
  {
   "cell_type": "code",
   "execution_count": 51,
   "metadata": {},
   "outputs": [],
   "source": [
    "items_freq_cum_perc_pdf = items_freq_cum_perc.set_index('cum_perc_items').to_pandas()"
   ]
  },
  {
   "cell_type": "code",
   "execution_count": 52,
   "metadata": {},
   "outputs": [
    {
     "data": {
      "text/plain": [
       "Text(0.5, 0, '% of items')"
      ]
     },
     "execution_count": 52,
     "metadata": {},
     "output_type": "execute_result"
    },
    {
     "data": {
      "image/png": "[encoded data removed]",
      "text/plain": [
       "<Figure size 1080x576 with 1 Axes>"
      ]
     },
     "metadata": {
      "needs_background": "light"
     },
     "output_type": "display_data"
    }
   ],
   "source": [
    "ax = items_freq_cum_perc_pdf.plot.line(figsize=(15,8))\n",
    "\n",
    "ax.set_title('Cumulative distribution of Items Frequency')\n",
    "ax.set_ylabel('% of interactions')\n",
    "ax.set_xlabel('% of items')"
   ]
  },
  {
   "cell_type": "code",
   "execution_count": 53,
   "metadata": {},
   "outputs": [
    {
     "data": {
      "text/html": [
       "<div>\n",
       "<style scoped>\n",
       "    .dataframe tbody tr th:only-of-type {\n",
       "        vertical-align: middle;\n",
       "    }\n",
       "\n",
       "    .dataframe tbody tr th {\n",
       "        vertical-align: top;\n",
       "    }\n",
       "\n",
       "    .dataframe thead th {\n",
       "        text-align: right;\n",
       "    }\n",
       "</style>\n",
       "<table border=\"1\" class=\"dataframe\">\n",
       "  <thead>\n",
       "    <tr style=\"text-align: right;\">\n",
       "      <th></th>\n",
       "      <th>cum_interactions_by_item_freq</th>\n",
       "    </tr>\n",
       "    <tr>\n",
       "      <th>cum_perc_items</th>\n",
       "      <th></th>\n",
       "    </tr>\n",
       "  </thead>\n",
       "  <tbody>\n",
       "    <tr>\n",
       "      <th>0.00</th>\n",
       "      <td>0.000000</td>\n",
       "    </tr>\n",
       "    <tr>\n",
       "      <th>0.01</th>\n",
       "      <td>0.346676</td>\n",
       "    </tr>\n",
       "    <tr>\n",
       "      <th>0.02</th>\n",
       "      <td>0.475619</td>\n",
       "    </tr>\n",
       "    <tr>\n",
       "      <th>0.03</th>\n",
       "      <td>0.560342</td>\n",
       "    </tr>\n",
       "    <tr>\n",
       "      <th>0.04</th>\n",
       "      <td>0.622834</td>\n",
       "    </tr>\n",
       "  </tbody>\n",
       "</table>\n",
       "</div>"
      ],
      "text/plain": [
       "                cum_interactions_by_item_freq\n",
       "cum_perc_items                               \n",
       "0.00                                 0.000000\n",
       "0.01                                 0.346676\n",
       "0.02                                 0.475619\n",
       "0.03                                 0.560342\n",
       "0.04                                 0.622834"
      ]
     },
     "execution_count": 53,
     "metadata": {},
     "output_type": "execute_result"
    }
   ],
   "source": [
    "#Reindexing the distribution by 1% increments\n",
    "items_freq_cum_perc_reindexed_pdf = items_freq_cum_perc_pdf.reindex(np.arange(0.0, 1.01, 0.01), method='pad').fillna(0.)\n",
    "items_freq_cum_perc_reindexed_pdf.head()"
   ]
  },
  {
   "cell_type": "code",
   "execution_count": 54,
   "metadata": {},
   "outputs": [
    {
     "data": {
      "text/html": [
       "<div>\n",
       "<style scoped>\n",
       "    .dataframe tbody tr th:only-of-type {\n",
       "        vertical-align: middle;\n",
       "    }\n",
       "\n",
       "    .dataframe tbody tr th {\n",
       "        vertical-align: top;\n",
       "    }\n",
       "\n",
       "    .dataframe thead th {\n",
       "        text-align: right;\n",
       "    }\n",
       "</style>\n",
       "<table border=\"1\" class=\"dataframe\">\n",
       "  <thead>\n",
       "    <tr style=\"text-align: right;\">\n",
       "      <th></th>\n",
       "      <th>cum_interactions_by_item_freq</th>\n",
       "    </tr>\n",
       "    <tr>\n",
       "      <th>cum_perc_items</th>\n",
       "      <th></th>\n",
       "    </tr>\n",
       "  </thead>\n",
       "  <tbody>\n",
       "    <tr>\n",
       "      <th>0.01</th>\n",
       "      <td>0.346676</td>\n",
       "    </tr>\n",
       "    <tr>\n",
       "      <th>0.05</th>\n",
       "      <td>0.671942</td>\n",
       "    </tr>\n",
       "    <tr>\n",
       "      <th>0.10</th>\n",
       "      <td>0.816871</td>\n",
       "    </tr>\n",
       "    <tr>\n",
       "      <th>0.25</th>\n",
       "      <td>0.956490</td>\n",
       "    </tr>\n",
       "    <tr>\n",
       "      <th>0.50</th>\n",
       "      <td>0.995338</td>\n",
       "    </tr>\n",
       "  </tbody>\n",
       "</table>\n",
       "</div>"
      ],
      "text/plain": [
       "                cum_interactions_by_item_freq\n",
       "cum_perc_items                               \n",
       "0.01                                 0.346676\n",
       "0.05                                 0.671942\n",
       "0.10                                 0.816871\n",
       "0.25                                 0.956490\n",
       "0.50                                 0.995338"
      ]
     },
     "execution_count": 54,
     "metadata": {},
     "output_type": "execute_result"
    }
   ],
   "source": [
    "#Extracting some percentiles to save\n",
    "items_freq_cum_perc_selected_pdf = items_freq_cum_perc_reindexed_pdf.loc[[0.01, 0.05, 0.10, 0.25, 0.50]]\n",
    "dataset_info['top-01%_item_cum_freq'] = items_freq_cum_perc_selected_pdf.loc[0.01][0]\n",
    "dataset_info['top-05%_item_cum_freq'] = items_freq_cum_perc_selected_pdf.loc[0.05][0]\n",
    "dataset_info['top-10%_item_cum_freq'] = items_freq_cum_perc_selected_pdf.loc[0.10][0]\n",
    "dataset_info['top-25%_item_cum_freq'] = items_freq_cum_perc_selected_pdf.loc[0.25][0]\n",
    "dataset_info['top-50%_item_cum_freq'] = items_freq_cum_perc_selected_pdf.loc[0.50][0]\n",
    "items_freq_cum_perc_selected_pdf"
   ]
  },
  {
   "cell_type": "code",
   "execution_count": 55,
   "metadata": {},
   "outputs": [
    {
     "data": {
      "text/plain": [
       "count     57483.000000\n",
       "mean        181.472975\n",
       "std        1094.340898\n",
       "min           1.000000\n",
       "0%            1.000000\n",
       "10%           1.000000\n",
       "20%           1.000000\n",
       "25%           1.000000\n",
       "30%           1.000000\n",
       "40%           2.000000\n",
       "50%           5.000000\n",
       "60%          17.000000\n",
       "70%          48.000000\n",
       "75%          74.000000\n",
       "80%         118.000000\n",
       "90%         350.800000\n",
       "95%         801.000000\n",
       "99%        3019.540000\n",
       "100%     180031.000000\n",
       "max      180031.000000\n",
       "Name: freq, dtype: float64"
      ]
     },
     "execution_count": 55,
     "metadata": {},
     "output_type": "execute_result"
    }
   ],
   "source": [
    "items_freq_percentiles_df = items_freq_df['freq'].describe(percentiles=PERCENTILES)\n",
    "set_distr_percentiles(items_freq_percentiles_df, dataset_info, prefix='item_freq')\n",
    "items_freq_percentiles_df"
   ]
  },
  {
   "cell_type": "code",
   "execution_count": 56,
   "metadata": {},
   "outputs": [
    {
     "data": {
      "text/plain": [
       "Text(0.5, 1.0, 'Items Frequency histogram')"
      ]
     },
     "execution_count": 56,
     "metadata": {},
     "output_type": "execute_result"
    },
    {
     "data": {
      "image/png": "[encoded data removed]",
      "text/plain": [
       "<Figure size 1080x576 with 1 Axes>"
      ]
     },
     "metadata": {
      "needs_background": "light"
     },
     "output_type": "display_data"
    }
   ],
   "source": [
    "ax = items_freq_df.groupby('freq').size().to_pandas().hist(bins=100, figsize=(15,8))\n",
    "ax.set_title('Items Frequency histogram')"
   ]
  },
  {
   "cell_type": "markdown",
   "metadata": {},
   "source": [
    "### # Interactions per User distribution"
   ]
  },
  {
   "cell_type": "code",
   "execution_count": 57,
   "metadata": {},
   "outputs": [
    {
     "name": "stdout",
     "output_type": "stream",
     "text": [
      "CPU times: user 2 µs, sys: 4 µs, total: 6 µs\n",
      "Wall time: 10.7 µs\n"
     ]
    }
   ],
   "source": [
    "%%time\n",
    "if HAS_USER:\n",
    "    user_freq_series = ddf.groupby('UserId').size().compute()\n",
    "    display(user_freq_series.head(10))"
   ]
  },
  {
   "cell_type": "code",
   "execution_count": 58,
   "metadata": {},
   "outputs": [],
   "source": [
    "if HAS_USER:\n",
    "    users_freq_gini_index = gini_index_cupy(user_freq_series.values.astype('float'))\n",
    "else:\n",
    "    users_freq_gini_index = None\n",
    "dataset_info['users_freq_gini_index'] = users_freq_gini_index"
   ]
  },
  {
   "cell_type": "code",
   "execution_count": 59,
   "metadata": {},
   "outputs": [
    {
     "name": "stdout",
     "output_type": "stream",
     "text": [
      "CPU times: user 13 µs, sys: 0 ns, total: 13 µs\n",
      "Wall time: 24.1 µs\n"
     ]
    }
   ],
   "source": [
    "%%time\n",
    "if HAS_USER:\n",
    "    users_freq_df = ddf.groupby('UserId').size().to_frame('freq').compute().sort_values('freq', ascending=False)\n",
    "    display(users_freq_df.head(10))"
   ]
  },
  {
   "cell_type": "code",
   "execution_count": 60,
   "metadata": {},
   "outputs": [
    {
     "name": "stdout",
     "output_type": "stream",
     "text": [
      "CPU times: user 12 µs, sys: 0 ns, total: 12 µs\n",
      "Wall time: 23.8 µs\n"
     ]
    }
   ],
   "source": [
    "%%time\n",
    "if HAS_USER:\n",
    "    users_freq_cum_perc = (users_freq_df['freq'].cumsum() / users_freq_df['freq'].sum()).to_frame('cum_interactions_by_user_freq')\n",
    "    users_freq_cum_perc['dummy'] = 1\n",
    "    users_freq_cum_perc['cum_perc_users'] = users_freq_cum_perc['dummy'].cumsum() / users_freq_cum_perc['dummy'].sum()\n",
    "    del users_freq_cum_perc['dummy']\n",
    "    display(users_freq_cum_perc)"
   ]
  },
  {
   "cell_type": "code",
   "execution_count": 61,
   "metadata": {},
   "outputs": [],
   "source": [
    "if HAS_USER:\n",
    "    users_freq_cum_perc_pdf = users_freq_cum_perc.set_index('cum_perc_users').to_pandas()"
   ]
  },
  {
   "cell_type": "code",
   "execution_count": 62,
   "metadata": {},
   "outputs": [],
   "source": [
    "if HAS_USER:\n",
    "    ax = users_freq_cum_perc_pdf.plot.line(figsize=(15,8))\n",
    "\n",
    "    ax.set_title('Cumulative distribution of Users Frequency')\n",
    "    ax.set_ylabel('% of interactions')\n",
    "    ax.set_xlabel('% of users')"
   ]
  },
  {
   "cell_type": "code",
   "execution_count": 63,
   "metadata": {},
   "outputs": [],
   "source": [
    "if HAS_USER:\n",
    "    users_freq_cum_perc_reindexed_pdf = users_freq_cum_perc_pdf.reindex(np.arange(0.0, 1.01, 0.01), method='pad').fillna(0.)\n",
    "    display(users_freq_cum_perc_reindexed_pdf.head())"
   ]
  },
  {
   "cell_type": "code",
   "execution_count": 64,
   "metadata": {},
   "outputs": [],
   "source": [
    "if HAS_USER:\n",
    "    users_freq_cum_perc_selected_pdf = users_freq_cum_perc_reindexed_pdf.reindex(np.arange(0.0, 1.01, 0.01), method='pad') \\\n",
    "                            .loc[[0.01, 0.05, 0.10, 0.25, 0.50]]\n",
    "    dataset_info['top-01%_user_cum_freq'] = users_freq_cum_perc_selected_pdf.loc[0.01][0]\n",
    "    dataset_info['top-05%_user_cum_freq'] = users_freq_cum_perc_selected_pdf.loc[0.05][0]\n",
    "    dataset_info['top-10%_user_cum_freq'] = users_freq_cum_perc_selected_pdf.loc[0.10][0]\n",
    "    dataset_info['top-25%_user_cum_freq'] = users_freq_cum_perc_selected_pdf.loc[0.25][0]\n",
    "    dataset_info['top-50%_user_cum_freq'] = users_freq_cum_perc_selected_pdf.loc[0.50][0]\n",
    "    users_freq_cum_perc_selected_pdf\n",
    "else:\n",
    "    dataset_info['top-01%_user_cum_freq'] = None\n",
    "    dataset_info['top-05%_user_cum_freq'] = None\n",
    "    dataset_info['top-10%_user_cum_freq'] = None\n",
    "    dataset_info['top-25%_user_cum_freq'] = None\n",
    "    dataset_info['top-50%_user_cum_freq'] = None"
   ]
  },
  {
   "cell_type": "code",
   "execution_count": 65,
   "metadata": {},
   "outputs": [
    {
     "data": {
      "text/plain": [
       "None"
      ]
     },
     "metadata": {},
     "output_type": "display_data"
    }
   ],
   "source": [
    "if HAS_USER:\n",
    "    users_freq_percentiles_df = users_freq_df['freq'].describe(percentiles=PERCENTILES)\n",
    "else:    \n",
    "    users_freq_percentiles_df = None\n",
    "    \n",
    "set_distr_percentiles(users_freq_percentiles_df, dataset_info, prefix='user_freq')\n",
    "display(users_freq_percentiles_df)"
   ]
  },
  {
   "cell_type": "code",
   "execution_count": 66,
   "metadata": {},
   "outputs": [],
   "source": [
    "if HAS_USER:\n",
    "    ax = users_freq_df.groupby('freq').size().to_pandas().hist(bins=100, figsize=(15,8))\n",
    "    ax.set_title('Users Frequency histogram')"
   ]
  },
  {
   "cell_type": "markdown",
   "metadata": {},
   "source": [
    "### # User-Item repeated interaction distribution"
   ]
  },
  {
   "cell_type": "code",
   "execution_count": 67,
   "metadata": {},
   "outputs": [
    {
     "name": "stdout",
     "output_type": "stream",
     "text": [
      "CPU times: user 5 µs, sys: 8 µs, total: 13 µs\n",
      "Wall time: 24.3 µs\n"
     ]
    }
   ],
   "source": [
    "%%time\n",
    "if HAS_USER:\n",
    "    items_per_user_df = ddf.groupby('UserId')['ItemId'].size().to_frame('count')\n",
    "    display(items_per_user_df)"
   ]
  },
  {
   "cell_type": "code",
   "execution_count": 68,
   "metadata": {},
   "outputs": [
    {
     "name": "stdout",
     "output_type": "stream",
     "text": [
      "CPU times: user 13 µs, sys: 0 ns, total: 13 µs\n",
      "Wall time: 24.6 µs\n"
     ]
    }
   ],
   "source": [
    "%%time\n",
    "if HAS_USER:\n",
    "    unique_items_per_user_df = ddf[['UserId', 'ItemId']].drop_duplicates().groupby('UserId').size().to_frame('nunique')\n",
    "    display(unique_items_per_user_df)"
   ]
  },
  {
   "cell_type": "code",
   "execution_count": 69,
   "metadata": {},
   "outputs": [
    {
     "name": "stdout",
     "output_type": "stream",
     "text": [
      "CPU times: user 12 µs, sys: 0 ns, total: 12 µs\n",
      "Wall time: 21 µs\n"
     ]
    }
   ],
   "source": [
    "%%time\n",
    "if HAS_USER:\n",
    "    items_per_user_joined_df = items_per_user_df.merge(unique_items_per_user_df)\n",
    "    items_per_user_joined_df['user_perc_repeated_interactions'] = (items_per_user_joined_df['count'] - items_per_user_joined_df['nunique']) / items_per_user_joined_df['count']\n",
    "    display(items_per_user_joined_df)"
   ]
  },
  {
   "cell_type": "code",
   "execution_count": 70,
   "metadata": {},
   "outputs": [
    {
     "data": {
      "text/plain": [
       "None"
      ]
     },
     "metadata": {},
     "output_type": "display_data"
    },
    {
     "name": "stdout",
     "output_type": "stream",
     "text": [
      "CPU times: user 6.35 ms, sys: 0 ns, total: 6.35 ms\n",
      "Wall time: 5.3 ms\n"
     ]
    }
   ],
   "source": [
    "%%time\n",
    "if HAS_USER:\n",
    "    repeat_user_item_interactions_percentiles_df = \\\n",
    "            items_per_user_joined_df['user_perc_repeated_interactions'].describe(percentiles=PERCENTILES).compute()\n",
    "else:\n",
    "    repeat_user_item_interactions_percentiles_df = None\n",
    "set_distr_percentiles(repeat_user_item_interactions_percentiles_df, dataset_info, prefix='user_perc_repeated_interactions', dtype='float')\n",
    "display(repeat_user_item_interactions_percentiles_df)"
   ]
  },
  {
   "cell_type": "markdown",
   "metadata": {},
   "source": [
    "## Temporal aspects"
   ]
  },
  {
   "cell_type": "markdown",
   "metadata": {},
   "source": [
    "### # Interactions per day, week, month"
   ]
  },
  {
   "cell_type": "code",
   "execution_count": 71,
   "metadata": {},
   "outputs": [
    {
     "name": "stdout",
     "output_type": "stream",
     "text": [
      "CPU times: user 219 ms, sys: 32.3 ms, total: 251 ms\n",
      "Wall time: 1.07 s\n"
     ]
    },
    {
     "data": {
      "image/png": "[encoded data removed]",
      "text/plain": [
       "<Figure size 1080x576 with 1 Axes>"
      ]
     },
     "metadata": {
      "needs_background": "light"
     },
     "output_type": "display_data"
    }
   ],
   "source": [
    "%%time\n",
    "if HAS_TIMESTAMP:\n",
    "    ddf.groupby('DateStr').size().compute().to_pandas().sort_index().plot.line(figsize=(15,8))"
   ]
  },
  {
   "cell_type": "code",
   "execution_count": 72,
   "metadata": {},
   "outputs": [
    {
     "name": "stdout",
     "output_type": "stream",
     "text": [
      "CPU times: user 245 ms, sys: 14 ms, total: 259 ms\n",
      "Wall time: 1.09 s\n"
     ]
    },
    {
     "data": {
      "image/png": "[encoded data removed]",
      "text/plain": [
       "<Figure size 1080x576 with 1 Axes>"
      ]
     },
     "metadata": {
      "needs_background": "light"
     },
     "output_type": "display_data"
    }
   ],
   "source": [
    "%%time\n",
    "if HAS_TIMESTAMP:\n",
    "    ddf.groupby('year-week').size().compute().to_pandas().sort_index().plot.line(figsize=(15,8))"
   ]
  },
  {
   "cell_type": "code",
   "execution_count": 73,
   "metadata": {},
   "outputs": [
    {
     "name": "stdout",
     "output_type": "stream",
     "text": [
      "CPU times: user 214 ms, sys: 43.7 ms, total: 257 ms\n",
      "Wall time: 1.11 s\n"
     ]
    },
    {
     "data": {
      "image/png": "[encoded data removed]",
      "text/plain": [
       "<Figure size 1080x576 with 1 Axes>"
      ]
     },
     "metadata": {
      "needs_background": "light"
     },
     "output_type": "display_data"
    }
   ],
   "source": [
    "%%time\n",
    "if HAS_TIMESTAMP:\n",
    "    ddf.groupby('year-month').size().compute().to_pandas().sort_index().plot.line(figsize=(15,8))"
   ]
  },
  {
   "cell_type": "markdown",
   "metadata": {},
   "source": [
    "### Items lifetime: Items interactions decay over time"
   ]
  },
  {
   "cell_type": "code",
   "execution_count": 74,
   "metadata": {},
   "outputs": [
    {
     "name": "stdout",
     "output_type": "stream",
     "text": [
      "CPU times: user 193 ms, sys: 30.9 ms, total: 224 ms\n",
      "Wall time: 1.19 s\n"
     ]
    }
   ],
   "source": [
    "%%time\n",
    "if HAS_TIMESTAMP:\n",
    "    # Getting the first time each item was seen in the dataset\n",
    "    first_date_item_df = ddf.groupby('ItemId')[['Time', 'DateStr', 'year-week', 'year-month']].min()\n",
    "    first_date_item_df = first_date_item_df.compute().rename(\n",
    "                              {'Time': 'first_Time',\n",
    "                               'DateStr': 'first_DateStr',\n",
    "                               'year-week': 'first_year-week',\n",
    "                               'year-month': 'first_year-month'}, axis=1)"
   ]
  },
  {
   "cell_type": "code",
   "execution_count": 75,
   "metadata": {},
   "outputs": [
    {
     "data": {
      "text/html": [
       "<div>\n",
       "<style scoped>\n",
       "    .dataframe tbody tr th:only-of-type {\n",
       "        vertical-align: middle;\n",
       "    }\n",
       "\n",
       "    .dataframe tbody tr th {\n",
       "        vertical-align: top;\n",
       "    }\n",
       "\n",
       "    .dataframe thead th {\n",
       "        text-align: right;\n",
       "    }\n",
       "</style>\n",
       "<table border=\"1\" class=\"dataframe\">\n",
       "  <thead>\n",
       "    <tr style=\"text-align: right;\">\n",
       "      <th></th>\n",
       "      <th>ItemId</th>\n",
       "      <th>Time</th>\n",
       "      <th>first_Time</th>\n",
       "      <th>first_DateStr</th>\n",
       "      <th>first_year-week</th>\n",
       "      <th>first_year-month</th>\n",
       "      <th>item_elapsed_days_since_first_seen</th>\n",
       "    </tr>\n",
       "  </thead>\n",
       "  <tbody>\n",
       "    <tr>\n",
       "      <th>57178</th>\n",
       "      <td>479b174174e35e57bc3bba70d5a3d233c81d3046cd2e2d...</td>\n",
       "      <td>2019-02-22 00:18:12.574</td>\n",
       "      <td>2019-01-15 12:43:40.924</td>\n",
       "      <td>2019-01-15</td>\n",
       "      <td>2019-w03</td>\n",
       "      <td>2019-01</td>\n",
       "      <td>37</td>\n",
       "    </tr>\n",
       "    <tr>\n",
       "      <th>54413</th>\n",
       "      <td>58e6ca785d4e2af324f1958e4ac3c7ba22c0bf879d670d...</td>\n",
       "      <td>2019-03-04 21:11:20.929</td>\n",
       "      <td>2019-01-15 17:11:26.891</td>\n",
       "      <td>2019-01-15</td>\n",
       "      <td>2019-w03</td>\n",
       "      <td>2019-01</td>\n",
       "      <td>48</td>\n",
       "    </tr>\n",
       "    <tr>\n",
       "      <th>6669</th>\n",
       "      <td>b56e3b1c25a717834c5399f098cdcd61223ca992f76e70...</td>\n",
       "      <td>2019-02-28 00:10:51.479</td>\n",
       "      <td>2019-01-15 15:35:14.408</td>\n",
       "      <td>2019-01-15</td>\n",
       "      <td>2019-w03</td>\n",
       "      <td>2019-01</td>\n",
       "      <td>43</td>\n",
       "    </tr>\n",
       "    <tr>\n",
       "      <th>6679</th>\n",
       "      <td>46be38ef60a9867925da0055be7783d1e23bc4bb25f3ad...</td>\n",
       "      <td>2019-02-28 00:16:33.765</td>\n",
       "      <td>2019-01-30 09:45:03.133</td>\n",
       "      <td>2019-01-30</td>\n",
       "      <td>2019-w05</td>\n",
       "      <td>2019-01</td>\n",
       "      <td>28</td>\n",
       "    </tr>\n",
       "    <tr>\n",
       "      <th>7628</th>\n",
       "      <td>6f83e8f895bf4f96d5d1bc480b40f3a0969d06064f84f2...</td>\n",
       "      <td>2019-03-09 00:28:53.295</td>\n",
       "      <td>2019-01-15 23:10:22.817</td>\n",
       "      <td>2019-01-15</td>\n",
       "      <td>2019-w03</td>\n",
       "      <td>2019-01</td>\n",
       "      <td>52</td>\n",
       "    </tr>\n",
       "  </tbody>\n",
       "</table>\n",
       "</div>"
      ],
      "text/plain": [
       "                                                  ItemId  \\\n",
       "57178  479b174174e35e57bc3bba70d5a3d233c81d3046cd2e2d...   \n",
       "54413  58e6ca785d4e2af324f1958e4ac3c7ba22c0bf879d670d...   \n",
       "6669   b56e3b1c25a717834c5399f098cdcd61223ca992f76e70...   \n",
       "6679   46be38ef60a9867925da0055be7783d1e23bc4bb25f3ad...   \n",
       "7628   6f83e8f895bf4f96d5d1bc480b40f3a0969d06064f84f2...   \n",
       "\n",
       "                         Time              first_Time first_DateStr  \\\n",
       "57178 2019-02-22 00:18:12.574 2019-01-15 12:43:40.924    2019-01-15   \n",
       "54413 2019-03-04 21:11:20.929 2019-01-15 17:11:26.891    2019-01-15   \n",
       "6669  2019-02-28 00:10:51.479 2019-01-15 15:35:14.408    2019-01-15   \n",
       "6679  2019-02-28 00:16:33.765 2019-01-30 09:45:03.133    2019-01-30   \n",
       "7628  2019-03-09 00:28:53.295 2019-01-15 23:10:22.817    2019-01-15   \n",
       "\n",
       "      first_year-week first_year-month  item_elapsed_days_since_first_seen  \n",
       "57178        2019-w03          2019-01                                  37  \n",
       "54413        2019-w03          2019-01                                  48  \n",
       "6669         2019-w03          2019-01                                  43  \n",
       "6679         2019-w05          2019-01                                  28  \n",
       "7628         2019-w03          2019-01                                  52  "
      ]
     },
     "metadata": {},
     "output_type": "display_data"
    },
    {
     "name": "stdout",
     "output_type": "stream",
     "text": [
      "CPU times: user 133 ms, sys: 8.02 ms, total: 141 ms\n",
      "Wall time: 209 ms\n"
     ]
    }
   ],
   "source": [
    "%%time\n",
    "if HAS_TIMESTAMP:\n",
    "    #Computing for each interaction how many days since the item was first seen\n",
    "    item_interactions_time_df = ddf[['ItemId', 'Time']].merge(first_date_item_df, left_on='ItemId', right_index=True)#.compute()\n",
    "    item_interactions_time_df['item_elapsed_days_since_first_seen'] = (item_interactions_time_df['Time'] - item_interactions_time_df['first_Time']).dt.days\n",
    "    display(item_interactions_time_df.head())"
   ]
  },
  {
   "cell_type": "code",
   "execution_count": 76,
   "metadata": {},
   "outputs": [
    {
     "data": {
      "text/plain": [
       "count    1.043161e+07\n",
       "mean     3.427496e+01\n",
       "std      2.506770e+01\n",
       "min      0.000000e+00\n",
       "0%       0.000000e+00\n",
       "10%      6.000000e+00\n",
       "20%      1.100000e+01\n",
       "25%      1.400000e+01\n",
       "30%      1.700000e+01\n",
       "40%      2.600000e+01\n",
       "50%      3.500000e+01\n",
       "60%      4.200000e+01\n",
       "70%      5.200000e+01\n",
       "75%      5.600000e+01\n",
       "80%      6.400000e+01\n",
       "90%      7.900000e+01\n",
       "95%      8.500000e+01\n",
       "99%      8.800000e+01\n",
       "100%     8.900000e+01\n",
       "max      8.900000e+01\n",
       "Name: item_elapsed_days_since_first_seen, dtype: float64"
      ]
     },
     "metadata": {},
     "output_type": "display_data"
    },
    {
     "name": "stdout",
     "output_type": "stream",
     "text": [
      "CPU times: user 799 ms, sys: 72.7 ms, total: 872 ms\n",
      "Wall time: 2.31 s\n"
     ]
    }
   ],
   "source": [
    "%%time\n",
    "if HAS_TIMESTAMP:\n",
    "    item_elapsed_days_since_available_describe_df = item_interactions_time_df['item_elapsed_days_since_first_seen'] \\\n",
    "                                    .describe(percentiles=PERCENTILES).compute()\n",
    "    set_distr_percentiles(item_elapsed_days_since_available_describe_df, dataset_info, prefix='item_interactions_by_age_days')\n",
    "    display(item_elapsed_days_since_available_describe_df)"
   ]
  },
  {
   "cell_type": "code",
   "execution_count": 77,
   "metadata": {},
   "outputs": [
    {
     "name": "stdout",
     "output_type": "stream",
     "text": [
      "CPU times: user 678 ms, sys: 53.6 ms, total: 731 ms\n",
      "Wall time: 1.94 s\n"
     ]
    },
    {
     "data": {
      "image/png": "[encoded data removed]",
      "text/plain": [
       "<Figure size 1080x576 with 1 Axes>"
      ]
     },
     "metadata": {
      "needs_background": "light"
     },
     "output_type": "display_data"
    }
   ],
   "source": [
    "%%time\n",
    "if HAS_TIMESTAMP:\n",
    "    item_interactions_time_df.groupby('item_elapsed_days_since_first_seen').size().compute() \\\n",
    "                .to_pandas().sort_index().plot.bar(figsize=(15,8))"
   ]
  },
  {
   "cell_type": "markdown",
   "metadata": {},
   "source": [
    "### Item Cold-start"
   ]
  },
  {
   "cell_type": "markdown",
   "metadata": {},
   "source": [
    "#### How many new items every week / month"
   ]
  },
  {
   "cell_type": "code",
   "execution_count": 78,
   "metadata": {},
   "outputs": [
    {
     "data": {
      "text/plain": [
       "first_DateStr\n",
       "2019-01-15    10271\n",
       "2019-01-16     4999\n",
       "2019-01-17     3080\n",
       "2019-01-18     2125\n",
       "2019-01-19     1683\n",
       "              ...  \n",
       "2019-04-11      716\n",
       "2019-04-12      551\n",
       "2019-04-13      537\n",
       "2019-04-14      478\n",
       "2019-04-15       98\n",
       "Length: 90, dtype: int32"
      ]
     },
     "metadata": {},
     "output_type": "display_data"
    },
    {
     "name": "stdout",
     "output_type": "stream",
     "text": [
      "CPU times: user 14.4 ms, sys: 14 ms, total: 28.4 ms\n",
      "Wall time: 26.3 ms\n"
     ]
    }
   ],
   "source": [
    "%%time\n",
    "if HAS_TIMESTAMP:\n",
    "    new_items_by_day = first_date_item_df.groupby('first_DateStr').size().to_pandas()\n",
    "    display(new_items_by_day)"
   ]
  },
  {
   "cell_type": "code",
   "execution_count": 79,
   "metadata": {},
   "outputs": [
    {
     "name": "stdout",
     "output_type": "stream",
     "text": [
      "356.0\n",
      "CPU times: user 3.94 ms, sys: 108 µs, total: 4.05 ms\n",
      "Wall time: 3.36 ms\n"
     ]
    }
   ],
   "source": [
    "%%time\n",
    "if HAS_TIMESTAMP:\n",
    "    #Ignoring first day\n",
    "    dataset_info['new_items_by_day_p50'] = new_items_by_day[1:].median()\n",
    "    print(dataset_info['new_items_by_day_p50'])"
   ]
  },
  {
   "cell_type": "code",
   "execution_count": 80,
   "metadata": {},
   "outputs": [
    {
     "data": {
      "text/plain": [
       "<AxesSubplot:xlabel='first_DateStr'>"
      ]
     },
     "metadata": {},
     "output_type": "display_data"
    },
    {
     "data": {
      "image/png": "[encoded data removed]",
      "text/plain": [
       "<Figure size 1080x576 with 1 Axes>"
      ]
     },
     "metadata": {
      "needs_background": "light"
     },
     "output_type": "display_data"
    }
   ],
   "source": [
    "if HAS_TIMESTAMP:\n",
    "    display(new_items_by_day[1:].sort_index().plot.bar(figsize=(15,8)))"
   ]
  },
  {
   "cell_type": "code",
   "execution_count": 81,
   "metadata": {},
   "outputs": [
    {
     "data": {
      "text/plain": [
       "first_year-week\n",
       "2019-w03    23459\n",
       "2019-w04     6110\n",
       "2019-w05     3720\n",
       "2019-w06     2794\n",
       "2019-w07     3188\n",
       "2019-w08     2834\n",
       "2019-w09     2315\n",
       "2019-w10     2569\n",
       "2019-w11     2020\n",
       "2019-w12     1820\n",
       "2019-w13     1694\n",
       "2019-w14     1855\n",
       "2019-w15     3007\n",
       "2019-w16       98\n",
       "dtype: int32"
      ]
     },
     "metadata": {},
     "output_type": "display_data"
    },
    {
     "name": "stdout",
     "output_type": "stream",
     "text": [
      "CPU times: user 21.2 ms, sys: 4.03 ms, total: 25.2 ms\n",
      "Wall time: 22.5 ms\n"
     ]
    }
   ],
   "source": [
    "%%time\n",
    "if HAS_TIMESTAMP:\n",
    "    new_items_by_week = first_date_item_df.groupby('first_year-week').size().to_pandas()\n",
    "    display(new_items_by_week)"
   ]
  },
  {
   "cell_type": "code",
   "execution_count": 82,
   "metadata": {},
   "outputs": [
    {
     "name": "stdout",
     "output_type": "stream",
     "text": [
      "2569.0\n"
     ]
    }
   ],
   "source": [
    "if HAS_TIMESTAMP:\n",
    "    dataset_info['new_items_by_week_p50'] = new_items_by_week[1:].median()\n",
    "    print(dataset_info['new_items_by_week_p50'])"
   ]
  },
  {
   "cell_type": "code",
   "execution_count": 83,
   "metadata": {},
   "outputs": [
    {
     "data": {
      "image/png": "[encoded data removed]",
      "text/plain": [
       "<Figure size 1080x576 with 1 Axes>"
      ]
     },
     "metadata": {
      "needs_background": "light"
     },
     "output_type": "display_data"
    }
   ],
   "source": [
    "if HAS_TIMESTAMP:\n",
    "    if len(new_items_by_week[1:]) > 0:\n",
    "        new_items_by_week[1:].sort_index().plot.bar(figsize=(15,8))"
   ]
  },
  {
   "cell_type": "code",
   "execution_count": 84,
   "metadata": {},
   "outputs": [
    {
     "data": {
      "text/plain": [
       "first_year-month\n",
       "2019-01    31924\n",
       "2019-02    11529\n",
       "2019-03     9070\n",
       "2019-04     4960\n",
       "dtype: int32"
      ]
     },
     "metadata": {},
     "output_type": "display_data"
    },
    {
     "name": "stdout",
     "output_type": "stream",
     "text": [
      "CPU times: user 30 ms, sys: 0 ns, total: 30 ms\n",
      "Wall time: 26.9 ms\n"
     ]
    }
   ],
   "source": [
    "%%time\n",
    "if HAS_TIMESTAMP:\n",
    "    new_items_by_month = first_date_item_df.groupby('first_year-month').size().to_pandas()\n",
    "    display(new_items_by_month)"
   ]
  },
  {
   "cell_type": "code",
   "execution_count": 85,
   "metadata": {},
   "outputs": [
    {
     "name": "stdout",
     "output_type": "stream",
     "text": [
      "9070.0\n",
      "CPU times: user 1.97 ms, sys: 0 ns, total: 1.97 ms\n",
      "Wall time: 1.88 ms\n"
     ]
    }
   ],
   "source": [
    "%%time\n",
    "if HAS_TIMESTAMP:\n",
    "    #Ignoring first month\n",
    "    dataset_info['new_items_by_month_p50'] = new_items_by_month[1:].median()\n",
    "    print(dataset_info['new_items_by_month_p50'])"
   ]
  },
  {
   "cell_type": "code",
   "execution_count": 86,
   "metadata": {},
   "outputs": [
    {
     "name": "stdout",
     "output_type": "stream",
     "text": [
      "CPU times: user 41.4 ms, sys: 15.8 ms, total: 57.2 ms\n",
      "Wall time: 53.2 ms\n"
     ]
    },
    {
     "data": {
      "image/png": "[encoded data removed]",
      "text/plain": [
       "<Figure size 1080x576 with 1 Axes>"
      ]
     },
     "metadata": {
      "needs_background": "light"
     },
     "output_type": "display_data"
    }
   ],
   "source": [
    "%%time\n",
    "if HAS_TIMESTAMP:\n",
    "    if len(new_items_by_month[1:]) > 0:\n",
    "        new_items_by_month[1:].sort_index().plot.bar(figsize=(15,8))"
   ]
  },
  {
   "cell_type": "markdown",
   "metadata": {},
   "source": [
    "#### % of interactions on new items first seen in the same day, week, month"
   ]
  },
  {
   "cell_type": "code",
   "execution_count": 87,
   "metadata": {},
   "outputs": [
    {
     "name": "stdout",
     "output_type": "stream",
     "text": [
      "CPU times: user 464 ms, sys: 443 ms, total: 907 ms\n",
      "Wall time: 1.93 s\n"
     ]
    }
   ],
   "source": [
    "%%time\n",
    "if HAS_TIMESTAMP:\n",
    "    item_cold_start_df = ddf.merge(first_date_item_df,  left_on='ItemId', right_index=True)[['DateStr', 'first_DateStr',\n",
    "                                                                        'year-week', 'first_year-week',\n",
    "                                                                        'year-month', 'first_year-month']] #.compute()\n",
    "    min_year_week = item_cold_start_df['year-week'].compute().min()\n",
    "    #Ignoring first week (where most of the items will occur first)\n",
    "    item_cold_start_df = item_cold_start_df[item_cold_start_df['year-week'] != min_year_week]\n",
    "    #Checking if the item was created in the same day, week or month of the interaction\n",
    "    item_cold_start_df['item_created_same_day'] = (item_cold_start_df['DateStr'] == item_cold_start_df['first_DateStr'])\n",
    "    item_cold_start_df['item_created_same_week'] = (item_cold_start_df['year-week'] == item_cold_start_df['first_year-week'])\n",
    "    item_cold_start_df['item_created_same_month'] = (item_cold_start_df['year-month'] == item_cold_start_df['first_year-month'])"
   ]
  },
  {
   "cell_type": "code",
   "execution_count": 88,
   "metadata": {},
   "outputs": [
    {
     "name": "stdout",
     "output_type": "stream",
     "text": [
      "0.0054483721421596425\n",
      "CPU times: user 257 ms, sys: 41.1 ms, total: 299 ms\n",
      "Wall time: 1.39 s\n"
     ]
    }
   ],
   "source": [
    "%%time\n",
    "if HAS_TIMESTAMP:\n",
    "    perc_interactions_on_items_created_same_day = item_cold_start_df['item_created_same_day'].mean().compute()\n",
    "    dataset_info['perc_interact_items_created_same_day'] = perc_interactions_on_items_created_same_day\n",
    "    print(perc_interactions_on_items_created_same_day)"
   ]
  },
  {
   "cell_type": "code",
   "execution_count": 89,
   "metadata": {},
   "outputs": [
    {
     "name": "stdout",
     "output_type": "stream",
     "text": [
      "0.012125196480810962\n",
      "CPU times: user 595 ms, sys: 63 ms, total: 658 ms\n",
      "Wall time: 2.07 s\n"
     ]
    }
   ],
   "source": [
    "%%time\n",
    "if HAS_TIMESTAMP:\n",
    "    perc_interactions_on_items_created_same_week = item_cold_start_df['item_created_same_week'].mean().compute()\n",
    "    dataset_info['perc_interact_items_created_same_week'] = perc_interactions_on_items_created_same_week\n",
    "    print(perc_interactions_on_items_created_same_week)"
   ]
  },
  {
   "cell_type": "code",
   "execution_count": 90,
   "metadata": {},
   "outputs": [
    {
     "name": "stdout",
     "output_type": "stream",
     "text": [
      "0.2216688682845142\n",
      "CPU times: user 601 ms, sys: 46.7 ms, total: 648 ms\n",
      "Wall time: 2.06 s\n"
     ]
    }
   ],
   "source": [
    "%%time\n",
    "if HAS_TIMESTAMP:\n",
    "    perc_interactions_on_items_created_same_month = item_cold_start_df['item_created_same_month'].mean().compute()\n",
    "    dataset_info['perc_interact_items_created_same_month'] = perc_interactions_on_items_created_same_month\n",
    "    print(perc_interactions_on_items_created_same_month)"
   ]
  },
  {
   "cell_type": "markdown",
   "metadata": {},
   "source": [
    "### Users lifetime: User interactions decay over time"
   ]
  },
  {
   "cell_type": "code",
   "execution_count": 91,
   "metadata": {},
   "outputs": [
    {
     "name": "stdout",
     "output_type": "stream",
     "text": [
      "CPU times: user 14 µs, sys: 0 ns, total: 14 µs\n",
      "Wall time: 25.5 µs\n"
     ]
    }
   ],
   "source": [
    "%%time\n",
    "if HAS_USER and HAS_TIMESTAMP:\n",
    "    first_date_user_df = ddf.groupby('UserId')[['Time', 'DateStr', 'year-week', 'year-month']].min()\n",
    "    first_date_user_df = first_date_user_df.compute().rename(\n",
    "                              {'Time': 'first_Time',\n",
    "                               'DateStr': 'first_DateStr',\n",
    "                               'year-week': 'first_year-week',\n",
    "                               'year-month': 'first_year-month'}, axis=1)\n",
    "    display(first_date_user_df)"
   ]
  },
  {
   "cell_type": "code",
   "execution_count": 92,
   "metadata": {},
   "outputs": [
    {
     "name": "stdout",
     "output_type": "stream",
     "text": [
      "CPU times: user 14 µs, sys: 0 ns, total: 14 µs\n",
      "Wall time: 25.5 µs\n"
     ]
    }
   ],
   "source": [
    "%%time\n",
    "if HAS_USER and  HAS_TIMESTAMP:\n",
    "    user_interactions_time_df = ddf[['UserId', 'Time']].merge(first_date_user_df, left_on='UserId', right_index=True) #.compute()\n",
    "    user_interactions_time_df['user_elapsed_days_since_first_seen'] = (user_interactions_time_df['Time'] - user_interactions_time_df['first_Time']).dt.days"
   ]
  },
  {
   "cell_type": "code",
   "execution_count": 93,
   "metadata": {},
   "outputs": [
    {
     "data": {
      "text/plain": [
       "None"
      ]
     },
     "metadata": {},
     "output_type": "display_data"
    },
    {
     "name": "stdout",
     "output_type": "stream",
     "text": [
      "CPU times: user 897 µs, sys: 5.13 ms, total: 6.03 ms\n",
      "Wall time: 4.84 ms\n"
     ]
    }
   ],
   "source": [
    "%%time\n",
    "if HAS_USER and HAS_TIMESTAMP:\n",
    "    user_elapsed_days_since_first_seen_describe_df = \\\n",
    "            user_interactions_time_df['user_elapsed_days_since_first_seen'].describe(percentiles=PERCENTILES).compute()\n",
    "else:\n",
    "    user_elapsed_days_since_first_seen_describe_df = None\n",
    "    \n",
    "set_distr_percentiles(user_elapsed_days_since_first_seen_describe_df, dataset_info, prefix='user_interactions_by_age_days')\n",
    "display(user_elapsed_days_since_first_seen_describe_df)"
   ]
  },
  {
   "cell_type": "code",
   "execution_count": 94,
   "metadata": {},
   "outputs": [
    {
     "name": "stdout",
     "output_type": "stream",
     "text": [
      "CPU times: user 12 µs, sys: 0 ns, total: 12 µs\n",
      "Wall time: 21.9 µs\n"
     ]
    }
   ],
   "source": [
    "%%time\n",
    "if HAS_USER and HAS_TIMESTAMP:\n",
    "    user_interactions_time_df.groupby('user_elapsed_days_since_first_seen').size().compute().to_pandas().sort_index().plot.bar(figsize=(15,8))#"
   ]
  },
  {
   "cell_type": "markdown",
   "metadata": {},
   "source": [
    "### User Cold-start"
   ]
  },
  {
   "cell_type": "markdown",
   "metadata": {},
   "source": [
    "#### How many new items every week / month"
   ]
  },
  {
   "cell_type": "code",
   "execution_count": 95,
   "metadata": {},
   "outputs": [
    {
     "name": "stdout",
     "output_type": "stream",
     "text": [
      "CPU times: user 7 µs, sys: 7 µs, total: 14 µs\n",
      "Wall time: 24.6 µs\n"
     ]
    }
   ],
   "source": [
    "%%time\n",
    "if HAS_USER and HAS_TIMESTAMP:\n",
    "    new_users_by_day = first_date_user_df.groupby('first_DateStr').size()\n",
    "    display(new_users_by_day)"
   ]
  },
  {
   "cell_type": "code",
   "execution_count": 96,
   "metadata": {},
   "outputs": [
    {
     "name": "stdout",
     "output_type": "stream",
     "text": [
      "CPU times: user 4 µs, sys: 4 µs, total: 8 µs\n",
      "Wall time: 13.8 µs\n"
     ]
    }
   ],
   "source": [
    "%%time\n",
    "if HAS_USER and HAS_TIMESTAMP:\n",
    "    #Ignoring first day\n",
    "    dataset_info['new_users_by_day_p50'] = new_users_by_day[1:].median()\n",
    "    print(dataset_info['new_users_by_day_p50'])\n",
    "else:\n",
    "    dataset_info['new_users_by_day_p50'] = None"
   ]
  },
  {
   "cell_type": "code",
   "execution_count": 97,
   "metadata": {},
   "outputs": [
    {
     "name": "stdout",
     "output_type": "stream",
     "text": [
      "CPU times: user 7 µs, sys: 6 µs, total: 13 µs\n",
      "Wall time: 24.1 µs\n"
     ]
    }
   ],
   "source": [
    "%%time\n",
    "if HAS_USER and HAS_TIMESTAMP:\n",
    "    new_users_by_week = first_date_user_df.groupby('first_year-week').size().to_pandas()\n",
    "    display(new_users_by_week)"
   ]
  },
  {
   "cell_type": "code",
   "execution_count": 98,
   "metadata": {},
   "outputs": [
    {
     "name": "stdout",
     "output_type": "stream",
     "text": [
      "CPU times: user 11 µs, sys: 10 µs, total: 21 µs\n",
      "Wall time: 32.7 µs\n"
     ]
    }
   ],
   "source": [
    "%%time\n",
    "if HAS_USER and HAS_TIMESTAMP:\n",
    "    #Ignoring first week\n",
    "    dataset_info['new_users_by_week_p50'] = new_users_by_week[1:].median()\n",
    "    print(dataset_info['new_users_by_week_p50'])\n",
    "else:\n",
    "    dataset_info['new_users_by_week_p50'] = None"
   ]
  },
  {
   "cell_type": "code",
   "execution_count": 99,
   "metadata": {},
   "outputs": [
    {
     "name": "stdout",
     "output_type": "stream",
     "text": [
      "CPU times: user 4 µs, sys: 4 µs, total: 8 µs\n",
      "Wall time: 21 µs\n"
     ]
    }
   ],
   "source": [
    "%%time\n",
    "if HAS_USER and HAS_TIMESTAMP:\n",
    "    if len(new_users_by_week[1:]) > 0:\n",
    "        new_users_by_week[1:].sort_index().plot.bar(figsize=(15,8))"
   ]
  },
  {
   "cell_type": "code",
   "execution_count": 100,
   "metadata": {},
   "outputs": [
    {
     "name": "stdout",
     "output_type": "stream",
     "text": [
      "CPU times: user 13 µs, sys: 0 ns, total: 13 µs\n",
      "Wall time: 23.6 µs\n"
     ]
    }
   ],
   "source": [
    "%%time\n",
    "if HAS_USER and HAS_TIMESTAMP:\n",
    "    new_users_by_month = first_date_user_df.groupby('first_year-month').size().to_pandas()\n",
    "    display(new_users_by_month)"
   ]
  },
  {
   "cell_type": "code",
   "execution_count": 101,
   "metadata": {},
   "outputs": [],
   "source": [
    "if HAS_USER and HAS_TIMESTAMP:\n",
    "    #Ignoring first month\n",
    "    dataset_info['new_users_by_month_p50'] = new_users_by_month[1:].median()\n",
    "    print(dataset_info['new_users_by_month_p50'])\n",
    "else:\n",
    "    dataset_info['new_users_by_month_p50'] = None"
   ]
  },
  {
   "cell_type": "code",
   "execution_count": 102,
   "metadata": {},
   "outputs": [],
   "source": [
    "if HAS_USER and HAS_TIMESTAMP:\n",
    "    if len(new_users_by_month[1:]) > 0:\n",
    "        new_users_by_month[1:].sort_index().plot.bar(figsize=(15,8))"
   ]
  },
  {
   "cell_type": "markdown",
   "metadata": {},
   "source": [
    "#### % of interactions on new items first seen in the same day, week, month"
   ]
  },
  {
   "cell_type": "code",
   "execution_count": 103,
   "metadata": {},
   "outputs": [
    {
     "name": "stdout",
     "output_type": "stream",
     "text": [
      "CPU times: user 8 µs, sys: 0 ns, total: 8 µs\n",
      "Wall time: 14.1 µs\n"
     ]
    }
   ],
   "source": [
    "%%time\n",
    "if HAS_USER and HAS_TIMESTAMP:\n",
    "    user_cold_start_df = ddf.merge(first_date_user_df,  left_on='UserId', right_index=True)[['DateStr', 'first_DateStr',\n",
    "                                                                        'year-week', 'first_year-week',\n",
    "                                                                        'year-month', 'first_year-month']] #.compute()\n",
    "    min_year_week = user_cold_start_df['year-week'].compute().min()\n",
    "    #Ignoring first week (where most of the items will occur first)\n",
    "    user_cold_start_df = user_cold_start_df[user_cold_start_df['year-week'] != min_year_week]\n",
    "    #Checking if the item was created in the same day, week or month of the interaction\n",
    "    user_cold_start_df['user_created_same_day'] = (user_cold_start_df['DateStr'] == user_cold_start_df['first_DateStr'])\n",
    "    user_cold_start_df['user_created_same_week'] = (user_cold_start_df['year-week'] == user_cold_start_df['first_year-week'])\n",
    "    user_cold_start_df['user_created_same_month'] = (user_cold_start_df['year-month'] == user_cold_start_df['first_year-month'])"
   ]
  },
  {
   "cell_type": "code",
   "execution_count": 104,
   "metadata": {},
   "outputs": [
    {
     "name": "stdout",
     "output_type": "stream",
     "text": [
      "CPU times: user 8 µs, sys: 8 µs, total: 16 µs\n",
      "Wall time: 26.2 µs\n"
     ]
    }
   ],
   "source": [
    "%%time\n",
    "if HAS_USER and HAS_TIMESTAMP:\n",
    "    perc_interactions_by_users_first_seen_same_day = user_cold_start_df['user_created_same_day'].mean().compute()\n",
    "    dataset_info['perc_interact_users_created_same_day'] = perc_interactions_by_users_first_seen_same_day\n",
    "    print(perc_interactions_by_users_first_seen_same_day)\n",
    "else:\n",
    "    dataset_info['perc_interact_users_created_same_day'] = None"
   ]
  },
  {
   "cell_type": "code",
   "execution_count": 105,
   "metadata": {},
   "outputs": [
    {
     "name": "stdout",
     "output_type": "stream",
     "text": [
      "CPU times: user 8 µs, sys: 8 µs, total: 16 µs\n",
      "Wall time: 26.2 µs\n"
     ]
    }
   ],
   "source": [
    "%%time\n",
    "if HAS_USER and HAS_TIMESTAMP:\n",
    "    perc_interactions_by_users_first_seen_same_week = user_cold_start_df['user_created_same_week'].mean().compute()\n",
    "    dataset_info['perc_interact_users_created_same_week'] = perc_interactions_by_users_first_seen_same_week\n",
    "    print(perc_interactions_by_users_first_seen_same_week)\n",
    "else:\n",
    "    dataset_info['perc_interact_users_created_same_week'] = None"
   ]
  },
  {
   "cell_type": "code",
   "execution_count": 106,
   "metadata": {},
   "outputs": [
    {
     "name": "stdout",
     "output_type": "stream",
     "text": [
      "CPU times: user 16 µs, sys: 0 ns, total: 16 µs\n",
      "Wall time: 26.7 µs\n"
     ]
    }
   ],
   "source": [
    "%%time\n",
    "if HAS_USER and HAS_TIMESTAMP:\n",
    "    perc_interactions_by_users_first_seen_same_month = user_cold_start_df['user_created_same_month'].mean().compute()\n",
    "    dataset_info['perc_interact_users_created_same_month'] = perc_interactions_by_users_first_seen_same_month\n",
    "    print(perc_interactions_by_users_first_seen_same_month)\n",
    "else:\n",
    "    dataset_info['perc_interact_users_created_same_month'] = None"
   ]
  },
  {
   "cell_type": "markdown",
   "metadata": {},
   "source": [
    "## Sessions stats"
   ]
  },
  {
   "cell_type": "markdown",
   "metadata": {},
   "source": [
    "### Session length distribution"
   ]
  },
  {
   "cell_type": "code",
   "execution_count": 107,
   "metadata": {},
   "outputs": [
    {
     "data": {
      "text/plain": [
       "count    4.934699e+06\n",
       "mean     7.311349e+00\n",
       "std      1.229165e+01\n",
       "min      1.000000e+00\n",
       "0%       1.000000e+00\n",
       "10%      1.000000e+00\n",
       "20%      2.000000e+00\n",
       "25%      2.000000e+00\n",
       "30%      2.000000e+00\n",
       "40%      2.000000e+00\n",
       "50%      3.000000e+00\n",
       "60%      4.000000e+00\n",
       "70%      6.000000e+00\n",
       "75%      8.000000e+00\n",
       "80%      1.000000e+01\n",
       "90%      1.700000e+01\n",
       "95%      2.700000e+01\n",
       "99%      6.000000e+01\n",
       "100%     2.060000e+02\n",
       "max      2.060000e+02\n",
       "dtype: float64"
      ]
     },
     "metadata": {},
     "output_type": "display_data"
    },
    {
     "name": "stdout",
     "output_type": "stream",
     "text": [
      "CPU times: user 295 ms, sys: 66 ms, total: 361 ms\n",
      "Wall time: 1.69 s\n"
     ]
    }
   ],
   "source": [
    "%%time\n",
    "if HAS_SESSION_ID:\n",
    "    sessions_length = ddf.groupby('SessionId').size()\n",
    "    session_length_describe_df = sessions_length.describe(percentiles=PERCENTILES).compute()\n",
    "else:\n",
    "    session_length_describe_df = None\n",
    "set_distr_percentiles(session_length_describe_df, dataset_info, prefix='session_length')\n",
    "display(session_length_describe_df)"
   ]
  },
  {
   "cell_type": "markdown",
   "metadata": {},
   "source": [
    "### Session duration distribution"
   ]
  },
  {
   "cell_type": "code",
   "execution_count": 108,
   "metadata": {},
   "outputs": [
    {
     "data": {
      "text/plain": [
       "count    4.934699e+06\n",
       "mean     3.514354e+00\n",
       "std      8.451696e+00\n",
       "min      0.000000e+00\n",
       "0%       0.000000e+00\n",
       "10%      0.000000e+00\n",
       "20%      0.000000e+00\n",
       "25%      0.000000e+00\n",
       "30%      0.000000e+00\n",
       "40%      0.000000e+00\n",
       "50%      3.666667e-01\n",
       "60%      9.500000e-01\n",
       "70%      2.016667e+00\n",
       "75%      2.900000e+00\n",
       "80%      4.216667e+00\n",
       "90%      1.028333e+01\n",
       "95%      1.886667e+01\n",
       "99%      3.951667e+01\n",
       "100%     5.881333e+02\n",
       "max      5.881333e+02\n",
       "Name: session_duration_min, dtype: float64"
      ]
     },
     "metadata": {},
     "output_type": "display_data"
    },
    {
     "name": "stdout",
     "output_type": "stream",
     "text": [
      "CPU times: user 496 ms, sys: 49.7 ms, total: 546 ms\n",
      "Wall time: 4.09 s\n"
     ]
    }
   ],
   "source": [
    "%%time\n",
    "if HAS_SESSION_ID and HAS_TIMESTAMP:\n",
    "    sessions_df = ddf.groupby('SessionId')['Time'].agg(['min', 'max'])#.compute()\n",
    "    sessions_df['session_duration_min'] = (sessions_df['max'] - sessions_df['min']).dt.seconds / 60\n",
    "    session_duration_describe_df = sessions_df['session_duration_min'].describe(percentiles=PERCENTILES).compute()\n",
    "else:\n",
    "    session_duration_describe_df = None\n",
    "set_distr_percentiles(session_duration_describe_df, dataset_info, prefix='session_duration_min')\n",
    "display(session_duration_describe_df)"
   ]
  },
  {
   "cell_type": "markdown",
   "metadata": {},
   "source": [
    "### Session by user distribution"
   ]
  },
  {
   "cell_type": "code",
   "execution_count": 109,
   "metadata": {},
   "outputs": [
    {
     "data": {
      "text/plain": [
       "None"
      ]
     },
     "metadata": {},
     "output_type": "display_data"
    },
    {
     "name": "stdout",
     "output_type": "stream",
     "text": [
      "CPU times: user 4.79 ms, sys: 437 µs, total: 5.23 ms\n",
      "Wall time: 4.39 ms\n"
     ]
    }
   ],
   "source": [
    "%%time\n",
    "if HAS_USER and HAS_SESSION_ID:\n",
    "    sessions_by_user_df = ddf.groupby('UserId')['SessionId'].size().to_frame('count').compute()\n",
    "    sessions_by_user_distr_df = sessions_by_user_df['count'].describe(percentiles=PERCENTILES)\n",
    "else:\n",
    "    sessions_by_user_distr_df = None\n",
    "set_distr_percentiles(sessions_by_user_distr_df, dataset_info, prefix='sessions_by_user')\n",
    "display(sessions_by_user_distr_df)"
   ]
  },
  {
   "cell_type": "markdown",
   "metadata": {},
   "source": [
    "### Interval between user sessions distribution"
   ]
  },
  {
   "cell_type": "code",
   "execution_count": 110,
   "metadata": {},
   "outputs": [
    {
     "name": "stdout",
     "output_type": "stream",
     "text": [
      "CPU times: user 14 µs, sys: 0 ns, total: 14 µs\n",
      "Wall time: 25 µs\n"
     ]
    }
   ],
   "source": [
    "%%time\n",
    "if HAS_USER and HAS_SESSION_ID and HAS_TIMESTAMP:\n",
    "    sessions_start_ts_df = ddf.groupby(['UserId', 'SessionId'])['Time'].agg(['min', 'max']).reset_index().compute() \\\n",
    "                            .rename({'min': 'session_start', 'max': 'session_end'}, axis=1) \\\n",
    "                            .sort_values(['UserId', 'session_start'], ascending=True)\n",
    "    \n",
    "    sessions_start_ts_df['prev_session_end'] = sessions_start_ts_df['session_end'].shift(1)\n",
    "    sessions_start_ts_df['days_since_last_session'] = (sessions_start_ts_df['session_start'] - \\\n",
    "                                                       sessions_start_ts_df['prev_session_end']).dt.days\n",
    "    sessions_start_ts_df['hours_since_last_session'] = (sessions_start_ts_df['session_start'] - \\\n",
    "                                                        sessions_start_ts_df['prev_session_end']).dt.seconds / (60*60)"
   ]
  },
  {
   "cell_type": "code",
   "execution_count": 111,
   "metadata": {},
   "outputs": [
    {
     "name": "stdout",
     "output_type": "stream",
     "text": [
      "CPU times: user 7 µs, sys: 0 ns, total: 7 µs\n",
      "Wall time: 12.9 µs\n"
     ]
    }
   ],
   "source": [
    "%%time\n",
    "#Shifting UserIds using pandas because cudf does not support shifting String columns yet.\n",
    "#When cudf starts supporting that you should use just use the shift(1) for that (like columns above)\n",
    "if HAS_USER and HAS_SESSION_ID and HAS_TIMESTAMP:\n",
    "    sessions_start_ts_shifted_df = sessions_start_ts_df[1:]    \n",
    "    sessions_start_ts_shifted_df['prev_user_id'] = sessions_start_ts_df[['UserId']][:-1] \\\n",
    "        .to_pandas()['UserId'].values"
   ]
  },
  {
   "cell_type": "code",
   "execution_count": 112,
   "metadata": {},
   "outputs": [
    {
     "name": "stdout",
     "output_type": "stream",
     "text": [
      "CPU times: user 13 µs, sys: 0 ns, total: 13 µs\n",
      "Wall time: 23.4 µs\n"
     ]
    }
   ],
   "source": [
    "%%time\n",
    "if HAS_USER and HAS_SESSION_ID and HAS_TIMESTAMP:\n",
    "    # Ignoring the first session of the user\n",
    "    sessions_start_ts_shifted_df = sessions_start_ts_shifted_df[sessions_start_ts_shifted_df['UserId'] == sessions_start_ts_shifted_df['prev_user_id']]"
   ]
  },
  {
   "cell_type": "code",
   "execution_count": 113,
   "metadata": {},
   "outputs": [
    {
     "data": {
      "text/plain": [
       "None"
      ]
     },
     "metadata": {},
     "output_type": "display_data"
    },
    {
     "name": "stdout",
     "output_type": "stream",
     "text": [
      "CPU times: user 1.78 ms, sys: 1.62 ms, total: 3.4 ms\n",
      "Wall time: 2.54 ms\n"
     ]
    }
   ],
   "source": [
    "%%time\n",
    "if HAS_USER and HAS_SESSION_ID:\n",
    "    sessions_hours_interval_distr_df = sessions_start_ts_shifted_df['hours_since_last_session'].describe(percentiles=PERCENTILES)\n",
    "else:\n",
    "    sessions_hours_interval_distr_df = None\n",
    "set_distr_percentiles(sessions_hours_interval_distr_df, dataset_info, prefix='sessions_interval_hours')\n",
    "display(sessions_hours_interval_distr_df)"
   ]
  },
  {
   "cell_type": "code",
   "execution_count": 114,
   "metadata": {},
   "outputs": [
    {
     "data": {
      "text/plain": [
       "None"
      ]
     },
     "metadata": {},
     "output_type": "display_data"
    },
    {
     "name": "stdout",
     "output_type": "stream",
     "text": [
      "CPU times: user 4.95 ms, sys: 566 µs, total: 5.51 ms\n",
      "Wall time: 4.56 ms\n"
     ]
    }
   ],
   "source": [
    "%%time\n",
    "if HAS_USER and HAS_SESSION_ID:\n",
    "    sessions_days_interval_distr_df = sessions_start_ts_shifted_df['days_since_last_session'].describe(percentiles=PERCENTILES)\n",
    "else:\n",
    "    sessions_days_interval_distr_df = None\n",
    "set_distr_percentiles(sessions_days_interval_distr_df, dataset_info, prefix='sessions_interval_days')\n",
    "display(sessions_days_interval_distr_df)"
   ]
  },
  {
   "cell_type": "markdown",
   "metadata": {},
   "source": [
    "# Exporting"
   ]
  },
  {
   "cell_type": "markdown",
   "metadata": {},
   "source": [
    "## Exporting dataset info profile"
   ]
  },
  {
   "cell_type": "code",
   "execution_count": 115,
   "metadata": {},
   "outputs": [
    {
     "data": {
      "text/plain": [
       "OrderedDict([('name', 'coveo'),\n",
       "             ('domain', 'ecommerce'),\n",
       "             ('description',\n",
       "              'Data released for the Coveo Data Challenge (browsing_train.csv)'),\n",
       "             ('source',\n",
       "              'https://github.com/coveooss/SIGIR-ecom-data-challenge'),\n",
       "             ('event_types', 'clicks and Cart-abandonment.'),\n",
       "             ('has_timestamp', True),\n",
       "             ('has_session_id', True),\n",
       "             ('columns',\n",
       "              'session_id_hash,event_type,product_action,product_sku_hash,server_timestamp_epoch_ms,hashed_url'),\n",
       "             ('first_date', '2019-01-15'),\n",
       "             ('last_date', '2019-04-15'),\n",
       "             ('num_days', 91),\n",
       "             ('num_interactions', 36079307),\n",
       "             ('num_items', 57483),\n",
       "             ('num_users', 0),\n",
       "             ('num_sessions', 4934699),\n",
       "             ('sparsity_user_item_matrix', None),\n",
       "             ('items_freq_gini_index', 0.88493482457111),\n",
       "             ('top-01%_item_cum_freq', 0.34667569563320566),\n",
       "             ('top-05%_item_cum_freq', 0.6719422340422778),\n",
       "             ('top-10%_item_cum_freq', 0.8168713346385328),\n",
       "             ('top-25%_item_cum_freq', 0.9564900378282895),\n",
       "             ('top-50%_item_cum_freq', 0.9953383039302367),\n",
       "             ('min_item_freq', 1),\n",
       "             ('p25_item_freq', 1),\n",
       "             ('p50_item_freq', 5),\n",
       "             ('p75_item_freq', 74),\n",
       "             ('p90_item_freq', 350),\n",
       "             ('p95_item_freq', 801),\n",
       "             ('p99_item_freq', 3019),\n",
       "             ('max_item_freq', 180031),\n",
       "             ('users_freq_gini_index', None),\n",
       "             ('top-01%_user_cum_freq', None),\n",
       "             ('top-05%_user_cum_freq', None),\n",
       "             ('top-10%_user_cum_freq', None),\n",
       "             ('top-25%_user_cum_freq', None),\n",
       "             ('top-50%_user_cum_freq', None),\n",
       "             ('min_user_freq', None),\n",
       "             ('p25_user_freq', None),\n",
       "             ('p50_user_freq', None),\n",
       "             ('p75_user_freq', None),\n",
       "             ('p90_user_freq', None),\n",
       "             ('p95_user_freq', None),\n",
       "             ('p99_user_freq', None),\n",
       "             ('max_user_freq', None),\n",
       "             ('min_user_perc_repeated_interactions', None),\n",
       "             ('p25_user_perc_repeated_interactions', None),\n",
       "             ('p50_user_perc_repeated_interactions', None),\n",
       "             ('p75_user_perc_repeated_interactions', None),\n",
       "             ('p90_user_perc_repeated_interactions', None),\n",
       "             ('p95_user_perc_repeated_interactions', None),\n",
       "             ('p99_user_perc_repeated_interactions', None),\n",
       "             ('max_user_perc_repeated_interactions', None),\n",
       "             ('min_item_interactions_by_age_days', 0),\n",
       "             ('p25_item_interactions_by_age_days', 14),\n",
       "             ('p50_item_interactions_by_age_days', 35),\n",
       "             ('p75_item_interactions_by_age_days', 56),\n",
       "             ('p90_item_interactions_by_age_days', 79),\n",
       "             ('p95_item_interactions_by_age_days', 85),\n",
       "             ('p99_item_interactions_by_age_days', 88),\n",
       "             ('max_item_interactions_by_age_days', 89),\n",
       "             ('new_items_by_day_p50', 356.0),\n",
       "             ('new_items_by_week_p50', 2569.0),\n",
       "             ('new_items_by_month_p50', 9070.0),\n",
       "             ('perc_interact_items_created_same_day', 0.0054483721421596425),\n",
       "             ('perc_interact_items_created_same_week', 0.012125196480810962),\n",
       "             ('perc_interact_items_created_same_month', 0.2216688682845142),\n",
       "             ('min_user_interactions_by_age_days', None),\n",
       "             ('p25_user_interactions_by_age_days', None),\n",
       "             ('p50_user_interactions_by_age_days', None),\n",
       "             ('p75_user_interactions_by_age_days', None),\n",
       "             ('p90_user_interactions_by_age_days', None),\n",
       "             ('p95_user_interactions_by_age_days', None),\n",
       "             ('p99_user_interactions_by_age_days', None),\n",
       "             ('max_user_interactions_by_age_days', None),\n",
       "             ('new_users_by_day_p50', None),\n",
       "             ('new_users_by_week_p50', None),\n",
       "             ('new_users_by_month_p50', None),\n",
       "             ('perc_interact_users_created_same_day', None),\n",
       "             ('perc_interact_users_created_same_week', None),\n",
       "             ('perc_interact_users_created_same_month', None),\n",
       "             ('min_session_length', 1),\n",
       "             ('p25_session_length', 2),\n",
       "             ('p50_session_length', 3),\n",
       "             ('p75_session_length', 8),\n",
       "             ('p90_session_length', 17),\n",
       "             ('p95_session_length', 27),\n",
       "             ('p99_session_length', 60),\n",
       "             ('max_session_length', 206),\n",
       "             ('min_session_duration_min', 0),\n",
       "             ('p25_session_duration_min', 0),\n",
       "             ('p50_session_duration_min', 0),\n",
       "             ('p75_session_duration_min', 2),\n",
       "             ('p90_session_duration_min', 10),\n",
       "             ('p95_session_duration_min', 18),\n",
       "             ('p99_session_duration_min', 39),\n",
       "             ('max_session_duration_min', 588),\n",
       "             ('min_sessions_by_user', None),\n",
       "             ('p25_sessions_by_user', None),\n",
       "             ('p50_sessions_by_user', None),\n",
       "             ('p75_sessions_by_user', None),\n",
       "             ('p90_sessions_by_user', None),\n",
       "             ('p95_sessions_by_user', None),\n",
       "             ('p99_sessions_by_user', None),\n",
       "             ('max_sessions_by_user', None),\n",
       "             ('min_sessions_interval_hours', None),\n",
       "             ('p25_sessions_interval_hours', None),\n",
       "             ('p50_sessions_interval_hours', None),\n",
       "             ('p75_sessions_interval_hours', None),\n",
       "             ('p90_sessions_interval_hours', None),\n",
       "             ('p95_sessions_interval_hours', None),\n",
       "             ('p99_sessions_interval_hours', None),\n",
       "             ('max_sessions_interval_hours', None),\n",
       "             ('min_sessions_interval_days', None),\n",
       "             ('p25_sessions_interval_days', None),\n",
       "             ('p50_sessions_interval_days', None),\n",
       "             ('p75_sessions_interval_days', None),\n",
       "             ('p90_sessions_interval_days', None),\n",
       "             ('p95_sessions_interval_days', None),\n",
       "             ('p99_sessions_interval_days', None),\n",
       "             ('max_sessions_interval_days', None)])"
      ]
     },
     "execution_count": 115,
     "metadata": {},
     "output_type": "execute_result"
    }
   ],
   "source": [
    "dataset_info"
   ]
  },
  {
   "cell_type": "code",
   "execution_count": 116,
   "metadata": {},
   "outputs": [
    {
     "data": {
      "text/html": [
       "<div>\n",
       "<style scoped>\n",
       "    .dataframe tbody tr th:only-of-type {\n",
       "        vertical-align: middle;\n",
       "    }\n",
       "\n",
       "    .dataframe tbody tr th {\n",
       "        vertical-align: top;\n",
       "    }\n",
       "\n",
       "    .dataframe thead th {\n",
       "        text-align: right;\n",
       "    }\n",
       "</style>\n",
       "<table border=\"1\" class=\"dataframe\">\n",
       "  <thead>\n",
       "    <tr style=\"text-align: right;\">\n",
       "      <th></th>\n",
       "      <th>name</th>\n",
       "      <th>domain</th>\n",
       "      <th>description</th>\n",
       "      <th>source</th>\n",
       "      <th>event_types</th>\n",
       "      <th>has_timestamp</th>\n",
       "      <th>has_session_id</th>\n",
       "      <th>columns</th>\n",
       "      <th>first_date</th>\n",
       "      <th>last_date</th>\n",
       "      <th>...</th>\n",
       "      <th>p99_sessions_interval_hours</th>\n",
       "      <th>max_sessions_interval_hours</th>\n",
       "      <th>min_sessions_interval_days</th>\n",
       "      <th>p25_sessions_interval_days</th>\n",
       "      <th>p50_sessions_interval_days</th>\n",
       "      <th>p75_sessions_interval_days</th>\n",
       "      <th>p90_sessions_interval_days</th>\n",
       "      <th>p95_sessions_interval_days</th>\n",
       "      <th>p99_sessions_interval_days</th>\n",
       "      <th>max_sessions_interval_days</th>\n",
       "    </tr>\n",
       "  </thead>\n",
       "  <tbody>\n",
       "    <tr>\n",
       "      <th>0</th>\n",
       "      <td>coveo</td>\n",
       "      <td>ecommerce</td>\n",
       "      <td>Data released for the Coveo Data Challenge (br...</td>\n",
       "      <td>https://github.com/coveooss/SIGIR-ecom-data-ch...</td>\n",
       "      <td>clicks and Cart-abandonment.</td>\n",
       "      <td>True</td>\n",
       "      <td>True</td>\n",
       "      <td>session_id_hash,event_type,product_action,prod...</td>\n",
       "      <td>2019-01-15</td>\n",
       "      <td>2019-04-15</td>\n",
       "      <td>...</td>\n",
       "      <td>None</td>\n",
       "      <td>None</td>\n",
       "      <td>None</td>\n",
       "      <td>None</td>\n",
       "      <td>None</td>\n",
       "      <td>None</td>\n",
       "      <td>None</td>\n",
       "      <td>None</td>\n",
       "      <td>None</td>\n",
       "      <td>None</td>\n",
       "    </tr>\n",
       "  </tbody>\n",
       "</table>\n",
       "<p>1 rows × 120 columns</p>\n",
       "</div>"
      ],
      "text/plain": [
       "    name     domain                                        description  \\\n",
       "0  coveo  ecommerce  Data released for the Coveo Data Challenge (br...   \n",
       "\n",
       "                                              source  \\\n",
       "0  https://github.com/coveooss/SIGIR-ecom-data-ch...   \n",
       "\n",
       "                    event_types has_timestamp has_session_id  \\\n",
       "0  clicks and Cart-abandonment.          True           True   \n",
       "\n",
       "                                             columns  first_date   last_date  \\\n",
       "0  session_id_hash,event_type,product_action,prod...  2019-01-15  2019-04-15   \n",
       "\n",
       "   ... p99_sessions_interval_hours max_sessions_interval_hours  \\\n",
       "0  ...                        None                        None   \n",
       "\n",
       "  min_sessions_interval_days p25_sessions_interval_days  \\\n",
       "0                       None                       None   \n",
       "\n",
       "  p50_sessions_interval_days p75_sessions_interval_days  \\\n",
       "0                       None                       None   \n",
       "\n",
       "  p90_sessions_interval_days p95_sessions_interval_days  \\\n",
       "0                       None                       None   \n",
       "\n",
       "  p99_sessions_interval_days max_sessions_interval_days  \n",
       "0                       None                       None  \n",
       "\n",
       "[1 rows x 120 columns]"
      ]
     },
     "execution_count": 116,
     "metadata": {},
     "output_type": "execute_result"
    }
   ],
   "source": [
    "dataset_info_df = pd.DataFrame.from_dict(dataset_info, orient='index').T\n",
    "dataset_info_df"
   ]
  },
  {
   "cell_type": "code",
   "execution_count": 117,
   "metadata": {},
   "outputs": [
    {
     "name": "stdout",
     "output_type": "stream",
     "text": [
      "Creating output path if it does not exists: dataset_profiles_output/\n"
     ]
    }
   ],
   "source": [
    "print(f'Creating output path if it does not exists: {OUTPUT_PATH}')\n",
    "os.makedirs(OUTPUT_PATH, exist_ok=True)"
   ]
  },
  {
   "cell_type": "code",
   "execution_count": 118,
   "metadata": {},
   "outputs": [
    {
     "name": "stdout",
     "output_type": "stream",
     "text": [
      "Saving the dataset info to: dataset_profiles_output/coveo_dataset_profile.csv\n"
     ]
    }
   ],
   "source": [
    "if SAVE_DATASET_INFO_CSV:\n",
    "    output_path = os.path.join(OUTPUT_PATH, f\"{dataset_info['name']}_dataset_profile.csv\")\n",
    "    print(f'Saving the dataset info to: {output_path}')\n",
    "    dataset_info_df.to_csv(output_path, index=False)"
   ]
  },
  {
   "cell_type": "markdown",
   "metadata": {},
   "source": [
    "## Exporting items and users freq. cumulative distributions"
   ]
  },
  {
   "cell_type": "code",
   "execution_count": 119,
   "metadata": {},
   "outputs": [
    {
     "data": {
      "text/html": [
       "<div>\n",
       "<style scoped>\n",
       "    .dataframe tbody tr th:only-of-type {\n",
       "        vertical-align: middle;\n",
       "    }\n",
       "\n",
       "    .dataframe tbody tr th {\n",
       "        vertical-align: top;\n",
       "    }\n",
       "\n",
       "    .dataframe thead th {\n",
       "        text-align: right;\n",
       "    }\n",
       "</style>\n",
       "<table border=\"1\" class=\"dataframe\">\n",
       "  <thead>\n",
       "    <tr style=\"text-align: right;\">\n",
       "      <th></th>\n",
       "      <th>cum_interactions_by_item_freq</th>\n",
       "      <th>cum_interactions_by_user_freq</th>\n",
       "    </tr>\n",
       "    <tr>\n",
       "      <th>cum_perc_items</th>\n",
       "      <th></th>\n",
       "      <th></th>\n",
       "    </tr>\n",
       "  </thead>\n",
       "  <tbody>\n",
       "    <tr>\n",
       "      <th>0.00</th>\n",
       "      <td>0.000000</td>\n",
       "      <td>0.0</td>\n",
       "    </tr>\n",
       "    <tr>\n",
       "      <th>0.01</th>\n",
       "      <td>0.346676</td>\n",
       "      <td>0.0</td>\n",
       "    </tr>\n",
       "    <tr>\n",
       "      <th>0.02</th>\n",
       "      <td>0.475619</td>\n",
       "      <td>0.0</td>\n",
       "    </tr>\n",
       "    <tr>\n",
       "      <th>0.03</th>\n",
       "      <td>0.560342</td>\n",
       "      <td>0.0</td>\n",
       "    </tr>\n",
       "    <tr>\n",
       "      <th>0.04</th>\n",
       "      <td>0.622834</td>\n",
       "      <td>0.0</td>\n",
       "    </tr>\n",
       "    <tr>\n",
       "      <th>...</th>\n",
       "      <td>...</td>\n",
       "      <td>...</td>\n",
       "    </tr>\n",
       "    <tr>\n",
       "      <th>0.96</th>\n",
       "      <td>0.999780</td>\n",
       "      <td>0.0</td>\n",
       "    </tr>\n",
       "    <tr>\n",
       "      <th>0.97</th>\n",
       "      <td>0.999835</td>\n",
       "      <td>0.0</td>\n",
       "    </tr>\n",
       "    <tr>\n",
       "      <th>0.98</th>\n",
       "      <td>0.999890</td>\n",
       "      <td>0.0</td>\n",
       "    </tr>\n",
       "    <tr>\n",
       "      <th>0.99</th>\n",
       "      <td>0.999945</td>\n",
       "      <td>0.0</td>\n",
       "    </tr>\n",
       "    <tr>\n",
       "      <th>1.00</th>\n",
       "      <td>1.000000</td>\n",
       "      <td>0.0</td>\n",
       "    </tr>\n",
       "  </tbody>\n",
       "</table>\n",
       "<p>101 rows × 2 columns</p>\n",
       "</div>"
      ],
      "text/plain": [
       "                cum_interactions_by_item_freq  cum_interactions_by_user_freq\n",
       "cum_perc_items                                                              \n",
       "0.00                                 0.000000                            0.0\n",
       "0.01                                 0.346676                            0.0\n",
       "0.02                                 0.475619                            0.0\n",
       "0.03                                 0.560342                            0.0\n",
       "0.04                                 0.622834                            0.0\n",
       "...                                       ...                            ...\n",
       "0.96                                 0.999780                            0.0\n",
       "0.97                                 0.999835                            0.0\n",
       "0.98                                 0.999890                            0.0\n",
       "0.99                                 0.999945                            0.0\n",
       "1.00                                 1.000000                            0.0\n",
       "\n",
       "[101 rows x 2 columns]"
      ]
     },
     "execution_count": 119,
     "metadata": {},
     "output_type": "execute_result"
    }
   ],
   "source": [
    "if HAS_USER:\n",
    "    user_item_cum_freq_distr_df = items_freq_cum_perc_reindexed_pdf.merge(users_freq_cum_perc_reindexed_pdf, \n",
    "                                                                          left_index=True, right_index=True)\n",
    "else:\n",
    "    user_item_cum_freq_distr_df = items_freq_cum_perc_reindexed_pdf\n",
    "    user_item_cum_freq_distr_df['cum_interactions_by_user_freq'] = 0.0\n",
    "user_item_cum_freq_distr_df"
   ]
  },
  {
   "cell_type": "code",
   "execution_count": 120,
   "metadata": {},
   "outputs": [
    {
     "name": "stdout",
     "output_type": "stream",
     "text": [
      "Saving the users and items cumulative freq. distribution to: dataset_profiles_output/coveo_dataset_user_item_cum_freq_distr.csv\n"
     ]
    }
   ],
   "source": [
    "if SAVE_USERS_ITEMS_CUM_FREQ_DISTR:\n",
    "    output_path = os.path.join(OUTPUT_PATH, f\"{dataset_info['name']}_dataset_user_item_cum_freq_distr.csv\")\n",
    "    print(f'Saving the users and items cumulative freq. distribution to: {output_path}')\n",
    "    user_item_cum_freq_distr_df.to_csv(output_path)"
   ]
  },
  {
   "cell_type": "code",
   "execution_count": null,
   "metadata": {},
   "outputs": [],
   "source": []
  }
 ],
 "metadata": {
  "interpreter": {
   "hash": "478924a9ebd355e77538a2d3c670ed51de5c1d98296475fb424a03f83f0421da"
  },
  "kernelspec": {
   "display_name": "Python 3",
   "language": "python",
   "name": "python3"
  },
  "language_info": {
   "codemirror_mode": {
    "name": "ipython",
    "version": 3
   },
   "file_extension": ".py",
   "mimetype": "text/x-python",
   "name": "python",
   "nbconvert_exporter": "python",
   "pygments_lexer": "ipython3",
   "version": "3.7.9"
  }
 },
 "nbformat": 4,
 "nbformat_minor": 4
}
