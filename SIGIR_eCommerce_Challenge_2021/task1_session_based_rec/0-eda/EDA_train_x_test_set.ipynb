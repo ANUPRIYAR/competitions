{
 "cells": [
  {
   "cell_type": "code",
   "execution_count": null,
   "metadata": {},
   "outputs": [],
   "source": [
    "#\n",
    "# The MIT License (MIT)\n",
    "\n",
    "# Copyright (c) 2021, NVIDIA CORPORATION\n",
    "\n",
    "# Permission is hereby granted, free of charge, to any person obtaining a copy of\n",
    "# this software and associated documentation files (the \"Software\"), to deal in\n",
    "# the Software without restriction, including without limitation the rights to\n",
    "# use, copy, modify, merge, publish, distribute, sublicense, and/or sell copies of\n",
    "# the Software, and to permit persons to whom the Software is furnished to do so,\n",
    "# subject to the following conditions:\n",
    "\n",
    "# The above copyright notice and this permission notice shall be included in all\n",
    "# copies or substantial portions of the Software.\n",
    "\n",
    "# THE SOFTWARE IS PROVIDED \"AS IS\", WITHOUT WARRANTY OF ANY KIND, EXPRESS OR\n",
    "# IMPLIED, INCLUDING BUT NOT LIMITED TO THE WARRANTIES OF MERCHANTABILITY, FITNESS\n",
    "# FOR A PARTICULAR PURPOSE AND NONINFRINGEMENT. IN NO EVENT SHALL THE AUTHORS OR\n",
    "# COPYRIGHT HOLDERS BE LIABLE FOR ANY CLAIM, DAMAGES OR OTHER LIABILITY, WHETHER\n",
    "# IN AN ACTION OF CONTRACT, TORT OR OTHERWISE, ARISING FROM, OUT OF OR IN\n",
    "# CONNECTION WITH THE SOFTWARE OR THE USE OR OTHER DEALINGS IN THE SOFTWARE.\n",
    "#"
   ]
  },
  {
   "cell_type": "code",
   "execution_count": 1,
   "metadata": {},
   "outputs": [],
   "source": [
    "import pandas as pd\n",
    "import os\n",
    "import ast\n",
    "import numpy as np\n",
    "import json\n",
    "from pandas.io.json import json_normalize"
   ]
  },
  {
   "cell_type": "code",
   "execution_count": 2,
   "metadata": {},
   "outputs": [],
   "source": [
    "from matplotlib import pyplot as plt\n",
    "%matplotlib inline"
   ]
  },
  {
   "cell_type": "code",
   "execution_count": 3,
   "metadata": {},
   "outputs": [],
   "source": [
    "def convert_str_to_list(x): \n",
    "    if pd.isnull(x): \n",
    "        return x\n",
    "    return ast.literal_eval(x)"
   ]
  },
  {
   "cell_type": "markdown",
   "metadata": {},
   "source": [
    "## Loading data"
   ]
  },
  {
   "cell_type": "code",
   "execution_count": 4,
   "metadata": {},
   "outputs": [],
   "source": [
    "PATH = '/dataset/sigir_coveo_ecom_datachallenge/SIGIR-ecom-data-challenge'"
   ]
  },
  {
   "cell_type": "markdown",
   "metadata": {},
   "source": [
    "### Train set"
   ]
  },
  {
   "cell_type": "code",
   "execution_count": 7,
   "metadata": {
    "scrolled": true
   },
   "outputs": [
    {
     "data": {
      "text/plain": [
       "36079307"
      ]
     },
     "execution_count": 7,
     "metadata": {},
     "output_type": "execute_result"
    }
   ],
   "source": [
    "train_browsing_df = pd.read_csv(os.path.join(PATH, 'train/browsing_train.csv'))\n",
    "len(train_browsing_df)"
   ]
  },
  {
   "cell_type": "code",
   "execution_count": 8,
   "metadata": {},
   "outputs": [
    {
     "data": {
      "text/html": [
       "<div>\n",
       "<style scoped>\n",
       "    .dataframe tbody tr th:only-of-type {\n",
       "        vertical-align: middle;\n",
       "    }\n",
       "\n",
       "    .dataframe tbody tr th {\n",
       "        vertical-align: top;\n",
       "    }\n",
       "\n",
       "    .dataframe thead th {\n",
       "        text-align: right;\n",
       "    }\n",
       "</style>\n",
       "<table border=\"1\" class=\"dataframe\">\n",
       "  <thead>\n",
       "    <tr style=\"text-align: right;\">\n",
       "      <th></th>\n",
       "      <th>session_id_hash</th>\n",
       "      <th>event_type</th>\n",
       "      <th>product_action</th>\n",
       "      <th>product_sku_hash</th>\n",
       "      <th>server_timestamp_epoch_ms</th>\n",
       "      <th>hashed_url</th>\n",
       "    </tr>\n",
       "  </thead>\n",
       "  <tbody>\n",
       "    <tr>\n",
       "      <th>0</th>\n",
       "      <td>20c458b802f6ea9374783bfc528b19421be977a6769785...</td>\n",
       "      <td>event_product</td>\n",
       "      <td>detail</td>\n",
       "      <td>d5157f8bc52965390fa21ad5842a8502bc3eb8b0930f3f...</td>\n",
       "      <td>1550885210881</td>\n",
       "      <td>7e4527ac6a32deed4f4f06bb7c49b907b7ca371e59d57d...</td>\n",
       "    </tr>\n",
       "    <tr>\n",
       "      <th>1</th>\n",
       "      <td>20c458b802f6ea9374783bfc528b19421be977a6769785...</td>\n",
       "      <td>event_product</td>\n",
       "      <td>detail</td>\n",
       "      <td>61ef3869355b78e11011f39fc7ac8f8dfb209b3442a9d5...</td>\n",
       "      <td>1550885213307</td>\n",
       "      <td>4ed279f4f0deab6dfc80f4f7bf49d527fd894fa478a9ce...</td>\n",
       "    </tr>\n",
       "    <tr>\n",
       "      <th>2</th>\n",
       "      <td>20c458b802f6ea9374783bfc528b19421be977a6769785...</td>\n",
       "      <td>pageview</td>\n",
       "      <td>NaN</td>\n",
       "      <td>NaN</td>\n",
       "      <td>1550885213307</td>\n",
       "      <td>4ed279f4f0deab6dfc80f4f7bf49d527fd894fa478a9ce...</td>\n",
       "    </tr>\n",
       "    <tr>\n",
       "      <th>3</th>\n",
       "      <td>20c458b802f6ea9374783bfc528b19421be977a6769785...</td>\n",
       "      <td>event_product</td>\n",
       "      <td>detail</td>\n",
       "      <td>d5157f8bc52965390fa21ad5842a8502bc3eb8b0930f3f...</td>\n",
       "      <td>1550885215484</td>\n",
       "      <td>7e4527ac6a32deed4f4f06bb7c49b907b7ca371e59d57d...</td>\n",
       "    </tr>\n",
       "    <tr>\n",
       "      <th>4</th>\n",
       "      <td>20c458b802f6ea9374783bfc528b19421be977a6769785...</td>\n",
       "      <td>pageview</td>\n",
       "      <td>NaN</td>\n",
       "      <td>NaN</td>\n",
       "      <td>1550885215484</td>\n",
       "      <td>7e4527ac6a32deed4f4f06bb7c49b907b7ca371e59d57d...</td>\n",
       "    </tr>\n",
       "    <tr>\n",
       "      <th>...</th>\n",
       "      <td>...</td>\n",
       "      <td>...</td>\n",
       "      <td>...</td>\n",
       "      <td>...</td>\n",
       "      <td>...</td>\n",
       "      <td>...</td>\n",
       "    </tr>\n",
       "    <tr>\n",
       "      <th>36079302</th>\n",
       "      <td>0676f342dc490b0f8bd9c22d16e4c67f8f7af1f85679f1...</td>\n",
       "      <td>pageview</td>\n",
       "      <td>NaN</td>\n",
       "      <td>NaN</td>\n",
       "      <td>1552162324909</td>\n",
       "      <td>38f5bd3c9a1cc5b39e6b965f1aa6c565737f58e19a560a...</td>\n",
       "    </tr>\n",
       "    <tr>\n",
       "      <th>36079303</th>\n",
       "      <td>0676f342dc490b0f8bd9c22d16e4c67f8f7af1f85679f1...</td>\n",
       "      <td>pageview</td>\n",
       "      <td>NaN</td>\n",
       "      <td>NaN</td>\n",
       "      <td>1552162336608</td>\n",
       "      <td>38f5bd3c9a1cc5b39e6b965f1aa6c565737f58e19a560a...</td>\n",
       "    </tr>\n",
       "    <tr>\n",
       "      <th>36079304</th>\n",
       "      <td>0676f342dc490b0f8bd9c22d16e4c67f8f7af1f85679f1...</td>\n",
       "      <td>pageview</td>\n",
       "      <td>NaN</td>\n",
       "      <td>NaN</td>\n",
       "      <td>1552162343684</td>\n",
       "      <td>38f5bd3c9a1cc5b39e6b965f1aa6c565737f58e19a560a...</td>\n",
       "    </tr>\n",
       "    <tr>\n",
       "      <th>36079305</th>\n",
       "      <td>0676f342dc490b0f8bd9c22d16e4c67f8f7af1f85679f1...</td>\n",
       "      <td>pageview</td>\n",
       "      <td>NaN</td>\n",
       "      <td>NaN</td>\n",
       "      <td>1552162356368</td>\n",
       "      <td>433b0e71df1fe9a8d1f45647545701f6108414c40eef76...</td>\n",
       "    </tr>\n",
       "    <tr>\n",
       "      <th>36079306</th>\n",
       "      <td>0676f342dc490b0f8bd9c22d16e4c67f8f7af1f85679f1...</td>\n",
       "      <td>pageview</td>\n",
       "      <td>NaN</td>\n",
       "      <td>NaN</td>\n",
       "      <td>1552162390080</td>\n",
       "      <td>fb12a2500433a3ef2f92eae62941ce6b2db8616ce6c992...</td>\n",
       "    </tr>\n",
       "  </tbody>\n",
       "</table>\n",
       "<p>36079307 rows × 6 columns</p>\n",
       "</div>"
      ],
      "text/plain": [
       "                                            session_id_hash     event_type  \\\n",
       "0         20c458b802f6ea9374783bfc528b19421be977a6769785...  event_product   \n",
       "1         20c458b802f6ea9374783bfc528b19421be977a6769785...  event_product   \n",
       "2         20c458b802f6ea9374783bfc528b19421be977a6769785...       pageview   \n",
       "3         20c458b802f6ea9374783bfc528b19421be977a6769785...  event_product   \n",
       "4         20c458b802f6ea9374783bfc528b19421be977a6769785...       pageview   \n",
       "...                                                     ...            ...   \n",
       "36079302  0676f342dc490b0f8bd9c22d16e4c67f8f7af1f85679f1...       pageview   \n",
       "36079303  0676f342dc490b0f8bd9c22d16e4c67f8f7af1f85679f1...       pageview   \n",
       "36079304  0676f342dc490b0f8bd9c22d16e4c67f8f7af1f85679f1...       pageview   \n",
       "36079305  0676f342dc490b0f8bd9c22d16e4c67f8f7af1f85679f1...       pageview   \n",
       "36079306  0676f342dc490b0f8bd9c22d16e4c67f8f7af1f85679f1...       pageview   \n",
       "\n",
       "         product_action                                   product_sku_hash  \\\n",
       "0                detail  d5157f8bc52965390fa21ad5842a8502bc3eb8b0930f3f...   \n",
       "1                detail  61ef3869355b78e11011f39fc7ac8f8dfb209b3442a9d5...   \n",
       "2                   NaN                                                NaN   \n",
       "3                detail  d5157f8bc52965390fa21ad5842a8502bc3eb8b0930f3f...   \n",
       "4                   NaN                                                NaN   \n",
       "...                 ...                                                ...   \n",
       "36079302            NaN                                                NaN   \n",
       "36079303            NaN                                                NaN   \n",
       "36079304            NaN                                                NaN   \n",
       "36079305            NaN                                                NaN   \n",
       "36079306            NaN                                                NaN   \n",
       "\n",
       "          server_timestamp_epoch_ms  \\\n",
       "0                     1550885210881   \n",
       "1                     1550885213307   \n",
       "2                     1550885213307   \n",
       "3                     1550885215484   \n",
       "4                     1550885215484   \n",
       "...                             ...   \n",
       "36079302              1552162324909   \n",
       "36079303              1552162336608   \n",
       "36079304              1552162343684   \n",
       "36079305              1552162356368   \n",
       "36079306              1552162390080   \n",
       "\n",
       "                                                 hashed_url  \n",
       "0         7e4527ac6a32deed4f4f06bb7c49b907b7ca371e59d57d...  \n",
       "1         4ed279f4f0deab6dfc80f4f7bf49d527fd894fa478a9ce...  \n",
       "2         4ed279f4f0deab6dfc80f4f7bf49d527fd894fa478a9ce...  \n",
       "3         7e4527ac6a32deed4f4f06bb7c49b907b7ca371e59d57d...  \n",
       "4         7e4527ac6a32deed4f4f06bb7c49b907b7ca371e59d57d...  \n",
       "...                                                     ...  \n",
       "36079302  38f5bd3c9a1cc5b39e6b965f1aa6c565737f58e19a560a...  \n",
       "36079303  38f5bd3c9a1cc5b39e6b965f1aa6c565737f58e19a560a...  \n",
       "36079304  38f5bd3c9a1cc5b39e6b965f1aa6c565737f58e19a560a...  \n",
       "36079305  433b0e71df1fe9a8d1f45647545701f6108414c40eef76...  \n",
       "36079306  fb12a2500433a3ef2f92eae62941ce6b2db8616ce6c992...  \n",
       "\n",
       "[36079307 rows x 6 columns]"
      ]
     },
     "execution_count": 8,
     "metadata": {},
     "output_type": "execute_result"
    }
   ],
   "source": [
    "train_browsing_df"
   ]
  },
  {
   "cell_type": "code",
   "execution_count": 204,
   "metadata": {},
   "outputs": [
    {
     "data": {
      "text/plain": [
       "min    1547528564513\n",
       "max    1555300798560\n",
       "Name: server_timestamp_epoch_ms, dtype: int64"
      ]
     },
     "execution_count": 204,
     "metadata": {},
     "output_type": "execute_result"
    }
   ],
   "source": [
    "train_browsing_df['server_timestamp_epoch_ms'].agg(['min', 'max'])"
   ]
  },
  {
   "cell_type": "code",
   "execution_count": 12,
   "metadata": {},
   "outputs": [
    {
     "data": {
      "text/plain": [
       "819516"
      ]
     },
     "execution_count": 12,
     "metadata": {},
     "output_type": "execute_result"
    }
   ],
   "source": [
    "train_search_df = pd.read_csv(os.path.join(PATH, 'train/search_train.csv'))\n",
    "len(train_search_df)"
   ]
  },
  {
   "cell_type": "code",
   "execution_count": 13,
   "metadata": {},
   "outputs": [
    {
     "data": {
      "text/plain": [
       "73311"
      ]
     },
     "execution_count": 13,
     "metadata": {},
     "output_type": "execute_result"
    }
   ],
   "source": [
    "train_search_items_clicked = train_search_df[~train_search_df['clicked_skus_hash'].isna()]['clicked_skus_hash'].explode().unique()\n",
    "len(train_search_items_clicked)"
   ]
  },
  {
   "cell_type": "code",
   "execution_count": 27,
   "metadata": {},
   "outputs": [
    {
     "data": {
      "text/plain": [
       "66386"
      ]
     },
     "execution_count": 27,
     "metadata": {},
     "output_type": "execute_result"
    }
   ],
   "source": [
    "train_sku_to_content_df = pd.read_csv(os.path.join(PATH, 'train/sku_to_content.csv'))\n",
    "len(train_sku_to_content_df)"
   ]
  },
  {
   "cell_type": "markdown",
   "metadata": {},
   "source": [
    "### Test set"
   ]
  },
  {
   "cell_type": "code",
   "execution_count": 26,
   "metadata": {},
   "outputs": [
    {
     "name": "stdout",
     "output_type": "stream",
     "text": [
      "576435\n"
     ]
    }
   ],
   "source": [
    "with open(os.path.join(PATH, 'test/rec_test_phase_1.json')) as json_file:\n",
    "    test_queries = json.load(json_file)\n",
    "    testset_recommendation_df = pd.json_normalize(test_queries, 'query')\n",
    "    print(len(testset_recommendation_df))"
   ]
  },
  {
   "cell_type": "code",
   "execution_count": 64,
   "metadata": {},
   "outputs": [
    {
     "name": "stdout",
     "output_type": "stream",
     "text": [
      "199810\n"
     ]
    }
   ],
   "source": [
    "with open(os.path.join(PATH, 'test/intention_test_phase_1.json')) as json_file:\n",
    "    test_queries = json.load(json_file)\n",
    "    testset_purchase_intention_df = pd.json_normalize(test_queries, 'query')\n",
    "    print(len(testset_purchase_intention_df))"
   ]
  },
  {
   "cell_type": "code",
   "execution_count": 203,
   "metadata": {},
   "outputs": [
    {
     "data": {
      "text/plain": [
       "min    1555300858070\n",
       "max    1557805601238\n",
       "Name: server_timestamp_epoch_ms, dtype: int64"
      ]
     },
     "execution_count": 203,
     "metadata": {},
     "output_type": "execute_result"
    }
   ],
   "source": [
    "testset_purchase_intention_df['server_timestamp_epoch_ms'].agg(['min', 'max'])"
   ]
  },
  {
   "cell_type": "code",
   "execution_count": 5,
   "metadata": {},
   "outputs": [
    {
     "name": "stdout",
     "output_type": "stream",
     "text": [
      "1342651\n"
     ]
    }
   ],
   "source": [
    "with open(os.path.join(PATH, 'test/rec_test_phase_2.json')) as json_file:\n",
    "    test_queries2 = json.load(json_file)\n",
    "    testset_recommendation_df2 = pd.json_normalize(test_queries2, 'query')\n",
    "    print(len(testset_recommendation_df2))"
   ]
  },
  {
   "cell_type": "markdown",
   "metadata": {},
   "source": [
    "## Analyzing train data"
   ]
  },
  {
   "cell_type": "markdown",
   "metadata": {},
   "source": [
    "#### Items"
   ]
  },
  {
   "cell_type": "code",
   "execution_count": 9,
   "metadata": {},
   "outputs": [
    {
     "data": {
      "text/plain": [
       "57484"
      ]
     },
     "execution_count": 9,
     "metadata": {},
     "output_type": "execute_result"
    }
   ],
   "source": [
    "train_browsing_items = train_browsing_df['product_sku_hash'].unique()\n",
    "len(train_browsing_items)"
   ]
  },
  {
   "cell_type": "code",
   "execution_count": 94,
   "metadata": {},
   "outputs": [],
   "source": [
    "for col in ['product_skus_hash', 'clicked_skus_hash']: \n",
    "    train_search_df[col] = train_search_df[col].apply(convert_str_to_list)"
   ]
  },
  {
   "cell_type": "code",
   "execution_count": 14,
   "metadata": {},
   "outputs": [
    {
     "data": {
      "text/plain": [
       "189796"
      ]
     },
     "execution_count": 14,
     "metadata": {},
     "output_type": "execute_result"
    }
   ],
   "source": [
    "train_search_items = train_search_df[~train_search_df['product_skus_hash'].isna()]['product_skus_hash'].explode().unique()\n",
    "len(train_search_items)"
   ]
  },
  {
   "cell_type": "code",
   "execution_count": 100,
   "metadata": {},
   "outputs": [
    {
     "data": {
      "text/plain": [
       "66386"
      ]
     },
     "execution_count": 100,
     "metadata": {},
     "output_type": "execute_result"
    }
   ],
   "source": [
    "content_items = train_sku_to_content_df['product_sku_hash'].unique()\n",
    "len(content_items)"
   ]
  },
  {
   "cell_type": "code",
   "execution_count": 106,
   "metadata": {},
   "outputs": [
    {
     "data": {
      "text/plain": [
       "28182"
      ]
     },
     "execution_count": 106,
     "metadata": {},
     "output_type": "execute_result"
    }
   ],
   "source": [
    "len(set(train_browsing_items).difference(set(train_search_items)))"
   ]
  },
  {
   "cell_type": "code",
   "execution_count": 107,
   "metadata": {},
   "outputs": [
    {
     "data": {
      "text/plain": [
       "1097"
      ]
     },
     "execution_count": 107,
     "metadata": {},
     "output_type": "execute_result"
    }
   ],
   "source": [
    "len(set(train_search_items).difference(set(train_browsing_items)))"
   ]
  },
  {
   "cell_type": "code",
   "execution_count": 108,
   "metadata": {},
   "outputs": [
    {
     "data": {
      "text/plain": [
       "100"
      ]
     },
     "execution_count": 108,
     "metadata": {},
     "output_type": "execute_result"
    }
   ],
   "source": [
    "len(set(train_search_items_clicked).difference(set(train_browsing_items)))"
   ]
  },
  {
   "cell_type": "code",
   "execution_count": 110,
   "metadata": {},
   "outputs": [
    {
     "data": {
      "text/plain": [
       "{nan}"
      ]
     },
     "execution_count": 110,
     "metadata": {},
     "output_type": "execute_result"
    }
   ],
   "source": [
    "set(train_browsing_items).difference(set(content_items))"
   ]
  },
  {
   "cell_type": "code",
   "execution_count": 111,
   "metadata": {},
   "outputs": [
    {
     "data": {
      "text/plain": [
       "set()"
      ]
     },
     "execution_count": 111,
     "metadata": {},
     "output_type": "execute_result"
    }
   ],
   "source": [
    "set(train_search_items).difference(set(content_items))"
   ]
  },
  {
   "cell_type": "markdown",
   "metadata": {},
   "source": [
    "#### Sessions"
   ]
  },
  {
   "cell_type": "code",
   "execution_count": 115,
   "metadata": {},
   "outputs": [
    {
     "data": {
      "text/plain": [
       "4934699"
      ]
     },
     "execution_count": 115,
     "metadata": {},
     "output_type": "execute_result"
    }
   ],
   "source": [
    "train_browsing_df['session_id_hash'].nunique()"
   ]
  },
  {
   "cell_type": "code",
   "execution_count": 117,
   "metadata": {},
   "outputs": [
    {
     "data": {
      "text/plain": [
       "4460582"
      ]
     },
     "execution_count": 117,
     "metadata": {},
     "output_type": "execute_result"
    }
   ],
   "source": [
    "len(set(train_browsing_df['session_id_hash'].unique()).difference(set(train_search_df['session_id_hash'].unique())))"
   ]
  },
  {
   "cell_type": "code",
   "execution_count": 118,
   "metadata": {},
   "outputs": [
    {
     "data": {
      "text/plain": [
       "75983"
      ]
     },
     "execution_count": 118,
     "metadata": {},
     "output_type": "execute_result"
    }
   ],
   "source": [
    "len(set(train_search_df['session_id_hash'].unique()).difference(set(train_browsing_df['session_id_hash'].unique())))"
   ]
  },
  {
   "cell_type": "markdown",
   "metadata": {},
   "source": [
    "## Comparing train and test data"
   ]
  },
  {
   "cell_type": "markdown",
   "metadata": {},
   "source": [
    "### Test Items - Phase 1"
   ]
  },
  {
   "cell_type": "code",
   "execution_count": 123,
   "metadata": {},
   "outputs": [
    {
     "data": {
      "text/plain": [
       "19971"
      ]
     },
     "execution_count": 123,
     "metadata": {},
     "output_type": "execute_result"
    }
   ],
   "source": [
    "testset_recommendation_items = testset_recommendation_df['product_skus_hash'].explode().unique()\n",
    "len(testset_recommendation_items)"
   ]
  },
  {
   "cell_type": "code",
   "execution_count": 125,
   "metadata": {},
   "outputs": [
    {
     "data": {
      "text/plain": [
       "1213"
      ]
     },
     "execution_count": 125,
     "metadata": {},
     "output_type": "execute_result"
    }
   ],
   "source": [
    "len(set(testset_recommendation_items).difference(set(train_browsing_items)))"
   ]
  },
  {
   "cell_type": "code",
   "execution_count": 126,
   "metadata": {},
   "outputs": [
    {
     "data": {
      "text/plain": [
       "728"
      ]
     },
     "execution_count": 126,
     "metadata": {},
     "output_type": "execute_result"
    }
   ],
   "source": [
    "len(set(testset_recommendation_items).difference(set(train_search_items)))"
   ]
  },
  {
   "cell_type": "code",
   "execution_count": 127,
   "metadata": {},
   "outputs": [
    {
     "data": {
      "text/plain": [
       "669"
      ]
     },
     "execution_count": 127,
     "metadata": {},
     "output_type": "execute_result"
    }
   ],
   "source": [
    "len(set(testset_recommendation_items).difference(set(train_browsing_items).union(set(train_search_items))))"
   ]
  },
  {
   "cell_type": "markdown",
   "metadata": {},
   "source": [
    "### Test Items - Phase 2"
   ]
  },
  {
   "cell_type": "code",
   "execution_count": 6,
   "metadata": {},
   "outputs": [
    {
     "data": {
      "text/plain": [
       "23225"
      ]
     },
     "execution_count": 6,
     "metadata": {},
     "output_type": "execute_result"
    }
   ],
   "source": [
    "testset_recommendation_items = testset_recommendation_df2['product_skus_hash'].explode().unique()\n",
    "len(testset_recommendation_items)"
   ]
  },
  {
   "cell_type": "code",
   "execution_count": 15,
   "metadata": {},
   "outputs": [
    {
     "data": {
      "text/plain": [
       "1568"
      ]
     },
     "execution_count": 15,
     "metadata": {},
     "output_type": "execute_result"
    }
   ],
   "source": [
    "len(set(testset_recommendation_items).difference(set(train_browsing_items)))"
   ]
  },
  {
   "cell_type": "code",
   "execution_count": 16,
   "metadata": {},
   "outputs": [
    {
     "data": {
      "text/plain": [
       "23225"
      ]
     },
     "execution_count": 16,
     "metadata": {},
     "output_type": "execute_result"
    }
   ],
   "source": [
    "len(set(testset_recommendation_items).difference(set(train_search_items)))"
   ]
  },
  {
   "cell_type": "code",
   "execution_count": 17,
   "metadata": {},
   "outputs": [
    {
     "data": {
      "text/plain": [
       "1568"
      ]
     },
     "execution_count": 17,
     "metadata": {},
     "output_type": "execute_result"
    }
   ],
   "source": [
    "len(set(testset_recommendation_items).difference(set(train_browsing_items).union(set(train_search_items))))"
   ]
  },
  {
   "cell_type": "markdown",
   "metadata": {},
   "source": [
    "### Session length"
   ]
  },
  {
   "cell_type": "code",
   "execution_count": 21,
   "metadata": {},
   "outputs": [],
   "source": [
    "train_browsing_sessions_length = train_browsing_df.groupby('session_id_hash').size()"
   ]
  },
  {
   "cell_type": "code",
   "execution_count": 74,
   "metadata": {},
   "outputs": [
    {
     "data": {
      "text/plain": [
       "count    4.007014e+06\n",
       "mean     8.772523e+00\n",
       "std      1.321768e+01\n",
       "min      2.000000e+00\n",
       "0%       2.000000e+00\n",
       "             ...     \n",
       "97%      4.000000e+01\n",
       "98%      4.800000e+01\n",
       "99%      6.500000e+01\n",
       "100%     2.060000e+02\n",
       "max      2.060000e+02\n",
       "Length: 106, dtype: float64"
      ]
     },
     "execution_count": 74,
     "metadata": {},
     "output_type": "execute_result"
    }
   ],
   "source": [
    "train_browsing_sessions_lengths_dist = train_browsing_sessions_length[train_browsing_sessions_length >= 2] \\\n",
    "                    .describe(percentiles=np.arange(0,1.01, 0.01))\n",
    "train_browsing_sessions_lengths_dist"
   ]
  },
  {
   "cell_type": "markdown",
   "metadata": {},
   "source": [
    "#### Test Set - Phase 1"
   ]
  },
  {
   "cell_type": "code",
   "execution_count": 75,
   "metadata": {},
   "outputs": [],
   "source": [
    "testset_recommendation_sessions_lengths = testset_recommendation_df.groupby('session_id_hash').size()"
   ]
  },
  {
   "cell_type": "code",
   "execution_count": 76,
   "metadata": {},
   "outputs": [
    {
     "data": {
      "text/plain": [
       "count    142327.000000\n",
       "mean          4.050075\n",
       "std           6.371418\n",
       "min           1.000000\n",
       "0%            1.000000\n",
       "             ...      \n",
       "97%          19.000000\n",
       "98%          23.000000\n",
       "99%          31.000000\n",
       "100%        133.000000\n",
       "max         133.000000\n",
       "Length: 106, dtype: float64"
      ]
     },
     "execution_count": 76,
     "metadata": {},
     "output_type": "execute_result"
    }
   ],
   "source": [
    "testset_recommendation_sessions_lengths_dist = \\\n",
    "            testset_recommendation_sessions_lengths.describe(percentiles=np.arange(0, 1.01, 0.01))\n",
    "testset_recommendation_sessions_lengths_dist"
   ]
  },
  {
   "cell_type": "markdown",
   "metadata": {},
   "source": [
    "#### Test Set - Phase 2"
   ]
  },
  {
   "cell_type": "code",
   "execution_count": 77,
   "metadata": {},
   "outputs": [],
   "source": [
    "testset_recommendation_sessions_lengths2 = testset_recommendation_df2.groupby('session_id_hash').size()"
   ]
  },
  {
   "cell_type": "code",
   "execution_count": 78,
   "metadata": {},
   "outputs": [
    {
     "data": {
      "text/plain": [
       "count    332247.000000\n",
       "mean          4.041123\n",
       "std           6.441325\n",
       "min           1.000000\n",
       "0%            1.000000\n",
       "             ...      \n",
       "97%          19.000000\n",
       "98%          23.000000\n",
       "99%          31.000000\n",
       "100%        159.000000\n",
       "max         159.000000\n",
       "Length: 106, dtype: float64"
      ]
     },
     "execution_count": 78,
     "metadata": {},
     "output_type": "execute_result"
    }
   ],
   "source": [
    "testset_recommendation_sessions_lengths_dist2 = \\\n",
    "            testset_recommendation_sessions_lengths2.describe(percentiles=np.arange(0, 1.01, 0.01))\n",
    "testset_recommendation_sessions_lengths_dist2"
   ]
  },
  {
   "cell_type": "code",
   "execution_count": 79,
   "metadata": {},
   "outputs": [
    {
     "data": {
      "text/html": [
       "<div>\n",
       "<style scoped>\n",
       "    .dataframe tbody tr th:only-of-type {\n",
       "        vertical-align: middle;\n",
       "    }\n",
       "\n",
       "    .dataframe tbody tr th {\n",
       "        vertical-align: top;\n",
       "    }\n",
       "\n",
       "    .dataframe thead th {\n",
       "        text-align: right;\n",
       "    }\n",
       "</style>\n",
       "<table border=\"1\" class=\"dataframe\">\n",
       "  <thead>\n",
       "    <tr style=\"text-align: right;\">\n",
       "      <th></th>\n",
       "      <th>train</th>\n",
       "      <th>test1</th>\n",
       "      <th>test2</th>\n",
       "      <th>test1/train</th>\n",
       "      <th>test2/train</th>\n",
       "    </tr>\n",
       "  </thead>\n",
       "  <tbody>\n",
       "    <tr>\n",
       "      <th>mean</th>\n",
       "      <td>8.772523</td>\n",
       "      <td>4.050075</td>\n",
       "      <td>4.041123</td>\n",
       "      <td>0.461677</td>\n",
       "      <td>0.460657</td>\n",
       "    </tr>\n",
       "    <tr>\n",
       "      <th>std</th>\n",
       "      <td>13.217676</td>\n",
       "      <td>6.371418</td>\n",
       "      <td>6.441325</td>\n",
       "      <td>0.482038</td>\n",
       "      <td>0.487327</td>\n",
       "    </tr>\n",
       "    <tr>\n",
       "      <th>min</th>\n",
       "      <td>2.000000</td>\n",
       "      <td>1.000000</td>\n",
       "      <td>1.000000</td>\n",
       "      <td>0.500000</td>\n",
       "      <td>0.500000</td>\n",
       "    </tr>\n",
       "    <tr>\n",
       "      <th>0%</th>\n",
       "      <td>2.000000</td>\n",
       "      <td>1.000000</td>\n",
       "      <td>1.000000</td>\n",
       "      <td>0.500000</td>\n",
       "      <td>0.500000</td>\n",
       "    </tr>\n",
       "    <tr>\n",
       "      <th>1%</th>\n",
       "      <td>2.000000</td>\n",
       "      <td>1.000000</td>\n",
       "      <td>1.000000</td>\n",
       "      <td>0.500000</td>\n",
       "      <td>0.500000</td>\n",
       "    </tr>\n",
       "    <tr>\n",
       "      <th>...</th>\n",
       "      <td>...</td>\n",
       "      <td>...</td>\n",
       "      <td>...</td>\n",
       "      <td>...</td>\n",
       "      <td>...</td>\n",
       "    </tr>\n",
       "    <tr>\n",
       "      <th>97%</th>\n",
       "      <td>40.000000</td>\n",
       "      <td>19.000000</td>\n",
       "      <td>19.000000</td>\n",
       "      <td>0.475000</td>\n",
       "      <td>0.475000</td>\n",
       "    </tr>\n",
       "    <tr>\n",
       "      <th>98%</th>\n",
       "      <td>48.000000</td>\n",
       "      <td>23.000000</td>\n",
       "      <td>23.000000</td>\n",
       "      <td>0.479167</td>\n",
       "      <td>0.479167</td>\n",
       "    </tr>\n",
       "    <tr>\n",
       "      <th>99%</th>\n",
       "      <td>65.000000</td>\n",
       "      <td>31.000000</td>\n",
       "      <td>31.000000</td>\n",
       "      <td>0.476923</td>\n",
       "      <td>0.476923</td>\n",
       "    </tr>\n",
       "    <tr>\n",
       "      <th>100%</th>\n",
       "      <td>206.000000</td>\n",
       "      <td>133.000000</td>\n",
       "      <td>159.000000</td>\n",
       "      <td>0.645631</td>\n",
       "      <td>0.771845</td>\n",
       "    </tr>\n",
       "    <tr>\n",
       "      <th>max</th>\n",
       "      <td>206.000000</td>\n",
       "      <td>133.000000</td>\n",
       "      <td>159.000000</td>\n",
       "      <td>0.645631</td>\n",
       "      <td>0.771845</td>\n",
       "    </tr>\n",
       "  </tbody>\n",
       "</table>\n",
       "<p>105 rows × 5 columns</p>\n",
       "</div>"
      ],
      "text/plain": [
       "           train       test1       test2  test1/train  test2/train\n",
       "mean    8.772523    4.050075    4.041123     0.461677     0.460657\n",
       "std    13.217676    6.371418    6.441325     0.482038     0.487327\n",
       "min     2.000000    1.000000    1.000000     0.500000     0.500000\n",
       "0%      2.000000    1.000000    1.000000     0.500000     0.500000\n",
       "1%      2.000000    1.000000    1.000000     0.500000     0.500000\n",
       "...          ...         ...         ...          ...          ...\n",
       "97%    40.000000   19.000000   19.000000     0.475000     0.475000\n",
       "98%    48.000000   23.000000   23.000000     0.479167     0.479167\n",
       "99%    65.000000   31.000000   31.000000     0.476923     0.476923\n",
       "100%  206.000000  133.000000  159.000000     0.645631     0.771845\n",
       "max   206.000000  133.000000  159.000000     0.645631     0.771845\n",
       "\n",
       "[105 rows x 5 columns]"
      ]
     },
     "execution_count": 79,
     "metadata": {},
     "output_type": "execute_result"
    }
   ],
   "source": [
    "train_test_sessions_length_cdf_df = pd.concat([train_browsing_sessions_lengths_dist, testset_recommendation_sessions_lengths_dist, testset_recommendation_sessions_lengths_dist2], axis=1)\n",
    "train_test_sessions_length_cdf_df.columns = ['train', 'test1', 'test2']\n",
    "train_test_sessions_length_cdf_df['test1/train'] = train_test_sessions_length_cdf_df['test1'] / train_test_sessions_length_cdf_df['train']\n",
    "train_test_sessions_length_cdf_df['test2/train'] = train_test_sessions_length_cdf_df['test2'] / train_test_sessions_length_cdf_df['train']\n",
    "train_test_sessions_length_cdf_df[1:]"
   ]
  },
  {
   "cell_type": "code",
   "execution_count": 80,
   "metadata": {},
   "outputs": [
    {
     "data": {
      "text/html": [
       "<div>\n",
       "<style scoped>\n",
       "    .dataframe tbody tr th:only-of-type {\n",
       "        vertical-align: middle;\n",
       "    }\n",
       "\n",
       "    .dataframe tbody tr th {\n",
       "        vertical-align: top;\n",
       "    }\n",
       "\n",
       "    .dataframe thead th {\n",
       "        text-align: right;\n",
       "    }\n",
       "</style>\n",
       "<table border=\"1\" class=\"dataframe\">\n",
       "  <thead>\n",
       "    <tr style=\"text-align: right;\">\n",
       "      <th></th>\n",
       "      <th>train</th>\n",
       "      <th>test1</th>\n",
       "      <th>test2</th>\n",
       "      <th>test1/train</th>\n",
       "      <th>test2/train</th>\n",
       "    </tr>\n",
       "  </thead>\n",
       "  <tbody>\n",
       "    <tr>\n",
       "      <th>count</th>\n",
       "      <td>4.007014e+06</td>\n",
       "      <td>142327.000000</td>\n",
       "      <td>332247.000000</td>\n",
       "      <td>0.035519</td>\n",
       "      <td>0.082916</td>\n",
       "    </tr>\n",
       "    <tr>\n",
       "      <th>mean</th>\n",
       "      <td>8.772523e+00</td>\n",
       "      <td>4.050075</td>\n",
       "      <td>4.041123</td>\n",
       "      <td>0.461677</td>\n",
       "      <td>0.460657</td>\n",
       "    </tr>\n",
       "    <tr>\n",
       "      <th>std</th>\n",
       "      <td>1.321768e+01</td>\n",
       "      <td>6.371418</td>\n",
       "      <td>6.441325</td>\n",
       "      <td>0.482038</td>\n",
       "      <td>0.487327</td>\n",
       "    </tr>\n",
       "    <tr>\n",
       "      <th>min</th>\n",
       "      <td>2.000000e+00</td>\n",
       "      <td>1.000000</td>\n",
       "      <td>1.000000</td>\n",
       "      <td>0.500000</td>\n",
       "      <td>0.500000</td>\n",
       "    </tr>\n",
       "    <tr>\n",
       "      <th>0%</th>\n",
       "      <td>2.000000e+00</td>\n",
       "      <td>1.000000</td>\n",
       "      <td>1.000000</td>\n",
       "      <td>0.500000</td>\n",
       "      <td>0.500000</td>\n",
       "    </tr>\n",
       "    <tr>\n",
       "      <th>...</th>\n",
       "      <td>...</td>\n",
       "      <td>...</td>\n",
       "      <td>...</td>\n",
       "      <td>...</td>\n",
       "      <td>...</td>\n",
       "    </tr>\n",
       "    <tr>\n",
       "      <th>97%</th>\n",
       "      <td>4.000000e+01</td>\n",
       "      <td>19.000000</td>\n",
       "      <td>19.000000</td>\n",
       "      <td>0.475000</td>\n",
       "      <td>0.475000</td>\n",
       "    </tr>\n",
       "    <tr>\n",
       "      <th>98%</th>\n",
       "      <td>4.800000e+01</td>\n",
       "      <td>23.000000</td>\n",
       "      <td>23.000000</td>\n",
       "      <td>0.479167</td>\n",
       "      <td>0.479167</td>\n",
       "    </tr>\n",
       "    <tr>\n",
       "      <th>99%</th>\n",
       "      <td>6.500000e+01</td>\n",
       "      <td>31.000000</td>\n",
       "      <td>31.000000</td>\n",
       "      <td>0.476923</td>\n",
       "      <td>0.476923</td>\n",
       "    </tr>\n",
       "    <tr>\n",
       "      <th>100%</th>\n",
       "      <td>2.060000e+02</td>\n",
       "      <td>133.000000</td>\n",
       "      <td>159.000000</td>\n",
       "      <td>0.645631</td>\n",
       "      <td>0.771845</td>\n",
       "    </tr>\n",
       "    <tr>\n",
       "      <th>max</th>\n",
       "      <td>2.060000e+02</td>\n",
       "      <td>133.000000</td>\n",
       "      <td>159.000000</td>\n",
       "      <td>0.645631</td>\n",
       "      <td>0.771845</td>\n",
       "    </tr>\n",
       "  </tbody>\n",
       "</table>\n",
       "<p>106 rows × 5 columns</p>\n",
       "</div>"
      ],
      "text/plain": [
       "              train          test1          test2  test1/train  test2/train\n",
       "count  4.007014e+06  142327.000000  332247.000000     0.035519     0.082916\n",
       "mean   8.772523e+00       4.050075       4.041123     0.461677     0.460657\n",
       "std    1.321768e+01       6.371418       6.441325     0.482038     0.487327\n",
       "min    2.000000e+00       1.000000       1.000000     0.500000     0.500000\n",
       "0%     2.000000e+00       1.000000       1.000000     0.500000     0.500000\n",
       "...             ...            ...            ...          ...          ...\n",
       "97%    4.000000e+01      19.000000      19.000000     0.475000     0.475000\n",
       "98%    4.800000e+01      23.000000      23.000000     0.479167     0.479167\n",
       "99%    6.500000e+01      31.000000      31.000000     0.476923     0.476923\n",
       "100%   2.060000e+02     133.000000     159.000000     0.645631     0.771845\n",
       "max    2.060000e+02     133.000000     159.000000     0.645631     0.771845\n",
       "\n",
       "[106 rows x 5 columns]"
      ]
     },
     "execution_count": 80,
     "metadata": {},
     "output_type": "execute_result"
    }
   ],
   "source": [
    "train_test_sessions_length_cdf_df\n"
   ]
  },
  {
   "cell_type": "code",
   "execution_count": 81,
   "metadata": {},
   "outputs": [
    {
     "data": {
      "text/plain": [
       "<AxesSubplot:>"
      ]
     },
     "execution_count": 81,
     "metadata": {},
     "output_type": "execute_result"
    },
    {
     "data": {
      "image/png": "[encoded data removed]",
      "text/plain": [
       "<Figure size 1080x576 with 1 Axes>"
      ]
     },
     "metadata": {
      "needs_background": "light"
     },
     "output_type": "display_data"
    }
   ],
   "source": [
    "train_test_sessions_length_cdf_df[3:][['train', 'test1', 'test2']].plot.line(figsize=(15,8))"
   ]
  },
  {
   "cell_type": "code",
   "execution_count": 201,
   "metadata": {
    "scrolled": true
   },
   "outputs": [
    {
     "data": {
      "text/plain": [
       "count    5.010682e+06\n",
       "mean     7.364032e+00\n",
       "std      1.239625e+01\n",
       "min      1.000000e+00\n",
       "0%       1.000000e+00\n",
       "5%       1.000000e+00\n",
       "10%      1.000000e+00\n",
       "15%      1.000000e+00\n",
       "20%      2.000000e+00\n",
       "25%      2.000000e+00\n",
       "30%      2.000000e+00\n",
       "35%      2.000000e+00\n",
       "40%      2.000000e+00\n",
       "45%      2.000000e+00\n",
       "50%      3.000000e+00\n",
       "55%      4.000000e+00\n",
       "60%      4.000000e+00\n",
       "65%      5.000000e+00\n",
       "70%      6.000000e+00\n",
       "75%      8.000000e+00\n",
       "80%      1.000000e+01\n",
       "85%      1.300000e+01\n",
       "90%      1.800000e+01\n",
       "95%      2.700000e+01\n",
       "100%     3.970000e+02\n",
       "max      3.970000e+02\n",
       "dtype: float64"
      ]
     },
     "execution_count": 201,
     "metadata": {},
     "output_type": "execute_result"
    }
   ],
   "source": [
    "# To see if session with length 1 have also events on search that make then longer, which not holds\n",
    "train_complete_sessions_df = pd.DataFrame(pd.concat([train_browsing_df['session_id_hash'], train_search_df['session_id_hash']]))\n",
    "train_complete_sessions_df.groupby('session_id_hash').size().describe(percentiles=np.arange(0,1.05, 0.05))"
   ]
  },
  {
   "cell_type": "markdown",
   "metadata": {},
   "source": [
    "### Analyzing repeated interactions"
   ]
  },
  {
   "cell_type": "code",
   "execution_count": 17,
   "metadata": {},
   "outputs": [
    {
     "name": "stdout",
     "output_type": "stream",
     "text": [
      "36079307\n",
      "10431611\n"
     ]
    }
   ],
   "source": [
    "print(len(train_browsing_df))\n",
    "train_browsing_sorted_df = train_browsing_df[~pd.isna(train_browsing_df['product_sku_hash'])] \\\n",
    "                .sort_values(['session_id_hash', 'server_timestamp_epoch_ms'])\n",
    "n_train_interactions = len(train_browsing_sorted_df)"
   ]
  },
  {
   "cell_type": "code",
   "execution_count": 18,
   "metadata": {},
   "outputs": [
    {
     "name": "stdout",
     "output_type": "stream",
     "text": [
      "576435\n",
      "243777\n"
     ]
    }
   ],
   "source": [
    "print(len(testset_recommendation_df))\n",
    "testset_recommendation_sorted_df = testset_recommendation_df[~pd.isna(testset_recommendation_df['product_sku_hash'])] \\\n",
    "                .sort_values(['session_id_hash', 'server_timestamp_epoch_ms'])\n",
    "n_test_interactions = len(testset_recommendation_sorted_df)\n",
    "n_test_interactions"
   ]
  },
  {
   "cell_type": "code",
   "execution_count": 36,
   "metadata": {},
   "outputs": [
    {
     "name": "stdout",
     "output_type": "stream",
     "text": [
      "1342651\n"
     ]
    },
    {
     "data": {
      "text/plain": [
       "567204"
      ]
     },
     "execution_count": 36,
     "metadata": {},
     "output_type": "execute_result"
    }
   ],
   "source": [
    "print(len(testset_recommendation_df2))\n",
    "testset_recommendation_sorted_df2 = testset_recommendation_df2[~pd.isna(testset_recommendation_df2['product_sku_hash'])] \\\n",
    "                .sort_values(['session_id_hash', 'server_timestamp_epoch_ms'])\n",
    "n_test_interactions2 = len(testset_recommendation_sorted_df2)\n",
    "n_test_interactions2"
   ]
  },
  {
   "cell_type": "code",
   "execution_count": 19,
   "metadata": {},
   "outputs": [],
   "source": [
    "train_browsing_sorted_df['session_id_hash_shifted'] = train_browsing_sorted_df['session_id_hash'].shift(1)\n",
    "train_browsing_sorted_df['product_sku_hash_shifted'] = train_browsing_sorted_df['product_sku_hash'].shift(1)"
   ]
  },
  {
   "cell_type": "code",
   "execution_count": 27,
   "metadata": {},
   "outputs": [
    {
     "name": "stdout",
     "output_type": "stream",
     "text": [
      "1360165\n"
     ]
    },
    {
     "data": {
      "text/plain": [
       "0.13038877695880338"
      ]
     },
     "execution_count": 27,
     "metadata": {},
     "output_type": "execute_result"
    }
   ],
   "source": [
    "n_train_repeated_interactions = len(train_browsing_sorted_df[(train_browsing_sorted_df['session_id_hash_shifted'] == \n",
    "                         train_browsing_sorted_df['session_id_hash']) & \\\n",
    "                        (train_browsing_sorted_df['product_sku_hash_shifted'] == \n",
    "                         train_browsing_sorted_df['product_sku_hash'])])\n",
    "print(n_train_repeated_interactions)\n",
    "n_train_repeated_interactions / n_train_interactions"
   ]
  },
  {
   "cell_type": "code",
   "execution_count": 20,
   "metadata": {},
   "outputs": [],
   "source": [
    "testset_recommendation_sorted_df['session_id_hash_shifted'] = testset_recommendation_sorted_df['session_id_hash'].shift(1)\n",
    "testset_recommendation_sorted_df['product_sku_hash_shifted'] = testset_recommendation_sorted_df['product_sku_hash'].shift(1)"
   ]
  },
  {
   "cell_type": "code",
   "execution_count": 28,
   "metadata": {},
   "outputs": [
    {
     "name": "stdout",
     "output_type": "stream",
     "text": [
      "20192\n"
     ]
    },
    {
     "data": {
      "text/plain": [
       "0.08282979936581383"
      ]
     },
     "execution_count": 28,
     "metadata": {},
     "output_type": "execute_result"
    }
   ],
   "source": [
    "n_test_repeated_interactions = len(testset_recommendation_sorted_df[(testset_recommendation_sorted_df['session_id_hash_shifted'] == \n",
    "                         testset_recommendation_sorted_df['session_id_hash']) & \\\n",
    "                        (testset_recommendation_sorted_df['product_sku_hash_shifted'] == \n",
    "                         testset_recommendation_sorted_df['product_sku_hash'])])\n",
    "print(n_test_repeated_interactions)\n",
    "n_test_repeated_interactions / n_test_interactions"
   ]
  },
  {
   "cell_type": "code",
   "execution_count": 38,
   "metadata": {},
   "outputs": [],
   "source": [
    "testset_recommendation_sorted_df2['session_id_hash_shifted'] = testset_recommendation_sorted_df2['session_id_hash'].shift(1)\n",
    "testset_recommendation_sorted_df2['product_sku_hash_shifted'] = testset_recommendation_sorted_df2['product_sku_hash'].shift(1)"
   ]
  },
  {
   "cell_type": "code",
   "execution_count": 39,
   "metadata": {},
   "outputs": [
    {
     "name": "stdout",
     "output_type": "stream",
     "text": [
      "47666\n"
     ]
    },
    {
     "data": {
      "text/plain": [
       "0.08403678394369574"
      ]
     },
     "execution_count": 39,
     "metadata": {},
     "output_type": "execute_result"
    }
   ],
   "source": [
    "n_test_repeated_interactions2 = len(testset_recommendation_sorted_df2[(testset_recommendation_sorted_df2['session_id_hash_shifted'] == \n",
    "                         testset_recommendation_sorted_df2['session_id_hash']) & \\\n",
    "                        (testset_recommendation_sorted_df2['product_sku_hash_shifted'] == \n",
    "                         testset_recommendation_sorted_df2['product_sku_hash'])])\n",
    "print(n_test_repeated_interactions2)\n",
    "n_test_repeated_interactions2 / n_test_interactions2"
   ]
  },
  {
   "cell_type": "code",
   "execution_count": 30,
   "metadata": {},
   "outputs": [],
   "source": [
    "#train_browsing_sorted_df[['session_id_hash', 'product_sku_hash']].head(1000).to_csv('sessions.csv')"
   ]
  },
  {
   "cell_type": "markdown",
   "metadata": {},
   "source": [
    "### Comparing other stats of train and test sets"
   ]
  },
  {
   "cell_type": "code",
   "execution_count": 47,
   "metadata": {},
   "outputs": [
    {
     "data": {
      "text/html": [
       "<div>\n",
       "<style scoped>\n",
       "    .dataframe tbody tr th:only-of-type {\n",
       "        vertical-align: middle;\n",
       "    }\n",
       "\n",
       "    .dataframe tbody tr th {\n",
       "        vertical-align: top;\n",
       "    }\n",
       "\n",
       "    .dataframe thead th {\n",
       "        text-align: right;\n",
       "    }\n",
       "</style>\n",
       "<table border=\"1\" class=\"dataframe\">\n",
       "  <thead>\n",
       "    <tr style=\"text-align: right;\">\n",
       "      <th></th>\n",
       "      <th>session_id_hash</th>\n",
       "      <th>query_vector</th>\n",
       "      <th>clicked_skus_hash</th>\n",
       "      <th>product_skus_hash</th>\n",
       "      <th>server_timestamp_epoch_ms</th>\n",
       "    </tr>\n",
       "  </thead>\n",
       "  <tbody>\n",
       "    <tr>\n",
       "      <th>0</th>\n",
       "      <td>48fade624d47870058ce07dd789ccc04e46c70c0fa2a1b...</td>\n",
       "      <td>[-0.20255649089813232, -0.016908567398786545, ...</td>\n",
       "      <td>NaN</td>\n",
       "      <td>NaN</td>\n",
       "      <td>1548575194779</td>\n",
       "    </tr>\n",
       "    <tr>\n",
       "      <th>1</th>\n",
       "      <td>8731ca84ff7bb8cb647531d54e64feedb2519b4a7792a7...</td>\n",
       "      <td>[-0.007610442116856575, -0.14909175038337708, ...</td>\n",
       "      <td>NaN</td>\n",
       "      <td>['9ee9ffd7e2529a65f9a0b0c9eaae6330df85cf2e3af3...</td>\n",
       "      <td>1548276763869</td>\n",
       "    </tr>\n",
       "    <tr>\n",
       "      <th>2</th>\n",
       "      <td>9be980708345944960645d03606ea83b637cae9106b705...</td>\n",
       "      <td>[-0.20023074746131897, -0.03151938319206238, 0...</td>\n",
       "      <td>NaN</td>\n",
       "      <td>['7cc72dbed53bab78ec6a62feaa5052a7a1db7d201664...</td>\n",
       "      <td>1548937997295</td>\n",
       "    </tr>\n",
       "    <tr>\n",
       "      <th>3</th>\n",
       "      <td>9be980708345944960645d03606ea83b637cae9106b705...</td>\n",
       "      <td>[-0.18556387722492218, -0.07620412111282349, 0...</td>\n",
       "      <td>NaN</td>\n",
       "      <td>['62c4ddab6c1c81c74d315376b3c0dc7768c0286b3dc6...</td>\n",
       "      <td>1548938038268</td>\n",
       "    </tr>\n",
       "    <tr>\n",
       "      <th>4</th>\n",
       "      <td>9be980708345944960645d03606ea83b637cae9106b705...</td>\n",
       "      <td>[-0.03269264101982117, -0.27234694361686707, 0...</td>\n",
       "      <td>NaN</td>\n",
       "      <td>['2a0ee2924feabeec35e21e8fcb4d5b0684d190e46cef...</td>\n",
       "      <td>1548938093827</td>\n",
       "    </tr>\n",
       "    <tr>\n",
       "      <th>...</th>\n",
       "      <td>...</td>\n",
       "      <td>...</td>\n",
       "      <td>...</td>\n",
       "      <td>...</td>\n",
       "      <td>...</td>\n",
       "    </tr>\n",
       "    <tr>\n",
       "      <th>819511</th>\n",
       "      <td>9b037012702a2dadee910c6b71b691b6ba072b22f41b7b...</td>\n",
       "      <td>[-0.04411918669939041, -0.15845978260040283, -...</td>\n",
       "      <td>['f023b48bf46355aa4844b8c9bd51e478a22f17b9be83...</td>\n",
       "      <td>['12db169815cb93aaeeb1d427d6c0eea62ba4961e43c4...</td>\n",
       "      <td>1548987598321</td>\n",
       "    </tr>\n",
       "    <tr>\n",
       "      <th>819512</th>\n",
       "      <td>9b037012702a2dadee910c6b71b691b6ba072b22f41b7b...</td>\n",
       "      <td>[-0.033466748893260956, 0.06939797103404999, -...</td>\n",
       "      <td>['1379461daf84128449e010af5f2a0d37837bac53c854...</td>\n",
       "      <td>['956c335d2f59c1853f499420ae4e85250a6c7190a1df...</td>\n",
       "      <td>1548987688646</td>\n",
       "    </tr>\n",
       "    <tr>\n",
       "      <th>819513</th>\n",
       "      <td>fdf03b124f6cb368c42a9408bc1186e4ea1465cacd5855...</td>\n",
       "      <td>[-0.04076826199889183, -0.3194904327392578, 0....</td>\n",
       "      <td>NaN</td>\n",
       "      <td>NaN</td>\n",
       "      <td>1548554188376</td>\n",
       "    </tr>\n",
       "    <tr>\n",
       "      <th>819514</th>\n",
       "      <td>fdf03b124f6cb368c42a9408bc1186e4ea1465cacd5855...</td>\n",
       "      <td>[0.0175111535936594, -0.2686958312988281, 0.07...</td>\n",
       "      <td>NaN</td>\n",
       "      <td>['32ead81a7b89168dc472d162a3d7654db02d99bb88b3...</td>\n",
       "      <td>1548554908239</td>\n",
       "    </tr>\n",
       "    <tr>\n",
       "      <th>819515</th>\n",
       "      <td>fdf03b124f6cb368c42a9408bc1186e4ea1465cacd5855...</td>\n",
       "      <td>[0.007162265479564667, -0.24418511986732483, 0...</td>\n",
       "      <td>NaN</td>\n",
       "      <td>['05ad56d73cded3e417965b566d3291dc70e8fe3070ec...</td>\n",
       "      <td>1548555018635</td>\n",
       "    </tr>\n",
       "  </tbody>\n",
       "</table>\n",
       "<p>819516 rows × 5 columns</p>\n",
       "</div>"
      ],
      "text/plain": [
       "                                          session_id_hash  \\\n",
       "0       48fade624d47870058ce07dd789ccc04e46c70c0fa2a1b...   \n",
       "1       8731ca84ff7bb8cb647531d54e64feedb2519b4a7792a7...   \n",
       "2       9be980708345944960645d03606ea83b637cae9106b705...   \n",
       "3       9be980708345944960645d03606ea83b637cae9106b705...   \n",
       "4       9be980708345944960645d03606ea83b637cae9106b705...   \n",
       "...                                                   ...   \n",
       "819511  9b037012702a2dadee910c6b71b691b6ba072b22f41b7b...   \n",
       "819512  9b037012702a2dadee910c6b71b691b6ba072b22f41b7b...   \n",
       "819513  fdf03b124f6cb368c42a9408bc1186e4ea1465cacd5855...   \n",
       "819514  fdf03b124f6cb368c42a9408bc1186e4ea1465cacd5855...   \n",
       "819515  fdf03b124f6cb368c42a9408bc1186e4ea1465cacd5855...   \n",
       "\n",
       "                                             query_vector  \\\n",
       "0       [-0.20255649089813232, -0.016908567398786545, ...   \n",
       "1       [-0.007610442116856575, -0.14909175038337708, ...   \n",
       "2       [-0.20023074746131897, -0.03151938319206238, 0...   \n",
       "3       [-0.18556387722492218, -0.07620412111282349, 0...   \n",
       "4       [-0.03269264101982117, -0.27234694361686707, 0...   \n",
       "...                                                   ...   \n",
       "819511  [-0.04411918669939041, -0.15845978260040283, -...   \n",
       "819512  [-0.033466748893260956, 0.06939797103404999, -...   \n",
       "819513  [-0.04076826199889183, -0.3194904327392578, 0....   \n",
       "819514  [0.0175111535936594, -0.2686958312988281, 0.07...   \n",
       "819515  [0.007162265479564667, -0.24418511986732483, 0...   \n",
       "\n",
       "                                        clicked_skus_hash  \\\n",
       "0                                                     NaN   \n",
       "1                                                     NaN   \n",
       "2                                                     NaN   \n",
       "3                                                     NaN   \n",
       "4                                                     NaN   \n",
       "...                                                   ...   \n",
       "819511  ['f023b48bf46355aa4844b8c9bd51e478a22f17b9be83...   \n",
       "819512  ['1379461daf84128449e010af5f2a0d37837bac53c854...   \n",
       "819513                                                NaN   \n",
       "819514                                                NaN   \n",
       "819515                                                NaN   \n",
       "\n",
       "                                        product_skus_hash  \\\n",
       "0                                                     NaN   \n",
       "1       ['9ee9ffd7e2529a65f9a0b0c9eaae6330df85cf2e3af3...   \n",
       "2       ['7cc72dbed53bab78ec6a62feaa5052a7a1db7d201664...   \n",
       "3       ['62c4ddab6c1c81c74d315376b3c0dc7768c0286b3dc6...   \n",
       "4       ['2a0ee2924feabeec35e21e8fcb4d5b0684d190e46cef...   \n",
       "...                                                   ...   \n",
       "819511  ['12db169815cb93aaeeb1d427d6c0eea62ba4961e43c4...   \n",
       "819512  ['956c335d2f59c1853f499420ae4e85250a6c7190a1df...   \n",
       "819513                                                NaN   \n",
       "819514  ['32ead81a7b89168dc472d162a3d7654db02d99bb88b3...   \n",
       "819515  ['05ad56d73cded3e417965b566d3291dc70e8fe3070ec...   \n",
       "\n",
       "        server_timestamp_epoch_ms  \n",
       "0                   1548575194779  \n",
       "1                   1548276763869  \n",
       "2                   1548937997295  \n",
       "3                   1548938038268  \n",
       "4                   1548938093827  \n",
       "...                           ...  \n",
       "819511              1548987598321  \n",
       "819512              1548987688646  \n",
       "819513              1548554188376  \n",
       "819514              1548554908239  \n",
       "819515              1548555018635  \n",
       "\n",
       "[819516 rows x 5 columns]"
      ]
     },
     "execution_count": 47,
     "metadata": {},
     "output_type": "execute_result"
    }
   ],
   "source": [
    "train_search_df"
   ]
  },
  {
   "cell_type": "markdown",
   "metadata": {},
   "source": [
    "#### event_type"
   ]
  },
  {
   "cell_type": "code",
   "execution_count": 40,
   "metadata": {},
   "outputs": [],
   "source": [
    "train_browsing_df[['event_type', 'product_action']] = train_browsing_df[['event_type', 'product_action']].fillna(\"null\")\n",
    "testset_recommendation_df[['event_type', 'product_action']] = testset_recommendation_df[['event_type', 'product_action']].fillna(\"null\")\n",
    "testset_recommendation_df2[['event_type', 'product_action']] = testset_recommendation_df2[['event_type', 'product_action']].fillna(\"null\")"
   ]
  },
  {
   "cell_type": "code",
   "execution_count": 41,
   "metadata": {},
   "outputs": [
    {
     "data": {
      "text/plain": [
       "event_type\n",
       "event_product    0.28913\n",
       "pageview         0.71087\n",
       "dtype: float64"
      ]
     },
     "execution_count": 41,
     "metadata": {},
     "output_type": "execute_result"
    }
   ],
   "source": [
    "train_browsing_df.groupby('event_type').size() / train_browsing_df.groupby('event_type').size().sum()"
   ]
  },
  {
   "cell_type": "code",
   "execution_count": 47,
   "metadata": {},
   "outputs": [
    {
     "data": {
      "text/plain": [
       "event_type\n",
       "event_product    0.422905\n",
       "null             0.029351\n",
       "pageview         0.547744\n",
       "dtype: float64"
      ]
     },
     "execution_count": 47,
     "metadata": {},
     "output_type": "execute_result"
    }
   ],
   "source": [
    "testset_recommendation_df.groupby('event_type').size() / testset_recommendation_df.groupby('event_type').size().sum()"
   ]
  },
  {
   "cell_type": "code",
   "execution_count": 41,
   "metadata": {},
   "outputs": [
    {
     "data": {
      "text/plain": [
       "event_type\n",
       "event_product    0.422451\n",
       "null             0.029317\n",
       "pageview         0.548232\n",
       "dtype: float64"
      ]
     },
     "execution_count": 41,
     "metadata": {},
     "output_type": "execute_result"
    }
   ],
   "source": [
    "testset_recommendation_df2.groupby('event_type').size() / testset_recommendation_df2.groupby('event_type').size().sum()"
   ]
  },
  {
   "cell_type": "markdown",
   "metadata": {},
   "source": [
    "#### product_action"
   ]
  },
  {
   "cell_type": "code",
   "execution_count": 43,
   "metadata": {},
   "outputs": [
    {
     "data": {
      "text/plain": [
       "product_action\n",
       "add         0.009134\n",
       "detail      0.269071\n",
       "null        0.710870\n",
       "purchase    0.002158\n",
       "remove      0.008767\n",
       "dtype: float64"
      ]
     },
     "execution_count": 43,
     "metadata": {},
     "output_type": "execute_result"
    }
   ],
   "source": [
    "train_browsing_df.groupby('product_action').size() / train_browsing_df.groupby('product_action').size().sum()"
   ]
  },
  {
   "cell_type": "code",
   "execution_count": 44,
   "metadata": {},
   "outputs": [
    {
     "data": {
      "text/plain": [
       "product_action\n",
       "add         0.011476\n",
       "detail      0.407541\n",
       "null        0.577095\n",
       "purchase    0.000664\n",
       "remove      0.003223\n",
       "dtype: float64"
      ]
     },
     "execution_count": 44,
     "metadata": {},
     "output_type": "execute_result"
    }
   ],
   "source": [
    "testset_recommendation_df.groupby('product_action').size() / testset_recommendation_df.groupby('product_action').size().sum()"
   ]
  },
  {
   "cell_type": "code",
   "execution_count": 42,
   "metadata": {},
   "outputs": [
    {
     "data": {
      "text/plain": [
       "product_action\n",
       "add         0.011742\n",
       "detail      0.407170\n",
       "null        0.577549\n",
       "purchase    0.000591\n",
       "remove      0.002947\n",
       "dtype: float64"
      ]
     },
     "execution_count": 42,
     "metadata": {},
     "output_type": "execute_result"
    }
   ],
   "source": [
    "testset_recommendation_df2.groupby('product_action').size() / testset_recommendation_df2.groupby('product_action').size().sum()"
   ]
  },
  {
   "cell_type": "markdown",
   "metadata": {},
   "source": [
    "#### product_sku_hash"
   ]
  },
  {
   "cell_type": "code",
   "execution_count": 49,
   "metadata": {},
   "outputs": [
    {
     "data": {
      "text/plain": [
       "0.7108699731954385"
      ]
     },
     "execution_count": 49,
     "metadata": {},
     "output_type": "execute_result"
    }
   ],
   "source": [
    "train_browsing_df['product_sku_hash'].isna().mean()"
   ]
  },
  {
   "cell_type": "code",
   "execution_count": 50,
   "metadata": {},
   "outputs": [
    {
     "data": {
      "text/plain": [
       "0.5643073656517419"
      ]
     },
     "execution_count": 50,
     "metadata": {},
     "output_type": "execute_result"
    }
   ],
   "source": [
    "testset_recommendation_df[testset_recommendation_df['is_search']==False]['product_sku_hash'].isna().mean()"
   ]
  },
  {
   "cell_type": "code",
   "execution_count": 52,
   "metadata": {},
   "outputs": [
    {
     "data": {
      "text/plain": [
       "0.5647899773495958"
      ]
     },
     "execution_count": 52,
     "metadata": {},
     "output_type": "execute_result"
    }
   ],
   "source": [
    "testset_recommendation_df2[testset_recommendation_df2['is_search']==False]['product_sku_hash'].isna().mean()"
   ]
  },
  {
   "cell_type": "code",
   "execution_count": 31,
   "metadata": {},
   "outputs": [
    {
     "data": {
      "text/html": [
       "<div>\n",
       "<style scoped>\n",
       "    .dataframe tbody tr th:only-of-type {\n",
       "        vertical-align: middle;\n",
       "    }\n",
       "\n",
       "    .dataframe tbody tr th {\n",
       "        vertical-align: top;\n",
       "    }\n",
       "\n",
       "    .dataframe thead th {\n",
       "        text-align: right;\n",
       "    }\n",
       "</style>\n",
       "<table border=\"1\" class=\"dataframe\">\n",
       "  <thead>\n",
       "    <tr style=\"text-align: right;\">\n",
       "      <th></th>\n",
       "      <th>session_id_hash</th>\n",
       "      <th>event_type</th>\n",
       "      <th>product_action</th>\n",
       "      <th>product_sku_hash</th>\n",
       "      <th>server_timestamp_epoch_ms</th>\n",
       "      <th>hashed_url</th>\n",
       "    </tr>\n",
       "  </thead>\n",
       "  <tbody>\n",
       "    <tr>\n",
       "      <th>0</th>\n",
       "      <td>20c458b802f6ea9374783bfc528b19421be977a6769785...</td>\n",
       "      <td>event_product</td>\n",
       "      <td>detail</td>\n",
       "      <td>d5157f8bc52965390fa21ad5842a8502bc3eb8b0930f3f...</td>\n",
       "      <td>1550885210881</td>\n",
       "      <td>7e4527ac6a32deed4f4f06bb7c49b907b7ca371e59d57d...</td>\n",
       "    </tr>\n",
       "    <tr>\n",
       "      <th>1</th>\n",
       "      <td>20c458b802f6ea9374783bfc528b19421be977a6769785...</td>\n",
       "      <td>event_product</td>\n",
       "      <td>detail</td>\n",
       "      <td>61ef3869355b78e11011f39fc7ac8f8dfb209b3442a9d5...</td>\n",
       "      <td>1550885213307</td>\n",
       "      <td>4ed279f4f0deab6dfc80f4f7bf49d527fd894fa478a9ce...</td>\n",
       "    </tr>\n",
       "    <tr>\n",
       "      <th>2</th>\n",
       "      <td>20c458b802f6ea9374783bfc528b19421be977a6769785...</td>\n",
       "      <td>pageview</td>\n",
       "      <td>NaN</td>\n",
       "      <td>NaN</td>\n",
       "      <td>1550885213307</td>\n",
       "      <td>4ed279f4f0deab6dfc80f4f7bf49d527fd894fa478a9ce...</td>\n",
       "    </tr>\n",
       "    <tr>\n",
       "      <th>3</th>\n",
       "      <td>20c458b802f6ea9374783bfc528b19421be977a6769785...</td>\n",
       "      <td>event_product</td>\n",
       "      <td>detail</td>\n",
       "      <td>d5157f8bc52965390fa21ad5842a8502bc3eb8b0930f3f...</td>\n",
       "      <td>1550885215484</td>\n",
       "      <td>7e4527ac6a32deed4f4f06bb7c49b907b7ca371e59d57d...</td>\n",
       "    </tr>\n",
       "    <tr>\n",
       "      <th>4</th>\n",
       "      <td>20c458b802f6ea9374783bfc528b19421be977a6769785...</td>\n",
       "      <td>pageview</td>\n",
       "      <td>NaN</td>\n",
       "      <td>NaN</td>\n",
       "      <td>1550885215484</td>\n",
       "      <td>7e4527ac6a32deed4f4f06bb7c49b907b7ca371e59d57d...</td>\n",
       "    </tr>\n",
       "    <tr>\n",
       "      <th>...</th>\n",
       "      <td>...</td>\n",
       "      <td>...</td>\n",
       "      <td>...</td>\n",
       "      <td>...</td>\n",
       "      <td>...</td>\n",
       "      <td>...</td>\n",
       "    </tr>\n",
       "    <tr>\n",
       "      <th>36079302</th>\n",
       "      <td>0676f342dc490b0f8bd9c22d16e4c67f8f7af1f85679f1...</td>\n",
       "      <td>pageview</td>\n",
       "      <td>NaN</td>\n",
       "      <td>NaN</td>\n",
       "      <td>1552162324909</td>\n",
       "      <td>38f5bd3c9a1cc5b39e6b965f1aa6c565737f58e19a560a...</td>\n",
       "    </tr>\n",
       "    <tr>\n",
       "      <th>36079303</th>\n",
       "      <td>0676f342dc490b0f8bd9c22d16e4c67f8f7af1f85679f1...</td>\n",
       "      <td>pageview</td>\n",
       "      <td>NaN</td>\n",
       "      <td>NaN</td>\n",
       "      <td>1552162336608</td>\n",
       "      <td>38f5bd3c9a1cc5b39e6b965f1aa6c565737f58e19a560a...</td>\n",
       "    </tr>\n",
       "    <tr>\n",
       "      <th>36079304</th>\n",
       "      <td>0676f342dc490b0f8bd9c22d16e4c67f8f7af1f85679f1...</td>\n",
       "      <td>pageview</td>\n",
       "      <td>NaN</td>\n",
       "      <td>NaN</td>\n",
       "      <td>1552162343684</td>\n",
       "      <td>38f5bd3c9a1cc5b39e6b965f1aa6c565737f58e19a560a...</td>\n",
       "    </tr>\n",
       "    <tr>\n",
       "      <th>36079305</th>\n",
       "      <td>0676f342dc490b0f8bd9c22d16e4c67f8f7af1f85679f1...</td>\n",
       "      <td>pageview</td>\n",
       "      <td>NaN</td>\n",
       "      <td>NaN</td>\n",
       "      <td>1552162356368</td>\n",
       "      <td>433b0e71df1fe9a8d1f45647545701f6108414c40eef76...</td>\n",
       "    </tr>\n",
       "    <tr>\n",
       "      <th>36079306</th>\n",
       "      <td>0676f342dc490b0f8bd9c22d16e4c67f8f7af1f85679f1...</td>\n",
       "      <td>pageview</td>\n",
       "      <td>NaN</td>\n",
       "      <td>NaN</td>\n",
       "      <td>1552162390080</td>\n",
       "      <td>fb12a2500433a3ef2f92eae62941ce6b2db8616ce6c992...</td>\n",
       "    </tr>\n",
       "  </tbody>\n",
       "</table>\n",
       "<p>36079307 rows × 6 columns</p>\n",
       "</div>"
      ],
      "text/plain": [
       "                                            session_id_hash     event_type  \\\n",
       "0         20c458b802f6ea9374783bfc528b19421be977a6769785...  event_product   \n",
       "1         20c458b802f6ea9374783bfc528b19421be977a6769785...  event_product   \n",
       "2         20c458b802f6ea9374783bfc528b19421be977a6769785...       pageview   \n",
       "3         20c458b802f6ea9374783bfc528b19421be977a6769785...  event_product   \n",
       "4         20c458b802f6ea9374783bfc528b19421be977a6769785...       pageview   \n",
       "...                                                     ...            ...   \n",
       "36079302  0676f342dc490b0f8bd9c22d16e4c67f8f7af1f85679f1...       pageview   \n",
       "36079303  0676f342dc490b0f8bd9c22d16e4c67f8f7af1f85679f1...       pageview   \n",
       "36079304  0676f342dc490b0f8bd9c22d16e4c67f8f7af1f85679f1...       pageview   \n",
       "36079305  0676f342dc490b0f8bd9c22d16e4c67f8f7af1f85679f1...       pageview   \n",
       "36079306  0676f342dc490b0f8bd9c22d16e4c67f8f7af1f85679f1...       pageview   \n",
       "\n",
       "         product_action                                   product_sku_hash  \\\n",
       "0                detail  d5157f8bc52965390fa21ad5842a8502bc3eb8b0930f3f...   \n",
       "1                detail  61ef3869355b78e11011f39fc7ac8f8dfb209b3442a9d5...   \n",
       "2                   NaN                                                NaN   \n",
       "3                detail  d5157f8bc52965390fa21ad5842a8502bc3eb8b0930f3f...   \n",
       "4                   NaN                                                NaN   \n",
       "...                 ...                                                ...   \n",
       "36079302            NaN                                                NaN   \n",
       "36079303            NaN                                                NaN   \n",
       "36079304            NaN                                                NaN   \n",
       "36079305            NaN                                                NaN   \n",
       "36079306            NaN                                                NaN   \n",
       "\n",
       "          server_timestamp_epoch_ms  \\\n",
       "0                     1550885210881   \n",
       "1                     1550885213307   \n",
       "2                     1550885213307   \n",
       "3                     1550885215484   \n",
       "4                     1550885215484   \n",
       "...                             ...   \n",
       "36079302              1552162324909   \n",
       "36079303              1552162336608   \n",
       "36079304              1552162343684   \n",
       "36079305              1552162356368   \n",
       "36079306              1552162390080   \n",
       "\n",
       "                                                 hashed_url  \n",
       "0         7e4527ac6a32deed4f4f06bb7c49b907b7ca371e59d57d...  \n",
       "1         4ed279f4f0deab6dfc80f4f7bf49d527fd894fa478a9ce...  \n",
       "2         4ed279f4f0deab6dfc80f4f7bf49d527fd894fa478a9ce...  \n",
       "3         7e4527ac6a32deed4f4f06bb7c49b907b7ca371e59d57d...  \n",
       "4         7e4527ac6a32deed4f4f06bb7c49b907b7ca371e59d57d...  \n",
       "...                                                     ...  \n",
       "36079302  38f5bd3c9a1cc5b39e6b965f1aa6c565737f58e19a560a...  \n",
       "36079303  38f5bd3c9a1cc5b39e6b965f1aa6c565737f58e19a560a...  \n",
       "36079304  38f5bd3c9a1cc5b39e6b965f1aa6c565737f58e19a560a...  \n",
       "36079305  433b0e71df1fe9a8d1f45647545701f6108414c40eef76...  \n",
       "36079306  fb12a2500433a3ef2f92eae62941ce6b2db8616ce6c992...  \n",
       "\n",
       "[36079307 rows x 6 columns]"
      ]
     },
     "execution_count": 31,
     "metadata": {},
     "output_type": "execute_result"
    }
   ],
   "source": [
    "train_browsing_df"
   ]
  },
  {
   "cell_type": "code",
   "execution_count": 39,
   "metadata": {},
   "outputs": [
    {
     "data": {
      "text/html": [
       "<div>\n",
       "<style scoped>\n",
       "    .dataframe tbody tr th:only-of-type {\n",
       "        vertical-align: middle;\n",
       "    }\n",
       "\n",
       "    .dataframe tbody tr th {\n",
       "        vertical-align: top;\n",
       "    }\n",
       "\n",
       "    .dataframe thead th {\n",
       "        text-align: right;\n",
       "    }\n",
       "</style>\n",
       "<table border=\"1\" class=\"dataframe\">\n",
       "  <thead>\n",
       "    <tr style=\"text-align: right;\">\n",
       "      <th></th>\n",
       "      <th>session_id_hash</th>\n",
       "      <th>query_vector</th>\n",
       "      <th>clicked_skus_hash</th>\n",
       "      <th>product_skus_hash</th>\n",
       "      <th>server_timestamp_epoch_ms</th>\n",
       "      <th>event_type</th>\n",
       "      <th>product_action</th>\n",
       "      <th>product_sku_hash</th>\n",
       "      <th>hashed_url</th>\n",
       "      <th>is_search</th>\n",
       "    </tr>\n",
       "  </thead>\n",
       "  <tbody>\n",
       "    <tr>\n",
       "      <th>0</th>\n",
       "      <td>000028429ab6afd40f2a4d59c183ea46390fdfa3d04c80...</td>\n",
       "      <td>None</td>\n",
       "      <td>None</td>\n",
       "      <td>None</td>\n",
       "      <td>1557432435044</td>\n",
       "      <td>event_product</td>\n",
       "      <td>detail</td>\n",
       "      <td>4641de8468a39c53a151e8ee5f3bd731e69b3d7ac61335...</td>\n",
       "      <td>4f7f239c607d10b0843ceeccb98aecb382f8c18a931758...</td>\n",
       "      <td>False</td>\n",
       "    </tr>\n",
       "    <tr>\n",
       "      <th>1</th>\n",
       "      <td>000074f533a4fb893af451e4d436d326ddd2a7e83151a9...</td>\n",
       "      <td>None</td>\n",
       "      <td>None</td>\n",
       "      <td>None</td>\n",
       "      <td>1555443439867</td>\n",
       "      <td>event_product</td>\n",
       "      <td>detail</td>\n",
       "      <td>7571fbadb886e669ea4ac666b585fcc798c1f5970867c5...</td>\n",
       "      <td>0301401ac53e67e319036bbb0c12a4715ec5df45614023...</td>\n",
       "      <td>False</td>\n",
       "    </tr>\n",
       "    <tr>\n",
       "      <th>2</th>\n",
       "      <td>0000a6d196680bebf931ad7670f479c5c5357b3f1f8943...</td>\n",
       "      <td>None</td>\n",
       "      <td>None</td>\n",
       "      <td>None</td>\n",
       "      <td>1556729588695</td>\n",
       "      <td>pageview</td>\n",
       "      <td>None</td>\n",
       "      <td>None</td>\n",
       "      <td>9cfe9b259c3c4029a5d20e3542905d07ccf50d9a3bd4d7...</td>\n",
       "      <td>False</td>\n",
       "    </tr>\n",
       "    <tr>\n",
       "      <th>3</th>\n",
       "      <td>000106ea084ce19705d7d6889dfd3cb4bd2d596c8b31bd...</td>\n",
       "      <td>[0.0711296796798706, 0.3248276710510254, 0.023...</td>\n",
       "      <td>None</td>\n",
       "      <td>[cdcfae35b9136964fffa164db83293bc22ccc5cb8572b...</td>\n",
       "      <td>1557259563467</td>\n",
       "      <td>None</td>\n",
       "      <td>None</td>\n",
       "      <td>None</td>\n",
       "      <td>None</td>\n",
       "      <td>True</td>\n",
       "    </tr>\n",
       "    <tr>\n",
       "      <th>4</th>\n",
       "      <td>000106ea084ce19705d7d6889dfd3cb4bd2d596c8b31bd...</td>\n",
       "      <td>[-0.1051841750741005, 0.05710870400071144, -0....</td>\n",
       "      <td>None</td>\n",
       "      <td>[2d56a573739252332916de9219adfa0cf4e33c306c03b...</td>\n",
       "      <td>1557259580980</td>\n",
       "      <td>None</td>\n",
       "      <td>None</td>\n",
       "      <td>None</td>\n",
       "      <td>None</td>\n",
       "      <td>True</td>\n",
       "    </tr>\n",
       "    <tr>\n",
       "      <th>...</th>\n",
       "      <td>...</td>\n",
       "      <td>...</td>\n",
       "      <td>...</td>\n",
       "      <td>...</td>\n",
       "      <td>...</td>\n",
       "      <td>...</td>\n",
       "      <td>...</td>\n",
       "      <td>...</td>\n",
       "      <td>...</td>\n",
       "      <td>...</td>\n",
       "    </tr>\n",
       "    <tr>\n",
       "      <th>576430</th>\n",
       "      <td>fffe75a4f9e8b6dead0825d7db7fd538a64bc117599030...</td>\n",
       "      <td>None</td>\n",
       "      <td>None</td>\n",
       "      <td>None</td>\n",
       "      <td>1557406201853</td>\n",
       "      <td>pageview</td>\n",
       "      <td>None</td>\n",
       "      <td>None</td>\n",
       "      <td>41ae0f916406434064aeb03d859a7141b53d2900394dca...</td>\n",
       "      <td>False</td>\n",
       "    </tr>\n",
       "    <tr>\n",
       "      <th>576431</th>\n",
       "      <td>fffe75a4f9e8b6dead0825d7db7fd538a64bc117599030...</td>\n",
       "      <td>None</td>\n",
       "      <td>None</td>\n",
       "      <td>None</td>\n",
       "      <td>1557406412461</td>\n",
       "      <td>event_product</td>\n",
       "      <td>detail</td>\n",
       "      <td>a1d1d5f08b46a3f88d51e0a025c8d9efc7d670f2d5a974...</td>\n",
       "      <td>a71936368619e41471e8aa88c44a73b24d3dec3fe1b9b6...</td>\n",
       "      <td>False</td>\n",
       "    </tr>\n",
       "    <tr>\n",
       "      <th>576432</th>\n",
       "      <td>fffe75a4f9e8b6dead0825d7db7fd538a64bc117599030...</td>\n",
       "      <td>None</td>\n",
       "      <td>None</td>\n",
       "      <td>None</td>\n",
       "      <td>1557406442986</td>\n",
       "      <td>event_product</td>\n",
       "      <td>detail</td>\n",
       "      <td>4e880bf467dcb699fd61519bc3845dd6524b2095d45e7f...</td>\n",
       "      <td>c3eb53ea31db5ba124449624561969376aceb63297ce18...</td>\n",
       "      <td>False</td>\n",
       "    </tr>\n",
       "    <tr>\n",
       "      <th>576433</th>\n",
       "      <td>ffff39e95bd7ebc272897b54865d60accb111e0ec42cc0...</td>\n",
       "      <td>None</td>\n",
       "      <td>None</td>\n",
       "      <td>None</td>\n",
       "      <td>1557337655966</td>\n",
       "      <td>event_product</td>\n",
       "      <td>detail</td>\n",
       "      <td>3a62198d671b861ee178dd025f321ac66c28ba2e6967c6...</td>\n",
       "      <td>d4bb262e543866324b517cf4e294c77d270cfabe5d5f4f...</td>\n",
       "      <td>False</td>\n",
       "    </tr>\n",
       "    <tr>\n",
       "      <th>576434</th>\n",
       "      <td>ffffccb130241d462149241caf4f17a45d038481e51c28...</td>\n",
       "      <td>None</td>\n",
       "      <td>None</td>\n",
       "      <td>None</td>\n",
       "      <td>1556234499481</td>\n",
       "      <td>event_product</td>\n",
       "      <td>detail</td>\n",
       "      <td>caf9a5bfd81ef43f6cf3cbdc6017fdc79d43bcdea9fdb2...</td>\n",
       "      <td>4a2063eada9db11971c1264b28296cae1eaa133a395578...</td>\n",
       "      <td>False</td>\n",
       "    </tr>\n",
       "  </tbody>\n",
       "</table>\n",
       "<p>576435 rows × 10 columns</p>\n",
       "</div>"
      ],
      "text/plain": [
       "                                          session_id_hash  \\\n",
       "0       000028429ab6afd40f2a4d59c183ea46390fdfa3d04c80...   \n",
       "1       000074f533a4fb893af451e4d436d326ddd2a7e83151a9...   \n",
       "2       0000a6d196680bebf931ad7670f479c5c5357b3f1f8943...   \n",
       "3       000106ea084ce19705d7d6889dfd3cb4bd2d596c8b31bd...   \n",
       "4       000106ea084ce19705d7d6889dfd3cb4bd2d596c8b31bd...   \n",
       "...                                                   ...   \n",
       "576430  fffe75a4f9e8b6dead0825d7db7fd538a64bc117599030...   \n",
       "576431  fffe75a4f9e8b6dead0825d7db7fd538a64bc117599030...   \n",
       "576432  fffe75a4f9e8b6dead0825d7db7fd538a64bc117599030...   \n",
       "576433  ffff39e95bd7ebc272897b54865d60accb111e0ec42cc0...   \n",
       "576434  ffffccb130241d462149241caf4f17a45d038481e51c28...   \n",
       "\n",
       "                                             query_vector clicked_skus_hash  \\\n",
       "0                                                    None              None   \n",
       "1                                                    None              None   \n",
       "2                                                    None              None   \n",
       "3       [0.0711296796798706, 0.3248276710510254, 0.023...              None   \n",
       "4       [-0.1051841750741005, 0.05710870400071144, -0....              None   \n",
       "...                                                   ...               ...   \n",
       "576430                                               None              None   \n",
       "576431                                               None              None   \n",
       "576432                                               None              None   \n",
       "576433                                               None              None   \n",
       "576434                                               None              None   \n",
       "\n",
       "                                        product_skus_hash  \\\n",
       "0                                                    None   \n",
       "1                                                    None   \n",
       "2                                                    None   \n",
       "3       [cdcfae35b9136964fffa164db83293bc22ccc5cb8572b...   \n",
       "4       [2d56a573739252332916de9219adfa0cf4e33c306c03b...   \n",
       "...                                                   ...   \n",
       "576430                                               None   \n",
       "576431                                               None   \n",
       "576432                                               None   \n",
       "576433                                               None   \n",
       "576434                                               None   \n",
       "\n",
       "        server_timestamp_epoch_ms     event_type product_action  \\\n",
       "0                   1557432435044  event_product         detail   \n",
       "1                   1555443439867  event_product         detail   \n",
       "2                   1556729588695       pageview           None   \n",
       "3                   1557259563467           None           None   \n",
       "4                   1557259580980           None           None   \n",
       "...                           ...            ...            ...   \n",
       "576430              1557406201853       pageview           None   \n",
       "576431              1557406412461  event_product         detail   \n",
       "576432              1557406442986  event_product         detail   \n",
       "576433              1557337655966  event_product         detail   \n",
       "576434              1556234499481  event_product         detail   \n",
       "\n",
       "                                         product_sku_hash  \\\n",
       "0       4641de8468a39c53a151e8ee5f3bd731e69b3d7ac61335...   \n",
       "1       7571fbadb886e669ea4ac666b585fcc798c1f5970867c5...   \n",
       "2                                                    None   \n",
       "3                                                    None   \n",
       "4                                                    None   \n",
       "...                                                   ...   \n",
       "576430                                               None   \n",
       "576431  a1d1d5f08b46a3f88d51e0a025c8d9efc7d670f2d5a974...   \n",
       "576432  4e880bf467dcb699fd61519bc3845dd6524b2095d45e7f...   \n",
       "576433  3a62198d671b861ee178dd025f321ac66c28ba2e6967c6...   \n",
       "576434  caf9a5bfd81ef43f6cf3cbdc6017fdc79d43bcdea9fdb2...   \n",
       "\n",
       "                                               hashed_url  is_search  \n",
       "0       4f7f239c607d10b0843ceeccb98aecb382f8c18a931758...      False  \n",
       "1       0301401ac53e67e319036bbb0c12a4715ec5df45614023...      False  \n",
       "2       9cfe9b259c3c4029a5d20e3542905d07ccf50d9a3bd4d7...      False  \n",
       "3                                                    None       True  \n",
       "4                                                    None       True  \n",
       "...                                                   ...        ...  \n",
       "576430  41ae0f916406434064aeb03d859a7141b53d2900394dca...      False  \n",
       "576431  a71936368619e41471e8aa88c44a73b24d3dec3fe1b9b6...      False  \n",
       "576432  c3eb53ea31db5ba124449624561969376aceb63297ce18...      False  \n",
       "576433  d4bb262e543866324b517cf4e294c77d270cfabe5d5f4f...      False  \n",
       "576434  4a2063eada9db11971c1264b28296cae1eaa133a395578...      False  \n",
       "\n",
       "[576435 rows x 10 columns]"
      ]
     },
     "execution_count": 39,
     "metadata": {},
     "output_type": "execute_result"
    }
   ],
   "source": [
    "testset_recommendation_df"
   ]
  },
  {
   "cell_type": "code",
   "execution_count": 44,
   "metadata": {},
   "outputs": [
    {
     "data": {
      "text/html": [
       "<div>\n",
       "<style scoped>\n",
       "    .dataframe tbody tr th:only-of-type {\n",
       "        vertical-align: middle;\n",
       "    }\n",
       "\n",
       "    .dataframe tbody tr th {\n",
       "        vertical-align: top;\n",
       "    }\n",
       "\n",
       "    .dataframe thead th {\n",
       "        text-align: right;\n",
       "    }\n",
       "</style>\n",
       "<table border=\"1\" class=\"dataframe\">\n",
       "  <thead>\n",
       "    <tr style=\"text-align: right;\">\n",
       "      <th></th>\n",
       "      <th>session_id_hash</th>\n",
       "      <th>query_vector</th>\n",
       "      <th>clicked_skus_hash</th>\n",
       "      <th>product_skus_hash</th>\n",
       "      <th>server_timestamp_epoch_ms</th>\n",
       "      <th>event_type</th>\n",
       "      <th>product_action</th>\n",
       "      <th>product_sku_hash</th>\n",
       "      <th>hashed_url</th>\n",
       "      <th>is_search</th>\n",
       "    </tr>\n",
       "  </thead>\n",
       "  <tbody>\n",
       "    <tr>\n",
       "      <th>0</th>\n",
       "      <td>000001cc2b6d024f5c1d93536c2f22e7adb3f390ff0212...</td>\n",
       "      <td>None</td>\n",
       "      <td>None</td>\n",
       "      <td>None</td>\n",
       "      <td>1557247655055</td>\n",
       "      <td>event_product</td>\n",
       "      <td>detail</td>\n",
       "      <td>bcec4bf55cb2f4db39c5879275c5ed222beb4b2594d4ad...</td>\n",
       "      <td>8b1bbbcf517f7a82d881a9bc3683043946b6b289f5afd7...</td>\n",
       "      <td>False</td>\n",
       "    </tr>\n",
       "    <tr>\n",
       "      <th>1</th>\n",
       "      <td>000064267054198e2f5744100c27111c0d0d585dd73e7e...</td>\n",
       "      <td>None</td>\n",
       "      <td>None</td>\n",
       "      <td>None</td>\n",
       "      <td>1556250432707</td>\n",
       "      <td>event_product</td>\n",
       "      <td>detail</td>\n",
       "      <td>e1d919d93793d553de030e9f6c7524a7db96f5b4596881...</td>\n",
       "      <td>45adb775d9cb21b5bb8632aca30776bc75eb87c8ee1fd8...</td>\n",
       "      <td>False</td>\n",
       "    </tr>\n",
       "    <tr>\n",
       "      <th>2</th>\n",
       "      <td>000064267054198e2f5744100c27111c0d0d585dd73e7e...</td>\n",
       "      <td>None</td>\n",
       "      <td>None</td>\n",
       "      <td>None</td>\n",
       "      <td>1556250466867</td>\n",
       "      <td>event_product</td>\n",
       "      <td>detail</td>\n",
       "      <td>9ce84651a32cf3e8bf5dd782f3664693b92403e7abc8d2...</td>\n",
       "      <td>a8edd7e105e2bc9be3ac8d5aa5737b1ad19d4de4459679...</td>\n",
       "      <td>False</td>\n",
       "    </tr>\n",
       "    <tr>\n",
       "      <th>3</th>\n",
       "      <td>0000976bb88afb92b355acdad71a8951472b1c611d31c4...</td>\n",
       "      <td>None</td>\n",
       "      <td>None</td>\n",
       "      <td>None</td>\n",
       "      <td>1556994791209</td>\n",
       "      <td>pageview</td>\n",
       "      <td>null</td>\n",
       "      <td>None</td>\n",
       "      <td>433b0e71df1fe9a8d1f45647545701f6108414c40eef76...</td>\n",
       "      <td>False</td>\n",
       "    </tr>\n",
       "    <tr>\n",
       "      <th>4</th>\n",
       "      <td>0000976bb88afb92b355acdad71a8951472b1c611d31c4...</td>\n",
       "      <td>None</td>\n",
       "      <td>None</td>\n",
       "      <td>None</td>\n",
       "      <td>1556994800476</td>\n",
       "      <td>pageview</td>\n",
       "      <td>null</td>\n",
       "      <td>None</td>\n",
       "      <td>199df805067b2151516282e63935b19a1845b93bf2ebbb...</td>\n",
       "      <td>False</td>\n",
       "    </tr>\n",
       "    <tr>\n",
       "      <th>...</th>\n",
       "      <td>...</td>\n",
       "      <td>...</td>\n",
       "      <td>...</td>\n",
       "      <td>...</td>\n",
       "      <td>...</td>\n",
       "      <td>...</td>\n",
       "      <td>...</td>\n",
       "      <td>...</td>\n",
       "      <td>...</td>\n",
       "      <td>...</td>\n",
       "    </tr>\n",
       "    <tr>\n",
       "      <th>1342646</th>\n",
       "      <td>ffff4ebcfe1a162ae0ee4d33c573fd373ffd09e3595295...</td>\n",
       "      <td>None</td>\n",
       "      <td>None</td>\n",
       "      <td>None</td>\n",
       "      <td>1557369241429</td>\n",
       "      <td>event_product</td>\n",
       "      <td>detail</td>\n",
       "      <td>527fe77d65a94b2994c6d5a4c0255804a7f11118e87033...</td>\n",
       "      <td>b09f7ea3d74c95acf0f548ba2d6419e24af56fe5aa36c5...</td>\n",
       "      <td>False</td>\n",
       "    </tr>\n",
       "    <tr>\n",
       "      <th>1342647</th>\n",
       "      <td>ffff4ebcfe1a162ae0ee4d33c573fd373ffd09e3595295...</td>\n",
       "      <td>None</td>\n",
       "      <td>None</td>\n",
       "      <td>None</td>\n",
       "      <td>1557369275425</td>\n",
       "      <td>event_product</td>\n",
       "      <td>detail</td>\n",
       "      <td>695ea038afc9ce9917ee7a5da11376187261e5b46aee6b...</td>\n",
       "      <td>5331d77a5d9afcdd593698bb2ac61c4a85f41c6f7645ab...</td>\n",
       "      <td>False</td>\n",
       "    </tr>\n",
       "    <tr>\n",
       "      <th>1342648</th>\n",
       "      <td>ffff4ebcfe1a162ae0ee4d33c573fd373ffd09e3595295...</td>\n",
       "      <td>None</td>\n",
       "      <td>None</td>\n",
       "      <td>None</td>\n",
       "      <td>1557369282615</td>\n",
       "      <td>event_product</td>\n",
       "      <td>detail</td>\n",
       "      <td>05f67e6804322bfdaf46caf04ef0be5386ec85d487e0db...</td>\n",
       "      <td>351b74fd01e1b7a5a77bf8c8b6786ae48dbb2401ed28bd...</td>\n",
       "      <td>False</td>\n",
       "    </tr>\n",
       "    <tr>\n",
       "      <th>1342649</th>\n",
       "      <td>ffff4ebcfe1a162ae0ee4d33c573fd373ffd09e3595295...</td>\n",
       "      <td>None</td>\n",
       "      <td>None</td>\n",
       "      <td>None</td>\n",
       "      <td>1557369290441</td>\n",
       "      <td>event_product</td>\n",
       "      <td>detail</td>\n",
       "      <td>2c9afec211078e452b88ee9997997c7cf1225efad9adf8...</td>\n",
       "      <td>5f683df0f7f46f055518baab8ab64561926245a87c1f9c...</td>\n",
       "      <td>False</td>\n",
       "    </tr>\n",
       "    <tr>\n",
       "      <th>1342650</th>\n",
       "      <td>ffffd984fd4393b2bd95dd812ab6f98af4cef5e99919b8...</td>\n",
       "      <td>None</td>\n",
       "      <td>None</td>\n",
       "      <td>None</td>\n",
       "      <td>1555935443983</td>\n",
       "      <td>event_product</td>\n",
       "      <td>detail</td>\n",
       "      <td>323316a23cc1d72aca21ccf66f67a3a3f41dbe225a153f...</td>\n",
       "      <td>90566b8d0f988d708f8dd8eaf5b8199227b561c868265f...</td>\n",
       "      <td>False</td>\n",
       "    </tr>\n",
       "  </tbody>\n",
       "</table>\n",
       "<p>1342651 rows × 10 columns</p>\n",
       "</div>"
      ],
      "text/plain": [
       "                                           session_id_hash query_vector  \\\n",
       "0        000001cc2b6d024f5c1d93536c2f22e7adb3f390ff0212...         None   \n",
       "1        000064267054198e2f5744100c27111c0d0d585dd73e7e...         None   \n",
       "2        000064267054198e2f5744100c27111c0d0d585dd73e7e...         None   \n",
       "3        0000976bb88afb92b355acdad71a8951472b1c611d31c4...         None   \n",
       "4        0000976bb88afb92b355acdad71a8951472b1c611d31c4...         None   \n",
       "...                                                    ...          ...   \n",
       "1342646  ffff4ebcfe1a162ae0ee4d33c573fd373ffd09e3595295...         None   \n",
       "1342647  ffff4ebcfe1a162ae0ee4d33c573fd373ffd09e3595295...         None   \n",
       "1342648  ffff4ebcfe1a162ae0ee4d33c573fd373ffd09e3595295...         None   \n",
       "1342649  ffff4ebcfe1a162ae0ee4d33c573fd373ffd09e3595295...         None   \n",
       "1342650  ffffd984fd4393b2bd95dd812ab6f98af4cef5e99919b8...         None   \n",
       "\n",
       "        clicked_skus_hash product_skus_hash  server_timestamp_epoch_ms  \\\n",
       "0                    None              None              1557247655055   \n",
       "1                    None              None              1556250432707   \n",
       "2                    None              None              1556250466867   \n",
       "3                    None              None              1556994791209   \n",
       "4                    None              None              1556994800476   \n",
       "...                   ...               ...                        ...   \n",
       "1342646              None              None              1557369241429   \n",
       "1342647              None              None              1557369275425   \n",
       "1342648              None              None              1557369282615   \n",
       "1342649              None              None              1557369290441   \n",
       "1342650              None              None              1555935443983   \n",
       "\n",
       "            event_type product_action  \\\n",
       "0        event_product         detail   \n",
       "1        event_product         detail   \n",
       "2        event_product         detail   \n",
       "3             pageview           null   \n",
       "4             pageview           null   \n",
       "...                ...            ...   \n",
       "1342646  event_product         detail   \n",
       "1342647  event_product         detail   \n",
       "1342648  event_product         detail   \n",
       "1342649  event_product         detail   \n",
       "1342650  event_product         detail   \n",
       "\n",
       "                                          product_sku_hash  \\\n",
       "0        bcec4bf55cb2f4db39c5879275c5ed222beb4b2594d4ad...   \n",
       "1        e1d919d93793d553de030e9f6c7524a7db96f5b4596881...   \n",
       "2        9ce84651a32cf3e8bf5dd782f3664693b92403e7abc8d2...   \n",
       "3                                                     None   \n",
       "4                                                     None   \n",
       "...                                                    ...   \n",
       "1342646  527fe77d65a94b2994c6d5a4c0255804a7f11118e87033...   \n",
       "1342647  695ea038afc9ce9917ee7a5da11376187261e5b46aee6b...   \n",
       "1342648  05f67e6804322bfdaf46caf04ef0be5386ec85d487e0db...   \n",
       "1342649  2c9afec211078e452b88ee9997997c7cf1225efad9adf8...   \n",
       "1342650  323316a23cc1d72aca21ccf66f67a3a3f41dbe225a153f...   \n",
       "\n",
       "                                                hashed_url  is_search  \n",
       "0        8b1bbbcf517f7a82d881a9bc3683043946b6b289f5afd7...      False  \n",
       "1        45adb775d9cb21b5bb8632aca30776bc75eb87c8ee1fd8...      False  \n",
       "2        a8edd7e105e2bc9be3ac8d5aa5737b1ad19d4de4459679...      False  \n",
       "3        433b0e71df1fe9a8d1f45647545701f6108414c40eef76...      False  \n",
       "4        199df805067b2151516282e63935b19a1845b93bf2ebbb...      False  \n",
       "...                                                    ...        ...  \n",
       "1342646  b09f7ea3d74c95acf0f548ba2d6419e24af56fe5aa36c5...      False  \n",
       "1342647  5331d77a5d9afcdd593698bb2ac61c4a85f41c6f7645ab...      False  \n",
       "1342648  351b74fd01e1b7a5a77bf8c8b6786ae48dbb2401ed28bd...      False  \n",
       "1342649  5f683df0f7f46f055518baab8ab64561926245a87c1f9c...      False  \n",
       "1342650  90566b8d0f988d708f8dd8eaf5b8199227b561c868265f...      False  \n",
       "\n",
       "[1342651 rows x 10 columns]"
      ]
     },
     "execution_count": 44,
     "metadata": {},
     "output_type": "execute_result"
    }
   ],
   "source": [
    "testset_recommendation_df2"
   ]
  }
 ],
 "metadata": {
  "kernelspec": {
   "display_name": "Python 3",
   "language": "python",
   "name": "python3"
  },
  "language_info": {
   "codemirror_mode": {
    "name": "ipython",
    "version": 3
   },
   "file_extension": ".py",
   "mimetype": "text/x-python",
   "name": "python",
   "nbconvert_exporter": "python",
   "pygments_lexer": "ipython3",
   "version": "3.7.9"
  }
 },
 "nbformat": 4,
 "nbformat_minor": 4
}
