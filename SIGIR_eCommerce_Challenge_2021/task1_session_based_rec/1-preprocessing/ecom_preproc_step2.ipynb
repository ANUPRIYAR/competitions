{
 "cells": [
  {
   "cell_type": "code",
   "execution_count": null,
   "metadata": {},
   "outputs": [],
   "source": [
    "#\n",
    "# The MIT License (MIT)\n",
    "\n",
    "# Copyright (c) 2021, NVIDIA CORPORATION\n",
    "\n",
    "# Permission is hereby granted, free of charge, to any person obtaining a copy of\n",
    "# this software and associated documentation files (the \"Software\"), to deal in\n",
    "# the Software without restriction, including without limitation the rights to\n",
    "# use, copy, modify, merge, publish, distribute, sublicense, and/or sell copies of\n",
    "# the Software, and to permit persons to whom the Software is furnished to do so,\n",
    "# subject to the following conditions:\n",
    "\n",
    "# The above copyright notice and this permission notice shall be included in all\n",
    "# copies or substantial portions of the Software.\n",
    "\n",
    "# THE SOFTWARE IS PROVIDED \"AS IS\", WITHOUT WARRANTY OF ANY KIND, EXPRESS OR\n",
    "# IMPLIED, INCLUDING BUT NOT LIMITED TO THE WARRANTIES OF MERCHANTABILITY, FITNESS\n",
    "# FOR A PARTICULAR PURPOSE AND NONINFRINGEMENT. IN NO EVENT SHALL THE AUTHORS OR\n",
    "# COPYRIGHT HOLDERS BE LIABLE FOR ANY CLAIM, DAMAGES OR OTHER LIABILITY, WHETHER\n",
    "# IN AN ACTION OF CONTRACT, TORT OR OTHERWISE, ARISING FROM, OUT OF OR IN\n",
    "# CONNECTION WITH THE SOFTWARE OR THE USE OR OTHER DEALINGS IN THE SOFTWARE.\n",
    "#"
   ]
  },
  {
   "cell_type": "code",
   "execution_count": 1,
   "metadata": {},
   "outputs": [],
   "source": [
    "import pandas as pd\n",
    "import numpy as np\n",
    "import cudf\n",
    "import os\n",
    "from tqdm import tqdm\n",
    "from pyarrow.parquet import ParquetFile\n",
    "import pickle"
   ]
  },
  {
   "cell_type": "code",
   "execution_count": 2,
   "metadata": {},
   "outputs": [],
   "source": [
    "DATA_PATH = '/workspace/coveo_task1_v4'\n",
    "FOLDS = 5\n",
    "MAX_SESSION_LENGTH = 30\n",
    "MAX_LENGTH_FOR_F1 = 20\n",
    "ROW_GROUP_SIZE = 10000\n",
    "MAX_QUERIES_PER_SESSION = 10\n",
    "MAX_QUERY_CLICKS_PER_SESSION = 10\n",
    "QUERY_VECTOR_DIM = 50"
   ]
  },
  {
   "cell_type": "code",
   "execution_count": 3,
   "metadata": {},
   "outputs": [],
   "source": [
    "SEQ_COLS = ['product_url_hash_list', 'has_been_removed_from_cart-list',\n",
    "       'has_been_added_to_cart-list', 'has_been_purchased-list',\n",
    "       'has_been_detailed-list', 'event_type-list',\n",
    "       'product_action_filled-list', 'nb_interactions-list',\n",
    "       'category_hash-list', 'main_category-list', 'price_bucket-list',\n",
    "       'mean_price_hierarchy-list', 'mean_price_main-list',\n",
    "       'timestamp_hour_cos-list',\n",
    "       'timestamp_hour_sin-list', 'timestamp_wd_sin-list',\n",
    "       'timestamp_wd_cos-list', 'timestamp_age_days-list',\n",
    "       'timestamp_age_days_norm-list']"
   ]
  },
  {
   "cell_type": "code",
   "execution_count": 4,
   "metadata": {},
   "outputs": [],
   "source": [
    "SEARCH_COLS = ['flat_query_vector', 'flat_product_skus_hash', \n",
    "               'flat_clicked_skus_hash', 'impressions_size',  'nb_queries', 'clicks_size', 'clicked-flag' ]"
   ]
  },
  {
   "cell_type": "code",
   "execution_count": 5,
   "metadata": {},
   "outputs": [
    {
     "data": {
      "text/html": [
       "<div>\n",
       "<style scoped>\n",
       "    .dataframe tbody tr th:only-of-type {\n",
       "        vertical-align: middle;\n",
       "    }\n",
       "\n",
       "    .dataframe tbody tr th {\n",
       "        vertical-align: top;\n",
       "    }\n",
       "\n",
       "    .dataframe thead th {\n",
       "        text-align: right;\n",
       "    }\n",
       "</style>\n",
       "<table border=\"1\" class=\"dataframe\">\n",
       "  <thead>\n",
       "    <tr style=\"text-align: right;\">\n",
       "      <th></th>\n",
       "      <th>event_type</th>\n",
       "      <th>event_type_count</th>\n",
       "    </tr>\n",
       "  </thead>\n",
       "  <tbody>\n",
       "    <tr>\n",
       "      <th>0</th>\n",
       "      <td>None</td>\n",
       "      <td>0</td>\n",
       "    </tr>\n",
       "    <tr>\n",
       "      <th>1</th>\n",
       "      <td>event_product</td>\n",
       "      <td>8351362</td>\n",
       "    </tr>\n",
       "    <tr>\n",
       "      <th>2</th>\n",
       "      <td>pageview</td>\n",
       "      <td>14878349</td>\n",
       "    </tr>\n",
       "    <tr>\n",
       "      <th>3</th>\n",
       "      <td>search</td>\n",
       "      <td>273792</td>\n",
       "    </tr>\n",
       "  </tbody>\n",
       "</table>\n",
       "</div>"
      ],
      "text/plain": [
       "      event_type  event_type_count\n",
       "0           None                 0\n",
       "1  event_product           8351362\n",
       "2       pageview          14878349\n",
       "3         search            273792"
      ]
     },
     "execution_count": 5,
     "metadata": {},
     "output_type": "execute_result"
    }
   ],
   "source": [
    "# To check the id of product events and page views, which is important info for our preproc and training\n",
    "event_type_df = pd.read_parquet(os.path.join(DATA_PATH, 'categories/unique.event_type.parquet'))\n",
    "event_type_df"
   ]
  },
  {
   "cell_type": "code",
   "execution_count": 6,
   "metadata": {},
   "outputs": [
    {
     "data": {
      "text/plain": [
       "1"
      ]
     },
     "execution_count": 6,
     "metadata": {},
     "output_type": "execute_result"
    }
   ],
   "source": [
    "EVENT_TYPE_PRODUCT = event_type_df[event_type_df['event_type'] == 'event_product'].index[0]\n",
    "EVENT_TYPE_PRODUCT"
   ]
  },
  {
   "cell_type": "code",
   "execution_count": 7,
   "metadata": {},
   "outputs": [
    {
     "data": {
      "text/html": [
       "<div>\n",
       "<style scoped>\n",
       "    .dataframe tbody tr th:only-of-type {\n",
       "        vertical-align: middle;\n",
       "    }\n",
       "\n",
       "    .dataframe tbody tr th {\n",
       "        vertical-align: top;\n",
       "    }\n",
       "\n",
       "    .dataframe thead th {\n",
       "        text-align: right;\n",
       "    }\n",
       "</style>\n",
       "<table border=\"1\" class=\"dataframe\">\n",
       "  <thead>\n",
       "    <tr style=\"text-align: right;\">\n",
       "      <th></th>\n",
       "      <th>product_url_hash</th>\n",
       "    </tr>\n",
       "  </thead>\n",
       "  <tbody>\n",
       "    <tr>\n",
       "      <th>0</th>\n",
       "      <td>None</td>\n",
       "    </tr>\n",
       "    <tr>\n",
       "      <th>1</th>\n",
       "      <td>000030cd61db73a62d77d1bcb125d056cd1597002157a7...</td>\n",
       "    </tr>\n",
       "    <tr>\n",
       "      <th>2</th>\n",
       "      <td>000041873101672ca69cca675690d55359edb48a0646d0...</td>\n",
       "    </tr>\n",
       "    <tr>\n",
       "      <th>3</th>\n",
       "      <td>000082c13a39a85caafc0b435f37b8cccb3aa3b0c63d56...</td>\n",
       "    </tr>\n",
       "    <tr>\n",
       "      <th>4</th>\n",
       "      <td>0000afb33216a9250c473b0947ec868e56b835428a17d5...</td>\n",
       "    </tr>\n",
       "    <tr>\n",
       "      <th>...</th>\n",
       "      <td>...</td>\n",
       "    </tr>\n",
       "    <tr>\n",
       "      <th>508159</th>\n",
       "      <td>ffff30bd98877992cb2e4b7d2d74bc28c098b009e03ea8...</td>\n",
       "    </tr>\n",
       "    <tr>\n",
       "      <th>508160</th>\n",
       "      <td>ffff42b4e6f8f2ce03fef362723669d566f62d93339418...</td>\n",
       "    </tr>\n",
       "    <tr>\n",
       "      <th>508161</th>\n",
       "      <td>ffff8470067b395ca714a48f34ac523d32b4aefde1e9a9...</td>\n",
       "    </tr>\n",
       "    <tr>\n",
       "      <th>508162</th>\n",
       "      <td>ffffe31ef79fb330d6a6624a13f37dc623172b960aab79...</td>\n",
       "    </tr>\n",
       "    <tr>\n",
       "      <th>508163</th>\n",
       "      <td>missing</td>\n",
       "    </tr>\n",
       "  </tbody>\n",
       "</table>\n",
       "<p>508164 rows × 1 columns</p>\n",
       "</div>"
      ],
      "text/plain": [
       "                                         product_url_hash\n",
       "0                                                    None\n",
       "1       000030cd61db73a62d77d1bcb125d056cd1597002157a7...\n",
       "2       000041873101672ca69cca675690d55359edb48a0646d0...\n",
       "3       000082c13a39a85caafc0b435f37b8cccb3aa3b0c63d56...\n",
       "4       0000afb33216a9250c473b0947ec868e56b835428a17d5...\n",
       "...                                                   ...\n",
       "508159  ffff30bd98877992cb2e4b7d2d74bc28c098b009e03ea8...\n",
       "508160  ffff42b4e6f8f2ce03fef362723669d566f62d93339418...\n",
       "508161  ffff8470067b395ca714a48f34ac523d32b4aefde1e9a9...\n",
       "508162  ffffe31ef79fb330d6a6624a13f37dc623172b960aab79...\n",
       "508163                                            missing\n",
       "\n",
       "[508164 rows x 1 columns]"
      ]
     },
     "execution_count": 7,
     "metadata": {},
     "output_type": "execute_result"
    }
   ],
   "source": [
    "product_url_mapping = pd.read_parquet(os.path.join(DATA_PATH, 'categories/unique.product_url_hash.parquet'))\n",
    "product_url_mapping"
   ]
  },
  {
   "cell_type": "markdown",
   "metadata": {},
   "source": [
    "## Checking categorical features cardinalities"
   ]
  },
  {
   "cell_type": "code",
   "execution_count": 12,
   "metadata": {},
   "outputs": [
    {
     "name": "stdout",
     "output_type": "stream",
     "text": [
      "unique.product_action_filled.parquet 7\n",
      "unique.price_bucket.parquet 11\n",
      "unique.product_url_hash.parquet 508164\n",
      "unique.hashed_url.parquet 510101\n",
      "unique.main_category.parquet 10\n",
      "mapping_product_sku_without_urls.parquet 60560\n",
      "unique.session_id_hash.parquet 5266973\n",
      "unique.event_type.parquet 4\n",
      "unique.category_hash.parquet 174\n",
      "unique.product_sku_hash.parquet 59752\n"
     ]
    }
   ],
   "source": [
    "categories_mapping_path = os.path.join(DATA_PATH, 'categories')\n",
    "for fname in os.listdir(categories_mapping_path):\n",
    "    df = pd.read_parquet(os.path.join(categories_mapping_path, fname))\n",
    "    print(fname, df.index.max()+1)"
   ]
  },
  {
   "cell_type": "markdown",
   "metadata": {},
   "source": [
    "## Processing validation set for training and evaluation"
   ]
  },
  {
   "cell_type": "code",
   "execution_count": 13,
   "metadata": {},
   "outputs": [],
   "source": [
    "def process_search_features(df, impressions_size_moments, clicks_size_moments):\n",
    "    #Truncating\n",
    "    df['flat_clicked_skus_hash_trunc'] = df['flat_clicked_skus_hash'].apply(lambda x: x[-MAX_QUERY_CLICKS_PER_SESSION:])\n",
    "    df['flat_query_vector_trunc'] = df['flat_query_vector'].apply(lambda x: x[-MAX_QUERIES_PER_SESSION*QUERY_VECTOR_DIM:])\n",
    "    #Truncating and apply standardization to impressions_size and clicks_size\n",
    "    df['impressions_size_trunc_norm'] = df['impressions_size'] \\\n",
    "            .apply(lambda x: [(y-impressions_size_moments['mean']) / impressions_size_moments['std'] for y in x[-MAX_QUERIES_PER_SESSION:]])\n",
    "    df['clicks_size_trunc_norm'] = df['clicks_size'] \\\n",
    "            .apply(lambda x: [(y-clicks_size_moments['mean']) / clicks_size_moments['std'] for y in x[-MAX_QUERIES_PER_SESSION:]])\n",
    "    return df"
   ]
  },
  {
   "cell_type": "code",
   "execution_count": 14,
   "metadata": {},
   "outputs": [],
   "source": [
    "def keep_only_first_item_interaction(values):\n",
    "    result = []\n",
    "    for v in values:\n",
    "        if v not in result:\n",
    "            result.append(v)\n",
    "    return result"
   ]
  },
  {
   "cell_type": "code",
   "execution_count": 15,
   "metadata": {},
   "outputs": [],
   "source": [
    "def process_valid_sessions_for_train(path):\n",
    "    df = pd.read_parquet(path)\n",
    "    \n",
    "    #Truncating validation sessions, keeping the end\n",
    "    for col in SEQ_COLS:\n",
    "        df[col] = df[col].apply(lambda x: x[-MAX_SESSION_LENGTH:])\n",
    "\n",
    "    return df"
   ]
  },
  {
   "cell_type": "code",
   "execution_count": 16,
   "metadata": {},
   "outputs": [],
   "source": [
    "def process_valid_sessions_for_eval(path):\n",
    "    df = pd.read_parquet(path)    \n",
    "    #Filling nulls to make validation set compatible with train and test sets (temporary)\n",
    "    #df['product_sku_hash_list'] = df['product_sku_hash_list'].apply(lambda d: d if d is not None else [])\n",
    "    \n",
    "    session_items_eval_df = pd.DataFrame(df[['product_url_hash_list', 'event_type-list']])\n",
    "    # Reserving the last session items for validation (labels)\n",
    "    sessions_product_skus = []\n",
    "    for idx, row in session_items_eval_df[['product_url_hash_list', 'event_type-list']].iterrows():\n",
    "        # Keeping only product sku events in the labels (removing page views form labels)\n",
    "        session_product_skus = list(map(lambda y: y[0], filter(lambda x: x[1] == EVENT_TYPE_PRODUCT, \n",
    "                                              zip(row['product_url_hash_list'][-(len(row['product_url_hash_list'])//2):], \n",
    "                                                  row['event_type-list'][-(len(row['product_url_hash_list'])//2):]))))\n",
    "        # Removing from the labels items that appear in the first half of the session (keep only the unseen ones)\n",
    "        # and also removing repeated items in the labels\n",
    "        session_beginning = row['product_url_hash_list'][:-(len(row['product_url_hash_list'])//2)][-MAX_SESSION_LENGTH:]\n",
    "        session_product_skus = keep_only_first_item_interaction([item for item in session_product_skus if item not in session_beginning]) \\\n",
    "                                [:MAX_LENGTH_FOR_F1]\n",
    "        sessions_product_skus.append(session_product_skus)        \n",
    "    session_items_eval_df['labels'] = sessions_product_skus\n",
    "    del(session_items_eval_df['product_url_hash_list'])\n",
    "    del(session_items_eval_df['event_type-list'])\n",
    "\n",
    "    #Keeps in the validation set only those that have at least one label\n",
    "    valid_labels_mask = session_items_eval_df['labels'].apply(len).astype(bool)\n",
    "    session_items_eval_df = session_items_eval_df[valid_labels_mask]\n",
    "    df = df[valid_labels_mask]\n",
    "    \n",
    "    # Eliminating the reserved items for validation for the input features \n",
    "    # and keeping the last MAX_SESSION_LENGTH interactions of the sessions for inference\n",
    "    for col in SEQ_COLS:\n",
    "        df[col] = df[col].apply(lambda x: x[:-(len(x)//2)][-MAX_SESSION_LENGTH:])\n",
    "    return df, session_items_eval_df"
   ]
  },
  {
   "cell_type": "code",
   "execution_count": 17,
   "metadata": {},
   "outputs": [],
   "source": [
    "def get_num_row_groups(path):\n",
    "    return ParquetFile(path).num_row_groups"
   ]
  },
  {
   "cell_type": "code",
   "execution_count": 18,
   "metadata": {},
   "outputs": [
    {
     "name": "stdout",
     "output_type": "stream",
     "text": [
      "Fold 1\n",
      "Train set - impressions_size_moments {'mean': 2.709584751920021, 'std': 7.352337650808475}  - clicks_size_moments {'mean': 0.10859004928207908, 'std': 1.5545850842091755}\n",
      "- train (row groups) 56\n",
      "- test (row groups) 7\n",
      "- valid-train (row groups) 12\n",
      "Fold 2\n",
      "Train set - impressions_size_moments {'mean': 2.7371175847315548, 'std': 7.38135499810115}  - clicks_size_moments {'mean': 0.11366166391716627, 'std': 1.572499360648172}\n",
      "- train (row groups) 56\n",
      "- test (row groups) 7\n",
      "- valid-train (row groups) 12\n",
      "Fold 3\n",
      "Train set - impressions_size_moments {'mean': 2.758913523712323, 'std': 7.4101361314168015}  - clicks_size_moments {'mean': 0.11233557822078681, 'std': 1.2762469689320457}\n",
      "- train (row groups) 56\n",
      "- test (row groups) 7\n",
      "- valid-train (row groups) 12\n",
      "Fold 4\n",
      "Train set - impressions_size_moments {'mean': 2.7527935422468186, 'std': 7.400888641299158}  - clicks_size_moments {'mean': 0.11178701097274188, 'std': 1.2905269307050415}\n",
      "- train (row groups) 56\n",
      "- test (row groups) 7\n",
      "- valid-train (row groups) 12\n",
      "Fold 5\n",
      "Train set - impressions_size_moments {'mean': 2.7368905398562244, 'std': 7.381320859648553}  - clicks_size_moments {'mean': 0.1083060368540324, 'std': 1.4392853331095565}\n",
      "- train (row groups) 56\n",
      "- test (row groups) 7\n",
      "- valid-train (row groups) 12\n"
     ]
    }
   ],
   "source": [
    "for fold in range(1,FOLDS+1):\n",
    "    print(f\"Fold {fold}\")\n",
    "    \n",
    "    #Ensuring parquet files are split into more row groups\n",
    "    train_path = os.path.join(DATA_PATH, f'train-{fold}.parquet')\n",
    "    train_df = pd.read_parquet(train_path)\n",
    "        \n",
    "    impressions_size_moments = train_df[['impressions_size']].explode('impressions_size').agg(['mean', 'std'])['impressions_size'].to_dict()\n",
    "    \n",
    "    # Filling null clicks_size\n",
    "    train_df.loc[train_df['clicks_size'].isna(), 'clicks_size'] = train_df[train_df['clicks_size'].isna()]['impressions_size']\n",
    "    clicks_size_moments = train_df[['clicks_size']].explode('clicks_size').agg(['mean', 'std'])['clicks_size'].to_dict()    \n",
    "    print('Train set - impressions_size_moments', impressions_size_moments, ' - clicks_size_moments', clicks_size_moments)\n",
    "    train_df = process_search_features(train_df, impressions_size_moments, clicks_size_moments)\n",
    "\n",
    "    train_df.to_parquet(train_path, row_group_size=ROW_GROUP_SIZE)    \n",
    "    print(\"- train (row groups)\", get_num_row_groups(train_path))\n",
    "    test_path = os.path.join(DATA_PATH, f'test-{fold}.parquet')\n",
    "    test_df = pd.read_parquet(test_path)\n",
    "    # Filling null clicks_size\n",
    "    test_df.loc[test_df['clicks_size'].isna(), 'clicks_size'] = test_df[test_df['clicks_size'].isna()]['impressions_size']\n",
    "    test_df = process_search_features(test_df, impressions_size_moments, clicks_size_moments)\n",
    "    test_df.to_parquet(test_path, row_group_size=ROW_GROUP_SIZE)\n",
    "    print(\"- test (row groups)\", get_num_row_groups(test_path))\n",
    "    \n",
    "    #Processing validation set\n",
    "    # - valid-train: truncate the begining of sessions up to length 30\n",
    "    # - valid-eval: keeps the first half of the session for inference\n",
    "    # - valid-eval-labels keeps the second half of the session (only product skus -> labels)\n",
    "    valid_path = os.path.join(DATA_PATH, f'valid-{fold}.parquet')\n",
    "    valid_sessions_for_train_df = process_valid_sessions_for_train(valid_path)\n",
    "    # Filling null clicks_size\n",
    "    valid_sessions_for_train_df.loc[valid_sessions_for_train_df['clicks_size'].isna(), 'clicks_size'] = valid_sessions_for_train_df[valid_sessions_for_train_df['clicks_size'].isna()]['impressions_size']\n",
    "    valid_sessions_for_train_df = process_search_features(valid_sessions_for_train_df, impressions_size_moments, clicks_size_moments)\n",
    "    #Just to ensure the dtypes are the same for all datasets\n",
    "    #sessions_for_train_cdf['product_sku_hash_count'] = sessions_for_train_cdf['product_sku_hash_count'].astype('int32')\n",
    "    valid_train_path = os.path.join(DATA_PATH, f\"valid-train-{fold}.parquet\")\n",
    "    valid_sessions_for_train_df.to_parquet(valid_train_path, row_group_size=ROW_GROUP_SIZE)\n",
    "    print(\"- valid-train (row groups)\", get_num_row_groups(valid_train_path))\n",
    "    \n",
    "    valid_sessions_for_eval_df, valid_sessions_for_eval_label_df = process_valid_sessions_for_eval(valid_path)\n",
    "    # Filling null clicks_size\n",
    "    valid_sessions_for_eval_df.loc[valid_sessions_for_eval_df['clicks_size'].isna(), 'clicks_size'] = valid_sessions_for_eval_df[valid_sessions_for_eval_df['clicks_size'].isna()]['impressions_size']\n",
    "    valid_sessions_for_eval_df = process_search_features(valid_sessions_for_eval_df, impressions_size_moments, clicks_size_moments)\n",
    "    valid_sessions_for_eval_df.to_parquet(os.path.join(DATA_PATH, f\"valid-eval-{fold}.parquet\"), row_group_size=ROW_GROUP_SIZE)\n",
    "    valid_sessions_for_eval_label_df.to_parquet(os.path.join(DATA_PATH, f\"valid-eval-labels-{fold}.parquet\"), row_group_size=ROW_GROUP_SIZE)"
   ]
  },
  {
   "cell_type": "code",
   "execution_count": 21,
   "metadata": {},
   "outputs": [
    {
     "data": {
      "text/plain": [
       "115004"
      ]
     },
     "execution_count": 21,
     "metadata": {},
     "output_type": "execute_result"
    }
   ],
   "source": [
    "len(valid_sessions_for_train_df)"
   ]
  },
  {
   "cell_type": "code",
   "execution_count": 22,
   "metadata": {},
   "outputs": [
    {
     "data": {
      "text/plain": [
       "61459"
      ]
     },
     "execution_count": 22,
     "metadata": {},
     "output_type": "execute_result"
    }
   ],
   "source": [
    "len(valid_sessions_for_eval_df)"
   ]
  },
  {
   "cell_type": "code",
   "execution_count": 27,
   "metadata": {},
   "outputs": [
    {
     "data": {
      "text/plain": [
       "Index(['session_id_hash', 'day_index', 'product_sku_hash_count',\n",
       "       'product_sku_hash_list', 'product_url_hash_count',\n",
       "       'product_url_hash_list', 'has_been_removed_from_cart-list',\n",
       "       'has_been_added_to_cart-list', 'has_been_purchased-list',\n",
       "       'has_been_detailed-list', 'has_been_clicked-list', 'event_type-list',\n",
       "       'product_action_filled-list', 'nb_interactions-list',\n",
       "       'category_hash-list', 'main_category-list', 'price_bucket-list',\n",
       "       'mean_price_hierarchy-list', 'mean_price_main-list', 'ts-first',\n",
       "       'ts-last', 'ts-list', 'timestamp_hour_cos-list',\n",
       "       'timestamp_hour_sin-list', 'timestamp_wd_sin-list',\n",
       "       'timestamp_wd_cos-list', 'timestamp_age_days-list',\n",
       "       'timestamp_age_days_norm-list', 'is_test-last', 'fold', 'is_valid',\n",
       "       'original_session_id_hash', 'flat_query_vector',\n",
       "       'flat_product_skus_hash', 'flat_clicked_skus_hash', 'impressions_size',\n",
       "       'clicks_size', 'nb_queries', 'clicked-flag',\n",
       "       'flat_clicked_skus_hash_trunc', 'flat_query_vector_trunc',\n",
       "       'impressions_size_trunc_norm', 'clicks_size_trunc_norm'],\n",
       "      dtype='object')"
      ]
     },
     "execution_count": 27,
     "metadata": {},
     "output_type": "execute_result"
    }
   ],
   "source": [
    "valid_sessions_for_train_df.columns"
   ]
  },
  {
   "cell_type": "code",
   "execution_count": 31,
   "metadata": {},
   "outputs": [
    {
     "data": {
      "text/plain": [
       "count    115004.000000\n",
       "mean          5.736009\n",
       "std           5.699338\n",
       "min           2.000000\n",
       "25%           2.000000\n",
       "50%           4.000000\n",
       "75%           7.000000\n",
       "max          30.000000\n",
       "Name: product_url_hash_list, dtype: float64"
      ]
     },
     "execution_count": 31,
     "metadata": {},
     "output_type": "execute_result"
    }
   ],
   "source": [
    "valid_sessions_for_train_df['product_url_hash_list'].apply(len).describe()"
   ]
  },
  {
   "cell_type": "code",
   "execution_count": 32,
   "metadata": {},
   "outputs": [
    {
     "data": {
      "text/plain": [
       "count    61459.000000\n",
       "mean         4.044078\n",
       "std          4.209953\n",
       "min          1.000000\n",
       "25%          1.000000\n",
       "50%          3.000000\n",
       "75%          5.000000\n",
       "max         30.000000\n",
       "Name: product_url_hash_list, dtype: float64"
      ]
     },
     "execution_count": 32,
     "metadata": {},
     "output_type": "execute_result"
    }
   ],
   "source": [
    "valid_sessions_for_eval_df['product_url_hash_list'].apply(len).describe()"
   ]
  },
  {
   "cell_type": "code",
   "execution_count": 33,
   "metadata": {},
   "outputs": [
    {
     "data": {
      "text/plain": [
       "count    61459.000000\n",
       "mean         1.697896\n",
       "std          1.573882\n",
       "min          1.000000\n",
       "25%          1.000000\n",
       "50%          1.000000\n",
       "75%          2.000000\n",
       "max         20.000000\n",
       "Name: labels, dtype: float64"
      ]
     },
     "execution_count": 33,
     "metadata": {},
     "output_type": "execute_result"
    }
   ],
   "source": [
    "valid_sessions_for_eval_label_df['labels'].apply(len).describe()"
   ]
  },
  {
   "cell_type": "markdown",
   "metadata": {},
   "source": [
    "## Merging test set in a single file"
   ]
  },
  {
   "cell_type": "code",
   "execution_count": 34,
   "metadata": {
    "scrolled": false
   },
   "outputs": [
    {
     "name": "stdout",
     "output_type": "stream",
     "text": [
      "Fold 1\n",
      "Sessions with 0s in product_url_hash_list: 0\n",
      "Fold 2\n",
      "Sessions with 0s in product_url_hash_list: 0\n",
      "Fold 3\n",
      "Sessions with 0s in product_url_hash_list: 0\n",
      "Fold 4\n",
      "Sessions with 0s in product_url_hash_list: 0\n",
      "Fold 5\n",
      "Sessions with 0s in product_url_hash_list: 0\n"
     ]
    }
   ],
   "source": [
    "tests_folds = []\n",
    "for fold in range(1,FOLDS+1):\n",
    "    print(f\"Fold {fold}\")\n",
    "    test_df = pd.read_parquet(os.path.join(DATA_PATH, f'test-{fold}.parquet'))\n",
    "    \n",
    "    print(\"Sessions with 0s in product_url_hash_list: {}\".format(test_df['product_url_hash_list'].apply(lambda x: 0 in x).sum()))\n",
    "    \n",
    "    tests_folds.append(test_df)\n",
    "    \n",
    "#tests_full_df = cudf.concat(tests_folds)    \n",
    "tests_full_df = pd.concat(tests_folds)    \n",
    "# Save to parquet\n",
    "tests_full_df.to_parquet(os.path.join(DATA_PATH, f\"test-full.parquet\"), row_group_size=ROW_GROUP_SIZE)"
   ]
  },
  {
   "cell_type": "markdown",
   "metadata": {},
   "source": [
    "### Checking test sets"
   ]
  },
  {
   "cell_type": "code",
   "execution_count": 35,
   "metadata": {},
   "outputs": [
    {
     "name": "stdout",
     "output_type": "stream",
     "text": [
      "332247\n"
     ]
    }
   ],
   "source": [
    "print(len(tests_full_df))"
   ]
  },
  {
   "cell_type": "code",
   "execution_count": 37,
   "metadata": {},
   "outputs": [
    {
     "name": "stdout",
     "output_type": "stream",
     "text": [
      "332247\n"
     ]
    }
   ],
   "source": [
    "import json\n",
    "with open(os.path.join(DATA_PATH, 'rec_test_phase_2.json')) as json_file:\n",
    "    test_queries = json.load(json_file)\n",
    "    testset_recommendation_df = pd.json_normalize(test_queries, 'query')\n",
    "    print(testset_recommendation_df['session_id_hash'].nunique())"
   ]
  },
  {
   "cell_type": "code",
   "execution_count": 38,
   "metadata": {},
   "outputs": [],
   "source": [
    "assert testset_recommendation_df['session_id_hash'].nunique() == len(tests_full_df)"
   ]
  },
  {
   "cell_type": "code",
   "execution_count": 39,
   "metadata": {},
   "outputs": [
    {
     "data": {
      "text/plain": [
       "set()"
      ]
     },
     "execution_count": 39,
     "metadata": {},
     "output_type": "execute_result"
    }
   ],
   "source": [
    "set(tests_full_df['original_session_id_hash'].values).difference(set(testset_recommendation_df['session_id_hash'].values))"
   ]
  },
  {
   "cell_type": "code",
   "execution_count": 40,
   "metadata": {},
   "outputs": [
    {
     "data": {
      "text/plain": [
       "set()"
      ]
     },
     "execution_count": 40,
     "metadata": {},
     "output_type": "execute_result"
    }
   ],
   "source": [
    "set(testset_recommendation_df['session_id_hash'].values).difference(set(tests_full_df['original_session_id_hash'].values))"
   ]
  }
 ],
 "metadata": {
  "kernelspec": {
   "display_name": "Python 3",
   "language": "python",
   "name": "python3"
  },
  "language_info": {
   "codemirror_mode": {
    "name": "ipython",
    "version": 3
   },
   "file_extension": ".py",
   "mimetype": "text/x-python",
   "name": "python",
   "nbconvert_exporter": "python",
   "pygments_lexer": "ipython3",
   "version": "3.7.9"
  }
 },
 "nbformat": 4,
 "nbformat_minor": 4
}
