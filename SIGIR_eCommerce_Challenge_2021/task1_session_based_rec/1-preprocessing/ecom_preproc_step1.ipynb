{
 "cells": [
  {
   "cell_type": "code",
   "execution_count": 1,
   "metadata": {},
   "outputs": [],
   "source": [
    "#\n",
    "# The MIT License (MIT)\n",
    "\n",
    "# Copyright (c) 2021, NVIDIA CORPORATION\n",
    "\n",
    "# Permission is hereby granted, free of charge, to any person obtaining a copy of\n",
    "# this software and associated documentation files (the \"Software\"), to deal in\n",
    "# the Software without restriction, including without limitation the rights to\n",
    "# use, copy, modify, merge, publish, distribute, sublicense, and/or sell copies of\n",
    "# the Software, and to permit persons to whom the Software is furnished to do so,\n",
    "# subject to the following conditions:\n",
    "\n",
    "# The above copyright notice and this permission notice shall be included in all\n",
    "# copies or substantial portions of the Software.\n",
    "\n",
    "# THE SOFTWARE IS PROVIDED \"AS IS\", WITHOUT WARRANTY OF ANY KIND, EXPRESS OR\n",
    "# IMPLIED, INCLUDING BUT NOT LIMITED TO THE WARRANTIES OF MERCHANTABILITY, FITNESS\n",
    "# FOR A PARTICULAR PURPOSE AND NONINFRINGEMENT. IN NO EVENT SHALL THE AUTHORS OR\n",
    "# COPYRIGHT HOLDERS BE LIABLE FOR ANY CLAIM, DAMAGES OR OTHER LIABILITY, WHETHER\n",
    "# IN AN ACTION OF CONTRACT, TORT OR OTHERWISE, ARISING FROM, OUT OF OR IN\n",
    "# CONNECTION WITH THE SOFTWARE OR THE USE OR OTHER DEALINGS IN THE SOFTWARE.\n",
    "#"
   ]
  },
  {
   "cell_type": "code",
   "execution_count": 2,
   "metadata": {},
   "outputs": [],
   "source": [
    "import os\n",
    "import pandas as pd\n",
    "import numpy as np\n",
    "from tqdm import tqdm\n",
    "tqdm.pandas()\n",
    "import cudf\n",
    "import cupy\n",
    "import nvtabular as nvt\n",
    "import json"
   ]
  },
  {
   "cell_type": "code",
   "execution_count": 2,
   "metadata": {},
   "outputs": [
    {
     "data": {
      "text/plain": [
       "'0.5.1+37.g6c2de9b'"
      ]
     },
     "execution_count": 2,
     "metadata": {},
     "output_type": "execute_result"
    }
   ],
   "source": [
    "nvt.__version__"
   ]
  },
  {
   "cell_type": "code",
   "execution_count": 3,
   "metadata": {},
   "outputs": [
    {
     "name": "stdout",
     "output_type": "stream",
     "text": [
      "/workspace/browsing_train.csv\n"
     ]
    }
   ],
   "source": [
    "DATA_FOLDER = \"/workspace/\"\n",
    "FILENAME_PATTERN_BROWSING = 'browsing_train.csv'\n",
    "FILENAME_PATTERN_SEARCH = 'search_train.csv'\n",
    "DATA_PATH_BROWSING = os.path.join(DATA_FOLDER, FILENAME_PATTERN_BROWSING)\n",
    "DATA_PATH_SEARCH = os.path.join(DATA_FOLDER, FILENAME_PATTERN_SEARCH)\n",
    "OUTPUT_DIR = \"/workspace/coveo_task1_v4\"\n",
    "!ls $DATA_PATH_BROWSING"
   ]
  },
  {
   "cell_type": "code",
   "execution_count": 4,
   "metadata": {},
   "outputs": [],
   "source": [
    "MINIMUM_SESSION_LENGTH = 2"
   ]
  },
  {
   "cell_type": "markdown",
   "metadata": {},
   "source": [
    "**5 steps: each section is independant and create different parquet files:**\n",
    "\n",
    "   - Pandas processing: <a href ='#pandas_proc'> Section 1 </a> \n",
    "       - <a href='#search_table'>Section 1.1</a>:  Process search table and create session_search table that groups query vectors and impressions seen/clicked within the same sessions. \n",
    "       - <a href='#event_table'>Section 1.2 </a>: Create event table by merging browsing, test and search data \n",
    "       \n",
    "   \n",
    "   - Create preprocessed interactions table:  <a href='#row_workflow'> Section 2 </a>\n",
    "           - Filling missing values \n",
    "           - Convert timestamps \n",
    "           - Categorify and Normalize variables\n",
    "   \n",
    "   - Create preprocess session table:  <a href='#session_workflow'> Section 3 </a>\n",
    "   \n",
    "   - Merge session_browsing and session_search tables "
   ]
  },
  {
   "cell_type": "markdown",
   "metadata": {},
   "source": [
    "# <a id='pandas_proc'>Processing DATA with pandas </a>"
   ]
  },
  {
   "cell_type": "markdown",
   "metadata": {},
   "source": [
    "## <a id='event_table'> Preprocessing of search tables: merging Train and Test data </a>"
   ]
  },
  {
   "cell_type": "code",
   "execution_count": 5,
   "metadata": {},
   "outputs": [
    {
     "name": "stderr",
     "output_type": "stream",
     "text": [
      "100%|██████████| 819393/819393 [00:37<00:00, 22115.32it/s]\n",
      "100%|██████████| 819393/819393 [00:04<00:00, 170083.23it/s]\n",
      "100%|██████████| 819393/819393 [02:56<00:00, 4635.12it/s]\n"
     ]
    }
   ],
   "source": [
    "# load search data\n",
    "search = pd.read_csv(DATA_PATH_SEARCH, sep=',')\n",
    "# Add column event_type \n",
    "search['event_type'] = 'search'\n",
    "# Add column 'is_search'\n",
    "search['is_search'] = 1\n",
    "search['is_test'] = 0\n",
    "# drop 123 rows where: (clicked_skus_hash != NaN) and (product_skus_hash == NaN)\n",
    "condition = (search['product_skus_hash'].isnull()) & (~search['clicked_skus_hash'].isnull())\n",
    "search = search.loc[~condition]\n",
    "# convert strings to list object \n",
    "import ast\n",
    "def convert_str_to_list(x): \n",
    "    if pd.isnull(x): \n",
    "        return x\n",
    "    return ast.literal_eval(x)\n",
    "for col in ['product_skus_hash', 'clicked_skus_hash', 'query_vector']: \n",
    "    search[col] = search[col].progress_apply(convert_str_to_list)\n",
    "\n",
    "# Add search events from test data\n",
    "# load test data \n",
    "with open('/workspace/rec_test_phase_1.json') as json_file:\n",
    "    # read the test cases from the provided file\n",
    "    test_queries = json.load(json_file)\n",
    "test_df = pd.json_normalize(test_queries, 'query')\n",
    "test_df['is_test'] = 1\n",
    "test_search = test_df[['session_id_hash', 'query_vector', 'clicked_skus_hash',\n",
    "       'product_skus_hash', 'server_timestamp_epoch_ms', 'event_type',\n",
    "       'is_search', 'is_test']]\n",
    "test_search = test_search[test_search.is_search==True]\n",
    "\n",
    "# concat test and train search data\n",
    "search = pd.concat([search, test_search])\n",
    "search.reset_index(inplace=True)"
   ]
  },
  {
   "cell_type": "code",
   "execution_count": 6,
   "metadata": {},
   "outputs": [],
   "source": [
    "del test_search"
   ]
  },
  {
   "cell_type": "markdown",
   "metadata": {},
   "source": [
    "- **Compute the number of search queries per session** "
   ]
  },
  {
   "cell_type": "code",
   "execution_count": 7,
   "metadata": {},
   "outputs": [],
   "source": [
    "tmp = search.groupby('session_id_hash').size().reset_index()\n",
    "tmp.columns = ['session_id_hash', 'nb_queries']\n",
    "search = search.merge(tmp, on='session_id_hash', how='left')"
   ]
  },
  {
   "cell_type": "markdown",
   "metadata": {},
   "source": [
    "* **Include unseen clicked product to impression list** : \n",
    "\n",
    "    2% of the search events have a clicked item that does not appear in the impression list. \n",
    "        ==> We add the missing elements to the impression list. "
   ]
  },
  {
   "cell_type": "code",
   "execution_count": 8,
   "metadata": {},
   "outputs": [
    {
     "name": "stderr",
     "output_type": "stream",
     "text": [
      "100%|██████████| 836312/836312 [00:30<00:00, 27321.43it/s]\n"
     ]
    }
   ],
   "source": [
    "def add_clicked(x): \n",
    "    if isinstance(x.clicked_skus_hash, list) and isinstance(x.product_skus_hash, list):\n",
    "        return list(set(x.product_skus_hash).union(set(x.clicked_skus_hash)))\n",
    "    return x.product_skus_hash\n",
    "search['updated_product_skus_hash'] = search.progress_apply(add_clicked, axis=1)"
   ]
  },
  {
   "cell_type": "markdown",
   "metadata": {},
   "source": [
    "* **Compute the number of visualized products and clicked items per search** "
   ]
  },
  {
   "cell_type": "code",
   "execution_count": 9,
   "metadata": {},
   "outputs": [],
   "source": [
    "search['impression_size'] = search.product_skus_hash.str.len().fillna(0)\n",
    "search['clicks_size'] = search.clicked_skus_hash.str.len().fillna(0)"
   ]
  },
  {
   "cell_type": "code",
   "execution_count": 10,
   "metadata": {},
   "outputs": [
    {
     "data": {
      "text/html": [
       "<div>\n",
       "<style scoped>\n",
       "    .dataframe tbody tr th:only-of-type {\n",
       "        vertical-align: middle;\n",
       "    }\n",
       "\n",
       "    .dataframe tbody tr th {\n",
       "        vertical-align: top;\n",
       "    }\n",
       "\n",
       "    .dataframe thead th {\n",
       "        text-align: right;\n",
       "    }\n",
       "</style>\n",
       "<table border=\"1\" class=\"dataframe\">\n",
       "  <thead>\n",
       "    <tr style=\"text-align: right;\">\n",
       "      <th></th>\n",
       "      <th>index</th>\n",
       "      <th>session_id_hash</th>\n",
       "      <th>query_vector</th>\n",
       "      <th>clicked_skus_hash</th>\n",
       "      <th>product_skus_hash</th>\n",
       "      <th>server_timestamp_epoch_ms</th>\n",
       "      <th>event_type</th>\n",
       "      <th>is_search</th>\n",
       "      <th>is_test</th>\n",
       "      <th>nb_queries</th>\n",
       "      <th>updated_product_skus_hash</th>\n",
       "      <th>impression_size</th>\n",
       "      <th>clicks_size</th>\n",
       "    </tr>\n",
       "  </thead>\n",
       "  <tbody>\n",
       "    <tr>\n",
       "      <th>0</th>\n",
       "      <td>0</td>\n",
       "      <td>48fade624d47870058ce07dd789ccc04e46c70c0fa2a1b...</td>\n",
       "      <td>[-0.20255649089813232, -0.016908567398786545, ...</td>\n",
       "      <td>NaN</td>\n",
       "      <td>NaN</td>\n",
       "      <td>1548575194779</td>\n",
       "      <td>search</td>\n",
       "      <td>1</td>\n",
       "      <td>0</td>\n",
       "      <td>1</td>\n",
       "      <td>NaN</td>\n",
       "      <td>0.0</td>\n",
       "      <td>0.0</td>\n",
       "    </tr>\n",
       "    <tr>\n",
       "      <th>1</th>\n",
       "      <td>1</td>\n",
       "      <td>8731ca84ff7bb8cb647531d54e64feedb2519b4a7792a7...</td>\n",
       "      <td>[-0.007610442116856575, -0.14909175038337708, ...</td>\n",
       "      <td>NaN</td>\n",
       "      <td>[9ee9ffd7e2529a65f9a0b0c9eaae6330df85cf2e3af33...</td>\n",
       "      <td>1548276763869</td>\n",
       "      <td>search</td>\n",
       "      <td>1</td>\n",
       "      <td>0</td>\n",
       "      <td>1</td>\n",
       "      <td>[9ee9ffd7e2529a65f9a0b0c9eaae6330df85cf2e3af33...</td>\n",
       "      <td>3.0</td>\n",
       "      <td>0.0</td>\n",
       "    </tr>\n",
       "  </tbody>\n",
       "</table>\n",
       "</div>"
      ],
      "text/plain": [
       "   index                                    session_id_hash  \\\n",
       "0      0  48fade624d47870058ce07dd789ccc04e46c70c0fa2a1b...   \n",
       "1      1  8731ca84ff7bb8cb647531d54e64feedb2519b4a7792a7...   \n",
       "\n",
       "                                        query_vector clicked_skus_hash  \\\n",
       "0  [-0.20255649089813232, -0.016908567398786545, ...               NaN   \n",
       "1  [-0.007610442116856575, -0.14909175038337708, ...               NaN   \n",
       "\n",
       "                                   product_skus_hash  \\\n",
       "0                                                NaN   \n",
       "1  [9ee9ffd7e2529a65f9a0b0c9eaae6330df85cf2e3af33...   \n",
       "\n",
       "   server_timestamp_epoch_ms event_type  is_search  is_test  nb_queries  \\\n",
       "0              1548575194779     search          1        0           1   \n",
       "1              1548276763869     search          1        0           1   \n",
       "\n",
       "                           updated_product_skus_hash  impression_size  \\\n",
       "0                                                NaN              0.0   \n",
       "1  [9ee9ffd7e2529a65f9a0b0c9eaae6330df85cf2e3af33...              3.0   \n",
       "\n",
       "   clicks_size  \n",
       "0          0.0  \n",
       "1          0.0  "
      ]
     },
     "execution_count": 10,
     "metadata": {},
     "output_type": "execute_result"
    }
   ],
   "source": [
    "search.head(2)"
   ]
  },
  {
   "cell_type": "markdown",
   "metadata": {},
   "source": [
    "- **Aggregate search information per session** "
   ]
  },
  {
   "cell_type": "markdown",
   "metadata": {},
   "source": [
    "The resulting variables are: \n",
    "\n",
    "    - \"flat_query_vector\": List of search query vector (reshaped to 1-dim so that it works with NVT Data loader)\n",
    "    - \"flat_product_skus_hash\": List of product skus returned by the search query\n",
    "    - \"clicked-flag\": To indicate if the product was clicked or not in the search results\n",
    "    - \"nb_queries\" : number of search queries within the same session \n",
    "    - \"impression_size\": number of returned product skus for each search query\n",
    "    - \"clicks_size\": number of clicked items for each search query\n",
    "\n"
   ]
  },
  {
   "cell_type": "code",
   "execution_count": 11,
   "metadata": {},
   "outputs": [
    {
     "name": "stderr",
     "output_type": "stream",
     "text": [
      "100%|██████████| 562208/562208 [00:58<00:00, 9538.81it/s] \n"
     ]
    }
   ],
   "source": [
    "def all_products(x): \n",
    "    t =[]\n",
    "    for products in x.dropna(): \n",
    "        t += products\n",
    "    if len(t)==0:\n",
    "        return ['missing']\n",
    "    return t\n",
    "\n",
    "session_search = search.sort_values(['session_id_hash', 'server_timestamp_epoch_ms']).groupby('session_id_hash').agg({'query_vector': lambda x: list(np.concatenate(x.values)),\n",
    "                                                                                                                    'updated_product_skus_hash': all_products,\n",
    "                                                                                                                    'clicked_skus_hash': all_products,\n",
    "                                                                                                                    'impression_size': list,\n",
    "                                                                                                                    'clicks_size': list,\n",
    "                                                                                                                    'nb_queries': 'last'\n",
    "                                                                                                                  })\n",
    "session_search.columns = ['flat_query_vector', 'flat_product_skus_hash', 'flat_clicked_skus_hash', 'impressions_size', 'clicks_size', 'nb_queries']\n",
    "session_search['clicked-flag'] = session_search.progress_apply(lambda x: [int(e in x['flat_clicked_skus_hash']) for e in x['flat_product_skus_hash']], axis=1)\n",
    "session_search = session_search.reset_index()"
   ]
  },
  {
   "cell_type": "code",
   "execution_count": 12,
   "metadata": {},
   "outputs": [
    {
     "data": {
      "text/html": [
       "<div>\n",
       "<style scoped>\n",
       "    .dataframe tbody tr th:only-of-type {\n",
       "        vertical-align: middle;\n",
       "    }\n",
       "\n",
       "    .dataframe tbody tr th {\n",
       "        vertical-align: top;\n",
       "    }\n",
       "\n",
       "    .dataframe thead th {\n",
       "        text-align: right;\n",
       "    }\n",
       "</style>\n",
       "<table border=\"1\" class=\"dataframe\">\n",
       "  <thead>\n",
       "    <tr style=\"text-align: right;\">\n",
       "      <th></th>\n",
       "      <th>session_id_hash</th>\n",
       "      <th>flat_query_vector</th>\n",
       "      <th>flat_product_skus_hash</th>\n",
       "      <th>flat_clicked_skus_hash</th>\n",
       "      <th>impressions_size</th>\n",
       "      <th>clicks_size</th>\n",
       "      <th>nb_queries</th>\n",
       "      <th>clicked-flag</th>\n",
       "    </tr>\n",
       "  </thead>\n",
       "  <tbody>\n",
       "    <tr>\n",
       "      <th>0</th>\n",
       "      <td>00000277639fc5c6f816654b78bf3654ece7fd53a7338f...</td>\n",
       "      <td>[-0.1088152825832367, -0.09937708079814911, -0...</td>\n",
       "      <td>[d9550a87fde6e944796797375ab71e01a08323f9916ac...</td>\n",
       "      <td>[ca089db21669aabe32904308205ad3632574fd268e912...</td>\n",
       "      <td>[14.0]</td>\n",
       "      <td>[1.0]</td>\n",
       "      <td>1</td>\n",
       "      <td>[0, 0, 0, 1, 0, 0, 0, 0, 0, 0, 0, 0, 0, 0]</td>\n",
       "    </tr>\n",
       "    <tr>\n",
       "      <th>1</th>\n",
       "      <td>00001216514808fdd1e3bd4e4229ef518c712932424d82...</td>\n",
       "      <td>[-0.05604613572359085, -0.19420677423477173, 0...</td>\n",
       "      <td>[e90aeee7e8eb921bd430981037ee19c6e95226d0651c6...</td>\n",
       "      <td>[missing]</td>\n",
       "      <td>[25.0]</td>\n",
       "      <td>[0.0]</td>\n",
       "      <td>1</td>\n",
       "      <td>[0, 0, 0, 0, 0, 0, 0, 0, 0, 0, 0, 0, 0, 0, 0, ...</td>\n",
       "    </tr>\n",
       "    <tr>\n",
       "      <th>2</th>\n",
       "      <td>000049b258d564d8a44105a5c85b1a82e69bae9129319b...</td>\n",
       "      <td>[-0.018799802288413048, -0.2817137837409973, 0...</td>\n",
       "      <td>[7302590bebd27fb6dece6dc605b96a098ab1efdf35aff...</td>\n",
       "      <td>[missing]</td>\n",
       "      <td>[0.0, 21.0]</td>\n",
       "      <td>[0.0, 0.0]</td>\n",
       "      <td>2</td>\n",
       "      <td>[0, 0, 0, 0, 0, 0, 0, 0, 0, 0, 0, 0, 0, 0, 0, ...</td>\n",
       "    </tr>\n",
       "  </tbody>\n",
       "</table>\n",
       "</div>"
      ],
      "text/plain": [
       "                                     session_id_hash  \\\n",
       "0  00000277639fc5c6f816654b78bf3654ece7fd53a7338f...   \n",
       "1  00001216514808fdd1e3bd4e4229ef518c712932424d82...   \n",
       "2  000049b258d564d8a44105a5c85b1a82e69bae9129319b...   \n",
       "\n",
       "                                   flat_query_vector  \\\n",
       "0  [-0.1088152825832367, -0.09937708079814911, -0...   \n",
       "1  [-0.05604613572359085, -0.19420677423477173, 0...   \n",
       "2  [-0.018799802288413048, -0.2817137837409973, 0...   \n",
       "\n",
       "                              flat_product_skus_hash  \\\n",
       "0  [d9550a87fde6e944796797375ab71e01a08323f9916ac...   \n",
       "1  [e90aeee7e8eb921bd430981037ee19c6e95226d0651c6...   \n",
       "2  [7302590bebd27fb6dece6dc605b96a098ab1efdf35aff...   \n",
       "\n",
       "                              flat_clicked_skus_hash impressions_size  \\\n",
       "0  [ca089db21669aabe32904308205ad3632574fd268e912...           [14.0]   \n",
       "1                                          [missing]           [25.0]   \n",
       "2                                          [missing]      [0.0, 21.0]   \n",
       "\n",
       "  clicks_size  nb_queries                                       clicked-flag  \n",
       "0       [1.0]           1         [0, 0, 0, 1, 0, 0, 0, 0, 0, 0, 0, 0, 0, 0]  \n",
       "1       [0.0]           1  [0, 0, 0, 0, 0, 0, 0, 0, 0, 0, 0, 0, 0, 0, 0, ...  \n",
       "2  [0.0, 0.0]           2  [0, 0, 0, 0, 0, 0, 0, 0, 0, 0, 0, 0, 0, 0, 0, ...  "
      ]
     },
     "execution_count": 12,
     "metadata": {},
     "output_type": "execute_result"
    }
   ],
   "source": [
    "session_search.head(3)"
   ]
  },
  {
   "cell_type": "markdown",
   "metadata": {},
   "source": [
    "- **Save search tables** "
   ]
  },
  {
   "cell_type": "code",
   "execution_count": 13,
   "metadata": {},
   "outputs": [],
   "source": [
    "session_search.to_parquet(os.path.join(OUTPUT_DIR, \"session_search.parquet\"))\n",
    "search.to_parquet(os.path.join(OUTPUT_DIR, \"search.parquet\"))"
   ]
  },
  {
   "cell_type": "markdown",
   "metadata": {},
   "source": [
    "## <a id='event_table'> Create event table: merging browsing, test and search data </a>"
   ]
  },
  {
   "cell_type": "code",
   "execution_count": 15,
   "metadata": {},
   "outputs": [],
   "source": [
    "session_search = pd.read_parquet(os.path.join(OUTPUT_DIR, \"session_search.parquet\"))\n",
    "search = pd.read_parquet(os.path.join(OUTPUT_DIR, \"search.parquet\"))"
   ]
  },
  {
   "cell_type": "code",
   "execution_count": 16,
   "metadata": {},
   "outputs": [],
   "source": [
    "browsing = pd.read_csv(DATA_PATH_BROWSING, sep=',')\n",
    "# Add columns 'is_search' ans 'is_test'\n",
    "browsing['is_search'] = 0 \n",
    "browsing['is_test'] = 0 "
   ]
  },
  {
   "cell_type": "markdown",
   "metadata": {},
   "source": [
    "- **Create event table**: mergin browsing_train and test data"
   ]
  },
  {
   "cell_type": "code",
   "execution_count": 17,
   "metadata": {},
   "outputs": [],
   "source": [
    "with open('/workspace/rec_test_phase_1.json') as json_file:\n",
    "    # read the test cases from the provided file\n",
    "    test_queries = json.load(json_file)\n",
    "test_df = pd.json_normalize(test_queries, 'query')\n",
    "test_df['is_test'] = 1"
   ]
  },
  {
   "cell_type": "code",
   "execution_count": 18,
   "metadata": {},
   "outputs": [],
   "source": [
    "# concat browsing and search data to create event table \n",
    "event_df = pd.concat([browsing, test_df])\n",
    "event_df.reset_index(drop=True, inplace=True)"
   ]
  },
  {
   "cell_type": "code",
   "execution_count": 19,
   "metadata": {},
   "outputs": [
    {
     "data": {
      "text/html": [
       "<div>\n",
       "<style scoped>\n",
       "    .dataframe tbody tr th:only-of-type {\n",
       "        vertical-align: middle;\n",
       "    }\n",
       "\n",
       "    .dataframe tbody tr th {\n",
       "        vertical-align: top;\n",
       "    }\n",
       "\n",
       "    .dataframe thead th {\n",
       "        text-align: right;\n",
       "    }\n",
       "</style>\n",
       "<table border=\"1\" class=\"dataframe\">\n",
       "  <thead>\n",
       "    <tr style=\"text-align: right;\">\n",
       "      <th></th>\n",
       "      <th>session_id_hash</th>\n",
       "      <th>event_type</th>\n",
       "      <th>product_action</th>\n",
       "      <th>product_sku_hash</th>\n",
       "      <th>server_timestamp_epoch_ms</th>\n",
       "      <th>hashed_url</th>\n",
       "      <th>is_search</th>\n",
       "      <th>is_test</th>\n",
       "      <th>query_vector</th>\n",
       "      <th>clicked_skus_hash</th>\n",
       "      <th>product_skus_hash</th>\n",
       "    </tr>\n",
       "  </thead>\n",
       "  <tbody>\n",
       "    <tr>\n",
       "      <th>0</th>\n",
       "      <td>20c458b802f6ea9374783bfc528b19421be977a6769785...</td>\n",
       "      <td>event_product</td>\n",
       "      <td>detail</td>\n",
       "      <td>d5157f8bc52965390fa21ad5842a8502bc3eb8b0930f3f...</td>\n",
       "      <td>1550885210881</td>\n",
       "      <td>7e4527ac6a32deed4f4f06bb7c49b907b7ca371e59d57d...</td>\n",
       "      <td>0</td>\n",
       "      <td>0</td>\n",
       "      <td>NaN</td>\n",
       "      <td>NaN</td>\n",
       "      <td>NaN</td>\n",
       "    </tr>\n",
       "    <tr>\n",
       "      <th>1</th>\n",
       "      <td>20c458b802f6ea9374783bfc528b19421be977a6769785...</td>\n",
       "      <td>event_product</td>\n",
       "      <td>detail</td>\n",
       "      <td>61ef3869355b78e11011f39fc7ac8f8dfb209b3442a9d5...</td>\n",
       "      <td>1550885213307</td>\n",
       "      <td>4ed279f4f0deab6dfc80f4f7bf49d527fd894fa478a9ce...</td>\n",
       "      <td>0</td>\n",
       "      <td>0</td>\n",
       "      <td>NaN</td>\n",
       "      <td>NaN</td>\n",
       "      <td>NaN</td>\n",
       "    </tr>\n",
       "    <tr>\n",
       "      <th>2</th>\n",
       "      <td>20c458b802f6ea9374783bfc528b19421be977a6769785...</td>\n",
       "      <td>pageview</td>\n",
       "      <td>NaN</td>\n",
       "      <td>NaN</td>\n",
       "      <td>1550885213307</td>\n",
       "      <td>4ed279f4f0deab6dfc80f4f7bf49d527fd894fa478a9ce...</td>\n",
       "      <td>0</td>\n",
       "      <td>0</td>\n",
       "      <td>NaN</td>\n",
       "      <td>NaN</td>\n",
       "      <td>NaN</td>\n",
       "    </tr>\n",
       "  </tbody>\n",
       "</table>\n",
       "</div>"
      ],
      "text/plain": [
       "                                     session_id_hash     event_type  \\\n",
       "0  20c458b802f6ea9374783bfc528b19421be977a6769785...  event_product   \n",
       "1  20c458b802f6ea9374783bfc528b19421be977a6769785...  event_product   \n",
       "2  20c458b802f6ea9374783bfc528b19421be977a6769785...       pageview   \n",
       "\n",
       "  product_action                                   product_sku_hash  \\\n",
       "0         detail  d5157f8bc52965390fa21ad5842a8502bc3eb8b0930f3f...   \n",
       "1         detail  61ef3869355b78e11011f39fc7ac8f8dfb209b3442a9d5...   \n",
       "2            NaN                                                NaN   \n",
       "\n",
       "   server_timestamp_epoch_ms  \\\n",
       "0              1550885210881   \n",
       "1              1550885213307   \n",
       "2              1550885213307   \n",
       "\n",
       "                                          hashed_url  is_search  is_test  \\\n",
       "0  7e4527ac6a32deed4f4f06bb7c49b907b7ca371e59d57d...          0        0   \n",
       "1  4ed279f4f0deab6dfc80f4f7bf49d527fd894fa478a9ce...          0        0   \n",
       "2  4ed279f4f0deab6dfc80f4f7bf49d527fd894fa478a9ce...          0        0   \n",
       "\n",
       "  query_vector clicked_skus_hash product_skus_hash  \n",
       "0          NaN               NaN               NaN  \n",
       "1          NaN               NaN               NaN  \n",
       "2          NaN               NaN               NaN  "
      ]
     },
     "execution_count": 19,
     "metadata": {},
     "output_type": "execute_result"
    }
   ],
   "source": [
    "event_df.head(3)"
   ]
  },
  {
   "cell_type": "code",
   "execution_count": 20,
   "metadata": {},
   "outputs": [
    {
     "data": {
      "text/html": [
       "<div>\n",
       "<style scoped>\n",
       "    .dataframe tbody tr th:only-of-type {\n",
       "        vertical-align: middle;\n",
       "    }\n",
       "\n",
       "    .dataframe tbody tr th {\n",
       "        vertical-align: top;\n",
       "    }\n",
       "\n",
       "    .dataframe thead th {\n",
       "        text-align: right;\n",
       "    }\n",
       "</style>\n",
       "<table border=\"1\" class=\"dataframe\">\n",
       "  <thead>\n",
       "    <tr style=\"text-align: right;\">\n",
       "      <th></th>\n",
       "      <th>session_id_hash</th>\n",
       "      <th>event_type</th>\n",
       "      <th>product_action</th>\n",
       "      <th>product_sku_hash</th>\n",
       "      <th>server_timestamp_epoch_ms</th>\n",
       "      <th>hashed_url</th>\n",
       "      <th>is_search</th>\n",
       "      <th>is_test</th>\n",
       "      <th>query_vector</th>\n",
       "      <th>clicked_skus_hash</th>\n",
       "      <th>product_skus_hash</th>\n",
       "    </tr>\n",
       "  </thead>\n",
       "  <tbody>\n",
       "    <tr>\n",
       "      <th>36655739</th>\n",
       "      <td>fffe75a4f9e8b6dead0825d7db7fd538a64bc117599030...</td>\n",
       "      <td>event_product</td>\n",
       "      <td>detail</td>\n",
       "      <td>4e880bf467dcb699fd61519bc3845dd6524b2095d45e7f...</td>\n",
       "      <td>1557406442986</td>\n",
       "      <td>c3eb53ea31db5ba124449624561969376aceb63297ce18...</td>\n",
       "      <td>0</td>\n",
       "      <td>1</td>\n",
       "      <td>None</td>\n",
       "      <td>None</td>\n",
       "      <td>None</td>\n",
       "    </tr>\n",
       "    <tr>\n",
       "      <th>36655740</th>\n",
       "      <td>ffff39e95bd7ebc272897b54865d60accb111e0ec42cc0...</td>\n",
       "      <td>event_product</td>\n",
       "      <td>detail</td>\n",
       "      <td>3a62198d671b861ee178dd025f321ac66c28ba2e6967c6...</td>\n",
       "      <td>1557337655966</td>\n",
       "      <td>d4bb262e543866324b517cf4e294c77d270cfabe5d5f4f...</td>\n",
       "      <td>0</td>\n",
       "      <td>1</td>\n",
       "      <td>None</td>\n",
       "      <td>None</td>\n",
       "      <td>None</td>\n",
       "    </tr>\n",
       "    <tr>\n",
       "      <th>36655741</th>\n",
       "      <td>ffffccb130241d462149241caf4f17a45d038481e51c28...</td>\n",
       "      <td>event_product</td>\n",
       "      <td>detail</td>\n",
       "      <td>caf9a5bfd81ef43f6cf3cbdc6017fdc79d43bcdea9fdb2...</td>\n",
       "      <td>1556234499481</td>\n",
       "      <td>4a2063eada9db11971c1264b28296cae1eaa133a395578...</td>\n",
       "      <td>0</td>\n",
       "      <td>1</td>\n",
       "      <td>None</td>\n",
       "      <td>None</td>\n",
       "      <td>None</td>\n",
       "    </tr>\n",
       "  </tbody>\n",
       "</table>\n",
       "</div>"
      ],
      "text/plain": [
       "                                            session_id_hash     event_type  \\\n",
       "36655739  fffe75a4f9e8b6dead0825d7db7fd538a64bc117599030...  event_product   \n",
       "36655740  ffff39e95bd7ebc272897b54865d60accb111e0ec42cc0...  event_product   \n",
       "36655741  ffffccb130241d462149241caf4f17a45d038481e51c28...  event_product   \n",
       "\n",
       "         product_action                                   product_sku_hash  \\\n",
       "36655739         detail  4e880bf467dcb699fd61519bc3845dd6524b2095d45e7f...   \n",
       "36655740         detail  3a62198d671b861ee178dd025f321ac66c28ba2e6967c6...   \n",
       "36655741         detail  caf9a5bfd81ef43f6cf3cbdc6017fdc79d43bcdea9fdb2...   \n",
       "\n",
       "          server_timestamp_epoch_ms  \\\n",
       "36655739              1557406442986   \n",
       "36655740              1557337655966   \n",
       "36655741              1556234499481   \n",
       "\n",
       "                                                 hashed_url  is_search  \\\n",
       "36655739  c3eb53ea31db5ba124449624561969376aceb63297ce18...          0   \n",
       "36655740  d4bb262e543866324b517cf4e294c77d270cfabe5d5f4f...          0   \n",
       "36655741  4a2063eada9db11971c1264b28296cae1eaa133a395578...          0   \n",
       "\n",
       "          is_test query_vector clicked_skus_hash product_skus_hash  \n",
       "36655739        1         None              None              None  \n",
       "36655740        1         None              None              None  \n",
       "36655741        1         None              None              None  "
      ]
     },
     "execution_count": 20,
     "metadata": {},
     "output_type": "execute_result"
    }
   ],
   "source": [
    "event_df.tail(3)"
   ]
  },
  {
   "cell_type": "code",
   "execution_count": 21,
   "metadata": {},
   "outputs": [],
   "source": [
    "del browsing"
   ]
  },
  {
   "cell_type": "markdown",
   "metadata": {},
   "source": [
    "- **Process duplicated events:** which are defined as interactions that occur in the same session and at the same time "
   ]
  },
  {
   "cell_type": "code",
   "execution_count": 22,
   "metadata": {},
   "outputs": [],
   "source": [
    "# drop duplicated rows (total of 1800) \n",
    "event_df.drop_duplicates(['session_id_hash' ,'server_timestamp_epoch_ms', 'event_type', 'product_action', 'product_sku_hash', 'hashed_url'],inplace=True, keep='last')\n",
    "# Remove indices of 'pageview' interactions from duplicated events defined above \n",
    "tmp = event_df[(event_df.event_type == 'pageview') & (event_df.duplicated(['session_id_hash' , 'server_timestamp_epoch_ms']))]\n",
    "event_df.drop(tmp.index, inplace=True)"
   ]
  },
  {
   "cell_type": "code",
   "execution_count": 23,
   "metadata": {},
   "outputs": [
    {
     "data": {
      "text/plain": [
       "(31769147, 11)"
      ]
     },
     "execution_count": 23,
     "metadata": {},
     "output_type": "execute_result"
    }
   ],
   "source": [
    "event_df.shape"
   ]
  },
  {
   "cell_type": "markdown",
   "metadata": {},
   "source": [
    "* **Add search events**: "
   ]
  },
  {
   "cell_type": "code",
   "execution_count": 24,
   "metadata": {},
   "outputs": [],
   "source": [
    "# select search events with clicks\n",
    "use_cols = ['session_id_hash', 'clicked_skus_hash',\n",
    "            'server_timestamp_epoch_ms', 'event_type',\n",
    "            'is_search', 'is_test']\n",
    "search_clicks = search[search.clicks_size>0][use_cols]\n",
    "\n",
    "# specify event type and product action\n",
    "search_clicks['event_type'] = 'search'\n",
    "search_clicks['product_action'] = 'click'\n",
    "\n",
    "#unstack list of clicked items to multiple rows\n",
    "lst_col = 'clicked_skus_hash'\n",
    "search_clicks = pd.DataFrame({\n",
    "    col:np.repeat(search_clicks[col].values, search_clicks[lst_col].str.len()) for col in search_clicks.columns.difference([lst_col])}).assign(\n",
    "    **{lst_col:np.concatenate(search_clicks[lst_col].values)})[search_clicks.columns.tolist()]\n",
    "\n",
    "search_clicks.columns = ['session_id_hash', 'product_sku_hash', 'server_timestamp_epoch_ms',\n",
    "                         'event_type', 'is_search', 'is_test', 'product_action']"
   ]
  },
  {
   "cell_type": "code",
   "execution_count": 25,
   "metadata": {},
   "outputs": [
    {
     "data": {
      "text/html": [
       "<div>\n",
       "<style scoped>\n",
       "    .dataframe tbody tr th:only-of-type {\n",
       "        vertical-align: middle;\n",
       "    }\n",
       "\n",
       "    .dataframe tbody tr th {\n",
       "        vertical-align: top;\n",
       "    }\n",
       "\n",
       "    .dataframe thead th {\n",
       "        text-align: right;\n",
       "    }\n",
       "</style>\n",
       "<table border=\"1\" class=\"dataframe\">\n",
       "  <thead>\n",
       "    <tr style=\"text-align: right;\">\n",
       "      <th></th>\n",
       "      <th>session_id_hash</th>\n",
       "      <th>product_sku_hash</th>\n",
       "      <th>server_timestamp_epoch_ms</th>\n",
       "      <th>event_type</th>\n",
       "      <th>is_search</th>\n",
       "      <th>is_test</th>\n",
       "      <th>product_action</th>\n",
       "    </tr>\n",
       "  </thead>\n",
       "  <tbody>\n",
       "    <tr>\n",
       "      <th>0</th>\n",
       "      <td>77d604ce112a107ffe3e60566778d090a0b756bcfb0a3e...</td>\n",
       "      <td>20e8f1c4051a6c55122bd00f25f92f91b5f125497b7939...</td>\n",
       "      <td>1549078957672</td>\n",
       "      <td>search</td>\n",
       "      <td>1</td>\n",
       "      <td>0</td>\n",
       "      <td>click</td>\n",
       "    </tr>\n",
       "    <tr>\n",
       "      <th>1</th>\n",
       "      <td>7fc129b5945b2959339da1c0675d9c9adcdbc1fc99a954...</td>\n",
       "      <td>8283e8b59c283c3b72462a6f73084683524f4b0149acb7...</td>\n",
       "      <td>1550003058242</td>\n",
       "      <td>search</td>\n",
       "      <td>1</td>\n",
       "      <td>0</td>\n",
       "      <td>click</td>\n",
       "    </tr>\n",
       "    <tr>\n",
       "      <th>2</th>\n",
       "      <td>3ef3f3170f85ae92b01378b2161f5e71f64caadbeefd90...</td>\n",
       "      <td>2901d00c55fc2e4e60ea0d0e7a48ee843491e31025afab...</td>\n",
       "      <td>1549641526668</td>\n",
       "      <td>search</td>\n",
       "      <td>1</td>\n",
       "      <td>0</td>\n",
       "      <td>click</td>\n",
       "    </tr>\n",
       "  </tbody>\n",
       "</table>\n",
       "</div>"
      ],
      "text/plain": [
       "                                     session_id_hash  \\\n",
       "0  77d604ce112a107ffe3e60566778d090a0b756bcfb0a3e...   \n",
       "1  7fc129b5945b2959339da1c0675d9c9adcdbc1fc99a954...   \n",
       "2  3ef3f3170f85ae92b01378b2161f5e71f64caadbeefd90...   \n",
       "\n",
       "                                    product_sku_hash  \\\n",
       "0  20e8f1c4051a6c55122bd00f25f92f91b5f125497b7939...   \n",
       "1  8283e8b59c283c3b72462a6f73084683524f4b0149acb7...   \n",
       "2  2901d00c55fc2e4e60ea0d0e7a48ee843491e31025afab...   \n",
       "\n",
       "   server_timestamp_epoch_ms event_type  is_search  is_test product_action  \n",
       "0              1549078957672     search          1        0          click  \n",
       "1              1550003058242     search          1        0          click  \n",
       "2              1549641526668     search          1        0          click  "
      ]
     },
     "execution_count": 25,
     "metadata": {},
     "output_type": "execute_result"
    }
   ],
   "source": [
    "search_clicks.head(3)"
   ]
  },
  {
   "cell_type": "code",
   "execution_count": 26,
   "metadata": {},
   "outputs": [
    {
     "data": {
      "text/plain": [
       "pageview         21077946\n",
       "event_product    10674282\n",
       "search             398727\n",
       "Name: event_type, dtype: int64"
      ]
     },
     "execution_count": 26,
     "metadata": {},
     "output_type": "execute_result"
    }
   ],
   "source": [
    "event_df = pd.concat([event_df, search_clicks])\n",
    "event_df.event_type.value_counts()"
   ]
  },
  {
   "cell_type": "markdown",
   "metadata": {},
   "source": [
    "* **Add product information**"
   ]
  },
  {
   "cell_type": "code",
   "execution_count": 27,
   "metadata": {},
   "outputs": [
    {
     "data": {
      "text/html": [
       "<div>\n",
       "<style scoped>\n",
       "    .dataframe tbody tr th:only-of-type {\n",
       "        vertical-align: middle;\n",
       "    }\n",
       "\n",
       "    .dataframe tbody tr th {\n",
       "        vertical-align: top;\n",
       "    }\n",
       "\n",
       "    .dataframe thead th {\n",
       "        text-align: right;\n",
       "    }\n",
       "</style>\n",
       "<table border=\"1\" class=\"dataframe\">\n",
       "  <thead>\n",
       "    <tr style=\"text-align: right;\">\n",
       "      <th></th>\n",
       "      <th>product_sku_hash</th>\n",
       "      <th>description_vector</th>\n",
       "      <th>category_hash</th>\n",
       "      <th>image_vector</th>\n",
       "      <th>price_bucket</th>\n",
       "    </tr>\n",
       "  </thead>\n",
       "  <tbody>\n",
       "    <tr>\n",
       "      <th>66381</th>\n",
       "      <td>c7cc673ca3baa5fa222fffdc16379892b3a62583a48143...</td>\n",
       "      <td>NaN</td>\n",
       "      <td>NaN</td>\n",
       "      <td>NaN</td>\n",
       "      <td>NaN</td>\n",
       "    </tr>\n",
       "    <tr>\n",
       "      <th>66382</th>\n",
       "      <td>6641c7d2053ce48ce1e81a9653dffe56dbb79ab0704fbd...</td>\n",
       "      <td>[-0.19150441884994507, -0.06235162168741226, -...</td>\n",
       "      <td>0665a81d19c89281cc00e7f7d779ded2ed42c933838602...</td>\n",
       "      <td>[129.55668732976045, 43.27996741934932, -36.70...</td>\n",
       "      <td>3.0</td>\n",
       "    </tr>\n",
       "    <tr>\n",
       "      <th>66383</th>\n",
       "      <td>526a6a51717d5bb40ef2b0c47394d08c54385375633bab...</td>\n",
       "      <td>[-0.19760936498641968, 0.4446450471878052, -0....</td>\n",
       "      <td>0665a81d19c89281cc00e7f7d779ded2ed42c933838602...</td>\n",
       "      <td>[-158.25984189321855, 74.19255741438077, 199.6...</td>\n",
       "      <td>5.0</td>\n",
       "    </tr>\n",
       "    <tr>\n",
       "      <th>66384</th>\n",
       "      <td>21ca4ab0e2fbd3b401fbeadeb4439dcab9998fb52159ec...</td>\n",
       "      <td>NaN</td>\n",
       "      <td>NaN</td>\n",
       "      <td>NaN</td>\n",
       "      <td>NaN</td>\n",
       "    </tr>\n",
       "    <tr>\n",
       "      <th>66385</th>\n",
       "      <td>0eaa39fb645749da181c0637d3b420f3f103b5f6b50286...</td>\n",
       "      <td>NaN</td>\n",
       "      <td>NaN</td>\n",
       "      <td>NaN</td>\n",
       "      <td>NaN</td>\n",
       "    </tr>\n",
       "  </tbody>\n",
       "</table>\n",
       "</div>"
      ],
      "text/plain": [
       "                                        product_sku_hash  \\\n",
       "66381  c7cc673ca3baa5fa222fffdc16379892b3a62583a48143...   \n",
       "66382  6641c7d2053ce48ce1e81a9653dffe56dbb79ab0704fbd...   \n",
       "66383  526a6a51717d5bb40ef2b0c47394d08c54385375633bab...   \n",
       "66384  21ca4ab0e2fbd3b401fbeadeb4439dcab9998fb52159ec...   \n",
       "66385  0eaa39fb645749da181c0637d3b420f3f103b5f6b50286...   \n",
       "\n",
       "                                      description_vector  \\\n",
       "66381                                                NaN   \n",
       "66382  [-0.19150441884994507, -0.06235162168741226, -...   \n",
       "66383  [-0.19760936498641968, 0.4446450471878052, -0....   \n",
       "66384                                                NaN   \n",
       "66385                                                NaN   \n",
       "\n",
       "                                           category_hash  \\\n",
       "66381                                                NaN   \n",
       "66382  0665a81d19c89281cc00e7f7d779ded2ed42c933838602...   \n",
       "66383  0665a81d19c89281cc00e7f7d779ded2ed42c933838602...   \n",
       "66384                                                NaN   \n",
       "66385                                                NaN   \n",
       "\n",
       "                                            image_vector  price_bucket  \n",
       "66381                                                NaN           NaN  \n",
       "66382  [129.55668732976045, 43.27996741934932, -36.70...           3.0  \n",
       "66383  [-158.25984189321855, 74.19255741438077, 199.6...           5.0  \n",
       "66384                                                NaN           NaN  \n",
       "66385                                                NaN           NaN  "
      ]
     },
     "execution_count": 27,
     "metadata": {},
     "output_type": "execute_result"
    }
   ],
   "source": [
    "product_info = pd.read_csv('/workspace/sku_to_content.csv')\n",
    "product_info.tail()"
   ]
  },
  {
   "cell_type": "markdown",
   "metadata": {},
   "source": [
    "- Extract product main category "
   ]
  },
  {
   "cell_type": "code",
   "execution_count": 28,
   "metadata": {},
   "outputs": [
    {
     "name": "stderr",
     "output_type": "stream",
     "text": [
      "100%|██████████| 66386/66386 [00:00<00:00, 321180.65it/s]\n"
     ]
    }
   ],
   "source": [
    "def product_main_category(x):\n",
    "    if pd.isna(x):\n",
    "        return x\n",
    "    return x.split('/')[0]\n",
    "product_info['main_category'] = product_info['category_hash'].progress_apply(product_main_category)"
   ]
  },
  {
   "cell_type": "markdown",
   "metadata": {},
   "source": [
    "- Compute average price of main and hierarchy category"
   ]
  },
  {
   "cell_type": "code",
   "execution_count": 29,
   "metadata": {},
   "outputs": [],
   "source": [
    "main_price = product_info.groupby('main_category')['price_bucket'].mean().reset_index()\n",
    "main_price.columns = ['main_category', 'mean_price_main']\n",
    "\n",
    "hierarchy_price = product_info.groupby('category_hash')['price_bucket'].mean().reset_index()\n",
    "hierarchy_price.columns = ['category_hash', 'mean_price_hierarchy']"
   ]
  },
  {
   "cell_type": "markdown",
   "metadata": {},
   "source": [
    "- Merge with product table "
   ]
  },
  {
   "cell_type": "code",
   "execution_count": 30,
   "metadata": {},
   "outputs": [],
   "source": [
    "product_info = product_info.merge(main_price, on=['main_category'], how='left')\n",
    "product_info = product_info.merge(hierarchy_price, on=['category_hash'], how='left')"
   ]
  },
  {
   "cell_type": "code",
   "execution_count": 31,
   "metadata": {},
   "outputs": [
    {
     "data": {
      "text/html": [
       "<div>\n",
       "<style scoped>\n",
       "    .dataframe tbody tr th:only-of-type {\n",
       "        vertical-align: middle;\n",
       "    }\n",
       "\n",
       "    .dataframe tbody tr th {\n",
       "        vertical-align: top;\n",
       "    }\n",
       "\n",
       "    .dataframe thead th {\n",
       "        text-align: right;\n",
       "    }\n",
       "</style>\n",
       "<table border=\"1\" class=\"dataframe\">\n",
       "  <thead>\n",
       "    <tr style=\"text-align: right;\">\n",
       "      <th></th>\n",
       "      <th>product_sku_hash</th>\n",
       "      <th>description_vector</th>\n",
       "      <th>category_hash</th>\n",
       "      <th>image_vector</th>\n",
       "      <th>price_bucket</th>\n",
       "      <th>main_category</th>\n",
       "      <th>mean_price_main</th>\n",
       "      <th>mean_price_hierarchy</th>\n",
       "    </tr>\n",
       "  </thead>\n",
       "  <tbody>\n",
       "    <tr>\n",
       "      <th>0</th>\n",
       "      <td>26ce7b47f4c46e4087e83e54d2f7ddc7ea57862fed2e2a...</td>\n",
       "      <td>NaN</td>\n",
       "      <td>NaN</td>\n",
       "      <td>NaN</td>\n",
       "      <td>NaN</td>\n",
       "      <td>NaN</td>\n",
       "      <td>NaN</td>\n",
       "      <td>NaN</td>\n",
       "    </tr>\n",
       "    <tr>\n",
       "      <th>1</th>\n",
       "      <td>6383992be772b204a9ab75f86c86f5583d1bdd1222952d...</td>\n",
       "      <td>NaN</td>\n",
       "      <td>NaN</td>\n",
       "      <td>NaN</td>\n",
       "      <td>NaN</td>\n",
       "      <td>NaN</td>\n",
       "      <td>NaN</td>\n",
       "      <td>NaN</td>\n",
       "    </tr>\n",
       "    <tr>\n",
       "      <th>2</th>\n",
       "      <td>a2c3e2430c6ef9770b903ad08fa067a6b2b9db28f06e1b...</td>\n",
       "      <td>[0.27629122138023376, -0.15763211250305176, 0....</td>\n",
       "      <td>06fa312761d4b39e2f649781514ac69a4c1505c221fc46...</td>\n",
       "      <td>[340.3592564184389, -220.19025864725685, 154.0...</td>\n",
       "      <td>7.0</td>\n",
       "      <td>06fa312761d4b39e2f649781514ac69a4c1505c221fc46...</td>\n",
       "      <td>5.69263</td>\n",
       "      <td>7.859416</td>\n",
       "    </tr>\n",
       "  </tbody>\n",
       "</table>\n",
       "</div>"
      ],
      "text/plain": [
       "                                    product_sku_hash  \\\n",
       "0  26ce7b47f4c46e4087e83e54d2f7ddc7ea57862fed2e2a...   \n",
       "1  6383992be772b204a9ab75f86c86f5583d1bdd1222952d...   \n",
       "2  a2c3e2430c6ef9770b903ad08fa067a6b2b9db28f06e1b...   \n",
       "\n",
       "                                  description_vector  \\\n",
       "0                                                NaN   \n",
       "1                                                NaN   \n",
       "2  [0.27629122138023376, -0.15763211250305176, 0....   \n",
       "\n",
       "                                       category_hash  \\\n",
       "0                                                NaN   \n",
       "1                                                NaN   \n",
       "2  06fa312761d4b39e2f649781514ac69a4c1505c221fc46...   \n",
       "\n",
       "                                        image_vector  price_bucket  \\\n",
       "0                                                NaN           NaN   \n",
       "1                                                NaN           NaN   \n",
       "2  [340.3592564184389, -220.19025864725685, 154.0...           7.0   \n",
       "\n",
       "                                       main_category  mean_price_main  \\\n",
       "0                                                NaN              NaN   \n",
       "1                                                NaN              NaN   \n",
       "2  06fa312761d4b39e2f649781514ac69a4c1505c221fc46...          5.69263   \n",
       "\n",
       "   mean_price_hierarchy  \n",
       "0                   NaN  \n",
       "1                   NaN  \n",
       "2              7.859416  "
      ]
     },
     "execution_count": 31,
     "metadata": {},
     "output_type": "execute_result"
    }
   ],
   "source": [
    "product_info.head(3)"
   ]
  },
  {
   "cell_type": "markdown",
   "metadata": {},
   "source": [
    "* Merge product table and event_df "
   ]
  },
  {
   "cell_type": "code",
   "execution_count": 32,
   "metadata": {},
   "outputs": [],
   "source": [
    "event_df = event_df.merge(product_info[['product_sku_hash', 'main_category', 'category_hash',\n",
    "                                        'price_bucket', 'mean_price_hierarchy', 'mean_price_main' ]], on='product_sku_hash', how='left')"
   ]
  },
  {
   "cell_type": "code",
   "execution_count": 33,
   "metadata": {},
   "outputs": [
    {
     "data": {
      "text/html": [
       "<div>\n",
       "<style scoped>\n",
       "    .dataframe tbody tr th:only-of-type {\n",
       "        vertical-align: middle;\n",
       "    }\n",
       "\n",
       "    .dataframe tbody tr th {\n",
       "        vertical-align: top;\n",
       "    }\n",
       "\n",
       "    .dataframe thead th {\n",
       "        text-align: right;\n",
       "    }\n",
       "</style>\n",
       "<table border=\"1\" class=\"dataframe\">\n",
       "  <thead>\n",
       "    <tr style=\"text-align: right;\">\n",
       "      <th></th>\n",
       "      <th>session_id_hash</th>\n",
       "      <th>event_type</th>\n",
       "      <th>product_action</th>\n",
       "      <th>product_sku_hash</th>\n",
       "      <th>server_timestamp_epoch_ms</th>\n",
       "      <th>hashed_url</th>\n",
       "      <th>is_search</th>\n",
       "      <th>is_test</th>\n",
       "      <th>query_vector</th>\n",
       "      <th>clicked_skus_hash</th>\n",
       "      <th>product_skus_hash</th>\n",
       "      <th>main_category</th>\n",
       "      <th>category_hash</th>\n",
       "      <th>price_bucket</th>\n",
       "      <th>mean_price_hierarchy</th>\n",
       "      <th>mean_price_main</th>\n",
       "    </tr>\n",
       "  </thead>\n",
       "  <tbody>\n",
       "    <tr>\n",
       "      <th>0</th>\n",
       "      <td>20c458b802f6ea9374783bfc528b19421be977a6769785...</td>\n",
       "      <td>event_product</td>\n",
       "      <td>detail</td>\n",
       "      <td>d5157f8bc52965390fa21ad5842a8502bc3eb8b0930f3f...</td>\n",
       "      <td>1550885210881</td>\n",
       "      <td>7e4527ac6a32deed4f4f06bb7c49b907b7ca371e59d57d...</td>\n",
       "      <td>0</td>\n",
       "      <td>0</td>\n",
       "      <td>NaN</td>\n",
       "      <td>NaN</td>\n",
       "      <td>NaN</td>\n",
       "      <td>0665a81d19c89281cc00e7f7d779ded2ed42c933838602...</td>\n",
       "      <td>0665a81d19c89281cc00e7f7d779ded2ed42c933838602...</td>\n",
       "      <td>10.0</td>\n",
       "      <td>9.857143</td>\n",
       "      <td>5.009099</td>\n",
       "    </tr>\n",
       "    <tr>\n",
       "      <th>1</th>\n",
       "      <td>20c458b802f6ea9374783bfc528b19421be977a6769785...</td>\n",
       "      <td>event_product</td>\n",
       "      <td>detail</td>\n",
       "      <td>61ef3869355b78e11011f39fc7ac8f8dfb209b3442a9d5...</td>\n",
       "      <td>1550885213307</td>\n",
       "      <td>4ed279f4f0deab6dfc80f4f7bf49d527fd894fa478a9ce...</td>\n",
       "      <td>0</td>\n",
       "      <td>0</td>\n",
       "      <td>NaN</td>\n",
       "      <td>NaN</td>\n",
       "      <td>NaN</td>\n",
       "      <td>0665a81d19c89281cc00e7f7d779ded2ed42c933838602...</td>\n",
       "      <td>0665a81d19c89281cc00e7f7d779ded2ed42c933838602...</td>\n",
       "      <td>10.0</td>\n",
       "      <td>9.857143</td>\n",
       "      <td>5.009099</td>\n",
       "    </tr>\n",
       "  </tbody>\n",
       "</table>\n",
       "</div>"
      ],
      "text/plain": [
       "                                     session_id_hash     event_type  \\\n",
       "0  20c458b802f6ea9374783bfc528b19421be977a6769785...  event_product   \n",
       "1  20c458b802f6ea9374783bfc528b19421be977a6769785...  event_product   \n",
       "\n",
       "  product_action                                   product_sku_hash  \\\n",
       "0         detail  d5157f8bc52965390fa21ad5842a8502bc3eb8b0930f3f...   \n",
       "1         detail  61ef3869355b78e11011f39fc7ac8f8dfb209b3442a9d5...   \n",
       "\n",
       "   server_timestamp_epoch_ms  \\\n",
       "0              1550885210881   \n",
       "1              1550885213307   \n",
       "\n",
       "                                          hashed_url  is_search  is_test  \\\n",
       "0  7e4527ac6a32deed4f4f06bb7c49b907b7ca371e59d57d...          0        0   \n",
       "1  4ed279f4f0deab6dfc80f4f7bf49d527fd894fa478a9ce...          0        0   \n",
       "\n",
       "  query_vector clicked_skus_hash product_skus_hash  \\\n",
       "0          NaN               NaN               NaN   \n",
       "1          NaN               NaN               NaN   \n",
       "\n",
       "                                       main_category  \\\n",
       "0  0665a81d19c89281cc00e7f7d779ded2ed42c933838602...   \n",
       "1  0665a81d19c89281cc00e7f7d779ded2ed42c933838602...   \n",
       "\n",
       "                                       category_hash  price_bucket  \\\n",
       "0  0665a81d19c89281cc00e7f7d779ded2ed42c933838602...          10.0   \n",
       "1  0665a81d19c89281cc00e7f7d779ded2ed42c933838602...          10.0   \n",
       "\n",
       "   mean_price_hierarchy  mean_price_main  \n",
       "0              9.857143         5.009099  \n",
       "1              9.857143         5.009099  "
      ]
     },
     "execution_count": 33,
     "metadata": {},
     "output_type": "execute_result"
    }
   ],
   "source": [
    "event_df.head(2)"
   ]
  },
  {
   "cell_type": "markdown",
   "metadata": {},
   "source": [
    "* **Remove duplicated interactions with the same product**: encode original information as binary flags"
   ]
  },
  {
   "cell_type": "code",
   "execution_count": 34,
   "metadata": {},
   "outputs": [],
   "source": [
    "product_interactions = event_df.groupby(['session_id_hash', 'product_sku_hash']).agg({\n",
    "    'product_sku_hash': len,\n",
    "    'product_action': [lambda x: 'add' in list(x), \n",
    "                       lambda x: 'detail' in list(x),\n",
    "                       lambda x: 'purchase' in list(x),\n",
    "                       lambda x: 'remove' in list(x),\n",
    "                       lambda x: 'click' in list(x),\n",
    "                      ]\n",
    "}).droplevel(0, axis=1)"
   ]
  },
  {
   "cell_type": "code",
   "execution_count": 35,
   "metadata": {},
   "outputs": [],
   "source": [
    "product_interactions = product_interactions.reset_index()"
   ]
  },
  {
   "cell_type": "code",
   "execution_count": 36,
   "metadata": {},
   "outputs": [],
   "source": [
    "product_interactions.columns = ['session_id_hash', 'product_sku_hash', 'nb_interactions',\n",
    "                                'has_been_added_to_cart', 'has_been_detailed', \n",
    "                                'has_been_purchased', 'has_been_removed_from_cart', 'has_been_clicked' ]"
   ]
  },
  {
   "cell_type": "code",
   "execution_count": 37,
   "metadata": {},
   "outputs": [
    {
     "data": {
      "text/html": [
       "<div>\n",
       "<style scoped>\n",
       "    .dataframe tbody tr th:only-of-type {\n",
       "        vertical-align: middle;\n",
       "    }\n",
       "\n",
       "    .dataframe tbody tr th {\n",
       "        vertical-align: top;\n",
       "    }\n",
       "\n",
       "    .dataframe thead th {\n",
       "        text-align: right;\n",
       "    }\n",
       "</style>\n",
       "<table border=\"1\" class=\"dataframe\">\n",
       "  <thead>\n",
       "    <tr style=\"text-align: right;\">\n",
       "      <th></th>\n",
       "      <th>session_id_hash</th>\n",
       "      <th>product_sku_hash</th>\n",
       "      <th>nb_interactions</th>\n",
       "      <th>has_been_added_to_cart</th>\n",
       "      <th>has_been_detailed</th>\n",
       "      <th>has_been_purchased</th>\n",
       "      <th>has_been_removed_from_cart</th>\n",
       "      <th>has_been_clicked</th>\n",
       "    </tr>\n",
       "  </thead>\n",
       "  <tbody>\n",
       "    <tr>\n",
       "      <th>0</th>\n",
       "      <td>00000114e1075962f022114fcfc17f2d874e694ac5d201...</td>\n",
       "      <td>4945f2fa8e87cb7501702ed3dce26253296eae7a8f670f...</td>\n",
       "      <td>1</td>\n",
       "      <td>False</td>\n",
       "      <td>True</td>\n",
       "      <td>False</td>\n",
       "      <td>False</td>\n",
       "      <td>False</td>\n",
       "    </tr>\n",
       "    <tr>\n",
       "      <th>1</th>\n",
       "      <td>00000114e1075962f022114fcfc17f2d874e694ac5d201...</td>\n",
       "      <td>6ff8d0f30bbe66cfec7d87fc7e22bd8b1defd47ff4aaaa...</td>\n",
       "      <td>1</td>\n",
       "      <td>False</td>\n",
       "      <td>True</td>\n",
       "      <td>False</td>\n",
       "      <td>False</td>\n",
       "      <td>False</td>\n",
       "    </tr>\n",
       "  </tbody>\n",
       "</table>\n",
       "</div>"
      ],
      "text/plain": [
       "                                     session_id_hash  \\\n",
       "0  00000114e1075962f022114fcfc17f2d874e694ac5d201...   \n",
       "1  00000114e1075962f022114fcfc17f2d874e694ac5d201...   \n",
       "\n",
       "                                    product_sku_hash  nb_interactions  \\\n",
       "0  4945f2fa8e87cb7501702ed3dce26253296eae7a8f670f...                1   \n",
       "1  6ff8d0f30bbe66cfec7d87fc7e22bd8b1defd47ff4aaaa...                1   \n",
       "\n",
       "   has_been_added_to_cart  has_been_detailed  has_been_purchased  \\\n",
       "0                   False               True               False   \n",
       "1                   False               True               False   \n",
       "\n",
       "   has_been_removed_from_cart  has_been_clicked  \n",
       "0                       False             False  \n",
       "1                       False             False  "
      ]
     },
     "execution_count": 37,
     "metadata": {},
     "output_type": "execute_result"
    }
   ],
   "source": [
    "product_interactions.head(2)"
   ]
  },
  {
   "cell_type": "markdown",
   "metadata": {},
   "source": [
    "-  **Remove repeated interactions of event-product to align with private test set** "
   ]
  },
  {
   "cell_type": "code",
   "execution_count": 38,
   "metadata": {},
   "outputs": [],
   "source": [
    "event_df = event_df.sort_values(['session_id_hash', 'server_timestamp_epoch_ms'])"
   ]
  },
  {
   "cell_type": "code",
   "execution_count": 39,
   "metadata": {},
   "outputs": [],
   "source": [
    "event_df = event_df.drop_duplicates(['session_id_hash','event_type','product_sku_hash','hashed_url'], keep='first')"
   ]
  },
  {
   "cell_type": "code",
   "execution_count": 40,
   "metadata": {},
   "outputs": [
    {
     "data": {
      "text/plain": [
       "(22364905, 16)"
      ]
     },
     "execution_count": 40,
     "metadata": {},
     "output_type": "execute_result"
    }
   ],
   "source": [
    "event_df.shape"
   ]
  },
  {
   "cell_type": "markdown",
   "metadata": {},
   "source": [
    "*  **Merge product interactions info and event df** "
   ]
  },
  {
   "cell_type": "code",
   "execution_count": 41,
   "metadata": {},
   "outputs": [],
   "source": [
    "event_df = event_df.merge(product_interactions, on=['session_id_hash', 'product_sku_hash'], how='left')"
   ]
  },
  {
   "cell_type": "code",
   "execution_count": 42,
   "metadata": {},
   "outputs": [
    {
     "data": {
      "text/plain": [
       "(22364905, 22)"
      ]
     },
     "execution_count": 42,
     "metadata": {},
     "output_type": "execute_result"
    }
   ],
   "source": [
    "event_df.shape"
   ]
  },
  {
   "cell_type": "code",
   "execution_count": 43,
   "metadata": {},
   "outputs": [
    {
     "data": {
      "text/html": [
       "<div>\n",
       "<style scoped>\n",
       "    .dataframe tbody tr th:only-of-type {\n",
       "        vertical-align: middle;\n",
       "    }\n",
       "\n",
       "    .dataframe tbody tr th {\n",
       "        vertical-align: top;\n",
       "    }\n",
       "\n",
       "    .dataframe thead th {\n",
       "        text-align: right;\n",
       "    }\n",
       "</style>\n",
       "<table border=\"1\" class=\"dataframe\">\n",
       "  <thead>\n",
       "    <tr style=\"text-align: right;\">\n",
       "      <th></th>\n",
       "      <th>session_id_hash</th>\n",
       "      <th>event_type</th>\n",
       "      <th>product_action</th>\n",
       "      <th>product_sku_hash</th>\n",
       "      <th>server_timestamp_epoch_ms</th>\n",
       "      <th>hashed_url</th>\n",
       "      <th>is_search</th>\n",
       "      <th>is_test</th>\n",
       "      <th>query_vector</th>\n",
       "      <th>clicked_skus_hash</th>\n",
       "      <th>...</th>\n",
       "      <th>category_hash</th>\n",
       "      <th>price_bucket</th>\n",
       "      <th>mean_price_hierarchy</th>\n",
       "      <th>mean_price_main</th>\n",
       "      <th>nb_interactions</th>\n",
       "      <th>has_been_added_to_cart</th>\n",
       "      <th>has_been_detailed</th>\n",
       "      <th>has_been_purchased</th>\n",
       "      <th>has_been_removed_from_cart</th>\n",
       "      <th>has_been_clicked</th>\n",
       "    </tr>\n",
       "  </thead>\n",
       "  <tbody>\n",
       "    <tr>\n",
       "      <th>0</th>\n",
       "      <td>00000114e1075962f022114fcfc17f2d874e694ac5d201...</td>\n",
       "      <td>pageview</td>\n",
       "      <td>NaN</td>\n",
       "      <td>NaN</td>\n",
       "      <td>1552423391039</td>\n",
       "      <td>0aa1084eddfb08e4dffbb5a2aa98a5e9679382d982dd97...</td>\n",
       "      <td>0</td>\n",
       "      <td>0</td>\n",
       "      <td>NaN</td>\n",
       "      <td>NaN</td>\n",
       "      <td>...</td>\n",
       "      <td>NaN</td>\n",
       "      <td>NaN</td>\n",
       "      <td>NaN</td>\n",
       "      <td>NaN</td>\n",
       "      <td>NaN</td>\n",
       "      <td>NaN</td>\n",
       "      <td>NaN</td>\n",
       "      <td>NaN</td>\n",
       "      <td>NaN</td>\n",
       "      <td>NaN</td>\n",
       "    </tr>\n",
       "    <tr>\n",
       "      <th>1</th>\n",
       "      <td>00000114e1075962f022114fcfc17f2d874e694ac5d201...</td>\n",
       "      <td>event_product</td>\n",
       "      <td>detail</td>\n",
       "      <td>cf2f88cb43c1713538f7dfd2aa498a2cb9ebc0c99feeac...</td>\n",
       "      <td>1552423391039</td>\n",
       "      <td>0aa1084eddfb08e4dffbb5a2aa98a5e9679382d982dd97...</td>\n",
       "      <td>0</td>\n",
       "      <td>0</td>\n",
       "      <td>NaN</td>\n",
       "      <td>NaN</td>\n",
       "      <td>...</td>\n",
       "      <td>06fa312761d4b39e2f649781514ac69a4c1505c221fc46...</td>\n",
       "      <td>10.0</td>\n",
       "      <td>9.469945</td>\n",
       "      <td>5.69263</td>\n",
       "      <td>3.0</td>\n",
       "      <td>True</td>\n",
       "      <td>True</td>\n",
       "      <td>False</td>\n",
       "      <td>False</td>\n",
       "      <td>False</td>\n",
       "    </tr>\n",
       "  </tbody>\n",
       "</table>\n",
       "<p>2 rows × 22 columns</p>\n",
       "</div>"
      ],
      "text/plain": [
       "                                     session_id_hash     event_type  \\\n",
       "0  00000114e1075962f022114fcfc17f2d874e694ac5d201...       pageview   \n",
       "1  00000114e1075962f022114fcfc17f2d874e694ac5d201...  event_product   \n",
       "\n",
       "  product_action                                   product_sku_hash  \\\n",
       "0            NaN                                                NaN   \n",
       "1         detail  cf2f88cb43c1713538f7dfd2aa498a2cb9ebc0c99feeac...   \n",
       "\n",
       "   server_timestamp_epoch_ms  \\\n",
       "0              1552423391039   \n",
       "1              1552423391039   \n",
       "\n",
       "                                          hashed_url  is_search  is_test  \\\n",
       "0  0aa1084eddfb08e4dffbb5a2aa98a5e9679382d982dd97...          0        0   \n",
       "1  0aa1084eddfb08e4dffbb5a2aa98a5e9679382d982dd97...          0        0   \n",
       "\n",
       "  query_vector clicked_skus_hash  ...  \\\n",
       "0          NaN               NaN  ...   \n",
       "1          NaN               NaN  ...   \n",
       "\n",
       "                                       category_hash price_bucket  \\\n",
       "0                                                NaN          NaN   \n",
       "1  06fa312761d4b39e2f649781514ac69a4c1505c221fc46...         10.0   \n",
       "\n",
       "  mean_price_hierarchy  mean_price_main  nb_interactions  \\\n",
       "0                  NaN              NaN              NaN   \n",
       "1             9.469945          5.69263              3.0   \n",
       "\n",
       "   has_been_added_to_cart  has_been_detailed has_been_purchased  \\\n",
       "0                     NaN                NaN                NaN   \n",
       "1                    True               True              False   \n",
       "\n",
       "  has_been_removed_from_cart has_been_clicked  \n",
       "0                        NaN              NaN  \n",
       "1                      False            False  \n",
       "\n",
       "[2 rows x 22 columns]"
      ]
     },
     "execution_count": 43,
     "metadata": {},
     "output_type": "execute_result"
    }
   ],
   "source": [
    "event_df.head(2)"
   ]
  },
  {
   "cell_type": "code",
   "execution_count": 44,
   "metadata": {},
   "outputs": [],
   "source": [
    "del product_interactions"
   ]
  },
  {
   "cell_type": "markdown",
   "metadata": {},
   "source": [
    "*  **Add column product_url_hash**: SKUs are filled with hashed_url for pageview events"
   ]
  },
  {
   "cell_type": "code",
   "execution_count": 45,
   "metadata": {},
   "outputs": [],
   "source": [
    "event_df['product_url_hash'] = event_df['product_sku_hash'].fillna(event_df['hashed_url'])"
   ]
  },
  {
   "cell_type": "markdown",
   "metadata": {},
   "source": [
    "### Save into parquet files "
   ]
  },
  {
   "cell_type": "code",
   "execution_count": 46,
   "metadata": {},
   "outputs": [
    {
     "data": {
      "text/plain": [
       "pageview         14210232\n",
       "event_product     7883166\n",
       "search             259327\n",
       "Name: event_type, dtype: int64"
      ]
     },
     "execution_count": 46,
     "metadata": {},
     "output_type": "execute_result"
    }
   ],
   "source": [
    "event_df.event_type.value_counts()"
   ]
  },
  {
   "cell_type": "code",
   "execution_count": 47,
   "metadata": {},
   "outputs": [],
   "source": [
    "# save to parquet file with 40 partitions \n",
    "event_df['parquet_split'] =  np.random.randint(0,40,size=event_df.shape[0])\n",
    "event_df.to_parquet(os.path.join(OUTPUT_DIR, \"event_train_v4\"), partition_cols=['parquet_split'])"
   ]
  },
  {
   "cell_type": "code",
   "execution_count": 48,
   "metadata": {},
   "outputs": [
    {
     "data": {
      "text/plain": [
       "17006"
      ]
     },
     "execution_count": 48,
     "metadata": {},
     "output_type": "execute_result"
    }
   ],
   "source": [
    "import gc\n",
    "del event_df\n",
    "gc.collect()"
   ]
  },
  {
   "cell_type": "markdown",
   "metadata": {},
   "source": [
    "# <a id='row_workflow'> Define the preprocessed row interactions table </a>"
   ]
  },
  {
   "cell_type": "code",
   "execution_count": 49,
   "metadata": {},
   "outputs": [],
   "source": [
    "import glob\n",
    "files = glob.glob(OUTPUT_DIR + '/event_train_v4/parquet_split*/*.parquet')"
   ]
  },
  {
   "cell_type": "markdown",
   "metadata": {},
   "source": [
    "- **1st workflow: fill missing values, encode categorical variables and normalize numericals**"
   ]
  },
  {
   "cell_type": "code",
   "execution_count": 52,
   "metadata": {},
   "outputs": [],
   "source": [
    "#  load data \n",
    "df_event = nvt.Dataset(files, part_size=\"1GB\") \n",
    "\n",
    "# convert timestamp to datetime object\n",
    "to_datetime = [\"server_timestamp_epoch_ms\"] >> nvt.ops.LambdaOp(lambda col: cudf.to_datetime(col, unit='ms')) >> nvt.ops.Rename( f = lambda x: 'timestamp')\n",
    "\n",
    "#categorical features\n",
    "# fill missing product_actions\n",
    "missing_action = ['product_action'] >> nvt.ops.FillMissing(fill_val='view')  >> nvt.ops.Rename(postfix = '_filled')\n",
    "categ_feats = ['session_id_hash',  'event_type', 'price_bucket', 'main_category', 'category_hash']\n",
    "cat_feats = missing_action + categ_feats >> nvt.ops.Categorify()\n",
    "\n",
    "# fill missing product ids before categorify to keep id '0' for padding \n",
    "missing_ids = ['product_sku_hash','hashed_url', 'product_url_hash' ] >> nvt.ops.FillMissing(fill_val='missing')\n",
    "cat_product_ids = missing_ids >> nvt.ops.Categorify()\n",
    "\n",
    "# numerical features \n",
    "cont_feats = ['mean_price_hierarchy', 'mean_price_main', 'nb_interactions'] >> nvt.ops.FillMedian()\n",
    "continuous_feats = cont_feats >> nvt.ops.Normalize()\n",
    "\n",
    "#bool features \n",
    "bool_feats = ['has_been_added_to_cart', 'has_been_detailed', 'has_been_purchased', \n",
    "              'has_been_removed_from_cart', 'has_been_clicked', 'is_search', 'is_test']\n",
    "boolean_feats = bool_feats >> nvt.ops.FillMissing(fill_val=0)"
   ]
  },
  {
   "cell_type": "code",
   "execution_count": 53,
   "metadata": {},
   "outputs": [
    {
     "data": {
      "text/plain": [
       "22364905"
      ]
     },
     "execution_count": 53,
     "metadata": {},
     "output_type": "execute_result"
    }
   ],
   "source": [
    "workflow = nvt.Workflow(to_datetime + cat_feats + cat_product_ids + continuous_feats + boolean_feats)\n",
    "workflow.fit(df_event)\n",
    "new_gdf = workflow.transform(df_event).to_ddf().compute()\n",
    "len(new_gdf)"
   ]
  },
  {
   "cell_type": "code",
   "execution_count": 54,
   "metadata": {},
   "outputs": [
    {
     "data": {
      "text/plain": [
       "Index(['timestamp', 'product_action_filled', 'session_id_hash', 'event_type',\n",
       "       'price_bucket', 'main_category', 'category_hash', 'product_sku_hash',\n",
       "       'hashed_url', 'product_url_hash', 'mean_price_hierarchy',\n",
       "       'mean_price_main', 'nb_interactions', 'has_been_added_to_cart',\n",
       "       'has_been_detailed', 'has_been_purchased', 'has_been_removed_from_cart',\n",
       "       'has_been_clicked', 'is_search', 'is_test'],\n",
       "      dtype='object')"
      ]
     },
     "execution_count": 54,
     "metadata": {},
     "output_type": "execute_result"
    }
   ],
   "source": [
    "new_gdf.columns"
   ]
  },
  {
   "cell_type": "code",
   "execution_count": 55,
   "metadata": {},
   "outputs": [],
   "source": [
    "# save the workflow : \n",
    "workflow.save(os.path.join(OUTPUT_DIR, \"categorify_workflow\"))"
   ]
  },
  {
   "cell_type": "markdown",
   "metadata": {},
   "source": [
    "- **Item recency:** include the item first time seen feature using product_url_hash column "
   ]
  },
  {
   "cell_type": "code",
   "execution_count": 56,
   "metadata": {},
   "outputs": [],
   "source": [
    "items_first_ts_df = new_gdf.groupby('product_url_hash').agg({'timestamp': 'min'}).reset_index().rename(columns={'timestamp': 'itemid_ts_first'})\n",
    "interactions_merged_df = new_gdf.merge(items_first_ts_df, on=['product_url_hash'], how='left')"
   ]
  },
  {
   "cell_type": "code",
   "execution_count": 57,
   "metadata": {},
   "outputs": [
    {
     "data": {
      "text/plain": [
       "(22364905, 21)"
      ]
     },
     "execution_count": 57,
     "metadata": {},
     "output_type": "execute_result"
    }
   ],
   "source": [
    "interactions_merged_df.shape"
   ]
  },
  {
   "cell_type": "code",
   "execution_count": 58,
   "metadata": {},
   "outputs": [
    {
     "data": {
      "text/plain": [
       "(22364905, 21)"
      ]
     },
     "execution_count": 58,
     "metadata": {},
     "output_type": "execute_result"
    }
   ],
   "source": [
    "interactions_merged_df.shape"
   ]
  },
  {
   "cell_type": "markdown",
   "metadata": {},
   "source": [
    "- **Save encoded interaction table to parquet file** "
   ]
  },
  {
   "cell_type": "code",
   "execution_count": 59,
   "metadata": {},
   "outputs": [
    {
     "data": {
      "text/html": [
       "<div>\n",
       "<style scoped>\n",
       "    .dataframe tbody tr th:only-of-type {\n",
       "        vertical-align: middle;\n",
       "    }\n",
       "\n",
       "    .dataframe tbody tr th {\n",
       "        vertical-align: top;\n",
       "    }\n",
       "\n",
       "    .dataframe thead th {\n",
       "        text-align: right;\n",
       "    }\n",
       "</style>\n",
       "<table border=\"1\" class=\"dataframe\">\n",
       "  <thead>\n",
       "    <tr style=\"text-align: right;\">\n",
       "      <th></th>\n",
       "      <th>session_id_hash</th>\n",
       "      <th>timestamp</th>\n",
       "      <th>event_type</th>\n",
       "      <th>product_action_filled</th>\n",
       "      <th>product_sku_hash</th>\n",
       "      <th>hashed_url</th>\n",
       "      <th>product_url_hash</th>\n",
       "      <th>main_category</th>\n",
       "      <th>category_hash</th>\n",
       "      <th>price_bucket</th>\n",
       "      <th>...</th>\n",
       "      <th>mean_price_main</th>\n",
       "      <th>itemid_ts_first</th>\n",
       "      <th>nb_interactions</th>\n",
       "      <th>has_been_added_to_cart</th>\n",
       "      <th>has_been_detailed</th>\n",
       "      <th>has_been_purchased</th>\n",
       "      <th>has_been_removed_from_cart</th>\n",
       "      <th>has_been_clicked</th>\n",
       "      <th>is_search</th>\n",
       "      <th>is_test</th>\n",
       "    </tr>\n",
       "  </thead>\n",
       "  <tbody>\n",
       "    <tr>\n",
       "      <th>0</th>\n",
       "      <td>227553</td>\n",
       "      <td>2019-01-16 20:18:36.251</td>\n",
       "      <td>2</td>\n",
       "      <td>6</td>\n",
       "      <td>58914</td>\n",
       "      <td>131410</td>\n",
       "      <td>131212</td>\n",
       "      <td>0</td>\n",
       "      <td>0</td>\n",
       "      <td>0</td>\n",
       "      <td>...</td>\n",
       "      <td>0.042575</td>\n",
       "      <td>2019-01-15 05:03:02.542</td>\n",
       "      <td>-0.170007</td>\n",
       "      <td>False</td>\n",
       "      <td>False</td>\n",
       "      <td>False</td>\n",
       "      <td>False</td>\n",
       "      <td>False</td>\n",
       "      <td>0</td>\n",
       "      <td>0</td>\n",
       "    </tr>\n",
       "    <tr>\n",
       "      <th>1</th>\n",
       "      <td>227568</td>\n",
       "      <td>2019-04-10 13:22:00.800</td>\n",
       "      <td>1</td>\n",
       "      <td>3</td>\n",
       "      <td>27896</td>\n",
       "      <td>325454</td>\n",
       "      <td>235281</td>\n",
       "      <td>1</td>\n",
       "      <td>7</td>\n",
       "      <td>3</td>\n",
       "      <td>...</td>\n",
       "      <td>-2.446339</td>\n",
       "      <td>2019-01-16 23:02:11.599</td>\n",
       "      <td>-0.170007</td>\n",
       "      <td>False</td>\n",
       "      <td>True</td>\n",
       "      <td>False</td>\n",
       "      <td>False</td>\n",
       "      <td>False</td>\n",
       "      <td>0</td>\n",
       "      <td>0</td>\n",
       "    </tr>\n",
       "    <tr>\n",
       "      <th>2</th>\n",
       "      <td>227573</td>\n",
       "      <td>2019-04-04 21:58:46.525</td>\n",
       "      <td>1</td>\n",
       "      <td>3</td>\n",
       "      <td>33671</td>\n",
       "      <td>456797</td>\n",
       "      <td>283556</td>\n",
       "      <td>2</td>\n",
       "      <td>63</td>\n",
       "      <td>1</td>\n",
       "      <td>...</td>\n",
       "      <td>0.042575</td>\n",
       "      <td>2019-01-15 20:46:17.448</td>\n",
       "      <td>-0.170007</td>\n",
       "      <td>False</td>\n",
       "      <td>True</td>\n",
       "      <td>False</td>\n",
       "      <td>False</td>\n",
       "      <td>False</td>\n",
       "      <td>0</td>\n",
       "      <td>0</td>\n",
       "    </tr>\n",
       "    <tr>\n",
       "      <th>3</th>\n",
       "      <td>227574</td>\n",
       "      <td>2019-03-09 01:21:26.305</td>\n",
       "      <td>2</td>\n",
       "      <td>6</td>\n",
       "      <td>58914</td>\n",
       "      <td>137281</td>\n",
       "      <td>137056</td>\n",
       "      <td>0</td>\n",
       "      <td>0</td>\n",
       "      <td>0</td>\n",
       "      <td>...</td>\n",
       "      <td>0.042575</td>\n",
       "      <td>2019-01-15 20:47:00.535</td>\n",
       "      <td>-0.170007</td>\n",
       "      <td>False</td>\n",
       "      <td>False</td>\n",
       "      <td>False</td>\n",
       "      <td>False</td>\n",
       "      <td>False</td>\n",
       "      <td>0</td>\n",
       "      <td>0</td>\n",
       "    </tr>\n",
       "    <tr>\n",
       "      <th>4</th>\n",
       "      <td>227598</td>\n",
       "      <td>2019-04-13 01:32:21.534</td>\n",
       "      <td>2</td>\n",
       "      <td>6</td>\n",
       "      <td>58914</td>\n",
       "      <td>86991</td>\n",
       "      <td>86888</td>\n",
       "      <td>0</td>\n",
       "      <td>0</td>\n",
       "      <td>0</td>\n",
       "      <td>...</td>\n",
       "      <td>0.042575</td>\n",
       "      <td>2019-01-15 19:44:39.637</td>\n",
       "      <td>-0.170007</td>\n",
       "      <td>False</td>\n",
       "      <td>False</td>\n",
       "      <td>False</td>\n",
       "      <td>False</td>\n",
       "      <td>False</td>\n",
       "      <td>0</td>\n",
       "      <td>0</td>\n",
       "    </tr>\n",
       "  </tbody>\n",
       "</table>\n",
       "<p>5 rows × 21 columns</p>\n",
       "</div>"
      ],
      "text/plain": [
       "   session_id_hash               timestamp  event_type  product_action_filled  \\\n",
       "0           227553 2019-01-16 20:18:36.251           2                      6   \n",
       "1           227568 2019-04-10 13:22:00.800           1                      3   \n",
       "2           227573 2019-04-04 21:58:46.525           1                      3   \n",
       "3           227574 2019-03-09 01:21:26.305           2                      6   \n",
       "4           227598 2019-04-13 01:32:21.534           2                      6   \n",
       "\n",
       "   product_sku_hash  hashed_url  product_url_hash  main_category  \\\n",
       "0             58914      131410            131212              0   \n",
       "1             27896      325454            235281              1   \n",
       "2             33671      456797            283556              2   \n",
       "3             58914      137281            137056              0   \n",
       "4             58914       86991             86888              0   \n",
       "\n",
       "   category_hash  price_bucket  ...  mean_price_main         itemid_ts_first  \\\n",
       "0              0             0  ...         0.042575 2019-01-15 05:03:02.542   \n",
       "1              7             3  ...        -2.446339 2019-01-16 23:02:11.599   \n",
       "2             63             1  ...         0.042575 2019-01-15 20:46:17.448   \n",
       "3              0             0  ...         0.042575 2019-01-15 20:47:00.535   \n",
       "4              0             0  ...         0.042575 2019-01-15 19:44:39.637   \n",
       "\n",
       "  nb_interactions  has_been_added_to_cart  has_been_detailed  \\\n",
       "0       -0.170007                   False              False   \n",
       "1       -0.170007                   False               True   \n",
       "2       -0.170007                   False               True   \n",
       "3       -0.170007                   False              False   \n",
       "4       -0.170007                   False              False   \n",
       "\n",
       "   has_been_purchased  has_been_removed_from_cart  has_been_clicked  \\\n",
       "0               False                       False             False   \n",
       "1               False                       False             False   \n",
       "2               False                       False             False   \n",
       "3               False                       False             False   \n",
       "4               False                       False             False   \n",
       "\n",
       "   is_search  is_test  \n",
       "0          0        0  \n",
       "1          0        0  \n",
       "2          0        0  \n",
       "3          0        0  \n",
       "4          0        0  \n",
       "\n",
       "[5 rows x 21 columns]"
      ]
     },
     "execution_count": 59,
     "metadata": {},
     "output_type": "execute_result"
    }
   ],
   "source": [
    "use_cols = ['session_id_hash', 'timestamp',  'event_type', 'product_action_filled',\n",
    "            \n",
    "            'product_sku_hash','hashed_url', 'product_url_hash',\n",
    "            \n",
    "            'main_category', 'category_hash', 'price_bucket', 'mean_price_hierarchy', 'mean_price_main', 'itemid_ts_first', \n",
    "            \n",
    "            'nb_interactions', 'has_been_added_to_cart', 'has_been_detailed', 'has_been_purchased', 'has_been_removed_from_cart', 'has_been_clicked',\n",
    "            \n",
    "            'is_search', 'is_test']\n",
    "\n",
    "interactions_merged_df[use_cols].head(5)"
   ]
  },
  {
   "cell_type": "code",
   "execution_count": 60,
   "metadata": {},
   "outputs": [],
   "source": [
    "interactions_merged_df[use_cols].to_parquet(os.path.join(OUTPUT_DIR, 'row_interactions_preproc_v4.parquet'))"
   ]
  },
  {
   "cell_type": "markdown",
   "metadata": {},
   "source": [
    "# <a id='session_workflow'>Preprocessing of session table - V4 </a>: "
   ]
  },
  {
   "cell_type": "code",
   "execution_count": 5,
   "metadata": {},
   "outputs": [],
   "source": [
    "interactions_merged_df = cudf.read_parquet(os.path.join(OUTPUT_DIR, 'row_interactions_preproc_v4.parquet'))"
   ]
  },
  {
   "cell_type": "code",
   "execution_count": 6,
   "metadata": {},
   "outputs": [],
   "source": [
    "OUTPUT_FOLDER = \"/workspace/coveo_dataset/\"\n",
    "!mkdir -p $OUTPUT_FOLDER"
   ]
  },
  {
   "cell_type": "code",
   "execution_count": 7,
   "metadata": {},
   "outputs": [],
   "source": [
    "#cont features\n",
    "cont_feats = ['mean_price_hierarchy', 'mean_price_main', 'nb_interactions'] >> nvt.ops.FillMedian()\n",
    "#bool features \n",
    "bool_feats = ['has_been_added_to_cart', 'has_been_detailed', 'has_been_purchased', \n",
    "              'has_been_removed_from_cart', 'has_been_clicked', 'is_search', 'is_test']\n",
    "interactions_merged_df[bool_feats] = interactions_merged_df[bool_feats].astype('int32')"
   ]
  },
  {
   "cell_type": "markdown",
   "metadata": {},
   "source": [
    "- **Define temporal features**"
   ]
  },
  {
   "cell_type": "code",
   "execution_count": 8,
   "metadata": {},
   "outputs": [],
   "source": [
    "# create time features\n",
    "sessionTime = ['timestamp']\n",
    "\n",
    "sessionTime_hour = (\n",
    "    sessionTime >> \n",
    "    #nvt.ops.LambdaOp(lambda col: cudf.to_datetime(col, unit='ms').dt.hour) >> \n",
    "    nvt.ops.LambdaOp(lambda col: col.dt.hour) >> \n",
    "    nvt.ops.Rename(postfix = '_hour')\n",
    ")\n",
    "sessionTime_weekday = (\n",
    "    sessionTime >> \n",
    "    #nvt.ops.LambdaOp(lambda col: cudf.to_datetime(col, unit='ms').dt.weekday) >> \n",
    "    nvt.ops.LambdaOp(lambda col: col.dt.weekday) >> \n",
    "    nvt.ops.Rename(postfix = '_wd')\n",
    ")\n",
    "sessionTime_day = (\n",
    "    sessionTime >> \n",
    "    nvt.ops.LambdaOp(lambda col: col.dt.day) >> \n",
    "    nvt.ops.Rename(postfix=\"_day\")\n",
    ")\n",
    "\n",
    "sessionTime_timestamp = (\n",
    "    sessionTime >> \n",
    "    nvt.ops.LambdaOp(lambda col: (col.astype(int) / 1e6).astype(int)) >> \n",
    "    nvt.ops.Rename(f = lambda col: \"ts\")\n",
    ")"
   ]
  },
  {
   "cell_type": "code",
   "execution_count": 9,
   "metadata": {},
   "outputs": [],
   "source": [
    "def get_cycled_feature_value_sin(col, max_value):\n",
    "    value_scaled = (col + 0.000001) / max_value\n",
    "    value_sin = np.sin(2*np.pi*value_scaled)\n",
    "    return value_sin\n",
    "\n",
    "def get_cycled_feature_value_cos(col, max_value):\n",
    "    value_scaled = (col + 0.000001) / max_value\n",
    "    value_cos = np.cos(2*np.pi*value_scaled)\n",
    "    return value_cos"
   ]
  },
  {
   "cell_type": "code",
   "execution_count": 10,
   "metadata": {},
   "outputs": [],
   "source": [
    "hour_sin = sessionTime_hour >> (lambda col: get_cycled_feature_value_sin(col, 24)) >> nvt.ops.Rename(postfix = '_sin')\n",
    "hour_cos = sessionTime_hour >> (lambda col: get_cycled_feature_value_cos(col, 24)) >> nvt.ops.Rename(postfix = '_cos')\n",
    "weekday_sin = sessionTime_weekday >> (lambda col: get_cycled_feature_value_sin(col+1, 7)) >> nvt.ops.Rename(postfix = '_sin')\n",
    "weekday_cos= sessionTime_weekday >> (lambda col: get_cycled_feature_value_cos(col+1, 7)) >> nvt.ops.Rename(postfix = '_cos')"
   ]
  },
  {
   "cell_type": "code",
   "execution_count": 11,
   "metadata": {},
   "outputs": [],
   "source": [
    "cycled_features = hour_sin + hour_cos + weekday_sin + weekday_cos"
   ]
  },
  {
   "cell_type": "code",
   "execution_count": 12,
   "metadata": {},
   "outputs": [
    {
     "data": {
      "text/plain": [
       "['timestamp_hour_sin',\n",
       " 'timestamp_hour_cos',\n",
       " 'timestamp_wd_sin',\n",
       " 'timestamp_wd_cos']"
      ]
     },
     "execution_count": 12,
     "metadata": {},
     "output_type": "execute_result"
    }
   ],
   "source": [
    "cycled_features.columns"
   ]
  },
  {
   "cell_type": "code",
   "execution_count": 13,
   "metadata": {},
   "outputs": [],
   "source": [
    "# calculate item recency \n",
    "# create custom op\n",
    "from nvtabular.ops import Operator\n",
    "\n",
    "class ItemRecency(Operator):\n",
    "    def transform(self, columns, gdf):\n",
    "        for column in columns:\n",
    "            col = gdf[column]\n",
    "            #col.loc[col == \"\"] = None\n",
    "            item_first_timestamp = gdf['itemid_ts_first']\n",
    "            delta_days = (col - item_first_timestamp).dt.days\n",
    "            gdf[column + \"_age_days\"] = delta_days * (delta_days >=0)\n",
    "        return gdf\n",
    "            \n",
    "    def output_column_names(self, columns):\n",
    "        return [column + \"_age_days\" for column in columns]\n",
    "            \n",
    "    def dependencies(self):\n",
    "        return [\"itemid_ts_first\"]"
   ]
  },
  {
   "cell_type": "code",
   "execution_count": 14,
   "metadata": {},
   "outputs": [],
   "source": [
    "recency_features = [\"timestamp\"] >> ItemRecency() \n",
    "recency_features_norm = recency_features >> nvt.ops.LogOp() >> nvt.ops.Normalize() >> nvt.ops.Rename(postfix = '_norm')"
   ]
  },
  {
   "cell_type": "code",
   "execution_count": 15,
   "metadata": {},
   "outputs": [],
   "source": [
    "recency_features.columns, recency_features_norm.columns\n",
    "time_features = (\n",
    "    sessionTime_timestamp +\n",
    "    sessionTime + \n",
    "    sessionTime_hour +\n",
    "    sessionTime_day + \n",
    "    sessionTime_weekday +\n",
    "    recency_features +\n",
    "    recency_features_norm + \n",
    "    cycled_features)"
   ]
  },
  {
   "cell_type": "code",
   "execution_count": 16,
   "metadata": {},
   "outputs": [
    {
     "data": {
      "text/plain": [
       "['ts',\n",
       " 'timestamp',\n",
       " 'timestamp_hour',\n",
       " 'timestamp_day',\n",
       " 'timestamp_wd',\n",
       " 'timestamp_age_days',\n",
       " 'timestamp_age_days_norm',\n",
       " 'timestamp_hour_sin',\n",
       " 'timestamp_hour_cos',\n",
       " 'timestamp_wd_sin',\n",
       " 'timestamp_wd_cos']"
      ]
     },
     "execution_count": 16,
     "metadata": {},
     "output_type": "execute_result"
    }
   ],
   "source": [
    "time_features.columns"
   ]
  },
  {
   "cell_type": "markdown",
   "metadata": {},
   "source": [
    "- **Grouping interactions into sessions**"
   ]
  },
  {
   "cell_type": "code",
   "execution_count": 17,
   "metadata": {},
   "outputs": [],
   "source": [
    "# Define Groupby Workflow: search columns are not used\n",
    "# N.B: Add the op ListSlice when upgrading nvt 0.5.1 to 0.6 \n",
    "filter_nan_products = (interactions_merged_df.columns >> nvt.ops.Filter(f=lambda df: df['product_sku_hash'] != 0))\n",
    "\n",
    "\n",
    "groupby_only_product = filter_nan_products - ['timestamp']  + time_features  >> nvt.ops.Groupby(\n",
    "    groupby_cols=[\"session_id_hash\"], \n",
    "    sort_cols=[\"ts\"],\n",
    "    aggs={\n",
    "       \"product_sku_hash\": [\"list\", \"count\"], \n",
    "    }\n",
    ")\n",
    "    \n",
    "groupby_product_url = ['session_id_hash', 'product_url_hash']  + time_features >> nvt.ops.Groupby(\n",
    "    groupby_cols=[\"session_id_hash\"], \n",
    "    sort_cols=[\"ts\"],\n",
    "    aggs={\n",
    "       \"product_url_hash\": [\"list\", \"count\"]\n",
    "    }\n",
    ")\n",
    "groupby_other_features =  bool_feats + cont_feats + ['product_sku_hash', 'product_action_filled' ,'session_id_hash', 'event_type',\n",
    "                                                                             'price_bucket', 'main_category', 'category_hash'] + time_features >> \\\n",
    "    nvt.ops.Groupby(\n",
    "    groupby_cols=[\"session_id_hash\"], \n",
    "    sort_cols=[\"ts\"],\n",
    "    aggs={\n",
    "        \"product_action_filled\": [\"list\"],     \n",
    "        \"event_type\": [\"list\"],    \n",
    "        \"price_bucket\": [\"list\"],\n",
    "        \"category_hash\": [\"list\"],\n",
    "        'has_been_added_to_cart': [\"list\"],\n",
    "        'has_been_detailed': [\"list\"],\n",
    "        'has_been_purchased': [\"list\"],\n",
    "        'has_been_removed_from_cart': [\"list\"],\n",
    "        'has_been_clicked': [\"list\"],\n",
    "        'mean_price_hierarchy':[\"list\"],\n",
    "        'mean_price_main':[\"list\"],\n",
    "        'nb_interactions':[\"list\"],\n",
    "        'main_category': [\"list\"],\n",
    "        'category_hash': [\"list\"],\n",
    "        \"ts\": [\"list\", \"first\", \"last\"],\n",
    "        \"is_test\": [\"last\"],\n",
    "        \"is_search\": [\"last\"],\n",
    "        \"timestamp\": [\"first\"],\n",
    "        'timestamp_day': [\"list\"],\n",
    "        'timestamp_hour': [\"list\"],\n",
    "        'timestamp_month': [\"list\"],\n",
    "        'timestamp_wd': [\"list\"],\n",
    "        'timestamp_age_days': [\"list\"],\n",
    "        'timestamp_age_days_norm': [\"list\"],\n",
    "        'timestamp_hour_sin': [\"list\"],\n",
    "        'timestamp_hour_sin_norm': [\"list\"],\n",
    "        'timestamp_hour_cos': [\"list\"],\n",
    "        'timestamp_hour_cos_norm': [\"list\"],\n",
    "        'timestamp_wd_sin': [\"list\"],\n",
    "        'timestamp_wd_sin_norm': [\"list\"],\n",
    "        'timestamp_wd_cos': [\"list\"],\n",
    "        'timestamp_wd_cos_norm': [\"list\"],   \n",
    "        },\n",
    "    name_sep=\"-\")"
   ]
  },
  {
   "cell_type": "markdown",
   "metadata": {},
   "source": [
    "### Three workflows "
   ]
  },
  {
   "cell_type": "markdown",
   "metadata": {},
   "source": [
    "- workflow 1 : group other features that user interactions "
   ]
  },
  {
   "cell_type": "code",
   "execution_count": 18,
   "metadata": {},
   "outputs": [],
   "source": [
    "remaining_columns = [x for x in groupby_other_features.columns if x!= 'timestamp-first']\n",
    "day_index = ((groupby_other_features - remaining_columns)  >> \n",
    "    nvt.ops.LambdaOp(lambda col: (col.max() - col).dt.days + 1) >> \n",
    "    nvt.ops.Rename(f = lambda col: \"day_index\")\n",
    ")              "
   ]
  },
  {
   "cell_type": "code",
   "execution_count": 19,
   "metadata": {},
   "outputs": [
    {
     "data": {
      "text/plain": [
       "5077052"
      ]
     },
     "execution_count": 19,
     "metadata": {},
     "output_type": "execute_result"
    }
   ],
   "source": [
    "workflow = nvt.Workflow(groupby_other_features + day_index)\n",
    "dataset = nvt.Dataset(interactions_merged_df, cpu=False)\n",
    "workflow.fit(dataset)\n",
    "new_gdf_other = workflow.transform(dataset).to_ddf().compute()\n",
    "len(new_gdf_other)"
   ]
  },
  {
   "cell_type": "code",
   "execution_count": 20,
   "metadata": {},
   "outputs": [
    {
     "data": {
      "text/html": [
       "<div>\n",
       "<style scoped>\n",
       "    .dataframe tbody tr th:only-of-type {\n",
       "        vertical-align: middle;\n",
       "    }\n",
       "\n",
       "    .dataframe tbody tr th {\n",
       "        vertical-align: top;\n",
       "    }\n",
       "\n",
       "    .dataframe thead th {\n",
       "        text-align: right;\n",
       "    }\n",
       "</style>\n",
       "<table border=\"1\" class=\"dataframe\">\n",
       "  <thead>\n",
       "    <tr style=\"text-align: right;\">\n",
       "      <th></th>\n",
       "      <th>main_category-list</th>\n",
       "      <th>has_been_removed_from_cart-list</th>\n",
       "      <th>nb_interactions-list</th>\n",
       "      <th>product_action_filled-list</th>\n",
       "      <th>timestamp-first</th>\n",
       "      <th>has_been_clicked-list</th>\n",
       "      <th>category_hash-list</th>\n",
       "      <th>timestamp_wd-list</th>\n",
       "      <th>is_test-last</th>\n",
       "      <th>has_been_added_to_cart-list</th>\n",
       "      <th>...</th>\n",
       "      <th>price_bucket-list</th>\n",
       "      <th>ts-first</th>\n",
       "      <th>mean_price_main-list</th>\n",
       "      <th>is_search-last</th>\n",
       "      <th>timestamp_age_days_norm-list</th>\n",
       "      <th>timestamp_hour_sin-list</th>\n",
       "      <th>timestamp_wd_cos-list</th>\n",
       "      <th>has_been_purchased-list</th>\n",
       "      <th>event_type-list</th>\n",
       "      <th>day_index</th>\n",
       "    </tr>\n",
       "  </thead>\n",
       "  <tbody>\n",
       "    <tr>\n",
       "      <th>0</th>\n",
       "      <td>[2, 0, 0, 0, 2, 0, 0, 0, 2, 0, 0, 0, 2, 0, 0]</td>\n",
       "      <td>[0, 0, 0, 0, 0, 0, 0, 0, 0, 0, 0, 0, 0, 0, 0]</td>\n",
       "      <td>[1.1184635, -0.17000672, -0.17000672, -0.17000...</td>\n",
       "      <td>[3, 6, 6, 6, 1, 6, 6, 6, 3, 6, 6, 6, 3, 6, 6]</td>\n",
       "      <td>2019-03-12 20:43:11.039</td>\n",
       "      <td>[0, 0, 0, 0, 0, 0, 0, 0, 0, 0, 0, 0, 0, 0, 0]</td>\n",
       "      <td>[87, 0, 0, 0, 87, 0, 0, 0, 87, 0, 0, 0, 87, 0, 0]</td>\n",
       "      <td>[1, 1, 1, 1, 1, 1, 1, 1, 1, 1, 1, 1, 1, 1, 1]</td>\n",
       "      <td>0</td>\n",
       "      <td>[1, 0, 0, 0, 1, 0, 0, 0, 0, 0, 0, 0, 0, 0, 0]</td>\n",
       "      <td>...</td>\n",
       "      <td>[10, 0, 0, 0, 10, 0, 0, 0, 10, 0, 0, 0, 10, 0, 0]</td>\n",
       "      <td>1552423</td>\n",
       "      <td>[0.042574957, 0.042574957, 0.042574957, 0.0425...</td>\n",
       "      <td>0</td>\n",
       "      <td>[0.80437595, 0.80437595, 0.80437595, 0.8043759...</td>\n",
       "      <td>[-0.866025, -0.866025, -0.70710653, -0.7071065...</td>\n",
       "      <td>[-0.22252177, -0.22252177, -0.22252177, -0.222...</td>\n",
       "      <td>[0, 0, 0, 0, 0, 0, 0, 0, 0, 0, 0, 0, 0, 0, 0]</td>\n",
       "      <td>[1, 2, 2, 2, 1, 2, 2, 2, 1, 2, 2, 2, 1, 2, 2]</td>\n",
       "      <td>63</td>\n",
       "    </tr>\n",
       "    <tr>\n",
       "      <th>1</th>\n",
       "      <td>[0, 0, 0, 0, 3]</td>\n",
       "      <td>[0, 0, 0, 0, 0]</td>\n",
       "      <td>[-0.17000672, -0.17000672, -0.17000672, -0.170...</td>\n",
       "      <td>[6, 6, 6, 6, 2]</td>\n",
       "      <td>2019-03-06 22:30:35.813</td>\n",
       "      <td>[0, 0, 0, 0, 1]</td>\n",
       "      <td>[0, 0, 0, 0, 138]</td>\n",
       "      <td>[2, 2, 2, 2, 2]</td>\n",
       "      <td>0</td>\n",
       "      <td>[0, 0, 0, 0, 0]</td>\n",
       "      <td>...</td>\n",
       "      <td>[0, 0, 0, 0, 8]</td>\n",
       "      <td>1551911</td>\n",
       "      <td>[0.042574957, 0.042574957, 0.042574957, 0.0425...</td>\n",
       "      <td>1</td>\n",
       "      <td>[0.7084063, 0.7084063, 0.7084063, 0.7084063, 0...</td>\n",
       "      <td>[-0.49999934, -0.49999934, -0.49999934, -0.499...</td>\n",
       "      <td>[-0.90096927, -0.90096927, -0.90096927, -0.900...</td>\n",
       "      <td>[0, 0, 0, 0, 0]</td>\n",
       "      <td>[2, 2, 2, 2, 3]</td>\n",
       "      <td>69</td>\n",
       "    </tr>\n",
       "  </tbody>\n",
       "</table>\n",
       "<p>2 rows × 30 columns</p>\n",
       "</div>"
      ],
      "text/plain": [
       "                              main_category-list  \\\n",
       "0  [2, 0, 0, 0, 2, 0, 0, 0, 2, 0, 0, 0, 2, 0, 0]   \n",
       "1                                [0, 0, 0, 0, 3]   \n",
       "\n",
       "                 has_been_removed_from_cart-list  \\\n",
       "0  [0, 0, 0, 0, 0, 0, 0, 0, 0, 0, 0, 0, 0, 0, 0]   \n",
       "1                                [0, 0, 0, 0, 0]   \n",
       "\n",
       "                                nb_interactions-list  \\\n",
       "0  [1.1184635, -0.17000672, -0.17000672, -0.17000...   \n",
       "1  [-0.17000672, -0.17000672, -0.17000672, -0.170...   \n",
       "\n",
       "                      product_action_filled-list         timestamp-first  \\\n",
       "0  [3, 6, 6, 6, 1, 6, 6, 6, 3, 6, 6, 6, 3, 6, 6] 2019-03-12 20:43:11.039   \n",
       "1                                [6, 6, 6, 6, 2] 2019-03-06 22:30:35.813   \n",
       "\n",
       "                           has_been_clicked-list  \\\n",
       "0  [0, 0, 0, 0, 0, 0, 0, 0, 0, 0, 0, 0, 0, 0, 0]   \n",
       "1                                [0, 0, 0, 0, 1]   \n",
       "\n",
       "                                  category_hash-list  \\\n",
       "0  [87, 0, 0, 0, 87, 0, 0, 0, 87, 0, 0, 0, 87, 0, 0]   \n",
       "1                                  [0, 0, 0, 0, 138]   \n",
       "\n",
       "                               timestamp_wd-list  is_test-last  \\\n",
       "0  [1, 1, 1, 1, 1, 1, 1, 1, 1, 1, 1, 1, 1, 1, 1]             0   \n",
       "1                                [2, 2, 2, 2, 2]             0   \n",
       "\n",
       "                     has_been_added_to_cart-list  ...  \\\n",
       "0  [1, 0, 0, 0, 1, 0, 0, 0, 0, 0, 0, 0, 0, 0, 0]  ...   \n",
       "1                                [0, 0, 0, 0, 0]  ...   \n",
       "\n",
       "                                   price_bucket-list ts-first  \\\n",
       "0  [10, 0, 0, 0, 10, 0, 0, 0, 10, 0, 0, 0, 10, 0, 0]  1552423   \n",
       "1                                    [0, 0, 0, 0, 8]  1551911   \n",
       "\n",
       "                                mean_price_main-list is_search-last  \\\n",
       "0  [0.042574957, 0.042574957, 0.042574957, 0.0425...              0   \n",
       "1  [0.042574957, 0.042574957, 0.042574957, 0.0425...              1   \n",
       "\n",
       "                        timestamp_age_days_norm-list  \\\n",
       "0  [0.80437595, 0.80437595, 0.80437595, 0.8043759...   \n",
       "1  [0.7084063, 0.7084063, 0.7084063, 0.7084063, 0...   \n",
       "\n",
       "                             timestamp_hour_sin-list  \\\n",
       "0  [-0.866025, -0.866025, -0.70710653, -0.7071065...   \n",
       "1  [-0.49999934, -0.49999934, -0.49999934, -0.499...   \n",
       "\n",
       "                               timestamp_wd_cos-list  \\\n",
       "0  [-0.22252177, -0.22252177, -0.22252177, -0.222...   \n",
       "1  [-0.90096927, -0.90096927, -0.90096927, -0.900...   \n",
       "\n",
       "                         has_been_purchased-list  \\\n",
       "0  [0, 0, 0, 0, 0, 0, 0, 0, 0, 0, 0, 0, 0, 0, 0]   \n",
       "1                                [0, 0, 0, 0, 0]   \n",
       "\n",
       "                                 event_type-list day_index  \n",
       "0  [1, 2, 2, 2, 1, 2, 2, 2, 1, 2, 2, 2, 1, 2, 2]        63  \n",
       "1                                [2, 2, 2, 2, 3]        69  \n",
       "\n",
       "[2 rows x 30 columns]"
      ]
     },
     "execution_count": 20,
     "metadata": {},
     "output_type": "execute_result"
    }
   ],
   "source": [
    "new_gdf_other.head(2)"
   ]
  },
  {
   "cell_type": "markdown",
   "metadata": {},
   "source": [
    "- workflow 2 : create the sequence of product interactions and pageviews"
   ]
  },
  {
   "cell_type": "code",
   "execution_count": 21,
   "metadata": {},
   "outputs": [
    {
     "data": {
      "text/plain": [
       "5077052"
      ]
     },
     "execution_count": 21,
     "metadata": {},
     "output_type": "execute_result"
    }
   ],
   "source": [
    "workflow = nvt.Workflow(groupby_product_url)\n",
    "dataset = nvt.Dataset(interactions_merged_df, cpu=False)\n",
    "workflow.fit(dataset)\n",
    "new_gdf_sku_url = workflow.transform(dataset).to_ddf().compute()\n",
    "len(new_gdf_sku_url)"
   ]
  },
  {
   "cell_type": "code",
   "execution_count": 22,
   "metadata": {},
   "outputs": [
    {
     "data": {
      "text/html": [
       "<div>\n",
       "<style scoped>\n",
       "    .dataframe tbody tr th:only-of-type {\n",
       "        vertical-align: middle;\n",
       "    }\n",
       "\n",
       "    .dataframe tbody tr th {\n",
       "        vertical-align: top;\n",
       "    }\n",
       "\n",
       "    .dataframe thead th {\n",
       "        text-align: right;\n",
       "    }\n",
       "</style>\n",
       "<table border=\"1\" class=\"dataframe\">\n",
       "  <thead>\n",
       "    <tr style=\"text-align: right;\">\n",
       "      <th></th>\n",
       "      <th>session_id_hash</th>\n",
       "      <th>product_url_hash_list</th>\n",
       "      <th>product_url_hash_count</th>\n",
       "    </tr>\n",
       "  </thead>\n",
       "  <tbody>\n",
       "    <tr>\n",
       "      <th>0</th>\n",
       "      <td>1</td>\n",
       "      <td>[402931, 20527, 32540, 131212, 402931, 453295,...</td>\n",
       "      <td>15</td>\n",
       "    </tr>\n",
       "    <tr>\n",
       "      <th>1</th>\n",
       "      <td>2</td>\n",
       "      <td>[238021, 390783, 131212, 128194, 392871]</td>\n",
       "      <td>5</td>\n",
       "    </tr>\n",
       "    <tr>\n",
       "      <th>2</th>\n",
       "      <td>3</td>\n",
       "      <td>[217635, 114863]</td>\n",
       "      <td>2</td>\n",
       "    </tr>\n",
       "    <tr>\n",
       "      <th>3</th>\n",
       "      <td>4</td>\n",
       "      <td>[108255]</td>\n",
       "      <td>1</td>\n",
       "    </tr>\n",
       "    <tr>\n",
       "      <th>4</th>\n",
       "      <td>5</td>\n",
       "      <td>[459422, 73300, 97217, 467562, 207892, 441663,...</td>\n",
       "      <td>36</td>\n",
       "    </tr>\n",
       "  </tbody>\n",
       "</table>\n",
       "</div>"
      ],
      "text/plain": [
       "   session_id_hash                              product_url_hash_list  \\\n",
       "0                1  [402931, 20527, 32540, 131212, 402931, 453295,...   \n",
       "1                2           [238021, 390783, 131212, 128194, 392871]   \n",
       "2                3                                   [217635, 114863]   \n",
       "3                4                                           [108255]   \n",
       "4                5  [459422, 73300, 97217, 467562, 207892, 441663,...   \n",
       "\n",
       "   product_url_hash_count  \n",
       "0                      15  \n",
       "1                       5  \n",
       "2                       2  \n",
       "3                       1  \n",
       "4                      36  "
      ]
     },
     "execution_count": 22,
     "metadata": {},
     "output_type": "execute_result"
    }
   ],
   "source": [
    "new_gdf_sku_url.head()"
   ]
  },
  {
   "cell_type": "markdown",
   "metadata": {},
   "source": [
    "- workflow 3 : create sequence with only product interactions"
   ]
  },
  {
   "cell_type": "code",
   "execution_count": 23,
   "metadata": {},
   "outputs": [
    {
     "data": {
      "text/plain": [
       "5077052"
      ]
     },
     "execution_count": 23,
     "metadata": {},
     "output_type": "execute_result"
    }
   ],
   "source": [
    "workflow = nvt.Workflow(groupby_only_product)\n",
    "dataset = nvt.Dataset(interactions_merged_df, cpu=False)\n",
    "workflow.fit(dataset)\n",
    "new_gdf_prod_only = workflow.transform(dataset).to_ddf().compute()\n",
    "len(new_gdf_prod_only)"
   ]
  },
  {
   "cell_type": "code",
   "execution_count": 24,
   "metadata": {},
   "outputs": [
    {
     "data": {
      "text/html": [
       "<div>\n",
       "<style scoped>\n",
       "    .dataframe tbody tr th:only-of-type {\n",
       "        vertical-align: middle;\n",
       "    }\n",
       "\n",
       "    .dataframe tbody tr th {\n",
       "        vertical-align: top;\n",
       "    }\n",
       "\n",
       "    .dataframe thead th {\n",
       "        text-align: right;\n",
       "    }\n",
       "</style>\n",
       "<table border=\"1\" class=\"dataframe\">\n",
       "  <thead>\n",
       "    <tr style=\"text-align: right;\">\n",
       "      <th></th>\n",
       "      <th>session_id_hash</th>\n",
       "      <th>product_sku_hash_count</th>\n",
       "      <th>product_sku_hash_list</th>\n",
       "    </tr>\n",
       "  </thead>\n",
       "  <tbody>\n",
       "    <tr>\n",
       "      <th>0</th>\n",
       "      <td>1</td>\n",
       "      <td>15</td>\n",
       "      <td>[47810, 58914, 58914, 58914, 47810, 58914, 589...</td>\n",
       "    </tr>\n",
       "    <tr>\n",
       "      <th>1</th>\n",
       "      <td>2</td>\n",
       "      <td>5</td>\n",
       "      <td>[58914, 58914, 58914, 58914, 46629]</td>\n",
       "    </tr>\n",
       "    <tr>\n",
       "      <th>2</th>\n",
       "      <td>3</td>\n",
       "      <td>2</td>\n",
       "      <td>[58914, 58914]</td>\n",
       "    </tr>\n",
       "    <tr>\n",
       "      <th>3</th>\n",
       "      <td>4</td>\n",
       "      <td>1</td>\n",
       "      <td>[58914]</td>\n",
       "    </tr>\n",
       "    <tr>\n",
       "      <th>4</th>\n",
       "      <td>5</td>\n",
       "      <td>36</td>\n",
       "      <td>[54427, 58914, 58914, 55344, 58914, 52381, 589...</td>\n",
       "    </tr>\n",
       "  </tbody>\n",
       "</table>\n",
       "</div>"
      ],
      "text/plain": [
       "   session_id_hash  product_sku_hash_count  \\\n",
       "0                1                      15   \n",
       "1                2                       5   \n",
       "2                3                       2   \n",
       "3                4                       1   \n",
       "4                5                      36   \n",
       "\n",
       "                               product_sku_hash_list  \n",
       "0  [47810, 58914, 58914, 58914, 47810, 58914, 589...  \n",
       "1                [58914, 58914, 58914, 58914, 46629]  \n",
       "2                                     [58914, 58914]  \n",
       "3                                            [58914]  \n",
       "4  [54427, 58914, 58914, 55344, 58914, 52381, 589...  "
      ]
     },
     "execution_count": 24,
     "metadata": {},
     "output_type": "execute_result"
    }
   ],
   "source": [
    "new_gdf_prod_only.head()"
   ]
  },
  {
   "cell_type": "markdown",
   "metadata": {},
   "source": [
    "### Merge the three resulting frames "
   ]
  },
  {
   "cell_type": "code",
   "execution_count": 25,
   "metadata": {},
   "outputs": [],
   "source": [
    "sessions_gdf = new_gdf_sku_url.merge(new_gdf_other, on='session_id_hash',  how='inner')"
   ]
  },
  {
   "cell_type": "code",
   "execution_count": 26,
   "metadata": {},
   "outputs": [],
   "source": [
    "sessions_gdf = sessions_gdf.merge(new_gdf_prod_only,  on='session_id_hash',  how='left' )"
   ]
  },
  {
   "cell_type": "code",
   "execution_count": 27,
   "metadata": {},
   "outputs": [
    {
     "data": {
      "text/plain": [
       "Index(['session_id_hash', 'product_url_hash_list', 'product_url_hash_count',\n",
       "       'main_category-list', 'has_been_removed_from_cart-list',\n",
       "       'nb_interactions-list', 'product_action_filled-list', 'timestamp-first',\n",
       "       'has_been_clicked-list', 'category_hash-list', 'timestamp_wd-list',\n",
       "       'is_test-last', 'has_been_added_to_cart-list',\n",
       "       'timestamp_age_days-list', 'has_been_detailed-list',\n",
       "       'timestamp_hour-list', 'ts-list', 'ts-last', 'timestamp_hour_cos-list',\n",
       "       'timestamp_wd_sin-list', 'timestamp_day-list',\n",
       "       'mean_price_hierarchy-list', 'price_bucket-list', 'ts-first',\n",
       "       'mean_price_main-list', 'is_search-last',\n",
       "       'timestamp_age_days_norm-list', 'timestamp_hour_sin-list',\n",
       "       'timestamp_wd_cos-list', 'has_been_purchased-list', 'event_type-list',\n",
       "       'day_index', 'product_sku_hash_count', 'product_sku_hash_list'],\n",
       "      dtype='object')"
      ]
     },
     "execution_count": 27,
     "metadata": {},
     "output_type": "execute_result"
    }
   ],
   "source": [
    "sessions_gdf.columns"
   ]
  },
  {
   "cell_type": "code",
   "execution_count": 28,
   "metadata": {},
   "outputs": [
    {
     "data": {
      "text/html": [
       "<div>\n",
       "<style scoped>\n",
       "    .dataframe tbody tr th:only-of-type {\n",
       "        vertical-align: middle;\n",
       "    }\n",
       "\n",
       "    .dataframe tbody tr th {\n",
       "        vertical-align: top;\n",
       "    }\n",
       "\n",
       "    .dataframe thead th {\n",
       "        text-align: right;\n",
       "    }\n",
       "</style>\n",
       "<table border=\"1\" class=\"dataframe\">\n",
       "  <thead>\n",
       "    <tr style=\"text-align: right;\">\n",
       "      <th></th>\n",
       "      <th>session_id_hash</th>\n",
       "      <th>day_index</th>\n",
       "      <th>product_sku_hash_count</th>\n",
       "      <th>product_sku_hash_list</th>\n",
       "      <th>product_url_hash_count</th>\n",
       "      <th>product_url_hash_list</th>\n",
       "      <th>has_been_removed_from_cart-list</th>\n",
       "      <th>has_been_added_to_cart-list</th>\n",
       "      <th>has_been_purchased-list</th>\n",
       "      <th>has_been_detailed-list</th>\n",
       "      <th>...</th>\n",
       "      <th>ts-first</th>\n",
       "      <th>ts-last</th>\n",
       "      <th>ts-list</th>\n",
       "      <th>timestamp_hour_cos-list</th>\n",
       "      <th>timestamp_hour_sin-list</th>\n",
       "      <th>timestamp_wd_sin-list</th>\n",
       "      <th>timestamp_wd_cos-list</th>\n",
       "      <th>timestamp_age_days-list</th>\n",
       "      <th>timestamp_age_days_norm-list</th>\n",
       "      <th>is_test-last</th>\n",
       "    </tr>\n",
       "  </thead>\n",
       "  <tbody>\n",
       "    <tr>\n",
       "      <th>0</th>\n",
       "      <td>54401</td>\n",
       "      <td>30</td>\n",
       "      <td>21</td>\n",
       "      <td>[58551, 58914, 17031, 21637, 52446, 58914, 107...</td>\n",
       "      <td>21</td>\n",
       "      <td>[494446, 212645, 142921, 182250, 442161, 36388...</td>\n",
       "      <td>[0, 0, 0, 0, 0, 0, 0, 0, 0, 0, 0, 0, 0, 0, 0, ...</td>\n",
       "      <td>[0, 0, 0, 0, 0, 0, 0, 0, 0, 0, 0, 0, 0, 0, 0, ...</td>\n",
       "      <td>[0, 0, 0, 0, 0, 0, 0, 0, 0, 0, 0, 0, 0, 0, 0, ...</td>\n",
       "      <td>[1, 0, 1, 1, 1, 0, 1, 1, 0, 1, 1, 0, 0, 1, 0, ...</td>\n",
       "      <td>...</td>\n",
       "      <td>1555263</td>\n",
       "      <td>1555265</td>\n",
       "      <td>[1555263, 1555263, 1555263, 1555263, 1555263, ...</td>\n",
       "      <td>[-0.25881854, -0.25881854, -0.25881854, -0.258...</td>\n",
       "      <td>[-0.965926, -0.965926, -0.965926, -0.965926, -...</td>\n",
       "      <td>[1.1285199e-06, 1.1285199e-06, 1.1285199e-06, ...</td>\n",
       "      <td>[1.0, 1.0, 1.0, 1.0, 1.0, 1.0, 1.0, 1.0, 1.0, ...</td>\n",
       "      <td>[80, 89, 89, 89, 89, 86, 52, 89, 89, 73, 46, 8...</td>\n",
       "      <td>[1.1075752, 1.1984842, 1.1984842, 1.1984842, 1...</td>\n",
       "      <td>0</td>\n",
       "    </tr>\n",
       "    <tr>\n",
       "      <th>1</th>\n",
       "      <td>54402</td>\n",
       "      <td>117</td>\n",
       "      <td>2</td>\n",
       "      <td>[58914, 58914]</td>\n",
       "      <td>2</td>\n",
       "      <td>[131212, 135345]</td>\n",
       "      <td>[0, 0]</td>\n",
       "      <td>[0, 0]</td>\n",
       "      <td>[0, 0]</td>\n",
       "      <td>[0, 0]</td>\n",
       "      <td>...</td>\n",
       "      <td>1547750</td>\n",
       "      <td>1547750</td>\n",
       "      <td>[1547750, 1547750]</td>\n",
       "      <td>[4.8876205e-07, 4.8876205e-07]</td>\n",
       "      <td>[-1.0, -1.0]</td>\n",
       "      <td>[-0.43388462, -0.43388462]</td>\n",
       "      <td>[-0.90096843, -0.90096843]</td>\n",
       "      <td>[2, 2]</td>\n",
       "      <td>[-1.7361957, -1.7361957]</td>\n",
       "      <td>0</td>\n",
       "    </tr>\n",
       "    <tr>\n",
       "      <th>2</th>\n",
       "      <td>54403</td>\n",
       "      <td>55</td>\n",
       "      <td>1</td>\n",
       "      <td>[58914]</td>\n",
       "      <td>1</td>\n",
       "      <td>[140656]</td>\n",
       "      <td>[0]</td>\n",
       "      <td>[0]</td>\n",
       "      <td>[0]</td>\n",
       "      <td>[0]</td>\n",
       "      <td>...</td>\n",
       "      <td>1553129</td>\n",
       "      <td>1553129</td>\n",
       "      <td>[1553129]</td>\n",
       "      <td>[1.0]</td>\n",
       "      <td>[2.6179939e-07]</td>\n",
       "      <td>[-0.43388462]</td>\n",
       "      <td>[-0.90096843]</td>\n",
       "      <td>[64]</td>\n",
       "      <td>[0.91769767]</td>\n",
       "      <td>0</td>\n",
       "    </tr>\n",
       "    <tr>\n",
       "      <th>3</th>\n",
       "      <td>54404</td>\n",
       "      <td>107</td>\n",
       "      <td>3</td>\n",
       "      <td>[58914, 58914, 58914]</td>\n",
       "      <td>3</td>\n",
       "      <td>[290789, 225684, 54617]</td>\n",
       "      <td>[0, 0, 0]</td>\n",
       "      <td>[0, 0, 0]</td>\n",
       "      <td>[0, 0, 0]</td>\n",
       "      <td>[0, 0, 0]</td>\n",
       "      <td>...</td>\n",
       "      <td>1548637</td>\n",
       "      <td>1548637</td>\n",
       "      <td>[1548637, 1548637, 1548637]</td>\n",
       "      <td>[0.96592575, 0.96592575, 0.96592575]</td>\n",
       "      <td>[0.25881928, 0.25881928, 0.25881928]</td>\n",
       "      <td>[0.7818321, 0.7818321, 0.7818321]</td>\n",
       "      <td>[0.6234891, 0.6234891, 0.6234891]</td>\n",
       "      <td>[12, 12, 12]</td>\n",
       "      <td>[-0.4709855, -0.4709855, -0.4709855]</td>\n",
       "      <td>0</td>\n",
       "    </tr>\n",
       "    <tr>\n",
       "      <th>4</th>\n",
       "      <td>54405</td>\n",
       "      <td>63</td>\n",
       "      <td>11</td>\n",
       "      <td>[58914, 58914, 58914, 58914, 58914, 58914, 467...</td>\n",
       "      <td>11</td>\n",
       "      <td>[57922, 396346, 131212, 20145, 111114, 73399, ...</td>\n",
       "      <td>[0, 0, 0, 0, 0, 0, 0, 0, 0, 0, 0]</td>\n",
       "      <td>[0, 0, 0, 0, 0, 0, 1, 1, 0, 0, 0]</td>\n",
       "      <td>[0, 0, 0, 0, 0, 0, 0, 0, 0, 0, 0]</td>\n",
       "      <td>[0, 0, 0, 0, 0, 0, 1, 1, 0, 0, 0]</td>\n",
       "      <td>...</td>\n",
       "      <td>1552441</td>\n",
       "      <td>1552442</td>\n",
       "      <td>[1552441, 1552441, 1552441, 1552441, 1552441, ...</td>\n",
       "      <td>[0.96592575, 0.96592575, 0.96592575, 0.9659257...</td>\n",
       "      <td>[0.25881928, 0.25881928, 0.25881928, 0.2588192...</td>\n",
       "      <td>[0.43388295, 0.43388295, 0.43388295, 0.4338829...</td>\n",
       "      <td>[-0.90096927, -0.90096927, -0.90096927, -0.900...</td>\n",
       "      <td>[56, 56, 56, 56, 56, 56, 48, 48, 48, 56, 55]</td>\n",
       "      <td>[0.80437595, 0.80437595, 0.80437595, 0.8043759...</td>\n",
       "      <td>0</td>\n",
       "    </tr>\n",
       "  </tbody>\n",
       "</table>\n",
       "<p>5 rows × 29 columns</p>\n",
       "</div>"
      ],
      "text/plain": [
       "   session_id_hash  day_index  product_sku_hash_count  \\\n",
       "0            54401         30                      21   \n",
       "1            54402        117                       2   \n",
       "2            54403         55                       1   \n",
       "3            54404        107                       3   \n",
       "4            54405         63                      11   \n",
       "\n",
       "                               product_sku_hash_list  product_url_hash_count  \\\n",
       "0  [58551, 58914, 17031, 21637, 52446, 58914, 107...                      21   \n",
       "1                                     [58914, 58914]                       2   \n",
       "2                                            [58914]                       1   \n",
       "3                              [58914, 58914, 58914]                       3   \n",
       "4  [58914, 58914, 58914, 58914, 58914, 58914, 467...                      11   \n",
       "\n",
       "                               product_url_hash_list  \\\n",
       "0  [494446, 212645, 142921, 182250, 442161, 36388...   \n",
       "1                                   [131212, 135345]   \n",
       "2                                           [140656]   \n",
       "3                            [290789, 225684, 54617]   \n",
       "4  [57922, 396346, 131212, 20145, 111114, 73399, ...   \n",
       "\n",
       "                     has_been_removed_from_cart-list  \\\n",
       "0  [0, 0, 0, 0, 0, 0, 0, 0, 0, 0, 0, 0, 0, 0, 0, ...   \n",
       "1                                             [0, 0]   \n",
       "2                                                [0]   \n",
       "3                                          [0, 0, 0]   \n",
       "4                  [0, 0, 0, 0, 0, 0, 0, 0, 0, 0, 0]   \n",
       "\n",
       "                         has_been_added_to_cart-list  \\\n",
       "0  [0, 0, 0, 0, 0, 0, 0, 0, 0, 0, 0, 0, 0, 0, 0, ...   \n",
       "1                                             [0, 0]   \n",
       "2                                                [0]   \n",
       "3                                          [0, 0, 0]   \n",
       "4                  [0, 0, 0, 0, 0, 0, 1, 1, 0, 0, 0]   \n",
       "\n",
       "                             has_been_purchased-list  \\\n",
       "0  [0, 0, 0, 0, 0, 0, 0, 0, 0, 0, 0, 0, 0, 0, 0, ...   \n",
       "1                                             [0, 0]   \n",
       "2                                                [0]   \n",
       "3                                          [0, 0, 0]   \n",
       "4                  [0, 0, 0, 0, 0, 0, 0, 0, 0, 0, 0]   \n",
       "\n",
       "                              has_been_detailed-list  ... ts-first  ts-last  \\\n",
       "0  [1, 0, 1, 1, 1, 0, 1, 1, 0, 1, 1, 0, 0, 1, 0, ...  ...  1555263  1555265   \n",
       "1                                             [0, 0]  ...  1547750  1547750   \n",
       "2                                                [0]  ...  1553129  1553129   \n",
       "3                                          [0, 0, 0]  ...  1548637  1548637   \n",
       "4                  [0, 0, 0, 0, 0, 0, 1, 1, 0, 0, 0]  ...  1552441  1552442   \n",
       "\n",
       "                                             ts-list  \\\n",
       "0  [1555263, 1555263, 1555263, 1555263, 1555263, ...   \n",
       "1                                 [1547750, 1547750]   \n",
       "2                                          [1553129]   \n",
       "3                        [1548637, 1548637, 1548637]   \n",
       "4  [1552441, 1552441, 1552441, 1552441, 1552441, ...   \n",
       "\n",
       "                             timestamp_hour_cos-list  \\\n",
       "0  [-0.25881854, -0.25881854, -0.25881854, -0.258...   \n",
       "1                     [4.8876205e-07, 4.8876205e-07]   \n",
       "2                                              [1.0]   \n",
       "3               [0.96592575, 0.96592575, 0.96592575]   \n",
       "4  [0.96592575, 0.96592575, 0.96592575, 0.9659257...   \n",
       "\n",
       "                             timestamp_hour_sin-list  \\\n",
       "0  [-0.965926, -0.965926, -0.965926, -0.965926, -...   \n",
       "1                                       [-1.0, -1.0]   \n",
       "2                                    [2.6179939e-07]   \n",
       "3               [0.25881928, 0.25881928, 0.25881928]   \n",
       "4  [0.25881928, 0.25881928, 0.25881928, 0.2588192...   \n",
       "\n",
       "                               timestamp_wd_sin-list  \\\n",
       "0  [1.1285199e-06, 1.1285199e-06, 1.1285199e-06, ...   \n",
       "1                         [-0.43388462, -0.43388462]   \n",
       "2                                      [-0.43388462]   \n",
       "3                  [0.7818321, 0.7818321, 0.7818321]   \n",
       "4  [0.43388295, 0.43388295, 0.43388295, 0.4338829...   \n",
       "\n",
       "                               timestamp_wd_cos-list  \\\n",
       "0  [1.0, 1.0, 1.0, 1.0, 1.0, 1.0, 1.0, 1.0, 1.0, ...   \n",
       "1                         [-0.90096843, -0.90096843]   \n",
       "2                                      [-0.90096843]   \n",
       "3                  [0.6234891, 0.6234891, 0.6234891]   \n",
       "4  [-0.90096927, -0.90096927, -0.90096927, -0.900...   \n",
       "\n",
       "                             timestamp_age_days-list  \\\n",
       "0  [80, 89, 89, 89, 89, 86, 52, 89, 89, 73, 46, 8...   \n",
       "1                                             [2, 2]   \n",
       "2                                               [64]   \n",
       "3                                       [12, 12, 12]   \n",
       "4       [56, 56, 56, 56, 56, 56, 48, 48, 48, 56, 55]   \n",
       "\n",
       "                        timestamp_age_days_norm-list is_test-last  \n",
       "0  [1.1075752, 1.1984842, 1.1984842, 1.1984842, 1...            0  \n",
       "1                           [-1.7361957, -1.7361957]            0  \n",
       "2                                       [0.91769767]            0  \n",
       "3               [-0.4709855, -0.4709855, -0.4709855]            0  \n",
       "4  [0.80437595, 0.80437595, 0.80437595, 0.8043759...            0  \n",
       "\n",
       "[5 rows x 29 columns]"
      ]
     },
     "execution_count": 28,
     "metadata": {},
     "output_type": "execute_result"
    }
   ],
   "source": [
    "SELECTED_COLS =[ 'session_id_hash', 'day_index', 'product_sku_hash_count', 'product_sku_hash_list',\n",
    "                 'product_url_hash_count', 'product_url_hash_list',\n",
    "                 'has_been_removed_from_cart-list', 'has_been_added_to_cart-list',\n",
    "                 'has_been_purchased-list', 'has_been_detailed-list', 'has_been_clicked-list',\n",
    "                 'event_type-list', 'product_action_filled-list',  'nb_interactions-list',\n",
    "                 'category_hash-list', 'main_category-list',\n",
    "                 'price_bucket-list', 'mean_price_hierarchy-list', 'mean_price_main-list',\n",
    "                 'ts-first', 'ts-last',  'ts-list', 'day_index',\n",
    "                 'timestamp_hour_cos-list', 'timestamp_hour_sin-list', 'timestamp_wd_sin-list', 'timestamp_wd_cos-list',\n",
    "                 'timestamp_age_days-list', 'timestamp_age_days_norm-list', 'is_test-last']\n",
    "sessions_gdf = sessions_gdf[SELECTED_COLS]\n",
    "sessions_gdf.head()"
   ]
  },
  {
   "cell_type": "markdown",
   "metadata": {},
   "source": [
    "- check day data "
   ]
  },
  {
   "cell_type": "code",
   "execution_count": 29,
   "metadata": {},
   "outputs": [
    {
     "data": {
      "text/plain": [
       "(1, 119)"
      ]
     },
     "execution_count": 29,
     "metadata": {},
     "output_type": "execute_result"
    }
   ],
   "source": [
    "sessions_gdf['day_index'].min(), sessions_gdf['day_index'].max()"
   ]
  },
  {
   "cell_type": "code",
   "execution_count": 30,
   "metadata": {},
   "outputs": [
    {
     "data": {
      "text/plain": [
       "day_index\n",
       "1        6735\n",
       "2        5773\n",
       "3        5133\n",
       "4        6351\n",
       "5        5463\n",
       "        ...  \n",
       "115    104127\n",
       "116     93072\n",
       "117    103282\n",
       "118     84381\n",
       "119     56281\n",
       "Length: 119, dtype: int32"
      ]
     },
     "execution_count": 30,
     "metadata": {},
     "output_type": "execute_result"
    }
   ],
   "source": [
    "sessions_gdf.groupby('day_index').size().sort_index()"
   ]
  },
  {
   "cell_type": "markdown",
   "metadata": {},
   "source": [
    "### Remove sessions with one interaction in product_sku_url from train data "
   ]
  },
  {
   "cell_type": "code",
   "execution_count": 31,
   "metadata": {},
   "outputs": [
    {
     "data": {
      "text/plain": [
       "3433782"
      ]
     },
     "execution_count": 31,
     "metadata": {},
     "output_type": "execute_result"
    }
   ],
   "source": [
    "filtered_sessions = sessions_gdf.columns >> \\\n",
    "                     nvt.ops.Filter(f=lambda df: ((df[\"product_url_hash_count\"] >= MINIMUM_SESSION_LENGTH) & (df[\"is_test-last\"] == 0)) | (df[\"is_test-last\"] == 1)) \n",
    "workflow = nvt.Workflow(filtered_sessions)\n",
    "dataset = nvt.Dataset(sessions_gdf, cpu=False)\n",
    "workflow.fit(dataset)\n",
    "sessions_gdf = workflow.transform(dataset).to_ddf().compute()\n",
    "len(sessions_gdf)"
   ]
  },
  {
   "cell_type": "markdown",
   "metadata": {},
   "source": [
    "### Create cross-validation folds "
   ]
  },
  {
   "cell_type": "markdown",
   "metadata": {},
   "source": [
    "- Define random 5 folds column "
   ]
  },
  {
   "cell_type": "code",
   "execution_count": 32,
   "metadata": {},
   "outputs": [],
   "source": [
    "from sklearn.model_selection import GroupKFold\n",
    "sessions_gdf['fold'] = np.random.randint(1,6, sessions_gdf.shape[0]) "
   ]
  },
  {
   "cell_type": "code",
   "execution_count": 33,
   "metadata": {},
   "outputs": [
    {
     "data": {
      "text/plain": [
       "3    688917\n",
       "4    687053\n",
       "1    686727\n",
       "5    686135\n",
       "2    684950\n",
       "Name: fold, dtype: int32"
      ]
     },
     "execution_count": 33,
     "metadata": {},
     "output_type": "execute_result"
    }
   ],
   "source": [
    "sessions_gdf.fold.value_counts()"
   ]
  },
  {
   "cell_type": "markdown",
   "metadata": {},
   "source": [
    "- Reserve the 3 last weeks for validation "
   ]
  },
  {
   "cell_type": "code",
   "execution_count": 34,
   "metadata": {},
   "outputs": [],
   "source": [
    "sessions_gdf['is_valid'] = 0 \n",
    "sessions_gdf.loc[((sessions_gdf['is_test-last']==0) & (sessions_gdf['day_index']<=50)), 'is_valid'] = 1"
   ]
  },
  {
   "cell_type": "code",
   "execution_count": 35,
   "metadata": {},
   "outputs": [
    {
     "data": {
      "text/plain": [
       "0    2867164\n",
       "1     566618\n",
       "Name: is_valid, dtype: int32"
      ]
     },
     "execution_count": 35,
     "metadata": {},
     "output_type": "execute_result"
    }
   ],
   "source": [
    "sessions_gdf.is_valid.value_counts()"
   ]
  },
  {
   "cell_type": "code",
   "execution_count": 36,
   "metadata": {},
   "outputs": [
    {
     "data": {
      "text/plain": [
       "0    3291455\n",
       "1     142327\n",
       "Name: is_test-last, dtype: int32"
      ]
     },
     "execution_count": 36,
     "metadata": {},
     "output_type": "execute_result"
    }
   ],
   "source": [
    "sessions_gdf['is_test-last'].value_counts()"
   ]
  },
  {
   "cell_type": "code",
   "execution_count": 37,
   "metadata": {},
   "outputs": [
    {
     "data": {
      "text/html": [
       "<div>\n",
       "<style scoped>\n",
       "    .dataframe tbody tr th:only-of-type {\n",
       "        vertical-align: middle;\n",
       "    }\n",
       "\n",
       "    .dataframe tbody tr th {\n",
       "        vertical-align: top;\n",
       "    }\n",
       "\n",
       "    .dataframe thead th {\n",
       "        text-align: right;\n",
       "    }\n",
       "</style>\n",
       "<table border=\"1\" class=\"dataframe\">\n",
       "  <thead>\n",
       "    <tr style=\"text-align: right;\">\n",
       "      <th></th>\n",
       "      <th>session_id_hash</th>\n",
       "      <th>day_index</th>\n",
       "      <th>product_sku_hash_count</th>\n",
       "      <th>product_sku_hash_list</th>\n",
       "      <th>product_url_hash_count</th>\n",
       "      <th>product_url_hash_list</th>\n",
       "      <th>has_been_removed_from_cart-list</th>\n",
       "      <th>has_been_added_to_cart-list</th>\n",
       "      <th>has_been_purchased-list</th>\n",
       "      <th>has_been_detailed-list</th>\n",
       "      <th>...</th>\n",
       "      <th>ts-list</th>\n",
       "      <th>timestamp_hour_cos-list</th>\n",
       "      <th>timestamp_hour_sin-list</th>\n",
       "      <th>timestamp_wd_sin-list</th>\n",
       "      <th>timestamp_wd_cos-list</th>\n",
       "      <th>timestamp_age_days-list</th>\n",
       "      <th>timestamp_age_days_norm-list</th>\n",
       "      <th>is_test-last</th>\n",
       "      <th>fold</th>\n",
       "      <th>is_valid</th>\n",
       "    </tr>\n",
       "  </thead>\n",
       "  <tbody>\n",
       "    <tr>\n",
       "      <th>0</th>\n",
       "      <td>54401</td>\n",
       "      <td>30</td>\n",
       "      <td>21</td>\n",
       "      <td>[58551, 58914, 17031, 21637, 52446, 58914, 107...</td>\n",
       "      <td>21</td>\n",
       "      <td>[494446, 212645, 142921, 182250, 442161, 36388...</td>\n",
       "      <td>[0, 0, 0, 0, 0, 0, 0, 0, 0, 0, 0, 0, 0, 0, 0, ...</td>\n",
       "      <td>[0, 0, 0, 0, 0, 0, 0, 0, 0, 0, 0, 0, 0, 0, 0, ...</td>\n",
       "      <td>[0, 0, 0, 0, 0, 0, 0, 0, 0, 0, 0, 0, 0, 0, 0, ...</td>\n",
       "      <td>[1, 0, 1, 1, 1, 0, 1, 1, 0, 1, 1, 0, 0, 1, 0, ...</td>\n",
       "      <td>...</td>\n",
       "      <td>[1555263, 1555263, 1555263, 1555263, 1555263, ...</td>\n",
       "      <td>[-0.25881854, -0.25881854, -0.25881854, -0.258...</td>\n",
       "      <td>[-0.965926, -0.965926, -0.965926, -0.965926, -...</td>\n",
       "      <td>[1.1285199e-06, 1.1285199e-06, 1.1285199e-06, ...</td>\n",
       "      <td>[1.0, 1.0, 1.0, 1.0, 1.0, 1.0, 1.0, 1.0, 1.0, ...</td>\n",
       "      <td>[80, 89, 89, 89, 89, 86, 52, 89, 89, 73, 46, 8...</td>\n",
       "      <td>[1.1075752, 1.1984842, 1.1984842, 1.1984842, 1...</td>\n",
       "      <td>0</td>\n",
       "      <td>2</td>\n",
       "      <td>1</td>\n",
       "    </tr>\n",
       "    <tr>\n",
       "      <th>1</th>\n",
       "      <td>54402</td>\n",
       "      <td>117</td>\n",
       "      <td>2</td>\n",
       "      <td>[58914, 58914]</td>\n",
       "      <td>2</td>\n",
       "      <td>[131212, 135345]</td>\n",
       "      <td>[0, 0]</td>\n",
       "      <td>[0, 0]</td>\n",
       "      <td>[0, 0]</td>\n",
       "      <td>[0, 0]</td>\n",
       "      <td>...</td>\n",
       "      <td>[1547750, 1547750]</td>\n",
       "      <td>[4.8876205e-07, 4.8876205e-07]</td>\n",
       "      <td>[-1.0, -1.0]</td>\n",
       "      <td>[-0.43388462, -0.43388462]</td>\n",
       "      <td>[-0.90096843, -0.90096843]</td>\n",
       "      <td>[2, 2]</td>\n",
       "      <td>[-1.7361957, -1.7361957]</td>\n",
       "      <td>0</td>\n",
       "      <td>2</td>\n",
       "      <td>0</td>\n",
       "    </tr>\n",
       "    <tr>\n",
       "      <th>2</th>\n",
       "      <td>54404</td>\n",
       "      <td>107</td>\n",
       "      <td>3</td>\n",
       "      <td>[58914, 58914, 58914]</td>\n",
       "      <td>3</td>\n",
       "      <td>[290789, 225684, 54617]</td>\n",
       "      <td>[0, 0, 0]</td>\n",
       "      <td>[0, 0, 0]</td>\n",
       "      <td>[0, 0, 0]</td>\n",
       "      <td>[0, 0, 0]</td>\n",
       "      <td>...</td>\n",
       "      <td>[1548637, 1548637, 1548637]</td>\n",
       "      <td>[0.96592575, 0.96592575, 0.96592575]</td>\n",
       "      <td>[0.25881928, 0.25881928, 0.25881928]</td>\n",
       "      <td>[0.7818321, 0.7818321, 0.7818321]</td>\n",
       "      <td>[0.6234891, 0.6234891, 0.6234891]</td>\n",
       "      <td>[12, 12, 12]</td>\n",
       "      <td>[-0.4709855, -0.4709855, -0.4709855]</td>\n",
       "      <td>0</td>\n",
       "      <td>4</td>\n",
       "      <td>0</td>\n",
       "    </tr>\n",
       "  </tbody>\n",
       "</table>\n",
       "<p>3 rows × 31 columns</p>\n",
       "</div>"
      ],
      "text/plain": [
       "   session_id_hash  day_index  product_sku_hash_count  \\\n",
       "0            54401         30                      21   \n",
       "1            54402        117                       2   \n",
       "2            54404        107                       3   \n",
       "\n",
       "                               product_sku_hash_list  product_url_hash_count  \\\n",
       "0  [58551, 58914, 17031, 21637, 52446, 58914, 107...                      21   \n",
       "1                                     [58914, 58914]                       2   \n",
       "2                              [58914, 58914, 58914]                       3   \n",
       "\n",
       "                               product_url_hash_list  \\\n",
       "0  [494446, 212645, 142921, 182250, 442161, 36388...   \n",
       "1                                   [131212, 135345]   \n",
       "2                            [290789, 225684, 54617]   \n",
       "\n",
       "                     has_been_removed_from_cart-list  \\\n",
       "0  [0, 0, 0, 0, 0, 0, 0, 0, 0, 0, 0, 0, 0, 0, 0, ...   \n",
       "1                                             [0, 0]   \n",
       "2                                          [0, 0, 0]   \n",
       "\n",
       "                         has_been_added_to_cart-list  \\\n",
       "0  [0, 0, 0, 0, 0, 0, 0, 0, 0, 0, 0, 0, 0, 0, 0, ...   \n",
       "1                                             [0, 0]   \n",
       "2                                          [0, 0, 0]   \n",
       "\n",
       "                             has_been_purchased-list  \\\n",
       "0  [0, 0, 0, 0, 0, 0, 0, 0, 0, 0, 0, 0, 0, 0, 0, ...   \n",
       "1                                             [0, 0]   \n",
       "2                                          [0, 0, 0]   \n",
       "\n",
       "                              has_been_detailed-list  ...  \\\n",
       "0  [1, 0, 1, 1, 1, 0, 1, 1, 0, 1, 1, 0, 0, 1, 0, ...  ...   \n",
       "1                                             [0, 0]  ...   \n",
       "2                                          [0, 0, 0]  ...   \n",
       "\n",
       "                                             ts-list  \\\n",
       "0  [1555263, 1555263, 1555263, 1555263, 1555263, ...   \n",
       "1                                 [1547750, 1547750]   \n",
       "2                        [1548637, 1548637, 1548637]   \n",
       "\n",
       "                             timestamp_hour_cos-list  \\\n",
       "0  [-0.25881854, -0.25881854, -0.25881854, -0.258...   \n",
       "1                     [4.8876205e-07, 4.8876205e-07]   \n",
       "2               [0.96592575, 0.96592575, 0.96592575]   \n",
       "\n",
       "                             timestamp_hour_sin-list  \\\n",
       "0  [-0.965926, -0.965926, -0.965926, -0.965926, -...   \n",
       "1                                       [-1.0, -1.0]   \n",
       "2               [0.25881928, 0.25881928, 0.25881928]   \n",
       "\n",
       "                               timestamp_wd_sin-list  \\\n",
       "0  [1.1285199e-06, 1.1285199e-06, 1.1285199e-06, ...   \n",
       "1                         [-0.43388462, -0.43388462]   \n",
       "2                  [0.7818321, 0.7818321, 0.7818321]   \n",
       "\n",
       "                               timestamp_wd_cos-list  \\\n",
       "0  [1.0, 1.0, 1.0, 1.0, 1.0, 1.0, 1.0, 1.0, 1.0, ...   \n",
       "1                         [-0.90096843, -0.90096843]   \n",
       "2                  [0.6234891, 0.6234891, 0.6234891]   \n",
       "\n",
       "                             timestamp_age_days-list  \\\n",
       "0  [80, 89, 89, 89, 89, 86, 52, 89, 89, 73, 46, 8...   \n",
       "1                                             [2, 2]   \n",
       "2                                       [12, 12, 12]   \n",
       "\n",
       "                        timestamp_age_days_norm-list is_test-last  fold  \\\n",
       "0  [1.1075752, 1.1984842, 1.1984842, 1.1984842, 1...            0     2   \n",
       "1                           [-1.7361957, -1.7361957]            0     2   \n",
       "2               [-0.4709855, -0.4709855, -0.4709855]            0     4   \n",
       "\n",
       "   is_valid  \n",
       "0         1  \n",
       "1         0  \n",
       "2         0  \n",
       "\n",
       "[3 rows x 31 columns]"
      ]
     },
     "execution_count": 37,
     "metadata": {},
     "output_type": "execute_result"
    }
   ],
   "source": [
    "sessions_gdf.head(3)"
   ]
  },
  {
   "cell_type": "markdown",
   "metadata": {},
   "source": [
    "### Un-hash session id "
   ]
  },
  {
   "cell_type": "code",
   "execution_count": 38,
   "metadata": {},
   "outputs": [
    {
     "data": {
      "text/html": [
       "<div>\n",
       "<style scoped>\n",
       "    .dataframe tbody tr th:only-of-type {\n",
       "        vertical-align: middle;\n",
       "    }\n",
       "\n",
       "    .dataframe tbody tr th {\n",
       "        vertical-align: top;\n",
       "    }\n",
       "\n",
       "    .dataframe thead th {\n",
       "        text-align: right;\n",
       "    }\n",
       "</style>\n",
       "<table border=\"1\" class=\"dataframe\">\n",
       "  <thead>\n",
       "    <tr style=\"text-align: right;\">\n",
       "      <th></th>\n",
       "      <th>index</th>\n",
       "      <th>session_id_hash</th>\n",
       "    </tr>\n",
       "  </thead>\n",
       "  <tbody>\n",
       "    <tr>\n",
       "      <th>0</th>\n",
       "      <td>0</td>\n",
       "      <td>&lt;NA&gt;</td>\n",
       "    </tr>\n",
       "    <tr>\n",
       "      <th>1</th>\n",
       "      <td>1</td>\n",
       "      <td>00000114e1075962f022114fcfc17f2d874e694ac5d201...</td>\n",
       "    </tr>\n",
       "    <tr>\n",
       "      <th>2</th>\n",
       "      <td>2</td>\n",
       "      <td>00000277639fc5c6f816654b78bf3654ece7fd53a7338f...</td>\n",
       "    </tr>\n",
       "    <tr>\n",
       "      <th>3</th>\n",
       "      <td>3</td>\n",
       "      <td>000009f36a40de1d557afc083dbb3fc03eef2473337bad...</td>\n",
       "    </tr>\n",
       "    <tr>\n",
       "      <th>4</th>\n",
       "      <td>4</td>\n",
       "      <td>00000e812c3076d18245710a31b348d3f23314b7d0dc90...</td>\n",
       "    </tr>\n",
       "    <tr>\n",
       "      <th>...</th>\n",
       "      <td>...</td>\n",
       "      <td>...</td>\n",
       "    </tr>\n",
       "    <tr>\n",
       "      <th>5077048</th>\n",
       "      <td>5077048</td>\n",
       "      <td>ffffed918e1086333206d96f1fae684de5774866848bb3...</td>\n",
       "    </tr>\n",
       "    <tr>\n",
       "      <th>5077049</th>\n",
       "      <td>5077049</td>\n",
       "      <td>fffff2183ad2daa1db3bc4cd320e7248b2f5a6ef9709c4...</td>\n",
       "    </tr>\n",
       "    <tr>\n",
       "      <th>5077050</th>\n",
       "      <td>5077050</td>\n",
       "      <td>fffff429d16c1f43796e2c7ccad8a34f8a37b59927b5b4...</td>\n",
       "    </tr>\n",
       "    <tr>\n",
       "      <th>5077051</th>\n",
       "      <td>5077051</td>\n",
       "      <td>fffff68e9f346ad171103ae6125899a72c0d77d2d0637c...</td>\n",
       "    </tr>\n",
       "    <tr>\n",
       "      <th>5077052</th>\n",
       "      <td>5077052</td>\n",
       "      <td>fffffc128ba14ec4d4b2a230b4352453843b3bb59becf5...</td>\n",
       "    </tr>\n",
       "  </tbody>\n",
       "</table>\n",
       "<p>5077053 rows × 2 columns</p>\n",
       "</div>"
      ],
      "text/plain": [
       "           index                                    session_id_hash\n",
       "0              0                                               <NA>\n",
       "1              1  00000114e1075962f022114fcfc17f2d874e694ac5d201...\n",
       "2              2  00000277639fc5c6f816654b78bf3654ece7fd53a7338f...\n",
       "3              3  000009f36a40de1d557afc083dbb3fc03eef2473337bad...\n",
       "4              4  00000e812c3076d18245710a31b348d3f23314b7d0dc90...\n",
       "...          ...                                                ...\n",
       "5077048  5077048  ffffed918e1086333206d96f1fae684de5774866848bb3...\n",
       "5077049  5077049  fffff2183ad2daa1db3bc4cd320e7248b2f5a6ef9709c4...\n",
       "5077050  5077050  fffff429d16c1f43796e2c7ccad8a34f8a37b59927b5b4...\n",
       "5077051  5077051  fffff68e9f346ad171103ae6125899a72c0d77d2d0637c...\n",
       "5077052  5077052  fffffc128ba14ec4d4b2a230b4352453843b3bb59becf5...\n",
       "\n",
       "[5077053 rows x 2 columns]"
      ]
     },
     "execution_count": 38,
     "metadata": {},
     "output_type": "execute_result"
    }
   ],
   "source": [
    "session_map = cudf.read_parquet('./categories/unique.session_id_hash.parquet').reset_index()\n",
    "session_map"
   ]
  },
  {
   "cell_type": "markdown",
   "metadata": {},
   "source": [
    "## Merge browsing session and search sessions "
   ]
  },
  {
   "cell_type": "code",
   "execution_count": 39,
   "metadata": {},
   "outputs": [],
   "source": [
    "session_map.columns = ['session_id_hash', 'original_session_id_hash']\n",
    "sessions_gdf = sessions_gdf.merge(session_map, on=['session_id_hash'], how='left')"
   ]
  },
  {
   "cell_type": "code",
   "execution_count": 40,
   "metadata": {},
   "outputs": [
    {
     "data": {
      "text/html": [
       "<div>\n",
       "<style scoped>\n",
       "    .dataframe tbody tr th:only-of-type {\n",
       "        vertical-align: middle;\n",
       "    }\n",
       "\n",
       "    .dataframe tbody tr th {\n",
       "        vertical-align: top;\n",
       "    }\n",
       "\n",
       "    .dataframe thead th {\n",
       "        text-align: right;\n",
       "    }\n",
       "</style>\n",
       "<table border=\"1\" class=\"dataframe\">\n",
       "  <thead>\n",
       "    <tr style=\"text-align: right;\">\n",
       "      <th></th>\n",
       "      <th>session_id_hash</th>\n",
       "      <th>day_index</th>\n",
       "      <th>product_sku_hash_count</th>\n",
       "      <th>product_sku_hash_list</th>\n",
       "      <th>product_url_hash_count</th>\n",
       "      <th>product_url_hash_list</th>\n",
       "      <th>has_been_removed_from_cart-list</th>\n",
       "      <th>has_been_added_to_cart-list</th>\n",
       "      <th>has_been_purchased-list</th>\n",
       "      <th>has_been_detailed-list</th>\n",
       "      <th>...</th>\n",
       "      <th>timestamp_hour_cos-list</th>\n",
       "      <th>timestamp_hour_sin-list</th>\n",
       "      <th>timestamp_wd_sin-list</th>\n",
       "      <th>timestamp_wd_cos-list</th>\n",
       "      <th>timestamp_age_days-list</th>\n",
       "      <th>timestamp_age_days_norm-list</th>\n",
       "      <th>is_test-last</th>\n",
       "      <th>fold</th>\n",
       "      <th>is_valid</th>\n",
       "      <th>original_session_id_hash</th>\n",
       "    </tr>\n",
       "  </thead>\n",
       "  <tbody>\n",
       "    <tr>\n",
       "      <th>0</th>\n",
       "      <td>9188</td>\n",
       "      <td>92</td>\n",
       "      <td>9</td>\n",
       "      <td>[9042, 58914, 16894, 30056, 58914, 58914, 5891...</td>\n",
       "      <td>9</td>\n",
       "      <td>[75296, 391147, 141736, 252931, 456758, 394291...</td>\n",
       "      <td>[0, 0, 0, 0, 0, 0, 0, 0, 0]</td>\n",
       "      <td>[0, 0, 0, 0, 0, 0, 0, 0, 0]</td>\n",
       "      <td>[0, 0, 0, 0, 0, 0, 0, 0, 0]</td>\n",
       "      <td>[1, 0, 1, 1, 0, 0, 0, 0, 0]</td>\n",
       "      <td>...</td>\n",
       "      <td>[-0.8660252, -0.8660252, -0.8660252, -0.866025...</td>\n",
       "      <td>[-0.50000036, -0.50000036, -0.50000036, -0.500...</td>\n",
       "      <td>[0.7818321, 0.7818321, 0.7818321, 0.7818321, 0...</td>\n",
       "      <td>[0.6234891, 0.6234891, 0.6234891, 0.6234891, 0...</td>\n",
       "      <td>[27, 27, 27, 27, 26, 26, 27, 27, 27]</td>\n",
       "      <td>[0.19103095, 0.19103095, 0.19103095, 0.1910309...</td>\n",
       "      <td>0</td>\n",
       "      <td>4</td>\n",
       "      <td>0</td>\n",
       "      <td>00777f34d40ff8cf318666f38906db9cbf994d50c18fd9...</td>\n",
       "    </tr>\n",
       "    <tr>\n",
       "      <th>1</th>\n",
       "      <td>9189</td>\n",
       "      <td>71</td>\n",
       "      <td>4</td>\n",
       "      <td>[58914, 58914, 58070, 50713]</td>\n",
       "      <td>4</td>\n",
       "      <td>[429119, 382428, 490517, 427963]</td>\n",
       "      <td>[0, 0, 0, 0]</td>\n",
       "      <td>[0, 0, 0, 0]</td>\n",
       "      <td>[0, 0, 0, 0]</td>\n",
       "      <td>[0, 0, 1, 1]</td>\n",
       "      <td>...</td>\n",
       "      <td>[-0.96592593, -0.96592593, -0.96592593, -0.965...</td>\n",
       "      <td>[0.2588187, 0.2588187, 0.2588187, 0.2588187]</td>\n",
       "      <td>[0.7818321, 0.7818321, 0.7818321, 0.7818321]</td>\n",
       "      <td>[0.6234891, 0.6234891, 0.6234891, 0.6234891]</td>\n",
       "      <td>[47, 47, 47, 46]</td>\n",
       "      <td>[0.6560972, 0.6560972, 0.6560972, 0.6379316]</td>\n",
       "      <td>0</td>\n",
       "      <td>1</td>\n",
       "      <td>0</td>\n",
       "      <td>00777fe7e4a0ccc24c44ad0377126b216a8e3f54913478...</td>\n",
       "    </tr>\n",
       "    <tr>\n",
       "      <th>2</th>\n",
       "      <td>9191</td>\n",
       "      <td>113</td>\n",
       "      <td>3</td>\n",
       "      <td>[1488, 22468, 58914]</td>\n",
       "      <td>3</td>\n",
       "      <td>[12281, 189556, 463295]</td>\n",
       "      <td>[0, 0, 0]</td>\n",
       "      <td>[0, 0, 0]</td>\n",
       "      <td>[0, 0, 0]</td>\n",
       "      <td>[1, 1, 0]</td>\n",
       "      <td>...</td>\n",
       "      <td>[4.8876205e-07, 4.8876205e-07, 4.8876205e-07]</td>\n",
       "      <td>[-1.0, -1.0, -1.0]</td>\n",
       "      <td>[0.7818321, 0.7818321, 0.7818321]</td>\n",
       "      <td>[0.6234891, 0.6234891, 0.6234891]</td>\n",
       "      <td>[6, 6, 6]</td>\n",
       "      <td>[-1.0051154, -1.0051154, -1.0051154]</td>\n",
       "      <td>0</td>\n",
       "      <td>3</td>\n",
       "      <td>0</td>\n",
       "      <td>00778565e985ea074983c8b28d276d92a4a9572af9e549...</td>\n",
       "    </tr>\n",
       "  </tbody>\n",
       "</table>\n",
       "<p>3 rows × 32 columns</p>\n",
       "</div>"
      ],
      "text/plain": [
       "   session_id_hash  day_index  product_sku_hash_count  \\\n",
       "0             9188         92                       9   \n",
       "1             9189         71                       4   \n",
       "2             9191        113                       3   \n",
       "\n",
       "                               product_sku_hash_list  product_url_hash_count  \\\n",
       "0  [9042, 58914, 16894, 30056, 58914, 58914, 5891...                       9   \n",
       "1                       [58914, 58914, 58070, 50713]                       4   \n",
       "2                               [1488, 22468, 58914]                       3   \n",
       "\n",
       "                               product_url_hash_list  \\\n",
       "0  [75296, 391147, 141736, 252931, 456758, 394291...   \n",
       "1                   [429119, 382428, 490517, 427963]   \n",
       "2                            [12281, 189556, 463295]   \n",
       "\n",
       "  has_been_removed_from_cart-list  has_been_added_to_cart-list  \\\n",
       "0     [0, 0, 0, 0, 0, 0, 0, 0, 0]  [0, 0, 0, 0, 0, 0, 0, 0, 0]   \n",
       "1                    [0, 0, 0, 0]                 [0, 0, 0, 0]   \n",
       "2                       [0, 0, 0]                    [0, 0, 0]   \n",
       "\n",
       "       has_been_purchased-list       has_been_detailed-list  ...  \\\n",
       "0  [0, 0, 0, 0, 0, 0, 0, 0, 0]  [1, 0, 1, 1, 0, 0, 0, 0, 0]  ...   \n",
       "1                 [0, 0, 0, 0]                 [0, 0, 1, 1]  ...   \n",
       "2                    [0, 0, 0]                    [1, 1, 0]  ...   \n",
       "\n",
       "                             timestamp_hour_cos-list  \\\n",
       "0  [-0.8660252, -0.8660252, -0.8660252, -0.866025...   \n",
       "1  [-0.96592593, -0.96592593, -0.96592593, -0.965...   \n",
       "2      [4.8876205e-07, 4.8876205e-07, 4.8876205e-07]   \n",
       "\n",
       "                             timestamp_hour_sin-list  \\\n",
       "0  [-0.50000036, -0.50000036, -0.50000036, -0.500...   \n",
       "1       [0.2588187, 0.2588187, 0.2588187, 0.2588187]   \n",
       "2                                 [-1.0, -1.0, -1.0]   \n",
       "\n",
       "                               timestamp_wd_sin-list  \\\n",
       "0  [0.7818321, 0.7818321, 0.7818321, 0.7818321, 0...   \n",
       "1       [0.7818321, 0.7818321, 0.7818321, 0.7818321]   \n",
       "2                  [0.7818321, 0.7818321, 0.7818321]   \n",
       "\n",
       "                               timestamp_wd_cos-list  \\\n",
       "0  [0.6234891, 0.6234891, 0.6234891, 0.6234891, 0...   \n",
       "1       [0.6234891, 0.6234891, 0.6234891, 0.6234891]   \n",
       "2                  [0.6234891, 0.6234891, 0.6234891]   \n",
       "\n",
       "                timestamp_age_days-list  \\\n",
       "0  [27, 27, 27, 27, 26, 26, 27, 27, 27]   \n",
       "1                      [47, 47, 47, 46]   \n",
       "2                             [6, 6, 6]   \n",
       "\n",
       "                        timestamp_age_days_norm-list is_test-last  fold  \\\n",
       "0  [0.19103095, 0.19103095, 0.19103095, 0.1910309...            0     4   \n",
       "1       [0.6560972, 0.6560972, 0.6560972, 0.6379316]            0     1   \n",
       "2               [-1.0051154, -1.0051154, -1.0051154]            0     3   \n",
       "\n",
       "   is_valid                           original_session_id_hash  \n",
       "0         0  00777f34d40ff8cf318666f38906db9cbf994d50c18fd9...  \n",
       "1         0  00777fe7e4a0ccc24c44ad0377126b216a8e3f54913478...  \n",
       "2         0  00778565e985ea074983c8b28d276d92a4a9572af9e549...  \n",
       "\n",
       "[3 rows x 32 columns]"
      ]
     },
     "execution_count": 40,
     "metadata": {},
     "output_type": "execute_result"
    }
   ],
   "source": [
    "sessions_gdf.head(3)"
   ]
  },
  {
   "cell_type": "markdown",
   "metadata": {},
   "source": [
    "### Truncate train and test sessions to last 30 elements"
   ]
  },
  {
   "cell_type": "code",
   "execution_count": 41,
   "metadata": {},
   "outputs": [
    {
     "data": {
      "text/plain": [
       "['product_sku_hash_list',\n",
       " 'product_url_hash_list',\n",
       " 'has_been_removed_from_cart-list',\n",
       " 'has_been_added_to_cart-list',\n",
       " 'has_been_purchased-list',\n",
       " 'has_been_detailed-list',\n",
       " 'has_been_clicked-list',\n",
       " 'event_type-list',\n",
       " 'product_action_filled-list',\n",
       " 'nb_interactions-list',\n",
       " 'category_hash-list',\n",
       " 'main_category-list',\n",
       " 'price_bucket-list',\n",
       " 'mean_price_hierarchy-list',\n",
       " 'mean_price_main-list',\n",
       " 'ts-list',\n",
       " 'timestamp_hour_cos-list',\n",
       " 'timestamp_hour_sin-list',\n",
       " 'timestamp_wd_sin-list',\n",
       " 'timestamp_wd_cos-list',\n",
       " 'timestamp_age_days-list',\n",
       " 'timestamp_age_days_norm-list']"
      ]
     },
     "execution_count": 41,
     "metadata": {},
     "output_type": "execute_result"
    }
   ],
   "source": [
    "[x for x in sessions_gdf.columns if '_list' in x or '-list' in x ]"
   ]
  },
  {
   "cell_type": "code",
   "execution_count": 42,
   "metadata": {},
   "outputs": [
    {
     "data": {
      "text/plain": [
       "2867164"
      ]
     },
     "execution_count": 42,
     "metadata": {},
     "output_type": "execute_result"
    }
   ],
   "source": [
    "features_list = [x for x in sessions_gdf.columns if '_list' in x or '-list' in x ]\n",
    "features_trim =  features_list >> nvt.ops.ListSlice(-30)\n",
    "other_cols = list(set(sessions_gdf.columns).difference(set(features_list)))\n",
    "workflow = nvt.Workflow(other_cols + features_trim)\n",
    "dataset = nvt.Dataset(sessions_gdf[sessions_gdf.is_valid == 0], cpu=False)\n",
    "workflow.fit(dataset)\n",
    "trimed_cols = workflow.transform(dataset).to_ddf().compute()\n",
    "len(trimed_cols)"
   ]
  },
  {
   "cell_type": "code",
   "execution_count": 43,
   "metadata": {},
   "outputs": [
    {
     "data": {
      "text/html": [
       "<div>\n",
       "<style scoped>\n",
       "    .dataframe tbody tr th:only-of-type {\n",
       "        vertical-align: middle;\n",
       "    }\n",
       "\n",
       "    .dataframe tbody tr th {\n",
       "        vertical-align: top;\n",
       "    }\n",
       "\n",
       "    .dataframe thead th {\n",
       "        text-align: right;\n",
       "    }\n",
       "</style>\n",
       "<table border=\"1\" class=\"dataframe\">\n",
       "  <thead>\n",
       "    <tr style=\"text-align: right;\">\n",
       "      <th></th>\n",
       "      <th>product_sku_hash_list</th>\n",
       "      <th>product_url_hash_list</th>\n",
       "      <th>has_been_removed_from_cart-list</th>\n",
       "      <th>has_been_added_to_cart-list</th>\n",
       "      <th>has_been_purchased-list</th>\n",
       "      <th>has_been_detailed-list</th>\n",
       "      <th>has_been_clicked-list</th>\n",
       "      <th>event_type-list</th>\n",
       "      <th>product_action_filled-list</th>\n",
       "      <th>nb_interactions-list</th>\n",
       "      <th>...</th>\n",
       "      <th>day_index</th>\n",
       "      <th>fold</th>\n",
       "      <th>ts-first</th>\n",
       "      <th>is_valid</th>\n",
       "      <th>product_sku_hash_count</th>\n",
       "      <th>is_test-last</th>\n",
       "      <th>original_session_id_hash</th>\n",
       "      <th>session_id_hash</th>\n",
       "      <th>ts-last</th>\n",
       "      <th>product_url_hash_count</th>\n",
       "    </tr>\n",
       "  </thead>\n",
       "  <tbody>\n",
       "    <tr>\n",
       "      <th>0</th>\n",
       "      <td>[9042, 58914, 16894, 30056, 58914, 58914, 5891...</td>\n",
       "      <td>[75296, 391147, 141736, 252931, 456758, 394291...</td>\n",
       "      <td>[0, 0, 0, 0, 0, 0, 0, 0, 0]</td>\n",
       "      <td>[0, 0, 0, 0, 0, 0, 0, 0, 0]</td>\n",
       "      <td>[0, 0, 0, 0, 0, 0, 0, 0, 0]</td>\n",
       "      <td>[1, 0, 1, 1, 0, 0, 0, 0, 0]</td>\n",
       "      <td>[0, 0, 0, 0, 0, 0, 0, 0, 0]</td>\n",
       "      <td>[1, 2, 1, 1, 2, 2, 2, 2, 2]</td>\n",
       "      <td>[3, 6, 3, 3, 6, 6, 6, 6, 6]</td>\n",
       "      <td>[-0.17000672, -0.17000672, -0.17000672, -0.170...</td>\n",
       "      <td>...</td>\n",
       "      <td>92</td>\n",
       "      <td>4</td>\n",
       "      <td>1549893</td>\n",
       "      <td>0</td>\n",
       "      <td>9</td>\n",
       "      <td>0</td>\n",
       "      <td>00777f34d40ff8cf318666f38906db9cbf994d50c18fd9...</td>\n",
       "      <td>9188</td>\n",
       "      <td>1549893</td>\n",
       "      <td>9</td>\n",
       "    </tr>\n",
       "    <tr>\n",
       "      <th>1</th>\n",
       "      <td>[58914, 58914, 58070, 50713]</td>\n",
       "      <td>[429119, 382428, 490517, 427963]</td>\n",
       "      <td>[0, 0, 0, 0]</td>\n",
       "      <td>[0, 0, 0, 0]</td>\n",
       "      <td>[0, 0, 0, 0]</td>\n",
       "      <td>[0, 0, 1, 1]</td>\n",
       "      <td>[0, 0, 0, 0]</td>\n",
       "      <td>[2, 2, 1, 1]</td>\n",
       "      <td>[6, 6, 3, 3]</td>\n",
       "      <td>[-0.17000672, -0.17000672, -0.17000672, -0.170...</td>\n",
       "      <td>...</td>\n",
       "      <td>71</td>\n",
       "      <td>1</td>\n",
       "      <td>1551699</td>\n",
       "      <td>0</td>\n",
       "      <td>4</td>\n",
       "      <td>0</td>\n",
       "      <td>00777fe7e4a0ccc24c44ad0377126b216a8e3f54913478...</td>\n",
       "      <td>9189</td>\n",
       "      <td>1551699</td>\n",
       "      <td>4</td>\n",
       "    </tr>\n",
       "  </tbody>\n",
       "</table>\n",
       "<p>2 rows × 32 columns</p>\n",
       "</div>"
      ],
      "text/plain": [
       "                               product_sku_hash_list  \\\n",
       "0  [9042, 58914, 16894, 30056, 58914, 58914, 5891...   \n",
       "1                       [58914, 58914, 58070, 50713]   \n",
       "\n",
       "                               product_url_hash_list  \\\n",
       "0  [75296, 391147, 141736, 252931, 456758, 394291...   \n",
       "1                   [429119, 382428, 490517, 427963]   \n",
       "\n",
       "  has_been_removed_from_cart-list  has_been_added_to_cart-list  \\\n",
       "0     [0, 0, 0, 0, 0, 0, 0, 0, 0]  [0, 0, 0, 0, 0, 0, 0, 0, 0]   \n",
       "1                    [0, 0, 0, 0]                 [0, 0, 0, 0]   \n",
       "\n",
       "       has_been_purchased-list       has_been_detailed-list  \\\n",
       "0  [0, 0, 0, 0, 0, 0, 0, 0, 0]  [1, 0, 1, 1, 0, 0, 0, 0, 0]   \n",
       "1                 [0, 0, 0, 0]                 [0, 0, 1, 1]   \n",
       "\n",
       "         has_been_clicked-list              event_type-list  \\\n",
       "0  [0, 0, 0, 0, 0, 0, 0, 0, 0]  [1, 2, 1, 1, 2, 2, 2, 2, 2]   \n",
       "1                 [0, 0, 0, 0]                 [2, 2, 1, 1]   \n",
       "\n",
       "    product_action_filled-list  \\\n",
       "0  [3, 6, 3, 3, 6, 6, 6, 6, 6]   \n",
       "1                 [6, 6, 3, 3]   \n",
       "\n",
       "                                nb_interactions-list  ... day_index  fold  \\\n",
       "0  [-0.17000672, -0.17000672, -0.17000672, -0.170...  ...        92     4   \n",
       "1  [-0.17000672, -0.17000672, -0.17000672, -0.170...  ...        71     1   \n",
       "\n",
       "   ts-first  is_valid  product_sku_hash_count  is_test-last  \\\n",
       "0   1549893         0                       9             0   \n",
       "1   1551699         0                       4             0   \n",
       "\n",
       "                            original_session_id_hash session_id_hash  ts-last  \\\n",
       "0  00777f34d40ff8cf318666f38906db9cbf994d50c18fd9...            9188  1549893   \n",
       "1  00777fe7e4a0ccc24c44ad0377126b216a8e3f54913478...            9189  1551699   \n",
       "\n",
       "   product_url_hash_count  \n",
       "0                       9  \n",
       "1                       4  \n",
       "\n",
       "[2 rows x 32 columns]"
      ]
     },
     "execution_count": 43,
     "metadata": {},
     "output_type": "execute_result"
    }
   ],
   "source": [
    "trimed_cols.head(2)"
   ]
  },
  {
   "cell_type": "markdown",
   "metadata": {},
   "source": [
    "### Merge back with validation session"
   ]
  },
  {
   "cell_type": "code",
   "execution_count": 44,
   "metadata": {},
   "outputs": [],
   "source": [
    "final_session_gdf = cudf.concat([sessions_gdf[sessions_gdf.is_valid !=0], trimed_cols])"
   ]
  },
  {
   "cell_type": "code",
   "execution_count": 45,
   "metadata": {},
   "outputs": [
    {
     "data": {
      "text/html": [
       "<div>\n",
       "<style scoped>\n",
       "    .dataframe tbody tr th:only-of-type {\n",
       "        vertical-align: middle;\n",
       "    }\n",
       "\n",
       "    .dataframe tbody tr th {\n",
       "        vertical-align: top;\n",
       "    }\n",
       "\n",
       "    .dataframe thead th {\n",
       "        text-align: right;\n",
       "    }\n",
       "</style>\n",
       "<table border=\"1\" class=\"dataframe\">\n",
       "  <thead>\n",
       "    <tr style=\"text-align: right;\">\n",
       "      <th></th>\n",
       "      <th>session_id_hash</th>\n",
       "      <th>day_index</th>\n",
       "      <th>product_sku_hash_count</th>\n",
       "      <th>product_sku_hash_list</th>\n",
       "      <th>product_url_hash_count</th>\n",
       "      <th>product_url_hash_list</th>\n",
       "      <th>has_been_removed_from_cart-list</th>\n",
       "      <th>has_been_added_to_cart-list</th>\n",
       "      <th>has_been_purchased-list</th>\n",
       "      <th>has_been_detailed-list</th>\n",
       "      <th>...</th>\n",
       "      <th>timestamp_hour_cos-list</th>\n",
       "      <th>timestamp_hour_sin-list</th>\n",
       "      <th>timestamp_wd_sin-list</th>\n",
       "      <th>timestamp_wd_cos-list</th>\n",
       "      <th>timestamp_age_days-list</th>\n",
       "      <th>timestamp_age_days_norm-list</th>\n",
       "      <th>is_test-last</th>\n",
       "      <th>fold</th>\n",
       "      <th>is_valid</th>\n",
       "      <th>original_session_id_hash</th>\n",
       "    </tr>\n",
       "  </thead>\n",
       "  <tbody>\n",
       "    <tr>\n",
       "      <th>6</th>\n",
       "      <td>9198</td>\n",
       "      <td>31</td>\n",
       "      <td>3</td>\n",
       "      <td>[58914, 58914, 58914]</td>\n",
       "      <td>3</td>\n",
       "      <td>[250602, 176004, 32540]</td>\n",
       "      <td>[0, 0, 0]</td>\n",
       "      <td>[0, 0, 0]</td>\n",
       "      <td>[0, 0, 0]</td>\n",
       "      <td>[0, 0, 0]</td>\n",
       "      <td>...</td>\n",
       "      <td>[-0.4999995, -0.4999995, -0.4999995]</td>\n",
       "      <td>[-0.8660257, -0.8660257, -0.8660257]</td>\n",
       "      <td>[-0.781831, -0.781831, -0.781831]</td>\n",
       "      <td>[0.6234904, 0.6234904, 0.6234904]</td>\n",
       "      <td>[88, 88, 88]</td>\n",
       "      <td>[1.1888435, 1.1888435, 1.1888435]</td>\n",
       "      <td>0</td>\n",
       "      <td>5</td>\n",
       "      <td>1</td>\n",
       "      <td>00778adaef6807c6598f0991039ed30780e97a67b13728...</td>\n",
       "    </tr>\n",
       "    <tr>\n",
       "      <th>8</th>\n",
       "      <td>9205</td>\n",
       "      <td>35</td>\n",
       "      <td>2</td>\n",
       "      <td>[58914, 39336]</td>\n",
       "      <td>2</td>\n",
       "      <td>[32430, 330683]</td>\n",
       "      <td>[0, 0]</td>\n",
       "      <td>[0, 0]</td>\n",
       "      <td>[0, 0]</td>\n",
       "      <td>[0, 1]</td>\n",
       "      <td>...</td>\n",
       "      <td>[-0.96592575, -0.96592575]</td>\n",
       "      <td>[-0.2588193, -0.2588193]</td>\n",
       "      <td>[0.9749277, 0.9749277]</td>\n",
       "      <td>[-0.22252177, -0.22252177]</td>\n",
       "      <td>[83, 83]</td>\n",
       "      <td>[1.1389544, 1.1389544]</td>\n",
       "      <td>0</td>\n",
       "      <td>1</td>\n",
       "      <td>1</td>\n",
       "      <td>00779b2c15725c8a398b8a594670fb68c0668fce31930c...</td>\n",
       "    </tr>\n",
       "    <tr>\n",
       "      <th>16</th>\n",
       "      <td>9216</td>\n",
       "      <td>37</td>\n",
       "      <td>2</td>\n",
       "      <td>[22912, 58914]</td>\n",
       "      <td>2</td>\n",
       "      <td>[193086, 334664]</td>\n",
       "      <td>[0, 0]</td>\n",
       "      <td>[0, 0]</td>\n",
       "      <td>[0, 0]</td>\n",
       "      <td>[1, 0]</td>\n",
       "      <td>...</td>\n",
       "      <td>[-0.25881854, -0.25881854]</td>\n",
       "      <td>[-0.965926, -0.965926]</td>\n",
       "      <td>[1.1285199e-06, 1.1285199e-06]</td>\n",
       "      <td>[1.0, 1.0]</td>\n",
       "      <td>[44, 44]</td>\n",
       "      <td>[0.60041094, 0.60041094]</td>\n",
       "      <td>0</td>\n",
       "      <td>1</td>\n",
       "      <td>1</td>\n",
       "      <td>0077b5c8d26fd156622c9e5d51b98fc9b28e9f683ac32f...</td>\n",
       "    </tr>\n",
       "  </tbody>\n",
       "</table>\n",
       "<p>3 rows × 32 columns</p>\n",
       "</div>"
      ],
      "text/plain": [
       "    session_id_hash  day_index  product_sku_hash_count  product_sku_hash_list  \\\n",
       "6              9198         31                       3  [58914, 58914, 58914]   \n",
       "8              9205         35                       2         [58914, 39336]   \n",
       "16             9216         37                       2         [22912, 58914]   \n",
       "\n",
       "    product_url_hash_count    product_url_hash_list  \\\n",
       "6                        3  [250602, 176004, 32540]   \n",
       "8                        2          [32430, 330683]   \n",
       "16                       2         [193086, 334664]   \n",
       "\n",
       "   has_been_removed_from_cart-list has_been_added_to_cart-list  \\\n",
       "6                        [0, 0, 0]                   [0, 0, 0]   \n",
       "8                           [0, 0]                      [0, 0]   \n",
       "16                          [0, 0]                      [0, 0]   \n",
       "\n",
       "   has_been_purchased-list has_been_detailed-list  ...  \\\n",
       "6                [0, 0, 0]              [0, 0, 0]  ...   \n",
       "8                   [0, 0]                 [0, 1]  ...   \n",
       "16                  [0, 0]                 [1, 0]  ...   \n",
       "\n",
       "                 timestamp_hour_cos-list  \\\n",
       "6   [-0.4999995, -0.4999995, -0.4999995]   \n",
       "8             [-0.96592575, -0.96592575]   \n",
       "16            [-0.25881854, -0.25881854]   \n",
       "\n",
       "                 timestamp_hour_sin-list              timestamp_wd_sin-list  \\\n",
       "6   [-0.8660257, -0.8660257, -0.8660257]  [-0.781831, -0.781831, -0.781831]   \n",
       "8               [-0.2588193, -0.2588193]             [0.9749277, 0.9749277]   \n",
       "16                [-0.965926, -0.965926]     [1.1285199e-06, 1.1285199e-06]   \n",
       "\n",
       "                timestamp_wd_cos-list timestamp_age_days-list  \\\n",
       "6   [0.6234904, 0.6234904, 0.6234904]            [88, 88, 88]   \n",
       "8          [-0.22252177, -0.22252177]                [83, 83]   \n",
       "16                         [1.0, 1.0]                [44, 44]   \n",
       "\n",
       "         timestamp_age_days_norm-list is_test-last  fold  is_valid  \\\n",
       "6   [1.1888435, 1.1888435, 1.1888435]            0     5         1   \n",
       "8              [1.1389544, 1.1389544]            0     1         1   \n",
       "16           [0.60041094, 0.60041094]            0     1         1   \n",
       "\n",
       "                             original_session_id_hash  \n",
       "6   00778adaef6807c6598f0991039ed30780e97a67b13728...  \n",
       "8   00779b2c15725c8a398b8a594670fb68c0668fce31930c...  \n",
       "16  0077b5c8d26fd156622c9e5d51b98fc9b28e9f683ac32f...  \n",
       "\n",
       "[3 rows x 32 columns]"
      ]
     },
     "execution_count": 45,
     "metadata": {},
     "output_type": "execute_result"
    }
   ],
   "source": [
    "final_session_gdf.head(3)"
   ]
  },
  {
   "cell_type": "code",
   "execution_count": 48,
   "metadata": {},
   "outputs": [
    {
     "data": {
      "text/plain": [
       "(3433782, 32)"
      ]
     },
     "execution_count": 48,
     "metadata": {},
     "output_type": "execute_result"
    }
   ],
   "source": [
    "final_session_gdf.shape"
   ]
  },
  {
   "cell_type": "markdown",
   "metadata": {},
   "source": [
    "### Add search context "
   ]
  },
  {
   "cell_type": "code",
   "execution_count": 49,
   "metadata": {},
   "outputs": [],
   "source": [
    "search_table = cudf.read_parquet(OUTPUT_DIR+\"/session_search.parquet\")\n"
   ]
  },
  {
   "cell_type": "code",
   "execution_count": 50,
   "metadata": {},
   "outputs": [],
   "source": [
    "search_table.columns  = ['original_session_id_hash', 'flat_query_vector', 'flat_product_skus_hash',\n",
    "       'flat_clicked_skus_hash', 'impressions_size', 'clicks_size','nb_queries',\n",
    "       'clicked-flag']"
   ]
  },
  {
   "cell_type": "code",
   "execution_count": 51,
   "metadata": {},
   "outputs": [],
   "source": [
    "merged_session_table = final_session_gdf.merge(search_table, on=['original_session_id_hash'], how='left')"
   ]
  },
  {
   "cell_type": "code",
   "execution_count": 52,
   "metadata": {},
   "outputs": [],
   "source": [
    "del final_session_gdf, search_table"
   ]
  },
  {
   "cell_type": "markdown",
   "metadata": {},
   "source": [
    "# Process missing values "
   ]
  },
  {
   "cell_type": "code",
   "execution_count": 53,
   "metadata": {},
   "outputs": [],
   "source": [
    "merged_session_table = merged_session_table.to_pandas()"
   ]
  },
  {
   "cell_type": "code",
   "execution_count": 54,
   "metadata": {},
   "outputs": [],
   "source": [
    "merged_session_table.loc[merged_session_table.flat_product_skus_hash.isna(), \n",
    "                         'flat_product_skus_hash'] = pd.Series([['missing']] * merged_session_table.flat_product_skus_hash.isna().sum()).values"
   ]
  },
  {
   "cell_type": "code",
   "execution_count": 55,
   "metadata": {},
   "outputs": [],
   "source": [
    "merged_session_table.loc[merged_session_table.flat_clicked_skus_hash.isnull(),\n",
    "                         'flat_clicked_skus_hash'] = pd.Series([['missing']] * merged_session_table.flat_clicked_skus_hash.isnull().sum()).values"
   ]
  },
  {
   "cell_type": "code",
   "execution_count": 56,
   "metadata": {},
   "outputs": [],
   "source": [
    "merged_session_table.loc[merged_session_table.flat_query_vector.isnull(),\n",
    "                         'flat_query_vector'] = pd.Series([np.zeros(50)] * merged_session_table.flat_query_vector.isnull().sum()).values"
   ]
  },
  {
   "cell_type": "code",
   "execution_count": 57,
   "metadata": {},
   "outputs": [],
   "source": [
    "merged_session_table.loc[merged_session_table.impressions_size.isnull(),\n",
    "                         'impressions_size'] = pd.Series([[0]] * merged_session_table.impressions_size.isnull().sum()).values"
   ]
  },
  {
   "cell_type": "code",
   "execution_count": 58,
   "metadata": {},
   "outputs": [],
   "source": [
    "merged_session_table.nb_queries.fillna(0, inplace=True)"
   ]
  },
  {
   "cell_type": "code",
   "execution_count": 59,
   "metadata": {},
   "outputs": [
    {
     "data": {
      "text/html": [
       "<div>\n",
       "<style scoped>\n",
       "    .dataframe tbody tr th:only-of-type {\n",
       "        vertical-align: middle;\n",
       "    }\n",
       "\n",
       "    .dataframe tbody tr th {\n",
       "        vertical-align: top;\n",
       "    }\n",
       "\n",
       "    .dataframe thead th {\n",
       "        text-align: right;\n",
       "    }\n",
       "</style>\n",
       "<table border=\"1\" class=\"dataframe\">\n",
       "  <thead>\n",
       "    <tr style=\"text-align: right;\">\n",
       "      <th></th>\n",
       "      <th>session_id_hash</th>\n",
       "      <th>day_index</th>\n",
       "      <th>product_sku_hash_count</th>\n",
       "      <th>product_sku_hash_list</th>\n",
       "      <th>product_url_hash_count</th>\n",
       "      <th>product_url_hash_list</th>\n",
       "      <th>has_been_removed_from_cart-list</th>\n",
       "      <th>has_been_added_to_cart-list</th>\n",
       "      <th>has_been_purchased-list</th>\n",
       "      <th>has_been_detailed-list</th>\n",
       "      <th>...</th>\n",
       "      <th>fold</th>\n",
       "      <th>is_valid</th>\n",
       "      <th>original_session_id_hash</th>\n",
       "      <th>flat_query_vector</th>\n",
       "      <th>flat_product_skus_hash</th>\n",
       "      <th>flat_clicked_skus_hash</th>\n",
       "      <th>impressions_size</th>\n",
       "      <th>clicks_size</th>\n",
       "      <th>nb_queries</th>\n",
       "      <th>clicked-flag</th>\n",
       "    </tr>\n",
       "  </thead>\n",
       "  <tbody>\n",
       "    <tr>\n",
       "      <th>0</th>\n",
       "      <td>156516</td>\n",
       "      <td>42</td>\n",
       "      <td>2</td>\n",
       "      <td>[58914, 4918]</td>\n",
       "      <td>2</td>\n",
       "      <td>[10523, 41301]</td>\n",
       "      <td>[0, 0]</td>\n",
       "      <td>[0, 0]</td>\n",
       "      <td>[0, 0]</td>\n",
       "      <td>[0, 1]</td>\n",
       "      <td>...</td>\n",
       "      <td>1</td>\n",
       "      <td>1</td>\n",
       "      <td>07de4f39c1069c272a8d12d0ed2a9b47664f0c96c97090...</td>\n",
       "      <td>[0.0, 0.0, 0.0, 0.0, 0.0, 0.0, 0.0, 0.0, 0.0, ...</td>\n",
       "      <td>[missing]</td>\n",
       "      <td>[missing]</td>\n",
       "      <td>[0]</td>\n",
       "      <td>None</td>\n",
       "      <td>0.0</td>\n",
       "      <td>None</td>\n",
       "    </tr>\n",
       "    <tr>\n",
       "      <th>1</th>\n",
       "      <td>87496</td>\n",
       "      <td>33</td>\n",
       "      <td>13</td>\n",
       "      <td>[26337, 58914, 58914, 12540, 58914, 45977, 431...</td>\n",
       "      <td>13</td>\n",
       "      <td>[222523, 32540, 117702, 105356, 262542, 387012...</td>\n",
       "      <td>[0, 0, 0, 0, 0, 0, 0, 0, 0, 0, 0, 0, 0]</td>\n",
       "      <td>[0, 0, 0, 0, 0, 0, 0, 0, 0, 0, 0, 0, 0]</td>\n",
       "      <td>[0, 0, 0, 0, 0, 0, 0, 0, 0, 0, 0, 0, 0]</td>\n",
       "      <td>[1, 0, 0, 1, 0, 1, 1, 0, 0, 1, 0, 0, 1]</td>\n",
       "      <td>...</td>\n",
       "      <td>2</td>\n",
       "      <td>1</td>\n",
       "      <td>046a84c172dd202eb3d9216328d9366e517d02a6487f31...</td>\n",
       "      <td>[0.0, 0.0, 0.0, 0.0, 0.0, 0.0, 0.0, 0.0, 0.0, ...</td>\n",
       "      <td>[missing]</td>\n",
       "      <td>[missing]</td>\n",
       "      <td>[0]</td>\n",
       "      <td>None</td>\n",
       "      <td>0.0</td>\n",
       "      <td>None</td>\n",
       "    </tr>\n",
       "    <tr>\n",
       "      <th>2</th>\n",
       "      <td>87499</td>\n",
       "      <td>41</td>\n",
       "      <td>6</td>\n",
       "      <td>[58914, 58914, 58914, 58914, 58914, 58914]</td>\n",
       "      <td>6</td>\n",
       "      <td>[42826, 392119, 303925, 216092, 445682, 410243]</td>\n",
       "      <td>[0, 0, 0, 0, 0, 0]</td>\n",
       "      <td>[0, 0, 0, 0, 0, 0]</td>\n",
       "      <td>[0, 0, 0, 0, 0, 0]</td>\n",
       "      <td>[0, 0, 0, 0, 0, 0]</td>\n",
       "      <td>...</td>\n",
       "      <td>5</td>\n",
       "      <td>1</td>\n",
       "      <td>046a925a4a82d22b0dc1c8bdc76d3bee31c376429315c9...</td>\n",
       "      <td>[0.0, 0.0, 0.0, 0.0, 0.0, 0.0, 0.0, 0.0, 0.0, ...</td>\n",
       "      <td>[missing]</td>\n",
       "      <td>[missing]</td>\n",
       "      <td>[0]</td>\n",
       "      <td>None</td>\n",
       "      <td>0.0</td>\n",
       "      <td>None</td>\n",
       "    </tr>\n",
       "    <tr>\n",
       "      <th>3</th>\n",
       "      <td>139738</td>\n",
       "      <td>30</td>\n",
       "      <td>6</td>\n",
       "      <td>[41698, 49083, 49083, 58914, 58914, 58914]</td>\n",
       "      <td>6</td>\n",
       "      <td>[350821, 413931, 413931, 234964, 20934, 111114]</td>\n",
       "      <td>[0, 0, 0, 0, 0, 0]</td>\n",
       "      <td>[0, 1, 1, 0, 0, 0]</td>\n",
       "      <td>[0, 0, 0, 0, 0, 0]</td>\n",
       "      <td>[1, 1, 1, 0, 0, 0]</td>\n",
       "      <td>...</td>\n",
       "      <td>4</td>\n",
       "      <td>1</td>\n",
       "      <td>0707ed803d391d72ab6a773cd29977344979da650618a3...</td>\n",
       "      <td>[0.0, 0.0, 0.0, 0.0, 0.0, 0.0, 0.0, 0.0, 0.0, ...</td>\n",
       "      <td>[missing]</td>\n",
       "      <td>[missing]</td>\n",
       "      <td>[0]</td>\n",
       "      <td>None</td>\n",
       "      <td>0.0</td>\n",
       "      <td>None</td>\n",
       "    </tr>\n",
       "    <tr>\n",
       "      <th>4</th>\n",
       "      <td>139741</td>\n",
       "      <td>46</td>\n",
       "      <td>4</td>\n",
       "      <td>[58914, 58914, 58914, 29534]</td>\n",
       "      <td>4</td>\n",
       "      <td>[398545, 58420, 479220, 248619]</td>\n",
       "      <td>[0, 0, 0, 0]</td>\n",
       "      <td>[0, 0, 0, 0]</td>\n",
       "      <td>[0, 0, 0, 0]</td>\n",
       "      <td>[0, 0, 0, 1]</td>\n",
       "      <td>...</td>\n",
       "      <td>1</td>\n",
       "      <td>1</td>\n",
       "      <td>0707f4ae9aae359e8998cd55a5efe44581327dc641e0b2...</td>\n",
       "      <td>[0.0, 0.0, 0.0, 0.0, 0.0, 0.0, 0.0, 0.0, 0.0, ...</td>\n",
       "      <td>[missing]</td>\n",
       "      <td>[missing]</td>\n",
       "      <td>[0]</td>\n",
       "      <td>None</td>\n",
       "      <td>0.0</td>\n",
       "      <td>None</td>\n",
       "    </tr>\n",
       "  </tbody>\n",
       "</table>\n",
       "<p>5 rows × 39 columns</p>\n",
       "</div>"
      ],
      "text/plain": [
       "   session_id_hash  day_index  product_sku_hash_count  \\\n",
       "0           156516         42                       2   \n",
       "1            87496         33                      13   \n",
       "2            87499         41                       6   \n",
       "3           139738         30                       6   \n",
       "4           139741         46                       4   \n",
       "\n",
       "                               product_sku_hash_list  product_url_hash_count  \\\n",
       "0                                      [58914, 4918]                       2   \n",
       "1  [26337, 58914, 58914, 12540, 58914, 45977, 431...                      13   \n",
       "2         [58914, 58914, 58914, 58914, 58914, 58914]                       6   \n",
       "3         [41698, 49083, 49083, 58914, 58914, 58914]                       6   \n",
       "4                       [58914, 58914, 58914, 29534]                       4   \n",
       "\n",
       "                               product_url_hash_list  \\\n",
       "0                                     [10523, 41301]   \n",
       "1  [222523, 32540, 117702, 105356, 262542, 387012...   \n",
       "2    [42826, 392119, 303925, 216092, 445682, 410243]   \n",
       "3    [350821, 413931, 413931, 234964, 20934, 111114]   \n",
       "4                    [398545, 58420, 479220, 248619]   \n",
       "\n",
       "           has_been_removed_from_cart-list  \\\n",
       "0                                   [0, 0]   \n",
       "1  [0, 0, 0, 0, 0, 0, 0, 0, 0, 0, 0, 0, 0]   \n",
       "2                       [0, 0, 0, 0, 0, 0]   \n",
       "3                       [0, 0, 0, 0, 0, 0]   \n",
       "4                             [0, 0, 0, 0]   \n",
       "\n",
       "               has_been_added_to_cart-list  \\\n",
       "0                                   [0, 0]   \n",
       "1  [0, 0, 0, 0, 0, 0, 0, 0, 0, 0, 0, 0, 0]   \n",
       "2                       [0, 0, 0, 0, 0, 0]   \n",
       "3                       [0, 1, 1, 0, 0, 0]   \n",
       "4                             [0, 0, 0, 0]   \n",
       "\n",
       "                   has_been_purchased-list  \\\n",
       "0                                   [0, 0]   \n",
       "1  [0, 0, 0, 0, 0, 0, 0, 0, 0, 0, 0, 0, 0]   \n",
       "2                       [0, 0, 0, 0, 0, 0]   \n",
       "3                       [0, 0, 0, 0, 0, 0]   \n",
       "4                             [0, 0, 0, 0]   \n",
       "\n",
       "                    has_been_detailed-list  ... fold is_valid  \\\n",
       "0                                   [0, 1]  ...    1        1   \n",
       "1  [1, 0, 0, 1, 0, 1, 1, 0, 0, 1, 0, 0, 1]  ...    2        1   \n",
       "2                       [0, 0, 0, 0, 0, 0]  ...    5        1   \n",
       "3                       [1, 1, 1, 0, 0, 0]  ...    4        1   \n",
       "4                             [0, 0, 0, 1]  ...    1        1   \n",
       "\n",
       "                            original_session_id_hash  \\\n",
       "0  07de4f39c1069c272a8d12d0ed2a9b47664f0c96c97090...   \n",
       "1  046a84c172dd202eb3d9216328d9366e517d02a6487f31...   \n",
       "2  046a925a4a82d22b0dc1c8bdc76d3bee31c376429315c9...   \n",
       "3  0707ed803d391d72ab6a773cd29977344979da650618a3...   \n",
       "4  0707f4ae9aae359e8998cd55a5efe44581327dc641e0b2...   \n",
       "\n",
       "                                   flat_query_vector flat_product_skus_hash  \\\n",
       "0  [0.0, 0.0, 0.0, 0.0, 0.0, 0.0, 0.0, 0.0, 0.0, ...              [missing]   \n",
       "1  [0.0, 0.0, 0.0, 0.0, 0.0, 0.0, 0.0, 0.0, 0.0, ...              [missing]   \n",
       "2  [0.0, 0.0, 0.0, 0.0, 0.0, 0.0, 0.0, 0.0, 0.0, ...              [missing]   \n",
       "3  [0.0, 0.0, 0.0, 0.0, 0.0, 0.0, 0.0, 0.0, 0.0, ...              [missing]   \n",
       "4  [0.0, 0.0, 0.0, 0.0, 0.0, 0.0, 0.0, 0.0, 0.0, ...              [missing]   \n",
       "\n",
       "  flat_clicked_skus_hash impressions_size clicks_size nb_queries  clicked-flag  \n",
       "0              [missing]              [0]        None        0.0          None  \n",
       "1              [missing]              [0]        None        0.0          None  \n",
       "2              [missing]              [0]        None        0.0          None  \n",
       "3              [missing]              [0]        None        0.0          None  \n",
       "4              [missing]              [0]        None        0.0          None  \n",
       "\n",
       "[5 rows x 39 columns]"
      ]
     },
     "execution_count": 59,
     "metadata": {},
     "output_type": "execute_result"
    }
   ],
   "source": [
    "merged_session_table.head(5)"
   ]
  },
  {
   "cell_type": "markdown",
   "metadata": {},
   "source": [
    "### Encode flat_product_skus_hash and flat_clicked_skus_hash using product_url_hash mapping"
   ]
  },
  {
   "cell_type": "markdown",
   "metadata": {},
   "source": [
    "- load mapping "
   ]
  },
  {
   "cell_type": "code",
   "execution_count": 60,
   "metadata": {},
   "outputs": [],
   "source": [
    "mapping = pd.read_parquet('./categories/unique.product_url_hash.parquet')"
   ]
  },
  {
   "cell_type": "code",
   "execution_count": 61,
   "metadata": {},
   "outputs": [],
   "source": [
    "mapping_dict = dict(zip(mapping.product_url_hash,mapping.index))"
   ]
  },
  {
   "cell_type": "markdown",
   "metadata": {},
   "source": [
    "- Update mapping with unseen browsing products ids present in `flat_product_skus_hash` and `flat_clicked_skus_hash`"
   ]
  },
  {
   "cell_type": "code",
   "execution_count": 62,
   "metadata": {},
   "outputs": [
    {
     "name": "stdout",
     "output_type": "stream",
     "text": [
      "Number of products present in search and not in browsing is: 968\n"
     ]
    }
   ],
   "source": [
    "prods = [e for impression in merged_session_table.flat_product_skus_hash.values for e in impression]\n",
    "clicked_prod = [e for impression in merged_session_table.flat_clicked_skus_hash.values for e in impression]\n",
    "all_prods = set(prods + clicked_prod)\n",
    "new_prods = all_prods.difference(set(mapping.product_url_hash))\n",
    "print('Number of products present in search and not in browsing is: %s' %len(new_prods))"
   ]
  },
  {
   "cell_type": "code",
   "execution_count": 63,
   "metadata": {},
   "outputs": [],
   "source": [
    "cardinality = len(mapping_dict)\n",
    "new_ids = list(range(cardinality, cardinality+len(new_prods)))\n",
    "new_dict = dict(zip(new_prods, new_ids))\n",
    "mapping_dict.update(new_dict)"
   ]
  },
  {
   "cell_type": "markdown",
   "metadata": {},
   "source": [
    "- Encode list columns :  `flat_product_skus_hash` and `flat_clicked_skus_hash`"
   ]
  },
  {
   "cell_type": "code",
   "execution_count": 64,
   "metadata": {},
   "outputs": [],
   "source": [
    "def encode_list(x): \n",
    "    return [mapping_dict[e] for e in x]"
   ]
  },
  {
   "cell_type": "code",
   "execution_count": 65,
   "metadata": {},
   "outputs": [
    {
     "name": "stderr",
     "output_type": "stream",
     "text": [
      "100%|██████████| 3433782/3433782 [00:18<00:00, 186599.61it/s]\n",
      "100%|██████████| 3433782/3433782 [00:09<00:00, 374857.26it/s]\n"
     ]
    }
   ],
   "source": [
    "merged_session_table.flat_product_skus_hash = merged_session_table.flat_product_skus_hash.progress_apply(encode_list)\n",
    "merged_session_table.flat_clicked_skus_hash = merged_session_table.flat_clicked_skus_hash.progress_apply(encode_list)"
   ]
  },
  {
   "cell_type": "markdown",
   "metadata": {},
   "source": [
    "- Save updated mapping "
   ]
  },
  {
   "cell_type": "code",
   "execution_count": 104,
   "metadata": {},
   "outputs": [],
   "source": [
    "pd.DataFrame(mapping_dict.keys(), columns=['product_url_hash']).to_parquet(os.path.join(OUTPUT_DIR,\n",
    "                                                                                        'unique.updated_product_url_hash.parquet'))"
   ]
  },
  {
   "cell_type": "markdown",
   "metadata": {},
   "source": [
    "### Create clicked-flag : \n",
    "\n",
    "- check if element of `flat_product_skus_hash` was clicked or not.\n",
    "\n",
    "P.S: We ignore the click if interacted item is in the list of clicks (True in 1% of search interactions). "
   ]
  },
  {
   "cell_type": "code",
   "execution_count": 67,
   "metadata": {},
   "outputs": [
    {
     "name": "stderr",
     "output_type": "stream",
     "text": [
      "100%|██████████| 3433782/3433782 [03:38<00:00, 15686.10it/s]\n"
     ]
    }
   ],
   "source": [
    "merged_session_table['clicked-flag'] = merged_session_table.progress_apply(lambda x: [int(e in  list(set(x['flat_clicked_skus_hash']).difference(set(x['product_sku_hash_list'])))) \\\n",
    "                                                                          for e in x['flat_product_skus_hash']], axis=1)"
   ]
  },
  {
   "cell_type": "code",
   "execution_count": 68,
   "metadata": {},
   "outputs": [
    {
     "data": {
      "text/html": [
       "<div>\n",
       "<style scoped>\n",
       "    .dataframe tbody tr th:only-of-type {\n",
       "        vertical-align: middle;\n",
       "    }\n",
       "\n",
       "    .dataframe tbody tr th {\n",
       "        vertical-align: top;\n",
       "    }\n",
       "\n",
       "    .dataframe thead th {\n",
       "        text-align: right;\n",
       "    }\n",
       "</style>\n",
       "<table border=\"1\" class=\"dataframe\">\n",
       "  <thead>\n",
       "    <tr style=\"text-align: right;\">\n",
       "      <th></th>\n",
       "      <th>session_id_hash</th>\n",
       "      <th>day_index</th>\n",
       "      <th>product_sku_hash_count</th>\n",
       "      <th>product_sku_hash_list</th>\n",
       "      <th>product_url_hash_count</th>\n",
       "      <th>product_url_hash_list</th>\n",
       "      <th>has_been_removed_from_cart-list</th>\n",
       "      <th>has_been_added_to_cart-list</th>\n",
       "      <th>has_been_purchased-list</th>\n",
       "      <th>has_been_detailed-list</th>\n",
       "      <th>...</th>\n",
       "      <th>fold</th>\n",
       "      <th>is_valid</th>\n",
       "      <th>original_session_id_hash</th>\n",
       "      <th>flat_query_vector</th>\n",
       "      <th>flat_product_skus_hash</th>\n",
       "      <th>flat_clicked_skus_hash</th>\n",
       "      <th>impressions_size</th>\n",
       "      <th>clicks_size</th>\n",
       "      <th>nb_queries</th>\n",
       "      <th>clicked-flag</th>\n",
       "    </tr>\n",
       "  </thead>\n",
       "  <tbody>\n",
       "    <tr>\n",
       "      <th>1020</th>\n",
       "      <td>105340</td>\n",
       "      <td>50</td>\n",
       "      <td>2</td>\n",
       "      <td>[58914, 58914]</td>\n",
       "      <td>2</td>\n",
       "      <td>[301681, 131212]</td>\n",
       "      <td>[0, 0]</td>\n",
       "      <td>[0, 0]</td>\n",
       "      <td>[0, 0]</td>\n",
       "      <td>[0, 0]</td>\n",
       "      <td>...</td>\n",
       "      <td>4</td>\n",
       "      <td>1</td>\n",
       "      <td>054dfd808a4f4bf812717b3a5d4d8bae0f309ff0ec290d...</td>\n",
       "      <td>[0.0, 0.0, 0.0, 0.0, 0.0, 0.0, 0.0, 0.0, 0.0, ...</td>\n",
       "      <td>[497504]</td>\n",
       "      <td>[497504]</td>\n",
       "      <td>[0]</td>\n",
       "      <td>None</td>\n",
       "      <td>0.0</td>\n",
       "      <td>[1]</td>\n",
       "    </tr>\n",
       "    <tr>\n",
       "      <th>1021</th>\n",
       "      <td>17221</td>\n",
       "      <td>36</td>\n",
       "      <td>2</td>\n",
       "      <td>[40639, 58914]</td>\n",
       "      <td>2</td>\n",
       "      <td>[341770, 383815]</td>\n",
       "      <td>[0, 0]</td>\n",
       "      <td>[0, 0]</td>\n",
       "      <td>[0, 0]</td>\n",
       "      <td>[1, 0]</td>\n",
       "      <td>...</td>\n",
       "      <td>2</td>\n",
       "      <td>1</td>\n",
       "      <td>00e03b33868ca347f748b8e110f8aa4396f150b304280d...</td>\n",
       "      <td>[0.0, 0.0, 0.0, 0.0, 0.0, 0.0, 0.0, 0.0, 0.0, ...</td>\n",
       "      <td>[497504]</td>\n",
       "      <td>[497504]</td>\n",
       "      <td>[0]</td>\n",
       "      <td>None</td>\n",
       "      <td>0.0</td>\n",
       "      <td>[1]</td>\n",
       "    </tr>\n",
       "    <tr>\n",
       "      <th>1022</th>\n",
       "      <td>17225</td>\n",
       "      <td>37</td>\n",
       "      <td>2</td>\n",
       "      <td>[58914, 10318]</td>\n",
       "      <td>2</td>\n",
       "      <td>[441472, 86447]</td>\n",
       "      <td>[0, 0]</td>\n",
       "      <td>[0, 0]</td>\n",
       "      <td>[0, 0]</td>\n",
       "      <td>[0, 1]</td>\n",
       "      <td>...</td>\n",
       "      <td>3</td>\n",
       "      <td>1</td>\n",
       "      <td>00e04835a7e12dc922ad329d18ba75b961f7942d205e2c...</td>\n",
       "      <td>[0.0, 0.0, 0.0, 0.0, 0.0, 0.0, 0.0, 0.0, 0.0, ...</td>\n",
       "      <td>[497504]</td>\n",
       "      <td>[497504]</td>\n",
       "      <td>[0]</td>\n",
       "      <td>None</td>\n",
       "      <td>0.0</td>\n",
       "      <td>[1]</td>\n",
       "    </tr>\n",
       "    <tr>\n",
       "      <th>1023</th>\n",
       "      <td>17245</td>\n",
       "      <td>49</td>\n",
       "      <td>2</td>\n",
       "      <td>[16999, 42918]</td>\n",
       "      <td>2</td>\n",
       "      <td>[142667, 361053]</td>\n",
       "      <td>[0, 0]</td>\n",
       "      <td>[0, 0]</td>\n",
       "      <td>[0, 0]</td>\n",
       "      <td>[1, 1]</td>\n",
       "      <td>...</td>\n",
       "      <td>4</td>\n",
       "      <td>1</td>\n",
       "      <td>00e08811a99b2eb1bb6cb8248eb37058667f60066078c7...</td>\n",
       "      <td>[0.0, 0.0, 0.0, 0.0, 0.0, 0.0, 0.0, 0.0, 0.0, ...</td>\n",
       "      <td>[497504]</td>\n",
       "      <td>[497504]</td>\n",
       "      <td>[0]</td>\n",
       "      <td>None</td>\n",
       "      <td>0.0</td>\n",
       "      <td>[1]</td>\n",
       "    </tr>\n",
       "    <tr>\n",
       "      <th>1024</th>\n",
       "      <td>161491</td>\n",
       "      <td>38</td>\n",
       "      <td>16</td>\n",
       "      <td>[44245, 32040, 58914, 35486, 52683, 58914, 589...</td>\n",
       "      <td>16</td>\n",
       "      <td>[372268, 269971, 369425, 298312, 444336, 26225...</td>\n",
       "      <td>[0, 0, 0, 0, 0, 0, 0, 0, 0, 0, 0, 0, 0, 0, 0, 0]</td>\n",
       "      <td>[0, 0, 0, 0, 0, 0, 0, 0, 0, 0, 0, 0, 0, 0, 0, 0]</td>\n",
       "      <td>[0, 0, 0, 0, 0, 0, 0, 0, 0, 0, 0, 0, 0, 0, 0, 0]</td>\n",
       "      <td>[0, 1, 0, 1, 1, 0, 0, 0, 0, 1, 1, 1, 1, 0, 0, 0]</td>\n",
       "      <td>...</td>\n",
       "      <td>3</td>\n",
       "      <td>1</td>\n",
       "      <td>081de81fa9babf9b8604a597dd09eb0f47d95204b59280...</td>\n",
       "      <td>[-0.17531707882881165, -0.010863647796213627, ...</td>\n",
       "      <td>[372268, 433967, 331697, 379410, 439998, 26389...</td>\n",
       "      <td>[372268]</td>\n",
       "      <td>[25.0]</td>\n",
       "      <td>[1.0]</td>\n",
       "      <td>1.0</td>\n",
       "      <td>[1, 0, 0, 0, 0, 0, 0, 0, 0, 0, 0, 0, 0, 0, 0, ...</td>\n",
       "    </tr>\n",
       "    <tr>\n",
       "      <th>1025</th>\n",
       "      <td>161502</td>\n",
       "      <td>50</td>\n",
       "      <td>4</td>\n",
       "      <td>[58914, 58914, 58914, 58914]</td>\n",
       "      <td>4</td>\n",
       "      <td>[233981, 131212, 256998, 324338]</td>\n",
       "      <td>[0, 0, 0, 0]</td>\n",
       "      <td>[0, 0, 0, 0]</td>\n",
       "      <td>[0, 0, 0, 0]</td>\n",
       "      <td>[0, 0, 0, 0]</td>\n",
       "      <td>...</td>\n",
       "      <td>2</td>\n",
       "      <td>1</td>\n",
       "      <td>081e05c3ea4b87127077814cf0ad8778a0c732b21c2c59...</td>\n",
       "      <td>[-0.018799802288413048, -0.2817137837409973, 0...</td>\n",
       "      <td>[497504]</td>\n",
       "      <td>[497504]</td>\n",
       "      <td>[0.0, 0.0]</td>\n",
       "      <td>[0.0, 0.0]</td>\n",
       "      <td>2.0</td>\n",
       "      <td>[1]</td>\n",
       "    </tr>\n",
       "    <tr>\n",
       "      <th>1026</th>\n",
       "      <td>249221</td>\n",
       "      <td>36</td>\n",
       "      <td>2</td>\n",
       "      <td>[58914, 58914]</td>\n",
       "      <td>2</td>\n",
       "      <td>[477245, 131212]</td>\n",
       "      <td>[0, 0]</td>\n",
       "      <td>[0, 0]</td>\n",
       "      <td>[0, 0]</td>\n",
       "      <td>[0, 0]</td>\n",
       "      <td>...</td>\n",
       "      <td>2</td>\n",
       "      <td>1</td>\n",
       "      <td>0c893615eb0ebc720afb67723833cc002044a40d8895f6...</td>\n",
       "      <td>[0.0, 0.0, 0.0, 0.0, 0.0, 0.0, 0.0, 0.0, 0.0, ...</td>\n",
       "      <td>[497504]</td>\n",
       "      <td>[497504]</td>\n",
       "      <td>[0]</td>\n",
       "      <td>None</td>\n",
       "      <td>0.0</td>\n",
       "      <td>[1]</td>\n",
       "    </tr>\n",
       "    <tr>\n",
       "      <th>1027</th>\n",
       "      <td>249224</td>\n",
       "      <td>32</td>\n",
       "      <td>71</td>\n",
       "      <td>[591, 25918, 2077, 58914, 58914, 58914, 58914,...</td>\n",
       "      <td>71</td>\n",
       "      <td>[4858, 218796, 17294, 301681, 205428, 308995, ...</td>\n",
       "      <td>[0, 0, 1, 0, 0, 0, 0, 0, 0, 0, 0, 0, 0, 0, 0, ...</td>\n",
       "      <td>[0, 0, 0, 0, 0, 0, 0, 0, 0, 0, 0, 0, 0, 0, 0, ...</td>\n",
       "      <td>[0, 0, 0, 0, 0, 0, 0, 0, 0, 0, 0, 0, 0, 0, 0, ...</td>\n",
       "      <td>[1, 1, 0, 0, 0, 0, 0, 1, 1, 1, 1, 1, 0, 1, 1, ...</td>\n",
       "      <td>...</td>\n",
       "      <td>5</td>\n",
       "      <td>1</td>\n",
       "      <td>0c89483cff73ccd3670562508fd3633433c90d9af8d993...</td>\n",
       "      <td>[0.0, 0.0, 0.0, 0.0, 0.0, 0.0, 0.0, 0.0, 0.0, ...</td>\n",
       "      <td>[497504]</td>\n",
       "      <td>[497504]</td>\n",
       "      <td>[0]</td>\n",
       "      <td>None</td>\n",
       "      <td>0.0</td>\n",
       "      <td>[1]</td>\n",
       "    </tr>\n",
       "    <tr>\n",
       "      <th>1028</th>\n",
       "      <td>249231</td>\n",
       "      <td>49</td>\n",
       "      <td>3</td>\n",
       "      <td>[58914, 58914, 24599]</td>\n",
       "      <td>3</td>\n",
       "      <td>[185635, 131212, 207718]</td>\n",
       "      <td>[0, 0, 0]</td>\n",
       "      <td>[0, 0, 0]</td>\n",
       "      <td>[0, 0, 0]</td>\n",
       "      <td>[0, 0, 1]</td>\n",
       "      <td>...</td>\n",
       "      <td>1</td>\n",
       "      <td>1</td>\n",
       "      <td>0c895d93d348dbbbdaa0ad2297f1c68889643d318af9a9...</td>\n",
       "      <td>[0.0, 0.0, 0.0, 0.0, 0.0, 0.0, 0.0, 0.0, 0.0, ...</td>\n",
       "      <td>[497504]</td>\n",
       "      <td>[497504]</td>\n",
       "      <td>[0]</td>\n",
       "      <td>None</td>\n",
       "      <td>0.0</td>\n",
       "      <td>[1]</td>\n",
       "    </tr>\n",
       "    <tr>\n",
       "      <th>1029</th>\n",
       "      <td>227542</td>\n",
       "      <td>39</td>\n",
       "      <td>2</td>\n",
       "      <td>[58914, 58914]</td>\n",
       "      <td>2</td>\n",
       "      <td>[32643, 319985]</td>\n",
       "      <td>[0, 0]</td>\n",
       "      <td>[0, 0]</td>\n",
       "      <td>[0, 0]</td>\n",
       "      <td>[0, 0]</td>\n",
       "      <td>...</td>\n",
       "      <td>2</td>\n",
       "      <td>1</td>\n",
       "      <td>0b6fdc64879b7139e9d60bd2cf64eebed726585ac108a9...</td>\n",
       "      <td>[0.0, 0.0, 0.0, 0.0, 0.0, 0.0, 0.0, 0.0, 0.0, ...</td>\n",
       "      <td>[497504]</td>\n",
       "      <td>[497504]</td>\n",
       "      <td>[0]</td>\n",
       "      <td>None</td>\n",
       "      <td>0.0</td>\n",
       "      <td>[1]</td>\n",
       "    </tr>\n",
       "  </tbody>\n",
       "</table>\n",
       "<p>10 rows × 39 columns</p>\n",
       "</div>"
      ],
      "text/plain": [
       "      session_id_hash  day_index  product_sku_hash_count  \\\n",
       "1020           105340         50                       2   \n",
       "1021            17221         36                       2   \n",
       "1022            17225         37                       2   \n",
       "1023            17245         49                       2   \n",
       "1024           161491         38                      16   \n",
       "1025           161502         50                       4   \n",
       "1026           249221         36                       2   \n",
       "1027           249224         32                      71   \n",
       "1028           249231         49                       3   \n",
       "1029           227542         39                       2   \n",
       "\n",
       "                                  product_sku_hash_list  \\\n",
       "1020                                     [58914, 58914]   \n",
       "1021                                     [40639, 58914]   \n",
       "1022                                     [58914, 10318]   \n",
       "1023                                     [16999, 42918]   \n",
       "1024  [44245, 32040, 58914, 35486, 52683, 58914, 589...   \n",
       "1025                       [58914, 58914, 58914, 58914]   \n",
       "1026                                     [58914, 58914]   \n",
       "1027  [591, 25918, 2077, 58914, 58914, 58914, 58914,...   \n",
       "1028                              [58914, 58914, 24599]   \n",
       "1029                                     [58914, 58914]   \n",
       "\n",
       "      product_url_hash_count  \\\n",
       "1020                       2   \n",
       "1021                       2   \n",
       "1022                       2   \n",
       "1023                       2   \n",
       "1024                      16   \n",
       "1025                       4   \n",
       "1026                       2   \n",
       "1027                      71   \n",
       "1028                       3   \n",
       "1029                       2   \n",
       "\n",
       "                                  product_url_hash_list  \\\n",
       "1020                                   [301681, 131212]   \n",
       "1021                                   [341770, 383815]   \n",
       "1022                                    [441472, 86447]   \n",
       "1023                                   [142667, 361053]   \n",
       "1024  [372268, 269971, 369425, 298312, 444336, 26225...   \n",
       "1025                   [233981, 131212, 256998, 324338]   \n",
       "1026                                   [477245, 131212]   \n",
       "1027  [4858, 218796, 17294, 301681, 205428, 308995, ...   \n",
       "1028                           [185635, 131212, 207718]   \n",
       "1029                                    [32643, 319985]   \n",
       "\n",
       "                        has_been_removed_from_cart-list  \\\n",
       "1020                                             [0, 0]   \n",
       "1021                                             [0, 0]   \n",
       "1022                                             [0, 0]   \n",
       "1023                                             [0, 0]   \n",
       "1024   [0, 0, 0, 0, 0, 0, 0, 0, 0, 0, 0, 0, 0, 0, 0, 0]   \n",
       "1025                                       [0, 0, 0, 0]   \n",
       "1026                                             [0, 0]   \n",
       "1027  [0, 0, 1, 0, 0, 0, 0, 0, 0, 0, 0, 0, 0, 0, 0, ...   \n",
       "1028                                          [0, 0, 0]   \n",
       "1029                                             [0, 0]   \n",
       "\n",
       "                            has_been_added_to_cart-list  \\\n",
       "1020                                             [0, 0]   \n",
       "1021                                             [0, 0]   \n",
       "1022                                             [0, 0]   \n",
       "1023                                             [0, 0]   \n",
       "1024   [0, 0, 0, 0, 0, 0, 0, 0, 0, 0, 0, 0, 0, 0, 0, 0]   \n",
       "1025                                       [0, 0, 0, 0]   \n",
       "1026                                             [0, 0]   \n",
       "1027  [0, 0, 0, 0, 0, 0, 0, 0, 0, 0, 0, 0, 0, 0, 0, ...   \n",
       "1028                                          [0, 0, 0]   \n",
       "1029                                             [0, 0]   \n",
       "\n",
       "                                has_been_purchased-list  \\\n",
       "1020                                             [0, 0]   \n",
       "1021                                             [0, 0]   \n",
       "1022                                             [0, 0]   \n",
       "1023                                             [0, 0]   \n",
       "1024   [0, 0, 0, 0, 0, 0, 0, 0, 0, 0, 0, 0, 0, 0, 0, 0]   \n",
       "1025                                       [0, 0, 0, 0]   \n",
       "1026                                             [0, 0]   \n",
       "1027  [0, 0, 0, 0, 0, 0, 0, 0, 0, 0, 0, 0, 0, 0, 0, ...   \n",
       "1028                                          [0, 0, 0]   \n",
       "1029                                             [0, 0]   \n",
       "\n",
       "                                 has_been_detailed-list  ... fold is_valid  \\\n",
       "1020                                             [0, 0]  ...    4        1   \n",
       "1021                                             [1, 0]  ...    2        1   \n",
       "1022                                             [0, 1]  ...    3        1   \n",
       "1023                                             [1, 1]  ...    4        1   \n",
       "1024   [0, 1, 0, 1, 1, 0, 0, 0, 0, 1, 1, 1, 1, 0, 0, 0]  ...    3        1   \n",
       "1025                                       [0, 0, 0, 0]  ...    2        1   \n",
       "1026                                             [0, 0]  ...    2        1   \n",
       "1027  [1, 1, 0, 0, 0, 0, 0, 1, 1, 1, 1, 1, 0, 1, 1, ...  ...    5        1   \n",
       "1028                                          [0, 0, 1]  ...    1        1   \n",
       "1029                                             [0, 0]  ...    2        1   \n",
       "\n",
       "                               original_session_id_hash  \\\n",
       "1020  054dfd808a4f4bf812717b3a5d4d8bae0f309ff0ec290d...   \n",
       "1021  00e03b33868ca347f748b8e110f8aa4396f150b304280d...   \n",
       "1022  00e04835a7e12dc922ad329d18ba75b961f7942d205e2c...   \n",
       "1023  00e08811a99b2eb1bb6cb8248eb37058667f60066078c7...   \n",
       "1024  081de81fa9babf9b8604a597dd09eb0f47d95204b59280...   \n",
       "1025  081e05c3ea4b87127077814cf0ad8778a0c732b21c2c59...   \n",
       "1026  0c893615eb0ebc720afb67723833cc002044a40d8895f6...   \n",
       "1027  0c89483cff73ccd3670562508fd3633433c90d9af8d993...   \n",
       "1028  0c895d93d348dbbbdaa0ad2297f1c68889643d318af9a9...   \n",
       "1029  0b6fdc64879b7139e9d60bd2cf64eebed726585ac108a9...   \n",
       "\n",
       "                                      flat_query_vector  \\\n",
       "1020  [0.0, 0.0, 0.0, 0.0, 0.0, 0.0, 0.0, 0.0, 0.0, ...   \n",
       "1021  [0.0, 0.0, 0.0, 0.0, 0.0, 0.0, 0.0, 0.0, 0.0, ...   \n",
       "1022  [0.0, 0.0, 0.0, 0.0, 0.0, 0.0, 0.0, 0.0, 0.0, ...   \n",
       "1023  [0.0, 0.0, 0.0, 0.0, 0.0, 0.0, 0.0, 0.0, 0.0, ...   \n",
       "1024  [-0.17531707882881165, -0.010863647796213627, ...   \n",
       "1025  [-0.018799802288413048, -0.2817137837409973, 0...   \n",
       "1026  [0.0, 0.0, 0.0, 0.0, 0.0, 0.0, 0.0, 0.0, 0.0, ...   \n",
       "1027  [0.0, 0.0, 0.0, 0.0, 0.0, 0.0, 0.0, 0.0, 0.0, ...   \n",
       "1028  [0.0, 0.0, 0.0, 0.0, 0.0, 0.0, 0.0, 0.0, 0.0, ...   \n",
       "1029  [0.0, 0.0, 0.0, 0.0, 0.0, 0.0, 0.0, 0.0, 0.0, ...   \n",
       "\n",
       "                                 flat_product_skus_hash  \\\n",
       "1020                                           [497504]   \n",
       "1021                                           [497504]   \n",
       "1022                                           [497504]   \n",
       "1023                                           [497504]   \n",
       "1024  [372268, 433967, 331697, 379410, 439998, 26389...   \n",
       "1025                                           [497504]   \n",
       "1026                                           [497504]   \n",
       "1027                                           [497504]   \n",
       "1028                                           [497504]   \n",
       "1029                                           [497504]   \n",
       "\n",
       "     flat_clicked_skus_hash impressions_size clicks_size nb_queries  \\\n",
       "1020               [497504]              [0]        None        0.0   \n",
       "1021               [497504]              [0]        None        0.0   \n",
       "1022               [497504]              [0]        None        0.0   \n",
       "1023               [497504]              [0]        None        0.0   \n",
       "1024               [372268]           [25.0]       [1.0]        1.0   \n",
       "1025               [497504]       [0.0, 0.0]  [0.0, 0.0]        2.0   \n",
       "1026               [497504]              [0]        None        0.0   \n",
       "1027               [497504]              [0]        None        0.0   \n",
       "1028               [497504]              [0]        None        0.0   \n",
       "1029               [497504]              [0]        None        0.0   \n",
       "\n",
       "                                           clicked-flag  \n",
       "1020                                                [1]  \n",
       "1021                                                [1]  \n",
       "1022                                                [1]  \n",
       "1023                                                [1]  \n",
       "1024  [1, 0, 0, 0, 0, 0, 0, 0, 0, 0, 0, 0, 0, 0, 0, ...  \n",
       "1025                                                [1]  \n",
       "1026                                                [1]  \n",
       "1027                                                [1]  \n",
       "1028                                                [1]  \n",
       "1029                                                [1]  \n",
       "\n",
       "[10 rows x 39 columns]"
      ]
     },
     "execution_count": 68,
     "metadata": {},
     "output_type": "execute_result"
    }
   ],
   "source": [
    "merged_session_table[1020:1030]"
   ]
  },
  {
   "cell_type": "code",
   "execution_count": 107,
   "metadata": {},
   "outputs": [
    {
     "data": {
      "text/plain": [
       "142327"
      ]
     },
     "execution_count": 107,
     "metadata": {},
     "output_type": "execute_result"
    }
   ],
   "source": [
    "merged_session_table['is_test-last'].sum()"
   ]
  },
  {
   "cell_type": "markdown",
   "metadata": {
    "jupyter": {
     "outputs_hidden": true
    }
   },
   "source": [
    "### Exporting session table by fold and train-test-valid splits "
   ]
  },
  {
   "cell_type": "code",
   "execution_count": 70,
   "metadata": {},
   "outputs": [],
   "source": [
    "OUTPUT_FOLDER = \"/result/coveo/\"\n",
    "for fold in range(1, 6): \n",
    "    merged_session_table.loc[(merged_session_table['is_test-last']==1) & (merged_session_table.fold==fold)].to_parquet(os.path.join(OUTPUT_DIR, 'test-%s.parquet'%fold),\n",
    "                                                                                               #partition_file_name= 'test-%s.parquet'%fold,\n",
    "                                                                                               #engine='pyarrow',\n",
    "                                                                                               #row_group_size=1000\n",
    "                                                                                                           )\n",
    "    \n",
    "    \n",
    "    \n",
    "    merged_session_table.loc[(merged_session_table['is_valid']==1) & (merged_session_table.fold==fold)].to_parquet(os.path.join(OUTPUT_DIR, 'valid-%s.parquet'%fold),\n",
    "                                                                                           #partition_file_name = 'valid-%s.parquet'%fold,\n",
    "                                                                                           #engine='pyarrow',\n",
    "                                                                                           #row_group_size=1000\n",
    "                                                                                                       )\n",
    "    \n",
    "    \n",
    "    merged_session_table.loc[(merged_session_table['is_valid']==0) & (merged_session_table['is_test-last']==0) & (merged_session_table.fold==fold)].to_parquet(os.path.join(OUTPUT_DIR, 'train-%s.parquet'%fold),\n",
    "                                                                                           #partition_file_name = 'train-%s.parquet'%fold,\n",
    "                                                                                           #engine='pyarrow',\n",
    "                                                                                           #row_group_size=1000\n",
    "                                                                                                                                           )"
   ]
  },
  {
   "cell_type": "code",
   "execution_count": 71,
   "metadata": {},
   "outputs": [],
   "source": [
    "test = pd.read_parquet(os.path.join(OUTPUT_DIR, \"test-1.parquet\"))"
   ]
  },
  {
   "cell_type": "code",
   "execution_count": 72,
   "metadata": {},
   "outputs": [
    {
     "data": {
      "text/html": [
       "<div>\n",
       "<style scoped>\n",
       "    .dataframe tbody tr th:only-of-type {\n",
       "        vertical-align: middle;\n",
       "    }\n",
       "\n",
       "    .dataframe tbody tr th {\n",
       "        vertical-align: top;\n",
       "    }\n",
       "\n",
       "    .dataframe thead th {\n",
       "        text-align: right;\n",
       "    }\n",
       "</style>\n",
       "<table border=\"1\" class=\"dataframe\">\n",
       "  <thead>\n",
       "    <tr style=\"text-align: right;\">\n",
       "      <th></th>\n",
       "      <th>session_id_hash</th>\n",
       "      <th>day_index</th>\n",
       "      <th>product_sku_hash_count</th>\n",
       "      <th>product_sku_hash_list</th>\n",
       "      <th>product_url_hash_count</th>\n",
       "      <th>product_url_hash_list</th>\n",
       "      <th>has_been_removed_from_cart-list</th>\n",
       "      <th>has_been_added_to_cart-list</th>\n",
       "      <th>has_been_purchased-list</th>\n",
       "      <th>has_been_detailed-list</th>\n",
       "      <th>...</th>\n",
       "      <th>fold</th>\n",
       "      <th>is_valid</th>\n",
       "      <th>original_session_id_hash</th>\n",
       "      <th>flat_query_vector</th>\n",
       "      <th>flat_product_skus_hash</th>\n",
       "      <th>flat_clicked_skus_hash</th>\n",
       "      <th>impressions_size</th>\n",
       "      <th>clicks_size</th>\n",
       "      <th>nb_queries</th>\n",
       "      <th>clicked-flag</th>\n",
       "    </tr>\n",
       "  </thead>\n",
       "  <tbody>\n",
       "    <tr>\n",
       "      <th>522702</th>\n",
       "      <td>66809</td>\n",
       "      <td>7</td>\n",
       "      <td>3</td>\n",
       "      <td>[58914, 58914, 58914]</td>\n",
       "      <td>3</td>\n",
       "      <td>[391147, 131212, 47979]</td>\n",
       "      <td>[0, 0, 0]</td>\n",
       "      <td>[0, 0, 0]</td>\n",
       "      <td>[0, 0, 0]</td>\n",
       "      <td>[0, 0, 0]</td>\n",
       "      <td>...</td>\n",
       "      <td>1</td>\n",
       "      <td>0</td>\n",
       "      <td>035f8723c5377d6adf48e6509fa5762b5bcf4a37810d44...</td>\n",
       "      <td>[0.0, 0.0, 0.0, 0.0, 0.0, 0.0, 0.0, 0.0, 0.0, ...</td>\n",
       "      <td>[497504]</td>\n",
       "      <td>[497504]</td>\n",
       "      <td>[0.0]</td>\n",
       "      <td>None</td>\n",
       "      <td>0.0</td>\n",
       "      <td>[1]</td>\n",
       "    </tr>\n",
       "    <tr>\n",
       "      <th>539462</th>\n",
       "      <td>160794</td>\n",
       "      <td>2</td>\n",
       "      <td>1</td>\n",
       "      <td>[56108]</td>\n",
       "      <td>1</td>\n",
       "      <td>[473839]</td>\n",
       "      <td>[0]</td>\n",
       "      <td>[0]</td>\n",
       "      <td>[0]</td>\n",
       "      <td>[1]</td>\n",
       "      <td>...</td>\n",
       "      <td>1</td>\n",
       "      <td>0</td>\n",
       "      <td>0814d1be32e549b7651837e189b8d19e9cc8aeb4a4ee92...</td>\n",
       "      <td>[0.0, 0.0, 0.0, 0.0, 0.0, 0.0, 0.0, 0.0, 0.0, ...</td>\n",
       "      <td>[497504]</td>\n",
       "      <td>[497504]</td>\n",
       "      <td>[0.0]</td>\n",
       "      <td>None</td>\n",
       "      <td>0.0</td>\n",
       "      <td>[1]</td>\n",
       "    </tr>\n",
       "  </tbody>\n",
       "</table>\n",
       "<p>2 rows × 39 columns</p>\n",
       "</div>"
      ],
      "text/plain": [
       "        session_id_hash  day_index  product_sku_hash_count  \\\n",
       "522702            66809          7                       3   \n",
       "539462           160794          2                       1   \n",
       "\n",
       "        product_sku_hash_list  product_url_hash_count  \\\n",
       "522702  [58914, 58914, 58914]                       3   \n",
       "539462                [56108]                       1   \n",
       "\n",
       "          product_url_hash_list has_been_removed_from_cart-list  \\\n",
       "522702  [391147, 131212, 47979]                       [0, 0, 0]   \n",
       "539462                 [473839]                             [0]   \n",
       "\n",
       "       has_been_added_to_cart-list has_been_purchased-list  \\\n",
       "522702                   [0, 0, 0]               [0, 0, 0]   \n",
       "539462                         [0]                     [0]   \n",
       "\n",
       "       has_been_detailed-list  ... fold is_valid  \\\n",
       "522702              [0, 0, 0]  ...    1        0   \n",
       "539462                    [1]  ...    1        0   \n",
       "\n",
       "                                 original_session_id_hash  \\\n",
       "522702  035f8723c5377d6adf48e6509fa5762b5bcf4a37810d44...   \n",
       "539462  0814d1be32e549b7651837e189b8d19e9cc8aeb4a4ee92...   \n",
       "\n",
       "                                        flat_query_vector  \\\n",
       "522702  [0.0, 0.0, 0.0, 0.0, 0.0, 0.0, 0.0, 0.0, 0.0, ...   \n",
       "539462  [0.0, 0.0, 0.0, 0.0, 0.0, 0.0, 0.0, 0.0, 0.0, ...   \n",
       "\n",
       "       flat_product_skus_hash flat_clicked_skus_hash impressions_size  \\\n",
       "522702               [497504]               [497504]            [0.0]   \n",
       "539462               [497504]               [497504]            [0.0]   \n",
       "\n",
       "       clicks_size nb_queries  clicked-flag  \n",
       "522702        None        0.0           [1]  \n",
       "539462        None        0.0           [1]  \n",
       "\n",
       "[2 rows x 39 columns]"
      ]
     },
     "execution_count": 72,
     "metadata": {},
     "output_type": "execute_result"
    }
   ],
   "source": [
    "test.head(2)"
   ]
  },
  {
   "cell_type": "markdown",
   "metadata": {},
   "source": [
    "### Save unique product sku mapping from updated product_url_hash encoded column"
   ]
  },
  {
   "cell_type": "code",
   "execution_count": 73,
   "metadata": {},
   "outputs": [],
   "source": [
    "urls_ids = interactions_merged_df[interactions_merged_df.event_type==2]['product_url_hash'].unique()"
   ]
  },
  {
   "cell_type": "code",
   "execution_count": 74,
   "metadata": {},
   "outputs": [],
   "source": [
    "mapping = pd.read_parquet(os.path.join(OUTPUT_DIR, 'unique.updated_product_url_hash.parquet'))"
   ]
  },
  {
   "cell_type": "code",
   "execution_count": 75,
   "metadata": {},
   "outputs": [],
   "source": [
    "mask = mapping.reset_index()['index'].isin(urls_ids.values.tolist())"
   ]
  },
  {
   "cell_type": "code",
   "execution_count": 76,
   "metadata": {},
   "outputs": [],
   "source": [
    "mapping_prod = mapping[~mask].reset_index()"
   ]
  },
  {
   "cell_type": "code",
   "execution_count": 77,
   "metadata": {},
   "outputs": [],
   "source": [
    "mapping_prod.columns =  ['encoded_product_sku', 'original_product_sku']"
   ]
  },
  {
   "cell_type": "code",
   "execution_count": 78,
   "metadata": {},
   "outputs": [
    {
     "data": {
      "text/html": [
       "<div>\n",
       "<style scoped>\n",
       "    .dataframe tbody tr th:only-of-type {\n",
       "        vertical-align: middle;\n",
       "    }\n",
       "\n",
       "    .dataframe tbody tr th {\n",
       "        vertical-align: top;\n",
       "    }\n",
       "\n",
       "    .dataframe thead th {\n",
       "        text-align: right;\n",
       "    }\n",
       "</style>\n",
       "<table border=\"1\" class=\"dataframe\">\n",
       "  <thead>\n",
       "    <tr style=\"text-align: right;\">\n",
       "      <th></th>\n",
       "      <th>encoded_product_sku</th>\n",
       "      <th>original_product_sku</th>\n",
       "    </tr>\n",
       "  </thead>\n",
       "  <tbody>\n",
       "    <tr>\n",
       "      <th>0</th>\n",
       "      <td>0</td>\n",
       "      <td>None</td>\n",
       "    </tr>\n",
       "    <tr>\n",
       "      <th>1</th>\n",
       "      <td>3</td>\n",
       "      <td>000082c13a39a85caafc0b435f37b8cccb3aa3b0c63d56...</td>\n",
       "    </tr>\n",
       "    <tr>\n",
       "      <th>2</th>\n",
       "      <td>15</td>\n",
       "      <td>00021c22af5a39b6297fa304566f9cfcf7982689904a0b...</td>\n",
       "    </tr>\n",
       "    <tr>\n",
       "      <th>3</th>\n",
       "      <td>18</td>\n",
       "      <td>000287bdd487f7ca56435b6af745222a3e2c3452ca9d53...</td>\n",
       "    </tr>\n",
       "    <tr>\n",
       "      <th>4</th>\n",
       "      <td>36</td>\n",
       "      <td>00056f966469cf20e4d2c8ecd863e54c613161e57960d7...</td>\n",
       "    </tr>\n",
       "  </tbody>\n",
       "</table>\n",
       "</div>"
      ],
      "text/plain": [
       "   encoded_product_sku                               original_product_sku\n",
       "0                    0                                               None\n",
       "1                    3  000082c13a39a85caafc0b435f37b8cccb3aa3b0c63d56...\n",
       "2                   15  00021c22af5a39b6297fa304566f9cfcf7982689904a0b...\n",
       "3                   18  000287bdd487f7ca56435b6af745222a3e2c3452ca9d53...\n",
       "4                   36  00056f966469cf20e4d2c8ecd863e54c613161e57960d7..."
      ]
     },
     "execution_count": 78,
     "metadata": {},
     "output_type": "execute_result"
    }
   ],
   "source": [
    "mapping_prod.head()"
   ]
  },
  {
   "cell_type": "code",
   "execution_count": 79,
   "metadata": {},
   "outputs": [
    {
     "data": {
      "text/plain": [
       "59883"
      ]
     },
     "execution_count": 79,
     "metadata": {},
     "output_type": "execute_result"
    }
   ],
   "source": [
    "mapping_prod.shape[0]"
   ]
  },
  {
   "cell_type": "code",
   "execution_count": 88,
   "metadata": {},
   "outputs": [],
   "source": [
    "mapping_prod.to_parquet(os.path.join(OUTPUT_DIR, 'mapping_product_sku_without_urls.parquet'))"
   ]
  },
  {
   "cell_type": "markdown",
   "metadata": {},
   "source": [
    "### Create pickle files with product embedding vectors "
   ]
  },
  {
   "cell_type": "markdown",
   "metadata": {},
   "source": [
    "* Pickle file with a tuple composed by:\n",
    "\n",
    "    - Numpy matrix with the description vectors of the products\n",
    "    - Numpy matrix with the image vectors of the products\n",
    "    - Dict to map the encoded product_sku to the position in the embedding matrices"
   ]
  },
  {
   "cell_type": "markdown",
   "metadata": {},
   "source": [
    "- Load product table "
   ]
  },
  {
   "cell_type": "code",
   "execution_count": 82,
   "metadata": {},
   "outputs": [
    {
     "data": {
      "text/html": [
       "<div>\n",
       "<style scoped>\n",
       "    .dataframe tbody tr th:only-of-type {\n",
       "        vertical-align: middle;\n",
       "    }\n",
       "\n",
       "    .dataframe tbody tr th {\n",
       "        vertical-align: top;\n",
       "    }\n",
       "\n",
       "    .dataframe thead th {\n",
       "        text-align: right;\n",
       "    }\n",
       "</style>\n",
       "<table border=\"1\" class=\"dataframe\">\n",
       "  <thead>\n",
       "    <tr style=\"text-align: right;\">\n",
       "      <th></th>\n",
       "      <th>product_sku_hash</th>\n",
       "      <th>description_vector</th>\n",
       "      <th>image_vector</th>\n",
       "    </tr>\n",
       "  </thead>\n",
       "  <tbody>\n",
       "    <tr>\n",
       "      <th>66381</th>\n",
       "      <td>c7cc673ca3baa5fa222fffdc16379892b3a62583a48143...</td>\n",
       "      <td>NaN</td>\n",
       "      <td>NaN</td>\n",
       "    </tr>\n",
       "    <tr>\n",
       "      <th>66382</th>\n",
       "      <td>6641c7d2053ce48ce1e81a9653dffe56dbb79ab0704fbd...</td>\n",
       "      <td>[-0.19150441884994507, -0.06235162168741226, -...</td>\n",
       "      <td>[129.55668732976045, 43.27996741934932, -36.70...</td>\n",
       "    </tr>\n",
       "    <tr>\n",
       "      <th>66383</th>\n",
       "      <td>526a6a51717d5bb40ef2b0c47394d08c54385375633bab...</td>\n",
       "      <td>[-0.19760936498641968, 0.4446450471878052, -0....</td>\n",
       "      <td>[-158.25984189321855, 74.19255741438077, 199.6...</td>\n",
       "    </tr>\n",
       "    <tr>\n",
       "      <th>66384</th>\n",
       "      <td>21ca4ab0e2fbd3b401fbeadeb4439dcab9998fb52159ec...</td>\n",
       "      <td>NaN</td>\n",
       "      <td>NaN</td>\n",
       "    </tr>\n",
       "    <tr>\n",
       "      <th>66385</th>\n",
       "      <td>0eaa39fb645749da181c0637d3b420f3f103b5f6b50286...</td>\n",
       "      <td>NaN</td>\n",
       "      <td>NaN</td>\n",
       "    </tr>\n",
       "  </tbody>\n",
       "</table>\n",
       "</div>"
      ],
      "text/plain": [
       "                                        product_sku_hash  \\\n",
       "66381  c7cc673ca3baa5fa222fffdc16379892b3a62583a48143...   \n",
       "66382  6641c7d2053ce48ce1e81a9653dffe56dbb79ab0704fbd...   \n",
       "66383  526a6a51717d5bb40ef2b0c47394d08c54385375633bab...   \n",
       "66384  21ca4ab0e2fbd3b401fbeadeb4439dcab9998fb52159ec...   \n",
       "66385  0eaa39fb645749da181c0637d3b420f3f103b5f6b50286...   \n",
       "\n",
       "                                      description_vector  \\\n",
       "66381                                                NaN   \n",
       "66382  [-0.19150441884994507, -0.06235162168741226, -...   \n",
       "66383  [-0.19760936498641968, 0.4446450471878052, -0....   \n",
       "66384                                                NaN   \n",
       "66385                                                NaN   \n",
       "\n",
       "                                            image_vector  \n",
       "66381                                                NaN  \n",
       "66382  [129.55668732976045, 43.27996741934932, -36.70...  \n",
       "66383  [-158.25984189321855, 74.19255741438077, 199.6...  \n",
       "66384                                                NaN  \n",
       "66385                                                NaN  "
      ]
     },
     "execution_count": 82,
     "metadata": {},
     "output_type": "execute_result"
    }
   ],
   "source": [
    "product_info = pd.read_csv('/workspace/sku_to_content.csv', usecols=['product_sku_hash', \n",
    "                                                                     'description_vector', \n",
    "                                                                     'image_vector'])\n",
    "product_info.tail() "
   ]
  },
  {
   "cell_type": "code",
   "execution_count": 83,
   "metadata": {},
   "outputs": [
    {
     "name": "stderr",
     "output_type": "stream",
     "text": [
      "100%|██████████| 66386/66386 [00:06<00:00, 10564.35it/s]\n",
      "100%|██████████| 66386/66386 [00:05<00:00, 11560.31it/s]\n"
     ]
    }
   ],
   "source": [
    "# convert strings to list object \n",
    "import ast\n",
    "def convert_str_to_list(x): \n",
    "    if pd.isnull(x): \n",
    "        return x\n",
    "    return ast.literal_eval(x)\n",
    "for col in ['description_vector', 'image_vector']: \n",
    "    product_info[col] = product_info[col].progress_apply(convert_str_to_list)"
   ]
  },
  {
   "cell_type": "code",
   "execution_count": 84,
   "metadata": {},
   "outputs": [],
   "source": [
    "product_info.columns = ['original_product_sku', 'description_vector', 'image_vector']"
   ]
  },
  {
   "cell_type": "markdown",
   "metadata": {},
   "source": [
    "### Merge product embeddings and mapping_prod"
   ]
  },
  {
   "cell_type": "code",
   "execution_count": 85,
   "metadata": {},
   "outputs": [],
   "source": [
    "embeddings_table = mapping_prod.merge(product_info, on=['original_product_sku'], how='left')"
   ]
  },
  {
   "cell_type": "markdown",
   "metadata": {},
   "source": [
    "- Fill missing embeddings with vector of zeros "
   ]
  },
  {
   "cell_type": "code",
   "execution_count": 86,
   "metadata": {},
   "outputs": [],
   "source": [
    "embeddings_table.loc[embeddings_table.description_vector.isnull(),\n",
    "                         'description_vector'] = pd.Series([np.zeros(50)] * embeddings_table.description_vector.isnull().sum()).values\n",
    "\n",
    "embeddings_table.loc[embeddings_table.image_vector.isnull(),\n",
    "                         'image_vector'] = pd.Series([np.zeros(50)] * embeddings_table.image_vector.isnull().sum()).values"
   ]
  },
  {
   "cell_type": "code",
   "execution_count": 87,
   "metadata": {},
   "outputs": [
    {
     "data": {
      "text/html": [
       "<div>\n",
       "<style scoped>\n",
       "    .dataframe tbody tr th:only-of-type {\n",
       "        vertical-align: middle;\n",
       "    }\n",
       "\n",
       "    .dataframe tbody tr th {\n",
       "        vertical-align: top;\n",
       "    }\n",
       "\n",
       "    .dataframe thead th {\n",
       "        text-align: right;\n",
       "    }\n",
       "</style>\n",
       "<table border=\"1\" class=\"dataframe\">\n",
       "  <thead>\n",
       "    <tr style=\"text-align: right;\">\n",
       "      <th></th>\n",
       "      <th>encoded_product_sku</th>\n",
       "      <th>original_product_sku</th>\n",
       "      <th>description_vector</th>\n",
       "      <th>image_vector</th>\n",
       "    </tr>\n",
       "  </thead>\n",
       "  <tbody>\n",
       "    <tr>\n",
       "      <th>0</th>\n",
       "      <td>0</td>\n",
       "      <td>None</td>\n",
       "      <td>[0.0, 0.0, 0.0, 0.0, 0.0, 0.0, 0.0, 0.0, 0.0, ...</td>\n",
       "      <td>[0.0, 0.0, 0.0, 0.0, 0.0, 0.0, 0.0, 0.0, 0.0, ...</td>\n",
       "    </tr>\n",
       "    <tr>\n",
       "      <th>1</th>\n",
       "      <td>3</td>\n",
       "      <td>000082c13a39a85caafc0b435f37b8cccb3aa3b0c63d56...</td>\n",
       "      <td>[0.1271490901708603, 0.09000279754400253, -0.1...</td>\n",
       "      <td>[79.61198119384494, 73.19961102682859, -92.346...</td>\n",
       "    </tr>\n",
       "    <tr>\n",
       "      <th>2</th>\n",
       "      <td>15</td>\n",
       "      <td>00021c22af5a39b6297fa304566f9cfcf7982689904a0b...</td>\n",
       "      <td>[0.0, 0.0, 0.0, 0.0, 0.0, 0.0, 0.0, 0.0, 0.0, ...</td>\n",
       "      <td>[0.0, 0.0, 0.0, 0.0, 0.0, 0.0, 0.0, 0.0, 0.0, ...</td>\n",
       "    </tr>\n",
       "    <tr>\n",
       "      <th>3</th>\n",
       "      <td>18</td>\n",
       "      <td>000287bdd487f7ca56435b6af745222a3e2c3452ca9d53...</td>\n",
       "      <td>[0.0, 0.0, 0.0, 0.0, 0.0, 0.0, 0.0, 0.0, 0.0, ...</td>\n",
       "      <td>[0.0, 0.0, 0.0, 0.0, 0.0, 0.0, 0.0, 0.0, 0.0, ...</td>\n",
       "    </tr>\n",
       "    <tr>\n",
       "      <th>4</th>\n",
       "      <td>36</td>\n",
       "      <td>00056f966469cf20e4d2c8ecd863e54c613161e57960d7...</td>\n",
       "      <td>[0.33688265085220337, 0.03285939246416092, -0....</td>\n",
       "      <td>[145.95916885879836, 37.90878066571861, -85.77...</td>\n",
       "    </tr>\n",
       "    <tr>\n",
       "      <th>...</th>\n",
       "      <td>...</td>\n",
       "      <td>...</td>\n",
       "      <td>...</td>\n",
       "      <td>...</td>\n",
       "    </tr>\n",
       "    <tr>\n",
       "      <th>59878</th>\n",
       "      <td>498468</td>\n",
       "      <td>9acd34249a1a9e13753d39e2adc61a6c4a82a7d743a634...</td>\n",
       "      <td>[-0.21348106861114502, -0.18012449145317078, 0...</td>\n",
       "      <td>[83.05163496671773, -80.84915746650896, -39.86...</td>\n",
       "    </tr>\n",
       "    <tr>\n",
       "      <th>59879</th>\n",
       "      <td>498469</td>\n",
       "      <td>c4b2c170182d1abdcdf4dafc233ce0c2124786cdd86f79...</td>\n",
       "      <td>[-0.1523011028766632, 0.35209035873413086, 0.0...</td>\n",
       "      <td>[-139.49862168470486, 142.81849208243293, 154....</td>\n",
       "    </tr>\n",
       "    <tr>\n",
       "      <th>59880</th>\n",
       "      <td>498470</td>\n",
       "      <td>76142c18e8ae06e682a2044ed464f1d3cb43ccfade37f1...</td>\n",
       "      <td>[-0.1972847580909729, -0.12598703801631927, -0...</td>\n",
       "      <td>[-96.79500596434526, -24.44535110386083, 53.20...</td>\n",
       "    </tr>\n",
       "    <tr>\n",
       "      <th>59881</th>\n",
       "      <td>498471</td>\n",
       "      <td>16bbcd368b7fb9a7dda6e85662ee6f945ceb31b8e6c8b4...</td>\n",
       "      <td>[-0.2526131868362427, -0.15291501581668854, -0...</td>\n",
       "      <td>[0.0, 0.0, 0.0, 0.0, 0.0, 0.0, 0.0, 0.0, 0.0, ...</td>\n",
       "    </tr>\n",
       "    <tr>\n",
       "      <th>59882</th>\n",
       "      <td>498472</td>\n",
       "      <td>573e99c8a2d32db3eabfd413b6ca3feb9b5f7057a02af6...</td>\n",
       "      <td>[-0.2099740207195282, 0.2339114248752594, 0.02...</td>\n",
       "      <td>[0.0, 0.0, 0.0, 0.0, 0.0, 0.0, 0.0, 0.0, 0.0, ...</td>\n",
       "    </tr>\n",
       "  </tbody>\n",
       "</table>\n",
       "<p>59883 rows × 4 columns</p>\n",
       "</div>"
      ],
      "text/plain": [
       "       encoded_product_sku                               original_product_sku  \\\n",
       "0                        0                                               None   \n",
       "1                        3  000082c13a39a85caafc0b435f37b8cccb3aa3b0c63d56...   \n",
       "2                       15  00021c22af5a39b6297fa304566f9cfcf7982689904a0b...   \n",
       "3                       18  000287bdd487f7ca56435b6af745222a3e2c3452ca9d53...   \n",
       "4                       36  00056f966469cf20e4d2c8ecd863e54c613161e57960d7...   \n",
       "...                    ...                                                ...   \n",
       "59878               498468  9acd34249a1a9e13753d39e2adc61a6c4a82a7d743a634...   \n",
       "59879               498469  c4b2c170182d1abdcdf4dafc233ce0c2124786cdd86f79...   \n",
       "59880               498470  76142c18e8ae06e682a2044ed464f1d3cb43ccfade37f1...   \n",
       "59881               498471  16bbcd368b7fb9a7dda6e85662ee6f945ceb31b8e6c8b4...   \n",
       "59882               498472  573e99c8a2d32db3eabfd413b6ca3feb9b5f7057a02af6...   \n",
       "\n",
       "                                      description_vector  \\\n",
       "0      [0.0, 0.0, 0.0, 0.0, 0.0, 0.0, 0.0, 0.0, 0.0, ...   \n",
       "1      [0.1271490901708603, 0.09000279754400253, -0.1...   \n",
       "2      [0.0, 0.0, 0.0, 0.0, 0.0, 0.0, 0.0, 0.0, 0.0, ...   \n",
       "3      [0.0, 0.0, 0.0, 0.0, 0.0, 0.0, 0.0, 0.0, 0.0, ...   \n",
       "4      [0.33688265085220337, 0.03285939246416092, -0....   \n",
       "...                                                  ...   \n",
       "59878  [-0.21348106861114502, -0.18012449145317078, 0...   \n",
       "59879  [-0.1523011028766632, 0.35209035873413086, 0.0...   \n",
       "59880  [-0.1972847580909729, -0.12598703801631927, -0...   \n",
       "59881  [-0.2526131868362427, -0.15291501581668854, -0...   \n",
       "59882  [-0.2099740207195282, 0.2339114248752594, 0.02...   \n",
       "\n",
       "                                            image_vector  \n",
       "0      [0.0, 0.0, 0.0, 0.0, 0.0, 0.0, 0.0, 0.0, 0.0, ...  \n",
       "1      [79.61198119384494, 73.19961102682859, -92.346...  \n",
       "2      [0.0, 0.0, 0.0, 0.0, 0.0, 0.0, 0.0, 0.0, 0.0, ...  \n",
       "3      [0.0, 0.0, 0.0, 0.0, 0.0, 0.0, 0.0, 0.0, 0.0, ...  \n",
       "4      [145.95916885879836, 37.90878066571861, -85.77...  \n",
       "...                                                  ...  \n",
       "59878  [83.05163496671773, -80.84915746650896, -39.86...  \n",
       "59879  [-139.49862168470486, 142.81849208243293, 154....  \n",
       "59880  [-96.79500596434526, -24.44535110386083, 53.20...  \n",
       "59881  [0.0, 0.0, 0.0, 0.0, 0.0, 0.0, 0.0, 0.0, 0.0, ...  \n",
       "59882  [0.0, 0.0, 0.0, 0.0, 0.0, 0.0, 0.0, 0.0, 0.0, ...  \n",
       "\n",
       "[59883 rows x 4 columns]"
      ]
     },
     "execution_count": 87,
     "metadata": {},
     "output_type": "execute_result"
    }
   ],
   "source": [
    "embeddings_table"
   ]
  },
  {
   "cell_type": "markdown",
   "metadata": {},
   "source": [
    "- Numpy matrix with the image vectors of the products"
   ]
  },
  {
   "cell_type": "code",
   "execution_count": 89,
   "metadata": {},
   "outputs": [],
   "source": [
    "image_matrix = np.concatenate(embeddings_table.image_vector.values).reshape(-1, 50)"
   ]
  },
  {
   "cell_type": "markdown",
   "metadata": {},
   "source": [
    "- Numpy matrix with the description vectors of the products"
   ]
  },
  {
   "cell_type": "code",
   "execution_count": 90,
   "metadata": {},
   "outputs": [],
   "source": [
    "desc_matrix = np.concatenate(embeddings_table.description_vector.values).reshape(-1, 50)"
   ]
  },
  {
   "cell_type": "markdown",
   "metadata": {},
   "source": [
    "- Dict to map the encoded product_sku to the position in the embedding matrices"
   ]
  },
  {
   "cell_type": "code",
   "execution_count": 91,
   "metadata": {},
   "outputs": [],
   "source": [
    "mapping_id_sku_emb_position = dict(zip(embeddings_table.encoded_product_sku, embeddings_table.index))"
   ]
  },
  {
   "cell_type": "markdown",
   "metadata": {},
   "source": [
    "### Save to pickle file "
   ]
  },
  {
   "cell_type": "code",
   "execution_count": 93,
   "metadata": {},
   "outputs": [],
   "source": [
    "# Saving the objects:\n",
    "import pickle\n",
    "with open(os.path.join(OUTPUT_DIR, 'embedding_data.pkl'), 'wb')as f:  \n",
    "    pickle.dump([desc_matrix, image_matrix, mapping_id_sku_emb_position], f)"
   ]
  }
 ],
 "metadata": {
  "interpreter": {
   "hash": "4c47d106ac78ce38a91b980f6e93d54b8debc81758e991dc6d6ecbd1a520b3c1"
  },
  "kernelspec": {
   "display_name": "Python 3",
   "language": "python",
   "name": "python3"
  },
  "language_info": {
   "codemirror_mode": {
    "name": "ipython",
    "version": 3
   },
   "file_extension": ".py",
   "mimetype": "text/x-python",
   "name": "python",
   "nbconvert_exporter": "python",
   "pygments_lexer": "ipython3",
   "version": "3.7.9"
  }
 },
 "nbformat": 4,
 "nbformat_minor": 4
}
