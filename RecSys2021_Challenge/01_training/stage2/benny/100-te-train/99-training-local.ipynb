{
 "cells": [
  {
   "cell_type": "code",
   "execution_count": null,
   "id": "fd3e5200",
   "metadata": {},
   "outputs": [],
   "source": [
    "# Copyright 2021 NVIDIA CORPORATION\n",
    "#\n",
    "# Licensed under the Apache License, Version 2.0 (the \"License\");\n",
    "# you may not use this file except in compliance with the License.\n",
    "# You may obtain a copy of the License at\n",
    "#\n",
    "#     http://www.apache.org/licenses/LICENSE-2.0\n",
    "#\n",
    "# Unless required by applicable law or agreed to in writing, software\n",
    "# distributed under the License is distributed on an \"AS IS\" BASIS,\n",
    "# WITHOUT WARRANTIES OR CONDITIONS OF ANY KIND, either express or implied.\n",
    "# See the License for the specific language governing permissions and\n",
    "# limitations under the License."
   ]
  },
  {
   "cell_type": "code",
   "execution_count": 1,
   "id": "built-links",
   "metadata": {},
   "outputs": [],
   "source": [
    "import glob\n",
    "import pandas as pd\n",
    "import numpy as np\n",
    "import cudf\n",
    "import cupy\n",
    "import gc\n",
    "\n",
    "from datetime import datetime"
   ]
  },
  {
   "cell_type": "code",
   "execution_count": 2,
   "id": "corrected-release",
   "metadata": {},
   "outputs": [],
   "source": [
    "files = glob.glob('/raid/recsys2021_pre_validXGB_TE/*.parquet')"
   ]
  },
  {
   "cell_type": "code",
   "execution_count": 3,
   "id": "fifth-robertson",
   "metadata": {},
   "outputs": [
    {
     "data": {
      "text/plain": [
       "['/raid/recsys2021_pre_validXGB_TE/2_part-00000_1.parquet',\n",
       " '/raid/recsys2021_pre_validXGB_TE/3_part-00000_1.parquet',\n",
       " '/raid/recsys2021_pre_validXGB_TE/4_part-00000_1.parquet',\n",
       " '/raid/recsys2021_pre_validXGB_TE/1_part-00000_1.parquet',\n",
       " '/raid/recsys2021_pre_validXGB_TE/5_part-00000_1.parquet',\n",
       " '/raid/recsys2021_pre_validXGB_TE/6_part-00000_1.parquet',\n",
       " '/raid/recsys2021_pre_validXGB_TE/0_part-00000_1.parquet']"
      ]
     },
     "execution_count": 3,
     "metadata": {},
     "output_type": "execute_result"
    }
   ],
   "source": [
    "files"
   ]
  },
  {
   "cell_type": "code",
   "execution_count": 4,
   "id": "electrical-maple",
   "metadata": {},
   "outputs": [],
   "source": [
    "import os, time\n",
    "os.environ[\"CUDA_VISIBLE_DEVICES\"]=\"0,1,2,3,4,5,6,7\""
   ]
  },
  {
   "cell_type": "code",
   "execution_count": 5,
   "id": "valuable-variable",
   "metadata": {},
   "outputs": [],
   "source": [
    "import dask as dask, dask_cudf\n",
    "from dask.distributed import Client, wait\n",
    "from dask_cuda import LocalCUDACluster\n",
    "import subprocess"
   ]
  },
  {
   "cell_type": "code",
   "execution_count": 6,
   "id": "operational-explorer",
   "metadata": {},
   "outputs": [
    {
     "data": {
      "text/html": [
       "<table style=\"border: 2px solid white;\">\n",
       "<tr>\n",
       "<td style=\"vertical-align: top; border: 0px solid white\">\n",
       "<h3 style=\"text-align: left;\">Client</h3>\n",
       "<ul style=\"text-align: left; list-style: none; margin: 0; padding: 0;\">\n",
       "  <li><b>Scheduler: </b>tcp://127.0.0.1:43825</li>\n",
       "  <li><b>Dashboard: </b><a href='http://127.0.0.1:8787/status' target='_blank'>http://127.0.0.1:8787/status</a></li>\n",
       "</ul>\n",
       "</td>\n",
       "<td style=\"vertical-align: top; border: 0px solid white\">\n",
       "<h3 style=\"text-align: left;\">Cluster</h3>\n",
       "<ul style=\"text-align: left; list-style:none; margin: 0; padding: 0;\">\n",
       "  <li><b>Workers: </b>8</li>\n",
       "  <li><b>Cores: </b>8</li>\n",
       "  <li><b>Memory: </b>429.50 GB</li>\n",
       "</ul>\n",
       "</td>\n",
       "</tr>\n",
       "</table>"
      ],
      "text/plain": [
       "<Client: 'tcp://127.0.0.1:43825' processes=8 threads=8, memory=429.50 GB>"
      ]
     },
     "execution_count": 6,
     "metadata": {},
     "output_type": "execute_result"
    }
   ],
   "source": [
    "cluster = LocalCUDACluster(local_directory='/raid/dask9432236/', device_memory_limit=0.4)\n",
    "client = Client(cluster)\n",
    "client"
   ]
  },
  {
   "cell_type": "code",
   "execution_count": 7,
   "id": "aggressive-accessory",
   "metadata": {},
   "outputs": [],
   "source": [
    "df = dask_cudf.read_parquet(sorted(files))"
   ]
  },
  {
   "cell_type": "code",
   "execution_count": 8,
   "id": "suitable-bracelet",
   "metadata": {},
   "outputs": [],
   "source": [
    "quantiles = [240,  588, 1331, 3996]\n",
    "\n",
    "df['group'] = 0\n",
    "for i, quant in enumerate(quantiles):\n",
    "    df['group'] = (df['group']+(df['a_follower_count']>quant).astype('int8')).astype('int8')"
   ]
  },
  {
   "cell_type": "code",
   "execution_count": 9,
   "id": "inside-publisher",
   "metadata": {},
   "outputs": [],
   "source": [
    "fold = 0\n",
    "train = df[~(df['folds']==fold)]\n",
    "valid = df[(df['folds']==fold)]\n",
    "del df"
   ]
  },
  {
   "cell_type": "code",
   "execution_count": 10,
   "id": "domestic-symphony",
   "metadata": {},
   "outputs": [],
   "source": [
    "train, valid = dask.persist(train, valid)"
   ]
  },
  {
   "cell_type": "code",
   "execution_count": 11,
   "id": "elegant-developer",
   "metadata": {},
   "outputs": [
    {
     "name": "stdout",
     "output_type": "stream",
     "text": [
      "11569644 2892116\n"
     ]
    }
   ],
   "source": [
    "print(train.shape[0].compute(), valid.shape[0].compute())"
   ]
  },
  {
   "cell_type": "code",
   "execution_count": 12,
   "id": "stable-tennessee",
   "metadata": {},
   "outputs": [],
   "source": [
    "label_names = ['reply', 'retweet', 'retweet_comment', 'like']\n",
    "DONT_USE = ['timestamp','a_account_creation','b_account_creation','engage_time', 'folds',\n",
    "            'fold','b_user_id','a_user_id', 'a_account_creation', \n",
    "            'b_account_creation', 'elapsed_time', 'links','domains','hashtags','id', 'date', 'is_train', \n",
    "            'tw_original_http0', 'tw_original_user0', 'tw_original_user1', 'tw_original_user2',\n",
    "            'tw_rt_count_char', 'tw_rt_count_words', 'tw_rt_user0', 'tw_tweet', 'tw_word0',\n",
    "            'tw_word1', 'tw_word2', 'tw_word3', 'tw_word4', 'tw_count_hash', 'dt_second']\n",
    "DONT_USE += label_names\n",
    "features = [c for c in train.columns if c not in DONT_USE]\n",
    "\n",
    "RMV = [c for c in DONT_USE if c in train.columns and c not in label_names]\n",
    "RMV = list(set(RMV))"
   ]
  },
  {
   "cell_type": "code",
   "execution_count": 13,
   "id": "federal-carolina",
   "metadata": {},
   "outputs": [
    {
     "name": "stdout",
     "output_type": "stream",
     "text": [
      "CPU times: user 23.4 ms, sys: 1.67 ms, total: 25.1 ms\n",
      "Wall time: 23.7 ms\n"
     ]
    },
    {
     "data": {
      "text/plain": [
       "DoneAndNotDoneFutures(done={<Future: finished, type: cudf.DataFrame, key: ('getitem-a35b30f41b85e0475175c6ac82bdbfea', 6)>, <Future: finished, type: cudf.DataFrame, key: ('getitem-a35b30f41b85e0475175c6ac82bdbfea', 4)>, <Future: finished, type: cudf.DataFrame, key: ('getitem-a35b30f41b85e0475175c6ac82bdbfea', 0)>, <Future: finished, type: cudf.DataFrame, key: ('getitem-a35b30f41b85e0475175c6ac82bdbfea', 2)>, <Future: finished, type: cudf.DataFrame, key: ('getitem-a35b30f41b85e0475175c6ac82bdbfea', 1)>, <Future: finished, type: cudf.DataFrame, key: ('getitem-a35b30f41b85e0475175c6ac82bdbfea', 5)>, <Future: finished, type: cudf.DataFrame, key: ('getitem-a35b30f41b85e0475175c6ac82bdbfea', 3)>}, not_done=set())"
      ]
     },
     "execution_count": 13,
     "metadata": {},
     "output_type": "execute_result"
    }
   ],
   "source": [
    "%%time\n",
    "\n",
    "train = train.drop(RMV,axis=1)\n",
    "wait(train)"
   ]
  },
  {
   "cell_type": "code",
   "execution_count": 14,
   "id": "norwegian-lightweight",
   "metadata": {},
   "outputs": [
    {
     "name": "stdout",
     "output_type": "stream",
     "text": [
      "CPU times: user 20.1 ms, sys: 2.9 ms, total: 23 ms\n",
      "Wall time: 21.5 ms\n"
     ]
    },
    {
     "data": {
      "text/plain": [
       "DoneAndNotDoneFutures(done={<Future: finished, type: cudf.DataFrame, key: ('getitem-1d6ffe1f3b9cadf7c8849f1c0d1282d8', 2)>, <Future: finished, type: cudf.DataFrame, key: ('getitem-1d6ffe1f3b9cadf7c8849f1c0d1282d8', 5)>, <Future: finished, type: cudf.DataFrame, key: ('getitem-1d6ffe1f3b9cadf7c8849f1c0d1282d8', 0)>, <Future: finished, type: cudf.DataFrame, key: ('getitem-1d6ffe1f3b9cadf7c8849f1c0d1282d8', 6)>, <Future: finished, type: cudf.DataFrame, key: ('getitem-1d6ffe1f3b9cadf7c8849f1c0d1282d8', 1)>, <Future: finished, type: cudf.DataFrame, key: ('getitem-1d6ffe1f3b9cadf7c8849f1c0d1282d8', 3)>, <Future: finished, type: cudf.DataFrame, key: ('getitem-1d6ffe1f3b9cadf7c8849f1c0d1282d8', 4)>}, not_done=set())"
      ]
     },
     "execution_count": 14,
     "metadata": {},
     "output_type": "execute_result"
    }
   ],
   "source": [
    "%%time\n",
    "\n",
    "valid = valid.drop(RMV,axis=1)\n",
    "wait(valid)"
   ]
  },
  {
   "cell_type": "code",
   "execution_count": 15,
   "id": "prescribed-jamaica",
   "metadata": {},
   "outputs": [
    {
     "name": "stdout",
     "output_type": "stream",
     "text": [
      "Using 115 features: 115\n"
     ]
    },
    {
     "data": {
      "text/plain": [
       "array(['BNN_like', 'BNN_reply', 'BNN_retweet', 'BNN_retweet_comment',\n",
       "       'BONN_like', 'BONN_reply', 'BONN_retweet', 'BONN_retweet_comment',\n",
       "       'CE_valid_b_user_id', 'CNN_like', 'CNN_reply', 'CNN_retweet',\n",
       "       'CNN_retweet_comment', 'CXGB_like', 'CXGB_reply', 'CXGB_retweet',\n",
       "       'CXGB_retweet_comment', 'GXGB_like', 'GXGB_reply', 'GXGB_retweet',\n",
       "       'GXGB_retweet_comment', 'TE_a_user_id_like', 'TE_a_user_id_reply',\n",
       "       'TE_a_user_id_retweet', 'TE_a_user_id_retweet_comment',\n",
       "       'TE_b_is_verified_tweet_type_like',\n",
       "       'TE_b_is_verified_tweet_type_reply',\n",
       "       'TE_b_is_verified_tweet_type_retweet',\n",
       "       'TE_b_is_verified_tweet_type_retweet_comment',\n",
       "       'TE_b_user_id_a_user_id_like', 'TE_b_user_id_a_user_id_reply',\n",
       "       'TE_b_user_id_a_user_id_retweet',\n",
       "       'TE_b_user_id_a_user_id_retweet_comment', 'TE_b_user_id_like',\n",
       "       'TE_b_user_id_reply', 'TE_b_user_id_retweet',\n",
       "       'TE_b_user_id_retweet_comment',\n",
       "       'TE_b_user_id_tweet_type_language_like',\n",
       "       'TE_b_user_id_tweet_type_language_reply',\n",
       "       'TE_b_user_id_tweet_type_language_retweet',\n",
       "       'TE_b_user_id_tweet_type_language_retweet_comment',\n",
       "       'TE_switch_a_user_id_like', 'TE_switch_a_user_id_reply',\n",
       "       'TE_switch_a_user_id_retweet',\n",
       "       'TE_switch_a_user_id_retweet_comment', 'TE_switch_b_user_id_like',\n",
       "       'TE_switch_b_user_id_reply', 'TE_switch_b_user_id_retweet',\n",
       "       'TE_switch_b_user_id_retweet_comment',\n",
       "       'TE_tw_original_user0_tweet_type_language_like',\n",
       "       'TE_tw_original_user0_tweet_type_language_reply',\n",
       "       'TE_tw_original_user0_tweet_type_language_retweet',\n",
       "       'TE_tw_original_user0_tweet_type_language_retweet_comment',\n",
       "       'TE_tw_original_user1_tweet_type_language_like',\n",
       "       'TE_tw_original_user1_tweet_type_language_reply',\n",
       "       'TE_tw_original_user1_tweet_type_language_retweet',\n",
       "       'TE_tw_original_user1_tweet_type_language_retweet_comment',\n",
       "       'TE_tweet_type_like', 'TE_tweet_type_reply',\n",
       "       'TE_tweet_type_retweet', 'TE_tweet_type_retweet_comment',\n",
       "       'TE_valid_a_user_id_like', 'TE_valid_a_user_id_reply',\n",
       "       'TE_valid_a_user_id_retweet', 'TE_valid_a_user_id_retweet_comment',\n",
       "       'TE_valid_b_user_id_like', 'TE_valid_b_user_id_reply',\n",
       "       'TE_valid_b_user_id_retweet', 'TE_valid_b_user_id_retweet_comment',\n",
       "       'TE_valid_tweet_id_like', 'TE_valid_tweet_id_reply',\n",
       "       'TE_valid_tweet_id_retweet', 'TE_valid_tweet_id_retweet_comment',\n",
       "       'XGB_like', 'XGB_reply', 'XGB_retweet', 'XGB_retweet_comment',\n",
       "       'a_ff_rate', 'a_follower_count', 'a_following_count',\n",
       "       'a_is_verified', 'ab_age_dff', 'ab_age_rate', 'ab_fer_rate',\n",
       "       'ab_fing_rate', 'b_ff_rate', 'b_follower_count',\n",
       "       'b_following_count', 'b_follows_a', 'b_is_verified', 'dt_dow',\n",
       "       'dt_hour', 'dt_minute', 'group', 'language', 'len_domains',\n",
       "       'len_hashtags', 'len_links', 'media', 'tw_count_at',\n",
       "       'tw_count_capital_words', 'tw_count_char',\n",
       "       'tw_count_excl_quest_marks', 'tw_count_special1', 'tw_count_words',\n",
       "       'tw_last_quest', 'tw_len_gif', 'tw_len_media', 'tw_len_photo',\n",
       "       'tw_len_quest', 'tw_len_retweet', 'tw_len_rt', 'tw_len_token',\n",
       "       'tw_len_video', 'tweet_type'], dtype='<U56')"
      ]
     },
     "execution_count": 15,
     "metadata": {},
     "output_type": "execute_result"
    }
   ],
   "source": [
    "Y_train = train[label_names]\n",
    "Y_train, = dask.persist(Y_train)\n",
    "Y_train.head()    \n",
    "    \n",
    "train = train.drop(['tweet_id']+label_names,axis=1)\n",
    "train, = dask.persist(train)\n",
    "train.head()\n",
    "\n",
    "\n",
    "features = [c for c in train.columns if c not in DONT_USE]\n",
    "print('Using %i features:'%(len(features)),train.shape[1])\n",
    "np.asarray(features)"
   ]
  },
  {
   "cell_type": "code",
   "execution_count": 16,
   "id": "peripheral-cheat",
   "metadata": {},
   "outputs": [
    {
     "name": "stdout",
     "output_type": "stream",
     "text": [
      "Using 115 features: 115\n"
     ]
    },
    {
     "data": {
      "text/plain": [
       "array(['BNN_like', 'BNN_reply', 'BNN_retweet', 'BNN_retweet_comment',\n",
       "       'BONN_like', 'BONN_reply', 'BONN_retweet', 'BONN_retweet_comment',\n",
       "       'CE_valid_b_user_id', 'CNN_like', 'CNN_reply', 'CNN_retweet',\n",
       "       'CNN_retweet_comment', 'CXGB_like', 'CXGB_reply', 'CXGB_retweet',\n",
       "       'CXGB_retweet_comment', 'GXGB_like', 'GXGB_reply', 'GXGB_retweet',\n",
       "       'GXGB_retweet_comment', 'TE_a_user_id_like', 'TE_a_user_id_reply',\n",
       "       'TE_a_user_id_retweet', 'TE_a_user_id_retweet_comment',\n",
       "       'TE_b_is_verified_tweet_type_like',\n",
       "       'TE_b_is_verified_tweet_type_reply',\n",
       "       'TE_b_is_verified_tweet_type_retweet',\n",
       "       'TE_b_is_verified_tweet_type_retweet_comment',\n",
       "       'TE_b_user_id_a_user_id_like', 'TE_b_user_id_a_user_id_reply',\n",
       "       'TE_b_user_id_a_user_id_retweet',\n",
       "       'TE_b_user_id_a_user_id_retweet_comment', 'TE_b_user_id_like',\n",
       "       'TE_b_user_id_reply', 'TE_b_user_id_retweet',\n",
       "       'TE_b_user_id_retweet_comment',\n",
       "       'TE_b_user_id_tweet_type_language_like',\n",
       "       'TE_b_user_id_tweet_type_language_reply',\n",
       "       'TE_b_user_id_tweet_type_language_retweet',\n",
       "       'TE_b_user_id_tweet_type_language_retweet_comment',\n",
       "       'TE_switch_a_user_id_like', 'TE_switch_a_user_id_reply',\n",
       "       'TE_switch_a_user_id_retweet',\n",
       "       'TE_switch_a_user_id_retweet_comment', 'TE_switch_b_user_id_like',\n",
       "       'TE_switch_b_user_id_reply', 'TE_switch_b_user_id_retweet',\n",
       "       'TE_switch_b_user_id_retweet_comment',\n",
       "       'TE_tw_original_user0_tweet_type_language_like',\n",
       "       'TE_tw_original_user0_tweet_type_language_reply',\n",
       "       'TE_tw_original_user0_tweet_type_language_retweet',\n",
       "       'TE_tw_original_user0_tweet_type_language_retweet_comment',\n",
       "       'TE_tw_original_user1_tweet_type_language_like',\n",
       "       'TE_tw_original_user1_tweet_type_language_reply',\n",
       "       'TE_tw_original_user1_tweet_type_language_retweet',\n",
       "       'TE_tw_original_user1_tweet_type_language_retweet_comment',\n",
       "       'TE_tweet_type_like', 'TE_tweet_type_reply',\n",
       "       'TE_tweet_type_retweet', 'TE_tweet_type_retweet_comment',\n",
       "       'TE_valid_a_user_id_like', 'TE_valid_a_user_id_reply',\n",
       "       'TE_valid_a_user_id_retweet', 'TE_valid_a_user_id_retweet_comment',\n",
       "       'TE_valid_b_user_id_like', 'TE_valid_b_user_id_reply',\n",
       "       'TE_valid_b_user_id_retweet', 'TE_valid_b_user_id_retweet_comment',\n",
       "       'TE_valid_tweet_id_like', 'TE_valid_tweet_id_reply',\n",
       "       'TE_valid_tweet_id_retweet', 'TE_valid_tweet_id_retweet_comment',\n",
       "       'XGB_like', 'XGB_reply', 'XGB_retweet', 'XGB_retweet_comment',\n",
       "       'a_ff_rate', 'a_follower_count', 'a_following_count',\n",
       "       'a_is_verified', 'ab_age_dff', 'ab_age_rate', 'ab_fer_rate',\n",
       "       'ab_fing_rate', 'b_ff_rate', 'b_follower_count',\n",
       "       'b_following_count', 'b_follows_a', 'b_is_verified', 'dt_dow',\n",
       "       'dt_hour', 'dt_minute', 'group', 'language', 'len_domains',\n",
       "       'len_hashtags', 'len_links', 'media', 'tw_count_at',\n",
       "       'tw_count_capital_words', 'tw_count_char',\n",
       "       'tw_count_excl_quest_marks', 'tw_count_special1', 'tw_count_words',\n",
       "       'tw_last_quest', 'tw_len_gif', 'tw_len_media', 'tw_len_photo',\n",
       "       'tw_len_quest', 'tw_len_retweet', 'tw_len_rt', 'tw_len_token',\n",
       "       'tw_len_video', 'tweet_type'], dtype='<U56')"
      ]
     },
     "execution_count": 16,
     "metadata": {},
     "output_type": "execute_result"
    }
   ],
   "source": [
    "Y_valid = valid[label_names]\n",
    "Y_valid, = dask.persist(Y_valid)\n",
    "Y_valid.head()    \n",
    "    \n",
    "valid = valid.drop(['tweet_id']+label_names,axis=1)\n",
    "valid, = dask.persist(valid)\n",
    "valid.head()\n",
    "\n",
    "\n",
    "features = [c for c in valid.columns if c not in DONT_USE]\n",
    "print('Using %i features:'%(len(features)),valid.shape[1])\n",
    "np.asarray(features)"
   ]
  },
  {
   "cell_type": "code",
   "execution_count": 17,
   "id": "twenty-supervision",
   "metadata": {},
   "outputs": [
    {
     "name": "stdout",
     "output_type": "stream",
     "text": [
      "XGB Version 1.1.0\n"
     ]
    }
   ],
   "source": [
    "import xgboost as xgb\n",
    "print('XGB Version',xgb.__version__)\n",
    "\n",
    "xgb_parms = { \n",
    "    'max_depth':8, \n",
    "    'learning_rate':0.1, \n",
    "    'subsample':0.8,\n",
    "    'colsample_bytree':0.3, \n",
    "    'eval_metric':'logloss',\n",
    "    'objective':'binary:logistic',\n",
    "    'tree_method':'gpu_hist',\n",
    "    'predictor' : 'gpu_predictor'\n",
    "}"
   ]
  },
  {
   "cell_type": "code",
   "execution_count": 18,
   "id": "greatest-buffer",
   "metadata": {},
   "outputs": [
    {
     "data": {
      "text/html": [
       "<div>\n",
       "<style scoped>\n",
       "    .dataframe tbody tr th:only-of-type {\n",
       "        vertical-align: middle;\n",
       "    }\n",
       "\n",
       "    .dataframe tbody tr th {\n",
       "        vertical-align: top;\n",
       "    }\n",
       "\n",
       "    .dataframe thead th {\n",
       "        text-align: right;\n",
       "    }\n",
       "</style>\n",
       "<table border=\"1\" class=\"dataframe\">\n",
       "  <thead>\n",
       "    <tr style=\"text-align: right;\">\n",
       "      <th></th>\n",
       "      <th>BNN_like</th>\n",
       "      <th>BNN_reply</th>\n",
       "      <th>BNN_retweet</th>\n",
       "      <th>BNN_retweet_comment</th>\n",
       "      <th>BONN_like</th>\n",
       "      <th>BONN_reply</th>\n",
       "      <th>BONN_retweet</th>\n",
       "      <th>BONN_retweet_comment</th>\n",
       "      <th>CE_valid_b_user_id</th>\n",
       "      <th>CNN_like</th>\n",
       "      <th>...</th>\n",
       "      <th>tw_last_quest</th>\n",
       "      <th>tw_len_gif</th>\n",
       "      <th>tw_len_media</th>\n",
       "      <th>tw_len_photo</th>\n",
       "      <th>tw_len_quest</th>\n",
       "      <th>tw_len_retweet</th>\n",
       "      <th>tw_len_rt</th>\n",
       "      <th>tw_len_token</th>\n",
       "      <th>tw_len_video</th>\n",
       "      <th>tweet_type</th>\n",
       "    </tr>\n",
       "  </thead>\n",
       "  <tbody>\n",
       "    <tr>\n",
       "      <th>0</th>\n",
       "      <td>0.197560</td>\n",
       "      <td>0.000592</td>\n",
       "      <td>0.077181</td>\n",
       "      <td>0.001297</td>\n",
       "      <td>0.191536</td>\n",
       "      <td>0.001118</td>\n",
       "      <td>0.056649</td>\n",
       "      <td>0.002616</td>\n",
       "      <td>2</td>\n",
       "      <td>0.162896</td>\n",
       "      <td>...</td>\n",
       "      <td>0</td>\n",
       "      <td>0</td>\n",
       "      <td>1</td>\n",
       "      <td>1</td>\n",
       "      <td>0</td>\n",
       "      <td>0</td>\n",
       "      <td>0</td>\n",
       "      <td>72</td>\n",
       "      <td>0</td>\n",
       "      <td>1</td>\n",
       "    </tr>\n",
       "    <tr>\n",
       "      <th>1</th>\n",
       "      <td>0.346887</td>\n",
       "      <td>0.001559</td>\n",
       "      <td>0.152914</td>\n",
       "      <td>0.009203</td>\n",
       "      <td>0.181480</td>\n",
       "      <td>0.001696</td>\n",
       "      <td>0.367990</td>\n",
       "      <td>0.015890</td>\n",
       "      <td>1</td>\n",
       "      <td>0.417949</td>\n",
       "      <td>...</td>\n",
       "      <td>0</td>\n",
       "      <td>0</td>\n",
       "      <td>0</td>\n",
       "      <td>0</td>\n",
       "      <td>0</td>\n",
       "      <td>0</td>\n",
       "      <td>0</td>\n",
       "      <td>21</td>\n",
       "      <td>0</td>\n",
       "      <td>1</td>\n",
       "    </tr>\n",
       "    <tr>\n",
       "      <th>2</th>\n",
       "      <td>0.513477</td>\n",
       "      <td>0.009458</td>\n",
       "      <td>0.011105</td>\n",
       "      <td>0.002888</td>\n",
       "      <td>0.555044</td>\n",
       "      <td>0.015418</td>\n",
       "      <td>0.006097</td>\n",
       "      <td>0.000746</td>\n",
       "      <td>2</td>\n",
       "      <td>0.583672</td>\n",
       "      <td>...</td>\n",
       "      <td>0</td>\n",
       "      <td>0</td>\n",
       "      <td>0</td>\n",
       "      <td>0</td>\n",
       "      <td>0</td>\n",
       "      <td>0</td>\n",
       "      <td>0</td>\n",
       "      <td>65</td>\n",
       "      <td>0</td>\n",
       "      <td>0</td>\n",
       "    </tr>\n",
       "    <tr>\n",
       "      <th>3</th>\n",
       "      <td>0.089164</td>\n",
       "      <td>0.002034</td>\n",
       "      <td>0.332557</td>\n",
       "      <td>0.004156</td>\n",
       "      <td>0.111137</td>\n",
       "      <td>0.002138</td>\n",
       "      <td>0.428232</td>\n",
       "      <td>0.007026</td>\n",
       "      <td>1</td>\n",
       "      <td>0.120333</td>\n",
       "      <td>...</td>\n",
       "      <td>0</td>\n",
       "      <td>0</td>\n",
       "      <td>2</td>\n",
       "      <td>2</td>\n",
       "      <td>0</td>\n",
       "      <td>0</td>\n",
       "      <td>0</td>\n",
       "      <td>69</td>\n",
       "      <td>0</td>\n",
       "      <td>1</td>\n",
       "    </tr>\n",
       "    <tr>\n",
       "      <th>4</th>\n",
       "      <td>0.115686</td>\n",
       "      <td>0.002230</td>\n",
       "      <td>0.030737</td>\n",
       "      <td>0.003861</td>\n",
       "      <td>0.794731</td>\n",
       "      <td>0.010645</td>\n",
       "      <td>0.080189</td>\n",
       "      <td>0.012284</td>\n",
       "      <td>13</td>\n",
       "      <td>0.114635</td>\n",
       "      <td>...</td>\n",
       "      <td>0</td>\n",
       "      <td>0</td>\n",
       "      <td>0</td>\n",
       "      <td>0</td>\n",
       "      <td>0</td>\n",
       "      <td>0</td>\n",
       "      <td>0</td>\n",
       "      <td>35</td>\n",
       "      <td>0</td>\n",
       "      <td>1</td>\n",
       "    </tr>\n",
       "  </tbody>\n",
       "</table>\n",
       "<p>5 rows × 115 columns</p>\n",
       "</div>"
      ],
      "text/plain": [
       "   BNN_like  BNN_reply  BNN_retweet  BNN_retweet_comment  BONN_like  \\\n",
       "0  0.197560   0.000592     0.077181             0.001297   0.191536   \n",
       "1  0.346887   0.001559     0.152914             0.009203   0.181480   \n",
       "2  0.513477   0.009458     0.011105             0.002888   0.555044   \n",
       "3  0.089164   0.002034     0.332557             0.004156   0.111137   \n",
       "4  0.115686   0.002230     0.030737             0.003861   0.794731   \n",
       "\n",
       "   BONN_reply  BONN_retweet  BONN_retweet_comment  CE_valid_b_user_id  \\\n",
       "0    0.001118      0.056649              0.002616                   2   \n",
       "1    0.001696      0.367990              0.015890                   1   \n",
       "2    0.015418      0.006097              0.000746                   2   \n",
       "3    0.002138      0.428232              0.007026                   1   \n",
       "4    0.010645      0.080189              0.012284                  13   \n",
       "\n",
       "   CNN_like  ...  tw_last_quest  tw_len_gif  tw_len_media  tw_len_photo  \\\n",
       "0  0.162896  ...              0           0             1             1   \n",
       "1  0.417949  ...              0           0             0             0   \n",
       "2  0.583672  ...              0           0             0             0   \n",
       "3  0.120333  ...              0           0             2             2   \n",
       "4  0.114635  ...              0           0             0             0   \n",
       "\n",
       "   tw_len_quest  tw_len_retweet  tw_len_rt  tw_len_token  tw_len_video  \\\n",
       "0             0               0          0            72             0   \n",
       "1             0               0          0            21             0   \n",
       "2             0               0          0            65             0   \n",
       "3             0               0          0            69             0   \n",
       "4             0               0          0            35             0   \n",
       "\n",
       "   tweet_type  \n",
       "0           1  \n",
       "1           1  \n",
       "2           0  \n",
       "3           1  \n",
       "4           1  \n",
       "\n",
       "[5 rows x 115 columns]"
      ]
     },
     "execution_count": 18,
     "metadata": {},
     "output_type": "execute_result"
    }
   ],
   "source": [
    "for col in train.columns:\n",
    "    if train[col].dtype=='bool':\n",
    "        train[col] = train[col].astype('int8')\n",
    "    if valid[col].dtype=='bool':\n",
    "        valid[col] = valid[col].astype('int8')\n",
    "train, = dask.persist(train)\n",
    "valid, = dask.persist(valid)\n",
    "train.head()"
   ]
  },
  {
   "cell_type": "code",
   "execution_count": 19,
   "id": "roman-rabbit",
   "metadata": {},
   "outputs": [],
   "source": [
    "models_index = [0,1,2,3]"
   ]
  },
  {
   "cell_type": "code",
   "execution_count": 20,
   "id": "cross-ordinance",
   "metadata": {},
   "outputs": [],
   "source": [
    "def get_colnames(train, name):\n",
    "    cols = list(train.columns)\n",
    "    cols = [col for col in cols if col!='group' and cols!='quantile']\n",
    "    cols = [col for col in cols if 'NN_' not in col and 'XGB' not in col]\n",
    "    cols = [col for col in cols if 'a_follows_b' not in col]\n",
    "    cols = [col for col in cols if 'TE_valid' not in col]\n",
    "    cols = [col for col in cols if '_switch_' not in col]\n",
    "    cols = cols + ['CNN_' + target for target in label_names]\n",
    "    cols = cols + ['CXGB_' + target for target in label_names]\n",
    "    cols = cols + ['BONN_' + target for target in label_names]\n",
    "    cols = cols + ['XGB_' + target for target in label_names]\n",
    "    cols = cols + ['BNN_' + target for target in label_names]\n",
    "    cols = cols + ['GXGB_' + target for target in label_names]\n",
    "    cols = [col for col in cols if col not in [\n",
    "        'TE_valid_tweet_id_like', 'TE_valid_tweet_id_reply',\n",
    "        'TE_valid_tweet_id_retweet', 'TE_valid_tweet_id_retweet_comment',\n",
    "        'CE_a_user_id', 'CE_b_user_id', 'CE_switch_a_user_id',\n",
    "        'CE_switch_b_user_id', 'CE_switch_valid_a_user_id',\n",
    "        'CE_switch_valid_b_user_id', 'CE_valid_a_user_id',\n",
    "        'CE_valid_b_user_id', 'CE_valid_tweet_id', 'b_timestamp_-1', 'b_timestamp_1',\n",
    "    ]]\n",
    "    cols = cols + [\n",
    "        'TE_valid_a_user_id_like', 'TE_valid_a_user_id_reply',\n",
    "        'TE_valid_a_user_id_retweet', 'TE_valid_a_user_id_retweet_comment',\n",
    "        'TE_valid_b_user_id_like', 'TE_valid_b_user_id_reply',\n",
    "        'TE_valid_b_user_id_retweet', 'TE_valid_b_user_id_retweet_comment',\n",
    "        'TE_switch_a_user_id_like', 'TE_switch_a_user_id_reply',\n",
    "        'TE_switch_a_user_id_retweet', 'TE_switch_a_user_id_retweet_comment', \n",
    "        'TE_switch_b_user_id_like', 'TE_switch_b_user_id_reply', \n",
    "        'TE_switch_b_user_id_retweet', 'TE_switch_b_user_id_retweet_comment',\n",
    "        'TE_valid_tweet_id_like', 'TE_valid_tweet_id_reply',\n",
    "        'TE_valid_tweet_id_retweet', 'TE_valid_tweet_id_retweet_comment',\n",
    "        'CE_valid_b_user_id',\n",
    "    ]\n",
    "    return(cols)"
   ]
  },
  {
   "cell_type": "code",
   "execution_count": 21,
   "id": "pregnant-letters",
   "metadata": {},
   "outputs": [],
   "source": [
    "cols = get_colnames(train, 'retweet')"
   ]
  },
  {
   "cell_type": "code",
   "execution_count": 22,
   "id": "suited-classroom",
   "metadata": {},
   "outputs": [
    {
     "data": {
      "text/plain": [
       "['TE_a_user_id_like',\n",
       " 'TE_a_user_id_reply',\n",
       " 'TE_a_user_id_retweet',\n",
       " 'TE_a_user_id_retweet_comment',\n",
       " 'TE_b_is_verified_tweet_type_like',\n",
       " 'TE_b_is_verified_tweet_type_reply',\n",
       " 'TE_b_is_verified_tweet_type_retweet',\n",
       " 'TE_b_is_verified_tweet_type_retweet_comment',\n",
       " 'TE_b_user_id_a_user_id_like',\n",
       " 'TE_b_user_id_a_user_id_reply',\n",
       " 'TE_b_user_id_a_user_id_retweet',\n",
       " 'TE_b_user_id_a_user_id_retweet_comment',\n",
       " 'TE_b_user_id_like',\n",
       " 'TE_b_user_id_reply',\n",
       " 'TE_b_user_id_retweet',\n",
       " 'TE_b_user_id_retweet_comment',\n",
       " 'TE_b_user_id_tweet_type_language_like',\n",
       " 'TE_b_user_id_tweet_type_language_reply',\n",
       " 'TE_b_user_id_tweet_type_language_retweet',\n",
       " 'TE_b_user_id_tweet_type_language_retweet_comment',\n",
       " 'TE_tw_original_user0_tweet_type_language_like',\n",
       " 'TE_tw_original_user0_tweet_type_language_reply',\n",
       " 'TE_tw_original_user0_tweet_type_language_retweet',\n",
       " 'TE_tw_original_user0_tweet_type_language_retweet_comment',\n",
       " 'TE_tw_original_user1_tweet_type_language_like',\n",
       " 'TE_tw_original_user1_tweet_type_language_reply',\n",
       " 'TE_tw_original_user1_tweet_type_language_retweet',\n",
       " 'TE_tw_original_user1_tweet_type_language_retweet_comment',\n",
       " 'TE_tweet_type_like',\n",
       " 'TE_tweet_type_reply',\n",
       " 'TE_tweet_type_retweet',\n",
       " 'TE_tweet_type_retweet_comment',\n",
       " 'a_ff_rate',\n",
       " 'a_follower_count',\n",
       " 'a_following_count',\n",
       " 'a_is_verified',\n",
       " 'ab_age_dff',\n",
       " 'ab_age_rate',\n",
       " 'ab_fer_rate',\n",
       " 'ab_fing_rate',\n",
       " 'b_ff_rate',\n",
       " 'b_follower_count',\n",
       " 'b_following_count',\n",
       " 'b_follows_a',\n",
       " 'b_is_verified',\n",
       " 'dt_dow',\n",
       " 'dt_hour',\n",
       " 'dt_minute',\n",
       " 'language',\n",
       " 'len_domains',\n",
       " 'len_hashtags',\n",
       " 'len_links',\n",
       " 'media',\n",
       " 'tw_count_at',\n",
       " 'tw_count_capital_words',\n",
       " 'tw_count_char',\n",
       " 'tw_count_excl_quest_marks',\n",
       " 'tw_count_special1',\n",
       " 'tw_count_words',\n",
       " 'tw_last_quest',\n",
       " 'tw_len_gif',\n",
       " 'tw_len_media',\n",
       " 'tw_len_photo',\n",
       " 'tw_len_quest',\n",
       " 'tw_len_retweet',\n",
       " 'tw_len_rt',\n",
       " 'tw_len_token',\n",
       " 'tw_len_video',\n",
       " 'tweet_type',\n",
       " 'CNN_reply',\n",
       " 'CNN_retweet',\n",
       " 'CNN_retweet_comment',\n",
       " 'CNN_like',\n",
       " 'CXGB_reply',\n",
       " 'CXGB_retweet',\n",
       " 'CXGB_retweet_comment',\n",
       " 'CXGB_like',\n",
       " 'BONN_reply',\n",
       " 'BONN_retweet',\n",
       " 'BONN_retweet_comment',\n",
       " 'BONN_like',\n",
       " 'XGB_reply',\n",
       " 'XGB_retweet',\n",
       " 'XGB_retweet_comment',\n",
       " 'XGB_like',\n",
       " 'BNN_reply',\n",
       " 'BNN_retweet',\n",
       " 'BNN_retweet_comment',\n",
       " 'BNN_like',\n",
       " 'GXGB_reply',\n",
       " 'GXGB_retweet',\n",
       " 'GXGB_retweet_comment',\n",
       " 'GXGB_like',\n",
       " 'TE_valid_a_user_id_like',\n",
       " 'TE_valid_a_user_id_reply',\n",
       " 'TE_valid_a_user_id_retweet',\n",
       " 'TE_valid_a_user_id_retweet_comment',\n",
       " 'TE_valid_b_user_id_like',\n",
       " 'TE_valid_b_user_id_reply',\n",
       " 'TE_valid_b_user_id_retweet',\n",
       " 'TE_valid_b_user_id_retweet_comment',\n",
       " 'TE_switch_a_user_id_like',\n",
       " 'TE_switch_a_user_id_reply',\n",
       " 'TE_switch_a_user_id_retweet',\n",
       " 'TE_switch_a_user_id_retweet_comment',\n",
       " 'TE_switch_b_user_id_like',\n",
       " 'TE_switch_b_user_id_reply',\n",
       " 'TE_switch_b_user_id_retweet',\n",
       " 'TE_switch_b_user_id_retweet_comment',\n",
       " 'TE_valid_tweet_id_like',\n",
       " 'TE_valid_tweet_id_reply',\n",
       " 'TE_valid_tweet_id_retweet',\n",
       " 'TE_valid_tweet_id_retweet_comment',\n",
       " 'CE_valid_b_user_id']"
      ]
     },
     "execution_count": 22,
     "metadata": {},
     "output_type": "execute_result"
    }
   ],
   "source": [
    "cols"
   ]
  },
  {
   "cell_type": "code",
   "execution_count": 23,
   "id": "authentic-robinson",
   "metadata": {},
   "outputs": [
    {
     "data": {
      "text/plain": [
       "['TE_a_user_id_like',\n",
       " 'TE_a_user_id_reply',\n",
       " 'TE_a_user_id_retweet',\n",
       " 'TE_a_user_id_retweet_comment',\n",
       " 'TE_b_is_verified_tweet_type_like',\n",
       " 'TE_b_is_verified_tweet_type_reply',\n",
       " 'TE_b_is_verified_tweet_type_retweet',\n",
       " 'TE_b_is_verified_tweet_type_retweet_comment',\n",
       " 'TE_b_user_id_a_user_id_like',\n",
       " 'TE_b_user_id_a_user_id_reply',\n",
       " 'TE_b_user_id_a_user_id_retweet',\n",
       " 'TE_b_user_id_a_user_id_retweet_comment',\n",
       " 'TE_b_user_id_like',\n",
       " 'TE_b_user_id_reply',\n",
       " 'TE_b_user_id_retweet',\n",
       " 'TE_b_user_id_retweet_comment',\n",
       " 'TE_b_user_id_tweet_type_language_like',\n",
       " 'TE_b_user_id_tweet_type_language_reply',\n",
       " 'TE_b_user_id_tweet_type_language_retweet',\n",
       " 'TE_b_user_id_tweet_type_language_retweet_comment',\n",
       " 'TE_tw_original_user0_tweet_type_language_like',\n",
       " 'TE_tw_original_user0_tweet_type_language_reply',\n",
       " 'TE_tw_original_user0_tweet_type_language_retweet',\n",
       " 'TE_tw_original_user0_tweet_type_language_retweet_comment',\n",
       " 'TE_tw_original_user1_tweet_type_language_like',\n",
       " 'TE_tw_original_user1_tweet_type_language_reply',\n",
       " 'TE_tw_original_user1_tweet_type_language_retweet',\n",
       " 'TE_tw_original_user1_tweet_type_language_retweet_comment',\n",
       " 'TE_tweet_type_like',\n",
       " 'TE_tweet_type_reply',\n",
       " 'TE_tweet_type_retweet',\n",
       " 'TE_tweet_type_retweet_comment',\n",
       " 'a_ff_rate',\n",
       " 'a_follower_count',\n",
       " 'a_following_count',\n",
       " 'a_is_verified',\n",
       " 'ab_age_dff',\n",
       " 'ab_age_rate',\n",
       " 'ab_fer_rate',\n",
       " 'ab_fing_rate',\n",
       " 'b_ff_rate',\n",
       " 'b_follower_count',\n",
       " 'b_following_count',\n",
       " 'b_follows_a',\n",
       " 'b_is_verified',\n",
       " 'dt_dow',\n",
       " 'dt_hour',\n",
       " 'dt_minute',\n",
       " 'language',\n",
       " 'len_domains',\n",
       " 'len_hashtags',\n",
       " 'len_links',\n",
       " 'media',\n",
       " 'tw_count_at',\n",
       " 'tw_count_capital_words',\n",
       " 'tw_count_char',\n",
       " 'tw_count_excl_quest_marks',\n",
       " 'tw_count_special1',\n",
       " 'tw_count_words',\n",
       " 'tw_last_quest',\n",
       " 'tw_len_gif',\n",
       " 'tw_len_media',\n",
       " 'tw_len_photo',\n",
       " 'tw_len_quest',\n",
       " 'tw_len_retweet',\n",
       " 'tw_len_rt',\n",
       " 'tw_len_token',\n",
       " 'tw_len_video',\n",
       " 'tweet_type',\n",
       " 'CNN_reply',\n",
       " 'CNN_retweet',\n",
       " 'CNN_retweet_comment',\n",
       " 'CNN_like',\n",
       " 'CXGB_reply',\n",
       " 'CXGB_retweet',\n",
       " 'CXGB_retweet_comment',\n",
       " 'CXGB_like',\n",
       " 'BONN_reply',\n",
       " 'BONN_retweet',\n",
       " 'BONN_retweet_comment',\n",
       " 'BONN_like',\n",
       " 'XGB_reply',\n",
       " 'XGB_retweet',\n",
       " 'XGB_retweet_comment',\n",
       " 'XGB_like',\n",
       " 'BNN_reply',\n",
       " 'BNN_retweet',\n",
       " 'BNN_retweet_comment',\n",
       " 'BNN_like',\n",
       " 'GXGB_reply',\n",
       " 'GXGB_retweet',\n",
       " 'GXGB_retweet_comment',\n",
       " 'GXGB_like',\n",
       " 'TE_valid_a_user_id_like',\n",
       " 'TE_valid_a_user_id_reply',\n",
       " 'TE_valid_a_user_id_retweet',\n",
       " 'TE_valid_a_user_id_retweet_comment',\n",
       " 'TE_valid_b_user_id_like',\n",
       " 'TE_valid_b_user_id_reply',\n",
       " 'TE_valid_b_user_id_retweet',\n",
       " 'TE_valid_b_user_id_retweet_comment',\n",
       " 'TE_switch_a_user_id_like',\n",
       " 'TE_switch_a_user_id_reply',\n",
       " 'TE_switch_a_user_id_retweet',\n",
       " 'TE_switch_a_user_id_retweet_comment',\n",
       " 'TE_switch_b_user_id_like',\n",
       " 'TE_switch_b_user_id_reply',\n",
       " 'TE_switch_b_user_id_retweet',\n",
       " 'TE_switch_b_user_id_retweet_comment',\n",
       " 'TE_valid_tweet_id_like',\n",
       " 'TE_valid_tweet_id_reply',\n",
       " 'TE_valid_tweet_id_retweet',\n",
       " 'TE_valid_tweet_id_retweet_comment',\n",
       " 'CE_valid_b_user_id']"
      ]
     },
     "execution_count": 23,
     "metadata": {},
     "output_type": "execute_result"
    }
   ],
   "source": [
    "cols"
   ]
  },
  {
   "cell_type": "code",
   "execution_count": 24,
   "id": "first-biography",
   "metadata": {},
   "outputs": [
    {
     "name": "stdout",
     "output_type": "stream",
     "text": [
      "/bin/bash: /opt/conda/lib/libtinfo.so.6: no version information available (required by /bin/bash)\n",
      "rm: cannot remove 'models_stacked_r0': No such file or directory\n",
      "/bin/bash: /opt/conda/lib/libtinfo.so.6: no version information available (required by /bin/bash)\n"
     ]
    }
   ],
   "source": [
    "!rm -r models_stacked_r0\n",
    "!mkdir models_stacked_r0"
   ]
  },
  {
   "cell_type": "code",
   "execution_count": 25,
   "id": "decimal-ceramic",
   "metadata": {},
   "outputs": [],
   "source": [
    "import pickle"
   ]
  },
  {
   "cell_type": "code",
   "execution_count": 26,
   "id": "conscious-racing",
   "metadata": {},
   "outputs": [
    {
     "name": "stdout",
     "output_type": "stream",
     "text": [
      "#########################\n",
      "### reply\n",
      "#########################\n",
      "['TE_a_user_id_like', 'TE_a_user_id_reply', 'TE_a_user_id_retweet', 'TE_a_user_id_retweet_comment', 'TE_b_is_verified_tweet_type_like', 'TE_b_is_verified_tweet_type_reply', 'TE_b_is_verified_tweet_type_retweet', 'TE_b_is_verified_tweet_type_retweet_comment', 'TE_b_user_id_a_user_id_like', 'TE_b_user_id_a_user_id_reply', 'TE_b_user_id_a_user_id_retweet', 'TE_b_user_id_a_user_id_retweet_comment', 'TE_b_user_id_like', 'TE_b_user_id_reply', 'TE_b_user_id_retweet', 'TE_b_user_id_retweet_comment', 'TE_b_user_id_tweet_type_language_like', 'TE_b_user_id_tweet_type_language_reply', 'TE_b_user_id_tweet_type_language_retweet', 'TE_b_user_id_tweet_type_language_retweet_comment', 'TE_tw_original_user0_tweet_type_language_like', 'TE_tw_original_user0_tweet_type_language_reply', 'TE_tw_original_user0_tweet_type_language_retweet', 'TE_tw_original_user0_tweet_type_language_retweet_comment', 'TE_tw_original_user1_tweet_type_language_like', 'TE_tw_original_user1_tweet_type_language_reply', 'TE_tw_original_user1_tweet_type_language_retweet', 'TE_tw_original_user1_tweet_type_language_retweet_comment', 'TE_tweet_type_like', 'TE_tweet_type_reply', 'TE_tweet_type_retweet', 'TE_tweet_type_retweet_comment', 'a_ff_rate', 'a_follower_count', 'a_following_count', 'a_is_verified', 'ab_age_dff', 'ab_age_rate', 'ab_fer_rate', 'ab_fing_rate', 'b_ff_rate', 'b_follower_count', 'b_following_count', 'b_follows_a', 'b_is_verified', 'dt_dow', 'dt_hour', 'dt_minute', 'language', 'len_domains', 'len_hashtags', 'len_links', 'media', 'tw_count_at', 'tw_count_capital_words', 'tw_count_char', 'tw_count_excl_quest_marks', 'tw_count_special1', 'tw_count_words', 'tw_last_quest', 'tw_len_gif', 'tw_len_media', 'tw_len_photo', 'tw_len_quest', 'tw_len_retweet', 'tw_len_rt', 'tw_len_token', 'tw_len_video', 'tweet_type', 'CNN_reply', 'CNN_retweet', 'CNN_retweet_comment', 'CNN_like', 'CXGB_reply', 'CXGB_retweet', 'CXGB_retweet_comment', 'CXGB_like', 'BONN_reply', 'BONN_retweet', 'BONN_retweet_comment', 'BONN_like', 'XGB_reply', 'XGB_retweet', 'XGB_retweet_comment', 'XGB_like', 'BNN_reply', 'BNN_retweet', 'BNN_retweet_comment', 'BNN_like', 'GXGB_reply', 'GXGB_retweet', 'GXGB_retweet_comment', 'GXGB_like', 'TE_valid_a_user_id_like', 'TE_valid_a_user_id_reply', 'TE_valid_a_user_id_retweet', 'TE_valid_a_user_id_retweet_comment', 'TE_valid_b_user_id_like', 'TE_valid_b_user_id_reply', 'TE_valid_b_user_id_retweet', 'TE_valid_b_user_id_retweet_comment', 'TE_switch_a_user_id_like', 'TE_switch_a_user_id_reply', 'TE_switch_a_user_id_retweet', 'TE_switch_a_user_id_retweet_comment', 'TE_switch_b_user_id_like', 'TE_switch_b_user_id_reply', 'TE_switch_b_user_id_retweet', 'TE_switch_b_user_id_retweet_comment', 'TE_valid_tweet_id_like', 'TE_valid_tweet_id_reply', 'TE_valid_tweet_id_retweet', 'TE_valid_tweet_id_retweet_comment', 'CE_valid_b_user_id']\n",
      "Creating DMatrix...\n",
      "Training...\n",
      "Took 35.0 seconds\n",
      "0000 valid-logloss:0.60513\n",
      "0050 valid-logloss:0.07619\n",
      "0100 valid-logloss:0.07461\n",
      "0150 valid-logloss:0.07438\n",
      "0200 valid-logloss:0.07432\n",
      "0250 valid-logloss:0.07430\n",
      "0300 valid-logloss:0.07429\n"
     ]
    },
    {
     "name": "stderr",
     "output_type": "stream",
     "text": [
      "/opt/conda/envs/rapids/lib/python3.8/site-packages/distributed/worker.py:3451: UserWarning: Large object of size 4.67 MB detected in task graph: \n",
      "  [<function predict.<locals>.mapped_predict at 0x7f ... titions>, True]\n",
      "Consider scattering large objects ahead of time\n",
      "with client.scatter to reduce scheduler burden and \n",
      "keep data on workers\n",
      "\n",
      "    future = client.submit(func, big_data)    # bad\n",
      "\n",
      "    big_future = client.scatter(big_data)     # good\n",
      "    future = client.submit(func, big_future)  # good\n",
      "  warnings.warn(\n"
     ]
    },
    {
     "name": "stdout",
     "output_type": "stream",
     "text": [
      "Predicting...\n",
      "Took 0.0 seconds\n",
      "#########################\n",
      "### retweet\n",
      "#########################\n",
      "['TE_a_user_id_like', 'TE_a_user_id_reply', 'TE_a_user_id_retweet', 'TE_a_user_id_retweet_comment', 'TE_b_is_verified_tweet_type_like', 'TE_b_is_verified_tweet_type_reply', 'TE_b_is_verified_tweet_type_retweet', 'TE_b_is_verified_tweet_type_retweet_comment', 'TE_b_user_id_a_user_id_like', 'TE_b_user_id_a_user_id_reply', 'TE_b_user_id_a_user_id_retweet', 'TE_b_user_id_a_user_id_retweet_comment', 'TE_b_user_id_like', 'TE_b_user_id_reply', 'TE_b_user_id_retweet', 'TE_b_user_id_retweet_comment', 'TE_b_user_id_tweet_type_language_like', 'TE_b_user_id_tweet_type_language_reply', 'TE_b_user_id_tweet_type_language_retweet', 'TE_b_user_id_tweet_type_language_retweet_comment', 'TE_tw_original_user0_tweet_type_language_like', 'TE_tw_original_user0_tweet_type_language_reply', 'TE_tw_original_user0_tweet_type_language_retweet', 'TE_tw_original_user0_tweet_type_language_retweet_comment', 'TE_tw_original_user1_tweet_type_language_like', 'TE_tw_original_user1_tweet_type_language_reply', 'TE_tw_original_user1_tweet_type_language_retweet', 'TE_tw_original_user1_tweet_type_language_retweet_comment', 'TE_tweet_type_like', 'TE_tweet_type_reply', 'TE_tweet_type_retweet', 'TE_tweet_type_retweet_comment', 'a_ff_rate', 'a_follower_count', 'a_following_count', 'a_is_verified', 'ab_age_dff', 'ab_age_rate', 'ab_fer_rate', 'ab_fing_rate', 'b_ff_rate', 'b_follower_count', 'b_following_count', 'b_follows_a', 'b_is_verified', 'dt_dow', 'dt_hour', 'dt_minute', 'language', 'len_domains', 'len_hashtags', 'len_links', 'media', 'tw_count_at', 'tw_count_capital_words', 'tw_count_char', 'tw_count_excl_quest_marks', 'tw_count_special1', 'tw_count_words', 'tw_last_quest', 'tw_len_gif', 'tw_len_media', 'tw_len_photo', 'tw_len_quest', 'tw_len_retweet', 'tw_len_rt', 'tw_len_token', 'tw_len_video', 'tweet_type', 'CNN_reply', 'CNN_retweet', 'CNN_retweet_comment', 'CNN_like', 'CXGB_reply', 'CXGB_retweet', 'CXGB_retweet_comment', 'CXGB_like', 'BONN_reply', 'BONN_retweet', 'BONN_retweet_comment', 'BONN_like', 'XGB_reply', 'XGB_retweet', 'XGB_retweet_comment', 'XGB_like', 'BNN_reply', 'BNN_retweet', 'BNN_retweet_comment', 'BNN_like', 'GXGB_reply', 'GXGB_retweet', 'GXGB_retweet_comment', 'GXGB_like', 'TE_valid_a_user_id_like', 'TE_valid_a_user_id_reply', 'TE_valid_a_user_id_retweet', 'TE_valid_a_user_id_retweet_comment', 'TE_valid_b_user_id_like', 'TE_valid_b_user_id_reply', 'TE_valid_b_user_id_retweet', 'TE_valid_b_user_id_retweet_comment', 'TE_switch_a_user_id_like', 'TE_switch_a_user_id_reply', 'TE_switch_a_user_id_retweet', 'TE_switch_a_user_id_retweet_comment', 'TE_switch_b_user_id_like', 'TE_switch_b_user_id_reply', 'TE_switch_b_user_id_retweet', 'TE_switch_b_user_id_retweet_comment', 'TE_valid_tweet_id_like', 'TE_valid_tweet_id_reply', 'TE_valid_tweet_id_retweet', 'TE_valid_tweet_id_retweet_comment', 'CE_valid_b_user_id']\n",
      "Creating DMatrix...\n",
      "Training...\n",
      "Took 49.9 seconds\n",
      "0000 valid-logloss:0.62098\n",
      "0050 valid-logloss:0.20154\n",
      "0100 valid-logloss:0.19923\n",
      "0150 valid-logloss:0.19849\n",
      "0200 valid-logloss:0.19821\n",
      "0250 valid-logloss:0.19803\n",
      "0300 valid-logloss:0.19792\n",
      "0350 valid-logloss:0.19784\n",
      "0400 valid-logloss:0.19780\n",
      "0450 valid-logloss:0.19780\n",
      "Predicting...\n",
      "Took 0.0 seconds\n",
      "#########################\n",
      "### retweet_comment\n",
      "#########################\n",
      "['TE_a_user_id_like', 'TE_a_user_id_reply', 'TE_a_user_id_retweet', 'TE_a_user_id_retweet_comment', 'TE_b_is_verified_tweet_type_like', 'TE_b_is_verified_tweet_type_reply', 'TE_b_is_verified_tweet_type_retweet', 'TE_b_is_verified_tweet_type_retweet_comment', 'TE_b_user_id_a_user_id_like', 'TE_b_user_id_a_user_id_reply', 'TE_b_user_id_a_user_id_retweet', 'TE_b_user_id_a_user_id_retweet_comment', 'TE_b_user_id_like', 'TE_b_user_id_reply', 'TE_b_user_id_retweet', 'TE_b_user_id_retweet_comment', 'TE_b_user_id_tweet_type_language_like', 'TE_b_user_id_tweet_type_language_reply', 'TE_b_user_id_tweet_type_language_retweet', 'TE_b_user_id_tweet_type_language_retweet_comment', 'TE_tw_original_user0_tweet_type_language_like', 'TE_tw_original_user0_tweet_type_language_reply', 'TE_tw_original_user0_tweet_type_language_retweet', 'TE_tw_original_user0_tweet_type_language_retweet_comment', 'TE_tw_original_user1_tweet_type_language_like', 'TE_tw_original_user1_tweet_type_language_reply', 'TE_tw_original_user1_tweet_type_language_retweet', 'TE_tw_original_user1_tweet_type_language_retweet_comment', 'TE_tweet_type_like', 'TE_tweet_type_reply', 'TE_tweet_type_retweet', 'TE_tweet_type_retweet_comment', 'a_ff_rate', 'a_follower_count', 'a_following_count', 'a_is_verified', 'ab_age_dff', 'ab_age_rate', 'ab_fer_rate', 'ab_fing_rate', 'b_ff_rate', 'b_follower_count', 'b_following_count', 'b_follows_a', 'b_is_verified', 'dt_dow', 'dt_hour', 'dt_minute', 'language', 'len_domains', 'len_hashtags', 'len_links', 'media', 'tw_count_at', 'tw_count_capital_words', 'tw_count_char', 'tw_count_excl_quest_marks', 'tw_count_special1', 'tw_count_words', 'tw_last_quest', 'tw_len_gif', 'tw_len_media', 'tw_len_photo', 'tw_len_quest', 'tw_len_retweet', 'tw_len_rt', 'tw_len_token', 'tw_len_video', 'tweet_type', 'CNN_reply', 'CNN_retweet', 'CNN_retweet_comment', 'CNN_like', 'CXGB_reply', 'CXGB_retweet', 'CXGB_retweet_comment', 'CXGB_like', 'BONN_reply', 'BONN_retweet', 'BONN_retweet_comment', 'BONN_like', 'XGB_reply', 'XGB_retweet', 'XGB_retweet_comment', 'XGB_like', 'BNN_reply', 'BNN_retweet', 'BNN_retweet_comment', 'BNN_like', 'GXGB_reply', 'GXGB_retweet', 'GXGB_retweet_comment', 'GXGB_like', 'TE_valid_a_user_id_like', 'TE_valid_a_user_id_reply', 'TE_valid_a_user_id_retweet', 'TE_valid_a_user_id_retweet_comment', 'TE_valid_b_user_id_like', 'TE_valid_b_user_id_reply', 'TE_valid_b_user_id_retweet', 'TE_valid_b_user_id_retweet_comment', 'TE_switch_a_user_id_like', 'TE_switch_a_user_id_reply', 'TE_switch_a_user_id_retweet', 'TE_switch_a_user_id_retweet_comment', 'TE_switch_b_user_id_like', 'TE_switch_b_user_id_reply', 'TE_switch_b_user_id_retweet', 'TE_switch_b_user_id_retweet_comment', 'TE_valid_tweet_id_like', 'TE_valid_tweet_id_reply', 'TE_valid_tweet_id_retweet', 'TE_valid_tweet_id_retweet_comment', 'CE_valid_b_user_id']\n",
      "Creating DMatrix...\n",
      "Training...\n",
      "Took 27.7 seconds\n",
      "0000 valid-logloss:0.60019\n",
      "0050 valid-logloss:0.02973\n",
      "0100 valid-logloss:0.02816\n",
      "0150 valid-logloss:0.02810\n",
      "0200 valid-logloss:0.02809\n",
      "Predicting...\n",
      "Took 0.0 seconds\n",
      "#########################\n",
      "### like\n",
      "#########################\n",
      "['TE_a_user_id_like', 'TE_a_user_id_reply', 'TE_a_user_id_retweet', 'TE_a_user_id_retweet_comment', 'TE_b_is_verified_tweet_type_like', 'TE_b_is_verified_tweet_type_reply', 'TE_b_is_verified_tweet_type_retweet', 'TE_b_is_verified_tweet_type_retweet_comment', 'TE_b_user_id_a_user_id_like', 'TE_b_user_id_a_user_id_reply', 'TE_b_user_id_a_user_id_retweet', 'TE_b_user_id_a_user_id_retweet_comment', 'TE_b_user_id_like', 'TE_b_user_id_reply', 'TE_b_user_id_retweet', 'TE_b_user_id_retweet_comment', 'TE_b_user_id_tweet_type_language_like', 'TE_b_user_id_tweet_type_language_reply', 'TE_b_user_id_tweet_type_language_retweet', 'TE_b_user_id_tweet_type_language_retweet_comment', 'TE_tw_original_user0_tweet_type_language_like', 'TE_tw_original_user0_tweet_type_language_reply', 'TE_tw_original_user0_tweet_type_language_retweet', 'TE_tw_original_user0_tweet_type_language_retweet_comment', 'TE_tw_original_user1_tweet_type_language_like', 'TE_tw_original_user1_tweet_type_language_reply', 'TE_tw_original_user1_tweet_type_language_retweet', 'TE_tw_original_user1_tweet_type_language_retweet_comment', 'TE_tweet_type_like', 'TE_tweet_type_reply', 'TE_tweet_type_retweet', 'TE_tweet_type_retweet_comment', 'a_ff_rate', 'a_follower_count', 'a_following_count', 'a_is_verified', 'ab_age_dff', 'ab_age_rate', 'ab_fer_rate', 'ab_fing_rate', 'b_ff_rate', 'b_follower_count', 'b_following_count', 'b_follows_a', 'b_is_verified', 'dt_dow', 'dt_hour', 'dt_minute', 'language', 'len_domains', 'len_hashtags', 'len_links', 'media', 'tw_count_at', 'tw_count_capital_words', 'tw_count_char', 'tw_count_excl_quest_marks', 'tw_count_special1', 'tw_count_words', 'tw_last_quest', 'tw_len_gif', 'tw_len_media', 'tw_len_photo', 'tw_len_quest', 'tw_len_retweet', 'tw_len_rt', 'tw_len_token', 'tw_len_video', 'tweet_type', 'CNN_reply', 'CNN_retweet', 'CNN_retweet_comment', 'CNN_like', 'CXGB_reply', 'CXGB_retweet', 'CXGB_retweet_comment', 'CXGB_like', 'BONN_reply', 'BONN_retweet', 'BONN_retweet_comment', 'BONN_like', 'XGB_reply', 'XGB_retweet', 'XGB_retweet_comment', 'XGB_like', 'BNN_reply', 'BNN_retweet', 'BNN_retweet_comment', 'BNN_like', 'GXGB_reply', 'GXGB_retweet', 'GXGB_retweet_comment', 'GXGB_like', 'TE_valid_a_user_id_like', 'TE_valid_a_user_id_reply', 'TE_valid_a_user_id_retweet', 'TE_valid_a_user_id_retweet_comment', 'TE_valid_b_user_id_like', 'TE_valid_b_user_id_reply', 'TE_valid_b_user_id_retweet', 'TE_valid_b_user_id_retweet_comment', 'TE_switch_a_user_id_like', 'TE_switch_a_user_id_reply', 'TE_switch_a_user_id_retweet', 'TE_switch_a_user_id_retweet_comment', 'TE_switch_b_user_id_like', 'TE_switch_b_user_id_reply', 'TE_switch_b_user_id_retweet', 'TE_switch_b_user_id_retweet_comment', 'TE_valid_tweet_id_like', 'TE_valid_tweet_id_reply', 'TE_valid_tweet_id_retweet', 'TE_valid_tweet_id_retweet_comment', 'CE_valid_b_user_id']\n",
      "Creating DMatrix...\n"
     ]
    },
    {
     "name": "stdout",
     "output_type": "stream",
     "text": [
      "Training...\n",
      "Took 59.2 seconds\n",
      "0000 valid-logloss:0.66989\n",
      "0050 valid-logloss:0.51557\n",
      "0100 valid-logloss:0.50993\n",
      "0150 valid-logloss:0.50755\n",
      "0200 valid-logloss:0.50628\n",
      "0250 valid-logloss:0.50572\n",
      "0300 valid-logloss:0.50509\n",
      "0350 valid-logloss:0.50463\n",
      "0400 valid-logloss:0.50432\n",
      "0450 valid-logloss:0.50408\n",
      "0500 valid-logloss:0.50389\n",
      "0550 valid-logloss:0.50371\n",
      "0600 valid-logloss:0.50361\n",
      "Predicting...\n",
      "Took 0.0 seconds\n",
      "CPU times: user 16.7 s, sys: 4.67 s, total: 21.3 s\n",
      "Wall time: 3min 14s\n"
     ]
    }
   ],
   "source": [
    "%%time\n",
    "\n",
    "import time\n",
    "\n",
    "NROUND = 601\n",
    "VERBOSE_EVAL = 50\n",
    "ESR = 50\n",
    "preds_out = []\n",
    "best_trees_out = []\n",
    "best_trees = []\n",
    "\n",
    "for i in models_index:\n",
    "    name = label_names[i]\n",
    "    print('#'*25);print('###',name);print('#'*25)\n",
    "    cols = get_colnames(train, name)\n",
    "    print(cols)\n",
    "       \n",
    "    start = time.time(); print('Creating DMatrix...')\n",
    "    preds = []\n",
    "\n",
    "    dtrain = xgb.dask.DaskDMatrix(client,data=train[cols].values,label=Y_train.iloc[:, i])\n",
    "    dvalid = xgb.dask.DaskDMatrix(client,data=valid[cols].values,label=Y_valid.iloc[:, i])\n",
    "    start = time.time(); print('Training...')\n",
    "    model = xgb.dask.train(client, xgb_parms, \n",
    "                           dtrain=dtrain,\n",
    "                           evals=[(dvalid,'valid')],\n",
    "                           num_boost_round=NROUND,\n",
    "                           early_stopping_rounds=ESR,\n",
    "                           verbose_eval=VERBOSE_EVAL\n",
    "                          )\n",
    "    print('Took %.1f seconds'%(time.time()-start))\n",
    "    logloss_valid = model[\"history\"]['valid']['logloss'][::VERBOSE_EVAL]\n",
    "    for ik in range(len(logloss_valid)):\n",
    "        print(f\"{str(VERBOSE_EVAL*ik).zfill(4)} valid-logloss:{logloss_valid[ik]:.5f}\")\n",
    "    for groupid in [0,1,2,3,4]:\n",
    "        preds.append(xgb.dask.predict(client,model,valid[valid['group']==groupid][cols]))\n",
    "    start = time.time(); print('Predicting...')\n",
    "    print('Took %.1f seconds'%(time.time()-start))\n",
    "    best_trees.append(model['booster'].best_ntree_limit)\n",
    "    pickle.dump(model, open('./models_stacked_r0/model_' + str(name) + '.pickle', 'wb'))\n",
    "    preds_out.append(preds)"
   ]
  },
  {
   "cell_type": "code",
   "execution_count": 27,
   "id": "outside-edwards",
   "metadata": {},
   "outputs": [
    {
     "data": {
      "text/plain": [
       "[273, 436, 184, 601]"
      ]
     },
     "execution_count": 27,
     "metadata": {},
     "output_type": "execute_result"
    }
   ],
   "source": [
    "best_trees"
   ]
  },
  {
   "cell_type": "code",
   "execution_count": 28,
   "id": "continuous-perception",
   "metadata": {},
   "outputs": [
    {
     "name": "stdout",
     "output_type": "stream",
     "text": [
      "CPU times: user 4.02 s, sys: 3.39 s, total: 7.4 s\n",
      "Wall time: 18.4 s\n"
     ]
    }
   ],
   "source": [
    "%%time\n",
    "\n",
    "import cupy\n",
    "\n",
    "oof = []\n",
    "yquantile = []\n",
    "\n",
    "for i in range(5):\n",
    "    yquantile.append(valid[valid['group']==i]['group'].values.compute())\n",
    "\n",
    "yquantile = cupy.concatenate(yquantile)\n",
    "    \n",
    "for preds in preds_out:\n",
    "    oof.append(cupy.concatenate([cupy.array(i.values.compute()) for i in preds]))\n",
    "\n",
    "oof = cupy.asarray(oof).T\n",
    "\n",
    "yvalid = []\n",
    "for i in range(5):\n",
    "    yvalid.append(Y_valid[valid['group']==i][label_names].values.compute())\n",
    "\n",
    "yvalid = cupy.concatenate(yvalid)"
   ]
  },
  {
   "cell_type": "code",
   "execution_count": 29,
   "id": "solid-lobby",
   "metadata": {},
   "outputs": [],
   "source": [
    "from sklearn.metrics import auc\n",
    "from sklearn.metrics import average_precision_score\n",
    "\n",
    "def display_score(rce,ap):\n",
    "    print('Quantile Group|AP Retweet|RCE Retweet|  AP Reply|  RCE Reply|   AP Like|   RCE Like|AP RT comment|RCE RT comment')\n",
    "    for i in range(5):\n",
    "        print(f'{i:9}      ' + \\\n",
    "              ' '.join([f\"{ap[engage_type][i]:10.4f}  {rce[engage_type][i]:10.4f}\" for engage_type in ['retweet','reply','like','retweet_comment']]))\n",
    "\n",
    "    print('     Average   ' + ' '.join([f\"{np.mean(list(ap[engage_type])):10.4f}  {np.mean(list(rce[engage_type])):10.4f}\" for engage_type in ['retweet','reply','like','retweet_comment']]))  \n",
    "    print(' Sum AP: ' + str(np.sum([np.mean(list(ap[engage_type])) for engage_type in ['retweet','reply','like','retweet_comment']])))\n",
    "    print(' Sum RCE: ' + str(np.sum([np.mean(list(rce[engage_type])) for engage_type in ['retweet','reply','like','retweet_comment']])))\n",
    "\n",
    "def precision_recall_curve(y_true,y_pred):\n",
    "    y_true = y_true.astype('float32')\n",
    "    ids = cupy.argsort(-y_pred) \n",
    "    y_true = y_true[ids]\n",
    "    y_pred = y_pred[ids]\n",
    "    y_pred = cupy.flip(y_pred,axis=0)\n",
    "\n",
    "    acc_one = cupy.cumsum(y_true)\n",
    "    sum_one = cupy.sum(y_true)\n",
    "    \n",
    "    precision = cupy.flip(acc_one/cupy.cumsum(cupy.ones(len(y_true))),axis=0)\n",
    "    precision[:-1] = precision[1:]\n",
    "    precision[-1] = 1.\n",
    "\n",
    "    recall = cupy.flip(acc_one/sum_one,axis=0)\n",
    "    recall[:-1] = recall[1:]\n",
    "    recall[-1] = 0\n",
    "    n = (recall==1).sum()\n",
    "    \n",
    "    return precision[n-1:],recall[n-1:],y_pred[n:]\n",
    "\n",
    "def compute_prauc(pred, gt):\n",
    "    prec, recall, thresh = precision_recall_curve(gt, pred)\n",
    "    recall, prec = cupy.asnumpy(recall), cupy.asnumpy(prec)\n",
    "    prauc = auc(recall, prec)\n",
    "    return prauc\n",
    "\n",
    "def log_loss(y_true,y_pred,eps=1e-15, normalize=True, sample_weight=None):\n",
    "    y_true = y_true.astype('int32')\n",
    "    y_pred = cupy.clip(y_pred, eps, 1 - eps)\n",
    "    if y_pred.ndim == 1:\n",
    "        y_pred = cupy.expand_dims(y_pred, axis=1)\n",
    "    if y_pred.shape[1] == 1:\n",
    "        y_pred = cupy.hstack([1 - y_pred, y_pred])\n",
    "\n",
    "    y_pred /= cupy.sum(y_pred, axis=1, keepdims=True)\n",
    "    loss = -cupy.log(y_pred)[cupy.arange(y_pred.shape[0]), y_true]\n",
    "    return _weighted_sum(loss, sample_weight, normalize).item()\n",
    "\n",
    "def _weighted_sum(sample_score, sample_weight, normalize):\n",
    "    if normalize:\n",
    "        return cupy.average(sample_score, weights=sample_weight)\n",
    "    elif sample_weight is not None:\n",
    "        return cupy.dot(sample_score, sample_weight)\n",
    "    else:\n",
    "        return sample_score.sum()\n",
    "\n",
    "# FAST METRIC FROM GIBA\n",
    "def compute_rce_fast(pred, gt):\n",
    "    cross_entropy = log_loss(gt, pred)\n",
    "    yt = np.mean(gt)     \n",
    "    strawman_cross_entropy = -(yt*np.log(yt) + (1 - yt)*np.log(1 - yt))\n",
    "    return (1.0 - cross_entropy/strawman_cross_entropy)*100.0"
   ]
  },
  {
   "cell_type": "code",
   "execution_count": 30,
   "id": "documented-applicant",
   "metadata": {},
   "outputs": [
    {
     "name": "stdout",
     "output_type": "stream",
     "text": [
      "CPU times: user 4.68 s, sys: 419 ms, total: 5.1 s\n",
      "Wall time: 4.93 s\n"
     ]
    }
   ],
   "source": [
    "%%time\n",
    "\n",
    "txt = ''\n",
    "rce_output = {}\n",
    "ap_output = {}\n",
    "for i, ind in enumerate(models_index):\n",
    "    prauc_out = []\n",
    "    rce_out = []\n",
    "    ap_out = []\n",
    "    for j in range(5):\n",
    "        yvalid_tmp = yvalid[yquantile==j][:, i]\n",
    "        oof_tmp = oof[yquantile==j][:, i]\n",
    "        prauc = 0\n",
    "        rce   = compute_rce_fast(oof_tmp, yvalid_tmp).item()\n",
    "        ap    = average_precision_score(cupy.asnumpy(yvalid_tmp), cupy.asnumpy(oof_tmp))\n",
    "        prauc_out.append(prauc)\n",
    "        rce_out.append(rce)\n",
    "        ap_out.append(ap)\n",
    "    rce_output[label_names[ind]] = rce_out\n",
    "    ap_output[label_names[ind]] = ap_out"
   ]
  },
  {
   "cell_type": "code",
   "execution_count": 31,
   "id": "pleased-immune",
   "metadata": {},
   "outputs": [
    {
     "name": "stdout",
     "output_type": "stream",
     "text": [
      "Quantile Group|AP Retweet|RCE Retweet|  AP Reply|  RCE Reply|   AP Like|   RCE Like|AP RT comment|RCE RT comment\n",
      "        0          0.4716     28.8982     0.2439     24.5978     0.7032     21.5241     0.0800     16.9683\n",
      "        1          0.4520     28.4857     0.2523     25.4400     0.6875     20.5299     0.0756     17.1390\n",
      "        2          0.4430     28.2129     0.2857     27.1620     0.6809     20.5274     0.0595     15.4267\n",
      "        3          0.4435     28.2402     0.3041     28.7867     0.6902     21.3869     0.0632     17.5072\n",
      "        4          0.4369     30.1136     0.2239     26.2124     0.7688     27.3607     0.0667     19.0992\n",
      "     Average       0.4494     28.7901     0.2620     26.4398     0.7061     22.2658     0.0690     17.2281\n",
      " Sum AP: 1.4865149147338435\n",
      " Sum RCE: 94.7237908094618\n",
      "CPU times: user 2.31 ms, sys: 0 ns, total: 2.31 ms\n",
      "Wall time: 1.78 ms\n"
     ]
    }
   ],
   "source": [
    "%%time\n",
    "display_score(rce_output, ap_output)"
   ]
  },
  {
   "cell_type": "code",
   "execution_count": 32,
   "id": "legitimate-illness",
   "metadata": {},
   "outputs": [],
   "source": [
    "ap = ap_output\n",
    "rce = rce_output"
   ]
  },
  {
   "cell_type": "code",
   "execution_count": 33,
   "id": "interior-vocabulary",
   "metadata": {
    "scrolled": true
   },
   "outputs": [
    {
     "name": "stdout",
     "output_type": "stream",
     "text": [
      "1.4865149147338435,94.7237908094618,    0.4494,     28.7901,    0.2620,     26.4398,    0.7061,     22.2658,    0.0690,     17.2281\n",
      " Sum AP: 1.4865149147338435\n",
      " Sum RCE: 94.7237908094618\n"
     ]
    }
   ],
   "source": [
    "print(str(np.sum([np.mean(list(ap[engage_type])) for engage_type in ['retweet','reply','like','retweet_comment']])) + ',' + str(np.sum([np.mean(list(rce[engage_type])) for engage_type in ['retweet','reply','like','retweet_comment']])) + ',' + ','.join([f\"{np.mean(list(ap[engage_type])):10.4f},  {np.mean(list(rce[engage_type])):10.4f}\" for engage_type in ['retweet','reply','like','retweet_comment']]))  \n",
    "print(' Sum AP: ' + str(np.sum([np.mean(list(ap[engage_type])) for engage_type in ['retweet','reply','like','retweet_comment']])))\n",
    "print(' Sum RCE: ' + str(np.sum([np.mean(list(rce[engage_type])) for engage_type in ['retweet','reply','like','retweet_comment']])))\n",
    "\n"
   ]
  },
  {
   "cell_type": "code",
   "execution_count": 34,
   "id": "authorized-husband",
   "metadata": {},
   "outputs": [],
   "source": [
    "client.close()"
   ]
  },
  {
   "cell_type": "code",
   "execution_count": null,
   "id": "flexible-isolation",
   "metadata": {},
   "outputs": [],
   "source": []
  },
  {
   "cell_type": "code",
   "execution_count": null,
   "id": "pediatric-globe",
   "metadata": {},
   "outputs": [],
   "source": []
  }
 ],
 "metadata": {
  "kernelspec": {
   "display_name": "Python 3 (ipykernel)",
   "language": "python",
   "name": "python3"
  },
  "language_info": {
   "codemirror_mode": {
    "name": "ipython",
    "version": 3
   },
   "file_extension": ".py",
   "mimetype": "text/x-python",
   "name": "python",
   "nbconvert_exporter": "python",
   "pygments_lexer": "ipython3",
   "version": "3.8.10"
  }
 },
 "nbformat": 4,
 "nbformat_minor": 5
}
