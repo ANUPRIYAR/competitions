{
 "cells": [
  {
   "cell_type": "code",
   "execution_count": null,
   "id": "6d575dfa",
   "metadata": {},
   "outputs": [],
   "source": [
    "# Copyright 2021 NVIDIA CORPORATION\n",
    "#\n",
    "# Licensed under the Apache License, Version 2.0 (the \"License\");\n",
    "# you may not use this file except in compliance with the License.\n",
    "# You may obtain a copy of the License at\n",
    "#\n",
    "#     http://www.apache.org/licenses/LICENSE-2.0\n",
    "#\n",
    "# Unless required by applicable law or agreed to in writing, software\n",
    "# distributed under the License is distributed on an \"AS IS\" BASIS,\n",
    "# WITHOUT WARRANTIES OR CONDITIONS OF ANY KIND, either express or implied.\n",
    "# See the License for the specific language governing permissions and\n",
    "# limitations under the License."
   ]
  },
  {
   "cell_type": "code",
   "execution_count": 1,
   "id": "built-links",
   "metadata": {},
   "outputs": [],
   "source": [
    "import glob\n",
    "import pandas as pd\n",
    "import numpy as np\n",
    "import cudf\n",
    "import cupy\n",
    "import gc\n",
    "\n",
    "from datetime import datetime"
   ]
  },
  {
   "cell_type": "code",
   "execution_count": 2,
   "id": "corrected-release",
   "metadata": {},
   "outputs": [],
   "source": [
    "files = glob.glob('/raid/recsys2021_pre_TE_validXGB/*.parquet')"
   ]
  },
  {
   "cell_type": "code",
   "execution_count": 3,
   "id": "responsible-roller",
   "metadata": {},
   "outputs": [],
   "source": [
    "import os, time\n",
    "os.environ[\"CUDA_VISIBLE_DEVICES\"]=\"0,1,2,3,4,5,6,7\""
   ]
  },
  {
   "cell_type": "code",
   "execution_count": 4,
   "id": "golden-branch",
   "metadata": {},
   "outputs": [],
   "source": [
    "import dask as dask, dask_cudf\n",
    "from dask.distributed import Client, wait\n",
    "from dask_cuda import LocalCUDACluster\n",
    "import subprocess"
   ]
  },
  {
   "cell_type": "code",
   "execution_count": 5,
   "id": "atmospheric-discretion",
   "metadata": {},
   "outputs": [
    {
     "data": {
      "text/html": [
       "<table style=\"border: 2px solid white;\">\n",
       "<tr>\n",
       "<td style=\"vertical-align: top; border: 0px solid white\">\n",
       "<h3 style=\"text-align: left;\">Client</h3>\n",
       "<ul style=\"text-align: left; list-style: none; margin: 0; padding: 0;\">\n",
       "  <li><b>Scheduler: </b>tcp://127.0.0.1:45519</li>\n",
       "  <li><b>Dashboard: </b><a href='http://127.0.0.1:8787/status' target='_blank'>http://127.0.0.1:8787/status</a></li>\n",
       "</ul>\n",
       "</td>\n",
       "<td style=\"vertical-align: top; border: 0px solid white\">\n",
       "<h3 style=\"text-align: left;\">Cluster</h3>\n",
       "<ul style=\"text-align: left; list-style:none; margin: 0; padding: 0;\">\n",
       "  <li><b>Workers: </b>8</li>\n",
       "  <li><b>Cores: </b>8</li>\n",
       "  <li><b>Memory: </b>429.50 GB</li>\n",
       "</ul>\n",
       "</td>\n",
       "</tr>\n",
       "</table>"
      ],
      "text/plain": [
       "<Client: 'tcp://127.0.0.1:45519' processes=8 threads=8, memory=429.50 GB>"
      ]
     },
     "execution_count": 5,
     "metadata": {},
     "output_type": "execute_result"
    }
   ],
   "source": [
    "cluster = LocalCUDACluster(local_directory='/raid/dask9450/', device_memory_limit=0.4)\n",
    "client = Client(cluster)\n",
    "client"
   ]
  },
  {
   "cell_type": "code",
   "execution_count": 6,
   "id": "wrapped-promise",
   "metadata": {},
   "outputs": [],
   "source": [
    "df = dask_cudf.read_parquet(sorted(files))"
   ]
  },
  {
   "cell_type": "code",
   "execution_count": 7,
   "id": "suitable-bracelet",
   "metadata": {},
   "outputs": [],
   "source": [
    "quantiles = [240,  588, 1331, 3996]\n",
    "\n",
    "df['group'] = 0\n",
    "for i, quant in enumerate(quantiles):\n",
    "    df['group'] = (df['group']+(df['a_follower_count']>quant).astype('int8')).astype('int8')"
   ]
  },
  {
   "cell_type": "code",
   "execution_count": 8,
   "id": "inside-publisher",
   "metadata": {},
   "outputs": [],
   "source": [
    "fold = 0\n",
    "train = df[~(df['folds']==fold)]\n",
    "valid = df[(df['folds']==fold)]\n",
    "del df"
   ]
  },
  {
   "cell_type": "code",
   "execution_count": 9,
   "id": "enormous-windsor",
   "metadata": {},
   "outputs": [],
   "source": [
    "train, valid = dask.persist(train, valid)"
   ]
  },
  {
   "cell_type": "code",
   "execution_count": 10,
   "id": "elegant-developer",
   "metadata": {},
   "outputs": [
    {
     "name": "stdout",
     "output_type": "stream",
     "text": [
      "11569644 2892116\n"
     ]
    }
   ],
   "source": [
    "print(train.shape[0].compute(), valid.shape[0].compute())"
   ]
  },
  {
   "cell_type": "code",
   "execution_count": 11,
   "id": "stable-tennessee",
   "metadata": {},
   "outputs": [],
   "source": [
    "label_names = ['reply', 'retweet', 'retweet_comment', 'like']\n",
    "DONT_USE = ['timestamp','a_account_creation','b_account_creation','engage_time', 'folds',\n",
    "            'fold','b_user_id','a_user_id', 'a_account_creation', \n",
    "            'b_account_creation', 'elapsed_time', 'links','domains','hashtags','id', 'date', 'is_train', \n",
    "            'tw_original_http0', 'tw_original_user0', 'tw_original_user1', 'tw_original_user2',\n",
    "            'tw_rt_count_char', 'tw_rt_count_words', 'tw_rt_user0', 'tw_tweet', 'tw_word0',\n",
    "            'tw_word1', 'tw_word2', 'tw_word3', 'tw_word4', 'tw_count_hash', 'dt_second']\n",
    "DONT_USE += label_names\n",
    "features = [c for c in train.columns if c not in DONT_USE]\n",
    "\n",
    "RMV = [c for c in DONT_USE if c in train.columns and c not in label_names]\n",
    "RMV = list(set(RMV))"
   ]
  },
  {
   "cell_type": "code",
   "execution_count": 12,
   "id": "federal-carolina",
   "metadata": {},
   "outputs": [
    {
     "name": "stdout",
     "output_type": "stream",
     "text": [
      "CPU times: user 32 ms, sys: 3.53 ms, total: 35.6 ms\n",
      "Wall time: 32.1 ms\n"
     ]
    },
    {
     "data": {
      "text/plain": [
       "DoneAndNotDoneFutures(done={<Future: finished, type: cudf.DataFrame, key: ('getitem-27b45203e8e72ce4c9f432891e21b162', 1)>, <Future: finished, type: cudf.DataFrame, key: ('getitem-27b45203e8e72ce4c9f432891e21b162', 3)>, <Future: finished, type: cudf.DataFrame, key: ('getitem-27b45203e8e72ce4c9f432891e21b162', 2)>, <Future: finished, type: cudf.DataFrame, key: ('getitem-27b45203e8e72ce4c9f432891e21b162', 4)>, <Future: finished, type: cudf.DataFrame, key: ('getitem-27b45203e8e72ce4c9f432891e21b162', 5)>, <Future: finished, type: cudf.DataFrame, key: ('getitem-27b45203e8e72ce4c9f432891e21b162', 6)>, <Future: finished, type: cudf.DataFrame, key: ('getitem-27b45203e8e72ce4c9f432891e21b162', 0)>}, not_done=set())"
      ]
     },
     "execution_count": 12,
     "metadata": {},
     "output_type": "execute_result"
    }
   ],
   "source": [
    "%%time\n",
    "\n",
    "train = train.drop(RMV,axis=1)\n",
    "wait(train)"
   ]
  },
  {
   "cell_type": "code",
   "execution_count": 13,
   "id": "elegant-temple",
   "metadata": {},
   "outputs": [
    {
     "name": "stdout",
     "output_type": "stream",
     "text": [
      "CPU times: user 32 ms, sys: 3.23 ms, total: 35.2 ms\n",
      "Wall time: 32.1 ms\n"
     ]
    },
    {
     "data": {
      "text/plain": [
       "DoneAndNotDoneFutures(done={<Future: finished, type: cudf.DataFrame, key: ('getitem-92dd6b4d36b8d32cc68bfc72860683f4', 4)>, <Future: finished, type: cudf.DataFrame, key: ('getitem-92dd6b4d36b8d32cc68bfc72860683f4', 0)>, <Future: finished, type: cudf.DataFrame, key: ('getitem-92dd6b4d36b8d32cc68bfc72860683f4', 2)>, <Future: finished, type: cudf.DataFrame, key: ('getitem-92dd6b4d36b8d32cc68bfc72860683f4', 3)>, <Future: finished, type: cudf.DataFrame, key: ('getitem-92dd6b4d36b8d32cc68bfc72860683f4', 5)>, <Future: finished, type: cudf.DataFrame, key: ('getitem-92dd6b4d36b8d32cc68bfc72860683f4', 6)>, <Future: finished, type: cudf.DataFrame, key: ('getitem-92dd6b4d36b8d32cc68bfc72860683f4', 1)>}, not_done=set())"
      ]
     },
     "execution_count": 13,
     "metadata": {},
     "output_type": "execute_result"
    }
   ],
   "source": [
    "%%time\n",
    "\n",
    "valid = valid.drop(RMV,axis=1)\n",
    "wait(valid)"
   ]
  },
  {
   "cell_type": "code",
   "execution_count": 14,
   "id": "growing-saying",
   "metadata": {},
   "outputs": [
    {
     "name": "stdout",
     "output_type": "stream",
     "text": [
      "Using 179 features: 179\n"
     ]
    },
    {
     "data": {
      "text/plain": [
       "array(['TE_a_user_id_like', 'TE_a_user_id_reply', 'TE_a_user_id_retweet',\n",
       "       'TE_a_user_id_retweet_comment', 'TE_b_is_verified_tweet_type_like',\n",
       "       'TE_b_is_verified_tweet_type_reply',\n",
       "       'TE_b_is_verified_tweet_type_retweet',\n",
       "       'TE_b_is_verified_tweet_type_retweet_comment',\n",
       "       'TE_b_user_id_a_user_id_like', 'TE_b_user_id_a_user_id_reply',\n",
       "       'TE_b_user_id_a_user_id_retweet',\n",
       "       'TE_b_user_id_a_user_id_retweet_comment', 'TE_b_user_id_like',\n",
       "       'TE_b_user_id_reply', 'TE_b_user_id_retweet',\n",
       "       'TE_b_user_id_retweet_comment',\n",
       "       'TE_b_user_id_tweet_type_language_like',\n",
       "       'TE_b_user_id_tweet_type_language_reply',\n",
       "       'TE_b_user_id_tweet_type_language_retweet',\n",
       "       'TE_b_user_id_tweet_type_language_retweet_comment',\n",
       "       'TE_domains_language_b_follows_a_tweet_type_media_a_is_verified_like',\n",
       "       'TE_domains_language_b_follows_a_tweet_type_media_a_is_verified_reply',\n",
       "       'TE_domains_language_b_follows_a_tweet_type_media_a_is_verified_retweet',\n",
       "       'TE_domains_language_b_follows_a_tweet_type_media_a_is_verified_retweet_comment',\n",
       "       'TE_media_tweet_type_language_a_is_verified_b_is_verified_b_follows_a_like',\n",
       "       'TE_media_tweet_type_language_a_is_verified_b_is_verified_b_follows_a_reply',\n",
       "       'TE_media_tweet_type_language_a_is_verified_b_is_verified_b_follows_a_retweet',\n",
       "       'TE_media_tweet_type_language_a_is_verified_b_is_verified_b_follows_a_retweet_comment',\n",
       "       'TE_media_tweet_type_language_like',\n",
       "       'TE_media_tweet_type_language_reply',\n",
       "       'TE_media_tweet_type_language_retweet',\n",
       "       'TE_media_tweet_type_language_retweet_comment',\n",
       "       'TE_switch_a_user_id_b_user_id_like',\n",
       "       'TE_switch_a_user_id_b_user_id_reply',\n",
       "       'TE_switch_a_user_id_b_user_id_retweet',\n",
       "       'TE_switch_a_user_id_b_user_id_retweet_comment',\n",
       "       'TE_switch_a_user_id_like', 'TE_switch_a_user_id_reply',\n",
       "       'TE_switch_a_user_id_retweet',\n",
       "       'TE_switch_a_user_id_retweet_comment',\n",
       "       'TE_switch_a_user_id_tweet_type_language_like',\n",
       "       'TE_switch_a_user_id_tweet_type_language_reply',\n",
       "       'TE_switch_a_user_id_tweet_type_language_retweet',\n",
       "       'TE_switch_a_user_id_tweet_type_language_retweet_comment',\n",
       "       'TE_switch_b_user_id_like', 'TE_switch_b_user_id_reply',\n",
       "       'TE_switch_b_user_id_retweet',\n",
       "       'TE_switch_b_user_id_retweet_comment',\n",
       "       'TE_tw_original_user0_tweet_type_language_like',\n",
       "       'TE_tw_original_user0_tweet_type_language_reply',\n",
       "       'TE_tw_original_user0_tweet_type_language_retweet',\n",
       "       'TE_tw_original_user0_tweet_type_language_retweet_comment',\n",
       "       'TE_tw_original_user1_tweet_type_language_like',\n",
       "       'TE_tw_original_user1_tweet_type_language_reply',\n",
       "       'TE_tw_original_user1_tweet_type_language_retweet',\n",
       "       'TE_tw_original_user1_tweet_type_language_retweet_comment',\n",
       "       'TE_tweet_type_like', 'TE_tweet_type_reply',\n",
       "       'TE_tweet_type_retweet', 'TE_tweet_type_retweet_comment',\n",
       "       'TE_valid_a_user_id_like', 'TE_valid_a_user_id_reply',\n",
       "       'TE_valid_a_user_id_retweet', 'TE_valid_a_user_id_retweet_comment',\n",
       "       'TE_valid_a_user_id_tweet_type_language_like',\n",
       "       'TE_valid_a_user_id_tweet_type_language_reply',\n",
       "       'TE_valid_a_user_id_tweet_type_language_retweet',\n",
       "       'TE_valid_a_user_id_tweet_type_language_retweet_comment',\n",
       "       'TE_valid_b_is_verified_tweet_type_like',\n",
       "       'TE_valid_b_is_verified_tweet_type_reply',\n",
       "       'TE_valid_b_is_verified_tweet_type_retweet',\n",
       "       'TE_valid_b_is_verified_tweet_type_retweet_comment',\n",
       "       'TE_valid_b_user_id_a_user_id_like',\n",
       "       'TE_valid_b_user_id_a_user_id_reply',\n",
       "       'TE_valid_b_user_id_a_user_id_retweet',\n",
       "       'TE_valid_b_user_id_a_user_id_retweet_comment',\n",
       "       'TE_valid_b_user_id_like', 'TE_valid_b_user_id_reply',\n",
       "       'TE_valid_b_user_id_retweet', 'TE_valid_b_user_id_retweet_comment',\n",
       "       'TE_valid_b_user_id_tweet_type_language_like',\n",
       "       'TE_valid_b_user_id_tweet_type_language_reply',\n",
       "       'TE_valid_b_user_id_tweet_type_language_retweet',\n",
       "       'TE_valid_b_user_id_tweet_type_language_retweet_comment',\n",
       "       'TE_valid_domains_language_b_follows_a_tweet_type_media_a_is_verified_like',\n",
       "       'TE_valid_domains_language_b_follows_a_tweet_type_media_a_is_verified_reply',\n",
       "       'TE_valid_domains_language_b_follows_a_tweet_type_media_a_is_verified_retweet',\n",
       "       'TE_valid_domains_language_b_follows_a_tweet_type_media_a_is_verified_retweet_comment',\n",
       "       'TE_valid_dt_dow_dt_hour_dt_minute_language_like',\n",
       "       'TE_valid_dt_dow_dt_hour_dt_minute_language_reply',\n",
       "       'TE_valid_dt_dow_dt_hour_dt_minute_language_retweet',\n",
       "       'TE_valid_dt_dow_dt_hour_dt_minute_language_retweet_comment',\n",
       "       'TE_valid_hashtags_like', 'TE_valid_hashtags_reply',\n",
       "       'TE_valid_hashtags_retweet', 'TE_valid_hashtags_retweet_comment',\n",
       "       'TE_valid_media_tweet_type_language_a_is_verified_b_is_verified_b_follows_a_like',\n",
       "       'TE_valid_media_tweet_type_language_a_is_verified_b_is_verified_b_follows_a_reply',\n",
       "       'TE_valid_media_tweet_type_language_a_is_verified_b_is_verified_b_follows_a_retweet',\n",
       "       'TE_valid_media_tweet_type_language_a_is_verified_b_is_verified_b_follows_a_retweet_comment',\n",
       "       'TE_valid_media_tweet_type_language_like',\n",
       "       'TE_valid_media_tweet_type_language_reply',\n",
       "       'TE_valid_media_tweet_type_language_retweet',\n",
       "       'TE_valid_media_tweet_type_language_retweet_comment',\n",
       "       'TE_valid_tw_original_user0_tweet_type_language_like',\n",
       "       'TE_valid_tw_original_user0_tweet_type_language_reply',\n",
       "       'TE_valid_tw_original_user0_tweet_type_language_retweet',\n",
       "       'TE_valid_tw_original_user0_tweet_type_language_retweet_comment',\n",
       "       'TE_valid_tw_original_user1_tweet_type_language_like',\n",
       "       'TE_valid_tw_original_user1_tweet_type_language_reply',\n",
       "       'TE_valid_tw_original_user1_tweet_type_language_retweet',\n",
       "       'TE_valid_tw_original_user1_tweet_type_language_retweet_comment',\n",
       "       'TE_valid_tw_word0_like', 'TE_valid_tw_word0_reply',\n",
       "       'TE_valid_tw_word0_retweet', 'TE_valid_tw_word0_retweet_comment',\n",
       "       'a_ff_rate', 'a_follower_count', 'a_following_count',\n",
       "       'a_follows_b', 'a_is_verified', 'ab_age_dff', 'ab_age_rate',\n",
       "       'ab_fer_rate', 'ab_fing_rate', 'b_ff_rate', 'b_follower_count',\n",
       "       'b_following_count', 'b_follows_a', 'b_is_verified', 'dt_dow',\n",
       "       'dt_hour', 'dt_minute', 'group', 'language', 'len_domains',\n",
       "       'len_hashtags', 'len_links', 'media', 'tw_count_at',\n",
       "       'tw_count_capital_words', 'tw_count_char',\n",
       "       'tw_count_excl_quest_marks', 'tw_count_special1', 'tw_count_words',\n",
       "       'tw_last_quest', 'tw_len_gif', 'tw_len_media', 'tw_len_photo',\n",
       "       'tw_len_quest', 'tw_len_retweet', 'tw_len_rt', 'tw_len_token',\n",
       "       'tw_len_video', 'tweet_type', 'XGB_like', 'XGB_reply',\n",
       "       'XGB_retweet', 'XGB_retweet_comment', 'BNN_reply', 'BNN_retweet',\n",
       "       'BNN_retweet_comment', 'BNN_like', 'CXGB_reply', 'CXGB_retweet',\n",
       "       'CXGB_retweet_comment', 'CXGB_like', 'CNN_reply', 'CNN_retweet',\n",
       "       'CNN_retweet_comment', 'CNN_like', 'BONN_reply', 'BONN_retweet',\n",
       "       'BONN_retweet_comment', 'BONN_like', 'GXGB_reply', 'GXGB_retweet',\n",
       "       'GXGB_retweet_comment', 'GXGB_like'], dtype='<U90')"
      ]
     },
     "execution_count": 14,
     "metadata": {},
     "output_type": "execute_result"
    }
   ],
   "source": [
    "Y_train = train[label_names]\n",
    "Y_train, = dask.persist(Y_train)\n",
    "Y_train.head()    \n",
    "    \n",
    "train = train.drop(['tweet_id']+label_names,axis=1)\n",
    "train, = dask.persist(train)\n",
    "train.head()\n",
    "\n",
    "\n",
    "features = [c for c in train.columns if c not in DONT_USE]\n",
    "print('Using %i features:'%(len(features)),train.shape[1])\n",
    "np.asarray(features)"
   ]
  },
  {
   "cell_type": "code",
   "execution_count": 15,
   "id": "cutting-hometown",
   "metadata": {},
   "outputs": [
    {
     "name": "stdout",
     "output_type": "stream",
     "text": [
      "Using 179 features: 179\n"
     ]
    },
    {
     "data": {
      "text/plain": [
       "array(['TE_a_user_id_like', 'TE_a_user_id_reply', 'TE_a_user_id_retweet',\n",
       "       'TE_a_user_id_retweet_comment', 'TE_b_is_verified_tweet_type_like',\n",
       "       'TE_b_is_verified_tweet_type_reply',\n",
       "       'TE_b_is_verified_tweet_type_retweet',\n",
       "       'TE_b_is_verified_tweet_type_retweet_comment',\n",
       "       'TE_b_user_id_a_user_id_like', 'TE_b_user_id_a_user_id_reply',\n",
       "       'TE_b_user_id_a_user_id_retweet',\n",
       "       'TE_b_user_id_a_user_id_retweet_comment', 'TE_b_user_id_like',\n",
       "       'TE_b_user_id_reply', 'TE_b_user_id_retweet',\n",
       "       'TE_b_user_id_retweet_comment',\n",
       "       'TE_b_user_id_tweet_type_language_like',\n",
       "       'TE_b_user_id_tweet_type_language_reply',\n",
       "       'TE_b_user_id_tweet_type_language_retweet',\n",
       "       'TE_b_user_id_tweet_type_language_retweet_comment',\n",
       "       'TE_domains_language_b_follows_a_tweet_type_media_a_is_verified_like',\n",
       "       'TE_domains_language_b_follows_a_tweet_type_media_a_is_verified_reply',\n",
       "       'TE_domains_language_b_follows_a_tweet_type_media_a_is_verified_retweet',\n",
       "       'TE_domains_language_b_follows_a_tweet_type_media_a_is_verified_retweet_comment',\n",
       "       'TE_media_tweet_type_language_a_is_verified_b_is_verified_b_follows_a_like',\n",
       "       'TE_media_tweet_type_language_a_is_verified_b_is_verified_b_follows_a_reply',\n",
       "       'TE_media_tweet_type_language_a_is_verified_b_is_verified_b_follows_a_retweet',\n",
       "       'TE_media_tweet_type_language_a_is_verified_b_is_verified_b_follows_a_retweet_comment',\n",
       "       'TE_media_tweet_type_language_like',\n",
       "       'TE_media_tweet_type_language_reply',\n",
       "       'TE_media_tweet_type_language_retweet',\n",
       "       'TE_media_tweet_type_language_retweet_comment',\n",
       "       'TE_switch_a_user_id_b_user_id_like',\n",
       "       'TE_switch_a_user_id_b_user_id_reply',\n",
       "       'TE_switch_a_user_id_b_user_id_retweet',\n",
       "       'TE_switch_a_user_id_b_user_id_retweet_comment',\n",
       "       'TE_switch_a_user_id_like', 'TE_switch_a_user_id_reply',\n",
       "       'TE_switch_a_user_id_retweet',\n",
       "       'TE_switch_a_user_id_retweet_comment',\n",
       "       'TE_switch_a_user_id_tweet_type_language_like',\n",
       "       'TE_switch_a_user_id_tweet_type_language_reply',\n",
       "       'TE_switch_a_user_id_tweet_type_language_retweet',\n",
       "       'TE_switch_a_user_id_tweet_type_language_retweet_comment',\n",
       "       'TE_switch_b_user_id_like', 'TE_switch_b_user_id_reply',\n",
       "       'TE_switch_b_user_id_retweet',\n",
       "       'TE_switch_b_user_id_retweet_comment',\n",
       "       'TE_tw_original_user0_tweet_type_language_like',\n",
       "       'TE_tw_original_user0_tweet_type_language_reply',\n",
       "       'TE_tw_original_user0_tweet_type_language_retweet',\n",
       "       'TE_tw_original_user0_tweet_type_language_retweet_comment',\n",
       "       'TE_tw_original_user1_tweet_type_language_like',\n",
       "       'TE_tw_original_user1_tweet_type_language_reply',\n",
       "       'TE_tw_original_user1_tweet_type_language_retweet',\n",
       "       'TE_tw_original_user1_tweet_type_language_retweet_comment',\n",
       "       'TE_tweet_type_like', 'TE_tweet_type_reply',\n",
       "       'TE_tweet_type_retweet', 'TE_tweet_type_retweet_comment',\n",
       "       'TE_valid_a_user_id_like', 'TE_valid_a_user_id_reply',\n",
       "       'TE_valid_a_user_id_retweet', 'TE_valid_a_user_id_retweet_comment',\n",
       "       'TE_valid_a_user_id_tweet_type_language_like',\n",
       "       'TE_valid_a_user_id_tweet_type_language_reply',\n",
       "       'TE_valid_a_user_id_tweet_type_language_retweet',\n",
       "       'TE_valid_a_user_id_tweet_type_language_retweet_comment',\n",
       "       'TE_valid_b_is_verified_tweet_type_like',\n",
       "       'TE_valid_b_is_verified_tweet_type_reply',\n",
       "       'TE_valid_b_is_verified_tweet_type_retweet',\n",
       "       'TE_valid_b_is_verified_tweet_type_retweet_comment',\n",
       "       'TE_valid_b_user_id_a_user_id_like',\n",
       "       'TE_valid_b_user_id_a_user_id_reply',\n",
       "       'TE_valid_b_user_id_a_user_id_retweet',\n",
       "       'TE_valid_b_user_id_a_user_id_retweet_comment',\n",
       "       'TE_valid_b_user_id_like', 'TE_valid_b_user_id_reply',\n",
       "       'TE_valid_b_user_id_retweet', 'TE_valid_b_user_id_retweet_comment',\n",
       "       'TE_valid_b_user_id_tweet_type_language_like',\n",
       "       'TE_valid_b_user_id_tweet_type_language_reply',\n",
       "       'TE_valid_b_user_id_tweet_type_language_retweet',\n",
       "       'TE_valid_b_user_id_tweet_type_language_retweet_comment',\n",
       "       'TE_valid_domains_language_b_follows_a_tweet_type_media_a_is_verified_like',\n",
       "       'TE_valid_domains_language_b_follows_a_tweet_type_media_a_is_verified_reply',\n",
       "       'TE_valid_domains_language_b_follows_a_tweet_type_media_a_is_verified_retweet',\n",
       "       'TE_valid_domains_language_b_follows_a_tweet_type_media_a_is_verified_retweet_comment',\n",
       "       'TE_valid_dt_dow_dt_hour_dt_minute_language_like',\n",
       "       'TE_valid_dt_dow_dt_hour_dt_minute_language_reply',\n",
       "       'TE_valid_dt_dow_dt_hour_dt_minute_language_retweet',\n",
       "       'TE_valid_dt_dow_dt_hour_dt_minute_language_retweet_comment',\n",
       "       'TE_valid_hashtags_like', 'TE_valid_hashtags_reply',\n",
       "       'TE_valid_hashtags_retweet', 'TE_valid_hashtags_retweet_comment',\n",
       "       'TE_valid_media_tweet_type_language_a_is_verified_b_is_verified_b_follows_a_like',\n",
       "       'TE_valid_media_tweet_type_language_a_is_verified_b_is_verified_b_follows_a_reply',\n",
       "       'TE_valid_media_tweet_type_language_a_is_verified_b_is_verified_b_follows_a_retweet',\n",
       "       'TE_valid_media_tweet_type_language_a_is_verified_b_is_verified_b_follows_a_retweet_comment',\n",
       "       'TE_valid_media_tweet_type_language_like',\n",
       "       'TE_valid_media_tweet_type_language_reply',\n",
       "       'TE_valid_media_tweet_type_language_retweet',\n",
       "       'TE_valid_media_tweet_type_language_retweet_comment',\n",
       "       'TE_valid_tw_original_user0_tweet_type_language_like',\n",
       "       'TE_valid_tw_original_user0_tweet_type_language_reply',\n",
       "       'TE_valid_tw_original_user0_tweet_type_language_retweet',\n",
       "       'TE_valid_tw_original_user0_tweet_type_language_retweet_comment',\n",
       "       'TE_valid_tw_original_user1_tweet_type_language_like',\n",
       "       'TE_valid_tw_original_user1_tweet_type_language_reply',\n",
       "       'TE_valid_tw_original_user1_tweet_type_language_retweet',\n",
       "       'TE_valid_tw_original_user1_tweet_type_language_retweet_comment',\n",
       "       'TE_valid_tw_word0_like', 'TE_valid_tw_word0_reply',\n",
       "       'TE_valid_tw_word0_retweet', 'TE_valid_tw_word0_retweet_comment',\n",
       "       'a_ff_rate', 'a_follower_count', 'a_following_count',\n",
       "       'a_follows_b', 'a_is_verified', 'ab_age_dff', 'ab_age_rate',\n",
       "       'ab_fer_rate', 'ab_fing_rate', 'b_ff_rate', 'b_follower_count',\n",
       "       'b_following_count', 'b_follows_a', 'b_is_verified', 'dt_dow',\n",
       "       'dt_hour', 'dt_minute', 'group', 'language', 'len_domains',\n",
       "       'len_hashtags', 'len_links', 'media', 'tw_count_at',\n",
       "       'tw_count_capital_words', 'tw_count_char',\n",
       "       'tw_count_excl_quest_marks', 'tw_count_special1', 'tw_count_words',\n",
       "       'tw_last_quest', 'tw_len_gif', 'tw_len_media', 'tw_len_photo',\n",
       "       'tw_len_quest', 'tw_len_retweet', 'tw_len_rt', 'tw_len_token',\n",
       "       'tw_len_video', 'tweet_type', 'XGB_like', 'XGB_reply',\n",
       "       'XGB_retweet', 'XGB_retweet_comment', 'BNN_reply', 'BNN_retweet',\n",
       "       'BNN_retweet_comment', 'BNN_like', 'CXGB_reply', 'CXGB_retweet',\n",
       "       'CXGB_retweet_comment', 'CXGB_like', 'CNN_reply', 'CNN_retweet',\n",
       "       'CNN_retweet_comment', 'CNN_like', 'BONN_reply', 'BONN_retweet',\n",
       "       'BONN_retweet_comment', 'BONN_like', 'GXGB_reply', 'GXGB_retweet',\n",
       "       'GXGB_retweet_comment', 'GXGB_like'], dtype='<U90')"
      ]
     },
     "execution_count": 15,
     "metadata": {},
     "output_type": "execute_result"
    }
   ],
   "source": [
    "Y_valid = valid[label_names]\n",
    "Y_valid, = dask.persist(Y_valid)\n",
    "Y_valid.head()    \n",
    "    \n",
    "valid = valid.drop(['tweet_id']+label_names,axis=1)\n",
    "valid, = dask.persist(valid)\n",
    "valid.head()\n",
    "\n",
    "\n",
    "features = [c for c in valid.columns if c not in DONT_USE]\n",
    "print('Using %i features:'%(len(features)),valid.shape[1])\n",
    "np.asarray(features)"
   ]
  },
  {
   "cell_type": "code",
   "execution_count": 16,
   "id": "twenty-supervision",
   "metadata": {},
   "outputs": [
    {
     "name": "stdout",
     "output_type": "stream",
     "text": [
      "XGB Version 1.1.0\n"
     ]
    }
   ],
   "source": [
    "import xgboost as xgb\n",
    "print('XGB Version',xgb.__version__)\n",
    "\n",
    "xgb_parms = { \n",
    "    'max_depth':8, \n",
    "    'learning_rate':0.1, \n",
    "    'subsample':0.8,\n",
    "    'colsample_bytree':0.3, \n",
    "    'eval_metric':'logloss',\n",
    "    'objective':'binary:logistic',\n",
    "    'tree_method':'gpu_hist',\n",
    "    'predictor' : 'gpu_predictor'\n",
    "}"
   ]
  },
  {
   "cell_type": "code",
   "execution_count": 17,
   "id": "greatest-buffer",
   "metadata": {},
   "outputs": [
    {
     "data": {
      "text/html": [
       "<div>\n",
       "<style scoped>\n",
       "    .dataframe tbody tr th:only-of-type {\n",
       "        vertical-align: middle;\n",
       "    }\n",
       "\n",
       "    .dataframe tbody tr th {\n",
       "        vertical-align: top;\n",
       "    }\n",
       "\n",
       "    .dataframe thead th {\n",
       "        text-align: right;\n",
       "    }\n",
       "</style>\n",
       "<table border=\"1\" class=\"dataframe\">\n",
       "  <thead>\n",
       "    <tr style=\"text-align: right;\">\n",
       "      <th></th>\n",
       "      <th>TE_a_user_id_like</th>\n",
       "      <th>TE_a_user_id_reply</th>\n",
       "      <th>TE_a_user_id_retweet</th>\n",
       "      <th>TE_a_user_id_retweet_comment</th>\n",
       "      <th>TE_b_is_verified_tweet_type_like</th>\n",
       "      <th>TE_b_is_verified_tweet_type_reply</th>\n",
       "      <th>TE_b_is_verified_tweet_type_retweet</th>\n",
       "      <th>TE_b_is_verified_tweet_type_retweet_comment</th>\n",
       "      <th>TE_b_user_id_a_user_id_like</th>\n",
       "      <th>TE_b_user_id_a_user_id_reply</th>\n",
       "      <th>...</th>\n",
       "      <th>CNN_retweet_comment</th>\n",
       "      <th>CNN_like</th>\n",
       "      <th>BONN_reply</th>\n",
       "      <th>BONN_retweet</th>\n",
       "      <th>BONN_retweet_comment</th>\n",
       "      <th>BONN_like</th>\n",
       "      <th>GXGB_reply</th>\n",
       "      <th>GXGB_retweet</th>\n",
       "      <th>GXGB_retweet_comment</th>\n",
       "      <th>GXGB_like</th>\n",
       "    </tr>\n",
       "  </thead>\n",
       "  <tbody>\n",
       "    <tr>\n",
       "      <th>0</th>\n",
       "      <td>0.558</td>\n",
       "      <td>0.013</td>\n",
       "      <td>0.120</td>\n",
       "      <td>0.005</td>\n",
       "      <td>0.361</td>\n",
       "      <td>0.033</td>\n",
       "      <td>0.055</td>\n",
       "      <td>0.006</td>\n",
       "      <td>0.389</td>\n",
       "      <td>0.025</td>\n",
       "      <td>...</td>\n",
       "      <td>0.003890</td>\n",
       "      <td>0.261384</td>\n",
       "      <td>0.002871</td>\n",
       "      <td>0.086121</td>\n",
       "      <td>0.003869</td>\n",
       "      <td>0.245554</td>\n",
       "      <td>0.000655</td>\n",
       "      <td>0.160317</td>\n",
       "      <td>0.000945</td>\n",
       "      <td>0.342075</td>\n",
       "    </tr>\n",
       "    <tr>\n",
       "      <th>1</th>\n",
       "      <td>0.397</td>\n",
       "      <td>0.009</td>\n",
       "      <td>0.087</td>\n",
       "      <td>0.002</td>\n",
       "      <td>0.248</td>\n",
       "      <td>0.006</td>\n",
       "      <td>0.113</td>\n",
       "      <td>0.006</td>\n",
       "      <td>0.397</td>\n",
       "      <td>0.028</td>\n",
       "      <td>...</td>\n",
       "      <td>0.002266</td>\n",
       "      <td>0.180592</td>\n",
       "      <td>0.000274</td>\n",
       "      <td>0.005499</td>\n",
       "      <td>0.000298</td>\n",
       "      <td>0.041783</td>\n",
       "      <td>0.004005</td>\n",
       "      <td>0.015759</td>\n",
       "      <td>0.000780</td>\n",
       "      <td>0.216524</td>\n",
       "    </tr>\n",
       "    <tr>\n",
       "      <th>2</th>\n",
       "      <td>0.660</td>\n",
       "      <td>0.014</td>\n",
       "      <td>0.288</td>\n",
       "      <td>0.150</td>\n",
       "      <td>0.248</td>\n",
       "      <td>0.006</td>\n",
       "      <td>0.113</td>\n",
       "      <td>0.006</td>\n",
       "      <td>0.397</td>\n",
       "      <td>0.028</td>\n",
       "      <td>...</td>\n",
       "      <td>0.009646</td>\n",
       "      <td>0.358260</td>\n",
       "      <td>0.015906</td>\n",
       "      <td>0.163109</td>\n",
       "      <td>0.007750</td>\n",
       "      <td>0.502515</td>\n",
       "      <td>0.003504</td>\n",
       "      <td>0.392571</td>\n",
       "      <td>0.017953</td>\n",
       "      <td>0.370824</td>\n",
       "    </tr>\n",
       "    <tr>\n",
       "      <th>3</th>\n",
       "      <td>0.397</td>\n",
       "      <td>0.012</td>\n",
       "      <td>0.082</td>\n",
       "      <td>0.003</td>\n",
       "      <td>0.248</td>\n",
       "      <td>0.006</td>\n",
       "      <td>0.113</td>\n",
       "      <td>0.006</td>\n",
       "      <td>0.397</td>\n",
       "      <td>0.028</td>\n",
       "      <td>...</td>\n",
       "      <td>0.007292</td>\n",
       "      <td>0.341846</td>\n",
       "      <td>0.007837</td>\n",
       "      <td>0.124398</td>\n",
       "      <td>0.009337</td>\n",
       "      <td>0.458955</td>\n",
       "      <td>0.003027</td>\n",
       "      <td>0.073922</td>\n",
       "      <td>0.008497</td>\n",
       "      <td>0.372025</td>\n",
       "    </tr>\n",
       "    <tr>\n",
       "      <th>4</th>\n",
       "      <td>0.397</td>\n",
       "      <td>0.036</td>\n",
       "      <td>0.040</td>\n",
       "      <td>0.003</td>\n",
       "      <td>0.484</td>\n",
       "      <td>0.040</td>\n",
       "      <td>0.078</td>\n",
       "      <td>0.008</td>\n",
       "      <td>0.397</td>\n",
       "      <td>0.028</td>\n",
       "      <td>...</td>\n",
       "      <td>0.000662</td>\n",
       "      <td>0.315228</td>\n",
       "      <td>0.017967</td>\n",
       "      <td>0.002953</td>\n",
       "      <td>0.000579</td>\n",
       "      <td>0.399552</td>\n",
       "      <td>0.018419</td>\n",
       "      <td>0.007771</td>\n",
       "      <td>0.001450</td>\n",
       "      <td>0.634077</td>\n",
       "    </tr>\n",
       "  </tbody>\n",
       "</table>\n",
       "<p>5 rows × 179 columns</p>\n",
       "</div>"
      ],
      "text/plain": [
       "   TE_a_user_id_like  TE_a_user_id_reply  TE_a_user_id_retweet  \\\n",
       "0              0.558               0.013                 0.120   \n",
       "1              0.397               0.009                 0.087   \n",
       "2              0.660               0.014                 0.288   \n",
       "3              0.397               0.012                 0.082   \n",
       "4              0.397               0.036                 0.040   \n",
       "\n",
       "   TE_a_user_id_retweet_comment  TE_b_is_verified_tweet_type_like  \\\n",
       "0                         0.005                             0.361   \n",
       "1                         0.002                             0.248   \n",
       "2                         0.150                             0.248   \n",
       "3                         0.003                             0.248   \n",
       "4                         0.003                             0.484   \n",
       "\n",
       "   TE_b_is_verified_tweet_type_reply  TE_b_is_verified_tweet_type_retweet  \\\n",
       "0                              0.033                                0.055   \n",
       "1                              0.006                                0.113   \n",
       "2                              0.006                                0.113   \n",
       "3                              0.006                                0.113   \n",
       "4                              0.040                                0.078   \n",
       "\n",
       "   TE_b_is_verified_tweet_type_retweet_comment  TE_b_user_id_a_user_id_like  \\\n",
       "0                                        0.006                        0.389   \n",
       "1                                        0.006                        0.397   \n",
       "2                                        0.006                        0.397   \n",
       "3                                        0.006                        0.397   \n",
       "4                                        0.008                        0.397   \n",
       "\n",
       "   TE_b_user_id_a_user_id_reply  ...  CNN_retweet_comment  CNN_like  \\\n",
       "0                         0.025  ...             0.003890  0.261384   \n",
       "1                         0.028  ...             0.002266  0.180592   \n",
       "2                         0.028  ...             0.009646  0.358260   \n",
       "3                         0.028  ...             0.007292  0.341846   \n",
       "4                         0.028  ...             0.000662  0.315228   \n",
       "\n",
       "   BONN_reply  BONN_retweet  BONN_retweet_comment  BONN_like  GXGB_reply  \\\n",
       "0    0.002871      0.086121              0.003869   0.245554    0.000655   \n",
       "1    0.000274      0.005499              0.000298   0.041783    0.004005   \n",
       "2    0.015906      0.163109              0.007750   0.502515    0.003504   \n",
       "3    0.007837      0.124398              0.009337   0.458955    0.003027   \n",
       "4    0.017967      0.002953              0.000579   0.399552    0.018419   \n",
       "\n",
       "   GXGB_retweet  GXGB_retweet_comment  GXGB_like  \n",
       "0      0.160317              0.000945   0.342075  \n",
       "1      0.015759              0.000780   0.216524  \n",
       "2      0.392571              0.017953   0.370824  \n",
       "3      0.073922              0.008497   0.372025  \n",
       "4      0.007771              0.001450   0.634077  \n",
       "\n",
       "[5 rows x 179 columns]"
      ]
     },
     "execution_count": 17,
     "metadata": {},
     "output_type": "execute_result"
    }
   ],
   "source": [
    "for col in train.columns:\n",
    "    if train[col].dtype=='bool':\n",
    "        train[col] = train[col].astype('int8')\n",
    "    if valid[col].dtype=='bool':\n",
    "        valid[col] = valid[col].astype('int8')\n",
    "train, = dask.persist(train)\n",
    "valid, = dask.persist(valid)\n",
    "train.head()"
   ]
  },
  {
   "cell_type": "code",
   "execution_count": 18,
   "id": "roman-rabbit",
   "metadata": {},
   "outputs": [],
   "source": [
    "models_index = [0,1,2,3]"
   ]
  },
  {
   "cell_type": "code",
   "execution_count": 19,
   "id": "cross-ordinance",
   "metadata": {},
   "outputs": [],
   "source": [
    "def get_colnames(train, name):\n",
    "    cols = list(train.columns)\n",
    "    cols = [col for col in cols if 'NN_' not in col and col!='group' and cols!='quantile']\n",
    "    cols = [x for x in cols if ('TE_' in x and 'a_user_id' in x and name in x) or 'TE_' not in x or ('TE_' in x and 'a_user_id' not in x)]\n",
    "    cols = cols + [x for x in train.columns if x not in cols and 'TE_switch_' in x]\n",
    "    cols = cols + [x for x in train.columns if 'BNN_' in x or 'BONN_' in x or 'BOONN_' in x or 'CNN_' in x]\n",
    "    return(cols)"
   ]
  },
  {
   "cell_type": "code",
   "execution_count": 20,
   "id": "pregnant-letters",
   "metadata": {},
   "outputs": [],
   "source": [
    "cols = get_colnames(train, 'like')"
   ]
  },
  {
   "cell_type": "code",
   "execution_count": 21,
   "id": "bridal-massachusetts",
   "metadata": {},
   "outputs": [
    {
     "name": "stdout",
     "output_type": "stream",
     "text": [
      "/bin/bash: /opt/conda/lib/libtinfo.so.6: no version information available (required by /bin/bash)\r\n",
      "mkdir: cannot create directory ‘models_stacked_risk’: File exists\r\n"
     ]
    }
   ],
   "source": [
    "!mkdir models_stacked_risk"
   ]
  },
  {
   "cell_type": "code",
   "execution_count": 22,
   "id": "specified-stream",
   "metadata": {},
   "outputs": [],
   "source": [
    "import pickle"
   ]
  },
  {
   "cell_type": "code",
   "execution_count": 23,
   "id": "conscious-racing",
   "metadata": {},
   "outputs": [
    {
     "name": "stdout",
     "output_type": "stream",
     "text": [
      "#########################\n",
      "### reply\n",
      "#########################\n",
      "['TE_a_user_id_reply', 'TE_b_is_verified_tweet_type_like', 'TE_b_is_verified_tweet_type_reply', 'TE_b_is_verified_tweet_type_retweet', 'TE_b_is_verified_tweet_type_retweet_comment', 'TE_b_user_id_a_user_id_reply', 'TE_b_user_id_like', 'TE_b_user_id_reply', 'TE_b_user_id_retweet', 'TE_b_user_id_retweet_comment', 'TE_b_user_id_tweet_type_language_like', 'TE_b_user_id_tweet_type_language_reply', 'TE_b_user_id_tweet_type_language_retweet', 'TE_b_user_id_tweet_type_language_retweet_comment', 'TE_domains_language_b_follows_a_tweet_type_media_a_is_verified_like', 'TE_domains_language_b_follows_a_tweet_type_media_a_is_verified_reply', 'TE_domains_language_b_follows_a_tweet_type_media_a_is_verified_retweet', 'TE_domains_language_b_follows_a_tweet_type_media_a_is_verified_retweet_comment', 'TE_media_tweet_type_language_a_is_verified_b_is_verified_b_follows_a_like', 'TE_media_tweet_type_language_a_is_verified_b_is_verified_b_follows_a_reply', 'TE_media_tweet_type_language_a_is_verified_b_is_verified_b_follows_a_retweet', 'TE_media_tweet_type_language_a_is_verified_b_is_verified_b_follows_a_retweet_comment', 'TE_media_tweet_type_language_like', 'TE_media_tweet_type_language_reply', 'TE_media_tweet_type_language_retweet', 'TE_media_tweet_type_language_retweet_comment', 'TE_switch_a_user_id_b_user_id_reply', 'TE_switch_a_user_id_reply', 'TE_switch_a_user_id_tweet_type_language_reply', 'TE_switch_b_user_id_like', 'TE_switch_b_user_id_reply', 'TE_switch_b_user_id_retweet', 'TE_switch_b_user_id_retweet_comment', 'TE_tw_original_user0_tweet_type_language_like', 'TE_tw_original_user0_tweet_type_language_reply', 'TE_tw_original_user0_tweet_type_language_retweet', 'TE_tw_original_user0_tweet_type_language_retweet_comment', 'TE_tw_original_user1_tweet_type_language_like', 'TE_tw_original_user1_tweet_type_language_reply', 'TE_tw_original_user1_tweet_type_language_retweet', 'TE_tw_original_user1_tweet_type_language_retweet_comment', 'TE_tweet_type_like', 'TE_tweet_type_reply', 'TE_tweet_type_retweet', 'TE_tweet_type_retweet_comment', 'TE_valid_a_user_id_reply', 'TE_valid_a_user_id_tweet_type_language_reply', 'TE_valid_b_is_verified_tweet_type_like', 'TE_valid_b_is_verified_tweet_type_reply', 'TE_valid_b_is_verified_tweet_type_retweet', 'TE_valid_b_is_verified_tweet_type_retweet_comment', 'TE_valid_b_user_id_a_user_id_reply', 'TE_valid_b_user_id_like', 'TE_valid_b_user_id_reply', 'TE_valid_b_user_id_retweet', 'TE_valid_b_user_id_retweet_comment', 'TE_valid_b_user_id_tweet_type_language_like', 'TE_valid_b_user_id_tweet_type_language_reply', 'TE_valid_b_user_id_tweet_type_language_retweet', 'TE_valid_b_user_id_tweet_type_language_retweet_comment', 'TE_valid_domains_language_b_follows_a_tweet_type_media_a_is_verified_like', 'TE_valid_domains_language_b_follows_a_tweet_type_media_a_is_verified_reply', 'TE_valid_domains_language_b_follows_a_tweet_type_media_a_is_verified_retweet', 'TE_valid_domains_language_b_follows_a_tweet_type_media_a_is_verified_retweet_comment', 'TE_valid_dt_dow_dt_hour_dt_minute_language_like', 'TE_valid_dt_dow_dt_hour_dt_minute_language_reply', 'TE_valid_dt_dow_dt_hour_dt_minute_language_retweet', 'TE_valid_dt_dow_dt_hour_dt_minute_language_retweet_comment', 'TE_valid_hashtags_like', 'TE_valid_hashtags_reply', 'TE_valid_hashtags_retweet', 'TE_valid_hashtags_retweet_comment', 'TE_valid_media_tweet_type_language_a_is_verified_b_is_verified_b_follows_a_like', 'TE_valid_media_tweet_type_language_a_is_verified_b_is_verified_b_follows_a_reply', 'TE_valid_media_tweet_type_language_a_is_verified_b_is_verified_b_follows_a_retweet', 'TE_valid_media_tweet_type_language_a_is_verified_b_is_verified_b_follows_a_retweet_comment', 'TE_valid_media_tweet_type_language_like', 'TE_valid_media_tweet_type_language_reply', 'TE_valid_media_tweet_type_language_retweet', 'TE_valid_media_tweet_type_language_retweet_comment', 'TE_valid_tw_original_user0_tweet_type_language_like', 'TE_valid_tw_original_user0_tweet_type_language_reply', 'TE_valid_tw_original_user0_tweet_type_language_retweet', 'TE_valid_tw_original_user0_tweet_type_language_retweet_comment', 'TE_valid_tw_original_user1_tweet_type_language_like', 'TE_valid_tw_original_user1_tweet_type_language_reply', 'TE_valid_tw_original_user1_tweet_type_language_retweet', 'TE_valid_tw_original_user1_tweet_type_language_retweet_comment', 'TE_valid_tw_word0_like', 'TE_valid_tw_word0_reply', 'TE_valid_tw_word0_retweet', 'TE_valid_tw_word0_retweet_comment', 'a_ff_rate', 'a_follower_count', 'a_following_count', 'a_follows_b', 'a_is_verified', 'ab_age_dff', 'ab_age_rate', 'ab_fer_rate', 'ab_fing_rate', 'b_ff_rate', 'b_follower_count', 'b_following_count', 'b_follows_a', 'b_is_verified', 'dt_dow', 'dt_hour', 'dt_minute', 'language', 'len_domains', 'len_hashtags', 'len_links', 'media', 'tw_count_at', 'tw_count_capital_words', 'tw_count_char', 'tw_count_excl_quest_marks', 'tw_count_special1', 'tw_count_words', 'tw_last_quest', 'tw_len_gif', 'tw_len_media', 'tw_len_photo', 'tw_len_quest', 'tw_len_retweet', 'tw_len_rt', 'tw_len_token', 'tw_len_video', 'tweet_type', 'XGB_like', 'XGB_reply', 'XGB_retweet', 'XGB_retweet_comment', 'CXGB_reply', 'CXGB_retweet', 'CXGB_retweet_comment', 'CXGB_like', 'GXGB_reply', 'GXGB_retweet', 'GXGB_retweet_comment', 'GXGB_like', 'TE_switch_a_user_id_b_user_id_like', 'TE_switch_a_user_id_b_user_id_retweet', 'TE_switch_a_user_id_b_user_id_retweet_comment', 'TE_switch_a_user_id_like', 'TE_switch_a_user_id_retweet', 'TE_switch_a_user_id_retweet_comment', 'TE_switch_a_user_id_tweet_type_language_like', 'TE_switch_a_user_id_tweet_type_language_retweet', 'TE_switch_a_user_id_tweet_type_language_retweet_comment', 'BNN_reply', 'BNN_retweet', 'BNN_retweet_comment', 'BNN_like', 'CNN_reply', 'CNN_retweet', 'CNN_retweet_comment', 'CNN_like', 'BONN_reply', 'BONN_retweet', 'BONN_retweet_comment', 'BONN_like']\n",
      "Creating DMatrix...\n",
      "Training...\n",
      "Took 28.6 seconds\n",
      "0000 valid-logloss:0.60515\n",
      "0050 valid-logloss:0.07640\n",
      "0100 valid-logloss:0.07507\n",
      "0150 valid-logloss:0.07523\n"
     ]
    },
    {
     "name": "stderr",
     "output_type": "stream",
     "text": [
      "/opt/conda/envs/rapids/lib/python3.8/site-packages/distributed/worker.py:3451: UserWarning: Large object of size 2.66 MB detected in task graph: \n",
      "  [<function predict.<locals>.mapped_predict at 0x7f ... titions>, True]\n",
      "Consider scattering large objects ahead of time\n",
      "with client.scatter to reduce scheduler burden and \n",
      "keep data on workers\n",
      "\n",
      "    future = client.submit(func, big_data)    # bad\n",
      "\n",
      "    big_future = client.scatter(big_data)     # good\n",
      "    future = client.submit(func, big_future)  # good\n",
      "  warnings.warn(\n"
     ]
    },
    {
     "name": "stdout",
     "output_type": "stream",
     "text": [
      "Predicting...\n",
      "Took 0.0 seconds\n",
      "#########################\n",
      "### retweet\n",
      "#########################\n",
      "['TE_a_user_id_retweet', 'TE_a_user_id_retweet_comment', 'TE_b_is_verified_tweet_type_like', 'TE_b_is_verified_tweet_type_reply', 'TE_b_is_verified_tweet_type_retweet', 'TE_b_is_verified_tweet_type_retweet_comment', 'TE_b_user_id_a_user_id_retweet', 'TE_b_user_id_a_user_id_retweet_comment', 'TE_b_user_id_like', 'TE_b_user_id_reply', 'TE_b_user_id_retweet', 'TE_b_user_id_retweet_comment', 'TE_b_user_id_tweet_type_language_like', 'TE_b_user_id_tweet_type_language_reply', 'TE_b_user_id_tweet_type_language_retweet', 'TE_b_user_id_tweet_type_language_retweet_comment', 'TE_domains_language_b_follows_a_tweet_type_media_a_is_verified_like', 'TE_domains_language_b_follows_a_tweet_type_media_a_is_verified_reply', 'TE_domains_language_b_follows_a_tweet_type_media_a_is_verified_retweet', 'TE_domains_language_b_follows_a_tweet_type_media_a_is_verified_retweet_comment', 'TE_media_tweet_type_language_a_is_verified_b_is_verified_b_follows_a_like', 'TE_media_tweet_type_language_a_is_verified_b_is_verified_b_follows_a_reply', 'TE_media_tweet_type_language_a_is_verified_b_is_verified_b_follows_a_retweet', 'TE_media_tweet_type_language_a_is_verified_b_is_verified_b_follows_a_retweet_comment', 'TE_media_tweet_type_language_like', 'TE_media_tweet_type_language_reply', 'TE_media_tweet_type_language_retweet', 'TE_media_tweet_type_language_retweet_comment', 'TE_switch_a_user_id_b_user_id_retweet', 'TE_switch_a_user_id_b_user_id_retweet_comment', 'TE_switch_a_user_id_retweet', 'TE_switch_a_user_id_retweet_comment', 'TE_switch_a_user_id_tweet_type_language_retweet', 'TE_switch_a_user_id_tweet_type_language_retweet_comment', 'TE_switch_b_user_id_like', 'TE_switch_b_user_id_reply', 'TE_switch_b_user_id_retweet', 'TE_switch_b_user_id_retweet_comment', 'TE_tw_original_user0_tweet_type_language_like', 'TE_tw_original_user0_tweet_type_language_reply', 'TE_tw_original_user0_tweet_type_language_retweet', 'TE_tw_original_user0_tweet_type_language_retweet_comment', 'TE_tw_original_user1_tweet_type_language_like', 'TE_tw_original_user1_tweet_type_language_reply', 'TE_tw_original_user1_tweet_type_language_retweet', 'TE_tw_original_user1_tweet_type_language_retweet_comment', 'TE_tweet_type_like', 'TE_tweet_type_reply', 'TE_tweet_type_retweet', 'TE_tweet_type_retweet_comment', 'TE_valid_a_user_id_retweet', 'TE_valid_a_user_id_retweet_comment', 'TE_valid_a_user_id_tweet_type_language_retweet', 'TE_valid_a_user_id_tweet_type_language_retweet_comment', 'TE_valid_b_is_verified_tweet_type_like', 'TE_valid_b_is_verified_tweet_type_reply', 'TE_valid_b_is_verified_tweet_type_retweet', 'TE_valid_b_is_verified_tweet_type_retweet_comment', 'TE_valid_b_user_id_a_user_id_retweet', 'TE_valid_b_user_id_a_user_id_retweet_comment', 'TE_valid_b_user_id_like', 'TE_valid_b_user_id_reply', 'TE_valid_b_user_id_retweet', 'TE_valid_b_user_id_retweet_comment', 'TE_valid_b_user_id_tweet_type_language_like', 'TE_valid_b_user_id_tweet_type_language_reply', 'TE_valid_b_user_id_tweet_type_language_retweet', 'TE_valid_b_user_id_tweet_type_language_retweet_comment', 'TE_valid_domains_language_b_follows_a_tweet_type_media_a_is_verified_like', 'TE_valid_domains_language_b_follows_a_tweet_type_media_a_is_verified_reply', 'TE_valid_domains_language_b_follows_a_tweet_type_media_a_is_verified_retweet', 'TE_valid_domains_language_b_follows_a_tweet_type_media_a_is_verified_retweet_comment', 'TE_valid_dt_dow_dt_hour_dt_minute_language_like', 'TE_valid_dt_dow_dt_hour_dt_minute_language_reply', 'TE_valid_dt_dow_dt_hour_dt_minute_language_retweet', 'TE_valid_dt_dow_dt_hour_dt_minute_language_retweet_comment', 'TE_valid_hashtags_like', 'TE_valid_hashtags_reply', 'TE_valid_hashtags_retweet', 'TE_valid_hashtags_retweet_comment', 'TE_valid_media_tweet_type_language_a_is_verified_b_is_verified_b_follows_a_like', 'TE_valid_media_tweet_type_language_a_is_verified_b_is_verified_b_follows_a_reply', 'TE_valid_media_tweet_type_language_a_is_verified_b_is_verified_b_follows_a_retweet', 'TE_valid_media_tweet_type_language_a_is_verified_b_is_verified_b_follows_a_retweet_comment', 'TE_valid_media_tweet_type_language_like', 'TE_valid_media_tweet_type_language_reply', 'TE_valid_media_tweet_type_language_retweet', 'TE_valid_media_tweet_type_language_retweet_comment', 'TE_valid_tw_original_user0_tweet_type_language_like', 'TE_valid_tw_original_user0_tweet_type_language_reply', 'TE_valid_tw_original_user0_tweet_type_language_retweet', 'TE_valid_tw_original_user0_tweet_type_language_retweet_comment', 'TE_valid_tw_original_user1_tweet_type_language_like', 'TE_valid_tw_original_user1_tweet_type_language_reply', 'TE_valid_tw_original_user1_tweet_type_language_retweet', 'TE_valid_tw_original_user1_tweet_type_language_retweet_comment', 'TE_valid_tw_word0_like', 'TE_valid_tw_word0_reply', 'TE_valid_tw_word0_retweet', 'TE_valid_tw_word0_retweet_comment', 'a_ff_rate', 'a_follower_count', 'a_following_count', 'a_follows_b', 'a_is_verified', 'ab_age_dff', 'ab_age_rate', 'ab_fer_rate', 'ab_fing_rate', 'b_ff_rate', 'b_follower_count', 'b_following_count', 'b_follows_a', 'b_is_verified', 'dt_dow', 'dt_hour', 'dt_minute', 'language', 'len_domains', 'len_hashtags', 'len_links', 'media', 'tw_count_at', 'tw_count_capital_words', 'tw_count_char', 'tw_count_excl_quest_marks', 'tw_count_special1', 'tw_count_words', 'tw_last_quest', 'tw_len_gif', 'tw_len_media', 'tw_len_photo', 'tw_len_quest', 'tw_len_retweet', 'tw_len_rt', 'tw_len_token', 'tw_len_video', 'tweet_type', 'XGB_like', 'XGB_reply', 'XGB_retweet', 'XGB_retweet_comment', 'CXGB_reply', 'CXGB_retweet', 'CXGB_retweet_comment', 'CXGB_like', 'GXGB_reply', 'GXGB_retweet', 'GXGB_retweet_comment', 'GXGB_like', 'TE_switch_a_user_id_b_user_id_like', 'TE_switch_a_user_id_b_user_id_reply', 'TE_switch_a_user_id_like', 'TE_switch_a_user_id_reply', 'TE_switch_a_user_id_tweet_type_language_like', 'TE_switch_a_user_id_tweet_type_language_reply', 'BNN_reply', 'BNN_retweet', 'BNN_retweet_comment', 'BNN_like', 'CNN_reply', 'CNN_retweet', 'CNN_retweet_comment', 'CNN_like', 'BONN_reply', 'BONN_retweet', 'BONN_retweet_comment', 'BONN_like']\n",
      "Creating DMatrix...\n",
      "Training...\n",
      "Took 41.8 seconds\n",
      "0000 valid-logloss:0.62075\n",
      "0050 valid-logloss:0.20215\n",
      "0100 valid-logloss:0.20025\n",
      "0150 valid-logloss:0.19993\n",
      "0200 valid-logloss:0.19973\n",
      "0250 valid-logloss:0.19971\n",
      "Predicting...\n",
      "Took 0.0 seconds\n",
      "#########################\n",
      "### retweet_comment\n",
      "#########################\n",
      "['TE_a_user_id_retweet_comment', 'TE_b_is_verified_tweet_type_like', 'TE_b_is_verified_tweet_type_reply', 'TE_b_is_verified_tweet_type_retweet', 'TE_b_is_verified_tweet_type_retweet_comment', 'TE_b_user_id_a_user_id_retweet_comment', 'TE_b_user_id_like', 'TE_b_user_id_reply', 'TE_b_user_id_retweet', 'TE_b_user_id_retweet_comment', 'TE_b_user_id_tweet_type_language_like', 'TE_b_user_id_tweet_type_language_reply', 'TE_b_user_id_tweet_type_language_retweet', 'TE_b_user_id_tweet_type_language_retweet_comment', 'TE_domains_language_b_follows_a_tweet_type_media_a_is_verified_like', 'TE_domains_language_b_follows_a_tweet_type_media_a_is_verified_reply', 'TE_domains_language_b_follows_a_tweet_type_media_a_is_verified_retweet', 'TE_domains_language_b_follows_a_tweet_type_media_a_is_verified_retweet_comment', 'TE_media_tweet_type_language_a_is_verified_b_is_verified_b_follows_a_like', 'TE_media_tweet_type_language_a_is_verified_b_is_verified_b_follows_a_reply', 'TE_media_tweet_type_language_a_is_verified_b_is_verified_b_follows_a_retweet', 'TE_media_tweet_type_language_a_is_verified_b_is_verified_b_follows_a_retweet_comment', 'TE_media_tweet_type_language_like', 'TE_media_tweet_type_language_reply', 'TE_media_tweet_type_language_retweet', 'TE_media_tweet_type_language_retweet_comment', 'TE_switch_a_user_id_b_user_id_retweet_comment', 'TE_switch_a_user_id_retweet_comment', 'TE_switch_a_user_id_tweet_type_language_retweet_comment', 'TE_switch_b_user_id_like', 'TE_switch_b_user_id_reply', 'TE_switch_b_user_id_retweet', 'TE_switch_b_user_id_retweet_comment', 'TE_tw_original_user0_tweet_type_language_like', 'TE_tw_original_user0_tweet_type_language_reply', 'TE_tw_original_user0_tweet_type_language_retweet', 'TE_tw_original_user0_tweet_type_language_retweet_comment', 'TE_tw_original_user1_tweet_type_language_like', 'TE_tw_original_user1_tweet_type_language_reply', 'TE_tw_original_user1_tweet_type_language_retweet', 'TE_tw_original_user1_tweet_type_language_retweet_comment', 'TE_tweet_type_like', 'TE_tweet_type_reply', 'TE_tweet_type_retweet', 'TE_tweet_type_retweet_comment', 'TE_valid_a_user_id_retweet_comment', 'TE_valid_a_user_id_tweet_type_language_retweet_comment', 'TE_valid_b_is_verified_tweet_type_like', 'TE_valid_b_is_verified_tweet_type_reply', 'TE_valid_b_is_verified_tweet_type_retweet', 'TE_valid_b_is_verified_tweet_type_retweet_comment', 'TE_valid_b_user_id_a_user_id_retweet_comment', 'TE_valid_b_user_id_like', 'TE_valid_b_user_id_reply', 'TE_valid_b_user_id_retweet', 'TE_valid_b_user_id_retweet_comment', 'TE_valid_b_user_id_tweet_type_language_like', 'TE_valid_b_user_id_tweet_type_language_reply', 'TE_valid_b_user_id_tweet_type_language_retweet', 'TE_valid_b_user_id_tweet_type_language_retweet_comment', 'TE_valid_domains_language_b_follows_a_tweet_type_media_a_is_verified_like', 'TE_valid_domains_language_b_follows_a_tweet_type_media_a_is_verified_reply', 'TE_valid_domains_language_b_follows_a_tweet_type_media_a_is_verified_retweet', 'TE_valid_domains_language_b_follows_a_tweet_type_media_a_is_verified_retweet_comment', 'TE_valid_dt_dow_dt_hour_dt_minute_language_like', 'TE_valid_dt_dow_dt_hour_dt_minute_language_reply', 'TE_valid_dt_dow_dt_hour_dt_minute_language_retweet', 'TE_valid_dt_dow_dt_hour_dt_minute_language_retweet_comment', 'TE_valid_hashtags_like', 'TE_valid_hashtags_reply', 'TE_valid_hashtags_retweet', 'TE_valid_hashtags_retweet_comment', 'TE_valid_media_tweet_type_language_a_is_verified_b_is_verified_b_follows_a_like', 'TE_valid_media_tweet_type_language_a_is_verified_b_is_verified_b_follows_a_reply', 'TE_valid_media_tweet_type_language_a_is_verified_b_is_verified_b_follows_a_retweet', 'TE_valid_media_tweet_type_language_a_is_verified_b_is_verified_b_follows_a_retweet_comment', 'TE_valid_media_tweet_type_language_like', 'TE_valid_media_tweet_type_language_reply', 'TE_valid_media_tweet_type_language_retweet', 'TE_valid_media_tweet_type_language_retweet_comment', 'TE_valid_tw_original_user0_tweet_type_language_like', 'TE_valid_tw_original_user0_tweet_type_language_reply', 'TE_valid_tw_original_user0_tweet_type_language_retweet', 'TE_valid_tw_original_user0_tweet_type_language_retweet_comment', 'TE_valid_tw_original_user1_tweet_type_language_like', 'TE_valid_tw_original_user1_tweet_type_language_reply', 'TE_valid_tw_original_user1_tweet_type_language_retweet', 'TE_valid_tw_original_user1_tweet_type_language_retweet_comment', 'TE_valid_tw_word0_like', 'TE_valid_tw_word0_reply', 'TE_valid_tw_word0_retweet', 'TE_valid_tw_word0_retweet_comment', 'a_ff_rate', 'a_follower_count', 'a_following_count', 'a_follows_b', 'a_is_verified', 'ab_age_dff', 'ab_age_rate', 'ab_fer_rate', 'ab_fing_rate', 'b_ff_rate', 'b_follower_count', 'b_following_count', 'b_follows_a', 'b_is_verified', 'dt_dow', 'dt_hour', 'dt_minute', 'language', 'len_domains', 'len_hashtags', 'len_links', 'media', 'tw_count_at', 'tw_count_capital_words', 'tw_count_char', 'tw_count_excl_quest_marks', 'tw_count_special1', 'tw_count_words', 'tw_last_quest', 'tw_len_gif', 'tw_len_media', 'tw_len_photo', 'tw_len_quest', 'tw_len_retweet', 'tw_len_rt', 'tw_len_token', 'tw_len_video', 'tweet_type', 'XGB_like', 'XGB_reply', 'XGB_retweet', 'XGB_retweet_comment', 'CXGB_reply', 'CXGB_retweet', 'CXGB_retweet_comment', 'CXGB_like', 'GXGB_reply', 'GXGB_retweet', 'GXGB_retweet_comment', 'GXGB_like', 'TE_switch_a_user_id_b_user_id_like', 'TE_switch_a_user_id_b_user_id_reply', 'TE_switch_a_user_id_b_user_id_retweet', 'TE_switch_a_user_id_like', 'TE_switch_a_user_id_reply', 'TE_switch_a_user_id_retweet', 'TE_switch_a_user_id_tweet_type_language_like', 'TE_switch_a_user_id_tweet_type_language_reply', 'TE_switch_a_user_id_tweet_type_language_retweet', 'BNN_reply', 'BNN_retweet', 'BNN_retweet_comment', 'BNN_like', 'CNN_reply', 'CNN_retweet', 'CNN_retweet_comment', 'CNN_like', 'BONN_reply', 'BONN_retweet', 'BONN_retweet_comment', 'BONN_like']\n",
      "Creating DMatrix...\n"
     ]
    },
    {
     "name": "stdout",
     "output_type": "stream",
     "text": [
      "Training...\n",
      "Took 27.2 seconds\n",
      "0000 valid-logloss:0.60018\n",
      "0050 valid-logloss:0.02981\n",
      "0100 valid-logloss:0.02828\n",
      "0150 valid-logloss:0.02824\n",
      "Predicting...\n",
      "Took 0.0 seconds\n",
      "#########################\n",
      "### like\n",
      "#########################\n",
      "['TE_a_user_id_like', 'TE_b_is_verified_tweet_type_like', 'TE_b_is_verified_tweet_type_reply', 'TE_b_is_verified_tweet_type_retweet', 'TE_b_is_verified_tweet_type_retweet_comment', 'TE_b_user_id_a_user_id_like', 'TE_b_user_id_like', 'TE_b_user_id_reply', 'TE_b_user_id_retweet', 'TE_b_user_id_retweet_comment', 'TE_b_user_id_tweet_type_language_like', 'TE_b_user_id_tweet_type_language_reply', 'TE_b_user_id_tweet_type_language_retweet', 'TE_b_user_id_tweet_type_language_retweet_comment', 'TE_domains_language_b_follows_a_tweet_type_media_a_is_verified_like', 'TE_domains_language_b_follows_a_tweet_type_media_a_is_verified_reply', 'TE_domains_language_b_follows_a_tweet_type_media_a_is_verified_retweet', 'TE_domains_language_b_follows_a_tweet_type_media_a_is_verified_retweet_comment', 'TE_media_tweet_type_language_a_is_verified_b_is_verified_b_follows_a_like', 'TE_media_tweet_type_language_a_is_verified_b_is_verified_b_follows_a_reply', 'TE_media_tweet_type_language_a_is_verified_b_is_verified_b_follows_a_retweet', 'TE_media_tweet_type_language_a_is_verified_b_is_verified_b_follows_a_retweet_comment', 'TE_media_tweet_type_language_like', 'TE_media_tweet_type_language_reply', 'TE_media_tweet_type_language_retweet', 'TE_media_tweet_type_language_retweet_comment', 'TE_switch_a_user_id_b_user_id_like', 'TE_switch_a_user_id_like', 'TE_switch_a_user_id_tweet_type_language_like', 'TE_switch_b_user_id_like', 'TE_switch_b_user_id_reply', 'TE_switch_b_user_id_retweet', 'TE_switch_b_user_id_retweet_comment', 'TE_tw_original_user0_tweet_type_language_like', 'TE_tw_original_user0_tweet_type_language_reply', 'TE_tw_original_user0_tweet_type_language_retweet', 'TE_tw_original_user0_tweet_type_language_retweet_comment', 'TE_tw_original_user1_tweet_type_language_like', 'TE_tw_original_user1_tweet_type_language_reply', 'TE_tw_original_user1_tweet_type_language_retweet', 'TE_tw_original_user1_tweet_type_language_retweet_comment', 'TE_tweet_type_like', 'TE_tweet_type_reply', 'TE_tweet_type_retweet', 'TE_tweet_type_retweet_comment', 'TE_valid_a_user_id_like', 'TE_valid_a_user_id_tweet_type_language_like', 'TE_valid_b_is_verified_tweet_type_like', 'TE_valid_b_is_verified_tweet_type_reply', 'TE_valid_b_is_verified_tweet_type_retweet', 'TE_valid_b_is_verified_tweet_type_retweet_comment', 'TE_valid_b_user_id_a_user_id_like', 'TE_valid_b_user_id_like', 'TE_valid_b_user_id_reply', 'TE_valid_b_user_id_retweet', 'TE_valid_b_user_id_retweet_comment', 'TE_valid_b_user_id_tweet_type_language_like', 'TE_valid_b_user_id_tweet_type_language_reply', 'TE_valid_b_user_id_tweet_type_language_retweet', 'TE_valid_b_user_id_tweet_type_language_retweet_comment', 'TE_valid_domains_language_b_follows_a_tweet_type_media_a_is_verified_like', 'TE_valid_domains_language_b_follows_a_tweet_type_media_a_is_verified_reply', 'TE_valid_domains_language_b_follows_a_tweet_type_media_a_is_verified_retweet', 'TE_valid_domains_language_b_follows_a_tweet_type_media_a_is_verified_retweet_comment', 'TE_valid_dt_dow_dt_hour_dt_minute_language_like', 'TE_valid_dt_dow_dt_hour_dt_minute_language_reply', 'TE_valid_dt_dow_dt_hour_dt_minute_language_retweet', 'TE_valid_dt_dow_dt_hour_dt_minute_language_retweet_comment', 'TE_valid_hashtags_like', 'TE_valid_hashtags_reply', 'TE_valid_hashtags_retweet', 'TE_valid_hashtags_retweet_comment', 'TE_valid_media_tweet_type_language_a_is_verified_b_is_verified_b_follows_a_like', 'TE_valid_media_tweet_type_language_a_is_verified_b_is_verified_b_follows_a_reply', 'TE_valid_media_tweet_type_language_a_is_verified_b_is_verified_b_follows_a_retweet', 'TE_valid_media_tweet_type_language_a_is_verified_b_is_verified_b_follows_a_retweet_comment', 'TE_valid_media_tweet_type_language_like', 'TE_valid_media_tweet_type_language_reply', 'TE_valid_media_tweet_type_language_retweet', 'TE_valid_media_tweet_type_language_retweet_comment', 'TE_valid_tw_original_user0_tweet_type_language_like', 'TE_valid_tw_original_user0_tweet_type_language_reply', 'TE_valid_tw_original_user0_tweet_type_language_retweet', 'TE_valid_tw_original_user0_tweet_type_language_retweet_comment', 'TE_valid_tw_original_user1_tweet_type_language_like', 'TE_valid_tw_original_user1_tweet_type_language_reply', 'TE_valid_tw_original_user1_tweet_type_language_retweet', 'TE_valid_tw_original_user1_tweet_type_language_retweet_comment', 'TE_valid_tw_word0_like', 'TE_valid_tw_word0_reply', 'TE_valid_tw_word0_retweet', 'TE_valid_tw_word0_retweet_comment', 'a_ff_rate', 'a_follower_count', 'a_following_count', 'a_follows_b', 'a_is_verified', 'ab_age_dff', 'ab_age_rate', 'ab_fer_rate', 'ab_fing_rate', 'b_ff_rate', 'b_follower_count', 'b_following_count', 'b_follows_a', 'b_is_verified', 'dt_dow', 'dt_hour', 'dt_minute', 'language', 'len_domains', 'len_hashtags', 'len_links', 'media', 'tw_count_at', 'tw_count_capital_words', 'tw_count_char', 'tw_count_excl_quest_marks', 'tw_count_special1', 'tw_count_words', 'tw_last_quest', 'tw_len_gif', 'tw_len_media', 'tw_len_photo', 'tw_len_quest', 'tw_len_retweet', 'tw_len_rt', 'tw_len_token', 'tw_len_video', 'tweet_type', 'XGB_like', 'XGB_reply', 'XGB_retweet', 'XGB_retweet_comment', 'CXGB_reply', 'CXGB_retweet', 'CXGB_retweet_comment', 'CXGB_like', 'GXGB_reply', 'GXGB_retweet', 'GXGB_retweet_comment', 'GXGB_like', 'TE_switch_a_user_id_b_user_id_reply', 'TE_switch_a_user_id_b_user_id_retweet', 'TE_switch_a_user_id_b_user_id_retweet_comment', 'TE_switch_a_user_id_reply', 'TE_switch_a_user_id_retweet', 'TE_switch_a_user_id_retweet_comment', 'TE_switch_a_user_id_tweet_type_language_reply', 'TE_switch_a_user_id_tweet_type_language_retweet', 'TE_switch_a_user_id_tweet_type_language_retweet_comment', 'BNN_reply', 'BNN_retweet', 'BNN_retweet_comment', 'BNN_like', 'CNN_reply', 'CNN_retweet', 'CNN_retweet_comment', 'CNN_like', 'BONN_reply', 'BONN_retweet', 'BONN_retweet_comment', 'BONN_like']\n",
      "Creating DMatrix...\n",
      "Training...\n",
      "Took 33.7 seconds\n",
      "0000 valid-logloss:0.67023\n",
      "0050 valid-logloss:0.52419\n",
      "0100 valid-logloss:0.51909\n",
      "0150 valid-logloss:0.51875\n",
      "0200 valid-logloss:0.51873\n",
      "Predicting...\n",
      "Took 0.0 seconds\n"
     ]
    }
   ],
   "source": [
    "import time\n",
    "\n",
    "NROUND = 601\n",
    "VERBOSE_EVAL = 50\n",
    "ESR = 50\n",
    "preds_out = []\n",
    "best_trees_out = []\n",
    "\n",
    "for i in models_index:\n",
    "    name = label_names[i]\n",
    "    print('#'*25);print('###',name);print('#'*25)\n",
    "    cols = get_colnames(train, name)\n",
    "    print(cols)\n",
    "       \n",
    "    start = time.time(); print('Creating DMatrix...')\n",
    "    preds = []\n",
    "    best_trees = []\n",
    "    dtrain = xgb.dask.DaskDMatrix(client,data=train[cols].values,label=Y_train.iloc[:, i])\n",
    "    dvalid = xgb.dask.DaskDMatrix(client,data=valid[cols].values,label=Y_valid.iloc[:, i])\n",
    "    start = time.time(); print('Training...')\n",
    "    model = xgb.dask.train(client, xgb_parms, \n",
    "                           dtrain=dtrain,\n",
    "                           evals=[(dvalid,'valid')],\n",
    "                           num_boost_round=NROUND,\n",
    "                           early_stopping_rounds=ESR,\n",
    "                           verbose_eval=VERBOSE_EVAL\n",
    "                          )\n",
    "    print('Took %.1f seconds'%(time.time()-start))\n",
    "    logloss_valid = model[\"history\"]['valid']['logloss'][::VERBOSE_EVAL]\n",
    "    for ik in range(len(logloss_valid)):\n",
    "        print(f\"{str(VERBOSE_EVAL*ik).zfill(4)} valid-logloss:{logloss_valid[ik]:.5f}\")\n",
    "    for groupid in [0,1,2,3,4]:\n",
    "        preds.append(xgb.dask.predict(client,model,valid[valid['group']==groupid][cols]))\n",
    "    start = time.time(); print('Predicting...')\n",
    "    print('Took %.1f seconds'%(time.time()-start))\n",
    "    best_trees.append(model['booster'].best_ntree_limit)\n",
    "    pickle.dump(model, open('./models_stacked_risk/model_' + str(name) + '.pickle', 'wb'))\n",
    "    preds_out.append(preds)"
   ]
  },
  {
   "cell_type": "code",
   "execution_count": 24,
   "id": "continuous-perception",
   "metadata": {},
   "outputs": [
    {
     "name": "stdout",
     "output_type": "stream",
     "text": [
      "CPU times: user 3.36 s, sys: 1.55 s, total: 4.91 s\n",
      "Wall time: 18.7 s\n"
     ]
    }
   ],
   "source": [
    "%%time\n",
    "\n",
    "import cupy\n",
    "\n",
    "oof = []\n",
    "yquantile = []\n",
    "\n",
    "for i in range(5):\n",
    "    yquantile.append(valid[valid['group']==i]['group'].values.compute())\n",
    "\n",
    "yquantile = cupy.concatenate(yquantile)\n",
    "    \n",
    "for preds in preds_out:\n",
    "    oof.append(cupy.concatenate([cupy.array(i.values.compute()) for i in preds]))\n",
    "\n",
    "oof = cupy.asarray(oof).T\n",
    "\n",
    "yvalid = []\n",
    "for i in range(5):\n",
    "    yvalid.append(Y_valid[valid['group']==i][label_names].values.compute())\n",
    "\n",
    "yvalid = cupy.concatenate(yvalid)"
   ]
  },
  {
   "cell_type": "code",
   "execution_count": 25,
   "id": "reverse-sample",
   "metadata": {},
   "outputs": [],
   "source": [
    "from sklearn.metrics import auc\n",
    "from sklearn.metrics import average_precision_score\n",
    "\n",
    "def display_score(rce,ap):\n",
    "    print('Quantile Group|AP Retweet|RCE Retweet|  AP Reply|  RCE Reply|   AP Like|   RCE Like|AP RT comment|RCE RT comment')\n",
    "    for i in range(5):\n",
    "        print(f'{i:9}      ' + \\\n",
    "              ' '.join([f\"{ap[engage_type][i]:10.4f}  {rce[engage_type][i]:10.4f}\" for engage_type in ['retweet','reply','like','retweet_comment']]))\n",
    "\n",
    "    print('     Average   ' + ' '.join([f\"{np.mean(list(ap[engage_type])):10.4f}  {np.mean(list(rce[engage_type])):10.4f}\" for engage_type in ['retweet','reply','like','retweet_comment']]))  \n",
    "    print(' Sum AP: ' + str(np.sum([np.mean(list(ap[engage_type])) for engage_type in ['retweet','reply','like','retweet_comment']])))\n",
    "    print(' Sum RCE: ' + str(np.sum([np.mean(list(rce[engage_type])) for engage_type in ['retweet','reply','like','retweet_comment']])))\n",
    "\n",
    "def precision_recall_curve(y_true,y_pred):\n",
    "    y_true = y_true.astype('float32')\n",
    "    ids = cupy.argsort(-y_pred) \n",
    "    y_true = y_true[ids]\n",
    "    y_pred = y_pred[ids]\n",
    "    y_pred = cupy.flip(y_pred,axis=0)\n",
    "\n",
    "    acc_one = cupy.cumsum(y_true)\n",
    "    sum_one = cupy.sum(y_true)\n",
    "    \n",
    "    precision = cupy.flip(acc_one/cupy.cumsum(cupy.ones(len(y_true))),axis=0)\n",
    "    precision[:-1] = precision[1:]\n",
    "    precision[-1] = 1.\n",
    "\n",
    "    recall = cupy.flip(acc_one/sum_one,axis=0)\n",
    "    recall[:-1] = recall[1:]\n",
    "    recall[-1] = 0\n",
    "    n = (recall==1).sum()\n",
    "    \n",
    "    return precision[n-1:],recall[n-1:],y_pred[n:]\n",
    "\n",
    "def compute_prauc(pred, gt):\n",
    "    prec, recall, thresh = precision_recall_curve(gt, pred)\n",
    "    recall, prec = cupy.asnumpy(recall), cupy.asnumpy(prec)\n",
    "    prauc = auc(recall, prec)\n",
    "    return prauc\n",
    "\n",
    "def log_loss(y_true,y_pred,eps=1e-15, normalize=True, sample_weight=None):\n",
    "    y_true = y_true.astype('int32')\n",
    "    y_pred = cupy.clip(y_pred, eps, 1 - eps)\n",
    "    if y_pred.ndim == 1:\n",
    "        y_pred = cupy.expand_dims(y_pred, axis=1)\n",
    "    if y_pred.shape[1] == 1:\n",
    "        y_pred = cupy.hstack([1 - y_pred, y_pred])\n",
    "\n",
    "    y_pred /= cupy.sum(y_pred, axis=1, keepdims=True)\n",
    "    loss = -cupy.log(y_pred)[cupy.arange(y_pred.shape[0]), y_true]\n",
    "    return _weighted_sum(loss, sample_weight, normalize).item()\n",
    "\n",
    "def _weighted_sum(sample_score, sample_weight, normalize):\n",
    "    if normalize:\n",
    "        return cupy.average(sample_score, weights=sample_weight)\n",
    "    elif sample_weight is not None:\n",
    "        return cupy.dot(sample_score, sample_weight)\n",
    "    else:\n",
    "        return sample_score.sum()\n",
    "\n",
    "# FAST METRIC FROM GIBA\n",
    "def compute_rce_fast(pred, gt):\n",
    "    cross_entropy = log_loss(gt, pred)\n",
    "    yt = np.mean(gt)     \n",
    "    strawman_cross_entropy = -(yt*np.log(yt) + (1 - yt)*np.log(1 - yt))\n",
    "    return (1.0 - cross_entropy/strawman_cross_entropy)*100.0"
   ]
  },
  {
   "cell_type": "code",
   "execution_count": 26,
   "id": "certain-producer",
   "metadata": {},
   "outputs": [
    {
     "name": "stdout",
     "output_type": "stream",
     "text": [
      "CPU times: user 9.33 s, sys: 616 ms, total: 9.95 s\n",
      "Wall time: 10.9 s\n"
     ]
    }
   ],
   "source": [
    "%%time\n",
    "\n",
    "txt = ''\n",
    "rce_output = {}\n",
    "ap_output = {}\n",
    "for i, ind in enumerate(models_index):\n",
    "    prauc_out = []\n",
    "    rce_out = []\n",
    "    ap_out = []\n",
    "    for j in range(5):\n",
    "        yvalid_tmp = yvalid[yquantile==j][:, i]\n",
    "        oof_tmp = oof[yquantile==j][:, i]\n",
    "        prauc = 0\n",
    "        rce   = compute_rce_fast(oof_tmp, yvalid_tmp).item()\n",
    "        ap    = average_precision_score(cupy.asnumpy(yvalid_tmp), cupy.asnumpy(oof_tmp))\n",
    "        prauc_out.append(prauc)\n",
    "        rce_out.append(rce)\n",
    "        ap_out.append(ap)\n",
    "    rce_output[label_names[ind]] = rce_out\n",
    "    ap_output[label_names[ind]] = ap_out"
   ]
  },
  {
   "cell_type": "code",
   "execution_count": 27,
   "id": "dress-plaintiff",
   "metadata": {},
   "outputs": [
    {
     "name": "stdout",
     "output_type": "stream",
     "text": [
      "Quantile Group|AP Retweet|RCE Retweet|  AP Reply|  RCE Reply|   AP Like|   RCE Like|AP RT comment|RCE RT comment\n",
      "        0          0.4624     28.3226     0.2160     23.5180     0.7013     21.1689     0.0761     16.7329\n",
      "        1          0.4423     27.9110     0.2243     24.2712     0.6869     20.1872     0.0667     16.8392\n",
      "        2          0.4351     27.7096     0.2528     25.7731     0.6788     20.1130     0.0584     15.2854\n",
      "        3          0.4341     27.6367     0.2818     27.8809     0.6884     20.8986     0.0623     17.4469\n",
      "        4          0.4287     29.2842     0.2058     25.1693     0.7465     24.0956     0.0634     18.4973\n",
      "     Average       0.4405     28.1728     0.2361     25.3225     0.7004     21.2927     0.0654     16.9603\n",
      " Sum AP: 1.4424315406185582\n",
      " Sum RCE: 91.7482913788698\n",
      "CPU times: user 1.09 ms, sys: 661 µs, total: 1.75 ms\n",
      "Wall time: 1.12 ms\n"
     ]
    }
   ],
   "source": [
    "%%time\n",
    "display_score(rce_output, ap_output)"
   ]
  },
  {
   "cell_type": "code",
   "execution_count": 25,
   "id": "persistent-volleyball",
   "metadata": {},
   "outputs": [
    {
     "data": {
      "text/plain": [
       "array(0.92068322)"
      ]
     },
     "execution_count": 25,
     "metadata": {},
     "output_type": "execute_result"
    }
   ],
   "source": [
    "((oof[:,1]>0.5)==Y_valid.values[:, 1]).mean()"
   ]
  },
  {
   "cell_type": "code",
   "execution_count": 26,
   "id": "comfortable-snowboard",
   "metadata": {},
   "outputs": [
    {
     "data": {
      "text/plain": [
       "(1255182, 4)"
      ]
     },
     "execution_count": 26,
     "metadata": {},
     "output_type": "execute_result"
    }
   ],
   "source": [
    "oof.shape"
   ]
  },
  {
   "cell_type": "code",
   "execution_count": 27,
   "id": "ambient-expert",
   "metadata": {},
   "outputs": [
    {
     "data": {
      "text/plain": [
       "(array([1.560000e+02, 4.010000e+02, 1.149790e+05, 1.123876e+06,\n",
       "        1.437200e+04, 1.320000e+03, 1.400000e+01, 1.000000e+00,\n",
       "        6.200000e+01, 1.000000e+00]),\n",
       " array([0.340186  , 0.35373834, 0.36729068, 0.380843  , 0.39439535,\n",
       "        0.40794766, 0.4215    , 0.43505234, 0.44860467, 0.462157  ,\n",
       "        0.47570935], dtype=float32),\n",
       " <BarContainer object of 10 artists>)"
      ]
     },
     "execution_count": 27,
     "metadata": {},
     "output_type": "execute_result"
    },
    {
     "data": {
      "image/png": "[encoded data removed]",
      "text/plain": [
       "<Figure size 432x288 with 1 Axes>"
      ]
     },
     "metadata": {
      "needs_background": "light"
     },
     "output_type": "display_data"
    }
   ],
   "source": [
    "import matplotlib.pyplot as plt\n",
    "\n",
    "plt.hist(cupy.asnumpy(oof[:,3]))"
   ]
  },
  {
   "cell_type": "code",
   "execution_count": 28,
   "id": "integrated-metro",
   "metadata": {},
   "outputs": [],
   "source": [
    "\n",
    "import cupy \n",
    "\n",
    "yvalid = []\n",
    "for i in range(5):\n",
    "    yvalid.append(Y_valid[valid['group']==i][label_names].values)\n",
    "yvalid = cupy.concatenate(yvalid)\n",
    "\n",
    "yquantile = []\n",
    "for i in range(5):\n",
    "    yquantile.append(valid[valid['group']==i]['group'].values)\n",
    "yquantile = cupy.concatenate(yquantile)"
   ]
  },
  {
   "cell_type": "code",
   "execution_count": 29,
   "id": "assumed-comfort",
   "metadata": {},
   "outputs": [],
   "source": [
    "import cupy\n",
    "\n",
    "oof = []\n",
    "for preds in preds_out:\n",
    "    oof.append(cupy.concatenate([cupy.array(i) for i in preds]))\n",
    "\n",
    "oof = cupy.asarray(oof).T"
   ]
  },
  {
   "cell_type": "code",
   "execution_count": 30,
   "id": "north-major",
   "metadata": {},
   "outputs": [],
   "source": [
    "from sklearn.metrics import auc\n",
    "from sklearn.metrics import average_precision_score\n",
    "\n",
    "def display_score(rce,ap):\n",
    "    print('Quantile Group|AP Retweet|RCE Retweet|  AP Reply|  RCE Reply|   AP Like|   RCE Like|AP RT comment|RCE RT comment')\n",
    "    for i in range(5):\n",
    "        print(f'{i:9}      ' + \\\n",
    "              ' '.join([f\"{ap[engage_type][i]:10.4f}  {rce[engage_type][i]:10.4f}\" for engage_type in ['retweet','reply','like','retweet_comment']]))\n",
    "\n",
    "    print('     Average   ' + ' '.join([f\"{np.mean(list(ap[engage_type])):10.4f}  {np.mean(list(rce[engage_type])):10.4f}\" for engage_type in ['retweet','reply','like','retweet_comment']]))  \n",
    "    print(' Sum AP: ' + str(np.sum([np.mean(list(ap[engage_type])) for engage_type in ['retweet','reply','like','retweet_comment']])))\n",
    "    print(' Sum RCE: ' + str(np.sum([np.mean(list(rce[engage_type])) for engage_type in ['retweet','reply','like','retweet_comment']])))\n",
    "\n",
    "def precision_recall_curve(y_true,y_pred):\n",
    "    y_true = y_true.astype('float32')\n",
    "    ids = cupy.argsort(-y_pred) \n",
    "    y_true = y_true[ids]\n",
    "    y_pred = y_pred[ids]\n",
    "    y_pred = cupy.flip(y_pred,axis=0)\n",
    "\n",
    "    acc_one = cupy.cumsum(y_true)\n",
    "    sum_one = cupy.sum(y_true)\n",
    "    \n",
    "    precision = cupy.flip(acc_one/cupy.cumsum(cupy.ones(len(y_true))),axis=0)\n",
    "    precision[:-1] = precision[1:]\n",
    "    precision[-1] = 1.\n",
    "\n",
    "    recall = cupy.flip(acc_one/sum_one,axis=0)\n",
    "    recall[:-1] = recall[1:]\n",
    "    recall[-1] = 0\n",
    "    n = (recall==1).sum()\n",
    "    \n",
    "    return precision[n-1:],recall[n-1:],y_pred[n:]\n",
    "\n",
    "def compute_prauc(pred, gt):\n",
    "    prec, recall, thresh = precision_recall_curve(gt, pred)\n",
    "    recall, prec = cupy.asnumpy(recall), cupy.asnumpy(prec)\n",
    "    prauc = auc(recall, prec)\n",
    "    return prauc\n",
    "\n",
    "def log_loss(y_true,y_pred,eps=1e-15, normalize=True, sample_weight=None):\n",
    "    y_true = y_true.astype('int32')\n",
    "    y_pred = cupy.clip(y_pred, eps, 1 - eps)\n",
    "    if y_pred.ndim == 1:\n",
    "        y_pred = cupy.expand_dims(y_pred, axis=1)\n",
    "    if y_pred.shape[1] == 1:\n",
    "        y_pred = cupy.hstack([1 - y_pred, y_pred])\n",
    "\n",
    "    y_pred /= cupy.sum(y_pred, axis=1, keepdims=True)\n",
    "    loss = -cupy.log(y_pred)[cupy.arange(y_pred.shape[0]), y_true]\n",
    "    return _weighted_sum(loss, sample_weight, normalize).item()\n",
    "\n",
    "def _weighted_sum(sample_score, sample_weight, normalize):\n",
    "    if normalize:\n",
    "        return cupy.average(sample_score, weights=sample_weight)\n",
    "    elif sample_weight is not None:\n",
    "        return cupy.dot(sample_score, sample_weight)\n",
    "    else:\n",
    "        return sample_score.sum()\n",
    "\n",
    "# FAST METRIC FROM GIBA\n",
    "def compute_rce_fast(pred, gt):\n",
    "    cross_entropy = log_loss(gt, pred)\n",
    "    yt = np.mean(gt)     \n",
    "    strawman_cross_entropy = -(yt*np.log(yt) + (1 - yt)*np.log(1 - yt))\n",
    "    return (1.0 - cross_entropy/strawman_cross_entropy)*100.0"
   ]
  },
  {
   "cell_type": "code",
   "execution_count": 34,
   "id": "automotive-department",
   "metadata": {},
   "outputs": [],
   "source": [
    "txt = ''\n",
    "rce_output = {}\n",
    "ap_output = {}\n",
    "for i, ind in enumerate(models_index):\n",
    "    prauc_out = []\n",
    "    rce_out = []\n",
    "    ap_out = []\n",
    "    for j in range(5):\n",
    "        yvalid_tmp = Y_valid.values[:, i]\n",
    "        oof_tmp = oof[:, i]\n",
    "        prauc = 0\n",
    "        rce   = compute_rce_fast(oof_tmp, yvalid_tmp).item()\n",
    "        ap    = average_precision_score(cupy.asnumpy(yvalid_tmp), cupy.asnumpy(oof_tmp))\n",
    "        prauc_out.append(prauc)\n",
    "        rce_out.append(rce)\n",
    "        ap_out.append(ap)\n",
    "    rce_output[label_names[ind]] = rce_out\n",
    "    ap_output[label_names[ind]] = ap_out"
   ]
  },
  {
   "cell_type": "code",
   "execution_count": 35,
   "id": "genetic-manhattan",
   "metadata": {},
   "outputs": [
    {
     "name": "stdout",
     "output_type": "stream",
     "text": [
      "Quantile Group|AP Retweet|RCE Retweet|  AP Reply|  RCE Reply|   AP Like|   RCE Like|AP RT comment|RCE RT comment\n",
      "        0          0.0797      0.0021     0.0211      0.0022     0.3887      0.0033     0.0056     -0.0023\n",
      "        1          0.0797      0.0021     0.0211      0.0022     0.3887      0.0033     0.0056     -0.0023\n",
      "        2          0.0797      0.0021     0.0211      0.0022     0.3887      0.0033     0.0056     -0.0023\n",
      "        3          0.0797      0.0021     0.0211      0.0022     0.3887      0.0033     0.0056     -0.0023\n",
      "        4          0.0797      0.0021     0.0211      0.0022     0.3887      0.0033     0.0056     -0.0023\n",
      "     Average       0.0797      0.0021     0.0211      0.0022     0.3887      0.0033     0.0056     -0.0023\n",
      " Sum AP: 0.4951631878928334\n",
      " Sum RCE: 0.005266935518521976\n",
      "CPU times: user 2.44 ms, sys: 0 ns, total: 2.44 ms\n",
      "Wall time: 1.44 ms\n"
     ]
    }
   ],
   "source": [
    "%%time\n",
    "display_score(rce_output, ap_output)"
   ]
  },
  {
   "cell_type": "code",
   "execution_count": 33,
   "id": "anticipated-momentum",
   "metadata": {},
   "outputs": [],
   "source": [
    "import numpy as np"
   ]
  },
  {
   "cell_type": "code",
   "execution_count": null,
   "id": "continent-transport",
   "metadata": {},
   "outputs": [],
   "source": []
  }
 ],
 "metadata": {
  "kernelspec": {
   "display_name": "Python 3 (ipykernel)",
   "language": "python",
   "name": "python3"
  },
  "language_info": {
   "codemirror_mode": {
    "name": "ipython",
    "version": 3
   },
   "file_extension": ".py",
   "mimetype": "text/x-python",
   "name": "python",
   "nbconvert_exporter": "python",
   "pygments_lexer": "ipython3",
   "version": "3.8.10"
  }
 },
 "nbformat": 4,
 "nbformat_minor": 5
}
