{
 "cells": [
  {
   "cell_type": "code",
   "execution_count": null,
   "id": "6f72647f",
   "metadata": {},
   "outputs": [],
   "source": [
    "# Copyright 2021 NVIDIA CORPORATION\n",
    "#\n",
    "# Licensed under the Apache License, Version 2.0 (the \"License\");\n",
    "# you may not use this file except in compliance with the License.\n",
    "# You may obtain a copy of the License at\n",
    "#\n",
    "#     http://www.apache.org/licenses/LICENSE-2.0\n",
    "#\n",
    "# Unless required by applicable law or agreed to in writing, software\n",
    "# distributed under the License is distributed on an \"AS IS\" BASIS,\n",
    "# WITHOUT WARRANTIES OR CONDITIONS OF ANY KIND, either express or implied.\n",
    "# See the License for the specific language governing permissions and\n",
    "# limitations under the License."
   ]
  },
  {
   "cell_type": "markdown",
   "id": "07c0abe7",
   "metadata": {},
   "source": [
    "# Create TE Map Parquet"
   ]
  },
  {
   "cell_type": "code",
   "execution_count": 1,
   "id": "eb2b2c34",
   "metadata": {},
   "outputs": [
    {
     "name": "stdout",
     "output_type": "stream",
     "text": [
      "cudf version 0.19.1\n"
     ]
    }
   ],
   "source": [
    "import pandas as pd\n",
    "import numpy as np\n",
    "import cudf, cupy\n",
    "import gc, os\n",
    "import dask, dask_cudf                    \n",
    "from dask_cuda import LocalCUDACluster\n",
    "from dask.distributed import Client, wait\n",
    "from dask.delayed import delayed\n",
    "print('cudf version',cudf.__version__)"
   ]
  },
  {
   "cell_type": "code",
   "execution_count": 2,
   "id": "5da172f1",
   "metadata": {},
   "outputs": [],
   "source": [
    "features = ['tw_word0']\n",
    "targets = ['reply','retweet','retweet_comment','like']\n",
    "\n",
    "# USE SAME SMOOTH AND FILT THAT YOU TRAINED MODELS WITH\n",
    "VER = 146\n",
    "SMOOTH = 20\n",
    "FILTER = 1\n",
    "BYTES = 1 #use 1 for int8, 2 for int16, 4 for float32"
   ]
  },
  {
   "cell_type": "code",
   "execution_count": 3,
   "id": "9c20606a",
   "metadata": {},
   "outputs": [
    {
     "name": "stdout",
     "output_type": "stream",
     "text": [
      "Note: ver 98 folder already exists\n"
     ]
    }
   ],
   "source": [
    "try: os.mkdir('./te%i'%VER)\n",
    "except: print('Note: ver %i folder already exists'%VER)"
   ]
  },
  {
   "cell_type": "markdown",
   "id": "01501bbc",
   "metadata": {},
   "source": [
    "# Read Parquets"
   ]
  },
  {
   "cell_type": "code",
   "execution_count": 4,
   "id": "54805065",
   "metadata": {},
   "outputs": [
    {
     "data": {
      "text/html": [
       "<div>\n",
       "<style scoped>\n",
       "    .dataframe tbody tr th:only-of-type {\n",
       "        vertical-align: middle;\n",
       "    }\n",
       "\n",
       "    .dataframe tbody tr th {\n",
       "        vertical-align: top;\n",
       "    }\n",
       "\n",
       "    .dataframe thead th {\n",
       "        text-align: right;\n",
       "    }\n",
       "</style>\n",
       "<table border=\"1\" class=\"dataframe\">\n",
       "  <thead>\n",
       "    <tr style=\"text-align: right;\">\n",
       "      <th></th>\n",
       "      <th>tw_word0</th>\n",
       "      <th>reply</th>\n",
       "      <th>retweet</th>\n",
       "      <th>retweet_comment</th>\n",
       "      <th>like</th>\n",
       "    </tr>\n",
       "  </thead>\n",
       "  <tbody>\n",
       "    <tr>\n",
       "      <th>0</th>\n",
       "      <td>53050233</td>\n",
       "      <td>0</td>\n",
       "      <td>0</td>\n",
       "      <td>0</td>\n",
       "      <td>0</td>\n",
       "    </tr>\n",
       "    <tr>\n",
       "      <th>1</th>\n",
       "      <td>1694712663</td>\n",
       "      <td>0</td>\n",
       "      <td>0</td>\n",
       "      <td>0</td>\n",
       "      <td>0</td>\n",
       "    </tr>\n",
       "    <tr>\n",
       "      <th>2</th>\n",
       "      <td>990650098</td>\n",
       "      <td>0</td>\n",
       "      <td>0</td>\n",
       "      <td>0</td>\n",
       "      <td>1</td>\n",
       "    </tr>\n",
       "    <tr>\n",
       "      <th>3</th>\n",
       "      <td>-108567334</td>\n",
       "      <td>0</td>\n",
       "      <td>0</td>\n",
       "      <td>0</td>\n",
       "      <td>0</td>\n",
       "    </tr>\n",
       "    <tr>\n",
       "      <th>4</th>\n",
       "      <td>-108567334</td>\n",
       "      <td>0</td>\n",
       "      <td>1</td>\n",
       "      <td>0</td>\n",
       "      <td>1</td>\n",
       "    </tr>\n",
       "  </tbody>\n",
       "</table>\n",
       "</div>"
      ],
      "text/plain": [
       "     tw_word0  reply  retweet  retweet_comment  like\n",
       "0    53050233      0        0                0     0\n",
       "1  1694712663      0        0                0     0\n",
       "2   990650098      0        0                0     1\n",
       "3  -108567334      0        0                0     0\n",
       "4  -108567334      0        1                0     1"
      ]
     },
     "execution_count": 4,
     "metadata": {},
     "output_type": "execute_result"
    }
   ],
   "source": [
    "cluster = LocalCUDACluster( \n",
    "    local_directory='/home/cdeotte/RecSys/Work/May-2021/may-20-21-RECSYS/',\n",
    "    CUDA_VISIBLE_DEVICES = '0,1,2,3',\n",
    "    #device_memory_limit = 0.90,\n",
    ")\n",
    "client = Client(cluster)\n",
    "path = '/raid/RecSys/recsys2021/parquet7'\n",
    "df = dask_cudf.read_parquet(f'{path}/*.parquet', columns=features+targets)\n",
    "_ = wait(df)\n",
    "df.head()"
   ]
  },
  {
   "cell_type": "code",
   "execution_count": 5,
   "id": "2ae583c7",
   "metadata": {},
   "outputs": [
    {
     "name": "stdout",
     "output_type": "stream",
     "text": [
      "663946617\n"
     ]
    }
   ],
   "source": [
    "a = df.shape\n",
    "print( a[0].compute() )"
   ]
  },
  {
   "cell_type": "markdown",
   "id": "ea5fe6fd",
   "metadata": {},
   "source": [
    "# Compute Target Means"
   ]
  },
  {
   "cell_type": "code",
   "execution_count": 6,
   "id": "b2a892aa",
   "metadata": {},
   "outputs": [],
   "source": [
    "#M = {}\n",
    "#for ti in targets:\n",
    "#    print(ti,'...')\n",
    "#    M[ti] = df[ti].compute().mean()"
   ]
  },
  {
   "cell_type": "code",
   "execution_count": 7,
   "id": "2b9561a0",
   "metadata": {},
   "outputs": [],
   "source": [
    "M = {'reply': 0.027490660442660256,\n",
    "     'retweet': 0.08691603891401407,\n",
    "     'retweet_comment': 0.00680711051804335,\n",
    "     'like': 0.395523962734492}"
   ]
  },
  {
   "cell_type": "code",
   "execution_count": null,
   "id": "baeed909",
   "metadata": {},
   "outputs": [],
   "source": [
    "# MY TRAIN VALIDATION SUBSET\n",
    "#M = {'reply': 0.02604706011607502,\n",
    "#     'retweet': 0.09169025434904013,\n",
    "#     'retweet_comment': 0.0069172984326772895,\n",
    "#     'like': 0.4068115207982652}"
   ]
  },
  {
   "cell_type": "code",
   "execution_count": 8,
   "id": "8297bf24",
   "metadata": {},
   "outputs": [
    {
     "data": {
      "text/plain": [
       "{'reply': 0.027490660442660256,\n",
       " 'retweet': 0.08691603891401407,\n",
       " 'retweet_comment': 0.00680711051804335,\n",
       " 'like': 0.395523962734492}"
      ]
     },
     "execution_count": 8,
     "metadata": {},
     "output_type": "execute_result"
    }
   ],
   "source": [
    "M"
   ]
  },
  {
   "cell_type": "markdown",
   "id": "45d9fc31",
   "metadata": {},
   "source": [
    "# Remove Rows Not Needed"
   ]
  },
  {
   "cell_type": "code",
   "execution_count": 9,
   "id": "27b33811",
   "metadata": {},
   "outputs": [],
   "source": [
    "if FILTER>0:\n",
    "    for COL in features:\n",
    "        dt = df[[COL,targets[0]]].groupby(COL).agg({\n",
    "            targets[0]: ['count']}).reset_index()\n",
    "        dt.columns = [COL,'count']\n",
    "        df = df.merge(dt,on=COL,how='left')\n",
    "        df = df.loc[df['count']>FILTER]\n",
    "        del df['count']\n",
    "        gc.collect()\n",
    "        \n",
    "    if len(features)>1:\n",
    "        df['tmp'] = 0\n",
    "        for COL in features:\n",
    "            df['tmp'] = df['tmp'] + df[COL].astype('int64')\n",
    "        df['tmp'] = df['tmp'].astype('int32')\n",
    "        dt = df.tmp.value_counts().reset_index()\n",
    "        dt.columns = ['tmp','count']\n",
    "        df = df.merge(dt,on='tmp',how='left')\n",
    "        df = df.loc[df['count']>FILTER]\n",
    "        del df['count']; del df['tmp']; \n",
    "        \n",
    "    del dt\n",
    "    gc.collect()"
   ]
  },
  {
   "cell_type": "markdown",
   "id": "617f3dbd",
   "metadata": {},
   "source": [
    "# Compute TE"
   ]
  },
  {
   "cell_type": "code",
   "execution_count": 10,
   "id": "57efa664",
   "metadata": {},
   "outputs": [
    {
     "name": "stdout",
     "output_type": "stream",
     "text": [
      "TE_tw_word0_reply ...\n",
      "TE_tw_word0_retweet ...\n",
      "TE_tw_word0_retweet_comment ...\n",
      "TE_tw_word0_like ...\n"
     ]
    },
    {
     "data": {
      "text/plain": [
       "0"
      ]
     },
     "execution_count": 10,
     "metadata": {},
     "output_type": "execute_result"
    }
   ],
   "source": [
    "# COMPUTE TE\n",
    "dt = df[features+targets].groupby(features).agg({\n",
    "    'reply': ['sum', 'count'],\n",
    "    'retweet': ['sum'],\n",
    "    'retweet_comment': ['sum'],\n",
    "    'like': ['sum']}).reset_index()\n",
    "dt.columns = features + ['reply_sum', 'count', 'retweet_sum', 'retweet_comment_sum', 'like_sum']\n",
    "\n",
    "# REMOVE ROWS\n",
    "dt = dt.loc[(dt['count']>FILTER)]\n",
    "\n",
    "# SMOOTH TE\n",
    "cols = []\n",
    "for ti, target in enumerate(targets):\n",
    "    fname = 'TE_'+'_'.join(features)+'_'+target\n",
    "    cols.append(fname)\n",
    "    print(fname,'...')\n",
    "    dt[fname] = ((dt[target+'_sum']) + (M[target]*SMOOTH)) / (dt['count']+SMOOTH)\n",
    "    dt[fname] = dt[fname].astype('float32')\n",
    "    del dt[target+'_sum']\n",
    "del dt['count']\n",
    "gc.collect()"
   ]
  },
  {
   "cell_type": "code",
   "execution_count": 11,
   "id": "82b7a765",
   "metadata": {},
   "outputs": [],
   "source": [
    "# WRITE TO PARQUET\n",
    "if BYTES==1:\n",
    "    for c in cols:\n",
    "        dt[c] = (dt[c]*255)-128\n",
    "        dt[c] = dt[c].astype('int8')\n",
    "elif BYTES==2:\n",
    "    for c in cols:\n",
    "        dt[c] = (dt[c]*65535)-32768\n",
    "        dt[c] = dt[c].astype('int16')\n",
    "        \n",
    "fname = './te%i/'%VER + '_'.join(features)  + '_s%i_f%i.parquet'%(SMOOTH,FILTER)\n",
    "dt.compute().to_parquet(fname)  "
   ]
  },
  {
   "cell_type": "code",
   "execution_count": 12,
   "id": "f70a3280",
   "metadata": {},
   "outputs": [
    {
     "data": {
      "text/plain": [
       "Index(['tw_word0', 'TE_tw_word0_reply', 'TE_tw_word0_retweet',\n",
       "       'TE_tw_word0_retweet_comment', 'TE_tw_word0_like'],\n",
       "      dtype='object')"
      ]
     },
     "execution_count": 12,
     "metadata": {},
     "output_type": "execute_result"
    }
   ],
   "source": [
    "dt.columns"
   ]
  }
 ],
 "metadata": {
  "kernelspec": {
   "display_name": "Python 3 (ipykernel)",
   "language": "python",
   "name": "python3"
  },
  "language_info": {
   "codemirror_mode": {
    "name": "ipython",
    "version": 3
   },
   "file_extension": ".py",
   "mimetype": "text/x-python",
   "name": "python",
   "nbconvert_exporter": "python",
   "pygments_lexer": "ipython3",
   "version": "3.8.10"
  }
 },
 "nbformat": 4,
 "nbformat_minor": 5
}
