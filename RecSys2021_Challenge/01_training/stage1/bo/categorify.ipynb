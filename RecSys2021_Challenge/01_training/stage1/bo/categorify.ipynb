{
 "cells": [
  {
   "cell_type": "code",
   "execution_count": null,
   "id": "29f8f3cc",
   "metadata": {},
   "outputs": [],
   "source": [
    "# Copyright 2021 NVIDIA CORPORATION\n",
    "#\n",
    "# Licensed under the Apache License, Version 2.0 (the \"License\");\n",
    "# you may not use this file except in compliance with the License.\n",
    "# You may obtain a copy of the License at\n",
    "#\n",
    "#     http://www.apache.org/licenses/LICENSE-2.0\n",
    "#\n",
    "# Unless required by applicable law or agreed to in writing, software\n",
    "# distributed under the License is distributed on an \"AS IS\" BASIS,\n",
    "# WITHOUT WARRANTIES OR CONDITIONS OF ANY KIND, either express or implied.\n",
    "# See the License for the specific language governing permissions and\n",
    "# limitations under the License."
   ]
  },
  {
   "cell_type": "markdown",
   "id": "ecc74764-efe6-4c39-8869-c40ae47d0730",
   "metadata": {},
   "source": [
    "# categorify"
   ]
  },
  {
   "cell_type": "code",
   "execution_count": 2,
   "id": "ff27f4e7-fb8f-4b7a-874f-46f7d4341042",
   "metadata": {},
   "outputs": [],
   "source": [
    "import nvtabular as nvt\n",
    "import glob\n",
    "import pandas as pd\n",
    "import numpy as np\n",
    "import cudf\n",
    "import cupy\n",
    "import gc"
   ]
  },
  {
   "cell_type": "code",
   "execution_count": 3,
   "id": "767fd91a-6780-4e9a-91aa-6e496aaa7787",
   "metadata": {},
   "outputs": [
    {
     "data": {
      "text/plain": [
       "232"
      ]
     },
     "execution_count": 3,
     "metadata": {},
     "output_type": "execute_result"
    }
   ],
   "source": [
    "train_lst = sorted(glob.glob('/raid/recsys/train_proc3/*parquet'))\n",
    "len(train_lst)"
   ]
  },
  {
   "cell_type": "code",
   "execution_count": 4,
   "id": "c45f27fd-4207-45f0-951d-24d6b2c01968",
   "metadata": {},
   "outputs": [],
   "source": [
    "train_dataset = nvt.Dataset(train_lst)\n",
    "# valid_dataset = nvt.Dataset(sorted(glob.glob('/raid/recsys_pre_TE_w_tok/valid_norm_20parts/*parquet')), part_size=\"128MB\")"
   ]
  },
  {
   "cell_type": "code",
   "execution_count": 47,
   "id": "9372440a-3714-498a-b369-39e318900275",
   "metadata": {},
   "outputs": [
    {
     "data": {
      "text/plain": [
       "<nvtabular.workflow.Workflow at 0x7f703e222610>"
      ]
     },
     "execution_count": 47,
     "metadata": {},
     "output_type": "execute_result"
    }
   ],
   "source": [
    "CATEGORICAL_COLUMNS = ['media', 'tweet_type', 'language', 'a_user_id','b_user_id']\n",
    "\n",
    "cat_features = CATEGORICAL_COLUMNS >> nvt.ops.Categorify(freq_threshold = \n",
    "                                                         {'media':0, 'tweet_type':0, 'language':0, 'a_user_id':50,'b_user_id':50})\n",
    "# cont_features = nvt.ColumnGroup(np.setdiff1d(valid.columns, CATEGORICAL_COLUMNS+label_names).tolist())\n",
    "# labels = nvt.ColumnGroup(label_names)\n",
    "workflow = nvt.Workflow(cat_features)\n",
    "workflow"
   ]
  },
  {
   "cell_type": "code",
   "execution_count": 48,
   "id": "cee9471b-331e-42dc-9646-2e48395d79a2",
   "metadata": {
    "tags": []
   },
   "outputs": [
    {
     "name": "stdout",
     "output_type": "stream",
     "text": [
      "CPU times: user 49.5 s, sys: 25.9 s, total: 1min 15s\n",
      "Wall time: 1min 32s\n"
     ]
    }
   ],
   "source": [
    "%%time\n",
    "workflow.fit(train_dataset) "
   ]
  },
  {
   "cell_type": "code",
   "execution_count": 49,
   "id": "ae392999-0fff-4f52-b55b-6a274839549c",
   "metadata": {},
   "outputs": [
    {
     "data": {
      "text/plain": [
       "{'a_user_id': (1796156, 512),\n",
       " 'b_user_id': (2505030, 512),\n",
       " 'language': (67, 17),\n",
       " 'media': (15, 16),\n",
       " 'tweet_type': (4, 16)}"
      ]
     },
     "execution_count": 49,
     "metadata": {},
     "output_type": "execute_result"
    }
   ],
   "source": [
    "nvt.ops.get_embedding_sizes(workflow) # emb size changed after fitting\n",
    "\n",
    "# first 20 parts\n",
    "# thr=5, {'a_user_id': (1336817, 512),'b_user_id': (1846029, 512), 'language': (67, 17), 'media': (14, 16), 'tweet_type': (4, 16)}\n",
    "# thr=6, {'a_user_id': (1071277, 512),'b_user_id': (1462504, 512),\n",
    "# thr=7, {'a_user_id': (888552, 512), 'b_user_id': (1200582, 512),\n",
    "# thr=8, {'a_user_id': (755702, 512), 'b_user_id': (1011381, 512),\n",
    "# thr=9, {'a_user_id': (656096, 512), 'b_user_id': (868034, 512),\n",
    "\n",
    "# 164 parts\n",
    "# thr=20, {'a_user_id': (3194801, 512), 'b_user_id': (4538284, 512), 'language': (67, 17), 'media': (15, 16), 'tweet_type': (4, 16)}\n",
    "# thr=30, {'a_user_id': (2179810, 512), 'b_user_id': (3056202, 512), 'language': (67, 17), 'media': (15, 16), 'tweet_type': (4, 16)}\n",
    "# thr=50, {'a_user_id': (1299012, 512), 'b_user_id': (1791273, 512), 'language': (67, 17), 'media': (15, 16), 'tweet_type': (4, 16)}\n",
    "\n",
    "# 232 parts\n",
    "# thr=100, {'a_user_id': (873946, 512), 'b_user_id': (1182355, 512), 'language': (67, 17), 'media': (15, 16), 'tweet_type': (4, 16)}\n",
    "# thr=50,  {'a_user_id': (1796156, 512),'b_user_id': (2505030, 512), 'language': (67, 17), 'media': (15, 16), 'tweet_type': (4, 16)}"
   ]
  },
  {
   "cell_type": "code",
   "execution_count": 50,
   "id": "c0ade21c-d2b4-41d7-854b-8735c2b9a4b9",
   "metadata": {},
   "outputs": [],
   "source": [
    "workflow.save('/raid/recsys_pre_TE_w_tok/workflow_232parts_thr50')"
   ]
  },
  {
   "cell_type": "markdown",
   "id": "9cb6bf35-8bf5-401b-928f-12f2cf596eff",
   "metadata": {},
   "source": [
    "## manually combine a_user_id and b_user_id"
   ]
  },
  {
   "cell_type": "code",
   "execution_count": 51,
   "id": "37f1adfd-e9ee-4c14-bb6c-bf5da626083c",
   "metadata": {},
   "outputs": [
    {
     "name": "stdout",
     "output_type": "stream",
     "text": [
      "total 33M\n",
      "-rw-rw-r-- 1 bo bo 415 May 27 11:36 unique.tweet_type.parquet\n",
      "-rw-rw-r-- 1 bo bo 443 May 27 11:36 unique.media.parquet\n",
      "-rw-rw-r-- 1 bo bo 670 May 27 11:36 unique.language.parquet\n",
      "-rw-rw-r-- 1 bo bo 14M May 27 11:36 unique.a_user_id.parquet\n",
      "-rw-rw-r-- 1 bo bo 20M May 27 11:36 unique.b_user_id.parquet\n"
     ]
    }
   ],
   "source": [
    "!ls -lrth /raid/recsys_pre_TE_w_tok/workflow_232parts_thr50/categories/"
   ]
  },
  {
   "cell_type": "code",
   "execution_count": 52,
   "id": "fc26456b-54f6-4fc5-8928-58267c75a3b6",
   "metadata": {},
   "outputs": [
    {
     "data": {
      "text/plain": [
       "((1796156, 1), (2505030, 1))"
      ]
     },
     "execution_count": 52,
     "metadata": {},
     "output_type": "execute_result"
    }
   ],
   "source": [
    "dfa = pd.read_parquet('/raid/recsys_pre_TE_w_tok/workflow_232parts_thr50/categories/unique.a_user_id.parquet')\n",
    "dfb = pd.read_parquet('/raid/recsys_pre_TE_w_tok/workflow_232parts_thr50/categories/unique.b_user_id.parquet')\n",
    "dfa.shape, dfb.shape"
   ]
  },
  {
   "cell_type": "code",
   "execution_count": 60,
   "id": "563d84d2-3fdb-4484-a4c0-201466a80808",
   "metadata": {},
   "outputs": [
    {
     "data": {
      "text/plain": [
       "(529770,)"
      ]
     },
     "execution_count": 60,
     "metadata": {},
     "output_type": "execute_result"
    }
   ],
   "source": [
    "np.intersect1d(dfa.a_user_id.values, dfb.b_user_id.values).shape"
   ]
  },
  {
   "cell_type": "code",
   "execution_count": 63,
   "id": "c9673b6e-901c-43d9-ad41-bcec303f006f",
   "metadata": {},
   "outputs": [
    {
     "data": {
      "text/plain": [
       "(3771416,)"
      ]
     },
     "execution_count": 63,
     "metadata": {},
     "output_type": "execute_result"
    }
   ],
   "source": [
    "np.union1d(dfa.a_user_id.values, dfb.b_user_id.values).shape"
   ]
  },
  {
   "cell_type": "code",
   "execution_count": 70,
   "id": "f99fc57e-0823-4095-81f0-e6873c2f5d4b",
   "metadata": {},
   "outputs": [
    {
     "data": {
      "text/plain": [
       "4301186"
      ]
     },
     "execution_count": 70,
     "metadata": {},
     "output_type": "execute_result"
    }
   ],
   "source": [
    "1796156 + 2505030"
   ]
  },
  {
   "cell_type": "code",
   "execution_count": null,
   "id": "b7f35b47-05e9-4d2b-9ca4-273deae66ba4",
   "metadata": {},
   "outputs": [],
   "source": [
    "4558283"
   ]
  },
  {
   "cell_type": "code",
   "execution_count": null,
   "id": "84ace12c-852d-4c00-9721-109d9c5d26cf",
   "metadata": {},
   "outputs": [],
   "source": []
  },
  {
   "cell_type": "code",
   "execution_count": null,
   "id": "3e544af7-d0ff-4352-807a-b56f9e0844ba",
   "metadata": {},
   "outputs": [],
   "source": []
  },
  {
   "cell_type": "markdown",
   "id": "1f59e14e-bc66-4300-8632-72f4b41eb360",
   "metadata": {},
   "source": [
    "# categorify: combine a_user and b_user"
   ]
  },
  {
   "cell_type": "code",
   "execution_count": 3,
   "id": "bd22bf25-ed83-4b47-8a84-b01224d28ec3",
   "metadata": {},
   "outputs": [],
   "source": [
    "import nvtabular as nvt\n",
    "import glob\n",
    "import pandas as pd\n",
    "import numpy as np\n",
    "import cudf\n",
    "import cupy\n",
    "import gc"
   ]
  },
  {
   "cell_type": "code",
   "execution_count": 4,
   "id": "5aac6add-3f9a-4464-a311-cb32607d023d",
   "metadata": {},
   "outputs": [
    {
     "data": {
      "text/plain": [
       "232"
      ]
     },
     "execution_count": 4,
     "metadata": {},
     "output_type": "execute_result"
    }
   ],
   "source": [
    "train_lst = sorted(glob.glob('/raid/recsys/train_proc3/*parquet'))\n",
    "len(train_lst)"
   ]
  },
  {
   "cell_type": "code",
   "execution_count": 5,
   "id": "c5a9d49d-df0f-4143-ae29-ad57f7fa4673",
   "metadata": {},
   "outputs": [
    {
     "data": {
      "text/plain": [
       "{'language': (67, 17),\n",
       " 'media': (15, 16),\n",
       " 'tweet_type': (4, 16),\n",
       " 'a_user_id': (0, 16),\n",
       " 'b_user_id': (0, 16)}"
      ]
     },
     "execution_count": 5,
     "metadata": {},
     "output_type": "execute_result"
    }
   ],
   "source": [
    "train_dataset = nvt.Dataset(train_lst)\n",
    "\n",
    "cat_features1 = [['a_user_id','b_user_id']] >> nvt.ops.Categorify(freq_threshold = 10, encode_type = 'joint')\n",
    "cat_features2 = [['media'], ['tweet_type'], ['language']] >> nvt.ops.Categorify()\n",
    "\n",
    "workflow = nvt.Workflow(cat_features1 + cat_features2)\n",
    "workflow.fit(train_dataset) \n",
    "nvt.ops.get_embedding_sizes(workflow) # emb size changed after fitting"
   ]
  },
  {
   "cell_type": "code",
   "execution_count": 6,
   "id": "9125d4c6-3e8c-40c0-8c55-785413c0decb",
   "metadata": {},
   "outputs": [],
   "source": [
    "workflow.save('/raid/recsys_pre_TE_w_tok/workflow_232parts_joint_thr10')"
   ]
  },
  {
   "cell_type": "code",
   "execution_count": 7,
   "id": "9df74acd-eb34-44f4-9630-0fcaa63810a0",
   "metadata": {},
   "outputs": [
    {
     "name": "stdout",
     "output_type": "stream",
     "text": [
      "total 118M\n",
      "-rw-rw-r-- 1 bo bo  415 Jun  7 16:56 unique.tweet_type.parquet\n",
      "-rw-rw-r-- 1 bo bo  443 Jun  7 16:56 unique.media.parquet\n",
      "-rw-rw-r-- 1 bo bo  670 Jun  7 16:56 unique.language.parquet\n",
      "-rw-rw-r-- 1 bo bo 118M Jun  7 16:56 unique.a_user_id_b_user_id.parquet\n"
     ]
    }
   ],
   "source": [
    "!ls -lrth /raid/recsys_pre_TE_w_tok/workflow_232parts_joint_thr10/categories"
   ]
  },
  {
   "cell_type": "code",
   "execution_count": 12,
   "id": "b258ccaf-4f9b-47eb-bcde-080f014b284b",
   "metadata": {},
   "outputs": [
    {
     "data": {
      "text/plain": [
       "(8244536, 1)"
      ]
     },
     "execution_count": 12,
     "metadata": {},
     "output_type": "execute_result"
    }
   ],
   "source": [
    "pd.read_parquet('/raid/recsys_pre_TE_w_tok/workflow_232parts_joint_thr25/categories/unique.a_user_id_b_user_id.parquet').shape"
   ]
  },
  {
   "cell_type": "code",
   "execution_count": 8,
   "id": "20a9181e-e87c-4593-8dee-3bfc32dbbd0d",
   "metadata": {},
   "outputs": [
    {
     "data": {
      "text/plain": [
       "(15453524, 1)"
      ]
     },
     "execution_count": 8,
     "metadata": {},
     "output_type": "execute_result"
    }
   ],
   "source": [
    "pd.read_parquet('/raid/recsys_pre_TE_w_tok/workflow_232parts_joint_thr10/categories/unique.a_user_id_b_user_id.parquet').shape"
   ]
  },
  {
   "cell_type": "code",
   "execution_count": null,
   "id": "1460bf87-cba5-4556-80a7-484e0f122a18",
   "metadata": {},
   "outputs": [],
   "source": []
  },
  {
   "cell_type": "code",
   "execution_count": null,
   "id": "a36ee640-8155-4a30-80c7-77d1672ada9b",
   "metadata": {},
   "outputs": [],
   "source": []
  },
  {
   "cell_type": "code",
   "execution_count": 10,
   "id": "46cbe371-a5b0-45b7-92ec-d5e85d0276ff",
   "metadata": {},
   "outputs": [
    {
     "data": {
      "text/plain": [
       "{'language': (67, 17),\n",
       " 'media': (15, 16),\n",
       " 'tweet_type': (4, 16),\n",
       " 'a_user_id': (0, 16),\n",
       " 'b_user_id': (0, 16)}"
      ]
     },
     "execution_count": 10,
     "metadata": {},
     "output_type": "execute_result"
    }
   ],
   "source": [
    "nvt.ops.get_embedding_sizes(workflow) # emb size changed after fitting\n",
    "\n",
    "# 232 parts\n",
    "# thr=100, {'a_user_id': (873946, 512), 'b_user_id': (1182355, 512), 'language': (67, 17), 'media': (15, 16), 'tweet_type': (4, 16)}\n",
    "# thr=50,  {'a_user_id': (1796156, 512),'b_user_id': (2505030, 512), 'language': (67, 17), 'media': (15, 16), 'tweet_type': (4, 16)}\n",
    "# thr=100, joint {'a_user_id_b_user_id: 2278664}\n",
    "# thr=50,  joint {'a_user_id_b_user_id: 4558283}\n",
    "# thr=25,  joint {'a_user_id_b_user_id: 8244536}\n",
    "\n",
    "# first 2 parts \n",
    "# thr=0, combo    {'a_user_id_b_user_id': (6139816, 512), 'language': (67, 17), 'media': (14, 16), 'tweet_type': (4, 16)}\n",
    "# thr=0, separate {'a_user_id': (2612617, 512), 'b_user_id': (3769546, 512), 'language': (67, 17), 'media': (14, 16), 'tweet_type': (4, 16)}"
   ]
  },
  {
   "cell_type": "markdown",
   "id": "95ad00eb-97d9-4502-89de-6fa2076b1baa",
   "metadata": {},
   "source": [
    "# categorify: combine a_user and b_user (positive rows only)"
   ]
  },
  {
   "cell_type": "code",
   "execution_count": 1,
   "id": "7130083c-61a4-46a5-9851-f0a08cfd520a",
   "metadata": {},
   "outputs": [],
   "source": [
    "import nvtabular as nvt\n",
    "import glob\n",
    "import pandas as pd\n",
    "import numpy as np\n",
    "import cudf\n",
    "import cupy\n",
    "import gc"
   ]
  },
  {
   "cell_type": "code",
   "execution_count": 2,
   "id": "8099687e-4d02-4194-9262-1b4a095d8d53",
   "metadata": {},
   "outputs": [
    {
     "data": {
      "text/plain": [
       "232"
      ]
     },
     "execution_count": 2,
     "metadata": {},
     "output_type": "execute_result"
    }
   ],
   "source": [
    "train_lst = sorted(glob.glob('/raid/recsys/train_proc3_pos/*parquet'))\n",
    "len(train_lst)"
   ]
  },
  {
   "cell_type": "code",
   "execution_count": 11,
   "id": "975d7afd-4081-4ad3-b522-a79f28e6e5aa",
   "metadata": {},
   "outputs": [
    {
     "data": {
      "text/plain": [
       "{'language': (67, 17),\n",
       " 'media': (14, 16),\n",
       " 'tweet_type': (4, 16),\n",
       " 'a_user_id': (0, 16),\n",
       " 'b_user_id': (0, 16)}"
      ]
     },
     "execution_count": 11,
     "metadata": {},
     "output_type": "execute_result"
    }
   ],
   "source": [
    "train_dataset = nvt.Dataset(train_lst)\n",
    "\n",
    "cat_features1 = [['a_user_id','b_user_id']] >> nvt.ops.Categorify(freq_threshold = 3, encode_type = 'joint')\n",
    "cat_features2 = [['media'], ['tweet_type'], ['language']] >> nvt.ops.Categorify()\n",
    "\n",
    "workflow = nvt.Workflow(cat_features1 + cat_features2)\n",
    "workflow.fit(train_dataset) \n",
    "nvt.ops.get_embedding_sizes(workflow) # emb size changed after fitting"
   ]
  },
  {
   "cell_type": "code",
   "execution_count": 12,
   "id": "da738f7b-678d-4c5f-aa17-15521d5545eb",
   "metadata": {},
   "outputs": [],
   "source": [
    "workflow.save('/raid/recsys_pre_TE_w_tok/workflow_232parts_joint_thr3_pos')"
   ]
  },
  {
   "cell_type": "code",
   "execution_count": 13,
   "id": "5ecc0d37-7dfe-4e2f-97d0-09fc8dea4442",
   "metadata": {},
   "outputs": [
    {
     "name": "stdout",
     "output_type": "stream",
     "text": [
      "total 151M\n",
      "-rw-rw-r-- 1 bo bo  415 Jun 10 10:48 unique.tweet_type.parquet\n",
      "-rw-rw-r-- 1 bo bo  439 Jun 10 10:48 unique.media.parquet\n",
      "-rw-rw-r-- 1 bo bo  670 Jun 10 10:48 unique.language.parquet\n",
      "-rw-rw-r-- 1 bo bo 151M Jun 10 10:48 unique.a_user_id_b_user_id.parquet\n"
     ]
    }
   ],
   "source": [
    "!ls -lrth /raid/recsys_pre_TE_w_tok/workflow_232parts_joint_thr3_pos/categories"
   ]
  },
  {
   "cell_type": "code",
   "execution_count": 12,
   "id": "7f939747-dd9a-41d9-bb68-9ab8c50d8825",
   "metadata": {},
   "outputs": [
    {
     "data": {
      "text/plain": [
       "(8244536, 1)"
      ]
     },
     "execution_count": 12,
     "metadata": {},
     "output_type": "execute_result"
    }
   ],
   "source": [
    "pd.read_parquet('/raid/recsys_pre_TE_w_tok/workflow_232parts_joint_thr25/categories/unique.a_user_id_b_user_id.parquet').shape"
   ]
  },
  {
   "cell_type": "code",
   "execution_count": 8,
   "id": "46c245fa-f0e3-4bf9-9cb7-ed06e121fc44",
   "metadata": {},
   "outputs": [
    {
     "data": {
      "text/plain": [
       "(15453524, 1)"
      ]
     },
     "execution_count": 8,
     "metadata": {},
     "output_type": "execute_result"
    }
   ],
   "source": [
    "pd.read_parquet('/raid/recsys_pre_TE_w_tok/workflow_232parts_joint_thr10/categories/unique.a_user_id_b_user_id.parquet').shape"
   ]
  },
  {
   "cell_type": "code",
   "execution_count": 6,
   "id": "da97feb1-e5cf-44a5-b3e1-208bd129825d",
   "metadata": {},
   "outputs": [
    {
     "data": {
      "text/plain": [
       "(8753003, 1)"
      ]
     },
     "execution_count": 6,
     "metadata": {},
     "output_type": "execute_result"
    }
   ],
   "source": [
    "pd.read_parquet('/raid/recsys_pre_TE_w_tok/workflow_232parts_joint_thr10_pos/categories/unique.a_user_id_b_user_id.parquet').shape"
   ]
  },
  {
   "cell_type": "code",
   "execution_count": 6,
   "id": "8e66fcb4-dbd5-475f-9a94-20e99a9bdfb3",
   "metadata": {},
   "outputs": [
    {
     "data": {
      "text/plain": [
       "(14194639, 1)"
      ]
     },
     "execution_count": 6,
     "metadata": {},
     "output_type": "execute_result"
    }
   ],
   "source": [
    "pd.read_parquet('/raid/recsys_pre_TE_w_tok/workflow_232parts_joint_thr5_pos/categories/unique.a_user_id_b_user_id.parquet').shape"
   ]
  },
  {
   "cell_type": "code",
   "execution_count": 10,
   "id": "6adad5b5-0523-4cad-b545-2b4cfc0226e4",
   "metadata": {},
   "outputs": [
    {
     "data": {
      "text/plain": [
       "(16397664, 1)"
      ]
     },
     "execution_count": 10,
     "metadata": {},
     "output_type": "execute_result"
    }
   ],
   "source": [
    "pd.read_parquet('/raid/recsys_pre_TE_w_tok/workflow_232parts_joint_thr4_pos/categories/unique.a_user_id_b_user_id.parquet').shape"
   ]
  },
  {
   "cell_type": "code",
   "execution_count": 14,
   "id": "4ea9df85-b68c-4bfa-8046-24c9b8dbbecf",
   "metadata": {},
   "outputs": [
    {
     "data": {
      "text/plain": [
       "(19688213, 1)"
      ]
     },
     "execution_count": 14,
     "metadata": {},
     "output_type": "execute_result"
    }
   ],
   "source": [
    "pd.read_parquet('/raid/recsys_pre_TE_w_tok/workflow_232parts_joint_thr3_pos/categories/unique.a_user_id_b_user_id.parquet').shape"
   ]
  },
  {
   "cell_type": "code",
   "execution_count": 16,
   "id": "61d88c57-f193-4410-a93e-51597290268e",
   "metadata": {},
   "outputs": [
    {
     "data": {
      "text/plain": [
       "5.223512339321439"
      ]
     },
     "execution_count": 16,
     "metadata": {},
     "output_type": "execute_result"
    }
   ],
   "source": [
    "19688213/15453524 * 4.1"
   ]
  },
  {
   "cell_type": "code",
   "execution_count": null,
   "id": "10345bcb-34e2-4e60-bc65-3657d8a08243",
   "metadata": {},
   "outputs": [],
   "source": []
  }
 ],
 "metadata": {
  "kernelspec": {
   "display_name": "Python 3 (ipykernel)",
   "language": "python",
   "name": "python3"
  },
  "language_info": {
   "codemirror_mode": {
    "name": "ipython",
    "version": 3
   },
   "file_extension": ".py",
   "mimetype": "text/x-python",
   "name": "python",
   "nbconvert_exporter": "python",
   "pygments_lexer": "ipython3",
   "version": "3.8.10"
  }
 },
 "nbformat": 4,
 "nbformat_minor": 5
}
