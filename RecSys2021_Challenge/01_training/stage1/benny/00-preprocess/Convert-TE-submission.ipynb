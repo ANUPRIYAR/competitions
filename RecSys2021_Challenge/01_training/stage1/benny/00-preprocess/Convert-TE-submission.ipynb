{
 "cells": [
  {
   "cell_type": "code",
   "execution_count": null,
   "id": "7c4bf1ef",
   "metadata": {},
   "outputs": [],
   "source": [
    "# Copyright 2021 NVIDIA CORPORATION\n",
    "#\n",
    "# Licensed under the Apache License, Version 2.0 (the \"License\");\n",
    "# you may not use this file except in compliance with the License.\n",
    "# You may obtain a copy of the License at\n",
    "#\n",
    "#     http://www.apache.org/licenses/LICENSE-2.0\n",
    "#\n",
    "# Unless required by applicable law or agreed to in writing, software\n",
    "# distributed under the License is distributed on an \"AS IS\" BASIS,\n",
    "# WITHOUT WARRANTIES OR CONDITIONS OF ANY KIND, either express or implied.\n",
    "# See the License for the specific language governing permissions and\n",
    "# limitations under the License."
   ]
  },
  {
   "cell_type": "code",
   "execution_count": 1,
   "id": "consistent-treasure",
   "metadata": {},
   "outputs": [],
   "source": [
    "import pandas as pd\n",
    "import numpy as np\n",
    "\n",
    "import glob"
   ]
  },
  {
   "cell_type": "code",
   "execution_count": 2,
   "id": "seventh-cuisine",
   "metadata": {},
   "outputs": [],
   "source": [
    "TE_files = glob.glob('/raid/TE_submission/*.parquet')"
   ]
  },
  {
   "cell_type": "code",
   "execution_count": 3,
   "id": "floating-remains",
   "metadata": {},
   "outputs": [
    {
     "data": {
      "text/plain": [
       "['/raid/TE_submission/b_is_verified_tweet_type.parquet',\n",
       " '/raid/TE_submission/domains_language_b_follows_a_tweet_type_media_a_is_verified.parquet',\n",
       " '/raid/TE_submission/tw_original_user0_tweet_type_language.parquet',\n",
       " '/raid/TE_submission/tw_original_user1_tweet_type_language.parquet',\n",
       " '/raid/TE_submission/b_user_id_tweet_type_language.parquet',\n",
       " '/raid/TE_submission/tweet_type.parquet',\n",
       " '/raid/TE_submission/a_user_id.parquet',\n",
       " '/raid/TE_submission/media_tweet_type_language_a_is_verified_b_is_verified_b_follows_a.parquet',\n",
       " '/raid/TE_submission/b_user_id_a_user_id.parquet',\n",
       " '/raid/TE_submission/b_user_id.parquet',\n",
       " '/raid/TE_submission/media_tweet_type_language.parquet']"
      ]
     },
     "execution_count": 3,
     "metadata": {},
     "output_type": "execute_result"
    }
   ],
   "source": [
    "TE_files"
   ]
  },
  {
   "cell_type": "code",
   "execution_count": 4,
   "id": "straight-balloon",
   "metadata": {},
   "outputs": [
    {
     "name": "stdout",
     "output_type": "stream",
     "text": [
      "/bin/bash: /opt/conda/lib/libtinfo.so.6: no version information available (required by /bin/bash)\n",
      "rm: cannot remove '/raid/TE_submission_opt': Is a directory\n",
      "/bin/bash: /opt/conda/lib/libtinfo.so.6: no version information available (required by /bin/bash)\n",
      "mkdir: cannot create directory ‘/raid/TE_submission_opt’: File exists\n"
     ]
    }
   ],
   "source": [
    "!rm /raid/TE_submission_opt\n",
    "!mkdir /raid/TE_submission_opt"
   ]
  },
  {
   "cell_type": "code",
   "execution_count": 5,
   "id": "institutional-adventure",
   "metadata": {},
   "outputs": [],
   "source": [
    "TE_filter = [\n",
    "    #'/raid/TE_submission/b_user_id.parquet',\n",
    "    #'/raid/TE_submission/a_user_id.parquet',\n",
    "    '/raid/TE_submission/b_user_id_tweet_type_language.parquet'\n",
    "]"
   ]
  },
  {
   "cell_type": "code",
   "execution_count": 6,
   "id": "alternative-flush",
   "metadata": {},
   "outputs": [
    {
     "name": "stdout",
     "output_type": "stream",
     "text": [
      "/raid/TE_submission/b_is_verified_tweet_type.parquet\n",
      "/raid/TE_submission/domains_language_b_follows_a_tweet_type_media_a_is_verified.parquet\n",
      "/raid/TE_submission/tw_original_user0_tweet_type_language.parquet\n",
      "/raid/TE_submission/tw_original_user1_tweet_type_language.parquet\n",
      "/raid/TE_submission/b_user_id_tweet_type_language.parquet\n",
      "filter\n",
      "/raid/TE_submission/tweet_type.parquet\n",
      "/raid/TE_submission/a_user_id.parquet\n",
      "/raid/TE_submission/media_tweet_type_language_a_is_verified_b_is_verified_b_follows_a.parquet\n",
      "/raid/TE_submission/b_user_id_a_user_id.parquet\n",
      "/raid/TE_submission/b_user_id.parquet\n",
      "/raid/TE_submission/media_tweet_type_language.parquet\n"
     ]
    }
   ],
   "source": [
    "for file in TE_files:\n",
    "    print(file)\n",
    "    df = pd.read_parquet(file)\n",
    "    if file in TE_filter:\n",
    "        print('filter')\n",
    "        df = df[df['reply_count']>1].copy()\n",
    "    for col in list(df.columns):\n",
    "        if col not in ['a_user_id', 'b_user_id', 'tw_original_user0', 'tw_original_user1']:\n",
    "            df[col] = pd.to_numeric(df[col], downcast='integer')\n",
    "    df.to_parquet(file.replace('/TE_submission/', '/TE_submission_opt/'))"
   ]
  },
  {
   "cell_type": "code",
   "execution_count": 7,
   "id": "urban-partnership",
   "metadata": {},
   "outputs": [
    {
     "name": "stdout",
     "output_type": "stream",
     "text": [
      "/bin/bash: /opt/conda/lib/libtinfo.so.6: no version information available (required by /bin/bash)\r\n",
      "557M\t/raid/TE_submission/a_user_id.parquet\r\n",
      "24K\t/raid/TE_submission/b_is_verified_tweet_type.parquet\r\n",
      "756M\t/raid/TE_submission/b_user_id.parquet\r\n",
      "802M\t/raid/TE_submission/b_user_id_a_user_id.parquet\r\n",
      "2.3G\t/raid/TE_submission/b_user_id_tweet_type_language.parquet\r\n",
      "45M\t/raid/TE_submission/domains_language_b_follows_a_tweet_type_media_a_is_verified.parquet\r\n",
      "60K\t/raid/TE_submission/media_tweet_type_language.parquet\r\n",
      "180K\t/raid/TE_submission/media_tweet_type_language_a_is_verified_b_is_verified_b_follows_a.parquet\r\n",
      "205M\t/raid/TE_submission/tw_original_user0_tweet_type_language.parquet\r\n",
      "74M\t/raid/TE_submission/tw_original_user1_tweet_type_language.parquet\r\n",
      "24K\t/raid/TE_submission/tweet_type.parquet\r\n"
     ]
    }
   ],
   "source": [
    "!du -sh /raid/TE_submission/*"
   ]
  },
  {
   "cell_type": "code",
   "execution_count": 1,
   "id": "unexpected-silence",
   "metadata": {},
   "outputs": [
    {
     "name": "stdout",
     "output_type": "stream",
     "text": [
      "/bin/bash: /opt/conda/lib/libtinfo.so.6: no version information available (required by /bin/bash)\r\n",
      "396M\t/raid/TE_submission_opt/a_user_id.parquet\r\n",
      "8.0K\t/raid/TE_submission_opt/b_is_verified_tweet_type.parquet\r\n",
      "536M\t/raid/TE_submission_opt/b_user_id.parquet\r\n",
      "802M\t/raid/TE_submission_opt/b_user_id_a_user_id.parquet\r\n",
      "755M\t/raid/TE_submission_opt/b_user_id_tweet_type_language.parquet\r\n",
      "29M\t/raid/TE_submission_opt/domains_language_b_follows_a_tweet_type_media_a_is_verified.parquet\r\n",
      "40K\t/raid/TE_submission_opt/media_tweet_type_language.parquet\r\n",
      "128K\t/raid/TE_submission_opt/media_tweet_type_language_a_is_verified_b_is_verified_b_follows_a.parquet\r\n",
      "109M\t/raid/TE_submission_opt/tw_original_user0_tweet_type_language.parquet\r\n",
      "41M\t/raid/TE_submission_opt/tw_original_user1_tweet_type_language.parquet\r\n",
      "8.0K\t/raid/TE_submission_opt/tweet_type.parquet\r\n"
     ]
    }
   ],
   "source": [
    "!du -sh /raid/TE_submission_opt/*"
   ]
  }
 ],
 "metadata": {
  "kernelspec": {
   "display_name": "Python 3 (ipykernel)",
   "language": "python",
   "name": "python3"
  },
  "language_info": {
   "codemirror_mode": {
    "name": "ipython",
    "version": 3
   },
   "file_extension": ".py",
   "mimetype": "text/x-python",
   "name": "python",
   "nbconvert_exporter": "python",
   "pygments_lexer": "ipython3",
   "version": "3.8.10"
  }
 },
 "nbformat": 4,
 "nbformat_minor": 5
}
