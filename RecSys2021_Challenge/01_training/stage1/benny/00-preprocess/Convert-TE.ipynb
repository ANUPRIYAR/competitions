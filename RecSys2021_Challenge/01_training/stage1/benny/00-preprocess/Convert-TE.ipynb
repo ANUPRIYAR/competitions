{
 "cells": [
  {
   "cell_type": "code",
   "execution_count": null,
   "id": "b23284ef",
   "metadata": {},
   "outputs": [],
   "source": [
    "# Copyright 2021 NVIDIA CORPORATION\n",
    "#\n",
    "# Licensed under the Apache License, Version 2.0 (the \"License\");\n",
    "# you may not use this file except in compliance with the License.\n",
    "# You may obtain a copy of the License at\n",
    "#\n",
    "#     http://www.apache.org/licenses/LICENSE-2.0\n",
    "#\n",
    "# Unless required by applicable law or agreed to in writing, software\n",
    "# distributed under the License is distributed on an \"AS IS\" BASIS,\n",
    "# WITHOUT WARRANTIES OR CONDITIONS OF ANY KIND, either express or implied.\n",
    "# See the License for the specific language governing permissions and\n",
    "# limitations under the License."
   ]
  },
  {
   "cell_type": "code",
   "execution_count": 1,
   "id": "consistent-treasure",
   "metadata": {},
   "outputs": [],
   "source": [
    "import pandas as pd\n",
    "import numpy as np\n",
    "\n",
    "import glob"
   ]
  },
  {
   "cell_type": "code",
   "execution_count": 2,
   "id": "seventh-cuisine",
   "metadata": {},
   "outputs": [],
   "source": [
    "TE_files = glob.glob('/raid/TE/*.parquet')"
   ]
  },
  {
   "cell_type": "code",
   "execution_count": 3,
   "id": "floating-remains",
   "metadata": {},
   "outputs": [
    {
     "data": {
      "text/plain": [
       "['/raid/TE/tw_original_user1_tweet_type_language.parquet',\n",
       " '/raid/TE/b_user_id.parquet',\n",
       " '/raid/TE/a_user_id.parquet',\n",
       " '/raid/TE/b_is_verified_tweet_type.parquet',\n",
       " '/raid/TE/b_user_id_tweet_type_language.parquet',\n",
       " '/raid/TE/domains_language_b_follows_a_tweet_type_media_a_is_verified.parquet',\n",
       " '/raid/TE/media_tweet_type_language_a_is_verified_b_is_verified_b_follows_a.parquet',\n",
       " '/raid/TE/media_tweet_type_language.parquet',\n",
       " '/raid/TE/tweet_type.parquet',\n",
       " '/raid/TE/b_user_id_a_user_id.parquet',\n",
       " '/raid/TE/tw_original_user0_tweet_type_language.parquet']"
      ]
     },
     "execution_count": 3,
     "metadata": {},
     "output_type": "execute_result"
    }
   ],
   "source": [
    "TE_files"
   ]
  },
  {
   "cell_type": "code",
   "execution_count": 4,
   "id": "straight-balloon",
   "metadata": {},
   "outputs": [
    {
     "name": "stdout",
     "output_type": "stream",
     "text": [
      "/bin/bash: /opt/conda/lib/libtinfo.so.6: no version information available (required by /bin/bash)\n",
      "rm: cannot remove '/raid/TE_opt': No such file or directory\n",
      "/bin/bash: /opt/conda/lib/libtinfo.so.6: no version information available (required by /bin/bash)\n"
     ]
    }
   ],
   "source": [
    "!rm /raid/TE_opt\n",
    "!mkdir /raid/TE_opt"
   ]
  },
  {
   "cell_type": "code",
   "execution_count": 5,
   "id": "institutional-adventure",
   "metadata": {},
   "outputs": [],
   "source": [
    "TE_filter = [\n",
    "    #'/raid/TE_submission/b_user_id.parquet',\n",
    "    #'/raid/TE_submission/a_user_id.parquet',\n",
    "    '/raid/TE_submission/b_user_id_tweet_type_language.parquet'\n",
    "]"
   ]
  },
  {
   "cell_type": "code",
   "execution_count": 6,
   "id": "alternative-flush",
   "metadata": {},
   "outputs": [
    {
     "name": "stdout",
     "output_type": "stream",
     "text": [
      "/raid/TE/tw_original_user1_tweet_type_language.parquet\n",
      "/raid/TE/b_user_id.parquet\n",
      "/raid/TE/a_user_id.parquet\n",
      "/raid/TE/b_is_verified_tweet_type.parquet\n",
      "/raid/TE/b_user_id_tweet_type_language.parquet\n",
      "/raid/TE/domains_language_b_follows_a_tweet_type_media_a_is_verified.parquet\n",
      "/raid/TE/media_tweet_type_language_a_is_verified_b_is_verified_b_follows_a.parquet\n",
      "/raid/TE/media_tweet_type_language.parquet\n",
      "/raid/TE/tweet_type.parquet\n",
      "/raid/TE/b_user_id_a_user_id.parquet\n",
      "/raid/TE/tw_original_user0_tweet_type_language.parquet\n"
     ]
    }
   ],
   "source": [
    "for file in TE_files:\n",
    "    print(file)\n",
    "    df = pd.read_parquet(file)\n",
    "    if file in TE_filter:\n",
    "        print('filter')\n",
    "        df = df[df['reply_count']>1].copy()\n",
    "    for col in list(df.columns):\n",
    "        if col not in ['a_user_id', 'b_user_id', 'tw_original_user0', 'tw_original_user1']:\n",
    "            df[col] = pd.to_numeric(df[col], downcast='integer')\n",
    "    df.to_parquet(file.replace('/TE/', '/TE_opt/'))"
   ]
  },
  {
   "cell_type": "code",
   "execution_count": 7,
   "id": "urban-partnership",
   "metadata": {},
   "outputs": [
    {
     "name": "stdout",
     "output_type": "stream",
     "text": [
      "/bin/bash: /opt/conda/lib/libtinfo.so.6: no version information available (required by /bin/bash)\r\n",
      "477M\t/raid/TE/a_user_id.parquet\r\n",
      "12K\t/raid/TE/b_is_verified_tweet_type.parquet\r\n",
      "690M\t/raid/TE/b_user_id.parquet\r\n",
      "508M\t/raid/TE/b_user_id_a_user_id.parquet\r\n",
      "1.9G\t/raid/TE/b_user_id_tweet_type_language.parquet\r\n",
      "34M\t/raid/TE/domains_language_b_follows_a_tweet_type_media_a_is_verified.parquet\r\n",
      "60K\t/raid/TE/media_tweet_type_language.parquet\r\n",
      "168K\t/raid/TE/media_tweet_type_language_a_is_verified_b_is_verified_b_follows_a.parquet\r\n",
      "152M\t/raid/TE/tw_original_user0_tweet_type_language.parquet\r\n",
      "55M\t/raid/TE/tw_original_user1_tweet_type_language.parquet\r\n",
      "12K\t/raid/TE/tweet_type.parquet\r\n"
     ]
    }
   ],
   "source": [
    "!du -sh /raid/TE/*"
   ]
  },
  {
   "cell_type": "code",
   "execution_count": 8,
   "id": "unexpected-silence",
   "metadata": {},
   "outputs": [
    {
     "name": "stdout",
     "output_type": "stream",
     "text": [
      "/bin/bash: /opt/conda/lib/libtinfo.so.6: no version information available (required by /bin/bash)\r\n",
      "338M\t/raid/TE_opt/a_user_id.parquet\r\n",
      "8.0K\t/raid/TE_opt/b_is_verified_tweet_type.parquet\r\n",
      "489M\t/raid/TE_opt/b_user_id.parquet\r\n",
      "508M\t/raid/TE_opt/b_user_id_a_user_id.parquet\r\n",
      "1.2G\t/raid/TE_opt/b_user_id_tweet_type_language.parquet\r\n",
      "23M\t/raid/TE_opt/domains_language_b_follows_a_tweet_type_media_a_is_verified.parquet\r\n",
      "36K\t/raid/TE_opt/media_tweet_type_language.parquet\r\n",
      "120K\t/raid/TE_opt/media_tweet_type_language_a_is_verified_b_is_verified_b_follows_a.parquet\r\n",
      "95M\t/raid/TE_opt/tw_original_user0_tweet_type_language.parquet\r\n",
      "35M\t/raid/TE_opt/tw_original_user1_tweet_type_language.parquet\r\n",
      "8.0K\t/raid/TE_opt/tweet_type.parquet\r\n"
     ]
    }
   ],
   "source": [
    "!du -sh /raid/TE_opt/*"
   ]
  },
  {
   "cell_type": "code",
   "execution_count": null,
   "id": "going-butter",
   "metadata": {},
   "outputs": [],
   "source": []
  }
 ],
 "metadata": {
  "kernelspec": {
   "display_name": "Python 3 (ipykernel)",
   "language": "python",
   "name": "python3"
  },
  "language_info": {
   "codemirror_mode": {
    "name": "ipython",
    "version": 3
   },
   "file_extension": ".py",
   "mimetype": "text/x-python",
   "name": "python",
   "nbconvert_exporter": "python",
   "pygments_lexer": "ipython3",
   "version": "3.8.10"
  }
 },
 "nbformat": 4,
 "nbformat_minor": 5
}
