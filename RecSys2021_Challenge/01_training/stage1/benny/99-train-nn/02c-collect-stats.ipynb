{
 "cells": [
  {
   "cell_type": "code",
   "execution_count": null,
   "id": "377219dd",
   "metadata": {},
   "outputs": [],
   "source": [
    "# Copyright 2021 NVIDIA CORPORATION\n",
    "#\n",
    "# Licensed under the Apache License, Version 2.0 (the \"License\");\n",
    "# you may not use this file except in compliance with the License.\n",
    "# You may obtain a copy of the License at\n",
    "#\n",
    "#     http://www.apache.org/licenses/LICENSE-2.0\n",
    "#\n",
    "# Unless required by applicable law or agreed to in writing, software\n",
    "# distributed under the License is distributed on an \"AS IS\" BASIS,\n",
    "# WITHOUT WARRANTIES OR CONDITIONS OF ANY KIND, either express or implied.\n",
    "# See the License for the specific language governing permissions and\n",
    "# limitations under the License."
   ]
  },
  {
   "cell_type": "code",
   "execution_count": null,
   "id": "virgin-expert",
   "metadata": {},
   "outputs": [],
   "source": [
    "import glob\n",
    "import pandas as pd\n",
    "import numpy as np\n",
    "import cudf\n",
    "import cupy\n",
    "import gc\n",
    "\n",
    "from datetime import datetime"
   ]
  },
  {
   "cell_type": "code",
   "execution_count": null,
   "id": "billion-reply",
   "metadata": {},
   "outputs": [],
   "source": [
    "files = glob.glob('/raid/recsys2021_pre_1_TE/*') + glob.glob('/raid/recsys2021_pre_2_TE/*') + glob.glob('/raid/recsys2021_pre_3_TE/*')"
   ]
  },
  {
   "cell_type": "code",
   "execution_count": null,
   "id": "filled-technique",
   "metadata": {},
   "outputs": [],
   "source": [
    "files"
   ]
  },
  {
   "cell_type": "code",
   "execution_count": null,
   "id": "patient-electronics",
   "metadata": {},
   "outputs": [],
   "source": [
    "import os, time\n",
    "os.environ[\"CUDA_VISIBLE_DEVICES\"]=\"0,1,2,3,4,5,6,7\""
   ]
  },
  {
   "cell_type": "code",
   "execution_count": null,
   "id": "greek-artwork",
   "metadata": {},
   "outputs": [],
   "source": [
    "import dask as dask, dask_cudf\n",
    "from dask.distributed import Client, wait\n",
    "from dask_cuda import LocalCUDACluster\n",
    "import subprocess"
   ]
  },
  {
   "cell_type": "code",
   "execution_count": null,
   "id": "original-concrete",
   "metadata": {},
   "outputs": [],
   "source": [
    "cluster = LocalCUDACluster(local_directory='/raid/dask5/', device_memory_limit=0.5)\n",
    "client = Client(cluster)\n",
    "client"
   ]
  },
  {
   "cell_type": "code",
   "execution_count": null,
   "id": "discrete-philippines",
   "metadata": {},
   "outputs": [],
   "source": [
    "import pandas as pd"
   ]
  },
  {
   "cell_type": "code",
   "execution_count": null,
   "id": "ultimate-syracuse",
   "metadata": {},
   "outputs": [],
   "source": [
    "df = pd.read_parquet(files)"
   ]
  },
  {
   "cell_type": "code",
   "execution_count": null,
   "id": "latter-friend",
   "metadata": {},
   "outputs": [],
   "source": [
    "TE = [x for x in df.columns if 'TE_' in x]"
   ]
  },
  {
   "cell_type": "code",
   "execution_count": null,
   "id": "focused-family",
   "metadata": {},
   "outputs": [],
   "source": [
    "ddf = dask_cudf.read_parquet(files, columns=TE)"
   ]
  },
  {
   "cell_type": "code",
   "execution_count": null,
   "id": "driven-organ",
   "metadata": {},
   "outputs": [],
   "source": [
    "xmax = ddf[TE].max().compute()\n",
    "xmin = ddf[TE].min().compute()"
   ]
  },
  {
   "cell_type": "code",
   "execution_count": null,
   "id": "dried-conference",
   "metadata": {},
   "outputs": [],
   "source": [
    "xmaxd = xmax.to_pandas().to_dict()"
   ]
  },
  {
   "cell_type": "code",
   "execution_count": null,
   "id": "plain-teens",
   "metadata": {},
   "outputs": [],
   "source": [
    "xmind = xmin.to_pandas().to_dict()"
   ]
  },
  {
   "cell_type": "code",
   "execution_count": null,
   "id": "super-exposure",
   "metadata": {},
   "outputs": [],
   "source": [
    "outdict = {}\n",
    "\n",
    "for col in xmaxd.keys():\n",
    "    outdict[col] = [xmaxd[col], xmind[col]]"
   ]
  },
  {
   "cell_type": "code",
   "execution_count": null,
   "id": "moderate-membrane",
   "metadata": {},
   "outputs": [],
   "source": [
    "len(outdict)"
   ]
  },
  {
   "cell_type": "code",
   "execution_count": null,
   "id": "human-jefferson",
   "metadata": {
    "scrolled": true
   },
   "outputs": [],
   "source": [
    "outdict"
   ]
  },
  {
   "cell_type": "code",
   "execution_count": null,
   "id": "generous-recycling",
   "metadata": {},
   "outputs": [],
   "source": [
    "client.close()"
   ]
  }
 ],
 "metadata": {
  "kernelspec": {
   "display_name": "Python 3 (ipykernel)",
   "language": "python",
   "name": "python3"
  },
  "language_info": {
   "codemirror_mode": {
    "name": "ipython",
    "version": 3
   },
   "file_extension": ".py",
   "mimetype": "text/x-python",
   "name": "python",
   "nbconvert_exporter": "python",
   "pygments_lexer": "ipython3",
   "version": "3.8.10"
  }
 },
 "nbformat": 4,
 "nbformat_minor": 5
}
