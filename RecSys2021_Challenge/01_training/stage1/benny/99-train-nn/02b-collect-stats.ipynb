{
 "cells": [
  {
   "cell_type": "code",
   "execution_count": null,
   "id": "619ec4da",
   "metadata": {},
   "outputs": [],
   "source": [
    "# Copyright 2021 NVIDIA CORPORATION\n",
    "#\n",
    "# Licensed under the Apache License, Version 2.0 (the \"License\");\n",
    "# you may not use this file except in compliance with the License.\n",
    "# You may obtain a copy of the License at\n",
    "#\n",
    "#     http://www.apache.org/licenses/LICENSE-2.0\n",
    "#\n",
    "# Unless required by applicable law or agreed to in writing, software\n",
    "# distributed under the License is distributed on an \"AS IS\" BASIS,\n",
    "# WITHOUT WARRANTIES OR CONDITIONS OF ANY KIND, either express or implied.\n",
    "# See the License for the specific language governing permissions and\n",
    "# limitations under the License."
   ]
  },
  {
   "cell_type": "code",
   "execution_count": null,
   "id": "virgin-expert",
   "metadata": {},
   "outputs": [],
   "source": [
    "import glob\n",
    "import pandas as pd\n",
    "import numpy as np\n",
    "import cudf\n",
    "import cupy\n",
    "import gc\n",
    "\n",
    "from datetime import datetime"
   ]
  },
  {
   "cell_type": "code",
   "execution_count": null,
   "id": "billion-reply",
   "metadata": {},
   "outputs": [],
   "source": [
    "files = glob.glob('/raid/recsys2021_pre_1/*') + glob.glob('/raid/recsys2021_pre_2/*') + glob.glob('/raid/recsys2021_pre_3/*')"
   ]
  },
  {
   "cell_type": "code",
   "execution_count": null,
   "id": "filled-technique",
   "metadata": {},
   "outputs": [],
   "source": [
    "files"
   ]
  },
  {
   "cell_type": "code",
   "execution_count": null,
   "id": "patient-electronics",
   "metadata": {},
   "outputs": [],
   "source": [
    "import os, time\n",
    "os.environ[\"CUDA_VISIBLE_DEVICES\"]=\"0,1,2,3,4,5,6,7\""
   ]
  },
  {
   "cell_type": "code",
   "execution_count": null,
   "id": "greek-artwork",
   "metadata": {},
   "outputs": [],
   "source": [
    "import dask as dask, dask_cudf\n",
    "from dask.distributed import Client, wait\n",
    "from dask_cuda import LocalCUDACluster\n",
    "import subprocess"
   ]
  },
  {
   "cell_type": "code",
   "execution_count": null,
   "id": "original-concrete",
   "metadata": {},
   "outputs": [],
   "source": [
    "cluster = LocalCUDACluster(local_directory='/raid/dask6/', device_memory_limit=0.5)\n",
    "client = Client(cluster)\n",
    "client"
   ]
  },
  {
   "cell_type": "code",
   "execution_count": null,
   "id": "signal-flood",
   "metadata": {},
   "outputs": [],
   "source": [
    "ddf = dask_cudf.read_parquet(files, columns=['b_user_id'])"
   ]
  },
  {
   "cell_type": "code",
   "execution_count": null,
   "id": "allied-auditor",
   "metadata": {},
   "outputs": [],
   "source": [
    "cdf = ddf['b_user_id'].value_counts().reset_index()\n",
    "cdf.columns = ['b_user_id', 'count']\n",
    "cdf.to_parquet('/raid/buserid2.parquet')"
   ]
  },
  {
   "cell_type": "code",
   "execution_count": null,
   "id": "civic-genetics",
   "metadata": {},
   "outputs": [],
   "source": [
    "ddf = dask_cudf.read_parquet(files, columns=['a_user_id'])"
   ]
  },
  {
   "cell_type": "code",
   "execution_count": null,
   "id": "funky-british",
   "metadata": {},
   "outputs": [],
   "source": [
    "cdf = ddf['a_user_id'].value_counts().reset_index()\n",
    "cdf.columns = ['a_user_id', 'count']\n",
    "cdf.to_parquet('/raid/auserid2.parquet')"
   ]
  },
  {
   "cell_type": "code",
   "execution_count": null,
   "id": "veterinary-difference",
   "metadata": {},
   "outputs": [],
   "source": [
    "client.close()"
   ]
  },
  {
   "cell_type": "code",
   "execution_count": null,
   "id": "violent-armstrong",
   "metadata": {},
   "outputs": [],
   "source": [
    "import cudf\n",
    "import gc"
   ]
  },
  {
   "cell_type": "code",
   "execution_count": null,
   "id": "junior-spain",
   "metadata": {},
   "outputs": [],
   "source": [
    "df1 = cudf.read_parquet('/raid/auserid2.parquet')\n",
    "df2 = cudf.read_parquet('/raid/buserid2.parquet')"
   ]
  },
  {
   "cell_type": "code",
   "execution_count": null,
   "id": "involved-entrance",
   "metadata": {},
   "outputs": [],
   "source": [
    "df = df1.merge(df2, how='outer', left_on='a_user_id', right_on='b_user_id')"
   ]
  },
  {
   "cell_type": "code",
   "execution_count": null,
   "id": "polyphonic-tissue",
   "metadata": {},
   "outputs": [],
   "source": [
    "del df1, df2\n",
    "gc.collect()"
   ]
  },
  {
   "cell_type": "code",
   "execution_count": null,
   "id": "alive-wayne",
   "metadata": {},
   "outputs": [],
   "source": [
    "df.columns = ['a_user_id', 'count_a', 'b_user_id', 'count_b']"
   ]
  },
  {
   "cell_type": "code",
   "execution_count": null,
   "id": "severe-sheep",
   "metadata": {},
   "outputs": [],
   "source": [
    "df['count_a'] = df['count_a'].fillna(0)\n",
    "df['count_b'] = df['count_b'].fillna(0)\n",
    "df['count'] = df['count_a'].fillna(0)+df['count_b'].fillna(0)"
   ]
  },
  {
   "cell_type": "code",
   "execution_count": null,
   "id": "sporting-institution",
   "metadata": {},
   "outputs": [],
   "source": [
    "df['user_id'] = df['b_user_id'].copy()\n",
    "df.loc[df['user_id'].isna(), 'user_id'] = df.loc[df['user_id'].isna(), 'a_user_id'].copy()"
   ]
  },
  {
   "cell_type": "code",
   "execution_count": null,
   "id": "unnecessary-pathology",
   "metadata": {},
   "outputs": [],
   "source": [
    "df.to_parquet('abusercount.parquet')"
   ]
  },
  {
   "cell_type": "code",
   "execution_count": null,
   "id": "dated-fortune",
   "metadata": {},
   "outputs": [],
   "source": [
    "dfuseremb = df[df['count_b']>7]\n",
    "dfuseremb = dfuseremb[['user_id', 'count']].reset_index()\n",
    "dfuseremb.columns = ['drop', 'user_id', 'count']\n",
    "dfuseremb = dfuseremb.reset_index()\n",
    "dfuseremb = dfuseremb.drop(['drop'], axis=1)\n",
    "dfuseremb.columns = ['user_id_', 'user_id', 'count']\n",
    "dfuseremb['user_id_'] = dfuseremb['user_id_']+1\n",
    "dfuseremb.to_parquet('./submission/abusercount.parquet')"
   ]
  },
  {
   "cell_type": "code",
   "execution_count": null,
   "id": "paperback-weekly",
   "metadata": {},
   "outputs": [],
   "source": [
    "dftmp = df[((df['count_a']>8)|(df['count_b']>8))&((df['count_a']>2)&(df['count_b']>2))]"
   ]
  },
  {
   "cell_type": "code",
   "execution_count": null,
   "id": "worse-institute",
   "metadata": {},
   "outputs": [],
   "source": [
    "dftmp = dftmp[['user_id', 'co']].reset_index()\n",
    "dftmp.columns = ['drop', 'user_id']\n",
    "dftmp = dftmp.reset_index()"
   ]
  },
  {
   "cell_type": "code",
   "execution_count": null,
   "id": "horizontal-garlic",
   "metadata": {},
   "outputs": [],
   "source": [
    "dftmp = dftmp.drop(['drop'], axis=1)"
   ]
  },
  {
   "cell_type": "code",
   "execution_count": null,
   "id": "functioning-macro",
   "metadata": {},
   "outputs": [],
   "source": [
    "dftmp.columns = ['user_id_', 'user_id']"
   ]
  },
  {
   "cell_type": "code",
   "execution_count": null,
   "id": "executed-sandwich",
   "metadata": {},
   "outputs": [],
   "source": [
    "dftmp['user_id_'] = dftmp['user_id_']+1"
   ]
  }
 ],
 "metadata": {
  "kernelspec": {
   "display_name": "Python 3 (ipykernel)",
   "language": "python",
   "name": "python3"
  },
  "language_info": {
   "codemirror_mode": {
    "name": "ipython",
    "version": 3
   },
   "file_extension": ".py",
   "mimetype": "text/x-python",
   "name": "python",
   "nbconvert_exporter": "python",
   "pygments_lexer": "ipython3",
   "version": "3.8.10"
  }
 },
 "nbformat": 4,
 "nbformat_minor": 5
}
