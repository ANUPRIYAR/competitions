{
 "cells": [
  {
   "cell_type": "code",
   "execution_count": null,
   "id": "86c65fb7",
   "metadata": {},
   "outputs": [],
   "source": [
    "# Copyright 2021 NVIDIA CORPORATION\n",
    "#\n",
    "# Licensed under the Apache License, Version 2.0 (the \"License\");\n",
    "# you may not use this file except in compliance with the License.\n",
    "# You may obtain a copy of the License at\n",
    "#\n",
    "#     http://www.apache.org/licenses/LICENSE-2.0\n",
    "#\n",
    "# Unless required by applicable law or agreed to in writing, software\n",
    "# distributed under the License is distributed on an \"AS IS\" BASIS,\n",
    "# WITHOUT WARRANTIES OR CONDITIONS OF ANY KIND, either express or implied.\n",
    "# See the License for the specific language governing permissions and\n",
    "# limitations under the License."
   ]
  },
  {
   "cell_type": "code",
   "execution_count": null,
   "id": "dried-documentary",
   "metadata": {},
   "outputs": [],
   "source": [
    "import pandas as pd"
   ]
  },
  {
   "cell_type": "code",
   "execution_count": null,
   "id": "supported-frame",
   "metadata": {},
   "outputs": [],
   "source": [
    "!mkdir /raid/NN_encoding_submissions"
   ]
  },
  {
   "cell_type": "code",
   "execution_count": null,
   "id": "native-celtic",
   "metadata": {},
   "outputs": [],
   "source": [
    "dfuseremb = pd.read_parquet('/raid/abusercount.parquet')\n",
    "dfuseremb = dfuseremb[dfuseremb['count_b']>7]\n",
    "dfuseremb = dfuseremb[['user_id', 'count']].reset_index()\n",
    "dfuseremb.columns = ['drop', 'user_id', 'count']\n",
    "dfuseremb = dfuseremb.reset_index()\n",
    "dfuseremb = dfuseremb.drop(['drop'], axis=1)\n",
    "dfuseremb.columns = ['user_id_', 'user_id', 'count']\n",
    "dfuseremb['user_id_'] = dfuseremb['user_id_']+1"
   ]
  },
  {
   "cell_type": "code",
   "execution_count": null,
   "id": "frozen-relevance",
   "metadata": {},
   "outputs": [],
   "source": [
    "dfuseremb.drop('count', axis=1, inplace=True)"
   ]
  },
  {
   "cell_type": "code",
   "execution_count": null,
   "id": "daily-tennis",
   "metadata": {},
   "outputs": [],
   "source": [
    "dfuseremb.to_parquet('/raid/NN_encoding_submissions/abusercount.parquet')"
   ]
  },
  {
   "cell_type": "code",
   "execution_count": null,
   "id": "sharing-orchestra",
   "metadata": {},
   "outputs": [],
   "source": [
    "dfmuseremb = pd.read_parquet('/raid/NN_encodings/muser_id.parquet')\n",
    "dfmuseremb = dfmuseremb[dfmuseremb['count']>9]\n",
    "dfmuseremb.drop('count', inplace=True, axis=1)\n",
    "dfmuseremb.to_parquet('/raid/NN_encoding_submissions/muser_id.parquet')"
   ]
  },
  {
   "cell_type": "code",
   "execution_count": null,
   "id": "searching-thong",
   "metadata": {},
   "outputs": [],
   "source": [
    "dfhashtags = pd.read_parquet('/raid/NN_encodings/hashtags.parquet')\n",
    "dfhashtags = dfhashtags[dfhashtags['count']>9]\n",
    "dfhashtags.drop('count', inplace=True, axis=1)\n",
    "dfhashtags.to_parquet('/raid/NN_encoding_submissions/hashtags.parquet')"
   ]
  },
  {
   "cell_type": "code",
   "execution_count": null,
   "id": "administrative-crisis",
   "metadata": {},
   "outputs": [],
   "source": [
    "dfdomains = pd.read_parquet('/raid/NN_encodings/domains.parquet')\n",
    "dfdomains = dfdomains[dfdomains['count']>9]\n",
    "dfdomains.drop('count', inplace=True, axis=1)\n",
    "dfdomains.to_parquet('/raid/NN_encoding_submissions/domains.parquet')"
   ]
  },
  {
   "cell_type": "code",
   "execution_count": null,
   "id": "short-router",
   "metadata": {},
   "outputs": [],
   "source": [
    "dfrtu = pd.read_parquet('/raid/NN_encodings/tw_rt_user0.parquet')\n",
    "dfrtu = dfrtu[dfrtu['count']>9]\n",
    "dfrtu.drop('count', inplace=True, axis=1)\n",
    "dfrtu.to_parquet('/raid/NN_encoding_submissions/dfrtu.parquet')"
   ]
  }
 ],
 "metadata": {
  "kernelspec": {
   "display_name": "Python 3 (ipykernel)",
   "language": "python",
   "name": "python3"
  },
  "language_info": {
   "codemirror_mode": {
    "name": "ipython",
    "version": 3
   },
   "file_extension": ".py",
   "mimetype": "text/x-python",
   "name": "python",
   "nbconvert_exporter": "python",
   "pygments_lexer": "ipython3",
   "version": "3.8.10"
  }
 },
 "nbformat": 4,
 "nbformat_minor": 5
}
