{
 "cells": [
  {
   "cell_type": "code",
   "execution_count": null,
   "id": "0bbd0bb0",
   "metadata": {},
   "outputs": [],
   "source": [
    "# Copyright 2021 NVIDIA CORPORATION\n",
    "#\n",
    "# Licensed under the Apache License, Version 2.0 (the \"License\");\n",
    "# you may not use this file except in compliance with the License.\n",
    "# You may obtain a copy of the License at\n",
    "#\n",
    "#     http://www.apache.org/licenses/LICENSE-2.0\n",
    "#\n",
    "# Unless required by applicable law or agreed to in writing, software\n",
    "# distributed under the License is distributed on an \"AS IS\" BASIS,\n",
    "# WITHOUT WARRANTIES OR CONDITIONS OF ANY KIND, either express or implied.\n",
    "# See the License for the specific language governing permissions and\n",
    "# limitations under the License."
   ]
  },
  {
   "cell_type": "code",
   "execution_count": 21,
   "id": "enormous-storage",
   "metadata": {},
   "outputs": [],
   "source": [
    "import glob\n",
    "import pandas as pd"
   ]
  },
  {
   "cell_type": "code",
   "execution_count": 2,
   "id": "mighty-rover",
   "metadata": {},
   "outputs": [],
   "source": [
    "files = glob.glob('./TE_submission_opt/*')"
   ]
  },
  {
   "cell_type": "code",
   "execution_count": 4,
   "id": "variable-ideal",
   "metadata": {},
   "outputs": [
    {
     "data": {
      "text/plain": [
       "['./TE_submission_opt/domains_language_b_follows_a_tweet_type_media_a_is_verified.parquet',\n",
       " './TE_submission_opt/b_user_id.parquet',\n",
       " './TE_submission_opt/b_user_id_tweet_type_language.parquet',\n",
       " './TE_submission_opt/tw_original_user1_tweet_type_language.parquet',\n",
       " './TE_submission_opt/a_user_id.parquet',\n",
       " './TE_submission_opt/b_is_verified_tweet_type.parquet',\n",
       " './TE_submission_opt/media_tweet_type_language_a_is_verified_b_is_verified_b_follows_a.parquet',\n",
       " './TE_submission_opt/media_tweet_type_language.parquet',\n",
       " './TE_submission_opt/b_user_id_a_user_id.parquet',\n",
       " './TE_submission_opt/tw_original_user0_tweet_type_language.parquet',\n",
       " './TE_submission_opt/tweet_type.parquet']"
      ]
     },
     "execution_count": 4,
     "metadata": {},
     "output_type": "execute_result"
    }
   ],
   "source": [
    "files"
   ]
  },
  {
   "cell_type": "code",
   "execution_count": 5,
   "id": "complicated-factory",
   "metadata": {},
   "outputs": [],
   "source": [
    "!mkdir TE_submission_opt_index"
   ]
  },
  {
   "cell_type": "code",
   "execution_count": 11,
   "id": "bronze-rebel",
   "metadata": {},
   "outputs": [
    {
     "name": "stdout",
     "output_type": "stream",
     "text": [
      "./TE_submission_opt/domains_language_b_follows_a_tweet_type_media_a_is_verified.parquet\n",
      "domains                int32\n",
      "language                int8\n",
      "b_follows_a             int8\n",
      "tweet_type              int8\n",
      "media                   int8\n",
      "a_is_verified           int8\n",
      "reply_sum              int32\n",
      "reply_count            int32\n",
      "retweet_sum            int32\n",
      "retweet_comment_sum    int32\n",
      "like_sum               int32\n",
      "dtype: object\n",
      "./TE_submission_opt/b_user_id.parquet\n",
      "b_user_id              int64\n",
      "reply_sum              int16\n",
      "reply_count            int16\n",
      "retweet_sum            int16\n",
      "retweet_comment_sum    int16\n",
      "like_sum               int16\n",
      "dtype: object\n",
      "./TE_submission_opt/b_user_id_tweet_type_language.parquet\n",
      "b_user_id              int64\n",
      "tweet_type              int8\n",
      "language                int8\n",
      "reply_sum              int16\n",
      "reply_count            int16\n",
      "retweet_sum            int16\n",
      "retweet_comment_sum    int16\n",
      "like_sum               int16\n",
      "dtype: object\n",
      "./TE_submission_opt/tw_original_user1_tweet_type_language.parquet\n",
      "tw_original_user1      int64\n",
      "tweet_type              int8\n",
      "language                int8\n",
      "reply_sum              int32\n",
      "reply_count            int32\n",
      "retweet_sum            int32\n",
      "retweet_comment_sum    int32\n",
      "like_sum               int32\n",
      "dtype: object\n",
      "./TE_submission_opt/a_user_id.parquet\n",
      "a_user_id              int64\n",
      "reply_sum              int16\n",
      "reply_count            int32\n",
      "retweet_sum            int32\n",
      "retweet_comment_sum    int16\n",
      "like_sum               int32\n",
      "dtype: object\n",
      "./TE_submission_opt/b_is_verified_tweet_type.parquet\n",
      "b_is_verified           int8\n",
      "tweet_type              int8\n",
      "reply_sum              int32\n",
      "reply_count            int32\n",
      "retweet_sum            int32\n",
      "retweet_comment_sum    int32\n",
      "like_sum               int32\n",
      "dtype: object\n",
      "./TE_submission_opt/media_tweet_type_language_a_is_verified_b_is_verified_b_follows_a.parquet\n",
      "media                   int8\n",
      "tweet_type              int8\n",
      "language                int8\n",
      "a_is_verified           int8\n",
      "b_is_verified           int8\n",
      "b_follows_a             int8\n",
      "reply_sum              int32\n",
      "reply_count            int32\n",
      "retweet_sum            int32\n",
      "retweet_comment_sum    int32\n",
      "like_sum               int32\n",
      "dtype: object\n",
      "./TE_submission_opt/media_tweet_type_language.parquet\n",
      "media                   int8\n",
      "tweet_type              int8\n",
      "language                int8\n",
      "reply_sum              int32\n",
      "reply_count            int32\n",
      "retweet_sum            int32\n",
      "retweet_comment_sum    int32\n",
      "like_sum               int32\n",
      "dtype: object\n",
      "./TE_submission_opt/b_user_id_a_user_id.parquet\n",
      "b_user_id              int64\n",
      "a_user_id              int64\n",
      "reply_sum              int16\n",
      "reply_count            int16\n",
      "retweet_sum            int16\n",
      "retweet_comment_sum    int16\n",
      "like_sum               int16\n",
      "dtype: object\n",
      "./TE_submission_opt/tw_original_user0_tweet_type_language.parquet\n",
      "tw_original_user0      int64\n",
      "tweet_type              int8\n",
      "language                int8\n",
      "reply_sum              int32\n",
      "reply_count            int32\n",
      "retweet_sum            int32\n",
      "retweet_comment_sum    int32\n",
      "like_sum               int32\n",
      "dtype: object\n",
      "./TE_submission_opt/tweet_type.parquet\n",
      "tweet_type              int8\n",
      "reply_sum              int32\n",
      "reply_count            int32\n",
      "retweet_sum            int32\n",
      "retweet_comment_sum    int32\n",
      "like_sum               int32\n",
      "dtype: object\n"
     ]
    }
   ],
   "source": [
    "for file in files:\n",
    "    print(file)\n",
    "    df = pd.read_parquet(file)\n",
    "    print(df.dtypes)\n",
    "    col = [x for x in df.columns if not('reply' in x or 'retweet' in x or 'like' in x)]\n",
    "    df.set_index(col, inplace=True)\n",
    "    df.to_parquet(file.replace('/TE_submission_opt/', '/TE_submission_opt_index/'))"
   ]
  },
  {
   "cell_type": "code",
   "execution_count": 50,
   "id": "particular-harvest",
   "metadata": {},
   "outputs": [],
   "source": [
    "files = glob.glob('./NN_encoding_submissions/*')"
   ]
  },
  {
   "cell_type": "code",
   "execution_count": 51,
   "id": "handed-biotechnology",
   "metadata": {},
   "outputs": [
    {
     "name": "stdout",
     "output_type": "stream",
     "text": [
      "mkdir: cannot create directory ‘NN_encoding_submissions_index’: File exists\r\n"
     ]
    }
   ],
   "source": [
    "!mkdir NN_encoding_submissions_index"
   ]
  },
  {
   "cell_type": "code",
   "execution_count": 53,
   "id": "frozen-screening",
   "metadata": {},
   "outputs": [
    {
     "name": "stdout",
     "output_type": "stream",
     "text": [
      "./NN_encoding_submissions/domains.parquet\n",
      "domains_    int64\n",
      "domains     int32\n",
      "dtype: object\n",
      "./NN_encoding_submissions/abusercount.parquet\n",
      "user_id_    int64\n",
      "user_id     int64\n",
      "dtype: object\n",
      "./NN_encoding_submissions/hashtags.parquet\n",
      "hashtags_    int64\n",
      "hashtags     int32\n",
      "dtype: object\n",
      "./NN_encoding_submissions/muser_id.parquet\n",
      "muser_id_    int64\n",
      "muser_id     int64\n",
      "dtype: object\n",
      "./NN_encoding_submissions/tw_rt_user0.parquet\n",
      "tw_rt_user0_    int64\n",
      "tw_rt_user0     int64\n",
      "dtype: object\n"
     ]
    }
   ],
   "source": [
    "for file in files:\n",
    "    print(file)\n",
    "    df = pd.read_parquet(file)\n",
    "    print(df.dtypes)\n",
    "    col = list(df.columns)\n",
    "    df.set_index(col[1], inplace=True)\n",
    "    df.to_parquet(file.replace('/NN_encoding_submissions/', '/NN_encoding_submissions_index/'))"
   ]
  }
 ],
 "metadata": {
  "kernelspec": {
   "display_name": "Python 3 (ipykernel)",
   "language": "python",
   "name": "python3"
  },
  "language_info": {
   "codemirror_mode": {
    "name": "ipython",
    "version": 3
   },
   "file_extension": ".py",
   "mimetype": "text/x-python",
   "name": "python",
   "nbconvert_exporter": "python",
   "pygments_lexer": "ipython3",
   "version": "3.8.10"
  }
 },
 "nbformat": 4,
 "nbformat_minor": 5
}
