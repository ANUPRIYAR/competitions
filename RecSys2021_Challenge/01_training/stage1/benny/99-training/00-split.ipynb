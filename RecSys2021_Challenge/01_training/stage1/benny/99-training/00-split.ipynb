{
 "cells": [
  {
   "cell_type": "code",
   "execution_count": null,
   "id": "58c5a4e8",
   "metadata": {},
   "outputs": [],
   "source": [
    "# Copyright 2021 NVIDIA CORPORATION\n",
    "#\n",
    "# Licensed under the Apache License, Version 2.0 (the \"License\");\n",
    "# you may not use this file except in compliance with the License.\n",
    "# You may obtain a copy of the License at\n",
    "#\n",
    "#     http://www.apache.org/licenses/LICENSE-2.0\n",
    "#\n",
    "# Unless required by applicable law or agreed to in writing, software\n",
    "# distributed under the License is distributed on an \"AS IS\" BASIS,\n",
    "# WITHOUT WARRANTIES OR CONDITIONS OF ANY KIND, either express or implied.\n",
    "# See the License for the specific language governing permissions and\n",
    "# limitations under the License."
   ]
  },
  {
   "cell_type": "code",
   "execution_count": 1,
   "id": "valuable-yesterday",
   "metadata": {},
   "outputs": [],
   "source": [
    "import glob\n",
    "import pandas as pd\n",
    "import numpy as np\n",
    "import cudf\n",
    "import cupy\n",
    "import gc\n",
    "\n",
    "from datetime import datetime"
   ]
  },
  {
   "cell_type": "code",
   "execution_count": 2,
   "id": "welsh-wales",
   "metadata": {},
   "outputs": [],
   "source": [
    "files = sorted(glob.glob('/raid/recsys2021_pre_TE/*'))"
   ]
  },
  {
   "cell_type": "code",
   "execution_count": 3,
   "id": "bright-trailer",
   "metadata": {},
   "outputs": [
    {
     "name": "stdout",
     "output_type": "stream",
     "text": [
      "/bin/bash: /opt/conda/lib/libtinfo.so.6: no version information available (required by /bin/bash)\n",
      "/bin/bash: /opt/conda/lib/libtinfo.so.6: no version information available (required by /bin/bash)\n",
      "/bin/bash: /opt/conda/lib/libtinfo.so.6: no version information available (required by /bin/bash)\n",
      "/bin/bash: /opt/conda/lib/libtinfo.so.6: no version information available (required by /bin/bash)\n",
      "/bin/bash: /opt/conda/lib/libtinfo.so.6: no version information available (required by /bin/bash)\n",
      "/bin/bash: /opt/conda/lib/libtinfo.so.6: no version information available (required by /bin/bash)\n"
     ]
    }
   ],
   "source": [
    "!rm -r /raid/recsys2021_pre_TE_1\n",
    "!rm -r /raid/recsys2021_pre_TE_2\n",
    "!rm -r /raid/recsys2021_pre_TE_3\n",
    "\n",
    "!mkdir /raid/recsys2021_pre_TE_1\n",
    "!mkdir /raid/recsys2021_pre_TE_2\n",
    "!mkdir /raid/recsys2021_pre_TE_3"
   ]
  },
  {
   "cell_type": "code",
   "execution_count": 4,
   "id": "interpreted-shape",
   "metadata": {},
   "outputs": [],
   "source": [
    "def split_week(fn):\n",
    "    df = cudf.read_parquet(fn)\n",
    "    df['date'] = cudf.to_datetime(df['timestamp'], unit='s')\n",
    "    dftmp = df[df['date']<cudf.to_datetime('2021-02-11')]\n",
    "    dftmp.drop('date', inplace=True, axis=1)\n",
    "    dftmp.to_parquet('/raid/recsys2021_pre_TE_1/' + fn.split('/')[-1])\n",
    "    dftmp = df[(df['date']>=cudf.to_datetime('2021-02-11'))&(df['date']<cudf.to_datetime('2021-02-18'))]\n",
    "    dftmp.drop('date', inplace=True, axis=1)\n",
    "    dftmp.to_parquet('/raid/recsys2021_pre_TE_2/' + fn.split('/')[-1])\n",
    "    dftmp = df[df['date']>=cudf.to_datetime('2021-02-18')]\n",
    "    dftmp.drop('date', inplace=True, axis=1)\n",
    "    dftmp.to_parquet('/raid/recsys2021_pre_TE_3/' + fn.split('/')[-1])"
   ]
  },
  {
   "cell_type": "code",
   "execution_count": 5,
   "id": "available-singles",
   "metadata": {},
   "outputs": [
    {
     "name": "stdout",
     "output_type": "stream",
     "text": [
      "/raid/recsys2021_pre_TE/part-00000.parquet\n",
      "/raid/recsys2021_pre_TE/part-00001.parquet\n",
      "/raid/recsys2021_pre_TE/part-00002.parquet\n",
      "/raid/recsys2021_pre_TE/part-00003.parquet\n",
      "/raid/recsys2021_pre_TE/part-00004.parquet\n",
      "/raid/recsys2021_pre_TE/part-00005.parquet\n",
      "/raid/recsys2021_pre_TE/part-00006.parquet\n",
      "/raid/recsys2021_pre_TE/part-00007.parquet\n",
      "/raid/recsys2021_pre_TE/part-00008.parquet\n",
      "/raid/recsys2021_pre_TE/part-00009.parquet\n",
      "/raid/recsys2021_pre_TE/part-00010.parquet\n",
      "/raid/recsys2021_pre_TE/part-00011.parquet\n",
      "/raid/recsys2021_pre_TE/part-00012.parquet\n",
      "/raid/recsys2021_pre_TE/part-00013.parquet\n",
      "/raid/recsys2021_pre_TE/part-00014.parquet\n",
      "/raid/recsys2021_pre_TE/part-00015.parquet\n",
      "/raid/recsys2021_pre_TE/part-00016.parquet\n",
      "/raid/recsys2021_pre_TE/part-00017.parquet\n",
      "/raid/recsys2021_pre_TE/part-00018.parquet\n",
      "/raid/recsys2021_pre_TE/part-00019.parquet\n",
      "/raid/recsys2021_pre_TE/part-00020.parquet\n",
      "/raid/recsys2021_pre_TE/part-00021.parquet\n",
      "/raid/recsys2021_pre_TE/part-00022.parquet\n",
      "/raid/recsys2021_pre_TE/part-00023.parquet\n",
      "/raid/recsys2021_pre_TE/part-00024.parquet\n",
      "/raid/recsys2021_pre_TE/part-00025.parquet\n",
      "/raid/recsys2021_pre_TE/part-00026.parquet\n",
      "/raid/recsys2021_pre_TE/part-00027.parquet\n",
      "/raid/recsys2021_pre_TE/part-00028.parquet\n",
      "/raid/recsys2021_pre_TE/part-00029.parquet\n",
      "/raid/recsys2021_pre_TE/part-00030.parquet\n",
      "/raid/recsys2021_pre_TE/part-00031.parquet\n",
      "/raid/recsys2021_pre_TE/part-00032.parquet\n",
      "/raid/recsys2021_pre_TE/part-00033.parquet\n",
      "/raid/recsys2021_pre_TE/part-00034.parquet\n",
      "/raid/recsys2021_pre_TE/part-00035.parquet\n",
      "/raid/recsys2021_pre_TE/part-00036.parquet\n",
      "/raid/recsys2021_pre_TE/part-00037.parquet\n",
      "/raid/recsys2021_pre_TE/part-00038.parquet\n",
      "/raid/recsys2021_pre_TE/part-00039.parquet\n",
      "/raid/recsys2021_pre_TE/part-00040.parquet\n",
      "/raid/recsys2021_pre_TE/part-00041.parquet\n",
      "/raid/recsys2021_pre_TE/part-00042.parquet\n",
      "/raid/recsys2021_pre_TE/part-00043.parquet\n",
      "/raid/recsys2021_pre_TE/part-00044.parquet\n",
      "/raid/recsys2021_pre_TE/part-00045.parquet\n",
      "/raid/recsys2021_pre_TE/part-00046.parquet\n",
      "/raid/recsys2021_pre_TE/part-00047.parquet\n",
      "/raid/recsys2021_pre_TE/part-00048.parquet\n",
      "/raid/recsys2021_pre_TE/part-00049.parquet\n",
      "CPU times: user 31.2 s, sys: 1min 16s, total: 1min 48s\n",
      "Wall time: 3min 19s\n"
     ]
    }
   ],
   "source": [
    "%%time\n",
    "\n",
    "for file in files:\n",
    "    print(file)\n",
    "    split_week(file)"
   ]
  },
  {
   "cell_type": "code",
   "execution_count": 2,
   "id": "strong-stations",
   "metadata": {},
   "outputs": [],
   "source": [
    "files = sorted(glob.glob('/raid/recsys2021_pre_TE_submission/*'))"
   ]
  },
  {
   "cell_type": "code",
   "execution_count": 3,
   "id": "numeric-target",
   "metadata": {},
   "outputs": [
    {
     "name": "stdout",
     "output_type": "stream",
     "text": [
      "/bin/bash: /opt/conda/lib/libtinfo.so.6: no version information available (required by /bin/bash)\n",
      "rm: cannot remove '/raid/recsys2021_pre_TE_submission_1': No such file or directory\n",
      "/bin/bash: /opt/conda/lib/libtinfo.so.6: no version information available (required by /bin/bash)\n",
      "rm: cannot remove '/raid/recsys2021_pre_TE_submission_2': No such file or directory\n",
      "/bin/bash: /opt/conda/lib/libtinfo.so.6: no version information available (required by /bin/bash)\n",
      "rm: cannot remove '/raid/recsys2021_pre_TE_submission_3': No such file or directory\n",
      "/bin/bash: /opt/conda/lib/libtinfo.so.6: no version information available (required by /bin/bash)\n",
      "/bin/bash: /opt/conda/lib/libtinfo.so.6: no version information available (required by /bin/bash)\n",
      "/bin/bash: /opt/conda/lib/libtinfo.so.6: no version information available (required by /bin/bash)\n"
     ]
    }
   ],
   "source": [
    "!rm -r /raid/recsys2021_pre_TE_submission_1\n",
    "!rm -r /raid/recsys2021_pre_TE_submission_2\n",
    "!rm -r /raid/recsys2021_pre_TE_submission_3\n",
    "\n",
    "!mkdir /raid/recsys2021_pre_TE_submission_1\n",
    "!mkdir /raid/recsys2021_pre_TE_submission_2\n",
    "!mkdir /raid/recsys2021_pre_TE_submission_3"
   ]
  },
  {
   "cell_type": "code",
   "execution_count": 4,
   "id": "sustained-missile",
   "metadata": {},
   "outputs": [],
   "source": [
    "def split_week(fn):\n",
    "    df = cudf.read_parquet(fn)\n",
    "    df['date'] = cudf.to_datetime(df['timestamp'], unit='s')\n",
    "    dftmp = df[df['date']<cudf.to_datetime('2021-02-11')]\n",
    "    dftmp.drop('date', inplace=True, axis=1)\n",
    "    dftmp.to_parquet('/raid/recsys2021_pre_TE_submission_1/' + fn.split('/')[-1])\n",
    "    dftmp = df[(df['date']>=cudf.to_datetime('2021-02-11'))&(df['date']<cudf.to_datetime('2021-02-18'))]\n",
    "    dftmp.drop('date', inplace=True, axis=1)\n",
    "    dftmp.to_parquet('/raid/recsys2021_pre_TE_submission_2/' + fn.split('/')[-1])\n",
    "    dftmp = df[df['date']>=cudf.to_datetime('2021-02-18')]\n",
    "    dftmp.drop('date', inplace=True, axis=1)\n",
    "    dftmp.to_parquet('/raid/recsys2021_pre_TE_submission_3/' + fn.split('/')[-1])"
   ]
  },
  {
   "cell_type": "code",
   "execution_count": 5,
   "id": "average-iceland",
   "metadata": {},
   "outputs": [
    {
     "name": "stdout",
     "output_type": "stream",
     "text": [
      "/raid/recsys2021_pre_TE_submission/part-00000.parquet\n",
      "/raid/recsys2021_pre_TE_submission/part-00001.parquet\n",
      "/raid/recsys2021_pre_TE_submission/part-00002.parquet\n",
      "/raid/recsys2021_pre_TE_submission/part-00003.parquet\n",
      "/raid/recsys2021_pre_TE_submission/part-00004.parquet\n",
      "/raid/recsys2021_pre_TE_submission/part-00005.parquet\n",
      "/raid/recsys2021_pre_TE_submission/part-00006.parquet\n",
      "/raid/recsys2021_pre_TE_submission/part-00007.parquet\n",
      "/raid/recsys2021_pre_TE_submission/part-00008.parquet\n",
      "/raid/recsys2021_pre_TE_submission/part-00009.parquet\n",
      "/raid/recsys2021_pre_TE_submission/part-00010.parquet\n",
      "/raid/recsys2021_pre_TE_submission/part-00011.parquet\n",
      "/raid/recsys2021_pre_TE_submission/part-00012.parquet\n",
      "/raid/recsys2021_pre_TE_submission/part-00013.parquet\n",
      "/raid/recsys2021_pre_TE_submission/part-00014.parquet\n",
      "/raid/recsys2021_pre_TE_submission/part-00015.parquet\n",
      "/raid/recsys2021_pre_TE_submission/part-00016.parquet\n",
      "/raid/recsys2021_pre_TE_submission/part-00017.parquet\n",
      "/raid/recsys2021_pre_TE_submission/part-00018.parquet\n",
      "/raid/recsys2021_pre_TE_submission/part-00019.parquet\n",
      "CPU times: user 14.7 s, sys: 30.7 s, total: 45.4 s\n",
      "Wall time: 1min 24s\n"
     ]
    }
   ],
   "source": [
    "%%time\n",
    "\n",
    "for file in files:\n",
    "    print(file)\n",
    "    split_week(file)"
   ]
  },
  {
   "cell_type": "code",
   "execution_count": null,
   "id": "incident-amber",
   "metadata": {},
   "outputs": [],
   "source": []
  }
 ],
 "metadata": {
  "kernelspec": {
   "display_name": "Python 3 (ipykernel)",
   "language": "python",
   "name": "python3"
  },
  "language_info": {
   "codemirror_mode": {
    "name": "ipython",
    "version": 3
   },
   "file_extension": ".py",
   "mimetype": "text/x-python",
   "name": "python",
   "nbconvert_exporter": "python",
   "pygments_lexer": "ipython3",
   "version": "3.8.10"
  }
 },
 "nbformat": 4,
 "nbformat_minor": 5
}
