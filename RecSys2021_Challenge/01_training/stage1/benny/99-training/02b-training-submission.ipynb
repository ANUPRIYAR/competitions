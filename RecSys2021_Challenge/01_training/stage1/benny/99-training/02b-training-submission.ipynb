{
 "cells": [
  {
   "cell_type": "code",
   "execution_count": null,
   "id": "ba09e6d5",
   "metadata": {},
   "outputs": [],
   "source": [
    "# Copyright 2021 NVIDIA CORPORATION\n",
    "#\n",
    "# Licensed under the Apache License, Version 2.0 (the \"License\");\n",
    "# you may not use this file except in compliance with the License.\n",
    "# You may obtain a copy of the License at\n",
    "#\n",
    "#     http://www.apache.org/licenses/LICENSE-2.0\n",
    "#\n",
    "# Unless required by applicable law or agreed to in writing, software\n",
    "# distributed under the License is distributed on an \"AS IS\" BASIS,\n",
    "# WITHOUT WARRANTIES OR CONDITIONS OF ANY KIND, either express or implied.\n",
    "# See the License for the specific language governing permissions and\n",
    "# limitations under the License."
   ]
  },
  {
   "cell_type": "code",
   "execution_count": 1,
   "id": "acute-sheriff",
   "metadata": {},
   "outputs": [],
   "source": [
    "n_files = 40 \n",
    "n_bags = 1"
   ]
  },
  {
   "cell_type": "code",
   "execution_count": 2,
   "id": "dirty-venice",
   "metadata": {},
   "outputs": [],
   "source": [
    "import glob\n",
    "import pandas as pd\n",
    "import numpy as np\n",
    "import cudf\n",
    "import cupy\n",
    "import gc\n",
    "\n",
    "from datetime import datetime"
   ]
  },
  {
   "cell_type": "code",
   "execution_count": 3,
   "id": "unable-wales",
   "metadata": {},
   "outputs": [],
   "source": [
    "files = sorted(glob.glob('/raid/recsys2021_pre_TE_2/*'))[0:(n_files//2)]+sorted(glob.glob('/raid/recsys2021_pre_TE_3/*'))[0:(n_files//2)]\n",
    "\n",
    "#files = sorted(glob.glob('/raid/recsys2021_pre_TE_submission_2/*'))[0:(n_files//2)]+sorted(glob.glob('/raid/recsys2021_pre_TE_submission_3/*'))[0:(n_files//2)]"
   ]
  },
  {
   "cell_type": "code",
   "execution_count": 4,
   "id": "automotive-extreme",
   "metadata": {},
   "outputs": [
    {
     "data": {
      "text/plain": [
       "['/raid/recsys2021_pre_TE_2/part-00000.parquet',\n",
       " '/raid/recsys2021_pre_TE_2/part-00001.parquet',\n",
       " '/raid/recsys2021_pre_TE_2/part-00002.parquet',\n",
       " '/raid/recsys2021_pre_TE_2/part-00003.parquet',\n",
       " '/raid/recsys2021_pre_TE_2/part-00004.parquet',\n",
       " '/raid/recsys2021_pre_TE_2/part-00005.parquet',\n",
       " '/raid/recsys2021_pre_TE_2/part-00006.parquet',\n",
       " '/raid/recsys2021_pre_TE_2/part-00007.parquet',\n",
       " '/raid/recsys2021_pre_TE_2/part-00008.parquet',\n",
       " '/raid/recsys2021_pre_TE_2/part-00009.parquet',\n",
       " '/raid/recsys2021_pre_TE_2/part-00010.parquet',\n",
       " '/raid/recsys2021_pre_TE_2/part-00011.parquet',\n",
       " '/raid/recsys2021_pre_TE_2/part-00012.parquet',\n",
       " '/raid/recsys2021_pre_TE_2/part-00013.parquet',\n",
       " '/raid/recsys2021_pre_TE_2/part-00014.parquet',\n",
       " '/raid/recsys2021_pre_TE_2/part-00015.parquet',\n",
       " '/raid/recsys2021_pre_TE_2/part-00016.parquet',\n",
       " '/raid/recsys2021_pre_TE_2/part-00017.parquet',\n",
       " '/raid/recsys2021_pre_TE_2/part-00018.parquet',\n",
       " '/raid/recsys2021_pre_TE_2/part-00019.parquet',\n",
       " '/raid/recsys2021_pre_TE_3/part-00000.parquet',\n",
       " '/raid/recsys2021_pre_TE_3/part-00001.parquet',\n",
       " '/raid/recsys2021_pre_TE_3/part-00002.parquet',\n",
       " '/raid/recsys2021_pre_TE_3/part-00003.parquet',\n",
       " '/raid/recsys2021_pre_TE_3/part-00004.parquet',\n",
       " '/raid/recsys2021_pre_TE_3/part-00005.parquet',\n",
       " '/raid/recsys2021_pre_TE_3/part-00006.parquet',\n",
       " '/raid/recsys2021_pre_TE_3/part-00007.parquet',\n",
       " '/raid/recsys2021_pre_TE_3/part-00008.parquet',\n",
       " '/raid/recsys2021_pre_TE_3/part-00009.parquet',\n",
       " '/raid/recsys2021_pre_TE_3/part-00010.parquet',\n",
       " '/raid/recsys2021_pre_TE_3/part-00011.parquet',\n",
       " '/raid/recsys2021_pre_TE_3/part-00012.parquet',\n",
       " '/raid/recsys2021_pre_TE_3/part-00013.parquet',\n",
       " '/raid/recsys2021_pre_TE_3/part-00014.parquet',\n",
       " '/raid/recsys2021_pre_TE_3/part-00015.parquet',\n",
       " '/raid/recsys2021_pre_TE_3/part-00016.parquet',\n",
       " '/raid/recsys2021_pre_TE_3/part-00017.parquet',\n",
       " '/raid/recsys2021_pre_TE_3/part-00018.parquet',\n",
       " '/raid/recsys2021_pre_TE_3/part-00019.parquet']"
      ]
     },
     "execution_count": 4,
     "metadata": {},
     "output_type": "execute_result"
    }
   ],
   "source": [
    "files"
   ]
  },
  {
   "cell_type": "code",
   "execution_count": 5,
   "id": "grand-adams",
   "metadata": {},
   "outputs": [],
   "source": [
    "import os, time\n",
    "os.environ[\"CUDA_VISIBLE_DEVICES\"]=\"0,1,2,3,4,5,6,7\""
   ]
  },
  {
   "cell_type": "code",
   "execution_count": 6,
   "id": "quality-tuition",
   "metadata": {},
   "outputs": [],
   "source": [
    "import dask as dask, dask_cudf\n",
    "from dask.distributed import Client, wait\n",
    "from dask_cuda import LocalCUDACluster\n",
    "import subprocess"
   ]
  },
  {
   "cell_type": "code",
   "execution_count": 7,
   "id": "applied-diabetes",
   "metadata": {},
   "outputs": [
    {
     "data": {
      "text/html": [
       "<table style=\"border: 2px solid white;\">\n",
       "<tr>\n",
       "<td style=\"vertical-align: top; border: 0px solid white\">\n",
       "<h3 style=\"text-align: left;\">Client</h3>\n",
       "<ul style=\"text-align: left; list-style: none; margin: 0; padding: 0;\">\n",
       "  <li><b>Scheduler: </b>tcp://127.0.0.1:37535</li>\n",
       "  <li><b>Dashboard: </b><a href='http://127.0.0.1:8787/status' target='_blank'>http://127.0.0.1:8787/status</a></li>\n",
       "</ul>\n",
       "</td>\n",
       "<td style=\"vertical-align: top; border: 0px solid white\">\n",
       "<h3 style=\"text-align: left;\">Cluster</h3>\n",
       "<ul style=\"text-align: left; list-style:none; margin: 0; padding: 0;\">\n",
       "  <li><b>Workers: </b>8</li>\n",
       "  <li><b>Cores: </b>8</li>\n",
       "  <li><b>Memory: </b>429.50 GB</li>\n",
       "</ul>\n",
       "</td>\n",
       "</tr>\n",
       "</table>"
      ],
      "text/plain": [
       "<Client: 'tcp://127.0.0.1:37535' processes=8 threads=8, memory=429.50 GB>"
      ]
     },
     "execution_count": 7,
     "metadata": {},
     "output_type": "execute_result"
    }
   ],
   "source": [
    "cluster = LocalCUDACluster(local_directory='/raid/dask3/', device_memory_limit=0.5)\n",
    "client = Client(cluster)\n",
    "client"
   ]
  },
  {
   "cell_type": "code",
   "execution_count": 8,
   "id": "surgical-lucas",
   "metadata": {},
   "outputs": [],
   "source": [
    "train = dask_cudf.read_parquet(sorted(files))"
   ]
  },
  {
   "cell_type": "code",
   "execution_count": 9,
   "id": "organized-norman",
   "metadata": {},
   "outputs": [],
   "source": [
    "train, = dask.persist(train)"
   ]
  },
  {
   "cell_type": "code",
   "execution_count": 10,
   "id": "federal-ceiling",
   "metadata": {},
   "outputs": [],
   "source": [
    "label_names = ['reply', 'retweet', 'retweet_comment', 'like']\n",
    "DONT_USE = ['timestamp','a_account_creation','b_account_creation','engage_time',\n",
    "            'fold','b_user_id','a_user_id', 'dt_dow', 'a_account_creation', \n",
    "            'b_account_creation', 'elapsed_time', 'links','domains','hashtags','id', 'date', 'is_train', \n",
    "            'tw_hash0', 'tw_hash1', 'tw_hash2', 'tw_http0', 'tw_uhash', 'tw_hash', 'tw_word0', \n",
    "            'tw_word1', 'tw_word3', 'tw_word4', 'dt_minute', 'dt_second']\n",
    "DONT_USE += label_names\n",
    "features = [c for c in train.columns if c not in DONT_USE]\n",
    "\n",
    "RMV = [c for c in DONT_USE if c in train.columns and c not in label_names]\n",
    "RMV = list(set(RMV))"
   ]
  },
  {
   "cell_type": "code",
   "execution_count": 11,
   "id": "optional-islam",
   "metadata": {},
   "outputs": [
    {
     "name": "stdout",
     "output_type": "stream",
     "text": [
      "CPU times: user 868 ms, sys: 232 ms, total: 1.1 s\n",
      "Wall time: 6.62 s\n"
     ]
    },
    {
     "data": {
      "text/plain": [
       "DoneAndNotDoneFutures(done={<Future: finished, type: cudf.DataFrame, key: ('read-parquet-a880c4763b081fdeeafe58dff7a31bd8', 37)>, <Future: finished, type: cudf.DataFrame, key: ('read-parquet-a880c4763b081fdeeafe58dff7a31bd8', 20)>, <Future: finished, type: cudf.DataFrame, key: ('read-parquet-a880c4763b081fdeeafe58dff7a31bd8', 3)>, <Future: finished, type: cudf.DataFrame, key: ('read-parquet-a880c4763b081fdeeafe58dff7a31bd8', 0)>, <Future: finished, type: cudf.DataFrame, key: ('read-parquet-a880c4763b081fdeeafe58dff7a31bd8', 23)>, <Future: finished, type: cudf.DataFrame, key: ('read-parquet-a880c4763b081fdeeafe58dff7a31bd8', 6)>, <Future: finished, type: cudf.DataFrame, key: ('read-parquet-a880c4763b081fdeeafe58dff7a31bd8', 12)>, <Future: finished, type: cudf.DataFrame, key: ('read-parquet-a880c4763b081fdeeafe58dff7a31bd8', 9)>, <Future: finished, type: cudf.DataFrame, key: ('read-parquet-a880c4763b081fdeeafe58dff7a31bd8', 35)>, <Future: finished, type: cudf.DataFrame, key: ('read-parquet-a880c4763b081fdeeafe58dff7a31bd8', 15)>, <Future: finished, type: cudf.DataFrame, key: ('read-parquet-a880c4763b081fdeeafe58dff7a31bd8', 18)>, <Future: finished, type: cudf.DataFrame, key: ('read-parquet-a880c4763b081fdeeafe58dff7a31bd8', 24)>, <Future: finished, type: cudf.DataFrame, key: ('read-parquet-a880c4763b081fdeeafe58dff7a31bd8', 32)>, <Future: finished, type: cudf.DataFrame, key: ('read-parquet-a880c4763b081fdeeafe58dff7a31bd8', 21)>, <Future: finished, type: cudf.DataFrame, key: ('read-parquet-a880c4763b081fdeeafe58dff7a31bd8', 29)>, <Future: finished, type: cudf.DataFrame, key: ('read-parquet-a880c4763b081fdeeafe58dff7a31bd8', 27)>, <Future: finished, type: cudf.DataFrame, key: ('read-parquet-a880c4763b081fdeeafe58dff7a31bd8', 7)>, <Future: finished, type: cudf.DataFrame, key: ('read-parquet-a880c4763b081fdeeafe58dff7a31bd8', 22)>, <Future: finished, type: cudf.DataFrame, key: ('read-parquet-a880c4763b081fdeeafe58dff7a31bd8', 30)>, <Future: finished, type: cudf.DataFrame, key: ('read-parquet-a880c4763b081fdeeafe58dff7a31bd8', 19)>, <Future: finished, type: cudf.DataFrame, key: ('read-parquet-a880c4763b081fdeeafe58dff7a31bd8', 36)>, <Future: finished, type: cudf.DataFrame, key: ('read-parquet-a880c4763b081fdeeafe58dff7a31bd8', 33)>, <Future: finished, type: cudf.DataFrame, key: ('read-parquet-a880c4763b081fdeeafe58dff7a31bd8', 4)>, <Future: finished, type: cudf.DataFrame, key: ('read-parquet-a880c4763b081fdeeafe58dff7a31bd8', 26)>, <Future: finished, type: cudf.DataFrame, key: ('read-parquet-a880c4763b081fdeeafe58dff7a31bd8', 39)>, <Future: finished, type: cudf.DataFrame, key: ('read-parquet-a880c4763b081fdeeafe58dff7a31bd8', 10)>, <Future: finished, type: cudf.DataFrame, key: ('read-parquet-a880c4763b081fdeeafe58dff7a31bd8', 13)>, <Future: finished, type: cudf.DataFrame, key: ('read-parquet-a880c4763b081fdeeafe58dff7a31bd8', 5)>, <Future: finished, type: cudf.DataFrame, key: ('read-parquet-a880c4763b081fdeeafe58dff7a31bd8', 25)>, <Future: finished, type: cudf.DataFrame, key: ('read-parquet-a880c4763b081fdeeafe58dff7a31bd8', 16)>, <Future: finished, type: cudf.DataFrame, key: ('read-parquet-a880c4763b081fdeeafe58dff7a31bd8', 2)>, <Future: finished, type: cudf.DataFrame, key: ('read-parquet-a880c4763b081fdeeafe58dff7a31bd8', 8)>, <Future: finished, type: cudf.DataFrame, key: ('read-parquet-a880c4763b081fdeeafe58dff7a31bd8', 38)>, <Future: finished, type: cudf.DataFrame, key: ('read-parquet-a880c4763b081fdeeafe58dff7a31bd8', 1)>, <Future: finished, type: cudf.DataFrame, key: ('read-parquet-a880c4763b081fdeeafe58dff7a31bd8', 11)>, <Future: finished, type: cudf.DataFrame, key: ('read-parquet-a880c4763b081fdeeafe58dff7a31bd8', 31)>, <Future: finished, type: cudf.DataFrame, key: ('read-parquet-a880c4763b081fdeeafe58dff7a31bd8', 17)>, <Future: finished, type: cudf.DataFrame, key: ('read-parquet-a880c4763b081fdeeafe58dff7a31bd8', 28)>, <Future: finished, type: cudf.DataFrame, key: ('read-parquet-a880c4763b081fdeeafe58dff7a31bd8', 14)>, <Future: finished, type: cudf.DataFrame, key: ('read-parquet-a880c4763b081fdeeafe58dff7a31bd8', 34)>}, not_done=set())"
      ]
     },
     "execution_count": 11,
     "metadata": {},
     "output_type": "execute_result"
    }
   ],
   "source": [
    "%%time\n",
    "\n",
    "train = train.drop(RMV,axis=1)\n",
    "wait(train)"
   ]
  },
  {
   "cell_type": "code",
   "execution_count": 12,
   "id": "champion-video",
   "metadata": {},
   "outputs": [
    {
     "name": "stdout",
     "output_type": "stream",
     "text": [
      "Using 84 features: 84\n"
     ]
    },
    {
     "data": {
      "text/plain": [
       "array(['TE_a_user_id_like', 'TE_a_user_id_reply', 'TE_a_user_id_retweet',\n",
       "       'TE_a_user_id_retweet_comment', 'TE_b_is_verified_tweet_type_like',\n",
       "       'TE_b_is_verified_tweet_type_reply',\n",
       "       'TE_b_is_verified_tweet_type_retweet',\n",
       "       'TE_b_is_verified_tweet_type_retweet_comment',\n",
       "       'TE_b_user_id_a_user_id_like', 'TE_b_user_id_a_user_id_reply',\n",
       "       'TE_b_user_id_a_user_id_retweet',\n",
       "       'TE_b_user_id_a_user_id_retweet_comment', 'TE_b_user_id_like',\n",
       "       'TE_b_user_id_reply', 'TE_b_user_id_retweet',\n",
       "       'TE_b_user_id_retweet_comment',\n",
       "       'TE_b_user_id_tweet_type_language_like',\n",
       "       'TE_b_user_id_tweet_type_language_reply',\n",
       "       'TE_b_user_id_tweet_type_language_retweet',\n",
       "       'TE_b_user_id_tweet_type_language_retweet_comment',\n",
       "       'TE_domains_language_b_follows_a_tweet_type_media_a_is_verified_like',\n",
       "       'TE_domains_language_b_follows_a_tweet_type_media_a_is_verified_reply',\n",
       "       'TE_domains_language_b_follows_a_tweet_type_media_a_is_verified_retweet',\n",
       "       'TE_domains_language_b_follows_a_tweet_type_media_a_is_verified_retweet_comment',\n",
       "       'TE_media_tweet_type_language_a_is_verified_b_is_verified_b_follows_a_like',\n",
       "       'TE_media_tweet_type_language_a_is_verified_b_is_verified_b_follows_a_reply',\n",
       "       'TE_media_tweet_type_language_a_is_verified_b_is_verified_b_follows_a_retweet',\n",
       "       'TE_media_tweet_type_language_a_is_verified_b_is_verified_b_follows_a_retweet_comment',\n",
       "       'TE_media_tweet_type_language_like',\n",
       "       'TE_media_tweet_type_language_reply',\n",
       "       'TE_media_tweet_type_language_retweet',\n",
       "       'TE_media_tweet_type_language_retweet_comment',\n",
       "       'TE_switch_b_user_id_like', 'TE_switch_b_user_id_reply',\n",
       "       'TE_switch_b_user_id_retweet',\n",
       "       'TE_switch_b_user_id_retweet_comment',\n",
       "       'TE_tw_original_user0_tweet_type_language_like',\n",
       "       'TE_tw_original_user0_tweet_type_language_reply',\n",
       "       'TE_tw_original_user0_tweet_type_language_retweet',\n",
       "       'TE_tw_original_user0_tweet_type_language_retweet_comment',\n",
       "       'TE_tw_original_user1_tweet_type_language_like',\n",
       "       'TE_tw_original_user1_tweet_type_language_reply',\n",
       "       'TE_tw_original_user1_tweet_type_language_retweet',\n",
       "       'TE_tw_original_user1_tweet_type_language_retweet_comment',\n",
       "       'TE_tweet_type_like', 'TE_tweet_type_reply',\n",
       "       'TE_tweet_type_retweet', 'TE_tweet_type_retweet_comment',\n",
       "       'a_ff_rate', 'a_follower_count', 'a_following_count',\n",
       "       'a_is_verified', 'ab_age_dff', 'ab_age_rate', 'ab_fer_rate',\n",
       "       'ab_fing_rate', 'b_ff_rate', 'b_follower_count',\n",
       "       'b_following_count', 'b_follows_a', 'b_is_verified', 'dt_hour',\n",
       "       'group', 'language', 'len_domains', 'len_hashtags', 'len_links',\n",
       "       'media', 'tw_count_at', 'tw_count_capital_words', 'tw_count_char',\n",
       "       'tw_count_excl_quest_marks', 'tw_count_special1', 'tw_count_words',\n",
       "       'tw_last_quest', 'tw_len_gif', 'tw_len_media', 'tw_len_photo',\n",
       "       'tw_len_quest', 'tw_len_retweet', 'tw_len_rt', 'tw_len_token',\n",
       "       'tw_len_video', 'tweet_type'], dtype='<U84')"
      ]
     },
     "execution_count": 12,
     "metadata": {},
     "output_type": "execute_result"
    }
   ],
   "source": [
    "Y_train = train[label_names]\n",
    "Y_train, = dask.persist(Y_train)\n",
    "Y_train.head()    \n",
    "    \n",
    "train = train.drop(['tweet_id']+label_names,axis=1)\n",
    "train, = dask.persist(train)\n",
    "train.head()\n",
    "\n",
    "\n",
    "features = [c for c in train.columns if c not in DONT_USE]\n",
    "print('Using %i features:'%(len(features)),train.shape[1])\n",
    "np.asarray(features)"
   ]
  },
  {
   "cell_type": "code",
   "execution_count": 13,
   "id": "silent-debut",
   "metadata": {},
   "outputs": [
    {
     "name": "stdout",
     "output_type": "stream",
     "text": [
      "XGB Version 1.1.0\n"
     ]
    }
   ],
   "source": [
    "import xgboost as xgb\n",
    "print('XGB Version',xgb.__version__)\n",
    "\n",
    "xgb_parms = { \n",
    "    'max_depth':8, \n",
    "    'learning_rate':0.1, \n",
    "    'subsample':0.8,\n",
    "    'colsample_bytree':0.3, \n",
    "    'eval_metric':'logloss',\n",
    "    'objective':'binary:logistic',\n",
    "    'tree_method':'gpu_hist',\n",
    "    'predictor' : 'gpu_predictor'\n",
    "}"
   ]
  },
  {
   "cell_type": "code",
   "execution_count": 14,
   "id": "dense-introduction",
   "metadata": {},
   "outputs": [
    {
     "data": {
      "text/html": [
       "<div>\n",
       "<style scoped>\n",
       "    .dataframe tbody tr th:only-of-type {\n",
       "        vertical-align: middle;\n",
       "    }\n",
       "\n",
       "    .dataframe tbody tr th {\n",
       "        vertical-align: top;\n",
       "    }\n",
       "\n",
       "    .dataframe thead th {\n",
       "        text-align: right;\n",
       "    }\n",
       "</style>\n",
       "<table border=\"1\" class=\"dataframe\">\n",
       "  <thead>\n",
       "    <tr style=\"text-align: right;\">\n",
       "      <th></th>\n",
       "      <th>TE_a_user_id_like</th>\n",
       "      <th>TE_a_user_id_reply</th>\n",
       "      <th>TE_a_user_id_retweet</th>\n",
       "      <th>TE_a_user_id_retweet_comment</th>\n",
       "      <th>TE_b_is_verified_tweet_type_like</th>\n",
       "      <th>TE_b_is_verified_tweet_type_reply</th>\n",
       "      <th>TE_b_is_verified_tweet_type_retweet</th>\n",
       "      <th>TE_b_is_verified_tweet_type_retweet_comment</th>\n",
       "      <th>TE_b_user_id_a_user_id_like</th>\n",
       "      <th>TE_b_user_id_a_user_id_reply</th>\n",
       "      <th>...</th>\n",
       "      <th>tw_last_quest</th>\n",
       "      <th>tw_len_gif</th>\n",
       "      <th>tw_len_media</th>\n",
       "      <th>tw_len_photo</th>\n",
       "      <th>tw_len_quest</th>\n",
       "      <th>tw_len_retweet</th>\n",
       "      <th>tw_len_rt</th>\n",
       "      <th>tw_len_token</th>\n",
       "      <th>tw_len_video</th>\n",
       "      <th>tweet_type</th>\n",
       "    </tr>\n",
       "  </thead>\n",
       "  <tbody>\n",
       "    <tr>\n",
       "      <th>2</th>\n",
       "      <td>0.397</td>\n",
       "      <td>0.016</td>\n",
       "      <td>0.121</td>\n",
       "      <td>0.001</td>\n",
       "      <td>0.485</td>\n",
       "      <td>0.040</td>\n",
       "      <td>0.078</td>\n",
       "      <td>0.008</td>\n",
       "      <td>0.479</td>\n",
       "      <td>0.021</td>\n",
       "      <td>...</td>\n",
       "      <td>0</td>\n",
       "      <td>1</td>\n",
       "      <td>1</td>\n",
       "      <td>0</td>\n",
       "      <td>0</td>\n",
       "      <td>0</td>\n",
       "      <td>0</td>\n",
       "      <td>40</td>\n",
       "      <td>0</td>\n",
       "      <td>0</td>\n",
       "    </tr>\n",
       "    <tr>\n",
       "      <th>3</th>\n",
       "      <td>0.725</td>\n",
       "      <td>0.012</td>\n",
       "      <td>0.063</td>\n",
       "      <td>0.013</td>\n",
       "      <td>0.485</td>\n",
       "      <td>0.040</td>\n",
       "      <td>0.078</td>\n",
       "      <td>0.008</td>\n",
       "      <td>0.518</td>\n",
       "      <td>0.023</td>\n",
       "      <td>...</td>\n",
       "      <td>0</td>\n",
       "      <td>0</td>\n",
       "      <td>0</td>\n",
       "      <td>0</td>\n",
       "      <td>0</td>\n",
       "      <td>0</td>\n",
       "      <td>0</td>\n",
       "      <td>40</td>\n",
       "      <td>0</td>\n",
       "      <td>0</td>\n",
       "    </tr>\n",
       "    <tr>\n",
       "      <th>4</th>\n",
       "      <td>0.397</td>\n",
       "      <td>0.057</td>\n",
       "      <td>0.072</td>\n",
       "      <td>0.002</td>\n",
       "      <td>0.485</td>\n",
       "      <td>0.040</td>\n",
       "      <td>0.078</td>\n",
       "      <td>0.008</td>\n",
       "      <td>0.546</td>\n",
       "      <td>0.115</td>\n",
       "      <td>...</td>\n",
       "      <td>0</td>\n",
       "      <td>0</td>\n",
       "      <td>0</td>\n",
       "      <td>0</td>\n",
       "      <td>0</td>\n",
       "      <td>0</td>\n",
       "      <td>0</td>\n",
       "      <td>34</td>\n",
       "      <td>0</td>\n",
       "      <td>0</td>\n",
       "    </tr>\n",
       "    <tr>\n",
       "      <th>5</th>\n",
       "      <td>0.397</td>\n",
       "      <td>0.032</td>\n",
       "      <td>0.022</td>\n",
       "      <td>0.002</td>\n",
       "      <td>0.485</td>\n",
       "      <td>0.040</td>\n",
       "      <td>0.078</td>\n",
       "      <td>0.008</td>\n",
       "      <td>0.452</td>\n",
       "      <td>0.026</td>\n",
       "      <td>...</td>\n",
       "      <td>0</td>\n",
       "      <td>0</td>\n",
       "      <td>0</td>\n",
       "      <td>0</td>\n",
       "      <td>0</td>\n",
       "      <td>0</td>\n",
       "      <td>0</td>\n",
       "      <td>2</td>\n",
       "      <td>0</td>\n",
       "      <td>0</td>\n",
       "    </tr>\n",
       "    <tr>\n",
       "      <th>6</th>\n",
       "      <td>0.397</td>\n",
       "      <td>0.034</td>\n",
       "      <td>0.260</td>\n",
       "      <td>0.002</td>\n",
       "      <td>0.247</td>\n",
       "      <td>0.006</td>\n",
       "      <td>0.113</td>\n",
       "      <td>0.006</td>\n",
       "      <td>0.345</td>\n",
       "      <td>0.025</td>\n",
       "      <td>...</td>\n",
       "      <td>0</td>\n",
       "      <td>0</td>\n",
       "      <td>3</td>\n",
       "      <td>3</td>\n",
       "      <td>0</td>\n",
       "      <td>0</td>\n",
       "      <td>0</td>\n",
       "      <td>24</td>\n",
       "      <td>0</td>\n",
       "      <td>1</td>\n",
       "    </tr>\n",
       "  </tbody>\n",
       "</table>\n",
       "<p>5 rows × 84 columns</p>\n",
       "</div>"
      ],
      "text/plain": [
       "   TE_a_user_id_like  TE_a_user_id_reply  TE_a_user_id_retweet  \\\n",
       "2              0.397               0.016                 0.121   \n",
       "3              0.725               0.012                 0.063   \n",
       "4              0.397               0.057                 0.072   \n",
       "5              0.397               0.032                 0.022   \n",
       "6              0.397               0.034                 0.260   \n",
       "\n",
       "   TE_a_user_id_retweet_comment  TE_b_is_verified_tweet_type_like  \\\n",
       "2                         0.001                             0.485   \n",
       "3                         0.013                             0.485   \n",
       "4                         0.002                             0.485   \n",
       "5                         0.002                             0.485   \n",
       "6                         0.002                             0.247   \n",
       "\n",
       "   TE_b_is_verified_tweet_type_reply  TE_b_is_verified_tweet_type_retweet  \\\n",
       "2                              0.040                                0.078   \n",
       "3                              0.040                                0.078   \n",
       "4                              0.040                                0.078   \n",
       "5                              0.040                                0.078   \n",
       "6                              0.006                                0.113   \n",
       "\n",
       "   TE_b_is_verified_tweet_type_retweet_comment  TE_b_user_id_a_user_id_like  \\\n",
       "2                                        0.008                        0.479   \n",
       "3                                        0.008                        0.518   \n",
       "4                                        0.008                        0.546   \n",
       "5                                        0.008                        0.452   \n",
       "6                                        0.006                        0.345   \n",
       "\n",
       "   TE_b_user_id_a_user_id_reply  ...  tw_last_quest  tw_len_gif  tw_len_media  \\\n",
       "2                         0.021  ...              0           1             1   \n",
       "3                         0.023  ...              0           0             0   \n",
       "4                         0.115  ...              0           0             0   \n",
       "5                         0.026  ...              0           0             0   \n",
       "6                         0.025  ...              0           0             3   \n",
       "\n",
       "   tw_len_photo  tw_len_quest  tw_len_retweet  tw_len_rt  tw_len_token  \\\n",
       "2             0             0               0          0            40   \n",
       "3             0             0               0          0            40   \n",
       "4             0             0               0          0            34   \n",
       "5             0             0               0          0             2   \n",
       "6             3             0               0          0            24   \n",
       "\n",
       "   tw_len_video  tweet_type  \n",
       "2             0           0  \n",
       "3             0           0  \n",
       "4             0           0  \n",
       "5             0           0  \n",
       "6             0           1  \n",
       "\n",
       "[5 rows x 84 columns]"
      ]
     },
     "execution_count": 14,
     "metadata": {},
     "output_type": "execute_result"
    }
   ],
   "source": [
    "for col in train.columns:\n",
    "    if train[col].dtype=='bool':\n",
    "        train[col] = train[col].astype('int8')\n",
    "train, = dask.persist(train)\n",
    "train.head()"
   ]
  },
  {
   "cell_type": "code",
   "execution_count": 15,
   "id": "reverse-guinea",
   "metadata": {},
   "outputs": [],
   "source": [
    "import pickle"
   ]
  },
  {
   "cell_type": "code",
   "execution_count": 16,
   "id": "continent-special",
   "metadata": {},
   "outputs": [],
   "source": [
    "models_index = [0,1,2,3]"
   ]
  },
  {
   "cell_type": "code",
   "execution_count": 17,
   "id": "numeric-performance",
   "metadata": {},
   "outputs": [],
   "source": [
    "def get_colnames(train, name):\n",
    "    cols = list(train.columns)\n",
    "    cols = [col for col in cols if 'NN_' not in col and col!='group' and cols!='quantile']\n",
    "    cols = [x for x in cols if ('TE_' in x and 'a_user_id' in x and name in x) or 'TE_' not in x or ('TE_' in x and 'a_user_id' not in x)]\n",
    "    cols = cols + [x for x in train.columns if x not in cols and 'TE_switch_' in x]\n",
    "    return(cols)"
   ]
  },
  {
   "cell_type": "code",
   "execution_count": 18,
   "id": "heavy-volume",
   "metadata": {},
   "outputs": [
    {
     "name": "stdout",
     "output_type": "stream",
     "text": [
      "#########################\n",
      "### reply\n",
      "#########################\n",
      "Creating DMatrix...\n",
      "Took 4.0 seconds\n",
      "77\n",
      "['TE_a_user_id_reply', 'TE_b_is_verified_tweet_type_like', 'TE_b_is_verified_tweet_type_reply', 'TE_b_is_verified_tweet_type_retweet', 'TE_b_is_verified_tweet_type_retweet_comment', 'TE_b_user_id_a_user_id_reply', 'TE_b_user_id_like', 'TE_b_user_id_reply', 'TE_b_user_id_retweet', 'TE_b_user_id_retweet_comment', 'TE_b_user_id_tweet_type_language_like', 'TE_b_user_id_tweet_type_language_reply', 'TE_b_user_id_tweet_type_language_retweet', 'TE_b_user_id_tweet_type_language_retweet_comment', 'TE_domains_language_b_follows_a_tweet_type_media_a_is_verified_like', 'TE_domains_language_b_follows_a_tweet_type_media_a_is_verified_reply', 'TE_domains_language_b_follows_a_tweet_type_media_a_is_verified_retweet', 'TE_domains_language_b_follows_a_tweet_type_media_a_is_verified_retweet_comment', 'TE_media_tweet_type_language_a_is_verified_b_is_verified_b_follows_a_like', 'TE_media_tweet_type_language_a_is_verified_b_is_verified_b_follows_a_reply', 'TE_media_tweet_type_language_a_is_verified_b_is_verified_b_follows_a_retweet', 'TE_media_tweet_type_language_a_is_verified_b_is_verified_b_follows_a_retweet_comment', 'TE_media_tweet_type_language_like', 'TE_media_tweet_type_language_reply', 'TE_media_tweet_type_language_retweet', 'TE_media_tweet_type_language_retweet_comment', 'TE_switch_b_user_id_like', 'TE_switch_b_user_id_reply', 'TE_switch_b_user_id_retweet', 'TE_switch_b_user_id_retweet_comment', 'TE_tw_original_user0_tweet_type_language_like', 'TE_tw_original_user0_tweet_type_language_reply', 'TE_tw_original_user0_tweet_type_language_retweet', 'TE_tw_original_user0_tweet_type_language_retweet_comment', 'TE_tw_original_user1_tweet_type_language_like', 'TE_tw_original_user1_tweet_type_language_reply', 'TE_tw_original_user1_tweet_type_language_retweet', 'TE_tw_original_user1_tweet_type_language_retweet_comment', 'TE_tweet_type_like', 'TE_tweet_type_reply', 'TE_tweet_type_retweet', 'TE_tweet_type_retweet_comment', 'a_ff_rate', 'a_follower_count', 'a_following_count', 'a_is_verified', 'ab_age_dff', 'ab_age_rate', 'ab_fer_rate', 'ab_fing_rate', 'b_ff_rate', 'b_follower_count', 'b_following_count', 'b_follows_a', 'b_is_verified', 'dt_hour', 'language', 'len_domains', 'len_hashtags', 'len_links', 'media', 'tw_count_at', 'tw_count_capital_words', 'tw_count_char', 'tw_count_excl_quest_marks', 'tw_count_special1', 'tw_count_words', 'tw_last_quest', 'tw_len_gif', 'tw_len_media', 'tw_len_photo', 'tw_len_quest', 'tw_len_retweet', 'tw_len_rt', 'tw_len_token', 'tw_len_video', 'tweet_type']\n",
      "Training...\n",
      "Took 114.4 seconds\n",
      "0000 valid-logloss:0.60824\n",
      "0050 valid-logloss:0.09544\n",
      "0100 valid-logloss:0.09236\n",
      "0150 valid-logloss:0.09170\n",
      "0200 valid-logloss:0.09128\n",
      "0250 valid-logloss:0.09098\n",
      "0300 valid-logloss:0.09073\n",
      "0350 valid-logloss:0.09051\n",
      "0400 valid-logloss:0.09031\n",
      "0450 valid-logloss:0.09012\n",
      "0500 valid-logloss:0.08994\n",
      "0550 valid-logloss:0.08976\n",
      "0600 valid-logloss:0.08959\n",
      "Predicting...\n",
      "Took 0.4 seconds\n",
      "#########################\n",
      "### retweet\n",
      "#########################\n",
      "Creating DMatrix...\n",
      "Took 27.2 seconds\n",
      "79\n",
      "['TE_a_user_id_retweet', 'TE_a_user_id_retweet_comment', 'TE_b_is_verified_tweet_type_like', 'TE_b_is_verified_tweet_type_reply', 'TE_b_is_verified_tweet_type_retweet', 'TE_b_is_verified_tweet_type_retweet_comment', 'TE_b_user_id_a_user_id_retweet', 'TE_b_user_id_a_user_id_retweet_comment', 'TE_b_user_id_like', 'TE_b_user_id_reply', 'TE_b_user_id_retweet', 'TE_b_user_id_retweet_comment', 'TE_b_user_id_tweet_type_language_like', 'TE_b_user_id_tweet_type_language_reply', 'TE_b_user_id_tweet_type_language_retweet', 'TE_b_user_id_tweet_type_language_retweet_comment', 'TE_domains_language_b_follows_a_tweet_type_media_a_is_verified_like', 'TE_domains_language_b_follows_a_tweet_type_media_a_is_verified_reply', 'TE_domains_language_b_follows_a_tweet_type_media_a_is_verified_retweet', 'TE_domains_language_b_follows_a_tweet_type_media_a_is_verified_retweet_comment', 'TE_media_tweet_type_language_a_is_verified_b_is_verified_b_follows_a_like', 'TE_media_tweet_type_language_a_is_verified_b_is_verified_b_follows_a_reply', 'TE_media_tweet_type_language_a_is_verified_b_is_verified_b_follows_a_retweet', 'TE_media_tweet_type_language_a_is_verified_b_is_verified_b_follows_a_retweet_comment', 'TE_media_tweet_type_language_like', 'TE_media_tweet_type_language_reply', 'TE_media_tweet_type_language_retweet', 'TE_media_tweet_type_language_retweet_comment', 'TE_switch_b_user_id_like', 'TE_switch_b_user_id_reply', 'TE_switch_b_user_id_retweet', 'TE_switch_b_user_id_retweet_comment', 'TE_tw_original_user0_tweet_type_language_like', 'TE_tw_original_user0_tweet_type_language_reply', 'TE_tw_original_user0_tweet_type_language_retweet', 'TE_tw_original_user0_tweet_type_language_retweet_comment', 'TE_tw_original_user1_tweet_type_language_like', 'TE_tw_original_user1_tweet_type_language_reply', 'TE_tw_original_user1_tweet_type_language_retweet', 'TE_tw_original_user1_tweet_type_language_retweet_comment', 'TE_tweet_type_like', 'TE_tweet_type_reply', 'TE_tweet_type_retweet', 'TE_tweet_type_retweet_comment', 'a_ff_rate', 'a_follower_count', 'a_following_count', 'a_is_verified', 'ab_age_dff', 'ab_age_rate', 'ab_fer_rate', 'ab_fing_rate', 'b_ff_rate', 'b_follower_count', 'b_following_count', 'b_follows_a', 'b_is_verified', 'dt_hour', 'language', 'len_domains', 'len_hashtags', 'len_links', 'media', 'tw_count_at', 'tw_count_capital_words', 'tw_count_char', 'tw_count_excl_quest_marks', 'tw_count_special1', 'tw_count_words', 'tw_last_quest', 'tw_len_gif', 'tw_len_media', 'tw_len_photo', 'tw_len_quest', 'tw_len_retweet', 'tw_len_rt', 'tw_len_token', 'tw_len_video', 'tweet_type']\n",
      "Training...\n",
      "Took 161.1 seconds\n",
      "0000 valid-logloss:0.62318\n",
      "0050 valid-logloss:0.20889\n",
      "0100 valid-logloss:0.20383\n",
      "0150 valid-logloss:0.20213\n",
      "0200 valid-logloss:0.20119\n",
      "0250 valid-logloss:0.20051\n",
      "0300 valid-logloss:0.20000\n",
      "0350 valid-logloss:0.19959\n",
      "0400 valid-logloss:0.19923\n",
      "0450 valid-logloss:0.19888\n",
      "0500 valid-logloss:0.19857\n",
      "0550 valid-logloss:0.19825\n",
      "0600 valid-logloss:0.19799\n",
      "0650 valid-logloss:0.19775\n",
      "0700 valid-logloss:0.19751\n",
      "0750 valid-logloss:0.19726\n",
      "0800 valid-logloss:0.19701\n",
      "0850 valid-logloss:0.19677\n",
      "0900 valid-logloss:0.19657\n",
      "0950 valid-logloss:0.19635\n",
      "Predicting...\n",
      "Took 0.6 seconds\n",
      "#########################\n",
      "### retweet_comment\n",
      "#########################\n",
      "Creating DMatrix...\n",
      "Took 43.1 seconds\n",
      "77\n",
      "['TE_a_user_id_retweet_comment', 'TE_b_is_verified_tweet_type_like', 'TE_b_is_verified_tweet_type_reply', 'TE_b_is_verified_tweet_type_retweet', 'TE_b_is_verified_tweet_type_retweet_comment', 'TE_b_user_id_a_user_id_retweet_comment', 'TE_b_user_id_like', 'TE_b_user_id_reply', 'TE_b_user_id_retweet', 'TE_b_user_id_retweet_comment', 'TE_b_user_id_tweet_type_language_like', 'TE_b_user_id_tweet_type_language_reply', 'TE_b_user_id_tweet_type_language_retweet', 'TE_b_user_id_tweet_type_language_retweet_comment', 'TE_domains_language_b_follows_a_tweet_type_media_a_is_verified_like', 'TE_domains_language_b_follows_a_tweet_type_media_a_is_verified_reply', 'TE_domains_language_b_follows_a_tweet_type_media_a_is_verified_retweet', 'TE_domains_language_b_follows_a_tweet_type_media_a_is_verified_retweet_comment', 'TE_media_tweet_type_language_a_is_verified_b_is_verified_b_follows_a_like', 'TE_media_tweet_type_language_a_is_verified_b_is_verified_b_follows_a_reply', 'TE_media_tweet_type_language_a_is_verified_b_is_verified_b_follows_a_retweet', 'TE_media_tweet_type_language_a_is_verified_b_is_verified_b_follows_a_retweet_comment', 'TE_media_tweet_type_language_like', 'TE_media_tweet_type_language_reply', 'TE_media_tweet_type_language_retweet', 'TE_media_tweet_type_language_retweet_comment', 'TE_switch_b_user_id_like', 'TE_switch_b_user_id_reply', 'TE_switch_b_user_id_retweet', 'TE_switch_b_user_id_retweet_comment', 'TE_tw_original_user0_tweet_type_language_like', 'TE_tw_original_user0_tweet_type_language_reply', 'TE_tw_original_user0_tweet_type_language_retweet', 'TE_tw_original_user0_tweet_type_language_retweet_comment', 'TE_tw_original_user1_tweet_type_language_like', 'TE_tw_original_user1_tweet_type_language_reply', 'TE_tw_original_user1_tweet_type_language_retweet', 'TE_tw_original_user1_tweet_type_language_retweet_comment', 'TE_tweet_type_like', 'TE_tweet_type_reply', 'TE_tweet_type_retweet', 'TE_tweet_type_retweet_comment', 'a_ff_rate', 'a_follower_count', 'a_following_count', 'a_is_verified', 'ab_age_dff', 'ab_age_rate', 'ab_fer_rate', 'ab_fing_rate', 'b_ff_rate', 'b_follower_count', 'b_following_count', 'b_follows_a', 'b_is_verified', 'dt_hour', 'language', 'len_domains', 'len_hashtags', 'len_links', 'media', 'tw_count_at', 'tw_count_capital_words', 'tw_count_char', 'tw_count_excl_quest_marks', 'tw_count_special1', 'tw_count_words', 'tw_last_quest', 'tw_len_gif', 'tw_len_media', 'tw_len_photo', 'tw_len_quest', 'tw_len_retweet', 'tw_len_rt', 'tw_len_token', 'tw_len_video', 'tweet_type']\n",
      "Training...\n"
     ]
    },
    {
     "name": "stdout",
     "output_type": "stream",
     "text": [
      "Took 81.8 seconds\n",
      "0000 valid-logloss:0.60070\n",
      "0050 valid-logloss:0.03555\n",
      "0100 valid-logloss:0.03326\n",
      "0150 valid-logloss:0.03288\n",
      "0200 valid-logloss:0.03264\n",
      "0250 valid-logloss:0.03245\n",
      "0300 valid-logloss:0.03229\n",
      "0350 valid-logloss:0.03216\n",
      "0400 valid-logloss:0.03202\n",
      "0450 valid-logloss:0.03189\n",
      "Predicting...\n",
      "Took 0.3 seconds\n",
      "#########################\n",
      "### like\n",
      "#########################\n",
      "Creating DMatrix...\n",
      "Took 32.1 seconds\n",
      "77\n",
      "['TE_a_user_id_like', 'TE_b_is_verified_tweet_type_like', 'TE_b_is_verified_tweet_type_reply', 'TE_b_is_verified_tweet_type_retweet', 'TE_b_is_verified_tweet_type_retweet_comment', 'TE_b_user_id_a_user_id_like', 'TE_b_user_id_like', 'TE_b_user_id_reply', 'TE_b_user_id_retweet', 'TE_b_user_id_retweet_comment', 'TE_b_user_id_tweet_type_language_like', 'TE_b_user_id_tweet_type_language_reply', 'TE_b_user_id_tweet_type_language_retweet', 'TE_b_user_id_tweet_type_language_retweet_comment', 'TE_domains_language_b_follows_a_tweet_type_media_a_is_verified_like', 'TE_domains_language_b_follows_a_tweet_type_media_a_is_verified_reply', 'TE_domains_language_b_follows_a_tweet_type_media_a_is_verified_retweet', 'TE_domains_language_b_follows_a_tweet_type_media_a_is_verified_retweet_comment', 'TE_media_tweet_type_language_a_is_verified_b_is_verified_b_follows_a_like', 'TE_media_tweet_type_language_a_is_verified_b_is_verified_b_follows_a_reply', 'TE_media_tweet_type_language_a_is_verified_b_is_verified_b_follows_a_retweet', 'TE_media_tweet_type_language_a_is_verified_b_is_verified_b_follows_a_retweet_comment', 'TE_media_tweet_type_language_like', 'TE_media_tweet_type_language_reply', 'TE_media_tweet_type_language_retweet', 'TE_media_tweet_type_language_retweet_comment', 'TE_switch_b_user_id_like', 'TE_switch_b_user_id_reply', 'TE_switch_b_user_id_retweet', 'TE_switch_b_user_id_retweet_comment', 'TE_tw_original_user0_tweet_type_language_like', 'TE_tw_original_user0_tweet_type_language_reply', 'TE_tw_original_user0_tweet_type_language_retweet', 'TE_tw_original_user0_tweet_type_language_retweet_comment', 'TE_tw_original_user1_tweet_type_language_like', 'TE_tw_original_user1_tweet_type_language_reply', 'TE_tw_original_user1_tweet_type_language_retweet', 'TE_tw_original_user1_tweet_type_language_retweet_comment', 'TE_tweet_type_like', 'TE_tweet_type_reply', 'TE_tweet_type_retweet', 'TE_tweet_type_retweet_comment', 'a_ff_rate', 'a_follower_count', 'a_following_count', 'a_is_verified', 'ab_age_dff', 'ab_age_rate', 'ab_fer_rate', 'ab_fing_rate', 'b_ff_rate', 'b_follower_count', 'b_following_count', 'b_follows_a', 'b_is_verified', 'dt_hour', 'language', 'len_domains', 'len_hashtags', 'len_links', 'media', 'tw_count_at', 'tw_count_capital_words', 'tw_count_char', 'tw_count_excl_quest_marks', 'tw_count_special1', 'tw_count_words', 'tw_last_quest', 'tw_len_gif', 'tw_len_media', 'tw_len_photo', 'tw_len_quest', 'tw_len_retweet', 'tw_len_rt', 'tw_len_token', 'tw_len_video', 'tweet_type']\n",
      "Training...\n",
      "Took 89.7 seconds\n",
      "0000 valid-logloss:0.67796\n",
      "0050 valid-logloss:0.50877\n",
      "0100 valid-logloss:0.49783\n",
      "0150 valid-logloss:0.49397\n",
      "0200 valid-logloss:0.49193\n",
      "0250 valid-logloss:0.49052\n",
      "0300 valid-logloss:0.48948\n",
      "0350 valid-logloss:0.48857\n",
      "0400 valid-logloss:0.48779\n",
      "0450 valid-logloss:0.48718\n",
      "Predicting...\n",
      "Took 0.4 seconds\n",
      "CPU times: user 28.6 s, sys: 12.8 s, total: 41.4 s\n",
      "Wall time: 9min 15s\n"
     ]
    }
   ],
   "source": [
    "%%time\n",
    "# TRAIN AND VALIDATE\n",
    "\n",
    "NROUND = [[642], [998], [479], [483]]\n",
    "VERBOSE_EVAL = 50\n",
    "ESR = 50\n",
    "preds_out = []\n",
    "\n",
    "    \n",
    "for i in models_index:\n",
    "    name = label_names[i]\n",
    "    print('#'*25);print('###',name);print('#'*25)\n",
    "    cols = get_colnames(train, name)  \n",
    "    start = time.time(); print('Creating DMatrix...')\n",
    "    dtrain = xgb.dask.DaskDMatrix(client,data=train[cols].values,label=Y_train.iloc[:, i])\n",
    "    print('Took %.1f seconds'%(time.time()-start))\n",
    "    print(len(cols))\n",
    "    print(cols)\n",
    "    xgb_parms['seed'] = 0\n",
    "    start = time.time(); print('Training...')\n",
    "    model = xgb.dask.train(client, xgb_parms, \n",
    "                           dtrain=dtrain,\n",
    "                           evals=[(dtrain,'valid')],\n",
    "                           num_boost_round=NROUND[i][0],\n",
    "                           verbose_eval=VERBOSE_EVAL\n",
    "                          ) \n",
    "    print('Took %.1f seconds'%(time.time()-start))\n",
    "    logloss_valid = model[\"history\"]['valid']['logloss'][::VERBOSE_EVAL]\n",
    "    for ik in range(len(logloss_valid)):\n",
    "        print(f\"{str(VERBOSE_EVAL*ik).zfill(4)} valid-logloss:{logloss_valid[ik]:.5f}\")\n",
    "\n",
    "    start = time.time(); print('Predicting...')\n",
    "    pickle.dump(model, open('model_' + str(name) + '.pickle', 'wb'))\n",
    "    print('Took %.1f seconds'%(time.time()-start))"
   ]
  },
  {
   "cell_type": "code",
   "execution_count": 19,
   "id": "varied-acoustic",
   "metadata": {},
   "outputs": [],
   "source": [
    "client.close()"
   ]
  },
  {
   "cell_type": "code",
   "execution_count": 20,
   "id": "developed-intent",
   "metadata": {},
   "outputs": [],
   "source": [
    "files = glob.glob('./model_*.pickle')\n",
    "files = [x for x in files if '_valid' not in x and '_pred' not in x]"
   ]
  },
  {
   "cell_type": "code",
   "execution_count": 21,
   "id": "cellular-yacht",
   "metadata": {},
   "outputs": [
    {
     "data": {
      "text/plain": [
       "(4,\n",
       " ['./model_retweet_comment.pickle',\n",
       "  './model_retweet.pickle',\n",
       "  './model_like.pickle',\n",
       "  './model_reply.pickle'])"
      ]
     },
     "execution_count": 21,
     "metadata": {},
     "output_type": "execute_result"
    }
   ],
   "source": [
    "len(files), files"
   ]
  },
  {
   "cell_type": "code",
   "execution_count": 22,
   "id": "retained-concentrate",
   "metadata": {},
   "outputs": [
    {
     "name": "stdout",
     "output_type": "stream",
     "text": [
      "/bin/bash: /opt/conda/lib/libtinfo.so.6: no version information available (required by /bin/bash)\n",
      "rm: cannot remove './models/': No such file or directory\n",
      "/bin/bash: /opt/conda/lib/libtinfo.so.6: no version information available (required by /bin/bash)\n"
     ]
    }
   ],
   "source": [
    "import os\n",
    "\n",
    "!rm ./models/\n",
    "!mkdir ./models/\n",
    "for file in files:\n",
    "    os.system('mv ' + file + ' ./models/')"
   ]
  },
  {
   "cell_type": "code",
   "execution_count": 23,
   "id": "naughty-magnet",
   "metadata": {},
   "outputs": [
    {
     "name": "stdout",
     "output_type": "stream",
     "text": [
      "/bin/bash: /opt/conda/lib/libtinfo.so.6: no version information available (required by /bin/bash)\r\n",
      "model_like.pickle   model_retweet.pickle\r\n",
      "model_reply.pickle  model_retweet_comment.pickle\r\n"
     ]
    }
   ],
   "source": [
    "!ls ./models/"
   ]
  },
  {
   "cell_type": "code",
   "execution_count": 24,
   "id": "announced-apparatus",
   "metadata": {},
   "outputs": [
    {
     "name": "stdout",
     "output_type": "stream",
     "text": [
      "/bin/bash: /opt/conda/lib/libtinfo.so.6: no version information available (required by /bin/bash)\r\n",
      "rm: cannot remove 'models.zip': No such file or directory\r\n"
     ]
    }
   ],
   "source": [
    "!rm models.zip"
   ]
  },
  {
   "cell_type": "code",
   "execution_count": 25,
   "id": "steady-disclosure",
   "metadata": {},
   "outputs": [
    {
     "name": "stdout",
     "output_type": "stream",
     "text": [
      "/bin/bash: /opt/conda/lib/libtinfo.so.6: no version information available (required by /bin/bash)\n",
      "  adding: models/ (stored 0%)\n",
      "  adding: models/model_retweet_comment.pickle (deflated 50%)\n",
      "  adding: models/model_retweet.pickle (deflated 50%)\n",
      "  adding: models/model_like.pickle (deflated 50%)\n",
      "  adding: models/model_reply.pickle (deflated 50%)\n"
     ]
    }
   ],
   "source": [
    "!zip -r models.zip models"
   ]
  },
  {
   "cell_type": "code",
   "execution_count": 26,
   "id": "chronic-dryer",
   "metadata": {},
   "outputs": [],
   "source": [
    "client.close()"
   ]
  },
  {
   "cell_type": "code",
   "execution_count": null,
   "id": "banner-procedure",
   "metadata": {},
   "outputs": [],
   "source": []
  }
 ],
 "metadata": {
  "kernelspec": {
   "display_name": "Python 3 (ipykernel)",
   "language": "python",
   "name": "python3"
  },
  "language_info": {
   "codemirror_mode": {
    "name": "ipython",
    "version": 3
   },
   "file_extension": ".py",
   "mimetype": "text/x-python",
   "name": "python",
   "nbconvert_exporter": "python",
   "pygments_lexer": "ipython3",
   "version": "3.8.10"
  }
 },
 "nbformat": 4,
 "nbformat_minor": 5
}
